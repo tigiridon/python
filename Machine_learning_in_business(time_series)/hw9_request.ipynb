{
 "cells": [
  {
   "cell_type": "markdown",
   "metadata": {},
   "source": [
    "######## From SAV to LOVE"
   ]
  },
  {
   "cell_type": "code",
   "execution_count": 1,
   "metadata": {
    "id": "hcSSAkSJCed4"
   },
   "outputs": [],
   "source": [
    "import requests"
   ]
  },
  {
   "cell_type": "code",
   "execution_count": 18,
   "metadata": {
    "colab": {
     "base_uri": "https://localhost:8080/"
    },
    "id": "28vlfhXWC1Tk",
    "outputId": "e7354dc3-8161-4fb9-88bf-7b8e201c1518"
   },
   "outputs": [
    {
     "name": "stdout",
     "output_type": "stream",
     "text": [
      "{'ID': 1, 'LicAge': 450, 'driver_minage_m': 23, 'RecordBeg': '2004-01-01', 'RecordEnd': '', 'VehAge': '', 'Gender': 'Male', 'MariStat': 'Other', 'SocioCateg': 'CSP20', 'VehUsage': 'Private', 'DrivAge': 21, 'HasKmLimit': 0, 'BonusMalus': 97, 'OutUseNb': 0, 'RiskArea': 0}\n",
      "{'ID': 1, 'value_BurningCost': 301.7180688085624, 'value_Gamma': 874.7446496972118, 'value_Poisson': 0.3449213080788782}\n"
     ]
    }
   ],
   "source": [
    "# Пример данных\n",
    "data = {\n",
    "    \"ID\": 1,\n",
    "    \"LicAge\": 450,\n",
    "    'driver_minage_m':23,\n",
    "    \"RecordBeg\": \"2004-01-01\",\n",
    "    \"RecordEnd\": \"\",\n",
    "    \"VehAge\": \"\",\n",
    "    \"Gender\": \"Male\",\n",
    "    \"MariStat\": \"Other\",\n",
    "    \"SocioCateg\": \"CSP20\",\n",
    "    \"VehUsage\": \"Private\",\n",
    "    \"DrivAge\": 21,\n",
    "    \"HasKmLimit\": 0,\n",
    "    \"BonusMalus\": 97,\n",
    "    \"OutUseNb\": 0,\n",
    "    \"RiskArea\": 0\n",
    "}\n",
    "\n",
    "# формируем запрос\n",
    "def send_json(data):\n",
    "    url = 'http://31ba37d49717.ngrok.io/predict'\n",
    "    headers = {'content-type': 'application/json'}\n",
    "    print(data)\n",
    "    response = requests.post(url, json=data, headers=headers)\n",
    "    return response\n",
    "\n",
    "# обращение к серверу\n",
    "if __name__ == '__main__':\n",
    "    response = send_json(data)\n",
    "    print(response.json())"
   ]
  }
 ],
 "metadata": {
  "colab": {
   "name": "Request to HW9.ipynb",
   "provenance": []
  },
  "kernelspec": {
   "display_name": "Python 3",
   "language": "python",
   "name": "python3"
  }
 },
 "nbformat": 4,
 "nbformat_minor": 1
}
