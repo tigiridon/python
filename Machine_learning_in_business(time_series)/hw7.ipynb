{
 "cells": [
  {
   "cell_type": "code",
   "execution_count": null,
   "metadata": {},
   "outputs": [],
   "source": [
    "#From SAV to LOVE"
   ]
  },
  {
   "cell_type": "markdown",
   "metadata": {},
   "source": [
    "# HW7"
   ]
  },
  {
   "cell_type": "markdown",
   "metadata": {},
   "source": [
    "### 1.Построить обобщенную линейную модель (GLM) для прогнозирования наступления страховых случаев на рассмотренных в ноутбуке данных."
   ]
  },
  {
   "cell_type": "markdown",
   "metadata": {},
   "source": [
    "### 2.Подобрать необходимое распределение и тип связи, при необходимости ознакомиться с документацией H2O."
   ]
  },
  {
   "cell_type": "markdown",
   "metadata": {},
   "source": [
    "### 3. Придумать и использовать дополнительные факторы при построении модели (например, пересечения признаков или функции от них и т.д.)."
   ]
  },
  {
   "cell_type": "markdown",
   "metadata": {},
   "source": [
    "### 4. Оценить результаты построенной модели при помощи различных метрик (можно использовать и другие метрики помимо представленных в ноутбуке), проанализировать вероятные проблемы."
   ]
  },
  {
   "cell_type": "markdown",
   "metadata": {},
   "source": [
    "### 5.Предложить способы их решения и/или попробовать их решить, улучшив результат"
   ]
  },
  {
   "cell_type": "code",
   "execution_count": 1,
   "metadata": {
    "colab": {
     "base_uri": "https://localhost:8080/"
    },
    "id": "9SzF_VdQ8VRX",
    "outputId": "3e53a5f6-b32c-47d5-9ba7-a43d60baf3a7"
   },
   "outputs": [
    {
     "name": "stdout",
     "output_type": "stream",
     "text": [
      "Mounted at /content/drive\n"
     ]
    }
   ],
   "source": [
    "# Подключение к Google drive\n",
    "\n",
    "from google.colab import drive\n",
    "drive.mount('/content/drive')"
   ]
  },
  {
   "cell_type": "code",
   "execution_count": 2,
   "metadata": {
    "id": "Z2SFDkruKiap"
   },
   "outputs": [],
   "source": [
    "import numpy as np\n",
    "import pandas as pd\n",
    "import matplotlib.pyplot as plt"
   ]
  },
  {
   "cell_type": "code",
   "execution_count": 3,
   "metadata": {
    "id": "E4Le42ItKkcB"
   },
   "outputs": [],
   "source": [
    "PATH ='/content/drive/My Drive/gb/' "
   ]
  },
  {
   "cell_type": "code",
   "execution_count": 4,
   "metadata": {
    "id": "4YbgqmMdKuGJ"
   },
   "outputs": [],
   "source": [
    "# Загрузим набор данных\n",
    "\n",
    "df = pd.read_csv('freMPL-R.csv', low_memory=False)\n",
    "df = df.loc[df.Dataset.isin([5, 6, 7, 8, 9])]\n",
    "df.drop('Dataset', axis=1, inplace=True)\n",
    "df.dropna(axis=1, how='all', inplace=True)\n",
    "df.drop_duplicates(inplace=True)\n",
    "df.reset_index(drop=True, inplace=True)"
   ]
  },
  {
   "cell_type": "code",
   "execution_count": 6,
   "metadata": {
    "colab": {
     "base_uri": "https://localhost:8080/",
     "height": 215
    },
    "id": "O9b12_xBK0JB",
    "outputId": "85a19280-38ca-4d60-d0c2-f9e129af466c"
   },
   "outputs": [
    {
     "name": "stdout",
     "output_type": "stream",
     "text": [
      "Unique values of ClaimInd: [0]\n"
     ]
    },
    {
     "data": {
      "text/html": [
       "<div>\n",
       "<style scoped>\n",
       "    .dataframe tbody tr th:only-of-type {\n",
       "        vertical-align: middle;\n",
       "    }\n",
       "\n",
       "    .dataframe tbody tr th {\n",
       "        vertical-align: top;\n",
       "    }\n",
       "\n",
       "    .dataframe thead th {\n",
       "        text-align: right;\n",
       "    }\n",
       "</style>\n",
       "<table border=\"1\" class=\"dataframe\">\n",
       "  <thead>\n",
       "    <tr style=\"text-align: right;\">\n",
       "      <th></th>\n",
       "      <th>ClaimAmount</th>\n",
       "      <th>ClaimInd</th>\n",
       "    </tr>\n",
       "  </thead>\n",
       "  <tbody>\n",
       "    <tr>\n",
       "      <th>82</th>\n",
       "      <td>-74.206042</td>\n",
       "      <td>0</td>\n",
       "    </tr>\n",
       "    <tr>\n",
       "      <th>175</th>\n",
       "      <td>-1222.585196</td>\n",
       "      <td>0</td>\n",
       "    </tr>\n",
       "    <tr>\n",
       "      <th>177</th>\n",
       "      <td>-316.288822</td>\n",
       "      <td>0</td>\n",
       "    </tr>\n",
       "    <tr>\n",
       "      <th>363</th>\n",
       "      <td>-666.758610</td>\n",
       "      <td>0</td>\n",
       "    </tr>\n",
       "    <tr>\n",
       "      <th>375</th>\n",
       "      <td>-1201.600604</td>\n",
       "      <td>0</td>\n",
       "    </tr>\n",
       "  </tbody>\n",
       "</table>\n",
       "</div>"
      ],
      "text/plain": [
       "     ClaimAmount  ClaimInd\n",
       "82    -74.206042         0\n",
       "175 -1222.585196         0\n",
       "177  -316.288822         0\n",
       "363  -666.758610         0\n",
       "375 -1201.600604         0"
      ]
     },
     "execution_count": 6,
     "metadata": {
      "tags": []
     },
     "output_type": "execute_result"
    }
   ],
   "source": [
    "NegClaimAmount = df.loc[df.ClaimAmount < 0, ['ClaimAmount','ClaimInd']]\n",
    "print('Unique values of ClaimInd:', NegClaimAmount.ClaimInd.unique())\n",
    "NegClaimAmount.head()"
   ]
  },
  {
   "cell_type": "code",
   "execution_count": 8,
   "metadata": {
    "id": "5WmbG4JlLASB"
   },
   "outputs": [],
   "source": [
    "df.loc[df.ClaimAmount < 0, 'ClaimAmount'] = 0"
   ]
  },
  {
   "cell_type": "code",
   "execution_count": 9,
   "metadata": {
    "id": "HHugaVFHLCNA"
   },
   "outputs": [],
   "source": [
    "df['ClaimsCount'] = df.ClaimInd + df.ClaimNbResp + df.ClaimNbNonResp + df.ClaimNbParking + df.ClaimNbFireTheft + df.ClaimNbWindscreen\n",
    "df.loc[df.ClaimAmount == 0, 'ClaimsCount'] = 0\n",
    "df.drop([\"ClaimNbResp\", \"ClaimNbNonResp\", \"ClaimNbParking\", \"ClaimNbFireTheft\", \"ClaimNbWindscreen\"], axis=1, inplace=True)"
   ]
  },
  {
   "cell_type": "code",
   "execution_count": 10,
   "metadata": {
    "colab": {
     "base_uri": "https://localhost:8080/",
     "height": 377
    },
    "id": "rKodweLOLDiQ",
    "outputId": "645a4e6a-f295-478b-e4c9-fc71f7ee2ce2"
   },
   "outputs": [
    {
     "data": {
      "text/html": [
       "<div>\n",
       "<style scoped>\n",
       "    .dataframe tbody tr th:only-of-type {\n",
       "        vertical-align: middle;\n",
       "    }\n",
       "\n",
       "    .dataframe tbody tr th {\n",
       "        vertical-align: top;\n",
       "    }\n",
       "\n",
       "    .dataframe thead th {\n",
       "        text-align: right;\n",
       "    }\n",
       "</style>\n",
       "<table border=\"1\" class=\"dataframe\">\n",
       "  <thead>\n",
       "    <tr style=\"text-align: right;\">\n",
       "      <th></th>\n",
       "      <th>Policies</th>\n",
       "    </tr>\n",
       "  </thead>\n",
       "  <tbody>\n",
       "    <tr>\n",
       "      <th>0.0</th>\n",
       "      <td>104286</td>\n",
       "    </tr>\n",
       "    <tr>\n",
       "      <th>2.0</th>\n",
       "      <td>3529</td>\n",
       "    </tr>\n",
       "    <tr>\n",
       "      <th>1.0</th>\n",
       "      <td>3339</td>\n",
       "    </tr>\n",
       "    <tr>\n",
       "      <th>3.0</th>\n",
       "      <td>2310</td>\n",
       "    </tr>\n",
       "    <tr>\n",
       "      <th>4.0</th>\n",
       "      <td>1101</td>\n",
       "    </tr>\n",
       "    <tr>\n",
       "      <th>5.0</th>\n",
       "      <td>428</td>\n",
       "    </tr>\n",
       "    <tr>\n",
       "      <th>6.0</th>\n",
       "      <td>127</td>\n",
       "    </tr>\n",
       "    <tr>\n",
       "      <th>7.0</th>\n",
       "      <td>26</td>\n",
       "    </tr>\n",
       "    <tr>\n",
       "      <th>8.0</th>\n",
       "      <td>6</td>\n",
       "    </tr>\n",
       "    <tr>\n",
       "      <th>9.0</th>\n",
       "      <td>2</td>\n",
       "    </tr>\n",
       "    <tr>\n",
       "      <th>11.0</th>\n",
       "      <td>1</td>\n",
       "    </tr>\n",
       "  </tbody>\n",
       "</table>\n",
       "</div>"
      ],
      "text/plain": [
       "      Policies\n",
       "0.0     104286\n",
       "2.0       3529\n",
       "1.0       3339\n",
       "3.0       2310\n",
       "4.0       1101\n",
       "5.0        428\n",
       "6.0        127\n",
       "7.0         26\n",
       "8.0          6\n",
       "9.0          2\n",
       "11.0         1"
      ]
     },
     "execution_count": 10,
     "metadata": {
      "tags": []
     },
     "output_type": "execute_result"
    }
   ],
   "source": [
    "pd.DataFrame(df.ClaimsCount.value_counts()).rename({'ClaimsCount': 'Policies'}, axis=1)"
   ]
  },
  {
   "cell_type": "code",
   "execution_count": 11,
   "metadata": {
    "id": "GalpzBstLFo4"
   },
   "outputs": [],
   "source": [
    "df.loc[df.ClaimsCount > 0, 'AvgClaim'] = df['ClaimAmount']/df['ClaimsCount']"
   ]
  },
  {
   "cell_type": "code",
   "execution_count": 12,
   "metadata": {
    "id": "uzqaeponLHI_"
   },
   "outputs": [],
   "source": [
    "class InsDataFrame:\n",
    "\n",
    "\n",
    "    ''' Load data method '''\n",
    "\n",
    "    def load_pd(self, pd_dataframe):\n",
    "        self._df = pd_dataframe\n",
    "\n",
    "\n",
    "    ''' Columns match method '''\n",
    "\n",
    "    def columns_match(self, match_from_to):\n",
    "        self._df.rename(columns=match_from_to, inplace=True)\n",
    "\n",
    "\n",
    "    ''' Person data methods '''\n",
    "\n",
    "    # Gender\n",
    "    _gender_dict = {'Male':0, 'Female':1}\n",
    "\n",
    "    def transform_gender(self):\n",
    "        self._df['Gender'] = self._df['Gender'].map(self._gender_dict)\n",
    "\n",
    "        \n",
    "\n",
    "    # Age\n",
    "    @staticmethod\n",
    "    def _age(age, age_max):\n",
    "        if pd.isnull(age):\n",
    "            age = None\n",
    "        elif age < 18:\n",
    "            age = None\n",
    "        elif age > age_max:\n",
    "            age = age_max\n",
    "        return age\n",
    "      \n",
    "    def transform_age(self, age_max=70):\n",
    "        self._df['driver_minage'] = self._df['driver_minage'].apply(self._age, args=(age_max,))\n",
    "\n",
    "    # Age M/F\n",
    "    @staticmethod\n",
    "    def _age_gender(age_gender):\n",
    "        _age = age_gender[0]\n",
    "        _gender = age_gender[1]\n",
    "        if _gender == 0: #Male\n",
    "            _driver_minage_m = _age\n",
    "            _driver_minage_f = 18\n",
    "        elif _gender == 1: #Female\n",
    "            _driver_minage_m = 18\n",
    "            _driver_minage_f = _age\n",
    "        else:\n",
    "            _driver_minage_m = 18\n",
    "            _driver_minage_f = 18\n",
    "        return [_driver_minage_m, _driver_minage_f]\n",
    "    \n",
    "    def transform_age_gender(self):\n",
    "        self._df['driver_minage_m'],self._df['driver_minage_f'] = zip(*self._df[['driver_minage','Gender']].apply(self._age_gender, axis=1).to_frame()[0])\n",
    "\n",
    "    # Experience\n",
    "    @staticmethod\n",
    "    def _exp(exp, exp_max):\n",
    "        if pd.isnull(exp):\n",
    "            exp = None\n",
    "        elif exp < 0:\n",
    "            exp = None\n",
    "        elif exp > exp_max:\n",
    "            exp = exp_max\n",
    "        return exp\n",
    "\n",
    "    def transform_exp(self, exp_max=52):\n",
    "        self._df['driver_minexp'] = self._df['driver_minexp'].apply(self._exp, args=(exp_max,))\n",
    "\n",
    "\n",
    "    ''' Other data methods '''\n",
    "\n",
    "    def polynomizer(self, column, n=2):\n",
    "        if column in list(self._df.columns):\n",
    "            for i in range(2,n+1):\n",
    "                self._df[column+'_'+str(i)] = self._df[column]**i\n",
    "\n",
    "    def get_dummies(self, columns):\n",
    "        self._df = pd.get_dummies(self._df, columns=columns)\n",
    "\n",
    "\n",
    "    ''' General methods '''\n",
    "\n",
    "    def info(self):\n",
    "        return self._df.info()\n",
    "\n",
    "    def head(self, columns, n=5):\n",
    "        return self._df.head(n)\n",
    "\n",
    "    def len(self):\n",
    "        return len(self._df)\n",
    "\n",
    "    def get_pd(self, columns):\n",
    "        return self._df[columns]"
   ]
  },
  {
   "cell_type": "code",
   "execution_count": 13,
   "metadata": {
    "id": "fzFfyTIzLJQL"
   },
   "outputs": [],
   "source": [
    "class InsDataFrame_Fr(InsDataFrame):\n",
    "\n",
    "    # Experience (weeks to years)\n",
    "    @staticmethod\n",
    "    def _exp(exp, exp_max):\n",
    "        if pd.isnull(exp):\n",
    "            exp = None\n",
    "        elif exp < 0:\n",
    "            exp = None\n",
    "        else:\n",
    "            exp * 7 // 365\n",
    "        if exp > exp_max:\n",
    "            exp = exp_max\n",
    "        return exp\n",
    "\n",
    "    # Marital status\n",
    "    _MariStat_dict = {'Other':0, 'Alone':1}\n",
    "\n",
    "    def transform_MariStat(self):\n",
    "        self._df['MariStat'] = self._df['MariStat'].map(self._MariStat_dict)\n",
    "    \n",
    "    # Social category\n",
    "    def transform_SocioCateg(self):\n",
    "        self._df['SocioCateg'] = self._df['SocioCateg'].str.slice(0,4)"
   ]
  },
  {
   "cell_type": "code",
   "execution_count": 14,
   "metadata": {
    "id": "K027M8AOLP9x"
   },
   "outputs": [],
   "source": [
    "data = InsDataFrame_Fr()"
   ]
  },
  {
   "cell_type": "code",
   "execution_count": 15,
   "metadata": {
    "id": "dUMY1CIcLRLI"
   },
   "outputs": [],
   "source": [
    "data.load_pd(df)"
   ]
  },
  {
   "cell_type": "code",
   "execution_count": 16,
   "metadata": {
    "colab": {
     "base_uri": "https://localhost:8080/"
    },
    "id": "9q-3Hu-KLTAk",
    "outputId": "461203d7-34f2-4889-ecfb-f77d3fa567e7"
   },
   "outputs": [
    {
     "name": "stdout",
     "output_type": "stream",
     "text": [
      "<class 'pandas.core.frame.DataFrame'>\n",
      "RangeIndex: 115155 entries, 0 to 115154\n",
      "Data columns (total 17 columns):\n",
      " #   Column       Non-Null Count   Dtype  \n",
      "---  ------       --------------   -----  \n",
      " 0   Exposure     115155 non-null  float64\n",
      " 1   LicAge       115155 non-null  int64  \n",
      " 2   RecordBeg    115155 non-null  object \n",
      " 3   RecordEnd    59455 non-null   object \n",
      " 4   Gender       115155 non-null  object \n",
      " 5   MariStat     115155 non-null  object \n",
      " 6   SocioCateg   115155 non-null  object \n",
      " 7   VehUsage     115155 non-null  object \n",
      " 8   DrivAge      115155 non-null  int64  \n",
      " 9   HasKmLimit   115155 non-null  int64  \n",
      " 10  BonusMalus   115155 non-null  int64  \n",
      " 11  ClaimAmount  115155 non-null  float64\n",
      " 12  ClaimInd     115155 non-null  int64  \n",
      " 13  OutUseNb     115155 non-null  float64\n",
      " 14  RiskArea     115155 non-null  float64\n",
      " 15  ClaimsCount  115155 non-null  float64\n",
      " 16  AvgClaim     10869 non-null   float64\n",
      "dtypes: float64(6), int64(5), object(6)\n",
      "memory usage: 14.9+ MB\n"
     ]
    }
   ],
   "source": [
    "data.info()"
   ]
  },
  {
   "cell_type": "code",
   "execution_count": 17,
   "metadata": {
    "id": "mGvA9K__LUXJ"
   },
   "outputs": [],
   "source": [
    "# Переименовываем\n",
    "data.columns_match({'DrivAge':'driver_minage','LicAge':'driver_minexp'})"
   ]
  },
  {
   "cell_type": "code",
   "execution_count": 18,
   "metadata": {
    "id": "YgrRmrNsLVxZ"
   },
   "outputs": [],
   "source": [
    "# Преобразовываем\n",
    "data.transform_age()\n",
    "data.transform_exp()\n",
    "data.transform_gender()\n",
    "data.transform_MariStat()\n",
    "data.transform_SocioCateg()"
   ]
  },
  {
   "cell_type": "code",
   "execution_count": 19,
   "metadata": {
    "id": "wftDIV5eLYVR"
   },
   "outputs": [],
   "source": [
    "# Пересечение пола и возраста, их квадраты\n",
    "data.transform_age_gender()\n",
    "data.polynomizer('driver_minage_m')\n",
    "data.polynomizer('driver_minage_f')"
   ]
  },
  {
   "cell_type": "code",
   "execution_count": 20,
   "metadata": {
    "id": "HuRkI49ALZmZ"
   },
   "outputs": [],
   "source": [
    "# Onehot encoding\n",
    "data.get_dummies(['VehUsage','SocioCateg'])"
   ]
  },
  {
   "cell_type": "code",
   "execution_count": 21,
   "metadata": {
    "colab": {
     "base_uri": "https://localhost:8080/"
    },
    "id": "RksUljdxLa1p",
    "outputId": "971ff790-695c-4c6a-a364-7b5e6dab3577"
   },
   "outputs": [
    {
     "name": "stdout",
     "output_type": "stream",
     "text": [
      "<class 'pandas.core.frame.DataFrame'>\n",
      "RangeIndex: 115155 entries, 0 to 115154\n",
      "Data columns (total 30 columns):\n",
      " #   Column                           Non-Null Count   Dtype  \n",
      "---  ------                           --------------   -----  \n",
      " 0   Exposure                         115155 non-null  float64\n",
      " 1   driver_minexp                    115155 non-null  int64  \n",
      " 2   RecordBeg                        115155 non-null  object \n",
      " 3   RecordEnd                        59455 non-null   object \n",
      " 4   Gender                           115155 non-null  int64  \n",
      " 5   MariStat                         115155 non-null  int64  \n",
      " 6   driver_minage                    115155 non-null  int64  \n",
      " 7   HasKmLimit                       115155 non-null  int64  \n",
      " 8   BonusMalus                       115155 non-null  int64  \n",
      " 9   ClaimAmount                      115155 non-null  float64\n",
      " 10  ClaimInd                         115155 non-null  int64  \n",
      " 11  OutUseNb                         115155 non-null  float64\n",
      " 12  RiskArea                         115155 non-null  float64\n",
      " 13  ClaimsCount                      115155 non-null  float64\n",
      " 14  AvgClaim                         10869 non-null   float64\n",
      " 15  driver_minage_m                  115155 non-null  int64  \n",
      " 16  driver_minage_f                  115155 non-null  int64  \n",
      " 17  driver_minage_m_2                115155 non-null  int64  \n",
      " 18  driver_minage_f_2                115155 non-null  int64  \n",
      " 19  VehUsage_Private                 115155 non-null  uint8  \n",
      " 20  VehUsage_Private+trip to office  115155 non-null  uint8  \n",
      " 21  VehUsage_Professional            115155 non-null  uint8  \n",
      " 22  VehUsage_Professional run        115155 non-null  uint8  \n",
      " 23  SocioCateg_CSP1                  115155 non-null  uint8  \n",
      " 24  SocioCateg_CSP2                  115155 non-null  uint8  \n",
      " 25  SocioCateg_CSP3                  115155 non-null  uint8  \n",
      " 26  SocioCateg_CSP4                  115155 non-null  uint8  \n",
      " 27  SocioCateg_CSP5                  115155 non-null  uint8  \n",
      " 28  SocioCateg_CSP6                  115155 non-null  uint8  \n",
      " 29  SocioCateg_CSP7                  115155 non-null  uint8  \n",
      "dtypes: float64(6), int64(11), object(2), uint8(11)\n",
      "memory usage: 17.9+ MB\n"
     ]
    }
   ],
   "source": [
    "data.info()"
   ]
  },
  {
   "cell_type": "code",
   "execution_count": 23,
   "metadata": {
    "id": "FseCZQr4LgGB"
   },
   "outputs": [],
   "source": [
    "col_features = [\n",
    "                'driver_minexp',\n",
    "                'Gender',\n",
    "                'MariStat',\n",
    "                'HasKmLimit',\n",
    "                'BonusMalus',\n",
    "                'OutUseNb',\n",
    "                'RiskArea',\n",
    "                'driver_minage_m',\n",
    "                'driver_minage_f',\n",
    "                'driver_minage_m_2',\n",
    "                'driver_minage_f_2',\n",
    "                'VehUsage_Private',\n",
    "                'VehUsage_Private+trip to office',\n",
    "                'VehUsage_Professional',\n",
    "                'VehUsage_Professional run',\n",
    "                'SocioCateg_CSP1',\n",
    "                'SocioCateg_CSP2',\n",
    "                'SocioCateg_CSP3',\n",
    "                'SocioCateg_CSP4',\n",
    "                'SocioCateg_CSP5',\n",
    "                'SocioCateg_CSP6',\n",
    "                'SocioCateg_CSP7'  \n",
    "]"
   ]
  },
  {
   "cell_type": "code",
   "execution_count": 24,
   "metadata": {
    "id": "_rw_Hie2Lh_b"
   },
   "outputs": [],
   "source": [
    "col_target = ['ClaimAmount', 'ClaimsCount', 'AvgClaim']"
   ]
  },
  {
   "cell_type": "code",
   "execution_count": 25,
   "metadata": {
    "id": "o2VJgOsTLjUq"
   },
   "outputs": [],
   "source": [
    "df_freq = data.get_pd(col_features+col_target)"
   ]
  },
  {
   "cell_type": "code",
   "execution_count": 26,
   "metadata": {
    "id": "_FdKqVRpLkv4"
   },
   "outputs": [],
   "source": [
    "df_ac = df_freq[df_freq['ClaimsCount'] > 0].reset_index().copy()"
   ]
  },
  {
   "cell_type": "code",
   "execution_count": 28,
   "metadata": {
    "colab": {
     "base_uri": "https://localhost:8080/"
    },
    "id": "gn34gly7MGBD",
    "outputId": "d138388f-9f7a-4298-b20d-f492ebe82d5d"
   },
   "outputs": [
    {
     "name": "stdout",
     "output_type": "stream",
     "text": [
      "openjdk version \"11.0.9.1\" 2020-11-04\n",
      "OpenJDK Runtime Environment (build 11.0.9.1+1-Ubuntu-0ubuntu1.18.04)\n",
      "OpenJDK 64-Bit Server VM (build 11.0.9.1+1-Ubuntu-0ubuntu1.18.04, mixed mode, sharing)\n"
     ]
    }
   ],
   "source": [
    "!java -version"
   ]
  },
  {
   "cell_type": "code",
   "execution_count": 30,
   "metadata": {
    "colab": {
     "base_uri": "https://localhost:8080/",
     "height": 462
    },
    "id": "b8kaiOuNMSsU",
    "outputId": "0cdce6ff-be58-4431-e025-7f34ed289a07"
   },
   "outputs": [
    {
     "name": "stdout",
     "output_type": "stream",
     "text": [
      "Checking whether there is an H2O instance running at http://localhost:54321 ..... not found.\n",
      "Attempting to start a local H2O server...\n",
      "  Java Version: openjdk version \"11.0.9.1\" 2020-11-04; OpenJDK Runtime Environment (build 11.0.9.1+1-Ubuntu-0ubuntu1.18.04); OpenJDK 64-Bit Server VM (build 11.0.9.1+1-Ubuntu-0ubuntu1.18.04, mixed mode, sharing)\n",
      "  Starting server from /usr/local/lib/python3.6/dist-packages/h2o/backend/bin/h2o.jar\n",
      "  Ice root: /tmp/tmpv3yd3h3e\n",
      "  JVM stdout: /tmp/tmpv3yd3h3e/h2o_unknownUser_started_from_python.out\n",
      "  JVM stderr: /tmp/tmpv3yd3h3e/h2o_unknownUser_started_from_python.err\n",
      "  Server is running at http://127.0.0.1:54321\n",
      "Connecting to H2O server at http://127.0.0.1:54321 ... successful.\n"
     ]
    },
    {
     "data": {
      "text/html": [
       "<div style=\"overflow:auto\"><table style=\"width:50%\"><tr><td>H2O_cluster_uptime:</td>\n",
       "<td>02 secs</td></tr>\n",
       "<tr><td>H2O_cluster_timezone:</td>\n",
       "<td>Etc/UTC</td></tr>\n",
       "<tr><td>H2O_data_parsing_timezone:</td>\n",
       "<td>UTC</td></tr>\n",
       "<tr><td>H2O_cluster_version:</td>\n",
       "<td>3.30.1.3</td></tr>\n",
       "<tr><td>H2O_cluster_version_age:</td>\n",
       "<td>1 month and 23 days </td></tr>\n",
       "<tr><td>H2O_cluster_name:</td>\n",
       "<td>H2O_from_python_unknownUser_7ps1rb</td></tr>\n",
       "<tr><td>H2O_cluster_total_nodes:</td>\n",
       "<td>1</td></tr>\n",
       "<tr><td>H2O_cluster_free_memory:</td>\n",
       "<td>3.180 Gb</td></tr>\n",
       "<tr><td>H2O_cluster_total_cores:</td>\n",
       "<td>2</td></tr>\n",
       "<tr><td>H2O_cluster_allowed_cores:</td>\n",
       "<td>2</td></tr>\n",
       "<tr><td>H2O_cluster_status:</td>\n",
       "<td>accepting new members, healthy</td></tr>\n",
       "<tr><td>H2O_connection_url:</td>\n",
       "<td>http://127.0.0.1:54321</td></tr>\n",
       "<tr><td>H2O_connection_proxy:</td>\n",
       "<td>{\"http\": null, \"https\": null}</td></tr>\n",
       "<tr><td>H2O_internal_security:</td>\n",
       "<td>False</td></tr>\n",
       "<tr><td>H2O_API_Extensions:</td>\n",
       "<td>Amazon S3, XGBoost, Algos, AutoML, Core V3, TargetEncoder, Core V4</td></tr>\n",
       "<tr><td>Python_version:</td>\n",
       "<td>3.6.9 final</td></tr></table></div>"
      ],
      "text/plain": [
       "--------------------------  ------------------------------------------------------------------\n",
       "H2O_cluster_uptime:         02 secs\n",
       "H2O_cluster_timezone:       Etc/UTC\n",
       "H2O_data_parsing_timezone:  UTC\n",
       "H2O_cluster_version:        3.30.1.3\n",
       "H2O_cluster_version_age:    1 month and 23 days\n",
       "H2O_cluster_name:           H2O_from_python_unknownUser_7ps1rb\n",
       "H2O_cluster_total_nodes:    1\n",
       "H2O_cluster_free_memory:    3.180 Gb\n",
       "H2O_cluster_total_cores:    2\n",
       "H2O_cluster_allowed_cores:  2\n",
       "H2O_cluster_status:         accepting new members, healthy\n",
       "H2O_connection_url:         http://127.0.0.1:54321\n",
       "H2O_connection_proxy:       {\"http\": null, \"https\": null}\n",
       "H2O_internal_security:      False\n",
       "H2O_API_Extensions:         Amazon S3, XGBoost, Algos, AutoML, Core V3, TargetEncoder, Core V4\n",
       "Python_version:             3.6.9 final\n",
       "--------------------------  ------------------------------------------------------------------"
      ]
     },
     "metadata": {
      "tags": []
     },
     "output_type": "display_data"
    }
   ],
   "source": [
    "import h2o\n",
    "from h2o.estimators.glm import H2OGeneralizedLinearEstimator\n",
    "h2o.init()"
   ]
  },
  {
   "cell_type": "code",
   "execution_count": 31,
   "metadata": {
    "id": "FlXVJXFbMtSq"
   },
   "outputs": [],
   "source": [
    "from sklearn.model_selection import train_test_split"
   ]
  },
  {
   "cell_type": "code",
   "execution_count": 43,
   "metadata": {
    "id": "Xlh30nhOMpTu"
   },
   "outputs": [],
   "source": [
    "# Разбиение датасета на train/val/test\n",
    "\n",
    "df_ind = data.get_pd(col_features+['ClaimInd'])\n",
    "\n",
    "x_train_ind, x_test_ind, y_train_ind, y_test_ind = train_test_split(df_ind[col_features], df_ind.ClaimInd, test_size=0.3, random_state=1)\n",
    "x_valid_ind, x_test_ind, y_valid_ind, y_test_ind = train_test_split(x_test_ind, y_test_ind, test_size=0.5, random_state=1)"
   ]
  },
  {
   "cell_type": "code",
   "execution_count": 44,
   "metadata": {
    "colab": {
     "base_uri": "https://localhost:8080/"
    },
    "id": "jy4R9NGEPJQc",
    "outputId": "ed68b737-9f04-4cc6-b699-fe5b568b18f0"
   },
   "outputs": [
    {
     "name": "stdout",
     "output_type": "stream",
     "text": [
      "Parse progress: |█████████████████████████████████████████████████████████| 100%\n",
      "Parse progress: |█████████████████████████████████████████████████████████| 100%\n",
      "Parse progress: |█████████████████████████████████████████████████████████| 100%\n"
     ]
    }
   ],
   "source": [
    "# Преобразование в H2O-Frame\n",
    "\n",
    "# Преобразование в H2O-Frame\n",
    "\n",
    "h2o_train_c = h2o.H2OFrame(pd.concat([x_train_ind, y_train_ind], axis=1))\n",
    "h2o_valid_c = h2o.H2OFrame(pd.concat([x_valid_ind, y_valid_ind], axis=1))\n",
    "h2o_test_c = h2o.H2OFrame(pd.concat([x_test_ind, y_test_ind], axis=1))"
   ]
  },
  {
   "cell_type": "code",
   "execution_count": 46,
   "metadata": {
    "id": "sQ8erzBZPKLq"
   },
   "outputs": [],
   "source": [
    "# Преобразуем целевую переменную ClaimInd в категориальную при помощи метода asfactor во всех наборах данных\n",
    "\n",
    "h2o_train_c['ClaimInd'] = h2o_train_c['ClaimInd'].asfactor()\n",
    "h2o_valid_c['ClaimInd'] = h2o_valid_c['ClaimInd'].asfactor()\n",
    "h2o_test_c['ClaimInd'] = h2o_test_c['ClaimInd'].asfactor()"
   ]
  },
  {
   "cell_type": "code",
   "execution_count": 48,
   "metadata": {
    "colab": {
     "base_uri": "https://localhost:8080/"
    },
    "id": "YbLSMpKgPLHq",
    "outputId": "b8b89bd5-86bc-46e0-b8ca-efe93a96f97f"
   },
   "outputs": [
    {
     "name": "stdout",
     "output_type": "stream",
     "text": [
      "glm Model Build progress: |███████████████████████████████████████████████| 100%\n"
     ]
    }
   ],
   "source": [
    "# Инициализируем и обучим GLM модель c кросс-валидацией\n",
    "\n",
    "glm_bin = H2OGeneralizedLinearEstimator(family = \"binomial\", link = \"logit\", nfolds=5, balance_classes=True)\n",
    "glm_bin.train(y='ClaimInd', x = h2o_train_c.names[1:-1], training_frame = h2o_train_c, validation_frame = h2o_valid_c)"
   ]
  },
  {
   "cell_type": "code",
   "execution_count": 50,
   "metadata": {
    "colab": {
     "base_uri": "https://localhost:8080/",
     "height": 113
    },
    "id": "trhfNjNzPMUj",
    "outputId": "6bf3b2e3-b090-4cd3-9d8c-d18072bfe05a"
   },
   "outputs": [
    {
     "name": "stdout",
     "output_type": "stream",
     "text": [
      "\n",
      "GLM Model: summary\n"
     ]
    },
    {
     "data": {
      "text/html": [
       "<div>\n",
       "<style scoped>\n",
       "    .dataframe tbody tr th:only-of-type {\n",
       "        vertical-align: middle;\n",
       "    }\n",
       "\n",
       "    .dataframe tbody tr th {\n",
       "        vertical-align: top;\n",
       "    }\n",
       "\n",
       "    .dataframe thead th {\n",
       "        text-align: right;\n",
       "    }\n",
       "</style>\n",
       "<table border=\"1\" class=\"dataframe\">\n",
       "  <thead>\n",
       "    <tr style=\"text-align: right;\">\n",
       "      <th></th>\n",
       "      <th></th>\n",
       "      <th>family</th>\n",
       "      <th>link</th>\n",
       "      <th>regularization</th>\n",
       "      <th>number_of_predictors_total</th>\n",
       "      <th>number_of_active_predictors</th>\n",
       "      <th>number_of_iterations</th>\n",
       "      <th>training_frame</th>\n",
       "    </tr>\n",
       "  </thead>\n",
       "  <tbody>\n",
       "    <tr>\n",
       "      <th>0</th>\n",
       "      <td></td>\n",
       "      <td>binomial</td>\n",
       "      <td>logit</td>\n",
       "      <td>Elastic Net (alpha = 0.5, lambda = 2.368E-5 )</td>\n",
       "      <td>21</td>\n",
       "      <td>21</td>\n",
       "      <td>3</td>\n",
       "      <td>py_1_sid_8baa</td>\n",
       "    </tr>\n",
       "  </tbody>\n",
       "</table>\n",
       "</div>"
      ],
      "text/plain": [
       "       family  ... number_of_iterations training_frame\n",
       "0    binomial  ...                    3  py_1_sid_8baa\n",
       "\n",
       "[1 rows x 8 columns]"
      ]
     },
     "metadata": {
      "tags": []
     },
     "output_type": "display_data"
    },
    {
     "data": {
      "text/plain": []
     },
     "execution_count": 50,
     "metadata": {
      "tags": []
     },
     "output_type": "execute_result"
    }
   ],
   "source": [
    "# Параметры модели: распределение, функция связи, гиперпараметры регуляризации, количество использованных объясняющих переменных\n",
    "\n",
    "glm_bin.summary()"
   ]
  },
  {
   "cell_type": "code",
   "execution_count": 52,
   "metadata": {
    "colab": {
     "base_uri": "https://localhost:8080/",
     "height": 737
    },
    "id": "aJsw1OLEPNVU",
    "outputId": "d9ebc7a7-0c3e-4370-effc-07f37859a781"
   },
   "outputs": [
    {
     "data": {
      "text/html": [
       "<div>\n",
       "<style scoped>\n",
       "    .dataframe tbody tr th:only-of-type {\n",
       "        vertical-align: middle;\n",
       "    }\n",
       "\n",
       "    .dataframe tbody tr th {\n",
       "        vertical-align: top;\n",
       "    }\n",
       "\n",
       "    .dataframe thead th {\n",
       "        text-align: right;\n",
       "    }\n",
       "</style>\n",
       "<table border=\"1\" class=\"dataframe\">\n",
       "  <thead>\n",
       "    <tr style=\"text-align: right;\">\n",
       "      <th></th>\n",
       "      <th></th>\n",
       "      <th>mean</th>\n",
       "      <th>sd</th>\n",
       "      <th>cv_1_valid</th>\n",
       "      <th>cv_2_valid</th>\n",
       "      <th>cv_3_valid</th>\n",
       "      <th>cv_4_valid</th>\n",
       "      <th>cv_5_valid</th>\n",
       "    </tr>\n",
       "  </thead>\n",
       "  <tbody>\n",
       "    <tr>\n",
       "      <th>0</th>\n",
       "      <td>accuracy</td>\n",
       "      <td>0.53960186</td>\n",
       "      <td>0.12766887</td>\n",
       "      <td>0.3170807</td>\n",
       "      <td>0.63467413</td>\n",
       "      <td>0.58901715</td>\n",
       "      <td>0.6026652</td>\n",
       "      <td>0.5545721</td>\n",
       "    </tr>\n",
       "    <tr>\n",
       "      <th>1</th>\n",
       "      <td>auc</td>\n",
       "      <td>0.56284577</td>\n",
       "      <td>0.0052034375</td>\n",
       "      <td>0.56108105</td>\n",
       "      <td>0.5666864</td>\n",
       "      <td>0.5577072</td>\n",
       "      <td>0.5698242</td>\n",
       "      <td>0.55892986</td>\n",
       "    </tr>\n",
       "    <tr>\n",
       "      <th>2</th>\n",
       "      <td>aucpr</td>\n",
       "      <td>0.113302656</td>\n",
       "      <td>0.0047695185</td>\n",
       "      <td>0.11288304</td>\n",
       "      <td>0.11455467</td>\n",
       "      <td>0.10895557</td>\n",
       "      <td>0.12072462</td>\n",
       "      <td>0.10939537</td>\n",
       "    </tr>\n",
       "    <tr>\n",
       "      <th>3</th>\n",
       "      <td>err</td>\n",
       "      <td>0.46039814</td>\n",
       "      <td>0.12766887</td>\n",
       "      <td>0.68291926</td>\n",
       "      <td>0.36532584</td>\n",
       "      <td>0.41098285</td>\n",
       "      <td>0.39733484</td>\n",
       "      <td>0.4454279</td>\n",
       "    </tr>\n",
       "    <tr>\n",
       "      <th>4</th>\n",
       "      <td>err_count</td>\n",
       "      <td>7428.6</td>\n",
       "      <td>2090.28</td>\n",
       "      <td>11051.0</td>\n",
       "      <td>5858.0</td>\n",
       "      <td>6586.0</td>\n",
       "      <td>6351.0</td>\n",
       "      <td>7297.0</td>\n",
       "    </tr>\n",
       "    <tr>\n",
       "      <th>5</th>\n",
       "      <td>f0point5</td>\n",
       "      <td>0.13487232</td>\n",
       "      <td>0.0073751304</td>\n",
       "      <td>0.12572339</td>\n",
       "      <td>0.14219563</td>\n",
       "      <td>0.1300625</td>\n",
       "      <td>0.14237855</td>\n",
       "      <td>0.13400148</td>\n",
       "    </tr>\n",
       "    <tr>\n",
       "      <th>6</th>\n",
       "      <td>f1</td>\n",
       "      <td>0.18716738</td>\n",
       "      <td>0.0058622384</td>\n",
       "      <td>0.18412699</td>\n",
       "      <td>0.19155397</td>\n",
       "      <td>0.1794169</td>\n",
       "      <td>0.1941378</td>\n",
       "      <td>0.18660127</td>\n",
       "    </tr>\n",
       "    <tr>\n",
       "      <th>7</th>\n",
       "      <td>f2</td>\n",
       "      <td>0.3077199</td>\n",
       "      <td>0.021591706</td>\n",
       "      <td>0.34386718</td>\n",
       "      <td>0.29339647</td>\n",
       "      <td>0.2891334</td>\n",
       "      <td>0.3050239</td>\n",
       "      <td>0.3071785</td>\n",
       "    </tr>\n",
       "    <tr>\n",
       "      <th>8</th>\n",
       "      <td>lift_top_group</td>\n",
       "      <td>1.3339299</td>\n",
       "      <td>0.25843644</td>\n",
       "      <td>1.5025798</td>\n",
       "      <td>1.3044698</td>\n",
       "      <td>1.4170965</td>\n",
       "      <td>1.5438507</td>\n",
       "      <td>0.90165275</td>\n",
       "    </tr>\n",
       "    <tr>\n",
       "      <th>9</th>\n",
       "      <td>logloss</td>\n",
       "      <td>0.3112855</td>\n",
       "      <td>0.0037914102</td>\n",
       "      <td>0.31077084</td>\n",
       "      <td>0.31239107</td>\n",
       "      <td>0.30561787</td>\n",
       "      <td>0.31616944</td>\n",
       "      <td>0.31147826</td>\n",
       "    </tr>\n",
       "    <tr>\n",
       "      <th>10</th>\n",
       "      <td>max_per_class_error</td>\n",
       "      <td>0.5520133</td>\n",
       "      <td>0.10666168</td>\n",
       "      <td>0.7349348</td>\n",
       "      <td>0.5455141</td>\n",
       "      <td>0.5118644</td>\n",
       "      <td>0.50740504</td>\n",
       "      <td>0.46034816</td>\n",
       "    </tr>\n",
       "    <tr>\n",
       "      <th>11</th>\n",
       "      <td>mcc</td>\n",
       "      <td>0.05855664</td>\n",
       "      <td>0.0066482374</td>\n",
       "      <td>0.053942237</td>\n",
       "      <td>0.06625747</td>\n",
       "      <td>0.051382706</td>\n",
       "      <td>0.064865455</td>\n",
       "      <td>0.05633533</td>\n",
       "    </tr>\n",
       "    <tr>\n",
       "      <th>12</th>\n",
       "      <td>mean_per_class_accuracy</td>\n",
       "      <td>0.5479025</td>\n",
       "      <td>0.0060245856</td>\n",
       "      <td>0.54031545</td>\n",
       "      <td>0.55406266</td>\n",
       "      <td>0.5436898</td>\n",
       "      <td>0.5535527</td>\n",
       "      <td>0.54789215</td>\n",
       "    </tr>\n",
       "    <tr>\n",
       "      <th>13</th>\n",
       "      <td>mean_per_class_error</td>\n",
       "      <td>0.45209745</td>\n",
       "      <td>0.0060245856</td>\n",
       "      <td>0.45968455</td>\n",
       "      <td>0.44593737</td>\n",
       "      <td>0.4563102</td>\n",
       "      <td>0.44644728</td>\n",
       "      <td>0.45210788</td>\n",
       "    </tr>\n",
       "    <tr>\n",
       "      <th>14</th>\n",
       "      <td>mse</td>\n",
       "      <td>0.08541221</td>\n",
       "      <td>0.001414865</td>\n",
       "      <td>0.08522841</td>\n",
       "      <td>0.08580025</td>\n",
       "      <td>0.08331642</td>\n",
       "      <td>0.087264</td>\n",
       "      <td>0.08545195</td>\n",
       "    </tr>\n",
       "    <tr>\n",
       "      <th>15</th>\n",
       "      <td>null_deviance</td>\n",
       "      <td>10102.685</td>\n",
       "      <td>157.11514</td>\n",
       "      <td>10123.461</td>\n",
       "      <td>10085.198</td>\n",
       "      <td>9849.159</td>\n",
       "      <td>10193.022</td>\n",
       "      <td>10262.582</td>\n",
       "    </tr>\n",
       "    <tr>\n",
       "      <th>16</th>\n",
       "      <td>pr_auc</td>\n",
       "      <td>0.113302656</td>\n",
       "      <td>0.0047695185</td>\n",
       "      <td>0.11288304</td>\n",
       "      <td>0.11455467</td>\n",
       "      <td>0.10895557</td>\n",
       "      <td>0.12072462</td>\n",
       "      <td>0.10939537</td>\n",
       "    </tr>\n",
       "    <tr>\n",
       "      <th>17</th>\n",
       "      <td>precision</td>\n",
       "      <td>0.11374591</td>\n",
       "      <td>0.0074809226</td>\n",
       "      <td>0.103778295</td>\n",
       "      <td>0.121349886</td>\n",
       "      <td>0.10990688</td>\n",
       "      <td>0.12089128</td>\n",
       "      <td>0.112803236</td>\n",
       "    </tr>\n",
       "    <tr>\n",
       "      <th>18</th>\n",
       "      <td>r2</td>\n",
       "      <td>0.0038705836</td>\n",
       "      <td>8.9318864E-4</td>\n",
       "      <td>0.0038729038</td>\n",
       "      <td>0.0041821757</td>\n",
       "      <td>0.0030538647</td>\n",
       "      <td>0.00519451</td>\n",
       "      <td>0.0030494635</td>\n",
       "    </tr>\n",
       "    <tr>\n",
       "      <th>19</th>\n",
       "      <td>recall</td>\n",
       "      <td>0.5580868</td>\n",
       "      <td>0.14709753</td>\n",
       "      <td>0.8155657</td>\n",
       "      <td>0.45448592</td>\n",
       "      <td>0.4881356</td>\n",
       "      <td>0.492595</td>\n",
       "      <td>0.5396518</td>\n",
       "    </tr>\n",
       "    <tr>\n",
       "      <th>20</th>\n",
       "      <td>residual_deviance</td>\n",
       "      <td>10036.76</td>\n",
       "      <td>152.13127</td>\n",
       "      <td>10057.788</td>\n",
       "      <td>10018.382</td>\n",
       "      <td>9795.053</td>\n",
       "      <td>10107.305</td>\n",
       "      <td>10205.273</td>\n",
       "    </tr>\n",
       "    <tr>\n",
       "      <th>21</th>\n",
       "      <td>rmse</td>\n",
       "      <td>0.29224563</td>\n",
       "      <td>0.0024232755</td>\n",
       "      <td>0.29193905</td>\n",
       "      <td>0.2929168</td>\n",
       "      <td>0.28864583</td>\n",
       "      <td>0.2954048</td>\n",
       "      <td>0.29232165</td>\n",
       "    </tr>\n",
       "    <tr>\n",
       "      <th>22</th>\n",
       "      <td>specificity</td>\n",
       "      <td>0.5377183</td>\n",
       "      <td>0.15636411</td>\n",
       "      <td>0.26506516</td>\n",
       "      <td>0.6536394</td>\n",
       "      <td>0.599244</td>\n",
       "      <td>0.6145104</td>\n",
       "      <td>0.55613244</td>\n",
       "    </tr>\n",
       "  </tbody>\n",
       "</table>\n",
       "</div>"
      ],
      "text/plain": [
       "                                     mean  ...   cv_4_valid    cv_5_valid\n",
       "0                  accuracy    0.53960186  ...    0.6026652     0.5545721\n",
       "1                       auc    0.56284577  ...    0.5698242    0.55892986\n",
       "2                     aucpr   0.113302656  ...   0.12072462    0.10939537\n",
       "3                       err    0.46039814  ...   0.39733484     0.4454279\n",
       "4                 err_count        7428.6  ...       6351.0        7297.0\n",
       "5                  f0point5    0.13487232  ...   0.14237855    0.13400148\n",
       "6                        f1    0.18716738  ...    0.1941378    0.18660127\n",
       "7                        f2     0.3077199  ...    0.3050239     0.3071785\n",
       "8            lift_top_group     1.3339299  ...    1.5438507    0.90165275\n",
       "9                   logloss     0.3112855  ...   0.31616944    0.31147826\n",
       "10      max_per_class_error     0.5520133  ...   0.50740504    0.46034816\n",
       "11                      mcc    0.05855664  ...  0.064865455    0.05633533\n",
       "12  mean_per_class_accuracy     0.5479025  ...    0.5535527    0.54789215\n",
       "13     mean_per_class_error    0.45209745  ...   0.44644728    0.45210788\n",
       "14                      mse    0.08541221  ...     0.087264    0.08545195\n",
       "15            null_deviance     10102.685  ...    10193.022     10262.582\n",
       "16                   pr_auc   0.113302656  ...   0.12072462    0.10939537\n",
       "17                precision    0.11374591  ...   0.12089128   0.112803236\n",
       "18                       r2  0.0038705836  ...   0.00519451  0.0030494635\n",
       "19                   recall     0.5580868  ...     0.492595     0.5396518\n",
       "20        residual_deviance      10036.76  ...    10107.305     10205.273\n",
       "21                     rmse    0.29224563  ...    0.2954048    0.29232165\n",
       "22              specificity     0.5377183  ...    0.6145104    0.55613244\n",
       "\n",
       "[23 rows x 8 columns]"
      ]
     },
     "execution_count": 52,
     "metadata": {
      "tags": []
     },
     "output_type": "execute_result"
    }
   ],
   "source": [
    "# Метрики качества модели - по всем данным и на кросс-валидации\n",
    "\n",
    "glm_bin.cross_validation_metrics_summary().as_data_frame()"
   ]
  },
  {
   "cell_type": "code",
   "execution_count": 53,
   "metadata": {
    "colab": {
     "base_uri": "https://localhost:8080/",
     "height": 707
    },
    "id": "fP4t4sj2POTL",
    "outputId": "4e3a0469-9f92-4645-bb07-3aa5486a2a49"
   },
   "outputs": [
    {
     "data": {
      "text/html": [
       "<div>\n",
       "<style scoped>\n",
       "    .dataframe tbody tr th:only-of-type {\n",
       "        vertical-align: middle;\n",
       "    }\n",
       "\n",
       "    .dataframe tbody tr th {\n",
       "        vertical-align: top;\n",
       "    }\n",
       "\n",
       "    .dataframe thead th {\n",
       "        text-align: right;\n",
       "    }\n",
       "</style>\n",
       "<table border=\"1\" class=\"dataframe\">\n",
       "  <thead>\n",
       "    <tr style=\"text-align: right;\">\n",
       "      <th></th>\n",
       "      <th>names</th>\n",
       "      <th>coefficients</th>\n",
       "      <th>standardized_coefficients</th>\n",
       "    </tr>\n",
       "  </thead>\n",
       "  <tbody>\n",
       "    <tr>\n",
       "      <th>0</th>\n",
       "      <td>Intercept</td>\n",
       "      <td>-2.475348e+00</td>\n",
       "      <td>-2.279640</td>\n",
       "    </tr>\n",
       "    <tr>\n",
       "      <th>1</th>\n",
       "      <td>Gender</td>\n",
       "      <td>-6.416985e-02</td>\n",
       "      <td>-0.031103</td>\n",
       "    </tr>\n",
       "    <tr>\n",
       "      <th>2</th>\n",
       "      <td>MariStat</td>\n",
       "      <td>-6.469029e-02</td>\n",
       "      <td>-0.023304</td>\n",
       "    </tr>\n",
       "    <tr>\n",
       "      <th>3</th>\n",
       "      <td>HasKmLimit</td>\n",
       "      <td>-3.698560e-01</td>\n",
       "      <td>-0.115502</td>\n",
       "    </tr>\n",
       "    <tr>\n",
       "      <th>4</th>\n",
       "      <td>BonusMalus</td>\n",
       "      <td>6.792484e-03</td>\n",
       "      <td>0.104267</td>\n",
       "    </tr>\n",
       "    <tr>\n",
       "      <th>5</th>\n",
       "      <td>OutUseNb</td>\n",
       "      <td>6.145252e-02</td>\n",
       "      <td>0.042753</td>\n",
       "    </tr>\n",
       "    <tr>\n",
       "      <th>6</th>\n",
       "      <td>RiskArea</td>\n",
       "      <td>9.240660e-03</td>\n",
       "      <td>0.020474</td>\n",
       "    </tr>\n",
       "    <tr>\n",
       "      <th>7</th>\n",
       "      <td>driver_minage_m</td>\n",
       "      <td>-3.727295e-03</td>\n",
       "      <td>-0.070187</td>\n",
       "    </tr>\n",
       "    <tr>\n",
       "      <th>8</th>\n",
       "      <td>driver_minage_f</td>\n",
       "      <td>-1.168549e-03</td>\n",
       "      <td>-0.018743</td>\n",
       "    </tr>\n",
       "    <tr>\n",
       "      <th>9</th>\n",
       "      <td>driver_minage_m_2</td>\n",
       "      <td>-6.145260e-06</td>\n",
       "      <td>-0.009595</td>\n",
       "    </tr>\n",
       "    <tr>\n",
       "      <th>10</th>\n",
       "      <td>driver_minage_f_2</td>\n",
       "      <td>-9.652992e-08</td>\n",
       "      <td>-0.000121</td>\n",
       "    </tr>\n",
       "    <tr>\n",
       "      <th>11</th>\n",
       "      <td>VehUsage_Private</td>\n",
       "      <td>-1.437545e-01</td>\n",
       "      <td>-0.067979</td>\n",
       "    </tr>\n",
       "    <tr>\n",
       "      <th>12</th>\n",
       "      <td>VehUsage_Private+trip to office</td>\n",
       "      <td>-1.656392e-02</td>\n",
       "      <td>-0.008276</td>\n",
       "    </tr>\n",
       "    <tr>\n",
       "      <th>13</th>\n",
       "      <td>VehUsage_Professional</td>\n",
       "      <td>2.260091e-01</td>\n",
       "      <td>0.074695</td>\n",
       "    </tr>\n",
       "    <tr>\n",
       "      <th>14</th>\n",
       "      <td>VehUsage_Professional run</td>\n",
       "      <td>2.965853e-01</td>\n",
       "      <td>0.039791</td>\n",
       "    </tr>\n",
       "    <tr>\n",
       "      <th>15</th>\n",
       "      <td>SocioCateg_CSP1</td>\n",
       "      <td>-1.073627e-01</td>\n",
       "      <td>-0.016267</td>\n",
       "    </tr>\n",
       "    <tr>\n",
       "      <th>16</th>\n",
       "      <td>SocioCateg_CSP2</td>\n",
       "      <td>-1.462515e-01</td>\n",
       "      <td>-0.024365</td>\n",
       "    </tr>\n",
       "    <tr>\n",
       "      <th>17</th>\n",
       "      <td>SocioCateg_CSP3</td>\n",
       "      <td>1.043504e-01</td>\n",
       "      <td>0.010825</td>\n",
       "    </tr>\n",
       "    <tr>\n",
       "      <th>18</th>\n",
       "      <td>SocioCateg_CSP4</td>\n",
       "      <td>2.983183e-02</td>\n",
       "      <td>0.007460</td>\n",
       "    </tr>\n",
       "    <tr>\n",
       "      <th>19</th>\n",
       "      <td>SocioCateg_CSP5</td>\n",
       "      <td>-2.803307e-02</td>\n",
       "      <td>-0.013326</td>\n",
       "    </tr>\n",
       "    <tr>\n",
       "      <th>20</th>\n",
       "      <td>SocioCateg_CSP6</td>\n",
       "      <td>4.853385e-02</td>\n",
       "      <td>0.019934</td>\n",
       "    </tr>\n",
       "    <tr>\n",
       "      <th>21</th>\n",
       "      <td>SocioCateg_CSP7</td>\n",
       "      <td>-2.029539e-01</td>\n",
       "      <td>-0.002144</td>\n",
       "    </tr>\n",
       "  </tbody>\n",
       "</table>\n",
       "</div>"
      ],
      "text/plain": [
       "                              names  coefficients  standardized_coefficients\n",
       "0                         Intercept -2.475348e+00                  -2.279640\n",
       "1                            Gender -6.416985e-02                  -0.031103\n",
       "2                          MariStat -6.469029e-02                  -0.023304\n",
       "3                        HasKmLimit -3.698560e-01                  -0.115502\n",
       "4                        BonusMalus  6.792484e-03                   0.104267\n",
       "5                          OutUseNb  6.145252e-02                   0.042753\n",
       "6                          RiskArea  9.240660e-03                   0.020474\n",
       "7                   driver_minage_m -3.727295e-03                  -0.070187\n",
       "8                   driver_minage_f -1.168549e-03                  -0.018743\n",
       "9                 driver_minage_m_2 -6.145260e-06                  -0.009595\n",
       "10                driver_minage_f_2 -9.652992e-08                  -0.000121\n",
       "11                 VehUsage_Private -1.437545e-01                  -0.067979\n",
       "12  VehUsage_Private+trip to office -1.656392e-02                  -0.008276\n",
       "13            VehUsage_Professional  2.260091e-01                   0.074695\n",
       "14        VehUsage_Professional run  2.965853e-01                   0.039791\n",
       "15                  SocioCateg_CSP1 -1.073627e-01                  -0.016267\n",
       "16                  SocioCateg_CSP2 -1.462515e-01                  -0.024365\n",
       "17                  SocioCateg_CSP3  1.043504e-01                   0.010825\n",
       "18                  SocioCateg_CSP4  2.983183e-02                   0.007460\n",
       "19                  SocioCateg_CSP5 -2.803307e-02                  -0.013326\n",
       "20                  SocioCateg_CSP6  4.853385e-02                   0.019934\n",
       "21                  SocioCateg_CSP7 -2.029539e-01                  -0.002144"
      ]
     },
     "execution_count": 53,
     "metadata": {
      "tags": []
     },
     "output_type": "execute_result"
    }
   ],
   "source": [
    "# Таблица коэффициентов модели (в зависимости от модели могут выводиться также стандартная ошибка, z-score и p-value)\n",
    "glm_bin._model_json['output']['coefficients_table'].as_data_frame()"
   ]
  },
  {
   "cell_type": "code",
   "execution_count": null,
   "metadata": {
    "id": "Flu0quuZPPLj"
   },
   "outputs": [],
   "source": [
    "# Таблица нормированных коэффициентов по всем данным и на кросс-валидации\n",
    "\n",
    "pmodels = {}\n",
    "pmodels['overall'] = glm_bin.coef_norm()\n",
    "for x in range(len(glm_bin.cross_validation_models())):\n",
    "    pmodels[x] = glm_bin.cross_validation_models()[x].coef_norm()\n",
    "coef = pd.DataFrame.from_dict(pmodels).round(5)\n",
    "coef['overall'] = abs(coef['overall'])\n",
    "coef.sort_values('overall',ascending=False)"
   ]
  },
  {
   "cell_type": "code",
   "execution_count": 55,
   "metadata": {
    "colab": {
     "base_uri": "https://localhost:8080/"
    },
    "id": "3eRngbXOPQBa",
    "outputId": "d05a72c6-d193-4bdc-ba47-714a2567b77f"
   },
   "outputs": [
    {
     "name": "stdout",
     "output_type": "stream",
     "text": [
      "glm prediction progress: |████████████████████████████████████████████████| 100%\n",
      "glm prediction progress: |████████████████████████████████████████████████| 100%\n",
      "glm prediction progress: |████████████████████████████████████████████████| 100%\n"
     ]
    }
   ],
   "source": [
    "# Построение прогнозных значений для обучающей, валидационной и тестовой выборок\n",
    "\n",
    "c_train_pred = glm_bin.predict(h2o_train_c).as_data_frame()\n",
    "c_valid_pred = glm_bin.predict(h2o_valid_c).as_data_frame()\n",
    "c_test_pred = glm_bin.predict(h2o_test_c).as_data_frame()"
   ]
  },
  {
   "cell_type": "code",
   "execution_count": 65,
   "metadata": {
    "id": "ocyRFG2DPRKM"
   },
   "outputs": [],
   "source": [
    "from sklearn.metrics import accuracy_score, f1_score, confusion_matrix"
   ]
  },
  {
   "cell_type": "code",
   "execution_count": 63,
   "metadata": {
    "colab": {
     "base_uri": "https://localhost:8080/",
     "height": 347
    },
    "id": "VKDOZwitPSOr",
    "outputId": "d63956e9-e06d-4fc1-9e25-dbcc90f262c0"
   },
   "outputs": [
    {
     "name": "stdout",
     "output_type": "stream",
     "text": [
      "\n",
      "Confusion Matrix (Act/Pred) for max f1 @ threshold = 0.0948423489611114: \n"
     ]
    },
    {
     "data": {
      "text/html": [
       "<div>\n",
       "<style scoped>\n",
       "    .dataframe tbody tr th:only-of-type {\n",
       "        vertical-align: middle;\n",
       "    }\n",
       "\n",
       "    .dataframe tbody tr th {\n",
       "        vertical-align: top;\n",
       "    }\n",
       "\n",
       "    .dataframe thead th {\n",
       "        text-align: right;\n",
       "    }\n",
       "</style>\n",
       "<table border=\"1\" class=\"dataframe\">\n",
       "  <thead>\n",
       "    <tr style=\"text-align: right;\">\n",
       "      <th></th>\n",
       "      <th></th>\n",
       "      <th>0</th>\n",
       "      <th>1</th>\n",
       "      <th>Error</th>\n",
       "      <th>Rate</th>\n",
       "    </tr>\n",
       "  </thead>\n",
       "  <tbody>\n",
       "    <tr>\n",
       "      <th>0</th>\n",
       "      <td>0</td>\n",
       "      <td>42781.0</td>\n",
       "      <td>30192.0</td>\n",
       "      <td>0.4137</td>\n",
       "      <td>(30192.0/72973.0)</td>\n",
       "    </tr>\n",
       "    <tr>\n",
       "      <th>1</th>\n",
       "      <td>1</td>\n",
       "      <td>3734.0</td>\n",
       "      <td>3901.0</td>\n",
       "      <td>0.4891</td>\n",
       "      <td>(3734.0/7635.0)</td>\n",
       "    </tr>\n",
       "    <tr>\n",
       "      <th>2</th>\n",
       "      <td>Total</td>\n",
       "      <td>46515.0</td>\n",
       "      <td>34093.0</td>\n",
       "      <td>0.4209</td>\n",
       "      <td>(33926.0/80608.0)</td>\n",
       "    </tr>\n",
       "  </tbody>\n",
       "</table>\n",
       "</div>"
      ],
      "text/plain": [
       "                0        1   Error                Rate\n",
       "0      0  42781.0  30192.0  0.4137   (30192.0/72973.0)\n",
       "1      1   3734.0   3901.0  0.4891     (3734.0/7635.0)\n",
       "2  Total  46515.0  34093.0  0.4209   (33926.0/80608.0)"
      ]
     },
     "metadata": {
      "tags": []
     },
     "output_type": "display_data"
    },
    {
     "name": "stdout",
     "output_type": "stream",
     "text": [
      "\n",
      "Confusion Matrix (Act/Pred) for max f1 @ threshold = 0.09477299981562572: \n"
     ]
    },
    {
     "data": {
      "text/html": [
       "<div>\n",
       "<style scoped>\n",
       "    .dataframe tbody tr th:only-of-type {\n",
       "        vertical-align: middle;\n",
       "    }\n",
       "\n",
       "    .dataframe tbody tr th {\n",
       "        vertical-align: top;\n",
       "    }\n",
       "\n",
       "    .dataframe thead th {\n",
       "        text-align: right;\n",
       "    }\n",
       "</style>\n",
       "<table border=\"1\" class=\"dataframe\">\n",
       "  <thead>\n",
       "    <tr style=\"text-align: right;\">\n",
       "      <th></th>\n",
       "      <th></th>\n",
       "      <th>0</th>\n",
       "      <th>1</th>\n",
       "      <th>Error</th>\n",
       "      <th>Rate</th>\n",
       "    </tr>\n",
       "  </thead>\n",
       "  <tbody>\n",
       "    <tr>\n",
       "      <th>0</th>\n",
       "      <td>0</td>\n",
       "      <td>9217.0</td>\n",
       "      <td>6447.0</td>\n",
       "      <td>0.4116</td>\n",
       "      <td>(6447.0/15664.0)</td>\n",
       "    </tr>\n",
       "    <tr>\n",
       "      <th>1</th>\n",
       "      <td>1</td>\n",
       "      <td>783.0</td>\n",
       "      <td>826.0</td>\n",
       "      <td>0.4866</td>\n",
       "      <td>(783.0/1609.0)</td>\n",
       "    </tr>\n",
       "    <tr>\n",
       "      <th>2</th>\n",
       "      <td>Total</td>\n",
       "      <td>10000.0</td>\n",
       "      <td>7273.0</td>\n",
       "      <td>0.4186</td>\n",
       "      <td>(7230.0/17273.0)</td>\n",
       "    </tr>\n",
       "  </tbody>\n",
       "</table>\n",
       "</div>"
      ],
      "text/plain": [
       "                0       1   Error               Rate\n",
       "0      0   9217.0  6447.0  0.4116   (6447.0/15664.0)\n",
       "1      1    783.0   826.0  0.4866     (783.0/1609.0)\n",
       "2  Total  10000.0  7273.0  0.4186   (7230.0/17273.0)"
      ]
     },
     "metadata": {
      "tags": []
     },
     "output_type": "display_data"
    },
    {
     "data": {
      "text/plain": [
       "{'train': , 'valid': }"
      ]
     },
     "execution_count": 63,
     "metadata": {
      "tags": []
     },
     "output_type": "execute_result"
    }
   ],
   "source": [
    "# Выведем импортированные выше метрики классификации для обучающей, валидационной и тестовой выборок\n",
    "#default f1\n",
    "glm_bin.confusion_matrix(train=True, valid=True)"
   ]
  },
  {
   "cell_type": "code",
   "execution_count": 60,
   "metadata": {
    "colab": {
     "base_uri": "https://localhost:8080/"
    },
    "id": "nX5RyU9MS118",
    "outputId": "a4445657-2737-44b3-de29-7d100fa41b01"
   },
   "outputs": [
    {
     "data": {
      "text/plain": [
       "[[0.2855755587557923, 0.9052699483922191]]"
      ]
     },
     "execution_count": 60,
     "metadata": {
      "tags": []
     },
     "output_type": "execute_result"
    }
   ],
   "source": [
    "glm_bin.accuracy()"
   ]
  },
  {
   "cell_type": "code",
   "execution_count": 69,
   "metadata": {
    "colab": {
     "base_uri": "https://localhost:8080/"
    },
    "id": "TO-MUvNeVvYT",
    "outputId": "88ea167f-c830-4803-e3ed-4f4771137b0d"
   },
   "outputs": [
    {
     "name": "stdout",
     "output_type": "stream",
     "text": [
      "[[9168  801]\n",
      " [6481  824]]\n",
      "0.18454647256438972\n",
      "0.5784415885145305\n"
     ]
    }
   ],
   "source": [
    "print(confusion_matrix(c_test_pred['predict'],  y_test_ind))\n",
    "print(f1_score(c_test_pred['predict'],  y_test_ind))\n",
    "print(accuracy_score(c_test_pred['predict'],  y_test_ind))"
   ]
  },
  {
   "cell_type": "code",
   "execution_count": 71,
   "metadata": {
    "colab": {
     "base_uri": "https://localhost:8080/"
    },
    "id": "jVl0wZtaWAYh",
    "outputId": "c51bbb5b-19a2-4299-fdbf-07cb85125c7c"
   },
   "outputs": [
    {
     "name": "stdout",
     "output_type": "stream",
     "text": [
      "[[42814  3741]\n",
      " [30159  3894]]\n",
      "0.18681635002878524\n",
      "0.579446208813021\n"
     ]
    }
   ],
   "source": [
    "print(confusion_matrix(c_train_pred['predict'],  y_train_ind))\n",
    "print(f1_score(c_train_pred['predict'],  y_train_ind))\n",
    "print(accuracy_score(c_train_pred['predict'],  y_train_ind))"
   ]
  },
  {
   "cell_type": "code",
   "execution_count": 72,
   "metadata": {
    "colab": {
     "base_uri": "https://localhost:8080/"
    },
    "id": "TxmsWP_PV6fj",
    "outputId": "49b6abfa-4e3b-4cd2-f23a-fdb0665d5155"
   },
   "outputs": [
    {
     "name": "stdout",
     "output_type": "stream",
     "text": [
      "[[9240  784]\n",
      " [6424  825]]\n",
      "0.18627229622939714\n",
      "0.5827013257685405\n"
     ]
    }
   ],
   "source": [
    "print(confusion_matrix(c_valid_pred['predict'],  y_valid_ind))\n",
    "print(f1_score(c_valid_pred['predict'],  y_valid_ind))\n",
    "print(accuracy_score(c_valid_pred['predict'],  y_valid_ind))"
   ]
  }
 ],
 "metadata": {
  "colab": {
   "collapsed_sections": [],
   "name": "Les7HW.ipynb",
   "provenance": []
  },
  "kernelspec": {
   "display_name": "Python 3",
   "language": "python",
   "name": "python3"
  }
 },
 "nbformat": 4,
 "nbformat_minor": 1
}
