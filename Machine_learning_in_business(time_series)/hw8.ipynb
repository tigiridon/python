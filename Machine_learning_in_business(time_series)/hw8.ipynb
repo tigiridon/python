{
 "cells": [
  {
   "cell_type": "markdown",
   "metadata": {},
   "source": [
    "###### From SAV to LOVE"
   ]
  },
  {
   "cell_type": "markdown",
   "metadata": {},
   "source": [
    "# HW 8"
   ]
  },
  {
   "cell_type": "code",
   "execution_count": 119,
   "metadata": {},
   "outputs": [],
   "source": [
    "import pandas as pd\n",
    "import numpy as np\n",
    "import xgboost as xgb\n",
    "import matplotlib.pyplot as plt\n",
    "from sklearn.model_selection import train_test_split\n",
    "from sklearn.metrics import f1_score, accuracy_score, confusion_matrix\n",
    "from hyperopt import hp, fmin, tpe, space_eval, Trials, STATUS_OK\n",
    "from functools import partial"
   ]
  },
  {
   "cell_type": "code",
   "execution_count": 159,
   "metadata": {},
   "outputs": [],
   "source": [
    "df = pd.read_csv('freMPL-R.csv', low_memory=False)"
   ]
  },
  {
   "cell_type": "code",
   "execution_count": 160,
   "metadata": {},
   "outputs": [
    {
     "name": "stdout",
     "output_type": "stream",
     "text": [
      "<class 'pandas.core.frame.DataFrame'>\n",
      "RangeIndex: 115155 entries, 0 to 115154\n",
      "Data columns (total 20 columns):\n",
      "Exposure             115155 non-null float64\n",
      "LicAge               115155 non-null int64\n",
      "RecordBeg            115155 non-null object\n",
      "RecordEnd            59455 non-null object\n",
      "Gender               115155 non-null object\n",
      "MariStat             115155 non-null object\n",
      "SocioCateg           115155 non-null object\n",
      "VehUsage             115155 non-null object\n",
      "DrivAge              115155 non-null int64\n",
      "HasKmLimit           115155 non-null int64\n",
      "BonusMalus           115155 non-null int64\n",
      "ClaimAmount          115155 non-null float64\n",
      "ClaimInd             115155 non-null int64\n",
      "ClaimNbResp          115155 non-null float64\n",
      "ClaimNbNonResp       115155 non-null float64\n",
      "ClaimNbParking       115155 non-null float64\n",
      "ClaimNbFireTheft     115155 non-null float64\n",
      "ClaimNbWindscreen    115155 non-null float64\n",
      "OutUseNb             115155 non-null float64\n",
      "RiskArea             115155 non-null float64\n",
      "dtypes: float64(9), int64(5), object(6)\n",
      "memory usage: 17.6+ MB\n"
     ]
    }
   ],
   "source": [
    "df = df.loc[df.Dataset.isin([5, 6, 7, 8, 9])]\n",
    "df.drop('Dataset', axis=1, inplace=True)\n",
    "df.dropna(axis=1, how='all', inplace=True)\n",
    "df.drop_duplicates(inplace=True)\n",
    "df.reset_index(drop=True, inplace=True)\n",
    "df.info()"
   ]
  },
  {
   "cell_type": "code",
   "execution_count": 161,
   "metadata": {},
   "outputs": [],
   "source": [
    "df['ClaimsCount'] = df.ClaimInd + df.ClaimNbResp + df.ClaimNbNonResp + df.ClaimNbParking + df.ClaimNbFireTheft + df.ClaimNbWindscreen\n",
    "df.loc[df.ClaimAmount == 0, 'ClaimsCount'] = 0\n",
    "df.drop([\"ClaimNbResp\", \"ClaimNbNonResp\", \"ClaimNbParking\", \"ClaimNbFireTheft\", \"ClaimNbWindscreen\"], axis=1, inplace=True)"
   ]
  },
  {
   "cell_type": "code",
   "execution_count": 162,
   "metadata": {},
   "outputs": [],
   "source": [
    "df.loc[(df.ClaimsCount == 11),'ClaimsCount'] = 10"
   ]
  },
  {
   "cell_type": "code",
   "execution_count": 163,
   "metadata": {},
   "outputs": [
    {
     "data": {
      "text/plain": [
       "0.0     103609\n",
       "2.0       3725\n",
       "1.0       3675\n",
       "3.0       2402\n",
       "4.0       1140\n",
       "5.0        441\n",
       "7.0        286\n",
       "6.0        128\n",
       "8.0         66\n",
       "9.0         22\n",
       "10.0        11\n",
       "Name: ClaimsCount, dtype: int64"
      ]
     },
     "execution_count": 163,
     "metadata": {},
     "output_type": "execute_result"
    }
   ],
   "source": [
    "ff = df.loc[(df.ClaimsCount == 10)|(df.ClaimsCount == 9)|(df.ClaimsCount == 8)|(df.ClaimsCount == 7),:] \n",
    "n = 10\n",
    "for i in range(n):\n",
    "  df = pd.concat([df,ff])\n",
    "df.ClaimsCount.value_counts() "
   ]
  },
  {
   "cell_type": "code",
   "execution_count": 164,
   "metadata": {},
   "outputs": [
    {
     "data": {
      "text/plain": [
       "0.0     103609\n",
       "2.0       3725\n",
       "1.0       3675\n",
       "3.0       2402\n",
       "4.0       1140\n",
       "6.0        768\n",
       "5.0        441\n",
       "8.0        396\n",
       "7.0        286\n",
       "9.0        132\n",
       "10.0        66\n",
       "Name: ClaimsCount, dtype: int64"
      ]
     },
     "execution_count": 164,
     "metadata": {},
     "output_type": "execute_result"
    }
   ],
   "source": [
    "ff = df.loc[(df.ClaimsCount == 6)|(df.ClaimsCount == 10)|(df.ClaimsCount == 9)|(df.ClaimsCount == 8),:] \n",
    "n = 5\n",
    "for i in range(n):\n",
    "  df = pd.concat([df,ff])\n",
    "df.ClaimsCount.value_counts()  "
   ]
  },
  {
   "cell_type": "code",
   "execution_count": 61,
   "metadata": {},
   "outputs": [],
   "source": [
    "import xgboost as xgb\n",
    "from sklearn.model_selection import train_test_split\n",
    "from sklearn.preprocessing import LabelEncoder \n",
    "from xgboost import XGBClassifier\n",
    "from sklearn.metrics import accuracy_score\n",
    "\n",
    "\n",
    "x_train_cl, x_test_cl, y_train_cl, y_test_cl = train_test_split(df.iloc[-10000:,:2], df.ClaimsCount.values[-10000:] , test_size=0.3, random_state=1)\n",
    "x_valid_cl, x_test_cl, y_valid_cl, y_test_cl = train_test_split(x_test_cl, y_test_cl, test_size=0.5, random_state=1)\n"
   ]
  },
  {
   "cell_type": "code",
   "execution_count": 190,
   "metadata": {},
   "outputs": [
    {
     "data": {
      "text/plain": [
       "(7000, 2)"
      ]
     },
     "execution_count": 190,
     "metadata": {},
     "output_type": "execute_result"
    }
   ],
   "source": [
    "x_train_cl.shape"
   ]
  },
  {
   "cell_type": "code",
   "execution_count": 191,
   "metadata": {},
   "outputs": [
    {
     "data": {
      "text/plain": [
       "(7000,)"
      ]
     },
     "execution_count": 191,
     "metadata": {},
     "output_type": "execute_result"
    }
   ],
   "source": [
    "y_train_cl.shape"
   ]
  },
  {
   "cell_type": "code",
   "execution_count": 62,
   "metadata": {},
   "outputs": [],
   "source": [
    "train_cl = xgb.DMatrix(x_train_cl, y_train_cl)\n",
    "valid_cl = xgb.DMatrix(x_valid_cl, y_valid_cl)\n",
    "test_cl = xgb.DMatrix(x_test_cl, y_test_cl)"
   ]
  },
  {
   "cell_type": "code",
   "execution_count": 63,
   "metadata": {},
   "outputs": [
    {
     "name": "stdout",
     "output_type": "stream",
     "text": [
      "[ 0.  1.  2.  3.  4.  5.  6.  7.  8.  9. 10.]\n",
      "[ 0.  1.  2.  3.  4.  5.  6.  7.  8.  9. 10.]\n",
      "[ 0.  1.  2.  3.  4.  5.  6.  7.  8.  9. 10.]\n"
     ]
    }
   ],
   "source": [
    "print(np.unique(train_cl.get_label()))\n",
    "print(np.unique(test_cl.get_label()))\n",
    "print(np.unique(valid_cl.get_label()))"
   ]
  },
  {
   "cell_type": "code",
   "execution_count": 64,
   "metadata": {},
   "outputs": [
    {
     "name": "stdout",
     "output_type": "stream",
     "text": [
      "[20:34:01] WARNING: C:\\Users\\Administrator\\workspace\\xgboost-win64_release_1.2.0\\src\\learner.cc:516: \n",
      "Parameters: { silent } might not be used.\n",
      "\n",
      "  This may not be accurate due to some parameters are only used in language bindings but\n",
      "  passed down to XGBoost core.  Or some parameters are not used but slip through this\n",
      "  verification. Please open an issue if you find above cases.\n",
      "\n",
      "\n",
      "[0]\ttrain-merror:0.18814\tvalid-merror:0.18333\n",
      "Multiple eval metrics have been passed: 'valid-merror' will be used for early stopping.\n",
      "\n",
      "Will train until valid-merror hasn't improved in 10 rounds.\n",
      "[1]\ttrain-merror:0.18057\tvalid-merror:0.17733\n",
      "[2]\ttrain-merror:0.17271\tvalid-merror:0.16933\n",
      "[3]\ttrain-merror:0.16657\tvalid-merror:0.16200\n",
      "[4]\ttrain-merror:0.16657\tvalid-merror:0.16200\n",
      "[5]\ttrain-merror:0.16700\tvalid-merror:0.16267\n",
      "[6]\ttrain-merror:0.16786\tvalid-merror:0.16133\n",
      "[7]\ttrain-merror:0.16914\tvalid-merror:0.16067\n",
      "[8]\ttrain-merror:0.16314\tvalid-merror:0.15267\n",
      "[9]\ttrain-merror:0.15629\tvalid-merror:0.14267\n"
     ]
    }
   ],
   "source": [
    "params_cl ={\n",
    "            'max_depth': 3,  # глубина дерева\n",
    "            'eta': 0.3,  # шаг обучения\n",
    "            'num_class': 11,  # число классов\n",
    "      \n",
    "            'objective': 'multi:softmax',  # выход модели (фактически строим 11 моделей, но перевзвесили по софтмаксу)\n",
    "            'silent':1 # молча, без логов \n",
    "            }\n",
    "\n",
    "train_params_cl = {'num_boost_round': 300,\n",
    "\n",
    "                'maximize': False,\n",
    "                'verbose_eval': False}\n",
    "\n",
    "\n",
    "progress_cl = dict()\n",
    "xgb_cl = xgb.train(params=params_cl, dtrain=train_cl, early_stopping_rounds=10,\n",
    "                     evals=[(train_cl, \"train\"), (valid_cl, \"valid\")])"
   ]
  },
  {
   "cell_type": "code",
   "execution_count": 65,
   "metadata": {},
   "outputs": [
    {
     "name": "stdout",
     "output_type": "stream",
     "text": [
      "0.8736968449931413\n"
     ]
    }
   ],
   "source": [
    "y_pred = xgb_cl.predict(xgb.DMatrix(df.iloc[:,:2])) \n",
    "\n",
    "accuracy = accuracy_score(df.ClaimsCount, y_pred) \n",
    "print(accuracy)"
   ]
  },
  {
   "cell_type": "code",
   "execution_count": 15,
   "metadata": {},
   "outputs": [
    {
     "data": {
      "text/plain": [
       "array([ 0.,  0.,  0., ...,  8.,  8., 10.], dtype=float32)"
      ]
     },
     "execution_count": 15,
     "metadata": {},
     "output_type": "execute_result"
    }
   ],
   "source": [
    "y_pred"
   ]
  },
  {
   "cell_type": "code",
   "execution_count": 22,
   "metadata": {},
   "outputs": [
    {
     "data": {
      "text/html": [
       "<div>\n",
       "<style scoped>\n",
       "    .dataframe tbody tr th:only-of-type {\n",
       "        vertical-align: middle;\n",
       "    }\n",
       "\n",
       "    .dataframe tbody tr th {\n",
       "        vertical-align: top;\n",
       "    }\n",
       "\n",
       "    .dataframe thead th {\n",
       "        text-align: right;\n",
       "    }\n",
       "</style>\n",
       "<table border=\"1\" class=\"dataframe\">\n",
       "  <thead>\n",
       "    <tr style=\"text-align: right;\">\n",
       "      <th></th>\n",
       "      <th>Count</th>\n",
       "    </tr>\n",
       "  </thead>\n",
       "  <tbody>\n",
       "    <tr>\n",
       "      <td>0</td>\n",
       "      <td>0.0</td>\n",
       "    </tr>\n",
       "    <tr>\n",
       "      <td>1</td>\n",
       "      <td>0.0</td>\n",
       "    </tr>\n",
       "    <tr>\n",
       "      <td>2</td>\n",
       "      <td>0.0</td>\n",
       "    </tr>\n",
       "    <tr>\n",
       "      <td>3</td>\n",
       "      <td>0.0</td>\n",
       "    </tr>\n",
       "    <tr>\n",
       "      <td>4</td>\n",
       "      <td>0.0</td>\n",
       "    </tr>\n",
       "    <tr>\n",
       "      <td>...</td>\n",
       "      <td>...</td>\n",
       "    </tr>\n",
       "    <tr>\n",
       "      <td>116635</td>\n",
       "      <td>8.0</td>\n",
       "    </tr>\n",
       "    <tr>\n",
       "      <td>116636</td>\n",
       "      <td>9.0</td>\n",
       "    </tr>\n",
       "    <tr>\n",
       "      <td>116637</td>\n",
       "      <td>8.0</td>\n",
       "    </tr>\n",
       "    <tr>\n",
       "      <td>116638</td>\n",
       "      <td>8.0</td>\n",
       "    </tr>\n",
       "    <tr>\n",
       "      <td>116639</td>\n",
       "      <td>10.0</td>\n",
       "    </tr>\n",
       "  </tbody>\n",
       "</table>\n",
       "<p>116640 rows × 1 columns</p>\n",
       "</div>"
      ],
      "text/plain": [
       "        Count\n",
       "0         0.0\n",
       "1         0.0\n",
       "2         0.0\n",
       "3         0.0\n",
       "4         0.0\n",
       "...       ...\n",
       "116635    8.0\n",
       "116636    9.0\n",
       "116637    8.0\n",
       "116638    8.0\n",
       "116639   10.0\n",
       "\n",
       "[116640 rows x 1 columns]"
      ]
     },
     "execution_count": 22,
     "metadata": {},
     "output_type": "execute_result"
    }
   ],
   "source": [
    "FreqCount = pd.DataFrame(y_pred, columns=['Count'])\n",
    "FreqCount"
   ]
  },
  {
   "cell_type": "code",
   "execution_count": 31,
   "metadata": {},
   "outputs": [
    {
     "data": {
      "text/plain": [
       "0.0     113103\n",
       "6.0       2187\n",
       "8.0        713\n",
       "9.0        421\n",
       "10.0       214\n",
       "7.0          2\n",
       "Name: Count, dtype: int64"
      ]
     },
     "execution_count": 31,
     "metadata": {},
     "output_type": "execute_result"
    }
   ],
   "source": [
    "FreqCount['Count'].value_counts()"
   ]
  },
  {
   "cell_type": "code",
   "execution_count": 165,
   "metadata": {},
   "outputs": [
    {
     "data": {
      "text/plain": [
       "Index(['Exposure', 'LicAge', 'RecordBeg', 'RecordEnd', 'Gender', 'MariStat',\n",
       "       'SocioCateg', 'VehUsage', 'DrivAge', 'HasKmLimit', 'BonusMalus',\n",
       "       'ClaimAmount', 'ClaimInd', 'OutUseNb', 'RiskArea', 'ClaimsCount'],\n",
       "      dtype='object')"
      ]
     },
     "execution_count": 165,
     "metadata": {},
     "output_type": "execute_result"
    }
   ],
   "source": [
    "df.columns"
   ]
  },
  {
   "cell_type": "code",
   "execution_count": 166,
   "metadata": {},
   "outputs": [],
   "source": [
    "df['weight'] = 1\n",
    "df.loc[df['ClaimsCount'] == 0.0, 'weight'] = 0.05"
   ]
  },
  {
   "cell_type": "code",
   "execution_count": null,
   "metadata": {},
   "outputs": [],
   "source": [
    "RecordBeg, RecordEnd, Gender, MariStat, SocioCateg, VehUsage"
   ]
  },
  {
   "cell_type": "code",
   "execution_count": 167,
   "metadata": {},
   "outputs": [],
   "source": [
    "df_2 = df[['Exposure', 'LicAge', 'DrivAge', 'HasKmLimit', 'BonusMalus',\n",
    "       'ClaimAmount', 'ClaimInd', 'OutUseNb', 'RiskArea', 'weight', 'ClaimsCount']]"
   ]
  },
  {
   "cell_type": "code",
   "execution_count": 150,
   "metadata": {},
   "outputs": [],
   "source": [
    "df_2.loc[(df['ClaimsCount'] == 11),'ClaimsCount'] = 10"
   ]
  },
  {
   "cell_type": "code",
   "execution_count": 180,
   "metadata": {},
   "outputs": [
    {
     "data": {
      "text/plain": [
       "0.0     103609\n",
       "2.0       3725\n",
       "1.0       3675\n",
       "3.0       2402\n",
       "4.0       1140\n",
       "6.0        768\n",
       "5.0        441\n",
       "8.0        396\n",
       "7.0        286\n",
       "9.0        132\n",
       "10.0        66\n",
       "Name: ClaimsCount, dtype: int64"
      ]
     },
     "execution_count": 180,
     "metadata": {},
     "output_type": "execute_result"
    }
   ],
   "source": [
    "df['ClaimsCount'].value_counts()"
   ]
  },
  {
   "cell_type": "code",
   "execution_count": 168,
   "metadata": {},
   "outputs": [
    {
     "data": {
      "text/html": [
       "<div>\n",
       "<style scoped>\n",
       "    .dataframe tbody tr th:only-of-type {\n",
       "        vertical-align: middle;\n",
       "    }\n",
       "\n",
       "    .dataframe tbody tr th {\n",
       "        vertical-align: top;\n",
       "    }\n",
       "\n",
       "    .dataframe thead th {\n",
       "        text-align: right;\n",
       "    }\n",
       "</style>\n",
       "<table border=\"1\" class=\"dataframe\">\n",
       "  <thead>\n",
       "    <tr style=\"text-align: right;\">\n",
       "      <th></th>\n",
       "      <th>Exposure</th>\n",
       "      <th>LicAge</th>\n",
       "      <th>DrivAge</th>\n",
       "      <th>HasKmLimit</th>\n",
       "      <th>BonusMalus</th>\n",
       "      <th>ClaimAmount</th>\n",
       "      <th>ClaimInd</th>\n",
       "      <th>OutUseNb</th>\n",
       "      <th>RiskArea</th>\n",
       "      <th>weight</th>\n",
       "      <th>ClaimsCount</th>\n",
       "    </tr>\n",
       "  </thead>\n",
       "  <tbody>\n",
       "    <tr>\n",
       "      <td>0</td>\n",
       "      <td>0.083</td>\n",
       "      <td>332</td>\n",
       "      <td>46</td>\n",
       "      <td>0</td>\n",
       "      <td>50</td>\n",
       "      <td>0.0</td>\n",
       "      <td>0</td>\n",
       "      <td>0.0</td>\n",
       "      <td>9.0</td>\n",
       "      <td>0.05</td>\n",
       "      <td>0.0</td>\n",
       "    </tr>\n",
       "    <tr>\n",
       "      <td>1</td>\n",
       "      <td>0.916</td>\n",
       "      <td>333</td>\n",
       "      <td>46</td>\n",
       "      <td>0</td>\n",
       "      <td>50</td>\n",
       "      <td>0.0</td>\n",
       "      <td>0</td>\n",
       "      <td>0.0</td>\n",
       "      <td>9.0</td>\n",
       "      <td>0.05</td>\n",
       "      <td>0.0</td>\n",
       "    </tr>\n",
       "    <tr>\n",
       "      <td>2</td>\n",
       "      <td>0.550</td>\n",
       "      <td>173</td>\n",
       "      <td>32</td>\n",
       "      <td>0</td>\n",
       "      <td>68</td>\n",
       "      <td>0.0</td>\n",
       "      <td>0</td>\n",
       "      <td>0.0</td>\n",
       "      <td>7.0</td>\n",
       "      <td>0.05</td>\n",
       "      <td>0.0</td>\n",
       "    </tr>\n",
       "    <tr>\n",
       "      <td>3</td>\n",
       "      <td>0.089</td>\n",
       "      <td>364</td>\n",
       "      <td>52</td>\n",
       "      <td>0</td>\n",
       "      <td>50</td>\n",
       "      <td>0.0</td>\n",
       "      <td>0</td>\n",
       "      <td>0.0</td>\n",
       "      <td>8.0</td>\n",
       "      <td>0.05</td>\n",
       "      <td>0.0</td>\n",
       "    </tr>\n",
       "    <tr>\n",
       "      <td>4</td>\n",
       "      <td>0.233</td>\n",
       "      <td>426</td>\n",
       "      <td>57</td>\n",
       "      <td>0</td>\n",
       "      <td>50</td>\n",
       "      <td>0.0</td>\n",
       "      <td>0</td>\n",
       "      <td>0.0</td>\n",
       "      <td>7.0</td>\n",
       "      <td>0.05</td>\n",
       "      <td>0.0</td>\n",
       "    </tr>\n",
       "  </tbody>\n",
       "</table>\n",
       "</div>"
      ],
      "text/plain": [
       "   Exposure  LicAge  DrivAge  HasKmLimit  BonusMalus  ClaimAmount  ClaimInd  \\\n",
       "0     0.083     332       46           0          50          0.0         0   \n",
       "1     0.916     333       46           0          50          0.0         0   \n",
       "2     0.550     173       32           0          68          0.0         0   \n",
       "3     0.089     364       52           0          50          0.0         0   \n",
       "4     0.233     426       57           0          50          0.0         0   \n",
       "\n",
       "   OutUseNb  RiskArea  weight  ClaimsCount  \n",
       "0       0.0       9.0    0.05          0.0  \n",
       "1       0.0       9.0    0.05          0.0  \n",
       "2       0.0       7.0    0.05          0.0  \n",
       "3       0.0       8.0    0.05          0.0  \n",
       "4       0.0       7.0    0.05          0.0  "
      ]
     },
     "execution_count": 168,
     "metadata": {},
     "output_type": "execute_result"
    }
   ],
   "source": [
    "df_2.head()"
   ]
  },
  {
   "cell_type": "code",
   "execution_count": 206,
   "metadata": {},
   "outputs": [],
   "source": [
    "x_train, x_test, y_train, y_test = train_test_split(df_2.iloc[-10000:,:10], df_2.ClaimsCount.values[-10000:] , test_size=0.3, random_state=10)\n",
    "x_valid, x_test, y_valid, y_test = train_test_split(x_test, y_test, test_size=0.5, random_state=10)"
   ]
  },
  {
   "cell_type": "code",
   "execution_count": 207,
   "metadata": {},
   "outputs": [
    {
     "data": {
      "text/plain": [
       "(7000, 10)"
      ]
     },
     "execution_count": 207,
     "metadata": {},
     "output_type": "execute_result"
    }
   ],
   "source": [
    "x_train.shape"
   ]
  },
  {
   "cell_type": "code",
   "execution_count": 208,
   "metadata": {},
   "outputs": [
    {
     "data": {
      "text/plain": [
       "(7000,)"
      ]
     },
     "execution_count": 208,
     "metadata": {},
     "output_type": "execute_result"
    }
   ],
   "source": [
    "y_train.shape"
   ]
  },
  {
   "cell_type": "code",
   "execution_count": 209,
   "metadata": {},
   "outputs": [],
   "source": [
    "train_cl = xgb.DMatrix(x_train, y_train, weight=x_train['weight'])\n",
    "valid_cl = xgb.DMatrix(x_valid, y_valid)\n",
    "test_cl = xgb.DMatrix(x_test, y_test)"
   ]
  },
  {
   "cell_type": "code",
   "execution_count": 172,
   "metadata": {},
   "outputs": [],
   "source": [
    "# Зададим функцию Deviance для распределения Пуассона\n",
    "\n",
    "def xgb_eval_dev_poisson(yhat, y):\n",
    "    t_hat, t = yhat + 1, y.get_label() + 1\n",
    "    return 'dev_poisson', 2 * np.sum(t * np.log(t / t_hat) - (t - t_hat))"
   ]
  },
  {
   "cell_type": "code",
   "execution_count": 173,
   "metadata": {},
   "outputs": [],
   "source": [
    "# Определим функцию для оптимизации гиперпараметров алгоритмом TPE\n",
    "\n",
    "def objective(params, cv_params, data):\n",
    "    if 'max_depth' in params.keys():\n",
    "        params['max_depth'] = int(params['max_depth'])\n",
    "    cv_result = xgb.cv(params=params, dtrain=data, **cv_params)\n",
    "    name = [i for i in cv_result.columns if all([i.startswith('test-'), i.endswith('-mean')])][-1]\n",
    "    score = cv_result[name][-1:].values[0]\n",
    "    return {'loss': score, 'status': STATUS_OK}"
   ]
  },
  {
   "cell_type": "code",
   "execution_count": 192,
   "metadata": {},
   "outputs": [],
   "source": [
    "# Определим параметры выполнения кроссвалидации\n",
    "\n",
    "cv_params = {'num_boost_round': 300,\n",
    "             'nfold': 5,\n",
    "             'shuffle': True,\n",
    "             'stratified': False,\n",
    "             'maximize': False,\n",
    "             'early_stopping_rounds': 20\n",
    "              }"
   ]
  },
  {
   "cell_type": "code",
   "execution_count": 193,
   "metadata": {},
   "outputs": [],
   "source": [
    "# Определим границы, в которых будем искать гиперпараметры\n",
    "\n",
    "space_freq = {'objective': 'multi:softmax',\n",
    "              'max_depth': hp.choice('max_depth', [5, 8, 10, 12, 15]),\n",
    "              'min_child_weight': hp.uniform('min_child_weight', 0, 50),\n",
    "              'subsample': hp.uniform('subsample', 0.5, 1),\n",
    "              'colsample_bytree': hp.uniform('colsample_bytree', 0.5, 1),\n",
    "              'alpha': hp.uniform('alpha', 0, 1),\n",
    "              'lambda': hp.uniform('lambda', 0, 1),\n",
    "              'num_class': 11,  # число классов\n",
    "              'eta': hp.uniform('eta', 0.01, 1),\n",
    "              'tree_method': 'hist'\n",
    "              }"
   ]
  },
  {
   "cell_type": "code",
   "execution_count": 195,
   "metadata": {},
   "outputs": [
    {
     "name": "stdout",
     "output_type": "stream",
     "text": [
      "100%|█████████████████████████████████████████████████████████| 20/20 [03:15<00:00,  9.76s/trial, best loss: 0.1869278]\n"
     ]
    }
   ],
   "source": [
    "# Оптимизация (количество итераций снижено для ускорения работы)\n",
    "\n",
    "trials = Trials()\n",
    "best = fmin(fn=partial(objective, cv_params=cv_params, data=train_cl),\n",
    "            space=space_freq, trials=trials, algo=tpe.suggest, max_evals=20, timeout=3600)"
   ]
  },
  {
   "cell_type": "code",
   "execution_count": 196,
   "metadata": {},
   "outputs": [
    {
     "data": {
      "text/plain": [
       "{'alpha': 0.6301543217440518,\n",
       " 'colsample_bytree': 0.5904327633173406,\n",
       " 'eta': 0.7885919544412047,\n",
       " 'lambda': 0.920323377435739,\n",
       " 'max_depth': 10,\n",
       " 'min_child_weight': 0.3992934415860072,\n",
       " 'num_class': 11,\n",
       " 'objective': 'multi:softmax',\n",
       " 'subsample': 0.9456841699894425,\n",
       " 'tree_method': 'hist'}"
      ]
     },
     "execution_count": 196,
     "metadata": {},
     "output_type": "execute_result"
    }
   ],
   "source": [
    "# Оптимальные гиперпараметры \n",
    "\n",
    "best_params = space_eval(space_freq, best)\n",
    "best_params"
   ]
  },
  {
   "cell_type": "code",
   "execution_count": 200,
   "metadata": {},
   "outputs": [],
   "source": [
    "train_params = {'num_boost_round': 300,\n",
    "                'maximize': False,\n",
    "                'verbose_eval': False}"
   ]
  },
  {
   "cell_type": "code",
   "execution_count": 210,
   "metadata": {},
   "outputs": [],
   "source": [
    "# Построение модели с ранней остановкой (early stopping)\n",
    "\n",
    "progress = dict()\n",
    "xgb_freq = xgb.train(params=best_params, dtrain=train_cl, early_stopping_rounds=10,\n",
    "                     evals=[(train_cl, \"train\"), (valid_cl, \"valid\")],\n",
    "                     evals_result=progress, **train_params)"
   ]
  },
  {
   "cell_type": "code",
   "execution_count": 211,
   "metadata": {},
   "outputs": [
    {
     "data": {
      "text/plain": [
       "0.038"
      ]
     },
     "execution_count": 211,
     "metadata": {},
     "output_type": "execute_result"
    }
   ],
   "source": [
    "xgb_freq.best_score"
   ]
  },
  {
   "cell_type": "code",
   "execution_count": 212,
   "metadata": {},
   "outputs": [],
   "source": [
    "# Построение модели без ранней остановки\n",
    "\n",
    "progress_wo_es = dict()\n",
    "xgb_freq_wo_es = xgb.train(params=best_params, dtrain=train_cl, evals=[(train_cl, \"train\"), (valid_cl, \"valid\"), (test_cl, \"test\")],\n",
    "                           evals_result=progress_wo_es, **train_params)"
   ]
  },
  {
   "cell_type": "code",
   "execution_count": 214,
   "metadata": {},
   "outputs": [],
   "source": [
    "y_test_f = xgb_freq_wo_es.predict(test_cl)\n",
    "y_valid_f = xgb_freq_wo_es.predict(valid_cl)\n",
    "y_train_f = xgb_freq_wo_es.predict(train_cl)"
   ]
  },
  {
   "cell_type": "code",
   "execution_count": 216,
   "metadata": {},
   "outputs": [
    {
     "data": {
      "text/plain": [
       "0.9606666666666668"
      ]
     },
     "execution_count": 216,
     "metadata": {},
     "output_type": "execute_result"
    }
   ],
   "source": [
    "f1_score(y_test, y_test_f, average='micro')"
   ]
  },
  {
   "cell_type": "code",
   "execution_count": 223,
   "metadata": {},
   "outputs": [
    {
     "data": {
      "text/plain": [
       "1.0"
      ]
     },
     "execution_count": 223,
     "metadata": {},
     "output_type": "execute_result"
    }
   ],
   "source": [
    "f1_score(y_train, y_train_f, average='micro')"
   ]
  },
  {
   "cell_type": "code",
   "execution_count": 224,
   "metadata": {},
   "outputs": [
    {
     "data": {
      "text/plain": [
       "0.962"
      ]
     },
     "execution_count": 224,
     "metadata": {},
     "output_type": "execute_result"
    }
   ],
   "source": [
    "f1_score(y_valid, y_valid_f, average='micro')"
   ]
  },
  {
   "cell_type": "code",
   "execution_count": 219,
   "metadata": {},
   "outputs": [],
   "source": [
    "dfsets = [{'set': 'train', 'dmat': train_cl, 'target': y_train},\n",
    "          {'set': 'valid', 'dmat': valid_cl, 'target': y_valid},\n",
    "          {'set': 'test', 'dmat': test_cl, 'target': y_test}]"
   ]
  },
  {
   "cell_type": "code",
   "execution_count": 221,
   "metadata": {},
   "outputs": [
    {
     "data": {
      "image/png": "[encoded data removed]",
      "text/plain": [
       "<Figure size 1080x216 with 6 Axes>"
      ]
     },
     "metadata": {
      "needs_background": "light"
     },
     "output_type": "display_data"
    }
   ],
   "source": [
    "plt.subplots(1,3, figsize=(15,3))\n",
    "for i in range(len(dfsets)):\n",
    "    confmatrix = confusion_matrix(dfsets[i]['target'], xgb_freq_wo_es.predict(dfsets[i]['dmat']))\n",
    "    plt.subplot(1,3,i+1)\n",
    "    plt.imshow(confmatrix, cmap='Greys')\n",
    "    plt.colorbar()\n",
    "    plt.ylabel('True')\n",
    "    plt.xlabel('Predicted')\n",
    "plt.show()"
   ]
  }
 ],
 "metadata": {
  "kernelspec": {
   "display_name": "Python 3",
   "language": "python",
   "name": "python3"
  },
  "language_info": {
   "codemirror_mode": {
    "name": "ipython",
    "version": 3
   },
   "file_extension": ".py",
   "mimetype": "text/x-python",
   "name": "python",
   "nbconvert_exporter": "python",
   "pygments_lexer": "ipython3",
   "version": "3.7.4"
  }
 },
 "nbformat": 4,
 "nbformat_minor": 2
}
