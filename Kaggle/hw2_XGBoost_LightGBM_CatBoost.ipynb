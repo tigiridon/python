{
 "cells": [
  {
   "cell_type": "markdown",
   "metadata": {},
   "source": [
    "## Спортивный анализ данных. Платформа Kaggle\n",
    "### Алгоритмы машинного обучения XGBoost, LightGBM, CatBoost"
   ]
  },
  {
   "cell_type": "markdown",
   "metadata": {},
   "source": [
    "### Практическое задание 2.\n",
    "\n",
    "* Зафиксировать схему валидации решения и использовать во всех задачах этого задания. \n",
    "* Метрика качества - ROC AUC\n",
    "* Целевая переменная - isFraud.\n",
    "\n",
    "\n",
    "Ссылка на данные - https://drive.google.com/file/d/1GN6d4_QTYWY-qFdjz_TqxFHIJRi_oTRP/view?usp=sharing"
   ]
  },
  {
   "cell_type": "markdown",
   "metadata": {},
   "source": [
    "### Содержание <a name = 'outline'></a>\n",
    "* [I. XGBoost](#XGBoost)\n",
    "* [II. LightGBM](#LightGBM)\n",
    "* [III. CatBoost](#CatBoost)\n",
    "* [IV. ROC-кривая](#ROC_curve)"
   ]
  },
  {
   "cell_type": "code",
   "execution_count": 1,
   "metadata": {},
   "outputs": [],
   "source": [
    "from typing import List, Optional\n",
    "from tqdm import tqdm\n",
    "\n",
    "import numpy as np\n",
    "import pandas as pd\n",
    "\n",
    "\n",
    "import scipy.stats as st\n",
    "from scipy.stats import probplot, ks_2samp\n",
    "from sklearn.metrics import roc_auc_score, roc_curve, auc\n",
    "from sklearn.ensemble import RandomForestRegressor\n",
    "\n",
    "from imblearn.under_sampling import RandomUnderSampler \n",
    "from collections import Counter\n",
    "\n",
    "from sklearn.model_selection import train_test_split, KFold, cross_val_score\n",
    "from sklearn.base import BaseEstimator, TransformerMixin\n",
    "from sklearn.utils.validation import check_is_fitted\n",
    "import missingno as msno\n",
    "\n",
    "import xgboost as xgb\n",
    "import lightgbm as lgb\n",
    "import catboost as cb\n",
    "\n",
    "import seaborn as sns\n",
    "import matplotlib as mpl\n",
    "import matplotlib.pyplot as plt\n",
    "%matplotlib inline"
   ]
  },
  {
   "cell_type": "code",
   "execution_count": 2,
   "metadata": {},
   "outputs": [],
   "source": [
    "import warnings\n",
    "warnings.filterwarnings('ignore')"
   ]
  },
  {
   "cell_type": "markdown",
   "metadata": {},
   "source": [
    "#### Пути к директориям и файлам"
   ]
  },
  {
   "cell_type": "code",
   "execution_count": 3,
   "metadata": {},
   "outputs": [],
   "source": [
    "PATH = 'C:/Users/ASER/Desktop/GeekBrains/Kaggle/Lesson_2/data/'\n",
    "TRAIN_DATASET_PATH = PATH + 'train.csv'\n",
    "TEST_DATASET_PATH = PATH + 'test.csv'"
   ]
  },
  {
   "cell_type": "markdown",
   "metadata": {},
   "source": [
    "#### Загрузка данных"
   ]
  },
  {
   "cell_type": "code",
   "execution_count": 4,
   "metadata": {},
   "outputs": [
    {
     "name": "stdout",
     "output_type": "stream",
     "text": [
      "train.shape (180000, 394)\n"
     ]
    },
    {
     "data": {
      "text/html": [
       "<div>\n",
       "<style scoped>\n",
       "    .dataframe tbody tr th:only-of-type {\n",
       "        vertical-align: middle;\n",
       "    }\n",
       "\n",
       "    .dataframe tbody tr th {\n",
       "        vertical-align: top;\n",
       "    }\n",
       "\n",
       "    .dataframe thead th {\n",
       "        text-align: right;\n",
       "    }\n",
       "</style>\n",
       "<table border=\"1\" class=\"dataframe\">\n",
       "  <thead>\n",
       "    <tr style=\"text-align: right;\">\n",
       "      <th></th>\n",
       "      <th>TransactionID</th>\n",
       "      <th>isFraud</th>\n",
       "      <th>TransactionDT</th>\n",
       "      <th>TransactionAmt</th>\n",
       "      <th>ProductCD</th>\n",
       "      <th>card1</th>\n",
       "      <th>card2</th>\n",
       "      <th>card3</th>\n",
       "      <th>card4</th>\n",
       "      <th>card5</th>\n",
       "      <th>...</th>\n",
       "      <th>V330</th>\n",
       "      <th>V331</th>\n",
       "      <th>V332</th>\n",
       "      <th>V333</th>\n",
       "      <th>V334</th>\n",
       "      <th>V335</th>\n",
       "      <th>V336</th>\n",
       "      <th>V337</th>\n",
       "      <th>V338</th>\n",
       "      <th>V339</th>\n",
       "    </tr>\n",
       "  </thead>\n",
       "  <tbody>\n",
       "    <tr>\n",
       "      <th>0</th>\n",
       "      <td>2987000</td>\n",
       "      <td>0</td>\n",
       "      <td>86400</td>\n",
       "      <td>68.5</td>\n",
       "      <td>W</td>\n",
       "      <td>13926</td>\n",
       "      <td>NaN</td>\n",
       "      <td>150.0</td>\n",
       "      <td>discover</td>\n",
       "      <td>142.0</td>\n",
       "      <td>...</td>\n",
       "      <td>NaN</td>\n",
       "      <td>NaN</td>\n",
       "      <td>NaN</td>\n",
       "      <td>NaN</td>\n",
       "      <td>NaN</td>\n",
       "      <td>NaN</td>\n",
       "      <td>NaN</td>\n",
       "      <td>NaN</td>\n",
       "      <td>NaN</td>\n",
       "      <td>NaN</td>\n",
       "    </tr>\n",
       "    <tr>\n",
       "      <th>1</th>\n",
       "      <td>2987001</td>\n",
       "      <td>0</td>\n",
       "      <td>86401</td>\n",
       "      <td>29.0</td>\n",
       "      <td>W</td>\n",
       "      <td>2755</td>\n",
       "      <td>404.0</td>\n",
       "      <td>150.0</td>\n",
       "      <td>mastercard</td>\n",
       "      <td>102.0</td>\n",
       "      <td>...</td>\n",
       "      <td>NaN</td>\n",
       "      <td>NaN</td>\n",
       "      <td>NaN</td>\n",
       "      <td>NaN</td>\n",
       "      <td>NaN</td>\n",
       "      <td>NaN</td>\n",
       "      <td>NaN</td>\n",
       "      <td>NaN</td>\n",
       "      <td>NaN</td>\n",
       "      <td>NaN</td>\n",
       "    </tr>\n",
       "  </tbody>\n",
       "</table>\n",
       "<p>2 rows × 394 columns</p>\n",
       "</div>"
      ],
      "text/plain": [
       "   TransactionID  isFraud  TransactionDT  TransactionAmt ProductCD  card1  \\\n",
       "0        2987000        0          86400            68.5         W  13926   \n",
       "1        2987001        0          86401            29.0         W   2755   \n",
       "\n",
       "   card2  card3       card4  card5  ... V330  V331  V332  V333  V334 V335  \\\n",
       "0    NaN  150.0    discover  142.0  ...  NaN   NaN   NaN   NaN   NaN  NaN   \n",
       "1  404.0  150.0  mastercard  102.0  ...  NaN   NaN   NaN   NaN   NaN  NaN   \n",
       "\n",
       "  V336  V337  V338  V339  \n",
       "0  NaN   NaN   NaN   NaN  \n",
       "1  NaN   NaN   NaN   NaN  \n",
       "\n",
       "[2 rows x 394 columns]"
      ]
     },
     "execution_count": 4,
     "metadata": {},
     "output_type": "execute_result"
    }
   ],
   "source": [
    "train = pd.read_csv(TRAIN_DATASET_PATH)\n",
    "print('train.shape', train.shape)\n",
    "train.head(2)"
   ]
  },
  {
   "cell_type": "code",
   "execution_count": 5,
   "metadata": {},
   "outputs": [
    {
     "name": "stdout",
     "output_type": "stream",
     "text": [
      "test.shape (100001, 394)\n"
     ]
    },
    {
     "data": {
      "text/html": [
       "<div>\n",
       "<style scoped>\n",
       "    .dataframe tbody tr th:only-of-type {\n",
       "        vertical-align: middle;\n",
       "    }\n",
       "\n",
       "    .dataframe tbody tr th {\n",
       "        vertical-align: top;\n",
       "    }\n",
       "\n",
       "    .dataframe thead th {\n",
       "        text-align: right;\n",
       "    }\n",
       "</style>\n",
       "<table border=\"1\" class=\"dataframe\">\n",
       "  <thead>\n",
       "    <tr style=\"text-align: right;\">\n",
       "      <th></th>\n",
       "      <th>TransactionID</th>\n",
       "      <th>isFraud</th>\n",
       "      <th>TransactionDT</th>\n",
       "      <th>TransactionAmt</th>\n",
       "      <th>ProductCD</th>\n",
       "      <th>card1</th>\n",
       "      <th>card2</th>\n",
       "      <th>card3</th>\n",
       "      <th>card4</th>\n",
       "      <th>card5</th>\n",
       "      <th>...</th>\n",
       "      <th>V330</th>\n",
       "      <th>V331</th>\n",
       "      <th>V332</th>\n",
       "      <th>V333</th>\n",
       "      <th>V334</th>\n",
       "      <th>V335</th>\n",
       "      <th>V336</th>\n",
       "      <th>V337</th>\n",
       "      <th>V338</th>\n",
       "      <th>V339</th>\n",
       "    </tr>\n",
       "  </thead>\n",
       "  <tbody>\n",
       "    <tr>\n",
       "      <th>0</th>\n",
       "      <td>3287000</td>\n",
       "      <td>1</td>\n",
       "      <td>7415038</td>\n",
       "      <td>226.0</td>\n",
       "      <td>W</td>\n",
       "      <td>12473</td>\n",
       "      <td>555.0</td>\n",
       "      <td>150.0</td>\n",
       "      <td>visa</td>\n",
       "      <td>226.0</td>\n",
       "      <td>...</td>\n",
       "      <td>NaN</td>\n",
       "      <td>NaN</td>\n",
       "      <td>NaN</td>\n",
       "      <td>NaN</td>\n",
       "      <td>NaN</td>\n",
       "      <td>NaN</td>\n",
       "      <td>NaN</td>\n",
       "      <td>NaN</td>\n",
       "      <td>NaN</td>\n",
       "      <td>NaN</td>\n",
       "    </tr>\n",
       "    <tr>\n",
       "      <th>1</th>\n",
       "      <td>3287001</td>\n",
       "      <td>0</td>\n",
       "      <td>7415054</td>\n",
       "      <td>3072.0</td>\n",
       "      <td>W</td>\n",
       "      <td>15651</td>\n",
       "      <td>417.0</td>\n",
       "      <td>150.0</td>\n",
       "      <td>visa</td>\n",
       "      <td>226.0</td>\n",
       "      <td>...</td>\n",
       "      <td>NaN</td>\n",
       "      <td>NaN</td>\n",
       "      <td>NaN</td>\n",
       "      <td>NaN</td>\n",
       "      <td>NaN</td>\n",
       "      <td>NaN</td>\n",
       "      <td>NaN</td>\n",
       "      <td>NaN</td>\n",
       "      <td>NaN</td>\n",
       "      <td>NaN</td>\n",
       "    </tr>\n",
       "  </tbody>\n",
       "</table>\n",
       "<p>2 rows × 394 columns</p>\n",
       "</div>"
      ],
      "text/plain": [
       "   TransactionID  isFraud  TransactionDT  TransactionAmt ProductCD  card1  \\\n",
       "0        3287000        1        7415038           226.0         W  12473   \n",
       "1        3287001        0        7415054          3072.0         W  15651   \n",
       "\n",
       "   card2  card3 card4  card5  ... V330  V331  V332  V333  V334 V335 V336  \\\n",
       "0  555.0  150.0  visa  226.0  ...  NaN   NaN   NaN   NaN   NaN  NaN  NaN   \n",
       "1  417.0  150.0  visa  226.0  ...  NaN   NaN   NaN   NaN   NaN  NaN  NaN   \n",
       "\n",
       "   V337  V338  V339  \n",
       "0   NaN   NaN   NaN  \n",
       "1   NaN   NaN   NaN  \n",
       "\n",
       "[2 rows x 394 columns]"
      ]
     },
     "execution_count": 5,
     "metadata": {},
     "output_type": "execute_result"
    }
   ],
   "source": [
    "test = pd.read_csv(TEST_DATASET_PATH)\n",
    "print('test.shape', test.shape)\n",
    "test.head(2)"
   ]
  },
  {
   "cell_type": "code",
   "execution_count": 6,
   "metadata": {},
   "outputs": [],
   "source": [
    "TARGET_NAME = 'isFraud'"
   ]
  },
  {
   "cell_type": "markdown",
   "metadata": {},
   "source": [
    "#### Обзор распределения целевой переменной"
   ]
  },
  {
   "cell_type": "code",
   "execution_count": 7,
   "metadata": {},
   "outputs": [
    {
     "data": {
      "text/plain": [
       "0    174859\n",
       "1      5141\n",
       "Name: isFraud, dtype: int64"
      ]
     },
     "execution_count": 7,
     "metadata": {},
     "output_type": "execute_result"
    }
   ],
   "source": [
    "train[TARGET_NAME].value_counts()"
   ]
  },
  {
   "cell_type": "markdown",
   "metadata": {},
   "source": [
    "#### Классификация признаков"
   ]
  },
  {
   "cell_type": "code",
   "execution_count": 8,
   "metadata": {},
   "outputs": [
    {
     "data": {
      "text/plain": [
       "['TransactionDT', 'TransactionAmt', 'ProductCD']"
      ]
     },
     "execution_count": 8,
     "metadata": {},
     "output_type": "execute_result"
    }
   ],
   "source": [
    "INDEPENDENT_VARIABLE_NAMES = train.columns.to_list()[2:]\n",
    "INDEPENDENT_VARIABLE_NAMES[:3]"
   ]
  },
  {
   "cell_type": "code",
   "execution_count": 9,
   "metadata": {},
   "outputs": [
    {
     "name": "stdout",
     "output_type": "stream",
     "text": [
      "count of numerical features 378\n",
      "count of categorical features 14\n"
     ]
    }
   ],
   "source": [
    "NUMERICAL_FEATURE_NAMES = train[INDEPENDENT_VARIABLE_NAMES].select_dtypes(include=[np.number]).columns.to_list()\n",
    "CATEGORICAL_FEATURE_NAMES = train[INDEPENDENT_VARIABLE_NAMES].select_dtypes(include=[np.object]).columns.to_list()\n",
    "\n",
    "print(f'count of numerical features {len(NUMERICAL_FEATURE_NAMES)}')\n",
    "print(f'count of categorical features {len(CATEGORICAL_FEATURE_NAMES)}')"
   ]
  },
  {
   "cell_type": "markdown",
   "metadata": {},
   "source": [
    "#### Обработка категориальных признаков"
   ]
  },
  {
   "cell_type": "code",
   "execution_count": 10,
   "metadata": {},
   "outputs": [],
   "source": [
    "class FeatureGenerator:\n",
    "    def __init__(self, CATEGORICAL_FEATURE_NAMES):\n",
    "        self.CATEGORICAL_FEATURE_NAMES = CATEGORICAL_FEATURE_NAMES\n",
    "        self.NEW_CATEGORICAL_FEATURE_NAMES = []\n",
    "        self.LGB_CATEGORICAL_FEATURE_NAMES = []\n",
    "        self.target_encodings = dict()\n",
    "        self.ordinal_encoding = dict()\n",
    "        \n",
    "        \n",
    "    def fit(self, train):\n",
    "        df = train.copy()\n",
    "        for feature in self.CATEGORICAL_FEATURE_NAMES: \n",
    "            new_feature = feature + '_'\n",
    "            lgb_feature = feature + 'lgb'\n",
    "            self.NEW_CATEGORICAL_FEATURE_NAMES.append(new_feature)\n",
    "            self.LGB_CATEGORICAL_FEATURE_NAMES.append(lgb_feature)            \n",
    "            self.target_encodings[feature] = {}\n",
    "            self.ordinal_encoding[feature] = {}\n",
    "            for ind, level in enumerate(df[feature].unique()):\n",
    "                level_value = df.loc[df[feature]==level, TARGET_NAME].mean()\n",
    "                self.target_encodings[feature][level] = level_value\n",
    "                self.ordinal_encoding[feature][level] = ind\n",
    "                \n",
    "    def transform(self, df):\n",
    "        for feature in self.CATEGORICAL_FEATURE_NAMES: \n",
    "            for level in self.target_encodings[feature].keys():\n",
    "                new_feature = feature + '_'\n",
    "                lgb_feature = feature + 'lgb'\n",
    "                df.loc[df[feature] == level, new_feature] = self.target_encodings[feature][level]\n",
    "                df.loc[df[feature] == level, lgb_feature] = self.ordinal_encoding[feature][level]\n",
    "                \n",
    "        df[CATEGORICAL_FEATURE_NAMES] = df[CATEGORICAL_FEATURE_NAMES].astype(str)  \n",
    "        \n",
    "        return df"
   ]
  },
  {
   "cell_type": "markdown",
   "metadata": {},
   "source": [
    "#### Train_test_split"
   ]
  },
  {
   "cell_type": "code",
   "execution_count": 11,
   "metadata": {},
   "outputs": [],
   "source": [
    "df_train, df_valid = train_test_split(train, \n",
    "                                      shuffle=True,\n",
    "                                      stratify=train[TARGET_NAME],\n",
    "                                      test_size=0.2,\n",
    "                                      random_state=1)"
   ]
  },
  {
   "cell_type": "markdown",
   "metadata": {},
   "source": [
    "#### Генерация признаков"
   ]
  },
  {
   "cell_type": "markdown",
   "metadata": {},
   "source": [
    "* a) oбучающий датасет"
   ]
  },
  {
   "cell_type": "code",
   "execution_count": 12,
   "metadata": {},
   "outputs": [],
   "source": [
    "features = FeatureGenerator(CATEGORICAL_FEATURE_NAMES)\n",
    "features.fit(df_train)\n",
    "df_train = features.transform(df_train)\n",
    "df_valid = features.transform(df_valid)"
   ]
  },
  {
   "cell_type": "markdown",
   "metadata": {},
   "source": [
    "* b) тестовый датасет"
   ]
  },
  {
   "cell_type": "code",
   "execution_count": 13,
   "metadata": {},
   "outputs": [],
   "source": [
    "features = FeatureGenerator(CATEGORICAL_FEATURE_NAMES)\n",
    "features.fit(train)\n",
    "train = features.transform(train)\n",
    "test = features.transform(test)"
   ]
  },
  {
   "cell_type": "markdown",
   "metadata": {},
   "source": [
    "[назад к содержанию](#outline)"
   ]
  },
  {
   "cell_type": "markdown",
   "metadata": {},
   "source": [
    "### I. XGBoost  <a name = 'XGBoost'></a>"
   ]
  },
  {
   "cell_type": "markdown",
   "metadata": {},
   "source": [
    "#### Задание 1.\n",
    "Отобрать только числовые признаки и обучить модель XGBoost с параметром booster = gbtree. Обучать алгоритм до тех пор, пока метрика качества не перестанет улучшаться на валидационной выборке в течение определенного числа итераций (выбрать значение самостоятельно)."
   ]
  },
  {
   "cell_type": "markdown",
   "metadata": {},
   "source": [
    "#### XGBoost API"
   ]
  },
  {
   "cell_type": "code",
   "execution_count": 14,
   "metadata": {},
   "outputs": [],
   "source": [
    "params_xgb = {\"booster\": \"gbtree\", \n",
    "              \"objective\": \"binary:logistic\", \n",
    "              \"eval_metric\": \"auc\", \n",
    "              \"learning_rate\": 0.1, \n",
    "              \"n_estimators\": 1000, \n",
    "              \"reg_lambda\": 100, \n",
    "              \"max_depth\": 4, \n",
    "              \"gamma\": 10, \n",
    "              \"nthread\": 6, \n",
    "              \"seed\": 27}"
   ]
  },
  {
   "cell_type": "code",
   "execution_count": 15,
   "metadata": {},
   "outputs": [
    {
     "name": "stdout",
     "output_type": "stream",
     "text": [
      "[20:27:27] WARNING: C:\\Users\\Administrator\\workspace\\xgboost-win64_release_1.1.0\\src\\learner.cc:480: \n",
      "Parameters: { n_estimators } might not be used.\n",
      "\n",
      "  This may not be accurate due to some parameters are only used in language bindings but\n",
      "  passed down to XGBoost core.  Or some parameters are not used but slip through this\n",
      "  verification. Please open an issue if you find above cases.\n",
      "\n",
      "\n",
      "[0]\ttrain-auc:0.64850\tvalid-auc:0.65575\n",
      "Multiple eval metrics have been passed: 'valid-auc' will be used for early stopping.\n",
      "\n",
      "Will train until valid-auc hasn't improved in 50 rounds.\n",
      "[50]\ttrain-auc:0.88045\tvalid-auc:0.88507\n",
      "[100]\ttrain-auc:0.89836\tvalid-auc:0.89863\n",
      "[150]\ttrain-auc:0.90670\tvalid-auc:0.90349\n",
      "[200]\ttrain-auc:0.90770\tvalid-auc:0.90416\n",
      "Stopping. Best iteration:\n",
      "[158]\ttrain-auc:0.90770\tvalid-auc:0.90416\n",
      "\n"
     ]
    }
   ],
   "source": [
    "dtrain = xgb.DMatrix(data=df_train[NUMERICAL_FEATURE_NAMES], label=df_train[TARGET_NAME])\n",
    "dvalid = xgb.DMatrix(data=df_valid[NUMERICAL_FEATURE_NAMES], label=df_valid[TARGET_NAME])\n",
    "\n",
    "model_xgb_num = xgb.train(params=params_xgb,\n",
    "                          dtrain=dtrain,\n",
    "                          evals=[(dtrain, \"train\"), (dvalid, \"valid\")],\n",
    "                          num_boost_round=1000,\n",
    "                          early_stopping_rounds=50,  \n",
    "                          verbose_eval=50,\n",
    "                          maximize=True)"
   ]
  },
  {
   "cell_type": "markdown",
   "metadata": {},
   "source": [
    "#### Задание 2.\n",
    "Oбработать категориальные признаки любым способом (который вы знаете) и добавить их к данным. Выполнить задание 1."
   ]
  },
  {
   "cell_type": "code",
   "execution_count": 16,
   "metadata": {},
   "outputs": [],
   "source": [
    "SELECTED_FEATURE_NAMES = NUMERICAL_FEATURE_NAMES + features.NEW_CATEGORICAL_FEATURE_NAMES"
   ]
  },
  {
   "cell_type": "code",
   "execution_count": 17,
   "metadata": {},
   "outputs": [
    {
     "name": "stdout",
     "output_type": "stream",
     "text": [
      "[20:32:40] WARNING: C:\\Users\\Administrator\\workspace\\xgboost-win64_release_1.1.0\\src\\learner.cc:480: \n",
      "Parameters: { n_estimators } might not be used.\n",
      "\n",
      "  This may not be accurate due to some parameters are only used in language bindings but\n",
      "  passed down to XGBoost core.  Or some parameters are not used but slip through this\n",
      "  verification. Please open an issue if you find above cases.\n",
      "\n",
      "\n",
      "[0]\ttrain-auc:0.64850\tvalid-auc:0.65575\n",
      "Multiple eval metrics have been passed: 'valid-auc' will be used for early stopping.\n",
      "\n",
      "Will train until valid-auc hasn't improved in 50 rounds.\n",
      "[50]\ttrain-auc:0.88926\tvalid-auc:0.89377\n",
      "[100]\ttrain-auc:0.90965\tvalid-auc:0.90758\n",
      "[150]\ttrain-auc:0.91779\tvalid-auc:0.91230\n",
      "Stopping. Best iteration:\n",
      "[147]\ttrain-auc:0.91770\tvalid-auc:0.91232\n",
      "\n"
     ]
    }
   ],
   "source": [
    "dtrain = xgb.DMatrix(data=df_train[SELECTED_FEATURE_NAMES], label=df_train[TARGET_NAME])\n",
    "dvalid = xgb.DMatrix(data=df_valid[SELECTED_FEATURE_NAMES], label=df_valid[TARGET_NAME])\n",
    "\n",
    "model_xgb_all = xgb.train(params=params_xgb,\n",
    "                          dtrain=dtrain,\n",
    "                          num_boost_round=1000,\n",
    "                          early_stopping_rounds=50,\n",
    "                          evals=[(dtrain, \"train\"), (dvalid, \"valid\")],\n",
    "                          verbose_eval=50,\n",
    "                          maximize=True)"
   ]
  },
  {
   "cell_type": "markdown",
   "metadata": {},
   "source": [
    "[назад к содержанию](#outline)"
   ]
  },
  {
   "cell_type": "markdown",
   "metadata": {},
   "source": [
    "### II. LightGBM <a name = 'LightGBM'></a>"
   ]
  },
  {
   "cell_type": "markdown",
   "metadata": {},
   "source": [
    "#### Задание 4.\n",
    "Для числовых признаков обучить модель LightGBM. Обучать алгоритм до тех пор, пока метрика качества не перестанет улучшаться на валидационной выборке в течение определенного числа итераций (выбрать значение самостоятельно)."
   ]
  },
  {
   "cell_type": "markdown",
   "metadata": {},
   "source": [
    "#### LightGBM API"
   ]
  },
  {
   "cell_type": "code",
   "execution_count": 18,
   "metadata": {},
   "outputs": [],
   "source": [
    "params_lgb = {\"boosting_type\": \"gbdt\",\n",
    "              \"objective\": \"binary\",\n",
    "              \"metric\": \"auc\",\n",
    "              \"num_boost_round\": 10000,  \n",
    "              \"learning_rate\": 0.02,\n",
    "              \"n_estimators\": 5000,\n",
    "              \"n_jobs\": 6,\n",
    "              \"seed\": 27}"
   ]
  },
  {
   "cell_type": "code",
   "execution_count": 19,
   "metadata": {},
   "outputs": [
    {
     "name": "stdout",
     "output_type": "stream",
     "text": [
      "Training until validation scores don't improve for 50 rounds\n",
      "[500]\ttraining's auc: 0.968469\tvalid_1's auc: 0.936456\n",
      "[1000]\ttraining's auc: 0.985212\tvalid_1's auc: 0.944502\n",
      "[1500]\ttraining's auc: 0.992758\tvalid_1's auc: 0.948595\n",
      "[2000]\ttraining's auc: 0.99593\tvalid_1's auc: 0.951174\n",
      "[2500]\ttraining's auc: 0.997702\tvalid_1's auc: 0.953243\n",
      "Early stopping, best iteration is:\n",
      "[2751]\ttraining's auc: 0.998474\tvalid_1's auc: 0.953734\n"
     ]
    }
   ],
   "source": [
    "dtrain = lgb.Dataset(data=df_train[NUMERICAL_FEATURE_NAMES], label=df_train[TARGET_NAME])\n",
    "dvalid = lgb.Dataset(data=df_valid[NUMERICAL_FEATURE_NAMES], label=df_valid[TARGET_NAME])\n",
    "\n",
    "model_lgb_num = lgb.train(params=params_lgb,\n",
    "                          train_set=dtrain,  \n",
    "                          valid_sets=[dtrain, dvalid],\n",
    "                          categorical_feature=\"auto\",\n",
    "                          verbose_eval=500,\n",
    "                          early_stopping_rounds=50)"
   ]
  },
  {
   "cell_type": "markdown",
   "metadata": {},
   "source": [
    "#### Задание 5.\n",
    "Обработать категориальные признаки любым способом (который вы знаете) и добавить их к данным. Выполнить задание 4."
   ]
  },
  {
   "cell_type": "code",
   "execution_count": 20,
   "metadata": {},
   "outputs": [
    {
     "name": "stdout",
     "output_type": "stream",
     "text": [
      "Training until validation scores don't improve for 50 rounds\n",
      "[500]\ttraining's auc: 0.975315\tvalid_1's auc: 0.943523\n",
      "[1000]\ttraining's auc: 0.990136\tvalid_1's auc: 0.951673\n",
      "[1500]\ttraining's auc: 0.996013\tvalid_1's auc: 0.955377\n",
      "[2000]\ttraining's auc: 0.998162\tvalid_1's auc: 0.957865\n",
      "Early stopping, best iteration is:\n",
      "[2015]\ttraining's auc: 0.998195\tvalid_1's auc: 0.957924\n"
     ]
    }
   ],
   "source": [
    "dtrain = lgb.Dataset(data=df_train[SELECTED_FEATURE_NAMES], label=df_train[TARGET_NAME])\n",
    "dvalid = lgb.Dataset(data=df_valid[SELECTED_FEATURE_NAMES],  label=df_valid[TARGET_NAME])\n",
    "\n",
    "model_lgb_all = lgb.train(params=params_lgb,\n",
    "                          train_set=dtrain, \n",
    "                          valid_sets=[dtrain, dvalid],\n",
    "                          categorical_feature=\"auto\",\n",
    "                          verbose_eval=500,\n",
    "                          early_stopping_rounds=50)"
   ]
  },
  {
   "cell_type": "markdown",
   "metadata": {},
   "source": [
    "#### Задание 6.\n",
    "Обработать категориальные признаки встроенным методом в LightGBM. Выполнить задание 4. Сделать выводы о качестве работы алгоритма, по сравнению с пунктом 5."
   ]
  },
  {
   "cell_type": "code",
   "execution_count": 21,
   "metadata": {},
   "outputs": [],
   "source": [
    "SELECTED_FEATURE_NAMES_LGB = NUMERICAL_FEATURE_NAMES + features.LGB_CATEGORICAL_FEATURE_NAMES"
   ]
  },
  {
   "cell_type": "code",
   "execution_count": 22,
   "metadata": {},
   "outputs": [
    {
     "name": "stdout",
     "output_type": "stream",
     "text": [
      "Training until validation scores don't improve for 50 rounds\n",
      "[500]\ttraining's auc: 0.974734\tvalid_1's auc: 0.944178\n",
      "[1000]\ttraining's auc: 0.990407\tvalid_1's auc: 0.951138\n",
      "[1500]\ttraining's auc: 0.995803\tvalid_1's auc: 0.955697\n",
      "[2000]\ttraining's auc: 0.998087\tvalid_1's auc: 0.957623\n",
      "Early stopping, best iteration is:\n",
      "[2410]\ttraining's auc: 0.998923\tvalid_1's auc: 0.958814\n"
     ]
    }
   ],
   "source": [
    "dtrain = lgb.Dataset(data=df_train[SELECTED_FEATURE_NAMES_LGB], \n",
    "                     label=df_train[TARGET_NAME], \n",
    "                     categorical_feature=features.LGB_CATEGORICAL_FEATURE_NAMES)\n",
    "\n",
    "dvalid = lgb.Dataset(data=df_valid[SELECTED_FEATURE_NAMES_LGB], \n",
    "                     label=df_valid[TARGET_NAME],\n",
    "                     categorical_feature=features.LGB_CATEGORICAL_FEATURE_NAMES)\n",
    "\n",
    "model_lgb_all_cat = lgb.train(params=params_lgb,\n",
    "                              train_set=dtrain,  \n",
    "                              valid_sets=[dtrain, dvalid],\n",
    "                              categorical_feature=features.LGB_CATEGORICAL_FEATURE_NAMES,\n",
    "                              verbose_eval=500,\n",
    "                              early_stopping_rounds=50)"
   ]
  },
  {
   "cell_type": "markdown",
   "metadata": {},
   "source": [
    "__Вывод:__ Обработка категориальных признаков встроенным в LightGBM методом дает более высокие результаты по сравнению с target encoding, хотя и замедляет работу алгоритма."
   ]
  },
  {
   "cell_type": "markdown",
   "metadata": {},
   "source": [
    "[назад к содержанию](#outline)"
   ]
  },
  {
   "cell_type": "markdown",
   "metadata": {},
   "source": [
    "### III. CatBoost <a name = 'CatBoost'></a>"
   ]
  },
  {
   "cell_type": "markdown",
   "metadata": {},
   "source": [
    "#### Задание 7.\n",
    "Для числовых признаков обучить модель CatBoost. Обучать алгоритм до тех пор, пока метрика качества не перестанет улучшаться на валидационной выборке в течение определенного числа итераций (выбрать значение самостоятельно)."
   ]
  },
  {
   "cell_type": "markdown",
   "metadata": {},
   "source": [
    "#### CatBoost API"
   ]
  },
  {
   "cell_type": "code",
   "execution_count": 23,
   "metadata": {},
   "outputs": [],
   "source": [
    "params_cb = {\"n_estimators\":5000,\n",
    "             \"loss_function\": \"Logloss\",\n",
    "             \"eval_metric\": \"AUC\",\n",
    "             \"task_type\": \"CPU\",\n",
    "             \"max_bin\": 30,\n",
    "             \"early_stopping_rounds\": 50,\n",
    "             \"verbose\": 500,\n",
    "             \"max_depth\": 6,\n",
    "             \"l2_leaf_reg\": 100,             \n",
    "             \"thread_count\": 6,\n",
    "             \"random_seed\": 42}"
   ]
  },
  {
   "cell_type": "code",
   "execution_count": 24,
   "metadata": {},
   "outputs": [
    {
     "name": "stdout",
     "output_type": "stream",
     "text": [
      "0:\ttest: 0.6851543\tbest: 0.6851543 (0)\ttotal: 361ms\tremaining: 30m 3s\n",
      "500:\ttest: 0.8932886\tbest: 0.8932886 (500)\ttotal: 1m 29s\tremaining: 13m 20s\n",
      "1000:\ttest: 0.8951755\tbest: 0.8951764 (998)\ttotal: 2m 45s\tremaining: 11m 1s\n",
      "1500:\ttest: 0.8991173\tbest: 0.8991173 (1500)\ttotal: 4m 5s\tremaining: 9m 33s\n",
      "2000:\ttest: 0.9022018\tbest: 0.9022023 (1999)\ttotal: 5m 24s\tremaining: 8m 6s\n",
      "Stopped by overfitting detector  (50 iterations wait)\n",
      "\n",
      "bestTest = 0.9026404837\n",
      "bestIteration = 2071\n",
      "\n",
      "Shrink model to first 2072 iterations.\n"
     ]
    },
    {
     "data": {
      "text/plain": [
       "<catboost.core.CatBoostClassifier at 0x145374b90d0>"
      ]
     },
     "execution_count": 24,
     "metadata": {},
     "output_type": "execute_result"
    }
   ],
   "source": [
    "dtrain = cb.Pool(df_train[NUMERICAL_FEATURE_NAMES], label=df_train[TARGET_NAME])\n",
    "dvalid = cb.Pool(df_valid[NUMERICAL_FEATURE_NAMES], label=df_valid[TARGET_NAME])\n",
    "\n",
    "model_cb_num = cb.CatBoostClassifier(**params_cb)\n",
    "model_cb_num.fit(dtrain, eval_set=dvalid)"
   ]
  },
  {
   "cell_type": "markdown",
   "metadata": {},
   "source": [
    "#### Задание 8. \n",
    "Обработать категориальные признаки любым способом (который вы знаете) и добавить их к данным. Выполнить задание 7."
   ]
  },
  {
   "cell_type": "code",
   "execution_count": 25,
   "metadata": {},
   "outputs": [
    {
     "name": "stdout",
     "output_type": "stream",
     "text": [
      "0:\ttest: 0.6586549\tbest: 0.6586549 (0)\ttotal: 170ms\tremaining: 14m 10s\n",
      "500:\ttest: 0.9028284\tbest: 0.9028320 (497)\ttotal: 1m 29s\tremaining: 13m 23s\n",
      "1000:\ttest: 0.9042180\tbest: 0.9042194 (975)\ttotal: 2m 44s\tremaining: 10m 56s\n",
      "Stopped by overfitting detector  (50 iterations wait)\n",
      "\n",
      "bestTest = 0.9096954885\n",
      "bestIteration = 1420\n",
      "\n",
      "Shrink model to first 1421 iterations.\n"
     ]
    },
    {
     "data": {
      "text/plain": [
       "<catboost.core.CatBoostClassifier at 0x1457bde1ee0>"
      ]
     },
     "execution_count": 25,
     "metadata": {},
     "output_type": "execute_result"
    }
   ],
   "source": [
    "dtrain = cb.Pool(df_train[SELECTED_FEATURE_NAMES], label=df_train[TARGET_NAME])\n",
    "dvalid = cb.Pool(df_valid[SELECTED_FEATURE_NAMES], label=df_valid[TARGET_NAME])\n",
    "\n",
    "model_cb_all = cb.CatBoostClassifier(**params_cb)\n",
    "model_cb_all.fit(dtrain, eval_set=dvalid)"
   ]
  },
  {
   "cell_type": "markdown",
   "metadata": {},
   "source": [
    "#### Задание 9.\n",
    "Обработать категориальные признаки встроенным методом в CatBoost. Выполнить задание 7. Сделать выводы о качестве работы алгоритма, по сравнению с пунктом 8."
   ]
  },
  {
   "cell_type": "code",
   "execution_count": 26,
   "metadata": {},
   "outputs": [
    {
     "name": "stdout",
     "output_type": "stream",
     "text": [
      "0:\ttest: 0.7604251\tbest: 0.7604251 (0)\ttotal: 734ms\tremaining: 1h 1m 9s\n",
      "500:\ttest: 0.9010051\tbest: 0.9010052 (497)\ttotal: 5m 49s\tremaining: 52m 21s\n",
      "1000:\ttest: 0.9047181\tbest: 0.9047181 (1000)\ttotal: 11m 11s\tremaining: 44m 43s\n",
      "1500:\ttest: 0.9096160\tbest: 0.9096163 (1497)\ttotal: 16m 44s\tremaining: 39m\n",
      "Stopped by overfitting detector  (50 iterations wait)\n",
      "\n",
      "bestTest = 0.9114032749\n",
      "bestIteration = 1848\n",
      "\n",
      "Shrink model to first 1849 iterations.\n"
     ]
    },
    {
     "data": {
      "text/plain": [
       "<catboost.core.CatBoostClassifier at 0x14548da4ee0>"
      ]
     },
     "execution_count": 26,
     "metadata": {},
     "output_type": "execute_result"
    }
   ],
   "source": [
    "dtrain = cb.Pool(df_train[INDEPENDENT_VARIABLE_NAMES], \n",
    "                 label=df_train[TARGET_NAME], \n",
    "                 cat_features=CATEGORICAL_FEATURE_NAMES)\n",
    "dvalid = cb.Pool(df_valid[INDEPENDENT_VARIABLE_NAMES], \n",
    "                 df_valid[TARGET_NAME], \n",
    "                 cat_features=CATEGORICAL_FEATURE_NAMES)\n",
    "\n",
    "model_cb_all_cat = cb.CatBoostClassifier(**params_cb)\n",
    "model_cb_all_cat.fit(dtrain, eval_set=dvalid)"
   ]
  },
  {
   "cell_type": "markdown",
   "metadata": {},
   "source": [
    "__Вывод:__ Обработка категориальных признаков встроенным в CatBoost методом дает более высокие результаты по сравнению с target encoding, хотя и замедляет работу алгоритма."
   ]
  },
  {
   "cell_type": "markdown",
   "metadata": {},
   "source": [
    "[назад к содержанию](#outline)"
   ]
  },
  {
   "cell_type": "markdown",
   "metadata": {},
   "source": [
    "### IV. ROC- кривая <a name = 'ROC_curve'></a>"
   ]
  },
  {
   "cell_type": "markdown",
   "metadata": {},
   "source": [
    "#### Задание 10. \n",
    "Построить ROC-кривую для всех построенных алгоритмов на обучающей и тестовой выборке. Сделать выводы о работе алгоритмов с точки зрения качества на тестовой выборке и с точки зрения переобучения."
   ]
  },
  {
   "cell_type": "code",
   "execution_count": 27,
   "metadata": {},
   "outputs": [],
   "source": [
    "def plot_ROC_curve(predictions):\n",
    "    plt.figure(figsize=(8, 6))\n",
    "    y = [train[TARGET_NAME], test[TARGET_NAME]]\n",
    "    labels = ['train', 'test']\n",
    "\n",
    "    for i, y_pred in enumerate(predictions):\n",
    "        fpr, tpr, _ = roc_curve(y[i], y_pred)\n",
    "        auc = round(roc_auc_score(y[i], y_pred), 3)\n",
    "        plt.plot(fpr, tpr, label=f'{labels[i]}, auc={auc}')\n",
    "\n",
    "    plt.title('ROC-кривые', size=14)\n",
    "    plt.legend()\n",
    "    plt.show()"
   ]
  },
  {
   "cell_type": "markdown",
   "metadata": {},
   "source": [
    "#### 1. Модели XGBoost"
   ]
  },
  {
   "cell_type": "markdown",
   "metadata": {},
   "source": [
    "#### 1.1. Только числовые признаки"
   ]
  },
  {
   "cell_type": "code",
   "execution_count": 28,
   "metadata": {},
   "outputs": [
    {
     "name": "stdout",
     "output_type": "stream",
     "text": [
      "[21:31:32] WARNING: C:\\Users\\Administrator\\workspace\\xgboost-win64_release_1.1.0\\src\\learner.cc:480: \n",
      "Parameters: { n_estimators } might not be used.\n",
      "\n",
      "  This may not be accurate due to some parameters are only used in language bindings but\n",
      "  passed down to XGBoost core.  Or some parameters are not used but slip through this\n",
      "  verification. Please open an issue if you find above cases.\n",
      "\n",
      "\n",
      "[0]\ttrain-auc:0.64999\ttest-auc:0.62240\n",
      "Multiple eval metrics have been passed: 'test-auc' will be used for early stopping.\n",
      "\n",
      "Will train until test-auc hasn't improved in 50 rounds.\n",
      "[50]\ttrain-auc:0.88296\ttest-auc:0.85165\n",
      "[100]\ttrain-auc:0.90023\ttest-auc:0.85606\n",
      "[150]\ttrain-auc:0.90822\ttest-auc:0.85821\n",
      "[200]\ttrain-auc:0.91227\ttest-auc:0.85983\n",
      "Stopping. Best iteration:\n",
      "[182]\ttrain-auc:0.91196\ttest-auc:0.85984\n",
      "\n"
     ]
    }
   ],
   "source": [
    "dtrain = xgb.DMatrix(data=train[NUMERICAL_FEATURE_NAMES], label=train[TARGET_NAME])\n",
    "dtest = xgb.DMatrix(data=test[NUMERICAL_FEATURE_NAMES], label=test[TARGET_NAME])\n",
    "\n",
    "model_xgb_num = xgb.train(params=params_xgb,\n",
    "                          dtrain=dtrain,\n",
    "                          evals=[(dtrain, 'train'), (dtest, 'test')],\n",
    "                          num_boost_round=1000,\n",
    "                          early_stopping_rounds=50,  \n",
    "                          verbose_eval=50,\n",
    "                          maximize=True)\n",
    "\n",
    "y_pred_xgb_num_train = model_xgb_num.predict(dtrain)\n",
    "y_pred_xgb_num_test = model_xgb_num.predict(dtest)"
   ]
  },
  {
   "cell_type": "code",
   "execution_count": 29,
   "metadata": {},
   "outputs": [
    {
     "data": {
      "image/png": "[encoded data removed]",
      "text/plain": [
       "<Figure size 576x432 with 1 Axes>"
      ]
     },
     "metadata": {
      "needs_background": "light"
     },
     "output_type": "display_data"
    }
   ],
   "source": [
    "predictions = y_pred_xgb_num_train, y_pred_xgb_num_test\n",
    "plot_ROC_curve(predictions)"
   ]
  },
  {
   "cell_type": "markdown",
   "metadata": {},
   "source": [
    "#### 1.2. К числовым признакам добавлены категориальные признаки, обработанные методом target encooding"
   ]
  },
  {
   "cell_type": "code",
   "execution_count": 30,
   "metadata": {},
   "outputs": [
    {
     "name": "stdout",
     "output_type": "stream",
     "text": [
      "[21:38:41] WARNING: C:\\Users\\Administrator\\workspace\\xgboost-win64_release_1.1.0\\src\\learner.cc:480: \n",
      "Parameters: { n_estimators } might not be used.\n",
      "\n",
      "  This may not be accurate due to some parameters are only used in language bindings but\n",
      "  passed down to XGBoost core.  Or some parameters are not used but slip through this\n",
      "  verification. Please open an issue if you find above cases.\n",
      "\n",
      "\n",
      "[0]\ttrain-auc:0.64998\ttest-auc:0.62239\n",
      "Multiple eval metrics have been passed: 'test-auc' will be used for early stopping.\n",
      "\n",
      "Will train until test-auc hasn't improved in 50 rounds.\n",
      "[50]\ttrain-auc:0.89128\ttest-auc:0.85427\n",
      "[100]\ttrain-auc:0.91061\ttest-auc:0.86120\n",
      "[150]\ttrain-auc:0.91810\ttest-auc:0.86483\n",
      "[200]\ttrain-auc:0.92075\ttest-auc:0.86547\n",
      "Stopping. Best iteration:\n",
      "[170]\ttrain-auc:0.92026\ttest-auc:0.86549\n",
      "\n"
     ]
    }
   ],
   "source": [
    "dtrain = xgb.DMatrix(data=train[SELECTED_FEATURE_NAMES], label=train[TARGET_NAME])\n",
    "dtest = xgb.DMatrix(data=test[SELECTED_FEATURE_NAMES], label=test[TARGET_NAME])\n",
    "\n",
    "model_xgb_all = xgb.train(params=params_xgb,\n",
    "                          dtrain=dtrain,\n",
    "                          num_boost_round=1000,\n",
    "                          early_stopping_rounds=50,\n",
    "                          evals=[(dtrain, 'train'), (dtest, 'test')],\n",
    "                          verbose_eval=50,\n",
    "                          maximize=True)\n",
    "\n",
    "y_pred_xgb_all_train = model_xgb_all.predict(dtrain)\n",
    "y_pred_xgb_all_test = model_xgb_all.predict(dtest)"
   ]
  },
  {
   "cell_type": "code",
   "execution_count": 31,
   "metadata": {},
   "outputs": [
    {
     "data": {
      "image/png": "[encoded data removed]",
      "text/plain": [
       "<Figure size 576x432 with 1 Axes>"
      ]
     },
     "metadata": {
      "needs_background": "light"
     },
     "output_type": "display_data"
    }
   ],
   "source": [
    "predictions = y_pred_xgb_all_train, y_pred_xgb_all_test\n",
    "plot_ROC_curve(predictions)"
   ]
  },
  {
   "cell_type": "markdown",
   "metadata": {},
   "source": [
    "#### 2. Модели LightGBM"
   ]
  },
  {
   "cell_type": "markdown",
   "metadata": {},
   "source": [
    "#### 2.1 Только числовые признаки"
   ]
  },
  {
   "cell_type": "code",
   "execution_count": 32,
   "metadata": {},
   "outputs": [
    {
     "name": "stdout",
     "output_type": "stream",
     "text": [
      "Training until validation scores don't improve for 50 rounds\n",
      "Early stopping, best iteration is:\n",
      "[61]\ttraining's auc: 0.895374\tvalid_1's auc: 0.856907\n"
     ]
    }
   ],
   "source": [
    "dtrain = lgb.Dataset(data=train[NUMERICAL_FEATURE_NAMES], label=train[TARGET_NAME])\n",
    "dtest = lgb.Dataset(data=test[NUMERICAL_FEATURE_NAMES], label=test[TARGET_NAME])\n",
    "\n",
    "model_lgb_num = lgb.train(params=params_lgb,\n",
    "                          train_set=dtrain,  \n",
    "                          valid_sets=[dtrain, dtest],\n",
    "                          categorical_feature='auto',\n",
    "                          verbose_eval=500,\n",
    "                          early_stopping_rounds=50)\n",
    "\n",
    "y_pred_lgb_num_train = model_lgb_num.predict(train[NUMERICAL_FEATURE_NAMES])\n",
    "y_pred_lgb_num_test = model_lgb_num.predict(test[NUMERICAL_FEATURE_NAMES])"
   ]
  },
  {
   "cell_type": "code",
   "execution_count": 33,
   "metadata": {},
   "outputs": [
    {
     "data": {
      "image/png": "[encoded data removed]",
      "text/plain": [
       "<Figure size 576x432 with 1 Axes>"
      ]
     },
     "metadata": {
      "needs_background": "light"
     },
     "output_type": "display_data"
    }
   ],
   "source": [
    "predictions = y_pred_lgb_num_train, y_pred_lgb_num_test\n",
    "plot_ROC_curve(predictions)"
   ]
  },
  {
   "cell_type": "markdown",
   "metadata": {},
   "source": [
    "#### 2.2. К числовым признакам добавлены категориальные признаки, обработанные методом target encooding"
   ]
  },
  {
   "cell_type": "code",
   "execution_count": 34,
   "metadata": {},
   "outputs": [
    {
     "name": "stdout",
     "output_type": "stream",
     "text": [
      "Training until validation scores don't improve for 50 rounds\n",
      "Early stopping, best iteration is:\n",
      "[309]\ttraining's auc: 0.958758\tvalid_1's auc: 0.872195\n"
     ]
    }
   ],
   "source": [
    "dtrain = lgb.Dataset(data=train[SELECTED_FEATURE_NAMES], label=train[TARGET_NAME])\n",
    "dtest = lgb.Dataset(data=test[SELECTED_FEATURE_NAMES], label=test[TARGET_NAME])\n",
    "\n",
    "model_lgb_all = lgb.train(params=params_lgb,\n",
    "                          train_set=dtrain, \n",
    "                          valid_sets=[dtrain, dtest],\n",
    "                          categorical_feature='auto',\n",
    "                          verbose_eval=500,\n",
    "                          early_stopping_rounds=50)\n",
    "\n",
    "y_pred_lgb_all_train = model_lgb_all.predict(train[SELECTED_FEATURE_NAMES])\n",
    "y_pred_lgb_all_test = model_lgb_all.predict(test[SELECTED_FEATURE_NAMES])"
   ]
  },
  {
   "cell_type": "code",
   "execution_count": 35,
   "metadata": {},
   "outputs": [
    {
     "data": {
      "image/png": "[encoded data removed]",
      "text/plain": [
       "<Figure size 576x432 with 1 Axes>"
      ]
     },
     "metadata": {
      "needs_background": "light"
     },
     "output_type": "display_data"
    }
   ],
   "source": [
    "predictions = y_pred_lgb_all_train, y_pred_lgb_all_test\n",
    "plot_ROC_curve(predictions)"
   ]
  },
  {
   "cell_type": "markdown",
   "metadata": {},
   "source": [
    "#### 2.3. К числовым признакам добавлены обработанные встроенным в LightGBM методом категориальные признаки"
   ]
  },
  {
   "cell_type": "code",
   "execution_count": 36,
   "metadata": {},
   "outputs": [
    {
     "name": "stdout",
     "output_type": "stream",
     "text": [
      "Training until validation scores don't improve for 50 rounds\n",
      "Early stopping, best iteration is:\n",
      "[385]\ttraining's auc: 0.965812\tvalid_1's auc: 0.872888\n"
     ]
    }
   ],
   "source": [
    "dtrain = lgb.Dataset(data=train[SELECTED_FEATURE_NAMES_LGB], \n",
    "                     label=train[TARGET_NAME], \n",
    "                     categorical_feature=features.LGB_CATEGORICAL_FEATURE_NAMES)\n",
    "\n",
    "dtest = lgb.Dataset(data=test[SELECTED_FEATURE_NAMES_LGB], \n",
    "                    label=test[TARGET_NAME],\n",
    "                    categorical_feature=features.LGB_CATEGORICAL_FEATURE_NAMES)\n",
    "\n",
    "\n",
    "model_lgb_all_cat = lgb.train(params=params_lgb,\n",
    "                              train_set=dtrain,  \n",
    "                              valid_sets=[dtrain, dtest],\n",
    "                              categorical_feature=features.LGB_CATEGORICAL_FEATURE_NAMES,\n",
    "                              verbose_eval=500,\n",
    "                              early_stopping_rounds=50)\n",
    "\n",
    "y_pred_lgb_all_cat_train = model_lgb_all_cat.predict(train[SELECTED_FEATURE_NAMES_LGB])\n",
    "y_pred_lgb_all_cat_test = model_lgb_all_cat.predict(test[SELECTED_FEATURE_NAMES_LGB])"
   ]
  },
  {
   "cell_type": "code",
   "execution_count": 37,
   "metadata": {},
   "outputs": [
    {
     "data": {
      "image/png": "[encoded data removed]",
      "text/plain": [
       "<Figure size 576x432 with 1 Axes>"
      ]
     },
     "metadata": {
      "needs_background": "light"
     },
     "output_type": "display_data"
    }
   ],
   "source": [
    "predictions = y_pred_lgb_all_cat_train, y_pred_lgb_all_cat_test\n",
    "plot_ROC_curve(predictions)"
   ]
  },
  {
   "cell_type": "markdown",
   "metadata": {},
   "source": [
    "#### 3. Модели CatBoost"
   ]
  },
  {
   "cell_type": "markdown",
   "metadata": {},
   "source": [
    "#### 3.1. Только числовые признаки"
   ]
  },
  {
   "cell_type": "code",
   "execution_count": 38,
   "metadata": {},
   "outputs": [
    {
     "name": "stdout",
     "output_type": "stream",
     "text": [
      "0:\ttest: 0.5947287\tbest: 0.5947287 (0)\ttotal: 197ms\tremaining: 16m 27s\n",
      "Stopped by overfitting detector  (50 iterations wait)\n",
      "\n",
      "bestTest = 0.8565824322\n",
      "bestIteration = 425\n",
      "\n",
      "Shrink model to first 426 iterations.\n"
     ]
    }
   ],
   "source": [
    "dtrain = cb.Pool(train[NUMERICAL_FEATURE_NAMES], label=train[TARGET_NAME])\n",
    "dtest = cb.Pool(test[NUMERICAL_FEATURE_NAMES], label=test[TARGET_NAME])\n",
    "\n",
    "model_cb_num = cb.CatBoostClassifier(**params_cb)\n",
    "model_cb_num.fit(dtrain, eval_set=dtest)\n",
    "\n",
    "y_pred_cb_num_train = model_cb_num.predict(train[NUMERICAL_FEATURE_NAMES])\n",
    "y_pred_cb_num_test = model_cb_num.predict(test[NUMERICAL_FEATURE_NAMES])"
   ]
  },
  {
   "cell_type": "code",
   "execution_count": 39,
   "metadata": {},
   "outputs": [
    {
     "data": {
      "image/png": "[encoded data removed]",
      "text/plain": [
       "<Figure size 576x432 with 1 Axes>"
      ]
     },
     "metadata": {
      "needs_background": "light"
     },
     "output_type": "display_data"
    }
   ],
   "source": [
    "predictions = y_pred_cb_num_train, y_pred_cb_num_test\n",
    "plot_ROC_curve(predictions)"
   ]
  },
  {
   "cell_type": "markdown",
   "metadata": {},
   "source": [
    "#### 3.2. К числовым признакам добавлены категориальные признаки, обработанные методом target encooding"
   ]
  },
  {
   "cell_type": "code",
   "execution_count": 40,
   "metadata": {},
   "outputs": [
    {
     "name": "stdout",
     "output_type": "stream",
     "text": [
      "0:\ttest: 0.6524721\tbest: 0.6524721 (0)\ttotal: 224ms\tremaining: 18m 42s\n",
      "500:\ttest: 0.8637130\tbest: 0.8637159 (499)\ttotal: 1m 51s\tremaining: 16m 44s\n",
      "Stopped by overfitting detector  (50 iterations wait)\n",
      "\n",
      "bestTest = 0.864513019\n",
      "bestIteration = 571\n",
      "\n",
      "Shrink model to first 572 iterations.\n"
     ]
    }
   ],
   "source": [
    "dtrain = cb.Pool(train[SELECTED_FEATURE_NAMES], label=train[TARGET_NAME])\n",
    "dtest = cb.Pool(test[SELECTED_FEATURE_NAMES], label=test[TARGET_NAME])\n",
    "\n",
    "model_cb_all = cb.CatBoostClassifier(**params_cb)\n",
    "model_cb_all.fit(dtrain, eval_set=dtest)\n",
    "\n",
    "y_pred_cb_all_train = model_cb_all.predict(train[SELECTED_FEATURE_NAMES])\n",
    "y_pred_cb_all_test = model_cb_all.predict(test[SELECTED_FEATURE_NAMES])"
   ]
  },
  {
   "cell_type": "code",
   "execution_count": 41,
   "metadata": {},
   "outputs": [
    {
     "data": {
      "image/png": "[encoded data removed]",
      "text/plain": [
       "<Figure size 576x432 with 1 Axes>"
      ]
     },
     "metadata": {
      "needs_background": "light"
     },
     "output_type": "display_data"
    }
   ],
   "source": [
    "predictions = y_pred_cb_all_train, y_pred_cb_all_test\n",
    "plot_ROC_curve(predictions)"
   ]
  },
  {
   "cell_type": "markdown",
   "metadata": {},
   "source": [
    "#### 3.3. К числовым признакам добавлены обработанные встроенным в CatBoost методом категориальные признаки"
   ]
  },
  {
   "cell_type": "code",
   "execution_count": 42,
   "metadata": {},
   "outputs": [
    {
     "name": "stdout",
     "output_type": "stream",
     "text": [
      "0:\ttest: 0.5884172\tbest: 0.5884172 (0)\ttotal: 1.01s\tremaining: 1h 24m 29s\n",
      "500:\ttest: 0.8628172\tbest: 0.8628397 (498)\ttotal: 7m 48s\tremaining: 1h 10m 10s\n",
      "Stopped by overfitting detector  (50 iterations wait)\n",
      "\n",
      "bestTest = 0.8650966252\n",
      "bestIteration = 722\n",
      "\n",
      "Shrink model to first 723 iterations.\n"
     ]
    }
   ],
   "source": [
    "dtrain = cb.Pool(train[INDEPENDENT_VARIABLE_NAMES], \n",
    "                 label=train[TARGET_NAME], \n",
    "                 cat_features=CATEGORICAL_FEATURE_NAMES)\n",
    "\n",
    "dtest = cb.Pool(test[INDEPENDENT_VARIABLE_NAMES], \n",
    "                label=test[TARGET_NAME], \n",
    "                cat_features=CATEGORICAL_FEATURE_NAMES)\n",
    "\n",
    "model_cb_all_cat = cb.CatBoostClassifier(**params_cb)\n",
    "model_cb_all_cat.fit(dtrain, eval_set=dtest)\n",
    "\n",
    "y_pred_cb_all_cat_train = model_cb_all_cat.predict(train[INDEPENDENT_VARIABLE_NAMES])\n",
    "y_pred_cb_all_cat_test = model_cb_all_cat.predict(test[INDEPENDENT_VARIABLE_NAMES])"
   ]
  },
  {
   "cell_type": "code",
   "execution_count": 43,
   "metadata": {},
   "outputs": [
    {
     "data": {
      "image/png": "[encoded data removed]",
      "text/plain": [
       "<Figure size 576x432 with 1 Axes>"
      ]
     },
     "metadata": {
      "needs_background": "light"
     },
     "output_type": "display_data"
    }
   ],
   "source": [
    "predictions = y_pred_cb_all_cat_train, y_pred_cb_all_cat_test\n",
    "plot_ROC_curve(predictions)"
   ]
  },
  {
   "cell_type": "markdown",
   "metadata": {},
   "source": [
    "__Вывод:__ На тестовой выборке алгоритмы работают значительно хуже, чем на обучающей. С одной стороны, это могло бы указывать на переобучение: мы вычисляем остатки для каждого наблюдения из обучающей выборки, используя модель, которая была обучена на том же наборе данных. Однако, на валидационном и обучающем сетах разница в результатах работы алгоритмов была существенно ниже. Соответственно, из факторов, объясняющих относительно низкие результаты работы алгоритмов на тестовой выборке по сравнению с обучающей, на первое место выходит не переобучение модели, а разница в распределении признаков тестового и обучающего датасетов."
   ]
  },
  {
   "cell_type": "markdown",
   "metadata": {},
   "source": [
    "[назад к содержанию](#outline)"
   ]
  }
 ],
 "metadata": {
  "kernelspec": {
   "display_name": "Python 3",
   "language": "python",
   "name": "python3"
  },
  "language_info": {
   "codemirror_mode": {
    "name": "ipython",
    "version": 3
   },
   "file_extension": ".py",
   "mimetype": "text/x-python",
   "name": "python",
   "nbconvert_exporter": "python",
   "pygments_lexer": "ipython3",
   "version": "3.8.2"
  }
 },
 "nbformat": 4,
 "nbformat_minor": 4
}
