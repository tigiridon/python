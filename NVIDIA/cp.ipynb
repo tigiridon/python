{
 "cells": [
  {
   "cell_type": "code",
   "execution_count": 1,
   "metadata": {},
   "outputs": [],
   "source": [
    "# CP telegram = @Bober_Joric_bot"
   ]
  },
  {
   "cell_type": "markdown",
   "metadata": {
    "id": "NbKhqmC7-FZK"
   },
   "source": [
    "# Создание первого чатбота"
   ]
  },
  {
   "cell_type": "markdown",
   "metadata": {
    "id": "F2-T7iJF-FZQ"
   },
   "source": [
    "Чат-бот— это программа, которая имитирует реальный разговор с пользователем. Чат-боты позволяют общаться с помощью текстовых или аудио сообщений на сайтах, в мессенджерах, мобильных приложениях "
   ]
  },
  {
   "cell_type": "markdown",
   "metadata": {
    "id": "cVN-v-Kq-FZR"
   },
   "source": [
    "Основные преимущества\n",
    "\n",
    "* Обеспечивают сервисное обслуживание 24/7\n",
    "* Помогают охватить больше клиентов\n",
    "* Экономность\n",
    "* Легкость в эксплуатации\n",
    "\t\n",
    "Как они работают?\n",
    "Большинство людей не будут создавать своих чат-ботов с нуля, так как сегодня существует достаточно большой выбор всевозможных фреймворков и сервисов, которые могут помочь в создании чат-бота. Однако чтобы понять, как они работают нужно погрузиться немного глубже.\n",
    "Бэкенд: Чат-боты могут быть разработаны на любом языке программирования\n",
    "Фронтенд: Это может быть любой мессенджер: от популярных вроде Facebook Messenger, Slack, Telegram до простеньких Realtime Chat With Node.js. Вы не ограничены одной платформой: один и тот же бот может работать, по сути, везде."
   ]
  },
  {
   "cell_type": "markdown",
   "metadata": {
    "id": "PMqhehgd-FZT"
   },
   "source": [
    "## Шаг 1. Создаём бота в Telegram"
   ]
  },
  {
   "cell_type": "markdown",
   "metadata": {
    "id": "EYRCD9Ou-FZU"
   },
   "source": [
    "Открываем телеграм и ищем чат @botfather. \n",
    "Сначала пишем /newbot. Затем задаем имя, потом id.\n",
    "После создания бота нам придёт API токен, он нам понадобится в дальнейшем."
   ]
  },
  {
   "cell_type": "markdown",
   "metadata": {
    "id": "vxWhDb7I-FZV"
   },
   "source": [
    "![image.png](attachment:image.png)"
   ]
  },
  {
   "cell_type": "markdown",
   "metadata": {
    "id": "-ZE6bDdc-FZV"
   },
   "source": [
    "## Шаг 2. Пишем основу бота"
   ]
  },
  {
   "cell_type": "markdown",
   "metadata": {
    "id": "oNYW_F1L-FZW"
   },
   "source": [
    "Устанавливаем библиотеку python-telegram-bot. Ссылка на документацию https://github.com/python-telegram-bot/python-telegram-bot"
   ]
  },
  {
   "cell_type": "code",
   "execution_count": 2,
   "metadata": {
    "id": "b7rduWQO-FZW",
    "outputId": "3a7c44d8-0047-4ad5-a604-88cd148a239a"
   },
   "outputs": [
    {
     "name": "stdout",
     "output_type": "stream",
     "text": [
      "Requirement already satisfied: python-telegram-bot in c:\\users\\79811\\anaconda3\\envs\\oda_lord\\lib\\site-packages (13.4.1)\n",
      "Collecting python-telegram-bot\n",
      "  Downloading python_telegram_bot-13.7-py3-none-any.whl (490 kB)\n",
      "Requirement already satisfied: certifi in c:\\users\\79811\\anaconda3\\envs\\oda_lord\\lib\\site-packages (from python-telegram-bot) (2020.6.20)\n",
      "Requirement already satisfied: pytz>=2018.6 in c:\\users\\79811\\anaconda3\\envs\\oda_lord\\lib\\site-packages (from python-telegram-bot) (2021.1)\n",
      "Collecting cachetools==4.2.2\n",
      "  Downloading cachetools-4.2.2-py3-none-any.whl (11 kB)\n",
      "Requirement already satisfied: APScheduler==3.6.3 in c:\\users\\79811\\anaconda3\\envs\\oda_lord\\lib\\site-packages (from python-telegram-bot) (3.6.3)\n",
      "Requirement already satisfied: tornado>=6.1 in c:\\users\\79811\\anaconda3\\envs\\oda_lord\\lib\\site-packages (from python-telegram-bot) (6.1)\n",
      "Requirement already satisfied: setuptools>=0.7 in c:\\users\\79811\\anaconda3\\envs\\oda_lord\\lib\\site-packages (from APScheduler==3.6.3->python-telegram-bot) (52.0.0.post20210125)\n",
      "Requirement already satisfied: six>=1.4.0 in c:\\users\\79811\\anaconda3\\envs\\oda_lord\\lib\\site-packages (from APScheduler==3.6.3->python-telegram-bot) (1.15.0)\n",
      "Requirement already satisfied: tzlocal>=1.2 in c:\\users\\79811\\anaconda3\\envs\\oda_lord\\lib\\site-packages (from APScheduler==3.6.3->python-telegram-bot) (2.1)\n",
      "Installing collected packages: cachetools, python-telegram-bot\n",
      "  Attempting uninstall: cachetools\n",
      "    Found existing installation: cachetools 4.2.0\n",
      "    Uninstalling cachetools-4.2.0:\n",
      "      Successfully uninstalled cachetools-4.2.0\n",
      "  Attempting uninstall: python-telegram-bot\n",
      "    Found existing installation: python-telegram-bot 13.4.1\n",
      "    Uninstalling python-telegram-bot-13.4.1:\n",
      "      Successfully uninstalled python-telegram-bot-13.4.1\n",
      "Successfully installed cachetools-4.2.2 python-telegram-bot-13.7\n"
     ]
    }
   ],
   "source": [
    "!pip install python-telegram-bot --upgrade"
   ]
  },
  {
   "cell_type": "code",
   "execution_count": 5,
   "metadata": {},
   "outputs": [
    {
     "name": "stdout",
     "output_type": "stream",
     "text": [
      "Collecting dialogflow\n",
      "  Downloading dialogflow-1.1.0-py2.py3-none-any.whl (354 kB)\n",
      "Collecting google-api-core[grpc]<2.0.0dev,>=1.14.0\n",
      "  Downloading google_api_core-1.31.0-py2.py3-none-any.whl (93 kB)\n",
      "Requirement already satisfied: protobuf>=3.12.0 in c:\\users\\79811\\anaconda3\\envs\\oda_lord\\lib\\site-packages (from google-api-core[grpc]<2.0.0dev,>=1.14.0->dialogflow) (3.14.0)\n",
      "Requirement already satisfied: googleapis-common-protos<2.0dev,>=1.6.0 in c:\\users\\79811\\anaconda3\\envs\\oda_lord\\lib\\site-packages (from google-api-core[grpc]<2.0.0dev,>=1.14.0->dialogflow) (1.53.0)\n",
      "Requirement already satisfied: six>=1.13.0 in c:\\users\\79811\\anaconda3\\envs\\oda_lord\\lib\\site-packages (from google-api-core[grpc]<2.0.0dev,>=1.14.0->dialogflow) (1.15.0)\n",
      "Requirement already satisfied: requests<3.0.0dev,>=2.18.0 in c:\\users\\79811\\anaconda3\\envs\\oda_lord\\lib\\site-packages (from google-api-core[grpc]<2.0.0dev,>=1.14.0->dialogflow) (2.25.1)\n",
      "Requirement already satisfied: setuptools>=40.3.0 in c:\\users\\79811\\anaconda3\\envs\\oda_lord\\lib\\site-packages (from google-api-core[grpc]<2.0.0dev,>=1.14.0->dialogflow) (52.0.0.post20210125)\n",
      "Collecting google-auth<2.0dev,>=1.25.0\n",
      "  Downloading google_auth-1.33.1-py2.py3-none-any.whl (152 kB)\n",
      "Requirement already satisfied: packaging>=14.3 in c:\\users\\79811\\anaconda3\\envs\\oda_lord\\lib\\site-packages (from google-api-core[grpc]<2.0.0dev,>=1.14.0->dialogflow) (20.9)\n",
      "Requirement already satisfied: pytz in c:\\users\\79811\\anaconda3\\envs\\oda_lord\\lib\\site-packages (from google-api-core[grpc]<2.0.0dev,>=1.14.0->dialogflow) (2021.1)\n",
      "Requirement already satisfied: grpcio<2.0dev,>=1.29.0 in c:\\users\\79811\\anaconda3\\envs\\oda_lord\\lib\\site-packages (from google-api-core[grpc]<2.0.0dev,>=1.14.0->dialogflow) (1.32.0)\n",
      "Requirement already satisfied: pyasn1-modules>=0.2.1 in c:\\users\\79811\\anaconda3\\envs\\oda_lord\\lib\\site-packages (from google-auth<2.0dev,>=1.25.0->google-api-core[grpc]<2.0.0dev,>=1.14.0->dialogflow) (0.2.8)\n",
      "Requirement already satisfied: rsa<5,>=3.1.4 in c:\\users\\79811\\anaconda3\\envs\\oda_lord\\lib\\site-packages (from google-auth<2.0dev,>=1.25.0->google-api-core[grpc]<2.0.0dev,>=1.14.0->dialogflow) (4.7)\n",
      "Requirement already satisfied: cachetools<5.0,>=2.0.0 in c:\\users\\79811\\anaconda3\\envs\\oda_lord\\lib\\site-packages (from google-auth<2.0dev,>=1.25.0->google-api-core[grpc]<2.0.0dev,>=1.14.0->dialogflow) (4.2.2)\n",
      "Requirement already satisfied: pyparsing>=2.0.2 in c:\\users\\79811\\anaconda3\\envs\\oda_lord\\lib\\site-packages (from packaging>=14.3->google-api-core[grpc]<2.0.0dev,>=1.14.0->dialogflow) (2.4.7)\n",
      "Requirement already satisfied: pyasn1<0.5.0,>=0.4.6 in c:\\users\\79811\\anaconda3\\envs\\oda_lord\\lib\\site-packages (from pyasn1-modules>=0.2.1->google-auth<2.0dev,>=1.25.0->google-api-core[grpc]<2.0.0dev,>=1.14.0->dialogflow) (0.4.8)\n",
      "Requirement already satisfied: certifi>=2017.4.17 in c:\\users\\79811\\anaconda3\\envs\\oda_lord\\lib\\site-packages (from requests<3.0.0dev,>=2.18.0->google-api-core[grpc]<2.0.0dev,>=1.14.0->dialogflow) (2020.6.20)\n",
      "Requirement already satisfied: chardet<5,>=3.0.2 in c:\\users\\79811\\anaconda3\\envs\\oda_lord\\lib\\site-packages (from requests<3.0.0dev,>=2.18.0->google-api-core[grpc]<2.0.0dev,>=1.14.0->dialogflow) (3.0.4)\n",
      "Requirement already satisfied: idna<3,>=2.5 in c:\\users\\79811\\anaconda3\\envs\\oda_lord\\lib\\site-packages (from requests<3.0.0dev,>=2.18.0->google-api-core[grpc]<2.0.0dev,>=1.14.0->dialogflow) (2.8)\n",
      "Requirement already satisfied: urllib3<1.27,>=1.21.1 in c:\\users\\79811\\anaconda3\\envs\\oda_lord\\lib\\site-packages (from requests<3.0.0dev,>=2.18.0->google-api-core[grpc]<2.0.0dev,>=1.14.0->dialogflow) (1.25.11)\n",
      "Installing collected packages: google-auth, google-api-core, dialogflow\n",
      "  Attempting uninstall: google-auth\n",
      "    Found existing installation: google-auth 1.24.0\n",
      "    Uninstalling google-auth-1.24.0:\n",
      "      Successfully uninstalled google-auth-1.24.0\n",
      "Successfully installed dialogflow-1.1.0 google-api-core-1.31.0 google-auth-1.33.1\n"
     ]
    }
   ],
   "source": [
    "!pip install dialogflow"
   ]
  },
  {
   "cell_type": "markdown",
   "metadata": {
    "id": "tWu-aMXx-FZY"
   },
   "source": [
    "Явно зададим кодировку нашего кода"
   ]
  },
  {
   "cell_type": "code",
   "execution_count": 3,
   "metadata": {
    "id": "ndw2tKfs-FZZ"
   },
   "outputs": [],
   "source": [
    "# -- coding: utf-8 -"
   ]
  },
  {
   "cell_type": "code",
   "execution_count": 17,
   "metadata": {},
   "outputs": [
    {
     "name": "stdout",
     "output_type": "stream",
     "text": [
      "Collecting google-cloud-dialogflow\n",
      "  Downloading google_cloud_dialogflow-2.7.0-py2.py3-none-any.whl (1.3 MB)\n",
      "Collecting proto-plus>=1.10.0\n",
      "  Downloading proto_plus-1.19.0-py3-none-any.whl (42 kB)\n",
      "Requirement already satisfied: google-api-core[grpc]<3.0.0dev,>=1.26.0 in c:\\users\\79811\\anaconda3\\envs\\oda_lord\\lib\\site-packages (from google-cloud-dialogflow) (1.31.0)\n",
      "Requirement already satisfied: packaging>=14.3 in c:\\users\\79811\\anaconda3\\envs\\oda_lord\\lib\\site-packages (from google-cloud-dialogflow) (20.9)\n",
      "Requirement already satisfied: google-auth<2.0dev,>=1.25.0 in c:\\users\\79811\\anaconda3\\envs\\oda_lord\\lib\\site-packages (from google-api-core[grpc]<3.0.0dev,>=1.26.0->google-cloud-dialogflow) (1.33.1)\n",
      "Requirement already satisfied: pytz in c:\\users\\79811\\anaconda3\\envs\\oda_lord\\lib\\site-packages (from google-api-core[grpc]<3.0.0dev,>=1.26.0->google-cloud-dialogflow) (2021.1)\n",
      "Requirement already satisfied: protobuf>=3.12.0 in c:\\users\\79811\\anaconda3\\envs\\oda_lord\\lib\\site-packages (from google-api-core[grpc]<3.0.0dev,>=1.26.0->google-cloud-dialogflow) (3.14.0)\n",
      "Requirement already satisfied: googleapis-common-protos<2.0dev,>=1.6.0 in c:\\users\\79811\\anaconda3\\envs\\oda_lord\\lib\\site-packages (from google-api-core[grpc]<3.0.0dev,>=1.26.0->google-cloud-dialogflow) (1.53.0)\n",
      "Requirement already satisfied: requests<3.0.0dev,>=2.18.0 in c:\\users\\79811\\anaconda3\\envs\\oda_lord\\lib\\site-packages (from google-api-core[grpc]<3.0.0dev,>=1.26.0->google-cloud-dialogflow) (2.25.1)\n",
      "Requirement already satisfied: six>=1.13.0 in c:\\users\\79811\\anaconda3\\envs\\oda_lord\\lib\\site-packages (from google-api-core[grpc]<3.0.0dev,>=1.26.0->google-cloud-dialogflow) (1.15.0)\n",
      "Requirement already satisfied: setuptools>=40.3.0 in c:\\users\\79811\\anaconda3\\envs\\oda_lord\\lib\\site-packages (from google-api-core[grpc]<3.0.0dev,>=1.26.0->google-cloud-dialogflow) (52.0.0.post20210125)\n",
      "Requirement already satisfied: grpcio<2.0dev,>=1.29.0 in c:\\users\\79811\\anaconda3\\envs\\oda_lord\\lib\\site-packages (from google-api-core[grpc]<3.0.0dev,>=1.26.0->google-cloud-dialogflow) (1.32.0)\n",
      "Requirement already satisfied: pyasn1-modules>=0.2.1 in c:\\users\\79811\\anaconda3\\envs\\oda_lord\\lib\\site-packages (from google-auth<2.0dev,>=1.25.0->google-api-core[grpc]<3.0.0dev,>=1.26.0->google-cloud-dialogflow) (0.2.8)\n",
      "Requirement already satisfied: rsa<5,>=3.1.4 in c:\\users\\79811\\anaconda3\\envs\\oda_lord\\lib\\site-packages (from google-auth<2.0dev,>=1.25.0->google-api-core[grpc]<3.0.0dev,>=1.26.0->google-cloud-dialogflow) (4.7)\n",
      "Requirement already satisfied: cachetools<5.0,>=2.0.0 in c:\\users\\79811\\anaconda3\\envs\\oda_lord\\lib\\site-packages (from google-auth<2.0dev,>=1.25.0->google-api-core[grpc]<3.0.0dev,>=1.26.0->google-cloud-dialogflow) (4.2.2)\n",
      "Requirement already satisfied: pyparsing>=2.0.2 in c:\\users\\79811\\anaconda3\\envs\\oda_lord\\lib\\site-packages (from packaging>=14.3->google-cloud-dialogflow) (2.4.7)\n",
      "Requirement already satisfied: pyasn1<0.5.0,>=0.4.6 in c:\\users\\79811\\anaconda3\\envs\\oda_lord\\lib\\site-packages (from pyasn1-modules>=0.2.1->google-auth<2.0dev,>=1.25.0->google-api-core[grpc]<3.0.0dev,>=1.26.0->google-cloud-dialogflow) (0.4.8)\n",
      "Requirement already satisfied: idna<3,>=2.5 in c:\\users\\79811\\anaconda3\\envs\\oda_lord\\lib\\site-packages (from requests<3.0.0dev,>=2.18.0->google-api-core[grpc]<3.0.0dev,>=1.26.0->google-cloud-dialogflow) (2.8)\n",
      "Requirement already satisfied: chardet<5,>=3.0.2 in c:\\users\\79811\\anaconda3\\envs\\oda_lord\\lib\\site-packages (from requests<3.0.0dev,>=2.18.0->google-api-core[grpc]<3.0.0dev,>=1.26.0->google-cloud-dialogflow) (3.0.4)\n",
      "Requirement already satisfied: certifi>=2017.4.17 in c:\\users\\79811\\anaconda3\\envs\\oda_lord\\lib\\site-packages (from requests<3.0.0dev,>=2.18.0->google-api-core[grpc]<3.0.0dev,>=1.26.0->google-cloud-dialogflow) (2020.6.20)\n",
      "Requirement already satisfied: urllib3<1.27,>=1.21.1 in c:\\users\\79811\\anaconda3\\envs\\oda_lord\\lib\\site-packages (from requests<3.0.0dev,>=2.18.0->google-api-core[grpc]<3.0.0dev,>=1.26.0->google-cloud-dialogflow) (1.25.11)\n",
      "Installing collected packages: proto-plus, google-cloud-dialogflow\n",
      "Successfully installed google-cloud-dialogflow-2.7.0 proto-plus-1.19.0\n"
     ]
    }
   ],
   "source": [
    "!pip install google-cloud-dialogflow"
   ]
  },
  {
   "cell_type": "code",
   "execution_count": 18,
   "metadata": {
    "id": "TxrNowTJ-FZZ"
   },
   "outputs": [],
   "source": [
    "from telegram.ext  import Updater, CommandHandler, MessageHandler, Filters\n",
    "#import dialogflow"
   ]
  },
  {
   "cell_type": "markdown",
   "metadata": {
    "id": "B-gDsM4Q-FZa"
   },
   "source": [
    "telegram.ext подмодуль, предоставлющий простой в использовании интерфейс. Он состоит из нескольких классов, но двумя наиболее важными из них являются telegram.ext.Updater и telegram.ext.Dispatcher.\n",
    "Класс Updater непрерывно получает новые обновления  из телеграмма и передает их в Dispatcher класс.\n",
    "Если вы создадите Updater объект, он создаст Dispatcher для вас и свяжет их вместе.\n"
   ]
  },
  {
   "cell_type": "markdown",
   "metadata": {
    "id": "oDUYKt_l-FZb"
   },
   "source": []
  },
  {
   "cell_type": "code",
   "execution_count": 19,
   "metadata": {
    "id": "WXHGTkGI-FZb"
   },
   "outputs": [],
   "source": [
    "#Настройки \n",
    "from telegram.ext  import Updater, CommandHandler, MessageHandler, Filters\n",
    "#import dialogflow\n",
    "\n",
    "updater = Updater(token='**************') # Токен API к Telegram\n",
    "dispatcher = updater.dispatcher"
   ]
  },
  {
   "cell_type": "markdown",
   "metadata": {
    "id": "gvGholxo-FZc"
   },
   "source": [
    "Затем вы можете зарегистрировать обработчики разных типов в Dispatcher, который будет сортировать обновления, извлеченные в Updater соответствии с зарегистрированными вами обработчиками, и доставлять их в функцию обратного вызова, которую вы определили.\n"
   ]
  },
  {
   "cell_type": "markdown",
   "metadata": {
    "id": "dZAhA63a-FZd"
   },
   "source": [
    "Напишем 2 обработчика команд. Это callback-функции, которые будут вызываться тогда, когда будет получено обновление. Напишем две таких функции для команды /start и для обычного любого текстового сообщения. В качестве аргументов туда передаются два параметра: bot и update. Bot содержит необходимые методы для взаимодействия с API, а update содержит данные о пришедшем сообщении.\n"
   ]
  },
  {
   "cell_type": "code",
   "execution_count": 20,
   "metadata": {
    "id": "ZBTLtGxc-FZe"
   },
   "outputs": [],
   "source": [
    "# Обработка команд\n",
    "def startCommand(bot, update):\n",
    "    bot.send_message(chat_id=update.message.chat_id, text='Всем Добра! Добро пожаловать в мир говорливого Бобра. Не стесняйся задавай мне вопросы.')\n",
    "    \n",
    "def textMessage(bot, update):\n",
    "    response = 'Бобер сообщение принял ' + update.message.text # формируем текст ответа\n",
    "    bot.send_message(chat_id=update.message.chat_id, text=response)"
   ]
  },
  {
   "cell_type": "markdown",
   "metadata": {
    "id": "v1oa4hEk-FZf"
   },
   "source": [
    "Каждый обработчик является экземпляром любого подкласса класса telegram.ext.Handler . Библиотека предоставляет классы-обработчики почти для всех вариантов использования, но если вам нужно что-то очень конкретное, вы также можете создать подкласс Handler самостоятельно."
   ]
  },
  {
   "cell_type": "markdown",
   "metadata": {
    "id": "IAZYAvpI-FZf"
   },
   "source": [
    "Теперь осталось лишь присвоить уведомлениям эти обработчики и начать поиск обновлений.\n",
    "Цель состоит в том, чтобы вызывать эту функцию каждый раз, когда бот получает сообщение Telegram, содержащее /start команду. Для этого можно использовать CommandHandler(один из предоставленных подклассов Handler) и зарегистрировать его в диспетчере:\n",
    "Класс Filters содержит ряд функций, которые фильтруют входящие сообщения на наличие текста, изображений, обновлений статуса и т.д. \n",
    "Любое сообщение, которое возвращает True в хотя бы одном из переданных фильтров, MessageHandler примет. Также можно написать свои собственные фильтры.\n"
   ]
  },
  {
   "cell_type": "code",
   "execution_count": 21,
   "metadata": {
    "id": "vqFoF2qS-FZg"
   },
   "outputs": [],
   "source": [
    "import logging\n",
    "\n",
    "from telegram import Update\n",
    "from telegram.ext import Updater, CommandHandler, MessageHandler, Filters, CallbackContext\n",
    "\n",
    "#import dialogflow"
   ]
  },
  {
   "cell_type": "code",
   "execution_count": 22,
   "metadata": {
    "id": "zu9tozyX-FZg"
   },
   "outputs": [],
   "source": [
    "import logging\n",
    "# Enable logging\n",
    "logging.basicConfig(\n",
    "    format='%(asctime)s - %(name)s - %(levelname)s - %(message)s', level=logging.INFO\n",
    ")\n",
    "\n",
    "logger = logging.getLogger()"
   ]
  },
  {
   "cell_type": "code",
   "execution_count": 23,
   "metadata": {
    "id": "3iSKZChX-FZg"
   },
   "outputs": [],
   "source": [
    "# Define a few command handlers. These usually take the two arguments update and\n",
    "# context. Error handlers also receive the raised TelegramError object in error.\n",
    "def start(update: Update, context: CallbackContext):\n",
    "    update.message.reply_text('Бобер Жорик Приветствует тебя!')\n",
    "\n",
    "def echo(update: Update, context: CallbackContext):\n",
    "    txt = update.message.text\n",
    "    update.message.reply_text('Бобер сообщение принял ' + update.message.text)"
   ]
  },
  {
   "cell_type": "code",
   "execution_count": null,
   "metadata": {
    "id": "Epj4USB3-FZh",
    "outputId": "4679fa45-b817-45db-8b77-d5f2d9554026"
   },
   "outputs": [
    {
     "name": "stderr",
     "output_type": "stream",
     "text": [
      "2021-07-25 01:08:38,254 - apscheduler.scheduler - INFO - Scheduler started\n"
     ]
    }
   ],
   "source": [
    "updater = Updater(\"1910822373:AAEV9MdJJd2nihcc2tV6BoW7_6ZDJPrDTJw\", use_context=True)\n",
    "dispatcher = updater.dispatcher\n",
    "\n",
    "# on different commands - answer in Telegram\n",
    "dispatcher.add_handler(CommandHandler(\"start\", start))\n",
    "dispatcher.add_handler(MessageHandler(Filters.text & ~Filters.command, echo))\n",
    "\n",
    "# Start the Bot\n",
    "updater.start_polling()\n",
    "updater.idle()"
   ]
  },
  {
   "cell_type": "code",
   "execution_count": null,
   "metadata": {
    "id": "_Rx1nhdr-FZi"
   },
   "outputs": [],
   "source": []
  },
  {
   "cell_type": "code",
   "execution_count": null,
   "metadata": {
    "id": "RrS2zTIV-FZi"
   },
   "outputs": [],
   "source": []
  },
  {
   "cell_type": "markdown",
   "metadata": {
    "id": "tLLSGyW1-FZj"
   },
   "source": [
    "Создаём папку Bot, в которой потом создаём файл bot.py. \n",
    "Вы можете создать просто текстовый блокнот и вместо расширения .txt  напишите .py\n",
    "Собираем код нашего бота.\n",
    "Открываем консоль и переходим в директорию с файлом, и запускаем python3 bot.py\n",
    "Бот будет работать пока будет открыто окно консоли. "
   ]
  },
  {
   "cell_type": "markdown",
   "metadata": {
    "id": "0cBkILwq-FZj"
   },
   "source": [
    "## Шаг 3 Dialogflow"
   ]
  },
  {
   "cell_type": "markdown",
   "metadata": {
    "id": "Js8k1J1E-FZk"
   },
   "source": [
    "https://dialogflow.cloud.google.com/#/login"
   ]
  },
  {
   "cell_type": "markdown",
   "metadata": {
    "id": "MbI7rTk8-FZk"
   },
   "source": [
    "![image.png](attachment:image.png)"
   ]
  },
  {
   "cell_type": "markdown",
   "metadata": {
    "id": "FRrDuq0P-FZl"
   },
   "source": [
    "![image.png](attachment:image.png)"
   ]
  },
  {
   "cell_type": "code",
   "execution_count": null,
   "metadata": {
    "id": "VE04DZio-FZl"
   },
   "outputs": [],
   "source": []
  },
  {
   "cell_type": "markdown",
   "metadata": {
    "id": "6MTqv9Yu-FZl"
   },
   "source": [
    "![image.png](attachment:image.png)"
   ]
  },
  {
   "cell_type": "markdown",
   "metadata": {
    "id": "TjUrb1J3-FZm"
   },
   "source": [
    "Панель управления слева.  Выбираем Small-talk"
   ]
  },
  {
   "cell_type": "markdown",
   "metadata": {
    "id": "nZxnQ-Bn-FZm"
   },
   "source": [
    "![image.png](attachment:image.png)"
   ]
  },
  {
   "cell_type": "markdown",
   "metadata": {
    "id": "MmYBoH7K-FZm"
   },
   "source": [
    "Выбинаем Enable и SAVE"
   ]
  },
  {
   "cell_type": "markdown",
   "metadata": {
    "id": "ZNiN1mJ9-FZm"
   },
   "source": [
    "Снимок экрана 2020-07-19 в 16.21.00![image.png](attachment:image.png)"
   ]
  },
  {
   "cell_type": "markdown",
   "metadata": {
    "id": "miVI1acp-FZn"
   },
   "source": [
    "Бот можно протестировать справа"
   ]
  },
  {
   "cell_type": "markdown",
   "metadata": {
    "id": "-p04sjjF-FZn"
   },
   "source": [
    "![image.png](attachment:image.png)"
   ]
  },
  {
   "cell_type": "markdown",
   "metadata": {
    "id": "eShnr8Gb-FZn"
   },
   "source": [
    "Переходим на страничку с документацией https://googleapis.dev/python/dialogflow/latest/index.html\n",
    "И проходим по ссылке"
   ]
  },
  {
   "cell_type": "markdown",
   "metadata": {
    "id": "xCNiF_tq-FZo"
   },
   "source": [
    "![image.png](attachment:image.png)"
   ]
  },
  {
   "cell_type": "markdown",
   "metadata": {
    "id": "VHFP5piZ-FZo"
   },
   "source": [
    "![image.png](attachment:image.png)"
   ]
  },
  {
   "cell_type": "markdown",
   "metadata": {
    "id": "3RTUNwGK-FZo"
   },
   "source": [
    "Выбираем свой проект"
   ]
  },
  {
   "cell_type": "markdown",
   "metadata": {
    "id": "pxABV8Xt-FZp"
   },
   "source": [
    "![image.png](attachment:image.png)"
   ]
  },
  {
   "cell_type": "markdown",
   "metadata": {
    "id": "o3Osm6SS-FZp"
   },
   "source": [
    "Создаем учетные данные"
   ]
  },
  {
   "cell_type": "markdown",
   "metadata": {
    "id": "S-t4rAUE-FZp"
   },
   "source": [
    "![image.png](attachment:image.png)"
   ]
  },
  {
   "cell_type": "markdown",
   "metadata": {
    "id": "ofq76FVD-FZp"
   },
   "source": [
    "![image.png](attachment:image.png)"
   ]
  },
  {
   "cell_type": "markdown",
   "metadata": {
    "id": "3oQfil8l-FZq"
   },
   "source": [
    "![image.png](attachment:image.png)"
   ]
  },
  {
   "cell_type": "markdown",
   "metadata": {
    "id": "ANp2a4P_-FZq"
   },
   "source": [
    "![image.png](attachment:image.png)"
   ]
  },
  {
   "cell_type": "markdown",
   "metadata": {
    "id": "sGgE0Qjv-FZq"
   },
   "source": [
    "![image.png](attachment:image.png)"
   ]
  },
  {
   "cell_type": "markdown",
   "metadata": {
    "id": "TpmQ48M--FZr"
   },
   "source": [
    "![image.png](attachment:image.png)"
   ]
  },
  {
   "cell_type": "markdown",
   "metadata": {
    "id": "zLCawEp7-FZr"
   },
   "source": [
    "JSON должен скачаться. Выберите директорию с ботом"
   ]
  },
  {
   "cell_type": "markdown",
   "metadata": {
    "id": "VA3xXtdS-FZr"
   },
   "source": [
    "![image.png](attachment:image.png)"
   ]
  },
  {
   "cell_type": "markdown",
   "metadata": {
    "id": "zPYZq-SL-FZr"
   },
   "source": [
    "## Шаг 4 Настройки соединения"
   ]
  },
  {
   "cell_type": "markdown",
   "metadata": {
    "id": "eb_DL_-j-FZs"
   },
   "source": [
    "Перейдем в настройки в DialogFlow и скопипуем PROJECT ID"
   ]
  },
  {
   "cell_type": "markdown",
   "metadata": {
    "id": "gflKO1qz-FZs"
   },
   "source": [
    "![image.png](attachment:image.png)"
   ]
  },
  {
   "cell_type": "markdown",
   "metadata": {
    "id": "UTPciSWK-FZs"
   },
   "source": [
    "![image.png](attachment:image.png)"
   ]
  },
  {
   "cell_type": "code",
   "execution_count": null,
   "metadata": {
    "id": "C-8N6tzp-FZt",
    "outputId": "0514c72e-8f15-4781-e43b-67d4b3ecba5b"
   },
   "outputs": [],
   "source": [
    "!ls"
   ]
  },
  {
   "cell_type": "code",
   "execution_count": null,
   "metadata": {
    "id": "qYloI6O9-FZt"
   },
   "outputs": [],
   "source": [
    "import os\n",
    "import logging\n",
    "from telegram import Update\n",
    "from telegram.ext import Updater, CommandHandler, MessageHandler, Filters, CallbackContext\n",
    "\n",
    "import dialogflow"
   ]
  },
  {
   "cell_type": "code",
   "execution_count": null,
   "metadata": {
    "id": "RgUUDkvw-FZt"
   },
   "outputs": [],
   "source": [
    "updater = Updater(\"**************\", use_context=True)  # Токен API к Telegram\n",
    "dispatcher = updater.dispatcher\n",
    "os.environ[\"GOOGLE_APPLICATION_CREDENTIALS\"] = 'bober-joric-outg-1413a9f2b8b7.json'# скачнный JSON\n",
    "\n",
    "\n",
    "DIALOGFLOW_PROJECT_ID = 'bober-joric-outg' #PROJECT ID из DialogFlow \n",
    "DIALOGFLOW_LANGUAGE_CODE = 'ru' # язык\n",
    "SESSION_ID = 'Bober_Joric_Bot'  # ID бота из телеграма"
   ]
  },
  {
   "cell_type": "markdown",
   "metadata": {
    "id": "yh4onUUo-FZu"
   },
   "source": [
    "Переписываем функцию textMessage"
   ]
  },
  {
   "cell_type": "code",
   "execution_count": null,
   "metadata": {
    "id": "SjRoQaGF-FZu"
   },
   "outputs": [],
   "source": [
    "def startCommand1(update: Update, context: CallbackContext):\n",
    "    update.message.reply_text('Добрый день!')\n",
    "\n",
    "    \n",
    "def textMessage1(update: Update, context: CallbackContext):\n",
    "    session_client = dialogflow.SessionsClient()\n",
    "    session = session_client.session_path(DIALOGFLOW_PROJECT_ID, SESSION_ID)\n",
    "    text_input = dialogflow.types.TextInput(text=update.message.text , language_code=DIALOGFLOW_LANGUAGE_CODE)\n",
    "    query_input = dialogflow.types.QueryInput(text=text_input)\n",
    "    \n",
    "    try:\n",
    "        response = session_client.detect_intent(session=session, query_input=query_input)\n",
    "    except InvalidArgument:\n",
    "         raise\n",
    "\n",
    "    text = response.query_result.fulfillment_text\n",
    "    if text:\n",
    "        update.message.reply_text(response.query_result.fulfillment_text)\n",
    "    else:\n",
    "        update.message.reply_text('Бобрик маленький и еще глупый- тебя не понимает. Переформулируй')"
   ]
  },
  {
   "cell_type": "code",
   "execution_count": null,
   "metadata": {
    "id": "uBZ1qmM3-FZv",
    "outputId": "dcccf54c-d3e4-4caf-93ae-b3852413f116"
   },
   "outputs": [],
   "source": [
    "# on different commands - answer in Telegram\n",
    "dispatcher.add_handler(CommandHandler(\"start\", startCommand1))\n",
    "dispatcher.add_handler(MessageHandler(Filters.text & ~Filters.command, textMessage1))\n",
    "\n",
    "# Start the Bot\n",
    "updater.start_polling()\n",
    "updater.idle()"
   ]
  },
  {
   "cell_type": "code",
   "execution_count": null,
   "metadata": {
    "id": "egDtVGmJ-FZv"
   },
   "outputs": [],
   "source": []
  },
  {
   "cell_type": "code",
   "execution_count": null,
   "metadata": {
    "id": "zn_QP7qf-FZv"
   },
   "outputs": [],
   "source": []
  },
  {
   "cell_type": "code",
   "execution_count": null,
   "metadata": {
    "id": "QDcxlXyh-FZw"
   },
   "outputs": [],
   "source": [
    "# Хендлеры\n",
    "start_command_handler = CommandHandler('start', startCommand)\n",
    "text_message_handler = MessageHandler(Filters.text, textMessage)\n",
    "# Добавляем хендлеры в диспетчер\n",
    "dispatcher.add_handler(start_command_handler)\n",
    "dispatcher.add_handler(text_message_handler)\n",
    "# Начинаем поиск обновлений\n",
    "updater.start_polling(clean=True)\n",
    "# Останавливаем бота, если были нажаты Ctrl + C\n",
    "updater.idle()"
   ]
  },
  {
   "cell_type": "code",
   "execution_count": null,
   "metadata": {
    "id": "poGxDDUa-FZw"
   },
   "outputs": [],
   "source": []
  }
 ],
 "metadata": {
  "colab": {
   "collapsed_sections": [
    "0cBkILwq-FZj",
    "zPYZq-SL-FZr"
   ],
   "name": "chat-bot (1).ipynb",
   "provenance": [
    {
     "file_id": "1fb_t7HCNSkUWc8-jgfk1FD1mV71TxNRP",
     "timestamp": 1621836221050
    }
   ]
  },
  "kernelspec": {
   "display_name": "Python 3",
   "language": "python",
   "name": "python3"
  },
  "language_info": {
   "codemirror_mode": {
    "name": "ipython",
    "version": 3
   },
   "file_extension": ".py",
   "mimetype": "text/x-python",
   "name": "python",
   "nbconvert_exporter": "python",
   "pygments_lexer": "ipython3",
   "version": "3.8.8"
  }
 },
 "nbformat": 4,
 "nbformat_minor": 1
}
