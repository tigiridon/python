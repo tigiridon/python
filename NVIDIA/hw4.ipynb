{
 "cells": [
  {
   "cell_type": "code",
   "execution_count": 2,
   "id": "growing-western",
   "metadata": {},
   "outputs": [],
   "source": [
    "#заглушка, отьехал в первый отпуск за 3 года- связи нет."
   ]
  },
  {
   "cell_type": "code",
   "execution_count": null,
   "id": "opposite-negotiation",
   "metadata": {},
   "outputs": [],
   "source": []
  }
 ],
 "metadata": {
  "kernelspec": {
   "display_name": "Python 3",
   "language": "python",
   "name": "python3"
  },
  "language_info": {
   "codemirror_mode": {
    "name": "ipython",
    "version": 3
   },
   "file_extension": ".py",
   "mimetype": "text/x-python",
   "name": "python",
   "nbconvert_exporter": "python",
   "pygments_lexer": "ipython3",
   "version": "3.8.8"
  }
 },
 "nbformat": 4,
 "nbformat_minor": 5
}
