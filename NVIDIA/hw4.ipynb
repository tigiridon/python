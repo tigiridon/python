{
 "cells": [
  {
   "cell_type": "markdown",
   "metadata": {},
   "source": [
    "### From SAV to LOVE"
   ]
  },
  {
   "cell_type": "markdown",
   "metadata": {},
   "source": [
    "# HW №4"
   ]
  },
  {
   "cell_type": "markdown",
   "metadata": {
    "id": "ye7m_T9K17cr"
   },
   "source": [
    "## Введение в обработку естественного языка\n",
    "### Тематическое моделирование. EM-алгоритм\n",
    "### Практическое задание"
   ]
  },
  {
   "cell_type": "markdown",
   "metadata": {
    "id": "VmY4DRs617cv"
   },
   "source": [
    "**Взять ноутбук с семинара и проанализировать другие тематики**  \n",
    "<li>количество тематик от 3-х и более</li>\n",
    "<li>попробуйте выявить оптимальное количество тем и вывести сами тематики</li>\n",
    "<li>сравните и сделайте выводы, реализаций gensim/bigartm и ещё возьмите sklearn реализацию метода LDA</li>"
   ]
  },
  {
   "cell_type": "code",
   "execution_count": 1,
   "metadata": {
    "colab": {
     "base_uri": "https://localhost:8080/",
     "height": 17
    },
    "executionInfo": {
     "elapsed": 3093,
     "status": "ok",
     "timestamp": 1617791951315,
     "user": {
      "displayName": "Alexey Tankov",
      "photoUrl": "",
      "userId": "01729535101672247421"
     },
     "user_tz": -180
    },
    "id": "h59IluzU17cw",
    "outputId": "0d999d42-92d2-47c4-d682-319e16a7bbb5"
   },
   "outputs": [
    {
     "data": {
      "text/html": [
       "<style>.container { width:77% !important; }</style>"
      ],
      "text/plain": [
       "<IPython.core.display.HTML object>"
      ]
     },
     "metadata": {
      "tags": []
     },
     "output_type": "display_data"
    }
   ],
   "source": [
    "from IPython.core.display import display, HTML, Image\n",
    "display(HTML(\"<style>.container { width:77% !important; }</style>\"))"
   ]
  },
  {
   "cell_type": "code",
   "execution_count": 2,
   "metadata": {
    "executionInfo": {
     "elapsed": 4245,
     "status": "ok",
     "timestamp": 1617791952475,
     "user": {
      "displayName": "Alexey Tankov",
      "photoUrl": "",
      "userId": "01729535101672247421"
     },
     "user_tz": -180
    },
    "id": "ZrPnqQpq17cx"
   },
   "outputs": [],
   "source": [
    "import pandas as pd\n",
    "import numpy as np\n",
    "import re\n",
    "import matplotlib.pyplot as plt\n",
    "import seaborn as sns\n",
    "import nltk\n",
    "import warnings \n",
    "warnings.filterwarnings('ignore')\n",
    "import os\n",
    "import time"
   ]
  },
  {
   "cell_type": "code",
   "execution_count": 3,
   "metadata": {
    "executionInfo": {
     "elapsed": 4244,
     "status": "ok",
     "timestamp": 1617791952479,
     "user": {
      "displayName": "Alexey Tankov",
      "photoUrl": "",
      "userId": "01729535101672247421"
     },
     "user_tz": -180
    },
    "id": "xe43z_gf17cx"
   },
   "outputs": [],
   "source": [
    "plt.rcParams.update({'font.size': 14})\n",
    "pd.set_option('precision', 3)\n",
    "pd.set_option('max_columns', 100)\n",
    "pd.set_option('display.float_format', lambda x: '%.5f' % x)\n",
    "pd.set_option('display.max_columns', 500)\n",
    "pd.set_option('display.max_rows', 500)\n",
    "pd.set_option('max_colwidth', 300)"
   ]
  },
  {
   "cell_type": "markdown",
   "metadata": {
    "id": "4k894mQs2GOo"
   },
   "source": [
    "### Построим тематические модели для корпуса новостей Lenta.ru, с которым мы уже работали ранее."
   ]
  },
  {
   "cell_type": "code",
   "execution_count": 96,
   "metadata": {
    "executionInfo": {
     "elapsed": 1275,
     "status": "ok",
     "timestamp": 1617795129121,
     "user": {
      "displayName": "Alexey Tankov",
      "photoUrl": "",
      "userId": "01729535101672247421"
     },
     "user_tz": -180
    },
    "id": "fDD_nURe17cy"
   },
   "outputs": [],
   "source": [
    "# !wget https://github.com/yutkin/Lenta.Ru-News-Dataset/releases/download/v1.0/lenta-ru-news.csv.gz"
   ]
  },
  {
   "cell_type": "code",
   "execution_count": 97,
   "metadata": {
    "executionInfo": {
     "elapsed": 1000,
     "status": "ok",
     "timestamp": 1617795133579,
     "user": {
      "displayName": "Alexey Tankov",
      "photoUrl": "",
      "userId": "01729535101672247421"
     },
     "user_tz": -180
    },
    "id": "m9Aev2dC2Hs0"
   },
   "outputs": [],
   "source": [
    "# !pip install corus"
   ]
  },
  {
   "cell_type": "code",
   "execution_count": 8,
   "metadata": {
    "colab": {
     "base_uri": "https://localhost:8080/"
    },
    "executionInfo": {
     "elapsed": 886,
     "status": "ok",
     "timestamp": 1617791979701,
     "user": {
      "displayName": "Alexey Tankov",
      "photoUrl": "",
      "userId": "01729535101672247421"
     },
     "user_tz": -180
    },
    "id": "hvXjHZ8G2K-b",
    "outputId": "0677ec59-f704-4f11-fc41-b625c4d933ad"
   },
   "outputs": [
    {
     "data": {
      "text/plain": [
       "LentaRecord(\n",
       "    url='https://lenta.ru/news/2018/12/14/cancer/',\n",
       "    title='Названы регионы России с\\xa0самой высокой смертностью от\\xa0рака',\n",
       "    text='Вице-премьер по социальным вопросам Татьяна Голикова рассказала, в каких регионах России зафиксирована наиболее высокая смертность от рака, сообщает РИА Новости. По словам Голиковой, чаще всего онкологические заболевания становились причиной смерти в Псковской, Тверской, Тульской и Орловской областях, а также в Севастополе. Вице-премьер напомнила, что главные факторы смертности в России — рак и болезни системы кровообращения. В начале года стало известно, что смертность от онкологических заболеваний среди россиян снизилась впервые за три года. По данным Росстата, в 2017 году от рака умерли 289 тысяч человек. Это на 3,5 процента меньше, чем годом ранее.',\n",
       "    topic='Россия',\n",
       "    tags='Общество',\n",
       "    date=None\n",
       ")"
      ]
     },
     "execution_count": 8,
     "metadata": {
      "tags": []
     },
     "output_type": "execute_result"
    }
   ],
   "source": [
    "from corus import load_lenta\n",
    "\n",
    "path = 'lenta-ru-news.csv.gz'\n",
    "records = load_lenta(path)\n",
    "next(records)"
   ]
  },
  {
   "cell_type": "code",
   "execution_count": 9,
   "metadata": {
    "executionInfo": {
     "elapsed": 44359,
     "status": "ok",
     "timestamp": 1617792025665,
     "user": {
      "displayName": "Alexey Tankov",
      "photoUrl": "",
      "userId": "01729535101672247421"
     },
     "user_tz": -180
    },
    "id": "F9kariPs2N2-"
   },
   "outputs": [],
   "source": [
    "data = [(record.title, record.topic, record.text, record.tags) for record in records]"
   ]
  },
  {
   "cell_type": "code",
   "execution_count": 10,
   "metadata": {
    "executionInfo": {
     "elapsed": 44313,
     "status": "ok",
     "timestamp": 1617792026144,
     "user": {
      "displayName": "Alexey Tankov",
      "photoUrl": "",
      "userId": "01729535101672247421"
     },
     "user_tz": -180
    },
    "id": "rtk14FfJ2VCE"
   },
   "outputs": [],
   "source": [
    "data = pd.DataFrame(data, columns=['title','topic','text','tags'])"
   ]
  },
  {
   "cell_type": "code",
   "execution_count": 11,
   "metadata": {
    "colab": {
     "base_uri": "https://localhost:8080/",
     "height": 193
    },
    "executionInfo": {
     "elapsed": 43891,
     "status": "ok",
     "timestamp": 1617792026146,
     "user": {
      "displayName": "Alexey Tankov",
      "photoUrl": "",
      "userId": "01729535101672247421"
     },
     "user_tz": -180
    },
    "id": "VCygolwZ2fzO",
    "outputId": "d615d466-5713-4cd5-cf40-c57446f0d6f0"
   },
   "outputs": [
    {
     "data": {
      "text/html": [
       "<div>\n",
       "<style scoped>\n",
       "    .dataframe tbody tr th:only-of-type {\n",
       "        vertical-align: middle;\n",
       "    }\n",
       "\n",
       "    .dataframe tbody tr th {\n",
       "        vertical-align: top;\n",
       "    }\n",
       "\n",
       "    .dataframe thead th {\n",
       "        text-align: right;\n",
       "    }\n",
       "</style>\n",
       "<table border=\"1\" class=\"dataframe\">\n",
       "  <thead>\n",
       "    <tr style=\"text-align: right;\">\n",
       "      <th></th>\n",
       "      <th>title</th>\n",
       "      <th>topic</th>\n",
       "      <th>text</th>\n",
       "      <th>tags</th>\n",
       "    </tr>\n",
       "  </thead>\n",
       "  <tbody>\n",
       "    <tr>\n",
       "      <th>672840</th>\n",
       "      <td>Израильтяне покинули Бейт Ханун, но пообещали вернуться</td>\n",
       "      <td>Мир</td>\n",
       "      <td>Израильские военнослужащие и бронетехника покинули город Бейт Ханун, расположенный в секторе Газа, сообщает BBC News. Войска вошли в этот город в воскресенье в рамках целой серии операций в секторе Газа, целью которой, как утверждали военные, было разрушение террористической инфраструктуры. Изра...</td>\n",
       "      <td>Все</td>\n",
       "    </tr>\n",
       "    <tr>\n",
       "      <th>503305</th>\n",
       "      <td>Потерявшим работу чиновникам дадут денег на собственный бизнес</td>\n",
       "      <td>Экономика</td>\n",
       "      <td>Чиновникам, потерявшим работу из-за сокращения числа проверок малого бизнеса, предлагается выделять гранты на открытие собственного бизнеса. Об инициативе директора департамента госрегулирования в экономике Минэкономразвития Андрея Шарова сообщает газета \"Коммерсант\". Напомним, 2 июля российское...</td>\n",
       "      <td>Все</td>\n",
       "    </tr>\n",
       "    <tr>\n",
       "      <th>185195</th>\n",
       "      <td>IBM превратила суперкомпьютер в литредактора</td>\n",
       "      <td>Наука и техника</td>\n",
       "      <td>Компания IBM разработала приложение c функциями литредактора Tone Analyzer для суперкомпьютера Watson, сообщает портал Endgadget. Машина оценивает эмоциональную тональность предлагаемого ей текста, анализируя отдельные слова. По итогам проверки она подсказывает синонимы, способные повлиять на об...</td>\n",
       "      <td>Игры</td>\n",
       "    </tr>\n",
       "  </tbody>\n",
       "</table>\n",
       "</div>"
      ],
      "text/plain": [
       "                                                                 title  \\\n",
       "672840         Израильтяне покинули Бейт Ханун, но пообещали вернуться   \n",
       "503305  Потерявшим работу чиновникам дадут денег на собственный бизнес   \n",
       "185195                    IBM превратила суперкомпьютер в литредактора   \n",
       "\n",
       "                  topic  \\\n",
       "672840              Мир   \n",
       "503305        Экономика   \n",
       "185195  Наука и техника   \n",
       "\n",
       "                                                                                                                                                                                                                                                                                                               text  \\\n",
       "672840  Израильские военнослужащие и бронетехника покинули город Бейт Ханун, расположенный в секторе Газа, сообщает BBC News. Войска вошли в этот город в воскресенье в рамках целой серии операций в секторе Газа, целью которой, как утверждали военные, было разрушение террористической инфраструктуры. Изра...   \n",
       "503305  Чиновникам, потерявшим работу из-за сокращения числа проверок малого бизнеса, предлагается выделять гранты на открытие собственного бизнеса. Об инициативе директора департамента госрегулирования в экономике Минэкономразвития Андрея Шарова сообщает газета \"Коммерсант\". Напомним, 2 июля российское...   \n",
       "185195  Компания IBM разработала приложение c функциями литредактора Tone Analyzer для суперкомпьютера Watson, сообщает портал Endgadget. Машина оценивает эмоциональную тональность предлагаемого ей текста, анализируя отдельные слова. По итогам проверки она подсказывает синонимы, способные повлиять на об...   \n",
       "\n",
       "        tags  \n",
       "672840   Все  \n",
       "503305   Все  \n",
       "185195  Игры  "
      ]
     },
     "execution_count": 11,
     "metadata": {
      "tags": []
     },
     "output_type": "execute_result"
    }
   ],
   "source": [
    "data.sample(3)"
   ]
  },
  {
   "cell_type": "code",
   "execution_count": 12,
   "metadata": {
    "colab": {
     "base_uri": "https://localhost:8080/"
    },
    "executionInfo": {
     "elapsed": 42527,
     "status": "ok",
     "timestamp": 1617792026147,
     "user": {
      "displayName": "Alexey Tankov",
      "photoUrl": "",
      "userId": "01729535101672247421"
     },
     "user_tz": -180
    },
    "id": "fk8HhygB2g7m",
    "outputId": "056b3679-5602-4138-dea0-148e2c5f3ee5"
   },
   "outputs": [
    {
     "data": {
      "text/plain": [
       "739350"
      ]
     },
     "execution_count": 12,
     "metadata": {
      "tags": []
     },
     "output_type": "execute_result"
    }
   ],
   "source": [
    "len(data)"
   ]
  },
  {
   "cell_type": "code",
   "execution_count": 13,
   "metadata": {
    "colab": {
     "base_uri": "https://localhost:8080/"
    },
    "executionInfo": {
     "elapsed": 41781,
     "status": "ok",
     "timestamp": 1617792026474,
     "user": {
      "displayName": "Alexey Tankov",
      "photoUrl": "",
      "userId": "01729535101672247421"
     },
     "user_tz": -180
    },
    "id": "CUi04VjW2pmS",
    "outputId": "6e4c0ae4-9fcd-4864-9a6d-c45449ff9308"
   },
   "outputs": [
    {
     "name": "stdout",
     "output_type": "stream",
     "text": [
      "<class 'pandas.core.frame.DataFrame'>\n",
      "RangeIndex: 739350 entries, 0 to 739349\n",
      "Data columns (total 4 columns):\n",
      " #   Column  Non-Null Count   Dtype \n",
      "---  ------  --------------   ----- \n",
      " 0   title   739350 non-null  object\n",
      " 1   topic   739350 non-null  object\n",
      " 2   text    739350 non-null  object\n",
      " 3   tags    739350 non-null  object\n",
      "dtypes: object(4)\n",
      "memory usage: 22.6+ MB\n"
     ]
    }
   ],
   "source": [
    "data.info()"
   ]
  },
  {
   "cell_type": "code",
   "execution_count": 14,
   "metadata": {
    "colab": {
     "base_uri": "https://localhost:8080/"
    },
    "executionInfo": {
     "elapsed": 40714,
     "status": "ok",
     "timestamp": 1617792026796,
     "user": {
      "displayName": "Alexey Tankov",
      "photoUrl": "",
      "userId": "01729535101672247421"
     },
     "user_tz": -180
    },
    "id": "3P9L83s52nc-",
    "outputId": "97c81966-0745-4094-8b01-6abf24ba5a97"
   },
   "outputs": [
    {
     "data": {
      "text/plain": [
       "Россия               160518\n",
       "Мир                  136680\n",
       "Экономика             79538\n",
       "Спорт                 64421\n",
       "Культура              53803\n",
       "Бывший СССР           53402\n",
       "Наука и техника       53136\n",
       "Интернет и СМИ        44675\n",
       "Из жизни              27611\n",
       "Дом                   21734\n",
       "Силовые структуры     19596\n",
       "Ценности               7766\n",
       "Бизнес                 7399\n",
       "Путешествия            6408\n",
       "69-я параллель         1268\n",
       "Name: topic, dtype: int64"
      ]
     },
     "execution_count": 14,
     "metadata": {
      "tags": []
     },
     "output_type": "execute_result"
    }
   ],
   "source": [
    "data.topic.value_counts().head(15)"
   ]
  },
  {
   "cell_type": "code",
   "execution_count": 15,
   "metadata": {
    "colab": {
     "base_uri": "https://localhost:8080/"
    },
    "executionInfo": {
     "elapsed": 37617,
     "status": "ok",
     "timestamp": 1617792027305,
     "user": {
      "displayName": "Alexey Tankov",
      "photoUrl": "",
      "userId": "01729535101672247421"
     },
     "user_tz": -180
    },
    "id": "cq9LQv6K-GKf",
    "outputId": "a8a1f63e-fc4d-4c66-ab66-3a343b90a469"
   },
   "outputs": [
    {
     "data": {
      "text/plain": [
       "488354"
      ]
     },
     "execution_count": 15,
     "metadata": {
      "tags": []
     },
     "output_type": "execute_result"
    }
   ],
   "source": [
    "topics = ['Россия', 'Мир', 'Экономика', 'Наука и техника', \n",
    "          'Интернет и СМИ', 'Бизнес', 'Путешествия']\n",
    "\n",
    "data = data[data.topic.isin(topics)]\n",
    "data.dropna(inplace=True)\n",
    "len(data)"
   ]
  },
  {
   "cell_type": "code",
   "execution_count": 16,
   "metadata": {
    "colab": {
     "base_uri": "https://localhost:8080/"
    },
    "executionInfo": {
     "elapsed": 957,
     "status": "ok",
     "timestamp": 1617792033144,
     "user": {
      "displayName": "Alexey Tankov",
      "photoUrl": "",
      "userId": "01729535101672247421"
     },
     "user_tz": -180
    },
    "id": "HvdT-E_E3QLF",
    "outputId": "78ac99e4-e741-468c-806b-828f90586fa9"
   },
   "outputs": [
    {
     "data": {
      "text/plain": [
       "title    0\n",
       "topic    0\n",
       "text     0\n",
       "tags     0\n",
       "dtype: int64"
      ]
     },
     "execution_count": 16,
     "metadata": {
      "tags": []
     },
     "output_type": "execute_result"
    }
   ],
   "source": [
    "data.isnull().sum()"
   ]
  },
  {
   "cell_type": "markdown",
   "metadata": {
    "id": "4VdDGDKm3qG9"
   },
   "source": [
    "### Предобработка| \n",
    "Все модели, с которыми мы будем работать далее, работают с предобработанными текстами, поэтому сперва проведем стандартную предобработку текста:"
   ]
  },
  {
   "cell_type": "code",
   "execution_count": 98,
   "metadata": {
    "executionInfo": {
     "elapsed": 1262,
     "status": "ok",
     "timestamp": 1617795142217,
     "user": {
      "displayName": "Alexey Tankov",
      "photoUrl": "",
      "userId": "01729535101672247421"
     },
     "user_tz": -180
    },
    "id": "SYDUOS7o4CBg"
   },
   "outputs": [],
   "source": [
    "# !pip install pymorphy2"
   ]
  },
  {
   "cell_type": "code",
   "execution_count": 20,
   "metadata": {
    "executionInfo": {
     "elapsed": 706,
     "status": "ok",
     "timestamp": 1617792049524,
     "user": {
      "displayName": "Alexey Tankov",
      "photoUrl": "",
      "userId": "01729535101672247421"
     },
     "user_tz": -180
    },
    "id": "_qUtXIWD3-bD"
   },
   "outputs": [],
   "source": [
    "import pymorphy2\n",
    "from nltk.corpus import stopwords\n",
    "from tqdm.notebook import tqdm"
   ]
  },
  {
   "cell_type": "code",
   "execution_count": 21,
   "metadata": {
    "colab": {
     "base_uri": "https://localhost:8080/"
    },
    "executionInfo": {
     "elapsed": 812,
     "status": "ok",
     "timestamp": 1617792053338,
     "user": {
      "displayName": "Alexey Tankov",
      "photoUrl": "",
      "userId": "01729535101672247421"
     },
     "user_tz": -180
    },
    "id": "9nf6DoM_3WfC",
    "outputId": "432e25f1-863d-47f5-9e24-e4a29f49f3fd"
   },
   "outputs": [
    {
     "name": "stdout",
     "output_type": "stream",
     "text": [
      "[nltk_data] Downloading package stopwords to /root/nltk_data...\n",
      "[nltk_data]   Unzipping corpora/stopwords.zip.\n"
     ]
    },
    {
     "data": {
      "text/plain": [
       "True"
      ]
     },
     "execution_count": 21,
     "metadata": {
      "tags": []
     },
     "output_type": "execute_result"
    }
   ],
   "source": [
    "nltk.download('stopwords')"
   ]
  },
  {
   "cell_type": "code",
   "execution_count": 22,
   "metadata": {
    "executionInfo": {
     "elapsed": 742,
     "status": "ok",
     "timestamp": 1617792054804,
     "user": {
      "displayName": "Alexey Tankov",
      "photoUrl": "",
      "userId": "01729535101672247421"
     },
     "user_tz": -180
    },
    "id": "te2Q2cH034iY"
   },
   "outputs": [],
   "source": [
    "morph = pymorphy2.MorphAnalyzer()"
   ]
  },
  {
   "cell_type": "code",
   "execution_count": 23,
   "metadata": {
    "executionInfo": {
     "elapsed": 805,
     "status": "ok",
     "timestamp": 1617792057234,
     "user": {
      "displayName": "Alexey Tankov",
      "photoUrl": "",
      "userId": "01729535101672247421"
     },
     "user_tz": -180
    },
    "id": "N2-rK9kh37vN"
   },
   "outputs": [],
   "source": [
    "words_regex = re.compile('\\w+')\n",
    "\n",
    "def find_words(text, regex = words_regex):\n",
    "    tokens =  regex.findall(text.lower())\n",
    "    return [w for w in tokens if w.isalpha() and len(w) >= 3]\n",
    "\n",
    "\n",
    "stopwords_list = stopwords.words('russian')\n",
    "\n",
    "# mystem = Mystem()\n",
    "# def lemmatize(words, lemmer = mystem, stopwords = stopwords_list):\n",
    "#     lemmas = lemmer.lemmatize(' '.join(words))\n",
    "#     return [w for w in lemmas if not w in stopwords \n",
    "#             and w.isalpha()]\n",
    "\n",
    "def lemmatize(words, lemmer = morph, stopwords = stopwords_list):\n",
    "    lemmas = [lemmer.parse(w)[0].normal_form for w in words]\n",
    "    return [w for w in lemmas if not w in stopwords \n",
    "            and w.isalpha()]\n",
    "\n",
    "def preprocess(text):\n",
    "    return (lemmatize(find_words(text)))"
   ]
  },
  {
   "cell_type": "code",
   "execution_count": 24,
   "metadata": {
    "colab": {
     "base_uri": "https://localhost:8080/",
     "height": 103
    },
    "executionInfo": {
     "elapsed": 613,
     "status": "ok",
     "timestamp": 1617792058735,
     "user": {
      "displayName": "Alexey Tankov",
      "photoUrl": "",
      "userId": "01729535101672247421"
     },
     "user_tz": -180
    },
    "id": "mKzcdHKz4KG2",
    "outputId": "d6b7b1f9-f027-4f6d-b4f9-909b0f2cd754"
   },
   "outputs": [
    {
     "data": {
      "application/vnd.google.colaboratory.intrinsic+json": {
       "type": "string"
      },
      "text/plain": [
       "'С начала расследования российского вмешательства в выборы власти США потратили более 25 миллионов долларов. Об этом сообщает Associated Press со ссылкой на отчет Министерства юстиции США. В документе содержатся данные о расходах на следствие с апреля по сентябрь 2018 года. За эти полгода было потрачено 4,6 миллиона долларов, из которых почти 3\\xa0миллиона долларов ушли на зарплату сотрудников, 580 тысяч — на поездки и сопутствующие расходы. Ранее Минюст США уже публиковал отчеты о затратах на дело о российском вмешательстве за предыдущие месяцы. 11 декабря расследование спецпрокурора Робера Мюллера показало, что по меньшей мере 14 человек из окружения президента США Дональда Трампа контактировали с россиянами во время его избирательной кампании и последующего переходного периода перед вступлением в должность главы государства. Мюллер с 2017 года ведет дело о якобы российском вмешательстве в американские выборы в 2016-м. Перед ним поставлена задача выяснить, был ли сговор между штабом Трампа и Россией. Кремль и Белый дом отвергают все обвинения. Россию неоднократно обвиняли во вмешательстве в выборы президента США с помощью хакеров. В июне спецслужбы выдвинули заочное обвинение 12 российским разведчикам. По данным спецслужб США, российская разведка использовала две хакерские группировки для взлома серверов Демократической партии.'"
      ]
     },
     "execution_count": 24,
     "metadata": {
      "tags": []
     },
     "output_type": "execute_result"
    }
   ],
   "source": [
    "data.text.iloc[1]"
   ]
  },
  {
   "cell_type": "code",
   "execution_count": 25,
   "metadata": {
    "colab": {
     "base_uri": "https://localhost:8080/"
    },
    "executionInfo": {
     "elapsed": 831,
     "status": "ok",
     "timestamp": 1617792063072,
     "user": {
      "displayName": "Alexey Tankov",
      "photoUrl": "",
      "userId": "01729535101672247421"
     },
     "user_tz": -180
    },
    "id": "KOETBu7N4UMe",
    "outputId": "77551b98-6543-49db-a56c-2eaf56477030"
   },
   "outputs": [
    {
     "name": "stdout",
     "output_type": "stream",
     "text": [
      "['начало', 'расследование', 'российский', 'вмешательство', 'выборы', 'власть', 'сша', 'потратить', 'миллион', 'доллар', 'это', 'сообщать', 'associated', 'press', 'ссылка', 'отчёт', 'министерство', 'юстиция', 'сша', 'документ', 'содержаться', 'дать', 'расход', 'следствие', 'апрель', 'сентябрь', 'год', 'полгода', 'потратить', 'миллион', 'доллар', 'который', 'миллион', 'доллар', 'уйти', 'зарплата', 'сотрудник', 'тысяча', 'поездка', 'сопутствовать', 'расход', 'ранее', 'минюст', 'сша', 'публиковать', 'отчёт', 'затрата', 'дело', 'российский', 'вмешательство', 'предыдущий', 'месяц', 'декабрь', 'расследование', 'спецпрокурор', 'робер', 'мюллер', 'показать', 'малый', 'мера', 'человек', 'окружение', 'президент', 'сша', 'дональд', 'трамп', 'контактировать', 'россиянин', 'время', 'избирательный', 'кампания', 'последующий', 'переходный', 'период', 'вступление', 'должность', 'глава', 'государство', 'мюллер', 'год', 'вести', 'дело', 'якобы', 'российский', 'вмешательство', 'американский', 'выборы', 'поставить', 'задача', 'выяснить', 'сговор', 'штаб', 'трамп', 'россия', 'кремль', 'белый', 'дом', 'отвергать', 'всё', 'обвинение', 'россия', 'неоднократно', 'обвинять', 'вмешательство', 'выборы', 'президент', 'сша', 'помощь', 'хакер', 'июнь', 'спецслужба', 'выдвинуть', 'заочный', 'обвинение', 'российский', 'разведчик', 'данные', 'спецслужба', 'сша', 'российский', 'разведка', 'использовать', 'хакерский', 'группировка', 'взлом', 'сервер', 'демократический', 'партия']\n"
     ]
    }
   ],
   "source": [
    "print(preprocess(data.text.iloc[1]))"
   ]
  },
  {
   "cell_type": "markdown",
   "metadata": {
    "id": "PTnJ1R2n46Cw"
   },
   "source": [
    "Ниже мы оставим только случайные 10,000 текстов из нашей коллекции, чтобы ускорить вычисления:"
   ]
  },
  {
   "cell_type": "code",
   "execution_count": 26,
   "metadata": {
    "colab": {
     "base_uri": "https://localhost:8080/"
    },
    "executionInfo": {
     "elapsed": 1198,
     "status": "ok",
     "timestamp": 1617792073736,
     "user": {
      "displayName": "Alexey Tankov",
      "photoUrl": "",
      "userId": "01729535101672247421"
     },
     "user_tz": -180
    },
    "id": "bidhJpfB447I",
    "outputId": "5b1d1e24-574c-4655-f875-df6ef781ed50"
   },
   "outputs": [
    {
     "data": {
      "text/plain": [
       "Россия             3259\n",
       "Мир                2827\n",
       "Экономика          1680\n",
       "Наука и техника    1075\n",
       "Интернет и СМИ      914\n",
       "Бизнес              136\n",
       "Путешествия         109\n",
       "Name: topic, dtype: int64"
      ]
     },
     "execution_count": 26,
     "metadata": {
      "tags": []
     },
     "output_type": "execute_result"
    }
   ],
   "source": [
    "data = data.sample(10000)\n",
    "data.topic.value_counts()"
   ]
  },
  {
   "cell_type": "code",
   "execution_count": 27,
   "metadata": {
    "colab": {
     "base_uri": "https://localhost:8080/",
     "height": 66,
     "referenced_widgets": [
      "2b5e4f5cc75b4915ab8e6dbeacee78e5",
      "1a602c9cfbc8423a8abec2a6ce0b72f0",
      "1b4803be4ada403cbf7fd7f1dabd7a49",
      "ad2a3834344f49c7933a5ebe07f86f63",
      "2109bf60a917446fac647fbd56489a07",
      "18a9add840d44b4abfa4d5edf2a6ca4d",
      "1994c7551a854981a53e0cf6074a4215",
      "2f59964566df486e988fa5672121ee20"
     ]
    },
    "executionInfo": {
     "elapsed": 409238,
     "status": "ok",
     "timestamp": 1617792484195,
     "user": {
      "displayName": "Alexey Tankov",
      "photoUrl": "",
      "userId": "01729535101672247421"
     },
     "user_tz": -180
    },
    "id": "tmaP_QLQ4akN",
    "outputId": "753b3e28-6b29-4ca3-e2ec-be65d54243b2"
   },
   "outputs": [
    {
     "data": {
      "application/vnd.jupyter.widget-view+json": {
       "model_id": "2b5e4f5cc75b4915ab8e6dbeacee78e5",
       "version_major": 2,
       "version_minor": 0
      },
      "text/plain": [
       "HBox(children=(FloatProgress(value=0.0, max=10000.0), HTML(value='')))"
      ]
     },
     "metadata": {
      "tags": []
     },
     "output_type": "display_data"
    },
    {
     "name": "stdout",
     "output_type": "stream",
     "text": [
      "\n"
     ]
    }
   ],
   "source": [
    "preprocessed_text = list(tqdm(map(preprocess, data['text']), total=len(data)))"
   ]
  },
  {
   "cell_type": "code",
   "execution_count": 28,
   "metadata": {
    "colab": {
     "base_uri": "https://localhost:8080/",
     "height": 193
    },
    "executionInfo": {
     "elapsed": 816,
     "status": "ok",
     "timestamp": 1617792496731,
     "user": {
      "displayName": "Alexey Tankov",
      "photoUrl": "",
      "userId": "01729535101672247421"
     },
     "user_tz": -180
    },
    "id": "bL3fA94N4qUX",
    "outputId": "77dcda3a-55cf-4c4d-85da-7aa42cede3ff"
   },
   "outputs": [
    {
     "data": {
      "text/html": [
       "<div>\n",
       "<style scoped>\n",
       "    .dataframe tbody tr th:only-of-type {\n",
       "        vertical-align: middle;\n",
       "    }\n",
       "\n",
       "    .dataframe tbody tr th {\n",
       "        vertical-align: top;\n",
       "    }\n",
       "\n",
       "    .dataframe thead th {\n",
       "        text-align: right;\n",
       "    }\n",
       "</style>\n",
       "<table border=\"1\" class=\"dataframe\">\n",
       "  <thead>\n",
       "    <tr style=\"text-align: right;\">\n",
       "      <th></th>\n",
       "      <th>title</th>\n",
       "      <th>topic</th>\n",
       "      <th>text</th>\n",
       "      <th>tags</th>\n",
       "    </tr>\n",
       "  </thead>\n",
       "  <tbody>\n",
       "    <tr>\n",
       "      <th>292924</th>\n",
       "      <td>Албания получила первый транспортный вертолет Cougar</td>\n",
       "      <td>Наука и техника</td>\n",
       "      <td>[европейский, консорциум, eurocopter, передать, министерство, оборона, албания, первый, средний, военный, транспортный, вертолёт, cougar, сообщать, jane, общий, сложность, страна, должный, поставить, пять, вертолёт, ожидаться, последний, передать, албанский, военный, ведомство, конец, год, церем...</td>\n",
       "      <td>Все</td>\n",
       "    </tr>\n",
       "    <tr>\n",
       "      <th>13809</th>\n",
       "      <td>Гроб Маккейна понесет россиянин</td>\n",
       "      <td>Мир</td>\n",
       "      <td>[публицист, федеральный, координатор, движение, открытый, россия, владимир, кара, мурза, младший, понести, гроб, тело, американский, сенатор, джон, маккейн, траурный, церемония, это, сообщать, politico, данные, газета, политик, попросить, это, россиянин, ещё, апрель, отмечаться, пожелание, макке...</td>\n",
       "      <td>Политика</td>\n",
       "    </tr>\n",
       "    <tr>\n",
       "      <th>140571</th>\n",
       "      <td>СМИ раскрыли детали подготовки операции НАТО в Ливии</td>\n",
       "      <td>Мир</td>\n",
       "      <td>[греция, рамка, подготовка, операция, нато, ливия, закрыть, месяц, свой, воздушный, пространство, самолёт, страна, это, четверг, май, сообщать, риа, новость, ссылка, источник, знакомый, ситуация, собеседник, агентство, заявить, весь, ливийский, борт, закрытый, район, полётный, информация, flight...</td>\n",
       "      <td>Политика</td>\n",
       "    </tr>\n",
       "  </tbody>\n",
       "</table>\n",
       "</div>"
      ],
      "text/plain": [
       "                                                       title            topic  \\\n",
       "292924  Албания получила первый транспортный вертолет Cougar  Наука и техника   \n",
       "13809                        Гроб Маккейна понесет россиянин              Мир   \n",
       "140571  СМИ раскрыли детали подготовки операции НАТО в Ливии              Мир   \n",
       "\n",
       "                                                                                                                                                                                                                                                                                                               text  \\\n",
       "292924  [европейский, консорциум, eurocopter, передать, министерство, оборона, албания, первый, средний, военный, транспортный, вертолёт, cougar, сообщать, jane, общий, сложность, страна, должный, поставить, пять, вертолёт, ожидаться, последний, передать, албанский, военный, ведомство, конец, год, церем...   \n",
       "13809   [публицист, федеральный, координатор, движение, открытый, россия, владимир, кара, мурза, младший, понести, гроб, тело, американский, сенатор, джон, маккейн, траурный, церемония, это, сообщать, politico, данные, газета, политик, попросить, это, россиянин, ещё, апрель, отмечаться, пожелание, макке...   \n",
       "140571  [греция, рамка, подготовка, операция, нато, ливия, закрыть, месяц, свой, воздушный, пространство, самолёт, страна, это, четверг, май, сообщать, риа, новость, ссылка, источник, знакомый, ситуация, собеседник, агентство, заявить, весь, ливийский, борт, закрытый, район, полётный, информация, flight...   \n",
       "\n",
       "            tags  \n",
       "292924       Все  \n",
       "13809   Политика  \n",
       "140571  Политика  "
      ]
     },
     "execution_count": 28,
     "metadata": {
      "tags": []
     },
     "output_type": "execute_result"
    }
   ],
   "source": [
    "data['text'] = preprocessed_text\n",
    "data.sample(3)"
   ]
  },
  {
   "cell_type": "markdown",
   "metadata": {
    "id": "5KHaEUwI5R8T"
   },
   "source": [
    "### Модель LDA  \n",
    "Первая модель, которую мы рассмотрим, LDA - латентное размещение Дирихле. Воспользуемся реализацией из библиотеки gensim."
   ]
  },
  {
   "cell_type": "code",
   "execution_count": 99,
   "metadata": {
    "executionInfo": {
     "elapsed": 696,
     "status": "ok",
     "timestamp": 1617795149803,
     "user": {
      "displayName": "Alexey Tankov",
      "photoUrl": "",
      "userId": "01729535101672247421"
     },
     "user_tz": -180
    },
    "id": "zESZmYir5YfP"
   },
   "outputs": [],
   "source": [
    "# !pip install -U gensim"
   ]
  },
  {
   "cell_type": "code",
   "execution_count": 31,
   "metadata": {
    "executionInfo": {
     "elapsed": 480,
     "status": "ok",
     "timestamp": 1617792515571,
     "user": {
      "displayName": "Alexey Tankov",
      "photoUrl": "",
      "userId": "01729535101672247421"
     },
     "user_tz": -180
    },
    "id": "S_M9bCF-5WjC"
   },
   "outputs": [],
   "source": [
    "from gensim.models import *\n",
    "from gensim import corpora"
   ]
  },
  {
   "cell_type": "markdown",
   "metadata": {
    "id": "GDYkDClh5hS7"
   },
   "source": [
    "Модель использует векторное представление документов, например, мешок слов (bow), поэтому сперва создадим словарь:"
   ]
  },
  {
   "cell_type": "code",
   "execution_count": 32,
   "metadata": {
    "executionInfo": {
     "elapsed": 4781,
     "status": "ok",
     "timestamp": 1617792521419,
     "user": {
      "displayName": "Alexey Tankov",
      "photoUrl": "",
      "userId": "01729535101672247421"
     },
     "user_tz": -180
    },
    "id": "D2LMASmJ5jTI"
   },
   "outputs": [],
   "source": [
    "dictionary = corpora.Dictionary(data['text'])\n",
    "\n",
    "dictionary.filter_extremes(no_below = 10, no_above = 0.9) # игнорируем слова, которые встречаются реже 10 раз или составляют более 0.9 словаря \n",
    "dictionary.save('lenta.dict')"
   ]
  },
  {
   "cell_type": "markdown",
   "metadata": {
    "id": "ae_RPrEJ5lL1"
   },
   "source": [
    "Векторизуем документы:"
   ]
  },
  {
   "cell_type": "code",
   "execution_count": 33,
   "metadata": {
    "executionInfo": {
     "elapsed": 4944,
     "status": "ok",
     "timestamp": 1617792528325,
     "user": {
      "displayName": "Alexey Tankov",
      "photoUrl": "",
      "userId": "01729535101672247421"
     },
     "user_tz": -180
    },
    "id": "hSC1SSLO5nM7"
   },
   "outputs": [],
   "source": [
    "corpus = [dictionary.doc2bow(text) for text in data['text']]\n",
    "corpora.MmCorpus.serialize('lenta.model', corpus) "
   ]
  },
  {
   "cell_type": "markdown",
   "metadata": {
    "id": "bkLk1A-d5p0z"
   },
   "source": [
    "Теперь можем обучать модель:"
   ]
  },
  {
   "cell_type": "code",
   "execution_count": 34,
   "metadata": {
    "colab": {
     "base_uri": "https://localhost:8080/"
    },
    "executionInfo": {
     "elapsed": 19760,
     "status": "ok",
     "timestamp": 1617792544195,
     "user": {
      "displayName": "Alexey Tankov",
      "photoUrl": "",
      "userId": "01729535101672247421"
     },
     "user_tz": -180
    },
    "id": "W-rDbRdq5sDE",
    "outputId": "ca4e0dda-878a-4d46-dcf8-d0ef1d9b9e63"
   },
   "outputs": [
    {
     "name": "stdout",
     "output_type": "stream",
     "text": [
      "CPU times: user 4 µs, sys: 0 ns, total: 4 µs\n",
      "Wall time: 12.4 µs\n"
     ]
    }
   ],
   "source": [
    "%time  \n",
    "lda = ldamodel.LdaModel(corpus, id2word=dictionary, num_topics=7, chunksize=50, update_every=1, passes=2)"
   ]
  },
  {
   "cell_type": "markdown",
   "metadata": {
    "id": "X0Xm1bG85umY"
   },
   "source": [
    "Посмотрим на получившиеся темы:"
   ]
  },
  {
   "cell_type": "code",
   "execution_count": 35,
   "metadata": {
    "colab": {
     "base_uri": "https://localhost:8080/"
    },
    "executionInfo": {
     "elapsed": 749,
     "status": "ok",
     "timestamp": 1617792569294,
     "user": {
      "displayName": "Alexey Tankov",
      "photoUrl": "",
      "userId": "01729535101672247421"
     },
     "user_tz": -180
    },
    "id": "khv7KqW45wpx",
    "outputId": "bbd574d5-246c-4605-bc03-95c0087ed969"
   },
   "outputs": [
    {
     "data": {
      "text/plain": [
       "[(0,\n",
       "  '0.019*\"год\" + 0.015*\"дело\" + 0.012*\"который\" + 0.012*\"суд\" + 0.011*\"сотрудник\" + 0.008*\"человек\" + 0.008*\"задержать\" + 0.008*\"полиция\" + 0.007*\"это\" + 0.007*\"сообщать\"'),\n",
       " (1,\n",
       "  '0.029*\"год\" + 0.015*\"новый\" + 0.013*\"проект\" + 0.013*\"который\" + 0.011*\"первый\" + 0.010*\"система\" + 0.010*\"игра\" + 0.009*\"программа\" + 0.009*\"стать\" + 0.008*\"также\"'),\n",
       " (2,\n",
       "  '0.019*\"сша\" + 0.015*\"страна\" + 0.013*\"президент\" + 0.010*\"военный\" + 0.009*\"заявить\" + 0.009*\"свой\" + 0.009*\"американский\" + 0.009*\"который\" + 0.008*\"это\" + 0.007*\"год\"'),\n",
       " (3,\n",
       "  '0.019*\"который\" + 0.011*\"это\" + 0.010*\"мочь\" + 0.007*\"пользователь\" + 0.006*\"свой\" + 0.006*\"учёный\" + 0.006*\"мир\" + 0.006*\"интернет\" + 0.005*\"сайт\" + 0.005*\"the\"'),\n",
       " (4,\n",
       "  '0.037*\"год\" + 0.030*\"процент\" + 0.023*\"компания\" + 0.020*\"доллар\" + 0.015*\"рубль\" + 0.015*\"миллиард\" + 0.014*\"миллион\" + 0.010*\"банк\" + 0.010*\"это\" + 0.008*\"россия\"'),\n",
       " (5,\n",
       "  '0.018*\"россия\" + 0.015*\"это\" + 0.010*\"который\" + 0.008*\"российский\" + 0.008*\"заявить\" + 0.007*\"решение\" + 0.007*\"слово\" + 0.007*\"год\" + 0.006*\"свой\" + 0.006*\"глава\"'),\n",
       " (6,\n",
       "  '0.017*\"человек\" + 0.013*\"сообщать\" + 0.011*\"произойти\" + 0.011*\"город\" + 0.011*\"самолёт\" + 0.010*\"погибнуть\" + 0.009*\"находиться\" + 0.009*\"около\" + 0.009*\"результат\" + 0.009*\"время\"')]"
      ]
     },
     "execution_count": 35,
     "metadata": {
      "tags": []
     },
     "output_type": "execute_result"
    }
   ],
   "source": [
    "lda.show_topics(num_topics=10, num_words=10, formatted=True)"
   ]
  },
  {
   "cell_type": "markdown",
   "metadata": {
    "id": "22KEP7R354-i"
   },
   "source": [
    "На полученные темы можно посмотреть, изобразив их на плоскости с помощью библиотеки pyLDAvis. Чтобы спроецировать темы на плоскость, внутри применяется PCA-разложение."
   ]
  },
  {
   "cell_type": "code",
   "execution_count": 40,
   "metadata": {
    "executionInfo": {
     "elapsed": 732,
     "status": "ok",
     "timestamp": 1617792652137,
     "user": {
      "displayName": "Alexey Tankov",
      "photoUrl": "",
      "userId": "01729535101672247421"
     },
     "user_tz": -180
    },
    "id": "_DTm0Rke56i2"
   },
   "outputs": [],
   "source": [
    "# !pip install pyLDAvis"
   ]
  },
  {
   "cell_type": "code",
   "execution_count": 37,
   "metadata": {
    "colab": {
     "base_uri": "https://localhost:8080/",
     "height": 963
    },
    "executionInfo": {
     "elapsed": 28400,
     "status": "ok",
     "timestamp": 1617792609334,
     "user": {
      "displayName": "Alexey Tankov",
      "photoUrl": "",
      "userId": "01729535101672247421"
     },
     "user_tz": -180
    },
    "id": "R1wSNPBg58hr",
    "outputId": "0304e55b-ce41-477c-f2d7-2aea9e9ed35c"
   },
   "outputs": [
    {
     "name": "stderr",
     "output_type": "stream",
     "text": [
      "/usr/local/lib/python3.7/dist-packages/past/types/oldstr.py:5: DeprecationWarning: Using or importing the ABCs from 'collections' instead of from 'collections.abc' is deprecated since Python 3.3,and in 3.9 it will stop working\n",
      "  from collections import Iterable\n",
      "/usr/local/lib/python3.7/dist-packages/past/builtins/misc.py:4: DeprecationWarning: Using or importing the ABCs from 'collections' instead of from 'collections.abc' is deprecated since Python 3.3,and in 3.9 it will stop working\n",
      "  from collections import Mapping\n"
     ]
    },
    {
     "name": "stdout",
     "output_type": "stream",
     "text": [
      "CPU times: user 2 µs, sys: 0 ns, total: 2 µs\n",
      "Wall time: 5.96 µs\n"
     ]
    },
    {
     "data": {
      "text/html": [
       "\n",
       "<link rel=\"stylesheet\" type=\"text/css\" href=\"https://cdn.jsdelivr.net/gh/bmabey/pyLDAvis@3.3.1/pyLDAvis/js/ldavis.v1.0.0.css\">\n",
       "\n",
       "\n",
       "<div id=\"ldavis_el591403107913575202420593061\"></div>\n",
       "<script type=\"text/javascript\">\n",
       "\n",
       "var ldavis_el591403107913575202420593061_data = {\"mdsDat\": {\"x\": [-0.03197373290863568, -0.018631776875840816, 0.1903019379917126, -0.19851016986285858, -0.2322351211458264, 0.1182116270253143, 0.1728372357761348], \"y\": [0.15225133799432433, 0.18013612253845285, 0.04790228546203943, -0.0433891939023923, -0.08186683891330519, -0.2848878532910692, 0.02985414011195051], \"topics\": [1, 2, 3, 4, 5, 6, 7], \"cluster\": [1, 1, 1, 1, 1, 1, 1], \"Freq\": [23.72184066532484, 15.297849570478373, 14.016275345732065, 13.50417803635896, 12.182458456731009, 11.594722279827616, 9.682675645547127]}, \"tinfo\": {\"Term\": [\"\\u043f\\u0440\\u043e\\u0446\\u0435\\u043d\\u0442\", \"\\u0433\\u043e\\u0434\", \"\\u043a\\u043e\\u043c\\u043f\\u0430\\u043d\\u0438\\u044f\", \"\\u0434\\u043e\\u043b\\u043b\\u0430\\u0440\", \"\\u0441\\u0448\\u0430\", \"\\u043c\\u0438\\u043b\\u043b\\u0438\\u0430\\u0440\\u0434\", \"\\u0440\\u043e\\u0441\\u0441\\u0438\\u044f\", \"\\u0440\\u0443\\u0431\\u043b\\u044c\", \"\\u0434\\u0435\\u043b\\u043e\", \"\\u0441\\u0442\\u0440\\u0430\\u043d\\u0430\", \"\\u043f\\u0440\\u0435\\u0437\\u0438\\u0434\\u0435\\u043d\\u0442\", \"\\u0447\\u0435\\u043b\\u043e\\u0432\\u0435\\u043a\", \"\\u043c\\u0438\\u043b\\u043b\\u0438\\u043e\\u043d\", \"\\u0441\\u0443\\u0434\", \"\\u043d\\u043e\\u0432\\u044b\\u0439\", \"\\u043f\\u0440\\u043e\\u0435\\u043a\\u0442\", \"\\u0431\\u0430\\u043d\\u043a\", \"\\u0441\\u0430\\u043c\\u043e\\u043b\\u0451\\u0442\", \"\\u043f\\u0440\\u043e\\u0438\\u0437\\u043e\\u0439\\u0442\\u0438\", \"\\u0433\\u043e\\u0440\\u043e\\u0434\", \"\\u043f\\u043e\\u0433\\u0438\\u0431\\u043d\\u0443\\u0442\\u044c\", \"\\u043c\\u043e\\u0441\\u043a\\u0432\\u0430\", \"\\u0432\\u043e\\u0435\\u043d\\u043d\\u044b\\u0439\", \"\\u0440\\u043e\\u0441\\u0441\\u0438\\u0439\\u0441\\u043a\\u0438\\u0439\", \"\\u0437\\u0430\\u0434\\u0435\\u0440\\u0436\\u0430\\u0442\\u044c\", \"\\u0441\\u043e\\u0442\\u0440\\u0443\\u0434\\u043d\\u0438\\u043a\", \"\\u0438\\u0433\\u0440\\u0430\", \"\\u0441\\u0438\\u0441\\u0442\\u0435\\u043c\\u0430\", \"\\u0440\\u0430\\u0439\\u043e\\u043d\", \"\\u043f\\u043e\\u043b\\u0438\\u0446\\u0438\\u044f\", \"\\u0437\\u0430\\u043a\\u043e\\u043d\", \"\\u043a\\u0438\\u0442\\u0430\\u0439\", \"\\u0434\\u043c\\u0438\\u0442\\u0440\\u0438\\u0439\", \"\\u043f\\u043e\\u043b\\u0438\\u0442\\u0438\\u0447\\u0435\\u0441\\u043a\\u0438\\u0439\", \"\\u0433\\u043e\\u0441\\u0434\\u0443\\u043c\\u0430\", \"\\u043c\\u0435\\u0434\\u0432\\u0435\\u0434\\u0435\\u0432\", \"\\u0432\\u043b\\u0430\\u0434\\u0435\\u043b\\u0435\\u0446\", \"\\u043f\\u0438\\u0441\\u044c\\u043c\\u043e\", \"\\u043c\\u0438\\u0445\\u0430\\u0438\\u043b\", \"\\u0437\\u0430\\u043a\\u043e\\u043d\\u043e\\u043f\\u0440\\u043e\\u0435\\u043a\\u0442\", \"\\u044e\\u0440\\u0438\\u0439\", \"\\u043a\\u0438\\u0442\\u0430\\u0439\\u0441\\u043a\\u0438\\u0439\", \"\\u0437\\u0430\\u043d\\u044f\\u0442\\u044c\", \"\\u0440\\u0435\\u0433\\u0438\\u0441\\u0442\\u0440\\u0430\\u0446\\u0438\\u044f\", \"\\u043f\\u0440\\u0435\\u0434\\u044a\\u044f\\u0432\\u0438\\u0442\\u044c\", \"\\u0448\\u043a\\u043e\\u043b\\u0430\", \"\\u043f\\u043e\\u0437\\u0432\\u043e\\u043b\\u044f\\u0442\\u044c\", \"\\u0441\\u0430\\u043d\\u043a\\u0446\\u0438\\u044f\", \"\\u043f\\u0443\\u0431\\u043b\\u0438\\u043a\\u0430\\u0446\\u0438\\u044f\", \"\\u043a\\u0440\\u044b\\u043c\", \"\\u043e\\u0431\\u0440\\u0430\\u0437\\u043e\\u0432\\u0430\\u043d\\u0438\\u0435\", \"\\u0437\\u0430\\u043a\\u043e\\u043d\\u043e\\u0434\\u0430\\u0442\\u0435\\u043b\\u044c\\u0441\\u0442\\u0432\\u043e\", \"\\u0432\\u0432\\u0435\\u0434\\u0435\\u043d\\u0438\\u0435\", \"\\u043f\\u043e\\u043b\\u0443\\u0447\\u0435\\u043d\\u0438\\u0435\", \"\\u043c\\u0438\\u0442\\u0438\\u043d\\u0433\", \"\\u043f\\u043e\\u0432\\u044b\\u0448\\u0435\\u043d\\u0438\\u0435\", \"twitter\", \"\\u0438\\u0433\\u043e\\u0440\\u044c\", \"\\u0444\\u0435\\u0434\\u0435\\u0440\\u0430\\u0446\\u0438\\u044f\", \"\\u043e\\u0433\\u0440\\u0430\\u043d\\u0438\\u0447\\u0435\\u043d\\u0438\\u0435\", \"\\u0441\\u0435\\u0440\\u0433\\u0435\\u0439\", \"\\u043f\\u0440\\u0430\\u0432\\u043e\", \"\\u0432\\u043b\\u0430\\u0434\\u0438\\u043c\\u0438\\u0440\", \"\\u0434\\u0435\\u043f\\u0443\\u0442\\u0430\\u0442\", \"\\u0432\\u0435\\u0434\\u043e\\u043c\\u0441\\u0442\\u0432\\u043e\", \"\\u043c\\u044d\\u0440\", \"\\u0440\\u0435\\u0448\\u0435\\u043d\\u0438\\u0435\", \"\\u043f\\u0440\\u0435\\u0434\\u0441\\u0435\\u0434\\u0430\\u0442\\u0435\\u043b\\u044c\", \"\\u0434\\u043e\\u043a\\u0443\\u043c\\u0435\\u043d\\u0442\", \"\\u0447\\u0438\\u043d\\u043e\\u0432\\u043d\\u0438\\u043a\", \"\\u0440\\u043e\\u0441\\u0441\\u0438\\u044f\", \"\\u0443\\u043a\\u0440\\u0430\\u0438\\u043d\\u0430\", \"\\u0434\\u0435\\u044f\\u0442\\u0435\\u043b\\u044c\\u043d\\u043e\\u0441\\u0442\\u044c\", \"\\u0438\\u0441\\u043a\", \"\\u043f\\u043e\\u0434\\u0430\\u0442\\u044c\", \"\\u043a\\u043e\\u043c\\u0438\\u0441\\u0441\\u0438\\u044f\", \"\\u043f\\u0443\\u0442\\u0438\\u043d\", \"\\u043f\\u0440\\u0438\\u043d\\u044f\\u0442\\u044c\", \"\\u043f\\u0440\\u0435\\u0434\\u043b\\u043e\\u0436\\u0438\\u0442\\u044c\", \"\\u0432\\u043e\\u043f\\u0440\\u043e\\u0441\", \"\\u0441\\u043e\\u0432\\u0435\\u0442\", \"\\u0433\\u043b\\u0430\\u0432\\u0430\", \"\\u0440\\u043e\\u0441\\u0441\\u0438\\u0439\\u0441\\u043a\\u0438\\u0439\", \"\\u0430\\u043b\\u0435\\u043a\\u0441\\u0430\\u043d\\u0434\\u0440\", \"\\u043c\\u043e\\u0441\\u043a\\u0432\\u0430\", \"\\u0437\\u0430\\u044f\\u0432\\u0438\\u0442\\u044c\", \"\\u0441\\u043b\\u043e\\u0432\\u043e\", \"\\u044d\\u0442\\u043e\", \"\\u0441\\u043a\\u0430\\u0437\\u0430\\u0442\\u044c\", \"\\u0440\\u0443\\u043a\\u043e\\u0432\\u043e\\u0434\\u0438\\u0442\\u0435\\u043b\\u044c\", \"\\u0444\\u0435\\u0434\\u0435\\u0440\\u0430\\u043b\\u044c\\u043d\\u044b\\u0439\", \"\\u043e\\u0442\\u043c\\u0435\\u0442\\u0438\\u0442\\u044c\", \"\\u043c\\u043d\\u0435\\u043d\\u0438\\u0435\", \"\\u043a\\u043e\\u0442\\u043e\\u0440\\u044b\\u0439\", \"\\u0441\\u0432\\u043e\\u0439\", \"\\u043e\\u0440\\u0433\\u0430\\u043d\\u0438\\u0437\\u0430\\u0446\\u0438\\u044f\", \"\\u0434\\u043e\\u043b\\u0436\\u043d\\u044b\\u0439\", \"\\u043d\\u043e\\u0432\\u043e\\u0441\\u0442\\u044c\", \"\\u0442\\u0430\\u043a\\u0436\\u0435\", \"\\u0433\\u043e\\u0434\", \"\\u0440\\u0438\\u0430\", \"\\u0441\\u043b\\u0443\\u0436\\u0431\\u0430\", \"\\u0441\\u043e\\u043e\\u0431\\u0449\\u0438\\u0442\\u044c\", \"\\u043c\\u043e\\u0447\\u044c\", \"\\u043f\\u0440\\u0435\\u0437\\u0438\\u0434\\u0435\\u043d\\u0442\", \"\\u0432\\u044b\\u0431\\u043e\\u0440\\u044b\", \"\\u0438\\u0440\\u0430\\u043a\", \"\\u0438\\u0437\\u0440\\u0430\\u0438\\u043b\\u044c\", \"\\u0438\\u0440\\u0430\\u043d\", \"\\u0438\\u0437\\u0440\\u0430\\u0438\\u043b\\u044c\\u0441\\u043a\\u0438\\u0439\", \"\\u0430\\u043b\\u044c\", \"\\u0432\\u043e\\u0439\\u043d\\u0430\", \"\\u0432\\u0441\\u0442\\u0440\\u0435\\u0447\\u0430\", \"\\u043a\\u0430\\u043d\\u0434\\u0438\\u0434\\u0430\\u0442\", \"\\u043e\\u043e\\u043d\", \"\\u043e\\u0431\\u0430\\u043c\\u0430\", \"\\u043e\\u0442\\u0441\\u0442\\u0430\\u0432\\u043a\\u0430\", \"\\u043f\\u0430\\u043b\\u0435\\u0441\\u0442\\u0438\\u043d\\u0441\\u043a\\u0438\\u0439\", \"\\u0438\\u0440\\u0430\\u043a\\u0441\\u043a\\u0438\\u0439\", \"\\u0441\\u0438\\u0440\\u0438\\u044f\", \"\\u043b\\u044e\\u0431\\u043e\\u0439\", \"\\u0442\\u0440\\u0430\\u043c\\u043f\", \"\\u043d\\u0430\\u0442\\u043e\", \"\\u0433\\u043e\\u043b\\u043e\\u0441\\u043e\\u0432\\u0430\\u043d\\u0438\\u0435\", \"\\u043f\\u0440\\u0435\\u0437\\u0438\\u0434\\u0435\\u043d\\u0442\\u0441\\u043a\\u0438\\u0439\", \"\\u0432\\u0430\\u0448\\u0438\\u043d\\u0433\\u0442\\u043e\\u043d\", \"\\u0438\\u0441\\u043b\\u0430\\u043c\\u0441\\u043a\\u0438\\u0439\", \"\\u0430\\u0444\\u0433\\u0430\\u043d\\u0438\\u0441\\u0442\\u0430\\u043d\", \"\\u0433\\u0440\\u0443\\u0437\\u0438\\u044f\", \"\\u0441\\u0438\\u0440\\u0438\\u0439\\u0441\\u043a\\u0438\\u0439\", \"\\u0433\\u043e\\u043b\\u043e\\u0441\", \"\\u0431\\u0430\\u0440\\u0430\\u043a\", \"\\u043c\\u0438\\u0440\\u043d\\u044b\\u0439\", \"\\u0441\\u0430\\u043c\\u043c\\u0438\\u0442\", \"\\u0434\\u0436\\u043e\\u043d\", \"\\u0430\\u0440\\u043c\\u0438\\u044f\", \"\\u0440\\u0435\\u0430\\u043b\\u044c\\u043d\\u044b\\u0439\", \"\\u0430\\u043c\\u0435\\u0440\\u0438\\u043a\\u0430\\u043d\\u0435\\u0446\", \"\\u0444\\u0440\\u0430\\u043d\\u0446\\u0438\\u044f\", \"\\u043f\\u0430\\u0440\\u0442\\u0438\\u044f\", \"\\u0441\\u0448\\u0430\", \"\\u043f\\u043e\\u0441\\u0442\", \"\\u0432\\u043e\\u0439\\u0441\\u043a\\u043e\", \"\\u043b\\u0438\\u0434\\u0435\\u0440\", \"\\u0432\\u043e\\u0435\\u043d\\u043d\\u044b\\u0439\", \"\\u043f\\u0440\\u0435\\u0437\\u0438\\u0434\\u0435\\u043d\\u0442\", \"\\u0441\\u0442\\u0440\\u0430\\u043d\\u0430\", \"\\u0430\\u043c\\u0435\\u0440\\u0438\\u043a\\u0430\\u043d\\u0441\\u043a\\u0438\\u0439\", \"\\u0441\\u0438\\u043b\\u0430\", \"\\u043c\\u0438\\u043d\\u0438\\u0441\\u0442\\u0440\", \"\\u043f\\u0435\\u0440\\u0435\\u0433\\u043e\\u0432\\u043e\\u0440\\u044b\", \"\\u0433\\u043e\\u0441\\u0443\\u0434\\u0430\\u0440\\u0441\\u0442\\u0432\\u043e\", \"\\u0437\\u0430\\u044f\\u0432\\u0438\\u0442\\u044c\", \"\\u0432\\u043b\\u0430\\u0441\\u0442\\u044c\", \"\\u0441\\u0432\\u043e\\u0439\", \"\\u043f\\u0440\\u043e\\u0442\\u0438\\u0432\", \"\\u0442\\u0435\\u0440\\u0440\\u0438\\u0442\\u043e\\u0440\\u0438\\u044f\", \"\\u043f\\u0440\\u0435\\u0434\\u0441\\u0442\\u0430\\u0432\\u0438\\u0442\\u0435\\u043b\\u044c\", \"\\u043f\\u0440\\u0430\\u0432\\u0438\\u0442\\u0435\\u043b\\u044c\\u0441\\u0442\\u0432\\u043e\", \"\\u043a\\u043e\\u0442\\u043e\\u0440\\u044b\\u0439\", \"\\u044d\\u0442\\u043e\", \"\\u0441\\u043e\\u043e\\u0431\\u0449\\u0430\\u0442\\u044c\", \"\\u0433\\u043e\\u0434\", \"\\u0433\\u043b\\u0430\\u0432\\u0430\", \"\\u0442\\u0430\\u043a\\u0436\\u0435\", \"\\u0441\\u0442\\u0430\\u0442\\u044c\", \"\\u0432\\u0440\\u0435\\u043c\\u044f\", \"\\u0434\\u043e\\u043b\\u043b\\u0430\\u0440\", \"\\u043c\\u0438\\u043b\\u043b\\u0438\\u0430\\u0440\\u0434\", \"\\u0431\\u0430\\u043d\\u043a\", \"\\u0440\\u044b\\u043d\\u043e\\u043a\", \"\\u0446\\u0435\\u043d\\u0430\", \"\\u0440\\u043e\\u0441\\u0442\", \"\\u043e\\u0431\\u044a\\u0451\\u043c\", \"\\u043f\\u043e\\u0441\\u0442\\u0430\\u0432\\u043a\\u0430\", \"\\u043d\\u0435\\u0444\\u0442\\u044c\", \"\\u0433\\u0430\\u0437\\u043f\\u0440\\u043e\\u043c\", \"\\u0441\\u0434\\u0435\\u043b\\u043a\\u0430\", \"\\u0441\\u0442\\u043e\\u0438\\u043c\\u043e\\u0441\\u0442\\u044c\", \"\\u0435\\u0432\\u0440\\u043e\", \"\\u0432\\u044b\\u0440\\u0430\\u0441\\u0442\\u0438\", \"\\u0434\\u043e\\u043b\\u044f\", \"\\u0434\\u043e\\u0445\\u043e\\u0434\", \"\\u0434\\u043e\\u043b\\u0433\", \"\\u043f\\u043e\\u043a\\u0430\\u0437\\u0430\\u0442\\u0435\\u043b\\u044c\", \"\\u0441\\u0442\\u0430\\u0432\\u043a\\u0430\", \"\\u043f\\u0430\\u043a\\u0435\\u0442\", \"\\u0440\\u0430\\u0441\\u0445\\u043e\\u0434\", \"apple\", \"\\u0442\\u0440\\u0438\\u043b\\u043b\\u0438\\u043e\\u043d\", \"\\u0430\\u043a\\u0442\\u0438\\u0432\", \"\\u043f\\u0440\\u043e\\u0434\\u0430\\u0442\\u044c\", \"\\u043a\\u0440\\u0435\\u0434\\u0438\\u0442\", \"\\u043f\\u043e\\u043a\\u0443\\u043f\\u043a\\u0430\", \"\\u0432\\u0430\\u043b\\u044e\\u0442\\u0430\", \"\\u0430\\u043a\\u0446\\u0438\\u043e\\u043d\\u0435\\u0440\", \"\\u0431\\u0443\\u043c\\u0430\\u0433\\u0430\", \"\\u043f\\u0440\\u043e\\u0446\\u0435\\u043d\\u0442\", \"\\u0440\\u0443\\u0431\\u043b\\u044c\", \"\\u043c\\u0438\\u043b\\u043b\\u0438\\u043e\\u043d\", \"\\u043a\\u043e\\u043c\\u043f\\u0430\\u043d\\u0438\\u044f\", \"\\u0431\\u044e\\u0434\\u0436\\u0435\\u0442\", \"\\u0444\\u0438\\u043d\\u0430\\u043d\\u0441\\u043e\\u0432\\u044b\\u0439\", \"\\u0433\\u0430\\u0437\", \"\\u0441\\u043e\\u0441\\u0442\\u0430\\u0432\\u0438\\u0442\\u044c\", \"\\u043f\\u0440\\u043e\\u0434\\u0430\\u0436\\u0430\", \"\\u0441\\u0443\\u043c\\u043c\\u0430\", \"\\u0433\\u043e\\u0434\", \"\\u043a\\u0440\\u0443\\u043f\\u043d\\u044b\\u0439\", \"\\u0430\\u043a\\u0446\\u0438\\u044f\", \"\\u0444\\u043e\\u043d\\u0434\", \"\\u044d\\u0442\\u043e\", \"\\u0440\\u043e\\u0441\\u0441\\u0438\\u044f\", \"\\u0440\\u043e\\u0441\\u0441\\u0438\\u0439\\u0441\\u043a\\u0438\\u0439\", \"\\u0441\\u0442\\u0440\\u0430\\u043d\\u0430\", \"\\u0442\\u044b\\u0441\\u044f\\u0447\\u0430\", \"\\u043e\\u043a\\u043e\\u043b\\u043e\", \"\\u043a\\u043e\\u0442\\u043e\\u0440\\u044b\\u0439\", \"\\u0437\\u0430\\u0434\\u0435\\u0440\\u0436\\u0430\\u0442\\u044c\", \"\\u043b\\u0435\\u0442\\u043d\\u0438\\u0439\", \"\\u0443\\u0431\\u0438\\u0439\\u0441\\u0442\\u0432\\u043e\", \"\\u043c\\u0443\\u0436\\u0447\\u0438\\u043d\\u0430\", \"\\u0443\\u0433\\u043e\\u043b\\u043e\\u0432\\u043d\\u044b\\u0439\", \"\\u043f\\u0440\\u0435\\u0441\\u0442\\u0443\\u043f\\u043b\\u0435\\u043d\\u0438\\u0435\", \"\\u043c\\u0432\\u0434\", \"\\u043f\\u043e\\u043b\\u0438\\u0446\\u0435\\u0439\\u0441\\u043a\\u0438\\u0439\", \"\\u0436\\u0435\\u043d\\u0449\\u0438\\u043d\\u0430\", \"\\u0430\\u0434\\u0432\\u043e\\u043a\\u0430\\u0442\", \"\\u0441\\u043b\\u0435\\u0434\\u0441\\u0442\\u0432\\u0438\\u0435\", \"\\u043f\\u043e\\u0434\\u043e\\u0437\\u0440\\u0435\\u0432\\u0430\\u0442\\u044c\", \"\\u0430\\u0440\\u0435\\u0441\\u0442\", \"\\u0432\\u043e\\u0437\\u0431\\u0443\\u0434\\u0438\\u0442\\u044c\", \"\\u0430\\u0440\\u0435\\u0441\\u0442\\u043e\\u0432\\u0430\\u0442\\u044c\", \"\\u0443\\u0431\\u0438\\u0442\\u044c\", \"\\u043c\\u0438\\u043b\\u0438\\u0446\\u0438\\u044f\", \"\\u0441\\u043b\\u0435\\u0434\\u0441\\u0442\\u0432\\u0435\\u043d\\u043d\\u044b\\u0439\", \"\\u043d\\u0430\\u043f\\u0430\\u0434\\u0435\\u043d\\u0438\\u0435\", \"\\u0444\\u043e\\u0442\\u043e\\u0433\\u0440\\u0430\\u0444\\u0438\\u044f\", \"\\u0441\\u043c\\u0435\\u0440\\u0442\\u044c\", \"\\u0431\\u043e\\u043c\\u0431\\u0430\", \"\\u0442\\u0440\\u043e\\u0435\", \"\\u043f\\u0440\\u0435\\u0441\\u0442\\u0443\\u043f\\u043d\\u0438\\u043a\", \"\\u0442\\u044e\\u0440\\u044c\\u043c\\u0430\", \"\\u0441\\u043b\\u0435\\u0434\\u043e\\u0432\\u0430\\u0442\\u0435\\u043b\\u044c\", \"\\u0432\\u0440\\u0430\\u0447\", \"\\u0432\\u0438\\u043d\\u043e\\u0432\\u043d\\u044b\\u0439\", \"\\u0441\\u044b\\u043d\", \"\\u043f\\u0440\\u0438\\u0433\\u043e\\u0432\\u043e\\u0440\\u0438\\u0442\\u044c\", \"\\u043e\\u0431\\u0432\\u0438\\u043d\\u044f\\u0442\\u044c\", \"\\u0440\\u0435\\u0431\\u0451\\u043d\\u043e\\u043a\", \"\\u043f\\u043e\\u043b\\u0438\\u0446\\u0438\\u044f\", \"\\u043f\\u0440\\u043e\\u043a\\u0443\\u0440\\u0430\\u0442\\u0443\\u0440\\u0430\", \"\\u0434\\u0435\\u043b\\u043e\", \"\\u0441\\u043e\\u0442\\u0440\\u0443\\u0434\\u043d\\u0438\\u043a\", \"\\u0440\\u0430\\u0441\\u0441\\u043b\\u0435\\u0434\\u043e\\u0432\\u0430\\u043d\\u0438\\u0435\", \"\\u0441\\u0443\\u0434\", \"\\u0431\\u044b\\u0432\\u0448\\u0438\\u0439\", \"\\u0433\\u043e\\u0434\", \"\\u0447\\u0435\\u043b\\u043e\\u0432\\u0435\\u043a\", \"\\u043a\\u043e\\u0442\\u043e\\u0440\\u044b\\u0439\", \"\\u0441\\u043e\\u043e\\u0431\\u0449\\u0430\\u0442\\u044c\", \"\\u044d\\u0442\\u043e\", \"\\u0441\\u0432\\u043e\\u0439\", \"\\u043f\\u043e\\u043b\\u0443\\u0447\\u0438\\u0442\\u044c\", \"\\u0442\\u0430\\u043a\\u0436\\u0435\", \"\\u0438\\u043d\\u0444\\u043e\\u0440\\u043c\\u0430\\u0446\\u0438\\u044f\", \"\\u0441\\u0430\\u043c\\u043e\\u043b\\u0451\\u0442\", \"\\u0440\\u0430\\u0439\\u043e\\u043d\", \"\\u0432\\u0437\\u0440\\u044b\\u0432\", \"\\u043f\\u0440\\u043e\\u0438\\u0441\\u0448\\u0435\\u0441\\u0442\\u0432\\u0438\\u0435\", \"\\u0442\\u0443\\u0440\\u0446\\u0438\\u044f\", \"\\u0443\\u043b\\u0438\\u0446\\u0430\", \"\\u0432\\u0435\\u0440\\u0442\\u043e\\u043b\\u0451\\u0442\", \"\\u0430\\u0432\\u0430\\u0440\\u0438\\u044f\", \"\\u0431\\u043e\\u0440\\u0442\", \"\\u043f\\u043e\\u0436\\u0430\\u0440\", \"\\u043c\\u0447\\u0441\", \"\\u0432\\u0432\\u0441\", \"\\u0442\\u0443\\u0440\\u0435\\u0446\\u043a\\u0438\\u0439\", \"\\u0438\\u0441\\u0442\\u0440\\u0435\\u0431\\u0438\\u0442\\u0435\\u043b\\u044c\", \"\\u0441\\u0442\\u043e\\u043b\\u043a\\u043d\\u043e\\u0432\\u0435\\u043d\\u0438\\u0435\", \"\\u0432\\u0438\\u0434\\u0435\\u043e\", \"\\u0436\\u0438\\u0432\\u043e\\u0442\\u043d\\u043e\\u0435\", \"\\u043c\\u0438\\u043d\\u0443\\u0442\\u0430\", \"\\u043f\\u0438\\u043b\\u043e\\u0442\", \"\\u043b\\u0430\\u0439\\u043d\\u0435\\u0440\", \"\\u044d\\u043a\\u0438\\u043f\\u0430\\u0436\", \"\\u0432\\u043e\\u0437\\u0434\\u0443\\u0445\", \"\\u043a\\u0430\\u0442\\u0430\\u0441\\u0442\\u0440\\u043e\\u0444\\u0430\", \"\\u043c\\u043e\\u0441\\u0442\", \"\\u0444\\u0438\\u043b\\u044c\\u043c\", \"\\u0448\\u0430\\u0445\\u0442\\u0430\", \"\\u0440\\u0435\\u043a\\u0430\", \"\\u043f\\u043e\\u0436\\u0430\\u0440\\u043d\\u044b\\u0439\", \"\\u0441\\u043f\\u0430\\u0441\\u0430\\u0442\\u0435\\u043b\\u044c\", \"\\u0440\\u043e\\u043b\\u0438\\u043a\", \"\\u043f\\u043e\\u0441\\u0442\\u0440\\u0430\\u0434\\u0430\\u0442\\u044c\", \"\\u043f\\u043e\\u0433\\u0438\\u0431\\u043d\\u0443\\u0442\\u044c\", \"\\u0437\\u0434\\u0430\\u043d\\u0438\\u0435\", \"\\u043f\\u0430\\u0441\\u0441\\u0430\\u0436\\u0438\\u0440\", \"\\u043f\\u0440\\u043e\\u0438\\u0437\\u043e\\u0439\\u0442\\u0438\", \"\\u0434\\u043e\\u0440\\u043e\\u0433\\u0430\", \"\\u0443\\u0442\\u0440\\u043e\\u043c\", \"\\u0433\\u043e\\u0440\\u043e\\u0434\", \"\\u043c\\u0430\\u0448\\u0438\\u043d\\u0430\", \"\\u0438\\u043d\\u0446\\u0438\\u0434\\u0435\\u043d\\u0442\", \"\\u0447\\u0435\\u043b\\u043e\\u0432\\u0435\\u043a\", \"\\u0447\\u0430\\u0441\", \"\\u0440\\u0435\\u0437\\u0443\\u043b\\u044c\\u0442\\u0430\\u0442\", \"\\u043d\\u0430\\u0445\\u043e\\u0434\\u0438\\u0442\\u044c\\u0441\\u044f\", \"\\u043f\\u0440\\u0430\\u0432\\u043e\\u043e\\u0445\\u0440\\u0430\\u043d\\u0438\\u0442\\u0435\\u043b\\u044c\\u043d\\u044b\\u0439\", \"\\u043e\\u043a\\u043e\\u043b\\u043e\", \"\\u043c\\u0435\\u0441\\u0442\\u043e\", \"\\u043c\\u0435\\u0441\\u0442\\u043d\\u044b\\u0439\", \"\\u0441\\u043e\\u043e\\u0431\\u0449\\u0430\\u0442\\u044c\", \"\\u0436\\u0438\\u0442\\u0435\\u043b\\u044c\", \"\\u0434\\u0430\\u043d\\u043d\\u044b\\u0435\", \"\\u043c\\u043e\\u0441\\u043a\\u0432\\u0430\", \"\\u0432\\u0440\\u0435\\u043c\\u044f\", \"\\u0446\\u0435\\u043d\\u0442\\u0440\", \"\\u0434\\u043e\\u043c\", \"\\u0442\\u044b\\u0441\\u044f\\u0447\\u0430\", \"\\u0430\\u0433\\u0435\\u043d\\u0442\\u0441\\u0442\\u0432\\u043e\", \"\\u043a\\u043e\\u0442\\u043e\\u0440\\u044b\\u0439\", \"\\u043d\\u0435\\u0441\\u043a\\u043e\\u043b\\u044c\\u043a\\u043e\", \"\\u0441\\u043e\\u043e\\u0431\\u0449\\u0438\\u0442\\u044c\", \"\\u043d\\u043e\\u0432\\u043e\\u0441\\u0442\\u044c\", \"\\u044d\\u0442\\u043e\", \"\\u0441\\u043b\\u043e\\u0432\\u043e\", \"\\u043f\\u043e\\u043b\\u044c\\u0437\\u043e\\u0432\\u0430\\u0442\\u0435\\u043b\\u044c\", \"\\u0443\\u0447\\u0451\\u043d\\u044b\\u0439\", \"\\u0430\\u044d\\u0440\\u043e\\u043f\\u043e\\u0440\\u0442\", \"\\u0441\\u0435\\u0440\\u0432\\u0438\\u0441\", \"google\", \"\\u0430\\u0432\\u0438\\u0430\\u043a\\u043e\\u043c\\u043f\\u0430\\u043d\\u0438\\u044f\", \"\\u043e\\u0441\\u0442\\u0440\\u043e\\u0432\", \"\\u043c\\u043e\\u0440\\u0435\", \"\\u0440\\u0435\\u043a\\u043b\\u0430\\u043c\\u0430\", \"\\u0438\\u0441\\u0441\\u043b\\u0435\\u0434\\u043e\\u0432\\u0430\\u0442\\u0435\\u043b\\u044c\", \"\\u043a\\u0430\\u0440\\u0442\\u0430\", \"\\u043f\\u0440\\u0438\\u043b\\u043e\\u0436\\u0435\\u043d\\u0438\\u0435\", \"\\u0442\\u0435\\u043c\\u043f\\u0435\\u0440\\u0430\\u0442\\u0443\\u0440\\u0430\", \"\\u043a\\u043e\\u043c\\u043f\\u044c\\u044e\\u0442\\u0435\\u0440\", \"\\u0441\\u0443\\u0434\\u043d\\u043e\", \"\\u0441\\u043a\\u043e\\u0440\\u043e\\u0441\\u0442\\u044c\", \"\\u043a\\u0430\\u043c\\u0435\\u0440\\u0430\", \"\\u043a\\u0430\\u0437\\u0430\\u0445\\u0441\\u0442\\u0430\\u043d\", \"\\u044f\\u043f\\u043e\\u043d\\u0438\\u044f\", \"\\u0440\\u0435\\u0439\\u0441\", \"\\u0441\\u0442\\u0430\\u0440\\u044b\\u0439\", \"\\u0438\\u0437\\u043e\\u0431\\u0440\\u0430\\u0436\\u0435\\u043d\\u0438\\u0435\", \"\\u043c\\u043e\\u0434\\u0435\\u043b\\u044c\", \"\\u0441\\u043c\\u0430\\u0440\\u0442\\u0444\\u043e\\u043d\", \"\\u0437\\u0435\\u043c\\u043b\\u0435\\u0442\\u0440\\u044f\\u0441\\u0435\\u043d\\u0438\\u0435\", \"\\u043a\\u043e\\u043c\\u043f\\u044c\\u044e\\u0442\\u0435\\u0440\\u043d\\u044b\\u0439\", \"\\u0434\\u043e\\u0441\\u0442\\u0443\\u043f\\u043d\\u044b\\u0439\", \"\\u0445\\u0430\\u043a\\u0435\\u0440\", \"\\u0440\\u0430\\u0441\\u0447\\u0451\\u0442\", \"\\u0430\\u0432\\u0441\\u0442\\u0440\\u0430\\u043b\\u0438\\u044f\", \"\\u0438\\u0441\\u0441\\u043b\\u0435\\u0434\\u043e\\u0432\\u0430\\u043d\\u0438\\u0435\", \"microsoft\", \"\\u0443\\u043d\\u0438\\u0432\\u0435\\u0440\\u0441\\u0438\\u0442\\u0435\\u0442\", \"\\u0432\\u044b\\u0445\\u043e\\u0434\", \"\\u0438\\u043d\\u0442\\u0435\\u0440\\u043d\\u0435\\u0442\", \"\\u043c\\u0438\\u0440\", \"\\u0441\\u0435\\u0442\\u044c\", \"\\u0443\\u0441\\u0442\\u0440\\u043e\\u0439\\u0441\\u0442\\u0432\\u043e\", \"\\u0438\\u0441\\u043f\\u043e\\u043b\\u044c\\u0437\\u043e\\u0432\\u0430\\u0442\\u044c\", \"\\u0436\\u0443\\u0440\\u043d\\u0430\\u043b\", \"\\u0441\\u0430\\u043c\\u044b\\u0439\", \"the\", \"\\u043c\\u043e\\u0447\\u044c\", \"\\u043e\\u043f\\u0443\\u0431\\u043b\\u0438\\u043a\\u043e\\u0432\\u0430\\u0442\\u044c\", \"\\u043a\\u043e\\u0442\\u043e\\u0440\\u044b\\u0439\", \"\\u043e\\u0431\\u043d\\u0430\\u0440\\u0443\\u0436\\u0438\\u0442\\u044c\", \"\\u0441\\u0430\\u0439\\u0442\", \"\\u044d\\u0442\\u043e\", \"\\u0431\\u0440\\u0438\\u0442\\u0430\\u043d\\u0441\\u043a\\u0438\\u0439\", \"\\u0441\\u0432\\u043e\\u0439\", \"\\u0432\\u0435\\u0441\\u044c\", \"\\u044f\\u0432\\u043b\\u044f\\u0442\\u044c\\u0441\\u044f\", \"\\u0432\\u0440\\u0435\\u043c\\u044f\", \"\\u043e\\u0434\\u043d\\u0430\\u043a\\u043e\", \"\\u0442\\u044b\\u0441\\u044f\\u0447\\u0430\", \"\\u0440\\u0430\\u0431\\u043e\\u0442\\u0430\", \"\\u0442\\u0430\\u043a\\u0436\\u0435\", \"\\u0431\\u043e\\u043b\\u044c\\u0448\\u043e\\u0439\", \"\\u043f\\u043e\\u043c\\u043e\\u0449\\u044c\", \"\\u0433\\u043e\\u0434\", \"\\u043f\\u043e\\u043b\\u0443\\u0447\\u0438\\u0442\\u044c\", \"\\u043f\\u0440\\u043e\\u0435\\u043a\\u0442\", \"\\u0438\\u0433\\u0440\\u0430\", \"\\u0440\\u0430\\u043a\\u0435\\u0442\\u0430\", \"\\u0441\\u0442\\u0440\\u0430\\u043d\\u0438\\u0446\\u0430\", \"\\u0440\\u0430\\u0437\\u0440\\u0430\\u0431\\u043e\\u0442\\u043a\\u0430\", \"\\u043a\\u043e\\u0441\\u043c\\u0438\\u0447\\u0435\\u0441\\u043a\\u0438\\u0439\", \"\\u043a\\u043e\\u0440\\u0430\\u0431\\u043b\\u044c\", \"\\u043a\\u043e\\u043d\\u043a\\u0443\\u0440\\u0441\", \"\\u0432\\u043e\\u043e\\u0440\\u0443\\u0436\\u0435\\u043d\\u0438\\u0435\", \"xbox\", \"\\u043c\\u0438\\u0433\", \"\\u0437\\u0430\\u043f\\u0443\\u0441\\u043a\", \"\\u043a\\u0432\\u0430\\u0440\\u0442\\u0430\\u043b\", \"\\u0440\\u0430\\u0437\\u0440\\u0430\\u0431\\u043e\\u0442\\u0447\\u0438\\u043a\", \"\\u0441\\u0442\\u0443\\u0434\\u0438\\u044f\", \"\\u043c\\u043e\\u0440\\u0441\\u043a\\u043e\\u0439\", \"\\u043f\\u043e\\u0441\\u0442\\u0440\\u043e\\u0438\\u0442\\u044c\", \"\\u043f\\u043e\\u0440\\u0442\", \"\\u0440\\u0430\\u043a\\u0435\\u0442\\u043d\\u044b\\u0439\", \"\\u043f\\u0440\\u0435\\u043c\\u0438\\u044f\", \"\\u044d\\u043d\\u0435\\u0440\\u0433\\u0438\\u044f\", \"\\u0443\\u0447\\u0435\\u0431\\u043d\\u044b\\u0439\", \"\\u043e\\u0440\\u0431\\u0438\\u0442\\u0430\", \"\\u043a\\u043e\\u0440\\u0435\\u044f\", \"\\u0440\\u0430\\u0437\\u0434\\u0435\\u043b\", \"\\u043d\\u0430\\u0443\\u043a\\u0430\", \"\\u0448\\u043e\\u0443\", \"\\u0440\\u0435\\u043a\\u043e\\u0440\\u0434\", \"\\u0432\\u043c\\u0441\", \"\\u0443\\u0432\\u0438\\u0434\\u0435\\u0442\\u044c\", \"\\u0438\\u0441\\u043f\\u043e\\u043b\\u044c\\u0437\\u043e\\u0432\\u0430\\u043d\\u0438\\u0435\", \"\\u043f\\u0440\\u043e\\u0433\\u0440\\u0430\\u043c\\u043c\\u0430\", \"\\u044d\\u043b\\u0435\\u043a\\u0442\\u0440\\u043e\\u043d\\u043d\\u044b\\u0439\", \"\\u0441\\u0442\\u0440\\u043e\\u0438\\u0442\\u0435\\u043b\\u044c\\u0441\\u0442\\u0432\\u043e\", \"\\u0441\\u0438\\u0441\\u0442\\u0435\\u043c\\u0430\", \"\\u0431\\u0430\\u0437\\u0430\", \"\\u043a\\u0430\\u043d\\u0430\\u043b\", \"\\u043a\\u043e\\u043c\\u043f\\u043b\\u0435\\u043a\\u0441\", \"\\u0441\\u043e\\u0437\\u0434\\u0430\\u043d\\u0438\\u0435\", \"\\u043d\\u043e\\u0432\\u044b\\u0439\", \"\\u0437\\u0430\\u043f\\u0443\\u0441\\u0442\\u0438\\u0442\\u044c\", \"\\u0432\\u044b\\u0439\\u0442\\u0438\", \"\\u043f\\u0435\\u0440\\u0432\\u044b\\u0439\", \"\\u0441\\u043e\\u0437\\u0434\\u0430\\u0442\\u044c\", \"\\u0433\\u043e\\u0434\", \"\\u043f\\u043b\\u0430\\u043d\\u0438\\u0440\\u043e\\u0432\\u0430\\u0442\\u044c\\u0441\\u044f\", \"\\u0441\\u0442\\u0430\\u0442\\u044c\", \"\\u0440\\u0430\\u043c\\u043a\\u0430\", \"\\u043a\\u043e\\u0442\\u043e\\u0440\\u044b\\u0439\", \"\\u0434\\u043e\\u043b\\u0436\\u043d\\u044b\\u0439\", \"\\u0442\\u0430\\u043a\\u0436\\u0435\", \"\\u0440\\u0430\\u0431\\u043e\\u0442\\u0430\", \"\\u0447\\u0430\\u0441\\u0442\\u044c\", \"\\u043a\\u043e\\u043c\\u043f\\u0430\\u043d\\u0438\\u044f\", \"\\u044d\\u0442\\u043e\", \"\\u0440\\u043e\\u0441\\u0441\\u0438\\u0439\\u0441\\u043a\\u0438\\u0439\", \"\\u0432\\u0435\\u0440\\u0441\\u0438\\u044f\", \"\\u043f\\u043e\\u043b\\u0443\\u0447\\u0438\\u0442\\u044c\", \"\\u0441\\u0430\\u0439\\u0442\", \"\\u0432\\u0440\\u0435\\u043c\\u044f\", \"\\u0441\\u043e\\u043e\\u0431\\u0449\\u0430\\u0442\\u044c\\u0441\\u044f\"], \"Freq\": [5012.0, 16370.0, 4726.0, 3278.0, 4216.0, 2413.0, 6702.0, 2545.0, 3010.0, 4064.0, 3471.0, 4892.0, 2731.0, 2699.0, 3119.0, 1442.0, 1701.0, 1521.0, 1833.0, 2081.0, 1399.0, 2668.0, 2181.0, 3954.0, 1314.0, 2122.0, 1123.0, 1546.0, 1207.0, 1323.0, 1258.3384406219745, 747.8175785718325, 629.7601752278446, 587.3741649123061, 527.4105006942268, 533.4489103230245, 466.507935532566, 456.9759069347841, 447.9820717469073, 427.317300084714, 403.2311025580524, 405.28964759642207, 397.4230729084085, 394.1640001572516, 411.5075635243201, 385.5448986088206, 383.2739730443166, 378.3985624315043, 341.31295162222426, 338.3982119876918, 338.9370563723896, 329.48041065560795, 322.66350027216214, 293.226192302887, 291.9744979713897, 292.0208473766334, 288.3169310008517, 283.403308167705, 279.9114142819215, 388.1792959488558, 918.6314112647218, 982.7420778512674, 1187.6178410873376, 780.8580645677116, 782.4948104891197, 406.25559654264225, 2057.8372985750048, 696.7882504455728, 959.0677520759778, 508.9863842686747, 4908.060383737633, 1227.9096654946034, 721.1363351313573, 554.1078557608226, 528.6538299996373, 584.8482525214826, 928.35677937595, 1345.6947009853054, 710.5901529039522, 1074.0998802656245, 949.1735211035106, 1632.1952170219502, 2324.428401550222, 665.9651798862337, 1579.8017712174856, 2239.6717439242543, 2041.990098415288, 4131.081347764952, 928.8759968706464, 762.1058242978745, 857.5284435131133, 1175.4979923959418, 876.605975886887, 2798.7869628883795, 1805.9440346654264, 1022.5568679304068, 1175.592513935849, 1061.6279193088308, 1537.8858948972702, 1984.6549727641093, 961.1674712699888, 936.329072370306, 1035.7409302129884, 1051.6439189124435, 1041.592803014924, 1007.6129713401929, 840.6396939881446, 795.2664797269083, 661.5664170556702, 662.4663920444124, 633.8533753076869, 623.3564378095498, 610.2303542345888, 547.5143389926535, 532.385372372964, 523.2561970311946, 483.0781364599867, 457.6275843119322, 454.27331145180096, 432.9505623039358, 383.14048562152317, 375.9632291656834, 335.57014518313406, 324.0827650173323, 322.8022800324169, 315.8310841807492, 309.02762086325066, 448.37842909714175, 301.4410139029223, 284.228960757956, 283.8003412675624, 280.2292398405474, 273.5287333595024, 253.89027829332986, 254.5661831028384, 515.0863988896176, 256.81635146668197, 330.6675526320433, 385.4225380698872, 1122.5965936237615, 3390.6167703305873, 853.9509949178182, 508.1329817210235, 943.1845351743941, 1756.5379177886837, 2419.8719599435226, 2749.2038653957065, 1637.1838879961126, 859.5175068852238, 1235.7175472698407, 658.5011789841149, 822.5994732626943, 1673.6562581015003, 1148.8684075828412, 1666.03598289129, 751.0250560103352, 755.2033613853476, 1010.9672861806855, 887.432432191415, 1580.8259244367025, 1524.83671637226, 1124.1995717453274, 1330.4687343530957, 831.34087600576, 858.6370947449168, 757.5859987797432, 710.2149391171522, 3277.6912685989723, 2412.7511713203535, 1700.572264876203, 1129.683436174509, 1041.3623964624207, 935.2034631842829, 824.7596229516186, 802.3002671102034, 760.5774847540604, 693.255958523716, 678.0372730865638, 652.0008149779455, 616.5939643947954, 561.9847288162513, 514.3693435855328, 483.15970325616473, 473.72342286567874, 417.350445088612, 405.0474057069521, 388.62966020444725, 382.88941111568255, 373.7739160252877, 364.3747913422224, 352.3031481674388, 352.8099812488897, 348.9303253641187, 342.8609828667713, 326.59743739640857, 323.93041918021936, 318.28661723054086, 4894.3319444161325, 2429.301846558724, 2340.838799732974, 3808.0756836694254, 613.5268107497277, 745.2763336474362, 1253.2373946799378, 1174.6119945044404, 813.863769445718, 733.7329092407763, 6173.891426897551, 950.6881619470264, 963.5294975247025, 674.1580018364451, 1693.9420865922095, 1313.3380976540825, 1005.7041486704703, 1009.2127090426179, 932.1940047370732, 747.5062915081176, 763.4518595113516, 1313.5574387642048, 1172.0329633137626, 1014.8812808875872, 900.8793877835365, 896.1529149570345, 774.5865604266544, 717.0582761480674, 701.9419530724313, 700.9792559915727, 639.7683533546347, 634.5903638127126, 628.9096431675906, 604.9391973710312, 603.9946587923522, 575.3523268503326, 520.6294570421528, 502.3641902814063, 494.49774184638045, 440.9684785620815, 437.0088874582405, 414.2917859519159, 391.21925955905215, 366.6411709864962, 364.1554202707847, 360.48814399386697, 328.62427141618645, 319.03776812674334, 318.49405069005235, 309.70718854352896, 298.833599502148, 633.2034989442064, 827.003485748868, 1273.5638194698947, 659.7371470269983, 2454.167521696076, 1671.722406224119, 680.7922638277125, 1915.826187511641, 876.2450449123916, 3057.2887565335914, 1346.2428909200914, 1988.6512681426284, 1172.902866742667, 1176.2603367375004, 851.1157531532666, 691.2465211723325, 707.1626336235591, 644.9842163439597, 1520.4582718402478, 1206.7335650298337, 851.7380927120113, 636.4747420710892, 601.6001492227282, 572.2587384989254, 557.4272629549382, 482.37005362322935, 474.1524206604273, 451.8309067144434, 401.99011097050357, 374.28608888845406, 367.88727517214215, 366.90844586016743, 327.2788467093338, 324.7985930580682, 296.98525126393304, 293.2222795597573, 285.2292701888524, 259.992229609537, 255.49058093337663, 253.4168662297619, 239.81794536621263, 238.75207817337701, 234.62087956743736, 219.43493402123474, 219.1406734384279, 218.49401558189157, 215.75348406565868, 209.56155874024657, 1141.6650014278198, 1374.090209622013, 858.6721049820785, 476.1285666852279, 1576.784066688193, 400.4791253352933, 335.94218315884115, 1574.5000536210077, 641.2402123093059, 549.9629330723891, 2499.9632933014086, 678.3179818138967, 1327.4829706095916, 1355.975231276215, 611.917389279668, 1328.6721818628982, 1133.9924291946343, 755.6076868805816, 1826.4373928850007, 668.050888413877, 976.202563223034, 1016.7984215905077, 1221.3547254946982, 629.2411202414769, 669.2919847415436, 828.4209670395368, 678.8086835674118, 842.6989237844404, 671.3348926822571, 651.6673738382144, 639.684061251763, 694.5075291205926, 651.3688340740171, 947.1617717717559, 825.3619987385639, 592.9189454122723, 488.68179024701715, 453.22128572791115, 431.67060161516383, 409.0038927731884, 384.55520346192077, 378.79817040752596, 374.69263122471654, 362.78758259639005, 353.1011561297064, 267.4024842192855, 262.87828064910093, 275.4422850049346, 253.14293364011678, 247.88958330742352, 248.24998849938268, 243.56174599857698, 232.66081735328635, 235.48199741399569, 228.69273296250165, 227.92163385201042, 209.59504415909478, 209.29604816820222, 206.2902905036653, 203.03649375782553, 199.71571961911258, 199.14073222404824, 197.574320323267, 568.26572846139, 241.83947245457054, 377.01762175898403, 352.5724642722337, 762.2457491552867, 813.723332406263, 677.7866521957217, 447.2039794793585, 580.6323960995994, 402.44650373763875, 623.8661918353733, 706.4527217995133, 1349.808603141475, 565.7441330289929, 2632.6973407857345, 562.792545916174, 715.5963927471329, 1561.1070367197924, 397.9116410574245, 868.9624042228814, 661.9117055369935, 585.3698773250945, 659.3865464618401, 574.0365388132262, 566.0092425954628, 517.8327379933235, 591.0656602696173, 461.0424633941155, 465.5147077801852, 473.6823860679517, 454.37361506771805, 1441.9568576289535, 1122.83408624339, 743.9446079887216, 406.0518345051033, 388.13785019232563, 355.27342066620963, 348.2310694818135, 347.41546649202326, 338.16454371914773, 323.51528305994754, 298.8986603571856, 294.7580436605899, 293.26104881316223, 274.52054074731683, 272.5870873655906, 247.3159362885819, 237.29827496306302, 236.30876346803814, 215.09888748386183, 211.4205698137482, 207.42876512380897, 193.71300386963603, 191.4160166125289, 187.08229371856228, 176.21475255500985, 162.79369248212907, 158.46673195861047, 156.38297858301718, 154.7914832621186, 153.5726091670654, 392.68112685657997, 1021.6402211601794, 252.34860131791052, 490.36746065888923, 1184.1948525542114, 508.36365626505045, 331.6314295863669, 342.4490966071653, 530.4814170172722, 1709.0170822129069, 328.0354693512379, 501.9524507987351, 1216.1781810820721, 603.6791215881282, 3344.326292811336, 397.22461609043575, 970.2165522959049, 417.3945484416291, 1430.0534913684473, 685.597759772897, 956.0196663199163, 598.6253324546495, 534.4520577462611, 716.3459526311892, 868.1786264675021, 543.5435001756044, 418.47905197732837, 466.9951672609612, 431.77636997093066, 448.94609496642454, 404.5774251778359], \"Total\": [5012.0, 16370.0, 4726.0, 3278.0, 4216.0, 2413.0, 6702.0, 2545.0, 3010.0, 4064.0, 3471.0, 4892.0, 2731.0, 2699.0, 3119.0, 1442.0, 1701.0, 1521.0, 1833.0, 2081.0, 1399.0, 2668.0, 2181.0, 3954.0, 1314.0, 2122.0, 1123.0, 1546.0, 1207.0, 1323.0, 1259.190274215566, 748.6730413260342, 630.6140500971572, 588.2266934805808, 528.2685027963082, 534.3659901067515, 467.36395147054816, 457.83796507376667, 448.8368418727389, 428.1683704782385, 404.08283312204884, 406.1463652465945, 398.2820737923081, 395.0164088935998, 412.40809841500055, 386.40030411153367, 384.132678885046, 379.25098251609023, 342.1664144287724, 339.2503301032619, 339.791833595327, 330.33206489947173, 323.517659940394, 294.07898492867133, 292.82602171609824, 292.8776230998769, 289.17506656570674, 284.2558716201626, 280.7624404595483, 389.3634353798794, 921.5816149555371, 997.7034719217966, 1216.5867684969314, 796.5134132733754, 798.9759648809041, 409.4971870399933, 2267.406336503022, 731.8279853743843, 1042.2350246442331, 526.5987401263595, 6702.030728501699, 1425.0177371029092, 789.3342350252827, 586.4570918243516, 557.8305613969721, 637.4117908688442, 1127.9301916439754, 1803.2687332637377, 818.0367335263878, 1389.1672164898748, 1212.784048940271, 2469.504480297506, 3954.983131085871, 772.7800596178422, 2668.924554515766, 4466.718418232676, 3955.386664078729, 11649.913679774807, 1290.9730553687489, 953.5300378427669, 1149.4642240558615, 1973.9497628823333, 1234.846945121274, 12037.165770917683, 5836.806282560066, 1746.899771507783, 2392.225423311732, 1919.599725898335, 5500.691032113589, 16370.099615868687, 1718.2258609214093, 1673.4678622694655, 2652.9505014821116, 3402.599027225051, 3471.3660735075596, 1008.4651467585701, 841.49208633133, 796.1193097114412, 662.4193574296884, 663.3340708560938, 634.7061466862947, 624.2152859638064, 611.0847410443312, 548.3668501668562, 533.2380284922517, 524.1084500282489, 483.93177837103616, 458.47963751963755, 455.12584397991276, 433.80261743844613, 384.00196824285706, 376.8155294450742, 336.4226765113989, 324.93669845489603, 323.65514925256883, 316.68397176272816, 309.87986790052696, 449.6464916372712, 302.2944797570924, 285.0809036936832, 284.6531262368211, 281.082374460885, 274.3822205564199, 254.74270103080102, 255.42222282707124, 517.4393071132226, 257.6865717114103, 332.6907571178212, 392.8463664747604, 1215.4100186004518, 4216.332333598288, 944.976055692114, 539.0601369055281, 1072.24255777609, 2181.3378444365335, 3471.3660735075596, 4064.745924053547, 2281.2480529560557, 1105.898965919556, 2111.3533002999775, 848.5866112523031, 1225.136012654583, 4466.718418232676, 2442.6012425688364, 5836.806282560066, 1273.0695082684654, 1383.5728649830232, 2794.5371210631165, 2110.097357604778, 12037.165770917683, 11649.913679774807, 5779.2844318319085, 16370.099615868687, 2469.504480297506, 5500.691032113589, 3576.6755697270605, 4352.184354966131, 3278.545356693924, 2413.603794213988, 1701.4260225565622, 1130.5363732496269, 1042.214903540429, 936.0585169276746, 825.6140389648701, 803.1575103624787, 761.4307964471907, 694.1081110718344, 678.8939221952569, 652.8544886083592, 617.448449599941, 562.8381742193867, 515.2238649848804, 484.01261271079926, 474.5777938336597, 418.2038223335704, 405.90058759915667, 389.48697576883353, 383.7449947967444, 374.6293669555521, 365.2276937692973, 353.1557472043413, 353.66431839415037, 349.7822703655671, 343.71526433864335, 327.4493962684718, 324.7830533326838, 319.1412153824467, 5012.14217964836, 2545.3429357757404, 2731.8598418760353, 4726.389012978306, 648.3330566138009, 804.0028059727636, 1434.2897448918545, 1349.4825611295805, 895.1755506913903, 806.7503305574535, 16370.099615868687, 1334.3987755245519, 1621.7506787984955, 913.6901534319517, 11649.913679774807, 6702.030728501699, 3954.983131085871, 4064.745924053547, 3359.025770021005, 2428.52290454976, 12037.165770917683, 1314.4107797030274, 1172.8887519533675, 1015.7338775612182, 901.7324797187607, 897.0059975698949, 775.4393953789702, 717.911669741535, 702.7953170713213, 701.8330125070262, 640.6209968532764, 635.4434607705506, 629.7621343307992, 605.792237727063, 604.8477007623648, 576.2050568111707, 521.4826052392283, 503.217727817076, 495.35079506277026, 441.8224496185127, 437.8751099964217, 415.1452890730612, 392.0775176982175, 367.4956783570269, 365.00859896763126, 361.34127324992687, 329.47764814740106, 319.8913907918641, 319.34747943109915, 310.56299643649567, 299.6860960858753, 635.0927153981436, 842.9489311899941, 1323.3092162614598, 694.3997575980369, 3010.119012956215, 2122.2076754977275, 762.6706309869147, 2699.9345929406404, 1523.828799678597, 16370.099615868687, 4892.850715019472, 12037.165770917683, 5779.2844318319085, 11649.913679774807, 5836.806282560066, 2801.2789384137604, 5500.691032113589, 2000.1710685791745, 1521.3192666489513, 1207.5938359794823, 852.5999937633129, 637.3347740156969, 602.4634106371266, 573.1185361804759, 558.287105073955, 483.2297709433611, 475.0123143809194, 452.6896096835412, 402.8489341222437, 375.14768249167855, 368.74958521662575, 367.7703244270908, 328.1392230448421, 325.66238392229485, 297.84941316047167, 294.0856747263918, 286.08844923775365, 260.8521020556914, 256.3504721067407, 254.2807164839117, 240.6783183736346, 239.61394371561778, 235.4873494836036, 220.29656407779882, 220.00223254918401, 219.35421090034322, 216.6121004412981, 210.42500705217415, 1156.1781917762646, 1399.5382831802494, 891.3904770961866, 494.29086475246936, 1833.834879056777, 421.505133314268, 352.0425171318404, 2081.401754862148, 775.0617605508772, 676.8473517969236, 4892.850715019472, 921.7140830664625, 2316.6192108183545, 2399.4907288065483, 813.603378105949, 2428.52290454976, 1944.971096159659, 1185.2282654992853, 5779.2844318319085, 1091.6795489835497, 2432.288341124354, 2668.924554515766, 4352.184354966131, 1153.737407943963, 1438.6994055822554, 3359.025770021005, 2041.4424226356236, 12037.165770917683, 2265.2226192896405, 2652.9505014821116, 1919.599725898335, 11649.913679774807, 3955.386664078729, 948.0205371399194, 826.2201097499623, 593.7808029371643, 489.54093270521855, 454.0799929066644, 432.53001639263726, 409.8645917946377, 385.4182970088903, 379.6572521134074, 375.5503006347177, 363.6479034631936, 353.9621980574471, 268.2612104045506, 263.73743012856903, 276.3684746318565, 254.00356555005533, 248.7495668207597, 249.1177840461978, 244.42172358171612, 233.5197499987182, 236.35229812102904, 229.5529031128646, 228.78490854609495, 210.4536299760883, 210.1559659109136, 207.14981092086563, 203.89635295348998, 200.5766021702653, 200.00485423348368, 198.43616895567817, 579.8864673162094, 246.40337738298808, 404.9108018117021, 393.46619370634886, 1053.124631072913, 1215.3358981412728, 1004.8060276587321, 582.8766801237928, 869.8348128842894, 523.2802334053083, 1015.1113076852278, 1228.4565377868544, 3402.599027225051, 930.8446772280287, 12037.165770917683, 1262.1553754408521, 2064.8455295896365, 11649.913679774807, 687.9519540097524, 5836.806282560066, 3225.6199890639723, 2142.2606988902908, 4352.184354966131, 2770.137152025572, 3359.025770021005, 2243.7011328079966, 5500.691032113589, 1222.4511613791408, 1347.253033404451, 16370.099615868687, 2801.2789384137604, 1442.817784466536, 1123.6937723806475, 744.8052979488702, 406.916012331232, 388.9978326526103, 356.1332368774987, 349.09168305476715, 348.2763589054867, 339.02504599183516, 324.37503718465445, 299.76003365324823, 295.61756307459746, 294.1253800450542, 275.3816802878513, 273.4464903571907, 248.17771617473352, 238.16117594363615, 237.17860417299846, 215.95980053444964, 212.28099784598274, 208.2924048936364, 194.57489624093526, 192.27599240834215, 187.94225479739495, 177.08129937282843, 163.65392892254573, 159.32850650110726, 157.2480769110968, 155.65124608959783, 154.4466824177802, 411.2132181644078, 1132.0788680700011, 263.3340772154538, 554.2906361031834, 1546.3408335411182, 599.5745672684417, 370.4604500624342, 396.7626784149049, 691.775059610397, 3119.122765369463, 388.8188698573342, 706.1711444087975, 2898.5923369487173, 1015.5312115276157, 16370.099615868687, 562.974523970575, 3576.6755697270605, 682.6282183169147, 12037.165770917683, 2392.225423311732, 5500.691032113589, 2243.7011328079966, 1744.1567013798613, 4726.389012978306, 11649.913679774807, 3954.983131085871, 1078.2877065933976, 2801.2789384137604, 2064.8455295896365, 4352.184354966131, 1969.9902410656168], \"Category\": [\"Default\", \"Default\", \"Default\", \"Default\", \"Default\", \"Default\", \"Default\", \"Default\", \"Default\", \"Default\", \"Default\", \"Default\", \"Default\", \"Default\", \"Default\", \"Default\", \"Default\", \"Default\", \"Default\", \"Default\", \"Default\", \"Default\", \"Default\", \"Default\", \"Default\", \"Default\", \"Default\", \"Default\", \"Default\", \"Default\", \"Topic1\", \"Topic1\", \"Topic1\", \"Topic1\", \"Topic1\", \"Topic1\", \"Topic1\", \"Topic1\", \"Topic1\", \"Topic1\", \"Topic1\", \"Topic1\", \"Topic1\", \"Topic1\", \"Topic1\", \"Topic1\", \"Topic1\", \"Topic1\", \"Topic1\", \"Topic1\", \"Topic1\", \"Topic1\", \"Topic1\", \"Topic1\", \"Topic1\", \"Topic1\", \"Topic1\", \"Topic1\", \"Topic1\", \"Topic1\", \"Topic1\", \"Topic1\", \"Topic1\", \"Topic1\", \"Topic1\", \"Topic1\", \"Topic1\", \"Topic1\", \"Topic1\", \"Topic1\", \"Topic1\", \"Topic1\", \"Topic1\", \"Topic1\", \"Topic1\", \"Topic1\", \"Topic1\", \"Topic1\", \"Topic1\", \"Topic1\", \"Topic1\", \"Topic1\", \"Topic1\", \"Topic1\", \"Topic1\", \"Topic1\", \"Topic1\", \"Topic1\", \"Topic1\", \"Topic1\", \"Topic1\", \"Topic1\", \"Topic1\", \"Topic1\", \"Topic1\", \"Topic1\", \"Topic1\", \"Topic1\", \"Topic1\", \"Topic1\", \"Topic1\", \"Topic1\", \"Topic1\", \"Topic1\", \"Topic1\", \"Topic2\", \"Topic2\", \"Topic2\", \"Topic2\", \"Topic2\", \"Topic2\", \"Topic2\", \"Topic2\", \"Topic2\", \"Topic2\", \"Topic2\", \"Topic2\", \"Topic2\", \"Topic2\", \"Topic2\", \"Topic2\", \"Topic2\", \"Topic2\", \"Topic2\", \"Topic2\", \"Topic2\", \"Topic2\", \"Topic2\", \"Topic2\", \"Topic2\", \"Topic2\", \"Topic2\", \"Topic2\", \"Topic2\", \"Topic2\", \"Topic2\", \"Topic2\", \"Topic2\", \"Topic2\", \"Topic2\", \"Topic2\", \"Topic2\", \"Topic2\", \"Topic2\", \"Topic2\", \"Topic2\", \"Topic2\", \"Topic2\", \"Topic2\", \"Topic2\", \"Topic2\", \"Topic2\", \"Topic2\", \"Topic2\", \"Topic2\", \"Topic2\", \"Topic2\", \"Topic2\", \"Topic2\", \"Topic2\", \"Topic2\", \"Topic2\", \"Topic2\", \"Topic2\", \"Topic2\", \"Topic2\", \"Topic2\", \"Topic3\", \"Topic3\", \"Topic3\", \"Topic3\", \"Topic3\", \"Topic3\", \"Topic3\", \"Topic3\", \"Topic3\", \"Topic3\", \"Topic3\", \"Topic3\", \"Topic3\", \"Topic3\", \"Topic3\", \"Topic3\", \"Topic3\", \"Topic3\", \"Topic3\", \"Topic3\", \"Topic3\", \"Topic3\", \"Topic3\", \"Topic3\", \"Topic3\", \"Topic3\", \"Topic3\", \"Topic3\", \"Topic3\", \"Topic3\", \"Topic3\", \"Topic3\", \"Topic3\", \"Topic3\", \"Topic3\", \"Topic3\", \"Topic3\", \"Topic3\", \"Topic3\", \"Topic3\", \"Topic3\", \"Topic3\", \"Topic3\", \"Topic3\", \"Topic3\", \"Topic3\", \"Topic3\", \"Topic3\", \"Topic3\", \"Topic3\", \"Topic3\", \"Topic4\", \"Topic4\", \"Topic4\", \"Topic4\", \"Topic4\", \"Topic4\", \"Topic4\", \"Topic4\", \"Topic4\", \"Topic4\", \"Topic4\", \"Topic4\", \"Topic4\", \"Topic4\", \"Topic4\", \"Topic4\", \"Topic4\", \"Topic4\", \"Topic4\", \"Topic4\", \"Topic4\", \"Topic4\", \"Topic4\", \"Topic4\", \"Topic4\", \"Topic4\", \"Topic4\", \"Topic4\", \"Topic4\", \"Topic4\", \"Topic4\", \"Topic4\", \"Topic4\", \"Topic4\", \"Topic4\", \"Topic4\", \"Topic4\", \"Topic4\", \"Topic4\", \"Topic4\", \"Topic4\", \"Topic4\", \"Topic4\", \"Topic4\", \"Topic4\", \"Topic4\", \"Topic4\", \"Topic4\", \"Topic5\", \"Topic5\", \"Topic5\", \"Topic5\", \"Topic5\", \"Topic5\", \"Topic5\", \"Topic5\", \"Topic5\", \"Topic5\", \"Topic5\", \"Topic5\", \"Topic5\", \"Topic5\", \"Topic5\", \"Topic5\", \"Topic5\", \"Topic5\", \"Topic5\", \"Topic5\", \"Topic5\", \"Topic5\", \"Topic5\", \"Topic5\", \"Topic5\", \"Topic5\", \"Topic5\", \"Topic5\", \"Topic5\", \"Topic5\", \"Topic5\", \"Topic5\", \"Topic5\", \"Topic5\", \"Topic5\", \"Topic5\", \"Topic5\", \"Topic5\", \"Topic5\", \"Topic5\", \"Topic5\", \"Topic5\", \"Topic5\", \"Topic5\", \"Topic5\", \"Topic5\", \"Topic5\", \"Topic5\", \"Topic5\", \"Topic5\", \"Topic5\", \"Topic5\", \"Topic5\", \"Topic5\", \"Topic5\", \"Topic5\", \"Topic5\", \"Topic5\", \"Topic5\", \"Topic5\", \"Topic5\", \"Topic5\", \"Topic5\", \"Topic6\", \"Topic6\", \"Topic6\", \"Topic6\", \"Topic6\", \"Topic6\", \"Topic6\", \"Topic6\", \"Topic6\", \"Topic6\", \"Topic6\", \"Topic6\", \"Topic6\", \"Topic6\", \"Topic6\", \"Topic6\", \"Topic6\", \"Topic6\", \"Topic6\", \"Topic6\", \"Topic6\", \"Topic6\", \"Topic6\", \"Topic6\", \"Topic6\", \"Topic6\", \"Topic6\", \"Topic6\", \"Topic6\", \"Topic6\", \"Topic6\", \"Topic6\", \"Topic6\", \"Topic6\", \"Topic6\", \"Topic6\", \"Topic6\", \"Topic6\", \"Topic6\", \"Topic6\", \"Topic6\", \"Topic6\", \"Topic6\", \"Topic6\", \"Topic6\", \"Topic6\", \"Topic6\", \"Topic6\", \"Topic6\", \"Topic6\", \"Topic6\", \"Topic6\", \"Topic6\", \"Topic6\", \"Topic6\", \"Topic6\", \"Topic6\", \"Topic6\", \"Topic6\", \"Topic6\", \"Topic6\", \"Topic7\", \"Topic7\", \"Topic7\", \"Topic7\", \"Topic7\", \"Topic7\", \"Topic7\", \"Topic7\", \"Topic7\", \"Topic7\", \"Topic7\", \"Topic7\", \"Topic7\", \"Topic7\", \"Topic7\", \"Topic7\", \"Topic7\", \"Topic7\", \"Topic7\", \"Topic7\", \"Topic7\", \"Topic7\", \"Topic7\", \"Topic7\", \"Topic7\", \"Topic7\", \"Topic7\", \"Topic7\", \"Topic7\", \"Topic7\", \"Topic7\", \"Topic7\", \"Topic7\", \"Topic7\", \"Topic7\", \"Topic7\", \"Topic7\", \"Topic7\", \"Topic7\", \"Topic7\", \"Topic7\", \"Topic7\", \"Topic7\", \"Topic7\", \"Topic7\", \"Topic7\", \"Topic7\", \"Topic7\", \"Topic7\", \"Topic7\", \"Topic7\", \"Topic7\", \"Topic7\", \"Topic7\", \"Topic7\", \"Topic7\", \"Topic7\", \"Topic7\", \"Topic7\", \"Topic7\", \"Topic7\"], \"logprob\": [30.0, 29.0, 28.0, 27.0, 26.0, 25.0, 24.0, 23.0, 22.0, 21.0, 20.0, 19.0, 18.0, 17.0, 16.0, 15.0, 14.0, 13.0, 12.0, 11.0, 10.0, 9.0, 8.0, 7.0, 6.0, 5.0, 4.0, 3.0, 2.0, 1.0, -5.4035, -5.9239, -6.0957, -6.1654, -6.2731, -6.2617, -6.3958, -6.4165, -6.4363, -6.4836, -6.5416, -6.5365, -6.5561, -6.5643, -6.5213, -6.5864, -6.5923, -6.6051, -6.7083, -6.7169, -6.7153, -6.7436, -6.7645, -6.8601, -6.8644, -6.8643, -6.877, -6.8942, -6.9066, -6.5796, -5.7182, -5.6507, -5.4614, -5.8807, -5.8786, -6.5341, -4.9117, -5.9946, -5.6751, -6.3087, -4.0425, -5.428, -5.9603, -6.2237, -6.2708, -6.1697, -5.7077, -5.3364, -5.975, -5.5618, -5.6855, -5.1434, -4.7899, -6.0398, -5.176, -4.827, -4.9194, -4.2148, -5.7071, -5.905, -5.787, -5.4716, -5.765, -4.6041, -5.0422, -5.611, -5.4716, -5.5735, -5.2029, -4.9479, -5.6729, -5.6991, -5.5982, -5.583, -5.5926, -5.1871, -5.3682, -5.4237, -5.6078, -5.6064, -5.6506, -5.6673, -5.6886, -5.797, -5.825, -5.8423, -5.9222, -5.9763, -5.9837, -6.0318, -6.154, -6.1729, -6.2866, -6.3214, -6.3254, -6.3472, -6.369, -5.9968, -6.3938, -6.4526, -6.4541, -6.4668, -6.491, -6.5655, -6.5628, -5.8581, -6.554, -6.3013, -6.1481, -5.079, -3.9736, -5.3525, -5.8717, -5.2531, -4.6313, -4.3109, -4.1833, -4.7017, -5.346, -4.983, -5.6124, -5.3899, -4.6796, -5.0559, -4.6842, -5.481, -5.4754, -5.1837, -5.3141, -4.7367, -4.7728, -5.0776, -4.9091, -5.3794, -5.3471, -5.4723, -5.5368, -3.92, -4.2264, -4.5762, -4.9852, -5.0666, -5.1741, -5.2998, -5.3274, -5.3808, -5.4735, -5.4957, -5.5349, -5.5907, -5.6834, -5.772, -5.8346, -5.8543, -5.981, -6.0109, -6.0523, -6.0672, -6.0913, -6.1167, -6.1504, -6.149, -6.16, -6.1776, -6.2262, -6.2344, -6.252, -3.5191, -4.2195, -4.2566, -3.77, -5.5957, -5.4012, -4.8814, -4.9462, -5.3131, -5.4168, -3.2868, -5.1577, -5.1443, -5.5014, -4.5801, -4.8346, -5.1015, -5.098, -5.1774, -5.3982, -5.3771, -4.7972, -4.9112, -5.0552, -5.1743, -5.1796, -5.3254, -5.4025, -5.4238, -5.4252, -5.5166, -5.5247, -5.5337, -5.5726, -5.5741, -5.6227, -5.7226, -5.7584, -5.7741, -5.8887, -5.8977, -5.9511, -6.0084, -6.0733, -6.0801, -6.0902, -6.1828, -6.2124, -6.2141, -6.2421, -6.2778, -5.5269, -5.2599, -4.8281, -5.4858, -4.1721, -4.5561, -5.4544, -4.4198, -5.202, -3.9524, -4.7726, -4.3825, -4.9105, -4.9076, -5.2311, -5.4392, -5.4164, -5.5085, -4.5479, -4.779, -5.1274, -5.4187, -5.4751, -5.5251, -5.5514, -5.696, -5.7132, -5.7614, -5.8783, -5.9497, -5.9669, -5.9696, -6.0839, -6.0915, -6.181, -6.1938, -6.2214, -6.314, -6.3315, -6.3397, -6.3948, -6.3993, -6.4167, -6.4836, -6.485, -6.4879, -6.5005, -6.5297, -4.8344, -4.6491, -5.1193, -5.709, -4.5115, -5.882, -6.0577, -4.513, -5.4113, -5.5648, -4.0507, -5.3551, -4.6836, -4.6624, -5.4581, -4.6828, -4.8412, -5.2472, -4.3646, -5.3703, -4.991, -4.9503, -4.767, -5.4302, -5.3685, -5.1552, -5.3543, -5.1381, -5.3654, -5.3952, -5.4137, -5.3315, -5.3956, -4.9718, -5.1094, -5.4402, -5.6335, -5.7089, -5.7576, -5.8115, -5.8732, -5.8882, -5.8991, -5.9314, -5.9585, -6.2365, -6.2535, -6.2069, -6.2913, -6.3123, -6.3108, -6.3299, -6.3757, -6.3636, -6.3929, -6.3962, -6.4801, -6.4815, -6.496, -6.5119, -6.5283, -6.5312, -6.5391, -5.4826, -6.337, -5.8929, -5.96, -5.189, -5.1236, -5.3064, -5.7222, -5.4611, -5.8277, -5.3893, -5.265, -4.6175, -5.4871, -3.9495, -5.4923, -5.2521, -4.4721, -5.839, -5.0579, -5.3301, -5.453, -5.3339, -5.4725, -5.4866, -5.5756, -5.4433, -5.6917, -5.6821, -5.6647, -5.7063, -4.3713, -4.6214, -5.0331, -5.6385, -5.6837, -5.7721, -5.7922, -5.7945, -5.8215, -5.8658, -5.9449, -5.9589, -5.964, -6.03, -6.0371, -6.1344, -6.1757, -6.1799, -6.2739, -6.2912, -6.3102, -6.3786, -6.3906, -6.4135, -6.4733, -6.5525, -6.5795, -6.5927, -6.6029, -6.6109, -5.672, -4.7159, -6.1142, -5.4499, -4.5682, -5.4138, -5.841, -5.8089, -5.3712, -4.2014, -5.8519, -5.4265, -4.5416, -5.242, -3.53, -5.6605, -4.7675, -5.611, -4.3796, -5.1147, -4.7822, -5.2504, -5.3638, -5.0709, -4.8786, -5.3469, -5.6084, -5.4987, -5.5771, -5.5381, -5.6422], \"loglift\": [30.0, 29.0, 28.0, 27.0, 26.0, 25.0, 24.0, 23.0, 22.0, 21.0, 20.0, 19.0, 18.0, 17.0, 16.0, 15.0, 14.0, 13.0, 12.0, 11.0, 10.0, 9.0, 8.0, 7.0, 6.0, 5.0, 4.0, 3.0, 2.0, 1.0, 1.4381, 1.4376, 1.4374, 1.4373, 1.4371, 1.4371, 1.4369, 1.4369, 1.4369, 1.4368, 1.4367, 1.4367, 1.4366, 1.4366, 1.4366, 1.4366, 1.4365, 1.4365, 1.4363, 1.4363, 1.4363, 1.4362, 1.4361, 1.4359, 1.4359, 1.4358, 1.4358, 1.4358, 1.4357, 1.4357, 1.4356, 1.4237, 1.4147, 1.4189, 1.4179, 1.4308, 1.3418, 1.3897, 1.3556, 1.4048, 1.1272, 1.2899, 1.3484, 1.382, 1.3851, 1.3527, 1.2441, 1.1461, 1.298, 1.1816, 1.1937, 1.0247, 0.9073, 1.29, 0.9144, 0.7484, 0.7776, 0.402, 1.1096, 1.2147, 1.1458, 0.9204, 1.0961, -0.02, 0.2657, 0.9032, 0.7283, 0.8465, 0.1643, -0.6712, 0.8579, 0.8581, 0.4982, 0.2646, 0.235, 1.8766, 1.8764, 1.8764, 1.8762, 1.8761, 1.8761, 1.8761, 1.8761, 1.8759, 1.8759, 1.8758, 1.8757, 1.8756, 1.8756, 1.8755, 1.8752, 1.8752, 1.8749, 1.8748, 1.8748, 1.8748, 1.8747, 1.8746, 1.8746, 1.8745, 1.8745, 1.8744, 1.8743, 1.8741, 1.8741, 1.8729, 1.8741, 1.8714, 1.8584, 1.798, 1.6595, 1.7762, 1.8184, 1.7492, 1.6609, 1.5166, 1.4864, 1.5457, 1.6254, 1.3418, 1.6239, 1.4791, 0.8958, 1.1232, 0.6237, 1.3497, 1.272, 0.8607, 1.0113, -0.1526, -0.156, 0.2402, -0.6325, 0.7887, 0.0202, 0.3254, 0.0646, 1.9647, 1.9646, 1.9644, 1.9642, 1.9641, 1.964, 1.9639, 1.9639, 1.9638, 1.9637, 1.9637, 1.9636, 1.9636, 1.9634, 1.9633, 1.9632, 1.9631, 1.9629, 1.9628, 1.9627, 1.9627, 1.9627, 1.9626, 1.9625, 1.9625, 1.9625, 1.9625, 1.9623, 1.9623, 1.9623, 1.9412, 1.9183, 1.8105, 1.7489, 1.9098, 1.8891, 1.83, 1.8262, 1.8697, 1.8701, 0.9898, 1.6259, 1.4443, 1.6609, 0.0367, 0.3351, 0.5957, 0.5718, 0.6831, 0.7867, -0.793, 2.0015, 2.0014, 2.0013, 2.0012, 2.0012, 2.0011, 2.001, 2.001, 2.001, 2.0008, 2.0008, 2.0008, 2.0008, 2.0008, 2.0007, 2.0005, 2.0005, 2.0004, 2.0002, 2.0002, 2.0001, 2.0, 1.9998, 1.9998, 1.9998, 1.9996, 1.9995, 1.9995, 1.9994, 1.9993, 1.9992, 1.9831, 1.9639, 1.951, 1.798, 1.7636, 1.8886, 1.6591, 1.4488, 0.3242, 0.7117, 0.2016, 0.4074, -0.2908, 0.0768, 0.6028, -0.0492, 0.8704, 2.1046, 2.1045, 2.1042, 2.1038, 2.1037, 2.1037, 2.1036, 2.1034, 2.1034, 2.1033, 2.103, 2.1029, 2.1028, 2.1028, 2.1025, 2.1025, 2.1023, 2.1022, 2.1022, 2.1019, 2.1018, 2.1018, 2.1016, 2.1016, 2.1015, 2.1013, 2.1012, 2.1012, 2.1012, 2.1011, 2.0925, 2.0868, 2.0678, 2.0677, 1.9542, 2.054, 2.0584, 1.8261, 1.9156, 1.8976, 1.4337, 1.7986, 1.5483, 1.5344, 1.8203, 1.5021, 1.5657, 1.655, 0.9533, 1.6141, 1.1923, 1.1402, 0.8345, 1.4989, 1.3399, 0.7053, 1.0041, -0.554, 0.889, 0.7013, 1.0063, -0.7147, 0.3014, 2.1537, 2.1536, 2.1532, 2.1529, 2.1527, 2.1526, 2.1525, 2.1524, 2.1524, 2.1523, 2.1523, 2.1522, 2.1514, 2.1514, 2.1513, 2.1512, 2.1512, 2.1511, 2.1511, 2.1509, 2.1509, 2.1509, 2.1508, 2.1505, 2.1505, 2.1505, 2.1504, 2.1503, 2.1503, 2.1503, 2.1344, 2.1359, 2.0832, 2.0449, 1.8314, 1.7535, 1.7609, 1.8897, 1.7504, 1.8921, 1.6678, 1.6014, 1.23, 1.6567, 0.6346, 1.347, 1.0949, 0.1447, 1.6071, 0.25, 0.5709, 0.8572, 0.2675, 0.5807, 0.3738, 0.6884, -0.0761, 1.1795, 1.0919, -1.3881, 0.3357, 2.3342, 2.3341, 2.3337, 2.3327, 2.3326, 2.3324, 2.3324, 2.3324, 2.3323, 2.3322, 2.332, 2.3319, 2.3319, 2.3317, 2.3317, 2.3314, 2.3312, 2.3312, 2.3308, 2.3308, 2.3307, 2.3304, 2.3303, 2.3302, 2.3299, 2.3296, 2.3294, 2.3293, 2.3293, 2.3292, 2.2887, 2.2322, 2.2922, 2.2123, 2.068, 2.1698, 2.2241, 2.1876, 2.0694, 1.7332, 2.1648, 1.9935, 1.4663, 1.8147, 0.7466, 1.9861, 1.0302, 1.8429, 0.2045, 1.0851, 0.585, 1.0136, 1.152, 0.4481, -0.2618, 0.3502, 1.3883, 0.5433, 0.7699, 0.0633, 0.7519]}, \"token.table\": {\"Topic\": [3, 6, 3, 6, 2, 4, 6, 7, 1, 7, 5, 6, 6, 1, 2, 3, 4, 5, 7, 4, 3, 3, 1, 3, 1, 4, 2, 2, 4, 2, 3, 5, 6, 7, 4, 4, 2, 5, 2, 4, 6, 4, 6, 7, 3, 2, 1, 2, 3, 4, 5, 6, 7, 4, 5, 3, 4, 6, 7, 3, 1, 2, 4, 1, 3, 3, 2, 1, 5, 1, 2, 5, 7, 4, 6, 7, 5, 1, 2, 3, 4, 5, 6, 7, 5, 5, 4, 1, 1, 2, 1, 2, 4, 5, 7, 2, 4, 5, 7, 4, 5, 2, 2, 5, 7, 1, 2, 4, 1, 2, 3, 4, 5, 6, 7, 2, 2, 2, 3, 4, 5, 7, 3, 3, 6, 3, 5, 3, 1, 2, 3, 4, 1, 2, 3, 4, 5, 6, 7, 2, 2, 1, 2, 4, 5, 1, 1, 2, 3, 2, 1, 2, 3, 4, 5, 6, 7, 1, 2, 4, 1, 2, 1, 2, 3, 2, 1, 1, 2, 4, 3, 1, 2, 3, 6, 7, 3, 3, 2, 4, 5, 3, 5, 6, 3, 3, 4, 5, 1, 2, 4, 5, 6, 7, 4, 1, 1, 1, 1, 7, 6, 7, 1, 2, 3, 4, 5, 7, 4, 5, 6, 1, 7, 6, 2, 2, 1, 4, 6, 7, 1, 2, 3, 4, 5, 6, 7, 4, 5, 2, 2, 2, 1, 3, 4, 2, 3, 7, 1, 2, 6, 7, 6, 7, 6, 5, 6, 6, 5, 7, 2, 6, 5, 7, 1, 1, 1, 2, 5, 7, 3, 6, 7, 5, 7, 6, 6, 7, 7, 7, 7, 1, 2, 3, 4, 5, 6, 7, 3, 1, 2, 3, 5, 6, 1, 5, 4, 1, 2, 3, 4, 2, 4, 5, 6, 4, 1, 1, 2, 4, 5, 1, 2, 3, 4, 5, 6, 7, 4, 3, 1, 3, 4, 6, 7, 1, 2, 3, 5, 3, 5, 6, 2, 1, 1, 1, 2, 3, 6, 6, 6, 7, 1, 4, 5, 5, 1, 2, 3, 4, 5, 6, 7, 4, 5, 1, 2, 4, 2, 7, 1, 2, 3, 4, 5, 6, 1, 2, 3, 4, 5, 6, 7, 3, 1, 2, 3, 4, 5, 7, 1, 2, 3, 6, 7, 2, 1, 4, 4, 5, 6, 1, 3, 1, 1, 2, 3, 4, 5, 6, 7, 1, 2, 3, 4, 5, 6, 7, 2, 1, 2, 3, 4, 6, 7, 7, 1, 2, 3, 4, 6, 1, 2, 3, 4, 5, 6, 7, 2, 3, 2, 1, 2, 5, 6, 1, 2, 3, 4, 5, 6, 7, 1, 2, 7, 5, 1, 1, 3, 5, 7, 1, 4, 5, 1, 3, 4, 4, 5, 5, 1, 3, 3, 1, 4, 4, 5, 1, 1, 2, 3, 4, 5, 6, 7, 6, 1, 2, 3, 4, 5, 6, 7, 2, 4, 3, 4, 5, 7, 1, 2, 3, 1, 2, 4, 1, 5, 1, 2, 3, 6, 7, 1, 2, 3, 1, 2, 4, 5, 6, 7, 1, 1, 2, 3, 2, 7, 4, 4, 4, 6, 1, 2, 5, 7, 1, 2, 3, 7, 3, 6, 3, 7, 3, 4, 5, 5, 1, 4, 1, 2, 3, 4, 2, 3, 1, 1, 2, 1, 5, 6, 7, 7, 7, 7, 5, 7, 7, 1, 7, 4, 5, 3, 6, 2, 1, 4, 1, 1, 2, 3, 4, 5, 6, 6, 5, 6, 7, 1, 2, 3, 4, 7, 1, 2, 3, 4, 5, 5, 1, 2, 3, 5, 7, 1, 2, 3, 5, 7, 3, 1, 3, 4, 1, 2, 3, 4, 7, 3, 1, 4, 5, 6, 7, 2, 5, 1, 2, 3, 5, 6, 1, 1, 2, 3, 4, 6, 7, 3, 6, 1, 5, 3, 6, 7, 1, 2, 4, 5, 6, 7, 2, 2, 1, 3, 6, 7, 1, 2, 4, 5, 7, 6, 4, 4, 4, 1, 2, 3, 4, 5, 6, 7, 1, 3, 4, 5, 6, 4, 1, 2, 3, 1, 2, 7, 1, 2, 3, 6, 7, 1, 2, 3, 4, 5, 6, 7, 1, 2, 3, 4, 5, 6, 7, 1, 2, 3, 4, 5, 7, 3, 5, 1, 3, 4, 5, 6, 5, 3, 6, 1, 2, 3, 4, 5, 6, 7, 3, 5, 1, 2, 3, 5, 7, 7, 1, 3, 5, 7, 7, 1, 4, 6, 3, 4, 2, 3, 6, 7, 4, 1, 2, 3, 4, 5, 6, 7, 6, 1, 2, 5, 6, 2, 3, 4, 5, 5, 1, 2, 3, 4, 5, 6, 7, 4, 4, 4, 7, 4, 1, 2, 3, 5, 1, 6, 4, 5, 6, 2, 5, 7, 6, 1, 3, 4, 5, 1, 5, 2, 3, 1, 3, 4, 2, 4, 6, 3, 1, 2, 4, 5, 6, 7, 1, 2, 4, 5, 6, 7, 1, 2, 3, 4, 5, 6, 7, 1, 2, 4, 5, 6, 1, 2, 3, 5, 1, 7, 5, 3, 7, 7, 1, 2, 3, 4, 5, 6, 7, 1, 1, 2, 3, 4, 6, 7, 6], \"Freq\": [0.9983200277098758, 0.99762158006621, 0.016233543722019468, 0.9821293951821778, 0.32886796363820303, 0.010582384968556038, 0.5747049067538894, 0.08547310936141415, 0.9959364872647493, 0.9988438161336042, 0.9974551010361793, 0.9987746136162811, 0.997801968471909, 0.19789928705332377, 0.11119588653738736, 0.10874663793524228, 0.14891431501042185, 0.33260796017130406, 0.10041919268794895, 0.9990306330009058, 0.996727372516261, 0.9975889957168372, 0.405734376191223, 0.5944193596479316, 0.8618234796707261, 0.13716710036801347, 0.9988874431262698, 0.99491793179808, 0.003005794355885438, 0.7175896535577378, 0.09687679501298721, 0.0008767130770406083, 0.09161651655074356, 0.09336994270482478, 0.9986922286590606, 0.9979086320105559, 0.9952858101816202, 0.0038651876123558066, 0.9963382531213, 0.002223969315002902, 0.9986850316930053, 0.1100780513434461, 0.04169623156948716, 0.8472674254919791, 0.9997496085337158, 0.9961492624254332, 0.1775122040500871, 0.10716174530212631, 0.1595155750680506, 0.002454085770277702, 0.07280454451823849, 0.3771111800326735, 0.10225357376157092, 0.9972517738213011, 0.9978688670792909, 0.1075656513055721, 0.2747284877939612, 0.5785287732380769, 0.039246926827708736, 0.9964241052943315, 0.018374767563065945, 0.4068698531821745, 0.5748677280444917, 0.0524421817662355, 0.9470441060137824, 0.9986275855946202, 0.9978402071979803, 0.9983999020625662, 0.9969407181618295, 0.9787528466098043, 0.001251602105639136, 0.017522429478947905, 0.002503204211278272, 0.44978719226267183, 0.16136695145093793, 0.3876516419913337, 0.9976945462965968, 0.20523186309745764, 0.13640788483818939, 0.1974814150952878, 0.03348193536937376, 0.1298975085163667, 0.20523186309745764, 0.09238534018586463, 0.9992962775419871, 0.9979660410443568, 0.995780522728723, 0.999221267559462, 0.9765024828173581, 0.023015210032732346, 0.36845965043949924, 0.47040015372776073, 0.02456397669596662, 0.13633007066261474, 0.9958159918024495, 0.805468994397727, 0.00183373703903865, 0.0939790232507308, 0.09902180010808709, 0.9985984889067177, 0.9949633755102593, 0.9980530980398373, 0.9423809427203639, 0.05565241787718685, 0.9969764888938033, 0.7731250689270984, 0.2260347035783137, 0.9972134580125537, 0.10730243985807313, 0.16313647173283066, 0.07605376358248865, 0.11833138442592646, 0.28054877744476936, 0.15141821812948647, 0.10316658564512812, 0.9982248926024935, 0.9995387577249792, 0.04106653214254263, 0.026905658989941725, 0.19542004950589253, 0.025489571674681636, 0.7108758322605656, 0.9985108077991526, 0.10166057628283243, 0.8971545856959962, 0.8736031227041062, 0.12549765529667928, 0.9984035468622845, 0.6608613238083253, 0.3365047549538715, 0.00040493953664725815, 0.0016197581465890326, 0.12125766162569959, 0.08124568763837806, 0.3771510341949971, 0.18674290760189605, 0.0003665218991205025, 0.0289552300305197, 0.20427487177649342, 0.9977055363998436, 0.9971172894309873, 0.00960890897361841, 0.06197746287983874, 0.1715190251790886, 0.7567015816724497, 0.9975987536837922, 0.2228324016110447, 0.6717621484464827, 0.10529443153049366, 0.9957178187371051, 0.009867251178330986, 0.06619280998797036, 0.18583323052523357, 0.23270267362230576, 0.40126821458546014, 0.0920943443310892, 0.011922928507149941, 0.1388649412866521, 0.045513150613089325, 0.8152501576972351, 0.9805233496199129, 0.01883207457656683, 0.9134280106030191, 0.06841208401187661, 0.017736466225301343, 0.9983469612690784, 0.9990262663874003, 0.9201379509649031, 0.0019189529738579836, 0.07675811895431935, 0.9987825097567413, 0.49159246805929246, 0.16386415601976417, 0.05308864238395421, 0.005016249674074413, 0.2867622730345873, 0.99983365894487, 0.9976245956989661, 0.10634605074996847, 0.4281644919083698, 0.4650033199459406, 0.04744900694978795, 0.9489801389957591, 0.9956038794195871, 0.9979078794969248, 0.9992737051972006, 0.998813090162216, 0.9971481791706132, 0.042136907339548564, 0.13831897844069202, 0.20702045779865164, 0.6119011761482269, 0.7682308146515248, 0.2293226312392611, 0.9996874799648857, 0.9990547304565964, 0.9959674974335988, 0.9972712358997151, 0.9967809904671314, 0.9979109391601283, 0.1543134982672401, 0.8435804571942459, 0.5014867270022114, 0.37477177723290267, 0.03514884649078, 0.04656662465020535, 0.022387800312598728, 0.01947738627196089, 0.03589897000497909, 0.9636629760711574, 0.9944994856277188, 0.995581897348313, 0.9993825965777334, 0.9975913913291143, 0.9985940427549145, 0.9979888401414809, 0.09400596764994451, 0.0018991104575746365, 0.7235610843359365, 0.17946593824080315, 0.18748396369235656, 0.13698828280454853, 0.004499615128616558, 0.3224724175508533, 0.11948977952659526, 0.142487812406191, 0.08699255915325345, 0.18615718841994397, 0.8125909018330887, 0.9994152216766822, 0.9975263018024473, 0.9993669305931584, 0.9446556410062602, 0.04774432842630918, 0.006820618346615597, 0.9971606161236347, 0.04377291197094591, 0.9557085780323191, 0.11036578276474489, 0.10116863420101616, 0.6679429144407998, 0.12071257489893972, 0.9795020784478357, 0.01896923039247569, 0.9985346819486294, 0.9979054198342652, 0.9955130299088141, 0.9969866607996958, 0.10257505219138996, 0.8961820349353018, 0.9993310132318454, 0.99821832201692, 0.9971816390515844, 0.9961738084456301, 0.9991010210213498, 0.9971774578213978, 0.9177740487081316, 0.03608342413724278, 0.020394978860180702, 0.025101512443299327, 0.8056890767017951, 0.042527180781791185, 0.1514898579092661, 0.13610151089748118, 0.8619762356840475, 0.997203923128357, 0.9944493749921651, 0.9963352123310987, 0.9968727898493192, 0.9949864664632724, 0.9968179412642452, 0.23252982082896173, 0.13134321069331495, 0.06338701439531898, 0.1652382328077188, 0.07003309716284914, 0.21873919908633663, 0.11879872946960174, 0.9977635505517488, 0.008992814007404048, 0.05545568637899163, 0.7126805100867708, 0.07119311089194871, 0.15137903579130146, 0.9963144321690672, 0.9967333901127258, 0.9992422538353383, 0.07740785832279229, 0.8794651855228087, 0.013056747186977012, 0.02984399357023317, 0.9973907210750977, 0.11095889950611841, 0.8270308672490919, 0.06064032879985541, 0.9987301087585563, 0.997443718103245, 0.08690309115823404, 0.124026741750101, 0.1510257603623679, 0.6378518147148051, 0.04164586309788064, 0.06478245370781432, 0.13522051845361244, 0.10282929159970527, 0.5830420833703289, 0.07300879703579075, 0.9974645263947114, 0.9975801174128772, 0.9997498370629698, 0.047220577726056596, 0.8569253678813836, 0.003660509901244697, 0.09041459456074402, 0.0018302549506223485, 0.37322034161125106, 0.5854065256745005, 0.0412057991372828, 0.9963083046210874, 0.29786004063044674, 0.03208989388007576, 0.6697736825226068, 0.9986069776837406, 0.9971791382772017, 0.9981355321251099, 0.7102094745141634, 0.16520265997820904, 0.03644176323048729, 0.08827004871384699, 0.9965692293644587, 0.9989146934327287, 0.9952545450377812, 0.5919987499559222, 0.026977158225839494, 0.3810523599399828, 0.9974377796796899, 0.30917542489805094, 0.11726330278927978, 0.13313352421940788, 0.008816789683404495, 0.014694649472340825, 0.39675553575320227, 0.020572509261277155, 0.9991876973101943, 0.9978926737783398, 0.9914598020433978, 0.007326057650566978, 0.9981385064991088, 0.9987436146820365, 0.9960041966187367, 0.012085897916523284, 0.0937698976281979, 0.06376353038717457, 0.2167126522962796, 0.565119916372606, 0.04834359166609314, 0.04547014457779878, 0.14435667259165244, 0.07328198058169512, 0.2149899068872622, 0.2962181263272134, 0.18497078231162806, 0.04061410971997561, 0.9994342277076252, 0.5532403373849227, 0.0062513032472872624, 0.04219629691918902, 0.06407585828469443, 0.33340283985532065, 0.001041883874547877, 0.19011755695667804, 0.11669947846919192, 0.023083413323576423, 0.12182912587443112, 0.5479104634721126, 0.997885075067595, 0.0015745732485265458, 0.9967048663173035, 0.3200873742338488, 0.2337271668291718, 0.4460623556773685, 0.9976696508949359, 0.9992562639006962, 0.996498296306254, 0.15630995009881837, 0.2064879710312335, 0.0913312179561225, 0.19818513303522237, 0.07797447857123503, 0.20720995694393013, 0.062090788491909375, 0.009882550399272235, 0.009059004532666216, 0.30800615411065135, 0.04817743319645215, 0.5472462283597, 0.07247203626132973, 0.005353048132939128, 0.9976782816939139, 0.30187635689854575, 0.07197763669822976, 0.012891517020578466, 0.002148586170096411, 0.6080498861372843, 0.0032228792551446165, 0.9933637455599122, 0.585608869315398, 0.21523845050106516, 0.10132235568800142, 0.09788769956298442, 0.9978905428476952, 0.5952532440766283, 0.09726691307464905, 0.12259683835450556, 0.007092379078359826, 0.041541077458964695, 0.005065985055971304, 0.13120901294965678, 0.9980745666792691, 0.9987496994787252, 0.9989538520789443, 0.07569462040961146, 0.9239680295651486, 0.9629957459124213, 0.034392705211157906, 0.1159183358477031, 0.1159183358477031, 0.19871714716749103, 0.024149653301604814, 0.07175896981048287, 0.05416422240502794, 0.4195139773535922, 0.2085821266244019, 0.7765854318953721, 0.014141161127078096, 0.9961954100535911, 0.9981697344089154, 0.062169775913038204, 0.14210234494408733, 0.08881396559005457, 0.7051828867850333, 0.9970034477520406, 0.017863034045193172, 0.9817523511238168, 0.9483166334150429, 0.0035853180847449637, 0.04840179414405701, 0.9987898060406425, 0.9984766390286198, 0.993826373814367, 0.9970513342204219, 0.997121445885279, 0.9979190207335725, 0.9979145905920686, 0.9988683517775339, 0.9627379484284365, 0.03702838263186294, 0.9963309689438263, 0.04783529343060646, 0.06568428351665365, 0.15635715315377335, 0.24667304298917214, 0.1542152743434477, 0.16206882998130845, 0.16670956740368073, 0.9989235073503806, 0.11876017053432557, 0.10094614495417673, 0.019298527711827905, 0.07570960871563255, 0.3392087370886674, 0.3458889966812232, 0.995030731472984, 0.9037266022306969, 0.09524050843180647, 0.9985588003006332, 0.012108860121718315, 0.9877370185001654, 0.9951244112772144, 0.4051945740411385, 0.4203597510812747, 0.1739256241790618, 0.985262683416873, 0.007016112699814965, 0.007016112699814965, 0.24704912173290583, 0.7522092661718327, 0.8691541233546145, 0.022003901857078848, 0.02811609681737853, 0.037895608753858015, 0.04156292573003782, 0.9524096016134622, 0.03416103305643695, 0.01366441322257478, 0.2826944018905939, 0.36177726621694994, 0.0701368389500714, 0.18822437391702837, 0.006441138270924925, 0.09089161782305172, 0.999010450045552, 0.3001700131692351, 0.6971318923892024, 0.0025926392692160417, 0.9979757799185899, 0.9939655557540192, 0.9994333594841988, 0.9972367802553586, 0.9977106175600529, 0.9972816361105009, 0.7464223025504765, 0.1757918795754094, 0.016636455480322655, 0.06100033676118307, 0.07596643875758863, 0.003533322732911099, 0.017666613664555495, 0.9027639582587859, 0.9093188474275306, 0.09048504501428745, 0.9981216131806375, 0.9994332032254243, 0.03489954342722397, 0.10524393564772228, 0.8599465622614405, 0.9979056940400619, 0.04896315073266685, 0.95046116128118, 0.31263021965024523, 0.5899128014003371, 0.011782545966717784, 0.0856198340248159, 0.023343312261785924, 0.9764288052066694, 0.9965910902426831, 0.8227459526084907, 0.17642935837186385, 0.3685874147440518, 0.13370764742831384, 0.23086853789288858, 0.2669696026985333, 0.9938937687002632, 0.9974348632078333, 0.9986139953556376, 0.9995082485834316, 0.9989187805845529, 0.9955556518756067, 0.38820545780158766, 0.6108742486915549, 0.8929149390724134, 0.10620574165178485, 0.998058620159622, 0.9949758507745485, 0.9973356325599333, 0.01779467230455402, 0.9810795997244116, 0.997426919817213, 0.0004316635186871071, 0.10748421615308966, 0.07122448058337266, 0.059569565578820774, 0.5728174892977911, 0.18820529414757867, 0.9977742781982207, 0.99544444373327, 0.998268827713026, 0.9920630068385357, 0.9076449892849883, 0.055129068834122226, 0.03263640874980036, 0.0004410325506729778, 0.0039692929560568, 0.5592978326403828, 0.0034919739811054076, 0.015713882914974334, 0.05703557502472165, 0.36432928536199755, 0.9979802445625259, 0.5876131257636813, 0.020227646325772165, 0.25436265254658497, 0.000252845579072152, 0.1375479950152507, 0.7323153531850829, 0.05953419436040099, 0.19591076991279827, 0.009549344458811187, 0.0025365446218717216, 0.9988691765434186, 0.005893115536287637, 0.9542918425095113, 0.039287436908584245, 0.7991358108905748, 0.08599624211683352, 0.026218366499034605, 0.08494750745687213, 0.0031462039798841527, 0.9995255586088884, 0.27556540760367776, 0.16514552547074535, 0.002905786371919273, 0.3467571737156999, 0.20921661877818767, 0.9970845051583589, 0.9991328140792844, 0.03053852298295221, 0.1231392055764202, 0.22657613826061318, 0.004925568223056808, 0.6147109142374897, 0.9967014389579408, 0.3094157853749902, 0.28543006557847933, 0.06459011688060427, 0.14579891104879106, 0.14888278930834248, 0.04574419418334573, 0.998683266757837, 0.9988950204792287, 0.9971987126114037, 0.002170182181961706, 0.12838298780967602, 0.6747570987206228, 0.19705295803345624, 0.0840944813820948, 0.7776478923505541, 0.0009042417352913419, 0.11122173344083505, 0.0009042417352913419, 0.026223010323448915, 0.9962084317831242, 0.9981498095996159, 0.003233439802886151, 0.06014198033368241, 0.1707256215923888, 0.7656785453234406, 0.7196122305857451, 0.2509734797737152, 0.012393752087590873, 0.0038730475273721482, 0.012393752087590873, 0.9960490099897532, 0.9985502866428518, 0.9972730536092123, 0.9993021239529118, 0.5162579978702572, 0.12919090935930527, 0.0002528197834820064, 0.0864643659508462, 0.1645856790467862, 0.04626602037720717, 0.056884451283451445, 0.5593175830282442, 0.00896342280493981, 0.08186592828511693, 0.3495734893926526, 0.9978445134154262, 0.9972412331219791, 0.7824970989923844, 0.20118998119509143, 0.01566643296191286, 0.04914892424590816, 0.18358568762442165, 0.7661449955979801, 0.3190448469945321, 0.010831769496727943, 0.033480014808068184, 0.041357665351143054, 0.5947626160021525, 0.10070450881330278, 0.19448774554321707, 0.10520333566750531, 0.20296630384536798, 0.31595607060668535, 0.01851440282306426, 0.06211841694841185, 0.022335136023922283, 0.05533022333198929, 0.12538133177065464, 0.28528060103282554, 0.22132089332795715, 0.08578722700097423, 0.2055847747656483, 0.3905086052005956, 0.10139653938123573, 0.07878021089471475, 0.13720572615156063, 0.24576410288686132, 0.04674041220547669, 0.8707041008491948, 0.12893830940234885, 0.04712074183623274, 0.040523837979160156, 0.7878588035018114, 0.09377027625410315, 0.03062848219355128, 0.9971742093814192, 0.9977812606665994, 0.9942784642595835, 0.06877895274655076, 0.21192864301579462, 0.16607600785142743, 0.12273967583632432, 0.10512555379147595, 0.05451990156738779, 0.2712015616429034, 0.9986911499832364, 0.9965282326377471, 0.07109915487947553, 0.6763030337843537, 0.24823199748578134, 0.00393628539125124, 0.0002460178369532025, 0.9977488909173562, 0.08298895381562411, 0.016236969224796022, 0.016236969224796022, 0.8840127689055612, 0.9983671746651146, 0.2900070253728605, 0.7096468207080469, 0.9950483692697606, 0.9098229925642745, 0.08924694204990159, 0.8042534913527711, 0.09083724187204699, 0.04980632060869417, 0.05526129858012258, 0.9981871747666152, 0.2796012339215202, 0.15616219761936662, 0.09835127929229026, 0.12852930584038672, 0.05617476026121569, 0.10744104632484944, 0.1737963456625314, 0.9952985733470425, 0.1749094725148208, 0.545688643589627, 0.2760967706638907, 0.002891065661401997, 0.9978357329214238, 0.9966385523599621, 0.9986511994937112, 0.9979672242446446, 0.999230807001812, 0.21613409652271293, 0.019350848862226364, 0.27746140214761494, 0.06906764516979257, 0.24650004396805275, 0.16850123778492496, 0.002977053671111748, 0.9962880707264261, 0.9992774903176606, 0.9990745516065548, 0.9971078535920123, 0.9988784940428266, 0.8617436597642284, 0.009824439117833221, 0.12841945418310569, 0.9980483336171078, 0.06668135273051067, 0.9310692584963896, 0.00514688630082585, 0.2264629972363374, 0.7668860588230516, 0.04260848979892528, 0.9544301714959263, 0.9970453730052443, 0.9985232630680806, 0.7464347145773396, 0.11831599205421699, 0.08786702351085232, 0.04697840860976263, 0.9972843929611797, 0.9979304642704914, 0.07213905171615136, 0.926613681526427, 0.2615766396324636, 0.7376680130220941, 0.998001462114554, 0.9800268829131082, 0.01781867059842015, 0.9971252770062591, 0.9988343061145047, 0.27909297018792645, 0.006067238482346227, 0.08927508052595162, 0.5451847150565395, 0.013867973673934234, 0.06587287495118761, 0.03037818398829975, 0.018443897421467705, 0.001084935142439277, 0.7355860265738298, 0.16708001193564864, 0.046652211124888904, 0.08198804607800886, 0.0751079303232109, 0.10606845121980167, 0.16053603427861873, 0.2035367577461059, 0.06650778562971348, 0.3061651510885086, 0.11854030171400637, 0.04087596610827806, 0.2750952519087113, 0.5109495763534757, 0.05436503492400982, 0.9665803603667251, 0.005696937290963016, 0.02658570735782741, 0.9941144607351164, 0.9989640170898568, 0.9916618404936971, 0.9947319304870311, 0.03797457627110764, 0.9569593220319126, 0.9937952375445646, 0.35459490203534727, 0.13090225746887063, 0.14540880272279794, 0.10094495395632254, 0.05965709438745252, 0.1339924091205948, 0.07450698982490474, 0.9973202694267347, 0.15777724913456465, 0.1190331317435325, 0.1867186380290706, 0.09522650539482601, 0.27307600811751576, 0.16757997763109087, 0.9982746067921613], \"Term\": [\"apple\", \"google\", \"microsoft\", \"microsoft\", \"the\", \"the\", \"the\", \"the\", \"twitter\", \"xbox\", \"\\u0430\\u0432\\u0430\\u0440\\u0438\\u044f\", \"\\u0430\\u0432\\u0438\\u0430\\u043a\\u043e\\u043c\\u043f\\u0430\\u043d\\u0438\\u044f\", \"\\u0430\\u0432\\u0441\\u0442\\u0440\\u0430\\u043b\\u0438\\u044f\", \"\\u0430\\u0433\\u0435\\u043d\\u0442\\u0441\\u0442\\u0432\\u043e\", \"\\u0430\\u0433\\u0435\\u043d\\u0442\\u0441\\u0442\\u0432\\u043e\", \"\\u0430\\u0433\\u0435\\u043d\\u0442\\u0441\\u0442\\u0432\\u043e\", \"\\u0430\\u0433\\u0435\\u043d\\u0442\\u0441\\u0442\\u0432\\u043e\", \"\\u0430\\u0433\\u0435\\u043d\\u0442\\u0441\\u0442\\u0432\\u043e\", \"\\u0430\\u0433\\u0435\\u043d\\u0442\\u0441\\u0442\\u0432\\u043e\", \"\\u0430\\u0434\\u0432\\u043e\\u043a\\u0430\\u0442\", \"\\u0430\\u043a\\u0442\\u0438\\u0432\", \"\\u0430\\u043a\\u0446\\u0438\\u043e\\u043d\\u0435\\u0440\", \"\\u0430\\u043a\\u0446\\u0438\\u044f\", \"\\u0430\\u043a\\u0446\\u0438\\u044f\", \"\\u0430\\u043b\\u0435\\u043a\\u0441\\u0430\\u043d\\u0434\\u0440\", \"\\u0430\\u043b\\u0435\\u043a\\u0441\\u0430\\u043d\\u0434\\u0440\", \"\\u0430\\u043b\\u044c\", \"\\u0430\\u043c\\u0435\\u0440\\u0438\\u043a\\u0430\\u043d\\u0435\\u0446\", \"\\u0430\\u043c\\u0435\\u0440\\u0438\\u043a\\u0430\\u043d\\u0435\\u0446\", \"\\u0430\\u043c\\u0435\\u0440\\u0438\\u043a\\u0430\\u043d\\u0441\\u043a\\u0438\\u0439\", \"\\u0430\\u043c\\u0435\\u0440\\u0438\\u043a\\u0430\\u043d\\u0441\\u043a\\u0438\\u0439\", \"\\u0430\\u043c\\u0435\\u0440\\u0438\\u043a\\u0430\\u043d\\u0441\\u043a\\u0438\\u0439\", \"\\u0430\\u043c\\u0435\\u0440\\u0438\\u043a\\u0430\\u043d\\u0441\\u043a\\u0438\\u0439\", \"\\u0430\\u043c\\u0435\\u0440\\u0438\\u043a\\u0430\\u043d\\u0441\\u043a\\u0438\\u0439\", \"\\u0430\\u0440\\u0435\\u0441\\u0442\", \"\\u0430\\u0440\\u0435\\u0441\\u0442\\u043e\\u0432\\u0430\\u0442\\u044c\", \"\\u0430\\u0440\\u043c\\u0438\\u044f\", \"\\u0430\\u0440\\u043c\\u0438\\u044f\", \"\\u0430\\u0444\\u0433\\u0430\\u043d\\u0438\\u0441\\u0442\\u0430\\u043d\", \"\\u0430\\u0444\\u0433\\u0430\\u043d\\u0438\\u0441\\u0442\\u0430\\u043d\", \"\\u0430\\u044d\\u0440\\u043e\\u043f\\u043e\\u0440\\u0442\", \"\\u0431\\u0430\\u0437\\u0430\", \"\\u0431\\u0430\\u0437\\u0430\", \"\\u0431\\u0430\\u0437\\u0430\", \"\\u0431\\u0430\\u043d\\u043a\", \"\\u0431\\u0430\\u0440\\u0430\\u043a\", \"\\u0431\\u043e\\u043b\\u044c\\u0448\\u043e\\u0439\", \"\\u0431\\u043e\\u043b\\u044c\\u0448\\u043e\\u0439\", \"\\u0431\\u043e\\u043b\\u044c\\u0448\\u043e\\u0439\", \"\\u0431\\u043e\\u043b\\u044c\\u0448\\u043e\\u0439\", \"\\u0431\\u043e\\u043b\\u044c\\u0448\\u043e\\u0439\", \"\\u0431\\u043e\\u043b\\u044c\\u0448\\u043e\\u0439\", \"\\u0431\\u043e\\u043b\\u044c\\u0448\\u043e\\u0439\", \"\\u0431\\u043e\\u043c\\u0431\\u0430\", \"\\u0431\\u043e\\u0440\\u0442\", \"\\u0431\\u0440\\u0438\\u0442\\u0430\\u043d\\u0441\\u043a\\u0438\\u0439\", \"\\u0431\\u0440\\u0438\\u0442\\u0430\\u043d\\u0441\\u043a\\u0438\\u0439\", \"\\u0431\\u0440\\u0438\\u0442\\u0430\\u043d\\u0441\\u043a\\u0438\\u0439\", \"\\u0431\\u0440\\u0438\\u0442\\u0430\\u043d\\u0441\\u043a\\u0438\\u0439\", \"\\u0431\\u0443\\u043c\\u0430\\u0433\\u0430\", \"\\u0431\\u044b\\u0432\\u0448\\u0438\\u0439\", \"\\u0431\\u044b\\u0432\\u0448\\u0438\\u0439\", \"\\u0431\\u044b\\u0432\\u0448\\u0438\\u0439\", \"\\u0431\\u044e\\u0434\\u0436\\u0435\\u0442\", \"\\u0431\\u044e\\u0434\\u0436\\u0435\\u0442\", \"\\u0432\\u0430\\u043b\\u044e\\u0442\\u0430\", \"\\u0432\\u0430\\u0448\\u0438\\u043d\\u0433\\u0442\\u043e\\u043d\", \"\\u0432\\u0432\\u0435\\u0434\\u0435\\u043d\\u0438\\u0435\", \"\\u0432\\u0432\\u0441\", \"\\u0432\\u0435\\u0434\\u043e\\u043c\\u0441\\u0442\\u0432\\u043e\", \"\\u0432\\u0435\\u0434\\u043e\\u043c\\u0441\\u0442\\u0432\\u043e\", \"\\u0432\\u0435\\u0434\\u043e\\u043c\\u0441\\u0442\\u0432\\u043e\", \"\\u0432\\u0435\\u0434\\u043e\\u043c\\u0441\\u0442\\u0432\\u043e\", \"\\u0432\\u0435\\u0440\\u0441\\u0438\\u044f\", \"\\u0432\\u0435\\u0440\\u0441\\u0438\\u044f\", \"\\u0432\\u0435\\u0440\\u0441\\u0438\\u044f\", \"\\u0432\\u0435\\u0440\\u0442\\u043e\\u043b\\u0451\\u0442\", \"\\u0432\\u0435\\u0441\\u044c\", \"\\u0432\\u0435\\u0441\\u044c\", \"\\u0432\\u0435\\u0441\\u044c\", \"\\u0432\\u0435\\u0441\\u044c\", \"\\u0432\\u0435\\u0441\\u044c\", \"\\u0432\\u0435\\u0441\\u044c\", \"\\u0432\\u0435\\u0441\\u044c\", \"\\u0432\\u0437\\u0440\\u044b\\u0432\", \"\\u0432\\u0438\\u0434\\u0435\\u043e\", \"\\u0432\\u0438\\u043d\\u043e\\u0432\\u043d\\u044b\\u0439\", \"\\u0432\\u043b\\u0430\\u0434\\u0435\\u043b\\u0435\\u0446\", \"\\u0432\\u043b\\u0430\\u0434\\u0438\\u043c\\u0438\\u0440\", \"\\u0432\\u043b\\u0430\\u0434\\u0438\\u043c\\u0438\\u0440\", \"\\u0432\\u043b\\u0430\\u0441\\u0442\\u044c\", \"\\u0432\\u043b\\u0430\\u0441\\u0442\\u044c\", \"\\u0432\\u043b\\u0430\\u0441\\u0442\\u044c\", \"\\u0432\\u043b\\u0430\\u0441\\u0442\\u044c\", \"\\u0432\\u043c\\u0441\", \"\\u0432\\u043e\\u0435\\u043d\\u043d\\u044b\\u0439\", \"\\u0432\\u043e\\u0435\\u043d\\u043d\\u044b\\u0439\", \"\\u0432\\u043e\\u0435\\u043d\\u043d\\u044b\\u0439\", \"\\u0432\\u043e\\u0435\\u043d\\u043d\\u044b\\u0439\", \"\\u0432\\u043e\\u0437\\u0431\\u0443\\u0434\\u0438\\u0442\\u044c\", \"\\u0432\\u043e\\u0437\\u0434\\u0443\\u0445\", \"\\u0432\\u043e\\u0439\\u043d\\u0430\", \"\\u0432\\u043e\\u0439\\u0441\\u043a\\u043e\", \"\\u0432\\u043e\\u0439\\u0441\\u043a\\u043e\", \"\\u0432\\u043e\\u043e\\u0440\\u0443\\u0436\\u0435\\u043d\\u0438\\u0435\", \"\\u0432\\u043e\\u043f\\u0440\\u043e\\u0441\", \"\\u0432\\u043e\\u043f\\u0440\\u043e\\u0441\", \"\\u0432\\u0440\\u0430\\u0447\", \"\\u0432\\u0440\\u0435\\u043c\\u044f\", \"\\u0432\\u0440\\u0435\\u043c\\u044f\", \"\\u0432\\u0440\\u0435\\u043c\\u044f\", \"\\u0432\\u0440\\u0435\\u043c\\u044f\", \"\\u0432\\u0440\\u0435\\u043c\\u044f\", \"\\u0432\\u0440\\u0435\\u043c\\u044f\", \"\\u0432\\u0440\\u0435\\u043c\\u044f\", \"\\u0432\\u0441\\u0442\\u0440\\u0435\\u0447\\u0430\", \"\\u0432\\u044b\\u0431\\u043e\\u0440\\u044b\", \"\\u0432\\u044b\\u0439\\u0442\\u0438\", \"\\u0432\\u044b\\u0439\\u0442\\u0438\", \"\\u0432\\u044b\\u0439\\u0442\\u0438\", \"\\u0432\\u044b\\u0439\\u0442\\u0438\", \"\\u0432\\u044b\\u0439\\u0442\\u0438\", \"\\u0432\\u044b\\u0440\\u0430\\u0441\\u0442\\u0438\", \"\\u0432\\u044b\\u0445\\u043e\\u0434\", \"\\u0432\\u044b\\u0445\\u043e\\u0434\", \"\\u0433\\u0430\\u0437\", \"\\u0433\\u0430\\u0437\", \"\\u0433\\u0430\\u0437\\u043f\\u0440\\u043e\\u043c\", \"\\u0433\\u043b\\u0430\\u0432\\u0430\", \"\\u0433\\u043b\\u0430\\u0432\\u0430\", \"\\u0433\\u043b\\u0430\\u0432\\u0430\", \"\\u0433\\u043b\\u0430\\u0432\\u0430\", \"\\u0433\\u043e\\u0434\", \"\\u0433\\u043e\\u0434\", \"\\u0433\\u043e\\u0434\", \"\\u0433\\u043e\\u0434\", \"\\u0433\\u043e\\u0434\", \"\\u0433\\u043e\\u0434\", \"\\u0433\\u043e\\u0434\", \"\\u0433\\u043e\\u043b\\u043e\\u0441\", \"\\u0433\\u043e\\u043b\\u043e\\u0441\\u043e\\u0432\\u0430\\u043d\\u0438\\u0435\", \"\\u0433\\u043e\\u0440\\u043e\\u0434\", \"\\u0433\\u043e\\u0440\\u043e\\u0434\", \"\\u0433\\u043e\\u0440\\u043e\\u0434\", \"\\u0433\\u043e\\u0440\\u043e\\u0434\", \"\\u0433\\u043e\\u0441\\u0434\\u0443\\u043c\\u0430\", \"\\u0433\\u043e\\u0441\\u0443\\u0434\\u0430\\u0440\\u0441\\u0442\\u0432\\u043e\", \"\\u0433\\u043e\\u0441\\u0443\\u0434\\u0430\\u0440\\u0441\\u0442\\u0432\\u043e\", \"\\u0433\\u043e\\u0441\\u0443\\u0434\\u0430\\u0440\\u0441\\u0442\\u0432\\u043e\", \"\\u0433\\u0440\\u0443\\u0437\\u0438\\u044f\", \"\\u0434\\u0430\\u043d\\u043d\\u044b\\u0435\", \"\\u0434\\u0430\\u043d\\u043d\\u044b\\u0435\", \"\\u0434\\u0430\\u043d\\u043d\\u044b\\u0435\", \"\\u0434\\u0430\\u043d\\u043d\\u044b\\u0435\", \"\\u0434\\u0430\\u043d\\u043d\\u044b\\u0435\", \"\\u0434\\u0430\\u043d\\u043d\\u044b\\u0435\", \"\\u0434\\u0430\\u043d\\u043d\\u044b\\u0435\", \"\\u0434\\u0435\\u043b\\u043e\", \"\\u0434\\u0435\\u043b\\u043e\", \"\\u0434\\u0435\\u043b\\u043e\", \"\\u0434\\u0435\\u043f\\u0443\\u0442\\u0430\\u0442\", \"\\u0434\\u0435\\u043f\\u0443\\u0442\\u0430\\u0442\", \"\\u0434\\u0435\\u044f\\u0442\\u0435\\u043b\\u044c\\u043d\\u043e\\u0441\\u0442\\u044c\", \"\\u0434\\u0435\\u044f\\u0442\\u0435\\u043b\\u044c\\u043d\\u043e\\u0441\\u0442\\u044c\", \"\\u0434\\u0435\\u044f\\u0442\\u0435\\u043b\\u044c\\u043d\\u043e\\u0441\\u0442\\u044c\", \"\\u0434\\u0436\\u043e\\u043d\", \"\\u0434\\u043c\\u0438\\u0442\\u0440\\u0438\\u0439\", \"\\u0434\\u043e\\u043a\\u0443\\u043c\\u0435\\u043d\\u0442\", \"\\u0434\\u043e\\u043a\\u0443\\u043c\\u0435\\u043d\\u0442\", \"\\u0434\\u043e\\u043a\\u0443\\u043c\\u0435\\u043d\\u0442\", \"\\u0434\\u043e\\u043b\\u0433\", \"\\u0434\\u043e\\u043b\\u0436\\u043d\\u044b\\u0439\", \"\\u0434\\u043e\\u043b\\u0436\\u043d\\u044b\\u0439\", \"\\u0434\\u043e\\u043b\\u0436\\u043d\\u044b\\u0439\", \"\\u0434\\u043e\\u043b\\u0436\\u043d\\u044b\\u0439\", \"\\u0434\\u043e\\u043b\\u0436\\u043d\\u044b\\u0439\", \"\\u0434\\u043e\\u043b\\u043b\\u0430\\u0440\", \"\\u0434\\u043e\\u043b\\u044f\", \"\\u0434\\u043e\\u043c\", \"\\u0434\\u043e\\u043c\", \"\\u0434\\u043e\\u043c\", \"\\u0434\\u043e\\u0440\\u043e\\u0433\\u0430\", \"\\u0434\\u043e\\u0440\\u043e\\u0433\\u0430\", \"\\u0434\\u043e\\u0441\\u0442\\u0443\\u043f\\u043d\\u044b\\u0439\", \"\\u0434\\u043e\\u0445\\u043e\\u0434\", \"\\u0435\\u0432\\u0440\\u043e\", \"\\u0436\\u0435\\u043d\\u0449\\u0438\\u043d\\u0430\", \"\\u0436\\u0438\\u0432\\u043e\\u0442\\u043d\\u043e\\u0435\", \"\\u0436\\u0438\\u0442\\u0435\\u043b\\u044c\", \"\\u0436\\u0438\\u0442\\u0435\\u043b\\u044c\", \"\\u0436\\u0438\\u0442\\u0435\\u043b\\u044c\", \"\\u0436\\u0438\\u0442\\u0435\\u043b\\u044c\", \"\\u0436\\u0443\\u0440\\u043d\\u0430\\u043b\", \"\\u0436\\u0443\\u0440\\u043d\\u0430\\u043b\", \"\\u0437\\u0430\\u0434\\u0435\\u0440\\u0436\\u0430\\u0442\\u044c\", \"\\u0437\\u0430\\u043a\\u043e\\u043d\", \"\\u0437\\u0430\\u043a\\u043e\\u043d\\u043e\\u0434\\u0430\\u0442\\u0435\\u043b\\u044c\\u0441\\u0442\\u0432\\u043e\", \"\\u0437\\u0430\\u043a\\u043e\\u043d\\u043e\\u043f\\u0440\\u043e\\u0435\\u043a\\u0442\", \"\\u0437\\u0430\\u043d\\u044f\\u0442\\u044c\", \"\\u0437\\u0430\\u043f\\u0443\\u0441\\u043a\", \"\\u0437\\u0430\\u043f\\u0443\\u0441\\u0442\\u0438\\u0442\\u044c\", \"\\u0437\\u0430\\u043f\\u0443\\u0441\\u0442\\u0438\\u0442\\u044c\", \"\\u0437\\u0430\\u044f\\u0432\\u0438\\u0442\\u044c\", \"\\u0437\\u0430\\u044f\\u0432\\u0438\\u0442\\u044c\", \"\\u0437\\u0430\\u044f\\u0432\\u0438\\u0442\\u044c\", \"\\u0437\\u0430\\u044f\\u0432\\u0438\\u0442\\u044c\", \"\\u0437\\u0430\\u044f\\u0432\\u0438\\u0442\\u044c\", \"\\u0437\\u0430\\u044f\\u0432\\u0438\\u0442\\u044c\", \"\\u0437\\u0434\\u0430\\u043d\\u0438\\u0435\", \"\\u0437\\u0434\\u0430\\u043d\\u0438\\u0435\", \"\\u0437\\u0435\\u043c\\u043b\\u0435\\u0442\\u0440\\u044f\\u0441\\u0435\\u043d\\u0438\\u0435\", \"\\u0438\\u0433\\u043e\\u0440\\u044c\", \"\\u0438\\u0433\\u0440\\u0430\", \"\\u0438\\u0437\\u043e\\u0431\\u0440\\u0430\\u0436\\u0435\\u043d\\u0438\\u0435\", \"\\u0438\\u0437\\u0440\\u0430\\u0438\\u043b\\u044c\", \"\\u0438\\u0437\\u0440\\u0430\\u0438\\u043b\\u044c\\u0441\\u043a\\u0438\\u0439\", \"\\u0438\\u043d\\u0442\\u0435\\u0440\\u043d\\u0435\\u0442\", \"\\u0438\\u043d\\u0442\\u0435\\u0440\\u043d\\u0435\\u0442\", \"\\u0438\\u043d\\u0442\\u0435\\u0440\\u043d\\u0435\\u0442\", \"\\u0438\\u043d\\u0442\\u0435\\u0440\\u043d\\u0435\\u0442\", \"\\u0438\\u043d\\u0444\\u043e\\u0440\\u043c\\u0430\\u0446\\u0438\\u044f\", \"\\u0438\\u043d\\u0444\\u043e\\u0440\\u043c\\u0430\\u0446\\u0438\\u044f\", \"\\u0438\\u043d\\u0444\\u043e\\u0440\\u043c\\u0430\\u0446\\u0438\\u044f\", \"\\u0438\\u043d\\u0444\\u043e\\u0440\\u043c\\u0430\\u0446\\u0438\\u044f\", \"\\u0438\\u043d\\u0444\\u043e\\u0440\\u043c\\u0430\\u0446\\u0438\\u044f\", \"\\u0438\\u043d\\u0444\\u043e\\u0440\\u043c\\u0430\\u0446\\u0438\\u044f\", \"\\u0438\\u043d\\u0444\\u043e\\u0440\\u043c\\u0430\\u0446\\u0438\\u044f\", \"\\u0438\\u043d\\u0446\\u0438\\u0434\\u0435\\u043d\\u0442\", \"\\u0438\\u043d\\u0446\\u0438\\u0434\\u0435\\u043d\\u0442\", \"\\u0438\\u0440\\u0430\\u043a\", \"\\u0438\\u0440\\u0430\\u043a\\u0441\\u043a\\u0438\\u0439\", \"\\u0438\\u0440\\u0430\\u043d\", \"\\u0438\\u0441\\u043a\", \"\\u0438\\u0441\\u043a\", \"\\u0438\\u0441\\u043a\", \"\\u0438\\u0441\\u043b\\u0430\\u043c\\u0441\\u043a\\u0438\\u0439\", \"\\u0438\\u0441\\u043f\\u043e\\u043b\\u044c\\u0437\\u043e\\u0432\\u0430\\u043d\\u0438\\u0435\", \"\\u0438\\u0441\\u043f\\u043e\\u043b\\u044c\\u0437\\u043e\\u0432\\u0430\\u043d\\u0438\\u0435\", \"\\u0438\\u0441\\u043f\\u043e\\u043b\\u044c\\u0437\\u043e\\u0432\\u0430\\u0442\\u044c\", \"\\u0438\\u0441\\u043f\\u043e\\u043b\\u044c\\u0437\\u043e\\u0432\\u0430\\u0442\\u044c\", \"\\u0438\\u0441\\u043f\\u043e\\u043b\\u044c\\u0437\\u043e\\u0432\\u0430\\u0442\\u044c\", \"\\u0438\\u0441\\u043f\\u043e\\u043b\\u044c\\u0437\\u043e\\u0432\\u0430\\u0442\\u044c\", \"\\u0438\\u0441\\u0441\\u043b\\u0435\\u0434\\u043e\\u0432\\u0430\\u043d\\u0438\\u0435\", \"\\u0438\\u0441\\u0441\\u043b\\u0435\\u0434\\u043e\\u0432\\u0430\\u043d\\u0438\\u0435\", \"\\u0438\\u0441\\u0441\\u043b\\u0435\\u0434\\u043e\\u0432\\u0430\\u0442\\u0435\\u043b\\u044c\", \"\\u0438\\u0441\\u0442\\u0440\\u0435\\u0431\\u0438\\u0442\\u0435\\u043b\\u044c\", \"\\u043a\\u0430\\u0437\\u0430\\u0445\\u0441\\u0442\\u0430\\u043d\", \"\\u043a\\u0430\\u043c\\u0435\\u0440\\u0430\", \"\\u043a\\u0430\\u043d\\u0430\\u043b\", \"\\u043a\\u0430\\u043d\\u0430\\u043b\", \"\\u043a\\u0430\\u043d\\u0434\\u0438\\u0434\\u0430\\u0442\", \"\\u043a\\u0430\\u0440\\u0442\\u0430\", \"\\u043a\\u0430\\u0442\\u0430\\u0441\\u0442\\u0440\\u043e\\u0444\\u0430\", \"\\u043a\\u0432\\u0430\\u0440\\u0442\\u0430\\u043b\", \"\\u043a\\u0438\\u0442\\u0430\\u0439\", \"\\u043a\\u0438\\u0442\\u0430\\u0439\\u0441\\u043a\\u0438\\u0439\", \"\\u043a\\u043e\\u043c\\u0438\\u0441\\u0441\\u0438\\u044f\", \"\\u043a\\u043e\\u043c\\u0438\\u0441\\u0441\\u0438\\u044f\", \"\\u043a\\u043e\\u043c\\u0438\\u0441\\u0441\\u0438\\u044f\", \"\\u043a\\u043e\\u043c\\u0438\\u0441\\u0441\\u0438\\u044f\", \"\\u043a\\u043e\\u043c\\u043f\\u0430\\u043d\\u0438\\u044f\", \"\\u043a\\u043e\\u043c\\u043f\\u0430\\u043d\\u0438\\u044f\", \"\\u043a\\u043e\\u043c\\u043f\\u0430\\u043d\\u0438\\u044f\", \"\\u043a\\u043e\\u043c\\u043f\\u043b\\u0435\\u043a\\u0441\", \"\\u043a\\u043e\\u043c\\u043f\\u043b\\u0435\\u043a\\u0441\", \"\\u043a\\u043e\\u043c\\u043f\\u044c\\u044e\\u0442\\u0435\\u0440\", \"\\u043a\\u043e\\u043c\\u043f\\u044c\\u044e\\u0442\\u0435\\u0440\\u043d\\u044b\\u0439\", \"\\u043a\\u043e\\u043d\\u043a\\u0443\\u0440\\u0441\", \"\\u043a\\u043e\\u0440\\u0430\\u0431\\u043b\\u044c\", \"\\u043a\\u043e\\u0440\\u0435\\u044f\", \"\\u043a\\u043e\\u0441\\u043c\\u0438\\u0447\\u0435\\u0441\\u043a\\u0438\\u0439\", \"\\u043a\\u043e\\u0442\\u043e\\u0440\\u044b\\u0439\", \"\\u043a\\u043e\\u0442\\u043e\\u0440\\u044b\\u0439\", \"\\u043a\\u043e\\u0442\\u043e\\u0440\\u044b\\u0439\", \"\\u043a\\u043e\\u0442\\u043e\\u0440\\u044b\\u0439\", \"\\u043a\\u043e\\u0442\\u043e\\u0440\\u044b\\u0439\", \"\\u043a\\u043e\\u0442\\u043e\\u0440\\u044b\\u0439\", \"\\u043a\\u043e\\u0442\\u043e\\u0440\\u044b\\u0439\", \"\\u043a\\u0440\\u0435\\u0434\\u0438\\u0442\", \"\\u043a\\u0440\\u0443\\u043f\\u043d\\u044b\\u0439\", \"\\u043a\\u0440\\u0443\\u043f\\u043d\\u044b\\u0439\", \"\\u043a\\u0440\\u0443\\u043f\\u043d\\u044b\\u0439\", \"\\u043a\\u0440\\u0443\\u043f\\u043d\\u044b\\u0439\", \"\\u043a\\u0440\\u0443\\u043f\\u043d\\u044b\\u0439\", \"\\u043a\\u0440\\u044b\\u043c\", \"\\u043b\\u0430\\u0439\\u043d\\u0435\\u0440\", \"\\u043b\\u0435\\u0442\\u043d\\u0438\\u0439\", \"\\u043b\\u0438\\u0434\\u0435\\u0440\", \"\\u043b\\u0438\\u0434\\u0435\\u0440\", \"\\u043b\\u0438\\u0434\\u0435\\u0440\", \"\\u043b\\u0438\\u0434\\u0435\\u0440\", \"\\u043b\\u044e\\u0431\\u043e\\u0439\", \"\\u043c\\u0430\\u0448\\u0438\\u043d\\u0430\", \"\\u043c\\u0430\\u0448\\u0438\\u043d\\u0430\", \"\\u043c\\u0430\\u0448\\u0438\\u043d\\u0430\", \"\\u043c\\u0432\\u0434\", \"\\u043c\\u0435\\u0434\\u0432\\u0435\\u0434\\u0435\\u0432\", \"\\u043c\\u0435\\u0441\\u0442\\u043d\\u044b\\u0439\", \"\\u043c\\u0435\\u0441\\u0442\\u043d\\u044b\\u0439\", \"\\u043c\\u0435\\u0441\\u0442\\u043d\\u044b\\u0439\", \"\\u043c\\u0435\\u0441\\u0442\\u043d\\u044b\\u0439\", \"\\u043c\\u0435\\u0441\\u0442\\u043e\", \"\\u043c\\u0435\\u0441\\u0442\\u043e\", \"\\u043c\\u0435\\u0441\\u0442\\u043e\", \"\\u043c\\u0435\\u0441\\u0442\\u043e\", \"\\u043c\\u0435\\u0441\\u0442\\u043e\", \"\\u043c\\u0435\\u0441\\u0442\\u043e\", \"\\u043c\\u0438\\u0433\", \"\\u043c\\u0438\\u043b\\u0438\\u0446\\u0438\\u044f\", \"\\u043c\\u0438\\u043b\\u043b\\u0438\\u0430\\u0440\\u0434\", \"\\u043c\\u0438\\u043b\\u043b\\u0438\\u043e\\u043d\", \"\\u043c\\u0438\\u043b\\u043b\\u0438\\u043e\\u043d\", \"\\u043c\\u0438\\u043b\\u043b\\u0438\\u043e\\u043d\", \"\\u043c\\u0438\\u043b\\u043b\\u0438\\u043e\\u043d\", \"\\u043c\\u0438\\u043b\\u043b\\u0438\\u043e\\u043d\", \"\\u043c\\u0438\\u043d\\u0438\\u0441\\u0442\\u0440\", \"\\u043c\\u0438\\u043d\\u0438\\u0441\\u0442\\u0440\", \"\\u043c\\u0438\\u043d\\u0438\\u0441\\u0442\\u0440\", \"\\u043c\\u0438\\u043d\\u0443\\u0442\\u0430\", \"\\u043c\\u0438\\u0440\", \"\\u043c\\u0438\\u0440\", \"\\u043c\\u0438\\u0440\", \"\\u043c\\u0438\\u0440\\u043d\\u044b\\u0439\", \"\\u043c\\u0438\\u0442\\u0438\\u043d\\u0433\", \"\\u043c\\u0438\\u0445\\u0430\\u0438\\u043b\", \"\\u043c\\u043d\\u0435\\u043d\\u0438\\u0435\", \"\\u043c\\u043d\\u0435\\u043d\\u0438\\u0435\", \"\\u043c\\u043d\\u0435\\u043d\\u0438\\u0435\", \"\\u043c\\u043d\\u0435\\u043d\\u0438\\u0435\", \"\\u043c\\u043e\\u0434\\u0435\\u043b\\u044c\", \"\\u043c\\u043e\\u0440\\u0435\", \"\\u043c\\u043e\\u0440\\u0441\\u043a\\u043e\\u0439\", \"\\u043c\\u043e\\u0441\\u043a\\u0432\\u0430\", \"\\u043c\\u043e\\u0441\\u043a\\u0432\\u0430\", \"\\u043c\\u043e\\u0441\\u043a\\u0432\\u0430\", \"\\u043c\\u043e\\u0441\\u0442\", \"\\u043c\\u043e\\u0447\\u044c\", \"\\u043c\\u043e\\u0447\\u044c\", \"\\u043c\\u043e\\u0447\\u044c\", \"\\u043c\\u043e\\u0447\\u044c\", \"\\u043c\\u043e\\u0447\\u044c\", \"\\u043c\\u043e\\u0447\\u044c\", \"\\u043c\\u043e\\u0447\\u044c\", \"\\u043c\\u0443\\u0436\\u0447\\u0438\\u043d\\u0430\", \"\\u043c\\u0447\\u0441\", \"\\u043c\\u044d\\u0440\", \"\\u043c\\u044d\\u0440\", \"\\u043d\\u0430\\u043f\\u0430\\u0434\\u0435\\u043d\\u0438\\u0435\", \"\\u043d\\u0430\\u0442\\u043e\", \"\\u043d\\u0430\\u0443\\u043a\\u0430\", \"\\u043d\\u0430\\u0445\\u043e\\u0434\\u0438\\u0442\\u044c\\u0441\\u044f\", \"\\u043d\\u0430\\u0445\\u043e\\u0434\\u0438\\u0442\\u044c\\u0441\\u044f\", \"\\u043d\\u0430\\u0445\\u043e\\u0434\\u0438\\u0442\\u044c\\u0441\\u044f\", \"\\u043d\\u0430\\u0445\\u043e\\u0434\\u0438\\u0442\\u044c\\u0441\\u044f\", \"\\u043d\\u0430\\u0445\\u043e\\u0434\\u0438\\u0442\\u044c\\u0441\\u044f\", \"\\u043d\\u0430\\u0445\\u043e\\u0434\\u0438\\u0442\\u044c\\u0441\\u044f\", \"\\u043d\\u0435\\u0441\\u043a\\u043e\\u043b\\u044c\\u043a\\u043e\", \"\\u043d\\u0435\\u0441\\u043a\\u043e\\u043b\\u044c\\u043a\\u043e\", \"\\u043d\\u0435\\u0441\\u043a\\u043e\\u043b\\u044c\\u043a\\u043e\", \"\\u043d\\u0435\\u0441\\u043a\\u043e\\u043b\\u044c\\u043a\\u043e\", \"\\u043d\\u0435\\u0441\\u043a\\u043e\\u043b\\u044c\\u043a\\u043e\", \"\\u043d\\u0435\\u0441\\u043a\\u043e\\u043b\\u044c\\u043a\\u043e\", \"\\u043d\\u0435\\u0441\\u043a\\u043e\\u043b\\u044c\\u043a\\u043e\", \"\\u043d\\u0435\\u0444\\u0442\\u044c\", \"\\u043d\\u043e\\u0432\\u043e\\u0441\\u0442\\u044c\", \"\\u043d\\u043e\\u0432\\u043e\\u0441\\u0442\\u044c\", \"\\u043d\\u043e\\u0432\\u043e\\u0441\\u0442\\u044c\", \"\\u043d\\u043e\\u0432\\u043e\\u0441\\u0442\\u044c\", \"\\u043d\\u043e\\u0432\\u043e\\u0441\\u0442\\u044c\", \"\\u043d\\u043e\\u0432\\u043e\\u0441\\u0442\\u044c\", \"\\u043d\\u043e\\u0432\\u044b\\u0439\", \"\\u043d\\u043e\\u0432\\u044b\\u0439\", \"\\u043d\\u043e\\u0432\\u044b\\u0439\", \"\\u043d\\u043e\\u0432\\u044b\\u0439\", \"\\u043d\\u043e\\u0432\\u044b\\u0439\", \"\\u043e\\u0431\\u0430\\u043c\\u0430\", \"\\u043e\\u0431\\u0432\\u0438\\u043d\\u044f\\u0442\\u044c\", \"\\u043e\\u0431\\u0432\\u0438\\u043d\\u044f\\u0442\\u044c\", \"\\u043e\\u0431\\u043d\\u0430\\u0440\\u0443\\u0436\\u0438\\u0442\\u044c\", \"\\u043e\\u0431\\u043d\\u0430\\u0440\\u0443\\u0436\\u0438\\u0442\\u044c\", \"\\u043e\\u0431\\u043d\\u0430\\u0440\\u0443\\u0436\\u0438\\u0442\\u044c\", \"\\u043e\\u0431\\u0440\\u0430\\u0437\\u043e\\u0432\\u0430\\u043d\\u0438\\u0435\", \"\\u043e\\u0431\\u044a\\u0451\\u043c\", \"\\u043e\\u0433\\u0440\\u0430\\u043d\\u0438\\u0447\\u0435\\u043d\\u0438\\u0435\", \"\\u043e\\u0434\\u043d\\u0430\\u043a\\u043e\", \"\\u043e\\u0434\\u043d\\u0430\\u043a\\u043e\", \"\\u043e\\u0434\\u043d\\u0430\\u043a\\u043e\", \"\\u043e\\u0434\\u043d\\u0430\\u043a\\u043e\", \"\\u043e\\u0434\\u043d\\u0430\\u043a\\u043e\", \"\\u043e\\u0434\\u043d\\u0430\\u043a\\u043e\", \"\\u043e\\u0434\\u043d\\u0430\\u043a\\u043e\", \"\\u043e\\u043a\\u043e\\u043b\\u043e\", \"\\u043e\\u043a\\u043e\\u043b\\u043e\", \"\\u043e\\u043a\\u043e\\u043b\\u043e\", \"\\u043e\\u043a\\u043e\\u043b\\u043e\", \"\\u043e\\u043a\\u043e\\u043b\\u043e\", \"\\u043e\\u043a\\u043e\\u043b\\u043e\", \"\\u043e\\u043a\\u043e\\u043b\\u043e\", \"\\u043e\\u043e\\u043d\", \"\\u043e\\u043f\\u0443\\u0431\\u043b\\u0438\\u043a\\u043e\\u0432\\u0430\\u0442\\u044c\", \"\\u043e\\u043f\\u0443\\u0431\\u043b\\u0438\\u043a\\u043e\\u0432\\u0430\\u0442\\u044c\", \"\\u043e\\u043f\\u0443\\u0431\\u043b\\u0438\\u043a\\u043e\\u0432\\u0430\\u0442\\u044c\", \"\\u043e\\u043f\\u0443\\u0431\\u043b\\u0438\\u043a\\u043e\\u0432\\u0430\\u0442\\u044c\", \"\\u043e\\u043f\\u0443\\u0431\\u043b\\u0438\\u043a\\u043e\\u0432\\u0430\\u0442\\u044c\", \"\\u043e\\u043f\\u0443\\u0431\\u043b\\u0438\\u043a\\u043e\\u0432\\u0430\\u0442\\u044c\", \"\\u043e\\u0440\\u0431\\u0438\\u0442\\u0430\", \"\\u043e\\u0440\\u0433\\u0430\\u043d\\u0438\\u0437\\u0430\\u0446\\u0438\\u044f\", \"\\u043e\\u0440\\u0433\\u0430\\u043d\\u0438\\u0437\\u0430\\u0446\\u0438\\u044f\", \"\\u043e\\u0440\\u0433\\u0430\\u043d\\u0438\\u0437\\u0430\\u0446\\u0438\\u044f\", \"\\u043e\\u0440\\u0433\\u0430\\u043d\\u0438\\u0437\\u0430\\u0446\\u0438\\u044f\", \"\\u043e\\u0441\\u0442\\u0440\\u043e\\u0432\", \"\\u043e\\u0442\\u043c\\u0435\\u0442\\u0438\\u0442\\u044c\", \"\\u043e\\u0442\\u043c\\u0435\\u0442\\u0438\\u0442\\u044c\", \"\\u043e\\u0442\\u043c\\u0435\\u0442\\u0438\\u0442\\u044c\", \"\\u043e\\u0442\\u043c\\u0435\\u0442\\u0438\\u0442\\u044c\", \"\\u043e\\u0442\\u043c\\u0435\\u0442\\u0438\\u0442\\u044c\", \"\\u043e\\u0442\\u043c\\u0435\\u0442\\u0438\\u0442\\u044c\", \"\\u043e\\u0442\\u043c\\u0435\\u0442\\u0438\\u0442\\u044c\", \"\\u043e\\u0442\\u0441\\u0442\\u0430\\u0432\\u043a\\u0430\", \"\\u043f\\u0430\\u043a\\u0435\\u0442\", \"\\u043f\\u0430\\u043b\\u0435\\u0441\\u0442\\u0438\\u043d\\u0441\\u043a\\u0438\\u0439\", \"\\u043f\\u0430\\u0440\\u0442\\u0438\\u044f\", \"\\u043f\\u0430\\u0440\\u0442\\u0438\\u044f\", \"\\u043f\\u0430\\u0441\\u0441\\u0430\\u0436\\u0438\\u0440\", \"\\u043f\\u0430\\u0441\\u0441\\u0430\\u0436\\u0438\\u0440\", \"\\u043f\\u0435\\u0440\\u0432\\u044b\\u0439\", \"\\u043f\\u0435\\u0440\\u0432\\u044b\\u0439\", \"\\u043f\\u0435\\u0440\\u0432\\u044b\\u0439\", \"\\u043f\\u0435\\u0440\\u0432\\u044b\\u0439\", \"\\u043f\\u0435\\u0440\\u0432\\u044b\\u0439\", \"\\u043f\\u0435\\u0440\\u0432\\u044b\\u0439\", \"\\u043f\\u0435\\u0440\\u0432\\u044b\\u0439\", \"\\u043f\\u0435\\u0440\\u0435\\u0433\\u043e\\u0432\\u043e\\u0440\\u044b\", \"\\u043f\\u0435\\u0440\\u0435\\u0433\\u043e\\u0432\\u043e\\u0440\\u044b\", \"\\u043f\\u0435\\u0440\\u0435\\u0433\\u043e\\u0432\\u043e\\u0440\\u044b\", \"\\u043f\\u0438\\u043b\\u043e\\u0442\", \"\\u043f\\u0438\\u0441\\u044c\\u043c\\u043e\", \"\\u043f\\u043b\\u0430\\u043d\\u0438\\u0440\\u043e\\u0432\\u0430\\u0442\\u044c\\u0441\\u044f\", \"\\u043f\\u043b\\u0430\\u043d\\u0438\\u0440\\u043e\\u0432\\u0430\\u0442\\u044c\\u0441\\u044f\", \"\\u043f\\u043b\\u0430\\u043d\\u0438\\u0440\\u043e\\u0432\\u0430\\u0442\\u044c\\u0441\\u044f\", \"\\u043f\\u043b\\u0430\\u043d\\u0438\\u0440\\u043e\\u0432\\u0430\\u0442\\u044c\\u0441\\u044f\", \"\\u043f\\u043e\\u0432\\u044b\\u0448\\u0435\\u043d\\u0438\\u0435\", \"\\u043f\\u043e\\u0433\\u0438\\u0431\\u043d\\u0443\\u0442\\u044c\", \"\\u043f\\u043e\\u0433\\u0438\\u0431\\u043d\\u0443\\u0442\\u044c\", \"\\u043f\\u043e\\u0434\\u0430\\u0442\\u044c\", \"\\u043f\\u043e\\u0434\\u0430\\u0442\\u044c\", \"\\u043f\\u043e\\u0434\\u0430\\u0442\\u044c\", \"\\u043f\\u043e\\u0434\\u043e\\u0437\\u0440\\u0435\\u0432\\u0430\\u0442\\u044c\", \"\\u043f\\u043e\\u0436\\u0430\\u0440\", \"\\u043f\\u043e\\u0436\\u0430\\u0440\\u043d\\u044b\\u0439\", \"\\u043f\\u043e\\u0437\\u0432\\u043e\\u043b\\u044f\\u0442\\u044c\", \"\\u043f\\u043e\\u043a\\u0430\\u0437\\u0430\\u0442\\u0435\\u043b\\u044c\", \"\\u043f\\u043e\\u043a\\u0443\\u043f\\u043a\\u0430\", \"\\u043f\\u043e\\u043b\\u0438\\u0442\\u0438\\u0447\\u0435\\u0441\\u043a\\u0438\\u0439\", \"\\u043f\\u043e\\u043b\\u0438\\u0446\\u0435\\u0439\\u0441\\u043a\\u0438\\u0439\", \"\\u043f\\u043e\\u043b\\u0438\\u0446\\u0438\\u044f\", \"\\u043f\\u043e\\u043b\\u0438\\u0446\\u0438\\u044f\", \"\\u043f\\u043e\\u043b\\u0443\\u0447\\u0435\\u043d\\u0438\\u0435\", \"\\u043f\\u043e\\u043b\\u0443\\u0447\\u0438\\u0442\\u044c\", \"\\u043f\\u043e\\u043b\\u0443\\u0447\\u0438\\u0442\\u044c\", \"\\u043f\\u043e\\u043b\\u0443\\u0447\\u0438\\u0442\\u044c\", \"\\u043f\\u043e\\u043b\\u0443\\u0447\\u0438\\u0442\\u044c\", \"\\u043f\\u043e\\u043b\\u0443\\u0447\\u0438\\u0442\\u044c\", \"\\u043f\\u043e\\u043b\\u0443\\u0447\\u0438\\u0442\\u044c\", \"\\u043f\\u043e\\u043b\\u0443\\u0447\\u0438\\u0442\\u044c\", \"\\u043f\\u043e\\u043b\\u044c\\u0437\\u043e\\u0432\\u0430\\u0442\\u0435\\u043b\\u044c\", \"\\u043f\\u043e\\u043c\\u043e\\u0449\\u044c\", \"\\u043f\\u043e\\u043c\\u043e\\u0449\\u044c\", \"\\u043f\\u043e\\u043c\\u043e\\u0449\\u044c\", \"\\u043f\\u043e\\u043c\\u043e\\u0449\\u044c\", \"\\u043f\\u043e\\u043c\\u043e\\u0449\\u044c\", \"\\u043f\\u043e\\u043c\\u043e\\u0449\\u044c\", \"\\u043f\\u043e\\u0440\\u0442\", \"\\u043f\\u043e\\u0441\\u0442\", \"\\u043f\\u043e\\u0441\\u0442\", \"\\u043f\\u043e\\u0441\\u0442\\u0430\\u0432\\u043a\\u0430\", \"\\u043f\\u043e\\u0441\\u0442\\u0440\\u0430\\u0434\\u0430\\u0442\\u044c\", \"\\u043f\\u043e\\u0441\\u0442\\u0440\\u0430\\u0434\\u0430\\u0442\\u044c\", \"\\u043f\\u043e\\u0441\\u0442\\u0440\\u043e\\u0438\\u0442\\u044c\", \"\\u043f\\u0440\\u0430\\u0432\\u0438\\u0442\\u0435\\u043b\\u044c\\u0441\\u0442\\u0432\\u043e\", \"\\u043f\\u0440\\u0430\\u0432\\u0438\\u0442\\u0435\\u043b\\u044c\\u0441\\u0442\\u0432\\u043e\", \"\\u043f\\u0440\\u0430\\u0432\\u0438\\u0442\\u0435\\u043b\\u044c\\u0441\\u0442\\u0432\\u043e\", \"\\u043f\\u0440\\u0430\\u0432\\u043e\", \"\\u043f\\u0440\\u0430\\u0432\\u043e\", \"\\u043f\\u0440\\u0430\\u0432\\u043e\", \"\\u043f\\u0440\\u0430\\u0432\\u043e\\u043e\\u0445\\u0440\\u0430\\u043d\\u0438\\u0442\\u0435\\u043b\\u044c\\u043d\\u044b\\u0439\", \"\\u043f\\u0440\\u0430\\u0432\\u043e\\u043e\\u0445\\u0440\\u0430\\u043d\\u0438\\u0442\\u0435\\u043b\\u044c\\u043d\\u044b\\u0439\", \"\\u043f\\u0440\\u0435\\u0434\\u043b\\u043e\\u0436\\u0438\\u0442\\u044c\", \"\\u043f\\u0440\\u0435\\u0434\\u043b\\u043e\\u0436\\u0438\\u0442\\u044c\", \"\\u043f\\u0440\\u0435\\u0434\\u043b\\u043e\\u0436\\u0438\\u0442\\u044c\", \"\\u043f\\u0440\\u0435\\u0434\\u043b\\u043e\\u0436\\u0438\\u0442\\u044c\", \"\\u043f\\u0440\\u0435\\u0434\\u043b\\u043e\\u0436\\u0438\\u0442\\u044c\", \"\\u043f\\u0440\\u0435\\u0434\\u0441\\u0435\\u0434\\u0430\\u0442\\u0435\\u043b\\u044c\", \"\\u043f\\u0440\\u0435\\u0434\\u0441\\u0435\\u0434\\u0430\\u0442\\u0435\\u043b\\u044c\", \"\\u043f\\u0440\\u0435\\u0434\\u0441\\u0435\\u0434\\u0430\\u0442\\u0435\\u043b\\u044c\", \"\\u043f\\u0440\\u0435\\u0434\\u0441\\u0442\\u0430\\u0432\\u0438\\u0442\\u0435\\u043b\\u044c\", \"\\u043f\\u0440\\u0435\\u0434\\u0441\\u0442\\u0430\\u0432\\u0438\\u0442\\u0435\\u043b\\u044c\", \"\\u043f\\u0440\\u0435\\u0434\\u0441\\u0442\\u0430\\u0432\\u0438\\u0442\\u0435\\u043b\\u044c\", \"\\u043f\\u0440\\u0435\\u0434\\u0441\\u0442\\u0430\\u0432\\u0438\\u0442\\u0435\\u043b\\u044c\", \"\\u043f\\u0440\\u0435\\u0434\\u0441\\u0442\\u0430\\u0432\\u0438\\u0442\\u0435\\u043b\\u044c\", \"\\u043f\\u0440\\u0435\\u0434\\u0441\\u0442\\u0430\\u0432\\u0438\\u0442\\u0435\\u043b\\u044c\", \"\\u043f\\u0440\\u0435\\u0434\\u044a\\u044f\\u0432\\u0438\\u0442\\u044c\", \"\\u043f\\u0440\\u0435\\u0437\\u0438\\u0434\\u0435\\u043d\\u0442\", \"\\u043f\\u0440\\u0435\\u0437\\u0438\\u0434\\u0435\\u043d\\u0442\", \"\\u043f\\u0440\\u0435\\u0437\\u0438\\u0434\\u0435\\u043d\\u0442\", \"\\u043f\\u0440\\u0435\\u0437\\u0438\\u0434\\u0435\\u043d\\u0442\\u0441\\u043a\\u0438\\u0439\", \"\\u043f\\u0440\\u0435\\u043c\\u0438\\u044f\", \"\\u043f\\u0440\\u0435\\u0441\\u0442\\u0443\\u043f\\u043b\\u0435\\u043d\\u0438\\u0435\", \"\\u043f\\u0440\\u0435\\u0441\\u0442\\u0443\\u043f\\u043d\\u0438\\u043a\", \"\\u043f\\u0440\\u0438\\u0433\\u043e\\u0432\\u043e\\u0440\\u0438\\u0442\\u044c\", \"\\u043f\\u0440\\u0438\\u043b\\u043e\\u0436\\u0435\\u043d\\u0438\\u0435\", \"\\u043f\\u0440\\u0438\\u043d\\u044f\\u0442\\u044c\", \"\\u043f\\u0440\\u0438\\u043d\\u044f\\u0442\\u044c\", \"\\u043f\\u0440\\u0438\\u043d\\u044f\\u0442\\u044c\", \"\\u043f\\u0440\\u0438\\u043d\\u044f\\u0442\\u044c\", \"\\u043f\\u0440\\u043e\\u0433\\u0440\\u0430\\u043c\\u043c\\u0430\", \"\\u043f\\u0440\\u043e\\u0433\\u0440\\u0430\\u043c\\u043c\\u0430\", \"\\u043f\\u0440\\u043e\\u0433\\u0440\\u0430\\u043c\\u043c\\u0430\", \"\\u043f\\u0440\\u043e\\u0433\\u0440\\u0430\\u043c\\u043c\\u0430\", \"\\u043f\\u0440\\u043e\\u0434\\u0430\\u0436\\u0430\", \"\\u043f\\u0440\\u043e\\u0434\\u0430\\u0436\\u0430\", \"\\u043f\\u0440\\u043e\\u0434\\u0430\\u0442\\u044c\", \"\\u043f\\u0440\\u043e\\u0435\\u043a\\u0442\", \"\\u043f\\u0440\\u043e\\u0438\\u0437\\u043e\\u0439\\u0442\\u0438\", \"\\u043f\\u0440\\u043e\\u0438\\u0437\\u043e\\u0439\\u0442\\u0438\", \"\\u043f\\u0440\\u043e\\u0438\\u0437\\u043e\\u0439\\u0442\\u0438\", \"\\u043f\\u0440\\u043e\\u0438\\u0441\\u0448\\u0435\\u0441\\u0442\\u0432\\u0438\\u0435\", \"\\u043f\\u0440\\u043e\\u043a\\u0443\\u0440\\u0430\\u0442\\u0443\\u0440\\u0430\", \"\\u043f\\u0440\\u043e\\u043a\\u0443\\u0440\\u0430\\u0442\\u0443\\u0440\\u0430\", \"\\u043f\\u0440\\u043e\\u0442\\u0438\\u0432\", \"\\u043f\\u0440\\u043e\\u0442\\u0438\\u0432\", \"\\u043f\\u0440\\u043e\\u0442\\u0438\\u0432\", \"\\u043f\\u0440\\u043e\\u0442\\u0438\\u0432\", \"\\u043f\\u0440\\u043e\\u0446\\u0435\\u043d\\u0442\", \"\\u043f\\u0440\\u043e\\u0446\\u0435\\u043d\\u0442\", \"\\u043f\\u0443\\u0431\\u043b\\u0438\\u043a\\u0430\\u0446\\u0438\\u044f\", \"\\u043f\\u0443\\u0442\\u0438\\u043d\", \"\\u043f\\u0443\\u0442\\u0438\\u043d\", \"\\u0440\\u0430\\u0431\\u043e\\u0442\\u0430\", \"\\u0440\\u0430\\u0431\\u043e\\u0442\\u0430\", \"\\u0440\\u0430\\u0431\\u043e\\u0442\\u0430\", \"\\u0440\\u0430\\u0431\\u043e\\u0442\\u0430\", \"\\u0440\\u0430\\u0437\\u0434\\u0435\\u043b\", \"\\u0440\\u0430\\u0437\\u0440\\u0430\\u0431\\u043e\\u0442\\u043a\\u0430\", \"\\u0440\\u0430\\u0437\\u0440\\u0430\\u0431\\u043e\\u0442\\u0447\\u0438\\u043a\", \"\\u0440\\u0430\\u0439\\u043e\\u043d\", \"\\u0440\\u0430\\u043a\\u0435\\u0442\\u0430\", \"\\u0440\\u0430\\u043a\\u0435\\u0442\\u043d\\u044b\\u0439\", \"\\u0440\\u0430\\u043c\\u043a\\u0430\", \"\\u0440\\u0430\\u043c\\u043a\\u0430\", \"\\u0440\\u0430\\u0441\\u0441\\u043b\\u0435\\u0434\\u043e\\u0432\\u0430\\u043d\\u0438\\u0435\", \"\\u0440\\u0430\\u0441\\u0441\\u043b\\u0435\\u0434\\u043e\\u0432\\u0430\\u043d\\u0438\\u0435\", \"\\u0440\\u0430\\u0441\\u0445\\u043e\\u0434\", \"\\u0440\\u0430\\u0441\\u0447\\u0451\\u0442\", \"\\u0440\\u0435\\u0430\\u043b\\u044c\\u043d\\u044b\\u0439\", \"\\u0440\\u0435\\u0431\\u0451\\u043d\\u043e\\u043a\", \"\\u0440\\u0435\\u0431\\u0451\\u043d\\u043e\\u043a\", \"\\u0440\\u0435\\u0433\\u0438\\u0441\\u0442\\u0440\\u0430\\u0446\\u0438\\u044f\", \"\\u0440\\u0435\\u0437\\u0443\\u043b\\u044c\\u0442\\u0430\\u0442\", \"\\u0440\\u0435\\u0437\\u0443\\u043b\\u044c\\u0442\\u0430\\u0442\", \"\\u0440\\u0435\\u0437\\u0443\\u043b\\u044c\\u0442\\u0430\\u0442\", \"\\u0440\\u0435\\u0437\\u0443\\u043b\\u044c\\u0442\\u0430\\u0442\", \"\\u0440\\u0435\\u0437\\u0443\\u043b\\u044c\\u0442\\u0430\\u0442\", \"\\u0440\\u0435\\u0437\\u0443\\u043b\\u044c\\u0442\\u0430\\u0442\", \"\\u0440\\u0435\\u0439\\u0441\", \"\\u0440\\u0435\\u043a\\u0430\", \"\\u0440\\u0435\\u043a\\u043b\\u0430\\u043c\\u0430\", \"\\u0440\\u0435\\u043a\\u043e\\u0440\\u0434\", \"\\u0440\\u0435\\u0448\\u0435\\u043d\\u0438\\u0435\", \"\\u0440\\u0435\\u0448\\u0435\\u043d\\u0438\\u0435\", \"\\u0440\\u0435\\u0448\\u0435\\u043d\\u0438\\u0435\", \"\\u0440\\u0435\\u0448\\u0435\\u043d\\u0438\\u0435\", \"\\u0440\\u0435\\u0448\\u0435\\u043d\\u0438\\u0435\", \"\\u0440\\u0438\\u0430\", \"\\u0440\\u0438\\u0430\", \"\\u0440\\u0438\\u0430\", \"\\u0440\\u0438\\u0430\", \"\\u0440\\u0438\\u0430\", \"\\u0440\\u043e\\u043b\\u0438\\u043a\", \"\\u0440\\u043e\\u0441\\u0441\\u0438\\u0439\\u0441\\u043a\\u0438\\u0439\", \"\\u0440\\u043e\\u0441\\u0441\\u0438\\u0439\\u0441\\u043a\\u0438\\u0439\", \"\\u0440\\u043e\\u0441\\u0441\\u0438\\u0439\\u0441\\u043a\\u0438\\u0439\", \"\\u0440\\u043e\\u0441\\u0441\\u0438\\u0439\\u0441\\u043a\\u0438\\u0439\", \"\\u0440\\u043e\\u0441\\u0441\\u0438\\u0439\\u0441\\u043a\\u0438\\u0439\", \"\\u0440\\u043e\\u0441\\u0441\\u0438\\u044f\", \"\\u0440\\u043e\\u0441\\u0441\\u0438\\u044f\", \"\\u0440\\u043e\\u0441\\u0441\\u0438\\u044f\", \"\\u0440\\u043e\\u0441\\u0441\\u0438\\u044f\", \"\\u0440\\u043e\\u0441\\u0441\\u0438\\u044f\", \"\\u0440\\u043e\\u0441\\u0442\", \"\\u0440\\u0443\\u0431\\u043b\\u044c\", \"\\u0440\\u0443\\u0431\\u043b\\u044c\", \"\\u0440\\u0443\\u0431\\u043b\\u044c\", \"\\u0440\\u0443\\u043a\\u043e\\u0432\\u043e\\u0434\\u0438\\u0442\\u0435\\u043b\\u044c\", \"\\u0440\\u0443\\u043a\\u043e\\u0432\\u043e\\u0434\\u0438\\u0442\\u0435\\u043b\\u044c\", \"\\u0440\\u0443\\u043a\\u043e\\u0432\\u043e\\u0434\\u0438\\u0442\\u0435\\u043b\\u044c\", \"\\u0440\\u0443\\u043a\\u043e\\u0432\\u043e\\u0434\\u0438\\u0442\\u0435\\u043b\\u044c\", \"\\u0440\\u0443\\u043a\\u043e\\u0432\\u043e\\u0434\\u0438\\u0442\\u0435\\u043b\\u044c\", \"\\u0440\\u044b\\u043d\\u043e\\u043a\", \"\\u0441\\u0430\\u0439\\u0442\", \"\\u0441\\u0430\\u0439\\u0442\", \"\\u0441\\u0430\\u0439\\u0442\", \"\\u0441\\u0430\\u0439\\u0442\", \"\\u0441\\u0430\\u0439\\u0442\", \"\\u0441\\u0430\\u043c\\u043c\\u0438\\u0442\", \"\\u0441\\u0430\\u043c\\u043e\\u043b\\u0451\\u0442\", \"\\u0441\\u0430\\u043c\\u044b\\u0439\", \"\\u0441\\u0430\\u043c\\u044b\\u0439\", \"\\u0441\\u0430\\u043c\\u044b\\u0439\", \"\\u0441\\u0430\\u043c\\u044b\\u0439\", \"\\u0441\\u0430\\u043c\\u044b\\u0439\", \"\\u0441\\u0430\\u043d\\u043a\\u0446\\u0438\\u044f\", \"\\u0441\\u0432\\u043e\\u0439\", \"\\u0441\\u0432\\u043e\\u0439\", \"\\u0441\\u0432\\u043e\\u0439\", \"\\u0441\\u0432\\u043e\\u0439\", \"\\u0441\\u0432\\u043e\\u0439\", \"\\u0441\\u0432\\u043e\\u0439\", \"\\u0441\\u0434\\u0435\\u043b\\u043a\\u0430\", \"\\u0441\\u0435\\u0440\\u0432\\u0438\\u0441\", \"\\u0441\\u0435\\u0440\\u0433\\u0435\\u0439\", \"\\u0441\\u0435\\u0440\\u0433\\u0435\\u0439\", \"\\u0441\\u0435\\u0442\\u044c\", \"\\u0441\\u0435\\u0442\\u044c\", \"\\u0441\\u0435\\u0442\\u044c\", \"\\u0441\\u0438\\u043b\\u0430\", \"\\u0441\\u0438\\u043b\\u0430\", \"\\u0441\\u0438\\u043b\\u0430\", \"\\u0441\\u0438\\u043b\\u0430\", \"\\u0441\\u0438\\u043b\\u0430\", \"\\u0441\\u0438\\u043b\\u0430\", \"\\u0441\\u0438\\u0440\\u0438\\u0439\\u0441\\u043a\\u0438\\u0439\", \"\\u0441\\u0438\\u0440\\u0438\\u044f\", \"\\u0441\\u0438\\u0441\\u0442\\u0435\\u043c\\u0430\", \"\\u0441\\u0438\\u0441\\u0442\\u0435\\u043c\\u0430\", \"\\u0441\\u0438\\u0441\\u0442\\u0435\\u043c\\u0430\", \"\\u0441\\u0438\\u0441\\u0442\\u0435\\u043c\\u0430\", \"\\u0441\\u043a\\u0430\\u0437\\u0430\\u0442\\u044c\", \"\\u0441\\u043a\\u0430\\u0437\\u0430\\u0442\\u044c\", \"\\u0441\\u043a\\u0430\\u0437\\u0430\\u0442\\u044c\", \"\\u0441\\u043a\\u0430\\u0437\\u0430\\u0442\\u044c\", \"\\u0441\\u043a\\u0430\\u0437\\u0430\\u0442\\u044c\", \"\\u0441\\u043a\\u043e\\u0440\\u043e\\u0441\\u0442\\u044c\", \"\\u0441\\u043b\\u0435\\u0434\\u043e\\u0432\\u0430\\u0442\\u0435\\u043b\\u044c\", \"\\u0441\\u043b\\u0435\\u0434\\u0441\\u0442\\u0432\\u0435\\u043d\\u043d\\u044b\\u0439\", \"\\u0441\\u043b\\u0435\\u0434\\u0441\\u0442\\u0432\\u0438\\u0435\", \"\\u0441\\u043b\\u043e\\u0432\\u043e\", \"\\u0441\\u043b\\u043e\\u0432\\u043e\", \"\\u0441\\u043b\\u043e\\u0432\\u043e\", \"\\u0441\\u043b\\u043e\\u0432\\u043e\", \"\\u0441\\u043b\\u043e\\u0432\\u043e\", \"\\u0441\\u043b\\u043e\\u0432\\u043e\", \"\\u0441\\u043b\\u043e\\u0432\\u043e\", \"\\u0441\\u043b\\u0443\\u0436\\u0431\\u0430\", \"\\u0441\\u043b\\u0443\\u0436\\u0431\\u0430\", \"\\u0441\\u043b\\u0443\\u0436\\u0431\\u0430\", \"\\u0441\\u043b\\u0443\\u0436\\u0431\\u0430\", \"\\u0441\\u043c\\u0430\\u0440\\u0442\\u0444\\u043e\\u043d\", \"\\u0441\\u043c\\u0435\\u0440\\u0442\\u044c\", \"\\u0441\\u043e\\u0432\\u0435\\u0442\", \"\\u0441\\u043e\\u0432\\u0435\\u0442\", \"\\u0441\\u043e\\u0432\\u0435\\u0442\", \"\\u0441\\u043e\\u0437\\u0434\\u0430\\u043d\\u0438\\u0435\", \"\\u0441\\u043e\\u0437\\u0434\\u0430\\u043d\\u0438\\u0435\", \"\\u0441\\u043e\\u0437\\u0434\\u0430\\u043d\\u0438\\u0435\", \"\\u0441\\u043e\\u0437\\u0434\\u0430\\u0442\\u044c\", \"\\u0441\\u043e\\u0437\\u0434\\u0430\\u0442\\u044c\", \"\\u0441\\u043e\\u0437\\u0434\\u0430\\u0442\\u044c\", \"\\u0441\\u043e\\u0437\\u0434\\u0430\\u0442\\u044c\", \"\\u0441\\u043e\\u0437\\u0434\\u0430\\u0442\\u044c\", \"\\u0441\\u043e\\u043e\\u0431\\u0449\\u0430\\u0442\\u044c\", \"\\u0441\\u043e\\u043e\\u0431\\u0449\\u0430\\u0442\\u044c\", \"\\u0441\\u043e\\u043e\\u0431\\u0449\\u0430\\u0442\\u044c\", \"\\u0441\\u043e\\u043e\\u0431\\u0449\\u0430\\u0442\\u044c\", \"\\u0441\\u043e\\u043e\\u0431\\u0449\\u0430\\u0442\\u044c\", \"\\u0441\\u043e\\u043e\\u0431\\u0449\\u0430\\u0442\\u044c\", \"\\u0441\\u043e\\u043e\\u0431\\u0449\\u0430\\u0442\\u044c\", \"\\u0441\\u043e\\u043e\\u0431\\u0449\\u0430\\u0442\\u044c\\u0441\\u044f\", \"\\u0441\\u043e\\u043e\\u0431\\u0449\\u0430\\u0442\\u044c\\u0441\\u044f\", \"\\u0441\\u043e\\u043e\\u0431\\u0449\\u0430\\u0442\\u044c\\u0441\\u044f\", \"\\u0441\\u043e\\u043e\\u0431\\u0449\\u0430\\u0442\\u044c\\u0441\\u044f\", \"\\u0441\\u043e\\u043e\\u0431\\u0449\\u0430\\u0442\\u044c\\u0441\\u044f\", \"\\u0441\\u043e\\u043e\\u0431\\u0449\\u0430\\u0442\\u044c\\u0441\\u044f\", \"\\u0441\\u043e\\u043e\\u0431\\u0449\\u0430\\u0442\\u044c\\u0441\\u044f\", \"\\u0441\\u043e\\u043e\\u0431\\u0449\\u0438\\u0442\\u044c\", \"\\u0441\\u043e\\u043e\\u0431\\u0449\\u0438\\u0442\\u044c\", \"\\u0441\\u043e\\u043e\\u0431\\u0449\\u0438\\u0442\\u044c\", \"\\u0441\\u043e\\u043e\\u0431\\u0449\\u0438\\u0442\\u044c\", \"\\u0441\\u043e\\u043e\\u0431\\u0449\\u0438\\u0442\\u044c\", \"\\u0441\\u043e\\u043e\\u0431\\u0449\\u0438\\u0442\\u044c\", \"\\u0441\\u043e\\u0441\\u0442\\u0430\\u0432\\u0438\\u0442\\u044c\", \"\\u0441\\u043e\\u0441\\u0442\\u0430\\u0432\\u0438\\u0442\\u044c\", \"\\u0441\\u043e\\u0442\\u0440\\u0443\\u0434\\u043d\\u0438\\u043a\", \"\\u0441\\u043e\\u0442\\u0440\\u0443\\u0434\\u043d\\u0438\\u043a\", \"\\u0441\\u043e\\u0442\\u0440\\u0443\\u0434\\u043d\\u0438\\u043a\", \"\\u0441\\u043e\\u0442\\u0440\\u0443\\u0434\\u043d\\u0438\\u043a\", \"\\u0441\\u043e\\u0442\\u0440\\u0443\\u0434\\u043d\\u0438\\u043a\", \"\\u0441\\u043f\\u0430\\u0441\\u0430\\u0442\\u0435\\u043b\\u044c\", \"\\u0441\\u0442\\u0430\\u0432\\u043a\\u0430\", \"\\u0441\\u0442\\u0430\\u0440\\u044b\\u0439\", \"\\u0441\\u0442\\u0430\\u0442\\u044c\", \"\\u0441\\u0442\\u0430\\u0442\\u044c\", \"\\u0441\\u0442\\u0430\\u0442\\u044c\", \"\\u0441\\u0442\\u0430\\u0442\\u044c\", \"\\u0441\\u0442\\u0430\\u0442\\u044c\", \"\\u0441\\u0442\\u0430\\u0442\\u044c\", \"\\u0441\\u0442\\u0430\\u0442\\u044c\", \"\\u0441\\u0442\\u043e\\u0438\\u043c\\u043e\\u0441\\u0442\\u044c\", \"\\u0441\\u0442\\u043e\\u043b\\u043a\\u043d\\u043e\\u0432\\u0435\\u043d\\u0438\\u0435\", \"\\u0441\\u0442\\u0440\\u0430\\u043d\\u0430\", \"\\u0441\\u0442\\u0440\\u0430\\u043d\\u0430\", \"\\u0441\\u0442\\u0440\\u0430\\u043d\\u0430\", \"\\u0441\\u0442\\u0440\\u0430\\u043d\\u0430\", \"\\u0441\\u0442\\u0440\\u0430\\u043d\\u0430\", \"\\u0441\\u0442\\u0440\\u0430\\u043d\\u0438\\u0446\\u0430\", \"\\u0441\\u0442\\u0440\\u043e\\u0438\\u0442\\u0435\\u043b\\u044c\\u0441\\u0442\\u0432\\u043e\", \"\\u0441\\u0442\\u0440\\u043e\\u0438\\u0442\\u0435\\u043b\\u044c\\u0441\\u0442\\u0432\\u043e\", \"\\u0441\\u0442\\u0440\\u043e\\u0438\\u0442\\u0435\\u043b\\u044c\\u0441\\u0442\\u0432\\u043e\", \"\\u0441\\u0442\\u0440\\u043e\\u0438\\u0442\\u0435\\u043b\\u044c\\u0441\\u0442\\u0432\\u043e\", \"\\u0441\\u0442\\u0443\\u0434\\u0438\\u044f\", \"\\u0441\\u0443\\u0434\", \"\\u0441\\u0443\\u0434\", \"\\u0441\\u0443\\u0434\\u043d\\u043e\", \"\\u0441\\u0443\\u043c\\u043c\\u0430\", \"\\u0441\\u0443\\u043c\\u043c\\u0430\", \"\\u0441\\u0448\\u0430\", \"\\u0441\\u0448\\u0430\", \"\\u0441\\u0448\\u0430\", \"\\u0441\\u0448\\u0430\", \"\\u0441\\u044b\\u043d\", \"\\u0442\\u0430\\u043a\\u0436\\u0435\", \"\\u0442\\u0430\\u043a\\u0436\\u0435\", \"\\u0442\\u0430\\u043a\\u0436\\u0435\", \"\\u0442\\u0430\\u043a\\u0436\\u0435\", \"\\u0442\\u0430\\u043a\\u0436\\u0435\", \"\\u0442\\u0430\\u043a\\u0436\\u0435\", \"\\u0442\\u0430\\u043a\\u0436\\u0435\", \"\\u0442\\u0435\\u043c\\u043f\\u0435\\u0440\\u0430\\u0442\\u0443\\u0440\\u0430\", \"\\u0442\\u0435\\u0440\\u0440\\u0438\\u0442\\u043e\\u0440\\u0438\\u044f\", \"\\u0442\\u0435\\u0440\\u0440\\u0438\\u0442\\u043e\\u0440\\u0438\\u044f\", \"\\u0442\\u0435\\u0440\\u0440\\u0438\\u0442\\u043e\\u0440\\u0438\\u044f\", \"\\u0442\\u0435\\u0440\\u0440\\u0438\\u0442\\u043e\\u0440\\u0438\\u044f\", \"\\u0442\\u0440\\u0430\\u043c\\u043f\", \"\\u0442\\u0440\\u0438\\u043b\\u043b\\u0438\\u043e\\u043d\", \"\\u0442\\u0440\\u043e\\u0435\", \"\\u0442\\u0443\\u0440\\u0435\\u0446\\u043a\\u0438\\u0439\", \"\\u0442\\u0443\\u0440\\u0446\\u0438\\u044f\", \"\\u0442\\u044b\\u0441\\u044f\\u0447\\u0430\", \"\\u0442\\u044b\\u0441\\u044f\\u0447\\u0430\", \"\\u0442\\u044b\\u0441\\u044f\\u0447\\u0430\", \"\\u0442\\u044b\\u0441\\u044f\\u0447\\u0430\", \"\\u0442\\u044b\\u0441\\u044f\\u0447\\u0430\", \"\\u0442\\u044b\\u0441\\u044f\\u0447\\u0430\", \"\\u0442\\u044b\\u0441\\u044f\\u0447\\u0430\", \"\\u0442\\u044e\\u0440\\u044c\\u043c\\u0430\", \"\\u0443\\u0431\\u0438\\u0439\\u0441\\u0442\\u0432\\u043e\", \"\\u0443\\u0431\\u0438\\u0442\\u044c\", \"\\u0443\\u0432\\u0438\\u0434\\u0435\\u0442\\u044c\", \"\\u0443\\u0433\\u043e\\u043b\\u043e\\u0432\\u043d\\u044b\\u0439\", \"\\u0443\\u043a\\u0440\\u0430\\u0438\\u043d\\u0430\", \"\\u0443\\u043a\\u0440\\u0430\\u0438\\u043d\\u0430\", \"\\u0443\\u043a\\u0440\\u0430\\u0438\\u043d\\u0430\", \"\\u0443\\u043b\\u0438\\u0446\\u0430\", \"\\u0443\\u043d\\u0438\\u0432\\u0435\\u0440\\u0441\\u0438\\u0442\\u0435\\u0442\", \"\\u0443\\u043d\\u0438\\u0432\\u0435\\u0440\\u0441\\u0438\\u0442\\u0435\\u0442\", \"\\u0443\\u0441\\u0442\\u0440\\u043e\\u0439\\u0441\\u0442\\u0432\\u043e\", \"\\u0443\\u0441\\u0442\\u0440\\u043e\\u0439\\u0441\\u0442\\u0432\\u043e\", \"\\u0443\\u0441\\u0442\\u0440\\u043e\\u0439\\u0441\\u0442\\u0432\\u043e\", \"\\u0443\\u0442\\u0440\\u043e\\u043c\", \"\\u0443\\u0442\\u0440\\u043e\\u043c\", \"\\u0443\\u0447\\u0435\\u0431\\u043d\\u044b\\u0439\", \"\\u0443\\u0447\\u0451\\u043d\\u044b\\u0439\", \"\\u0444\\u0435\\u0434\\u0435\\u0440\\u0430\\u043b\\u044c\\u043d\\u044b\\u0439\", \"\\u0444\\u0435\\u0434\\u0435\\u0440\\u0430\\u043b\\u044c\\u043d\\u044b\\u0439\", \"\\u0444\\u0435\\u0434\\u0435\\u0440\\u0430\\u043b\\u044c\\u043d\\u044b\\u0439\", \"\\u0444\\u0435\\u0434\\u0435\\u0440\\u0430\\u043b\\u044c\\u043d\\u044b\\u0439\", \"\\u0444\\u0435\\u0434\\u0435\\u0440\\u0430\\u0446\\u0438\\u044f\", \"\\u0444\\u0438\\u043b\\u044c\\u043c\", \"\\u0444\\u0438\\u043d\\u0430\\u043d\\u0441\\u043e\\u0432\\u044b\\u0439\", \"\\u0444\\u0438\\u043d\\u0430\\u043d\\u0441\\u043e\\u0432\\u044b\\u0439\", \"\\u0444\\u043e\\u043d\\u0434\", \"\\u0444\\u043e\\u043d\\u0434\", \"\\u0444\\u043e\\u0442\\u043e\\u0433\\u0440\\u0430\\u0444\\u0438\\u044f\", \"\\u0444\\u0440\\u0430\\u043d\\u0446\\u0438\\u044f\", \"\\u0444\\u0440\\u0430\\u043d\\u0446\\u0438\\u044f\", \"\\u0445\\u0430\\u043a\\u0435\\u0440\", \"\\u0446\\u0435\\u043d\\u0430\", \"\\u0446\\u0435\\u043d\\u0442\\u0440\", \"\\u0446\\u0435\\u043d\\u0442\\u0440\", \"\\u0446\\u0435\\u043d\\u0442\\u0440\", \"\\u0446\\u0435\\u043d\\u0442\\u0440\", \"\\u0446\\u0435\\u043d\\u0442\\u0440\", \"\\u0446\\u0435\\u043d\\u0442\\u0440\", \"\\u0447\\u0430\\u0441\", \"\\u0447\\u0430\\u0441\", \"\\u0447\\u0430\\u0441\", \"\\u0447\\u0430\\u0441\", \"\\u0447\\u0430\\u0441\", \"\\u0447\\u0430\\u0441\", \"\\u0447\\u0430\\u0441\\u0442\\u044c\", \"\\u0447\\u0430\\u0441\\u0442\\u044c\", \"\\u0447\\u0430\\u0441\\u0442\\u044c\", \"\\u0447\\u0430\\u0441\\u0442\\u044c\", \"\\u0447\\u0430\\u0441\\u0442\\u044c\", \"\\u0447\\u0430\\u0441\\u0442\\u044c\", \"\\u0447\\u0430\\u0441\\u0442\\u044c\", \"\\u0447\\u0435\\u043b\\u043e\\u0432\\u0435\\u043a\", \"\\u0447\\u0435\\u043b\\u043e\\u0432\\u0435\\u043a\", \"\\u0447\\u0435\\u043b\\u043e\\u0432\\u0435\\u043a\", \"\\u0447\\u0435\\u043b\\u043e\\u0432\\u0435\\u043a\", \"\\u0447\\u0435\\u043b\\u043e\\u0432\\u0435\\u043a\", \"\\u0447\\u0438\\u043d\\u043e\\u0432\\u043d\\u0438\\u043a\", \"\\u0447\\u0438\\u043d\\u043e\\u0432\\u043d\\u0438\\u043a\", \"\\u0447\\u0438\\u043d\\u043e\\u0432\\u043d\\u0438\\u043a\", \"\\u0448\\u0430\\u0445\\u0442\\u0430\", \"\\u0448\\u043a\\u043e\\u043b\\u0430\", \"\\u0448\\u043e\\u0443\", \"\\u044d\\u043a\\u0438\\u043f\\u0430\\u0436\", \"\\u044d\\u043b\\u0435\\u043a\\u0442\\u0440\\u043e\\u043d\\u043d\\u044b\\u0439\", \"\\u044d\\u043b\\u0435\\u043a\\u0442\\u0440\\u043e\\u043d\\u043d\\u044b\\u0439\", \"\\u044d\\u043d\\u0435\\u0440\\u0433\\u0438\\u044f\", \"\\u044d\\u0442\\u043e\", \"\\u044d\\u0442\\u043e\", \"\\u044d\\u0442\\u043e\", \"\\u044d\\u0442\\u043e\", \"\\u044d\\u0442\\u043e\", \"\\u044d\\u0442\\u043e\", \"\\u044d\\u0442\\u043e\", \"\\u044e\\u0440\\u0438\\u0439\", \"\\u044f\\u0432\\u043b\\u044f\\u0442\\u044c\\u0441\\u044f\", \"\\u044f\\u0432\\u043b\\u044f\\u0442\\u044c\\u0441\\u044f\", \"\\u044f\\u0432\\u043b\\u044f\\u0442\\u044c\\u0441\\u044f\", \"\\u044f\\u0432\\u043b\\u044f\\u0442\\u044c\\u0441\\u044f\", \"\\u044f\\u0432\\u043b\\u044f\\u0442\\u044c\\u0441\\u044f\", \"\\u044f\\u0432\\u043b\\u044f\\u0442\\u044c\\u0441\\u044f\", \"\\u044f\\u043f\\u043e\\u043d\\u0438\\u044f\"]}, \"R\": 30, \"lambda.step\": 0.01, \"plot.opts\": {\"xlab\": \"PC1\", \"ylab\": \"PC2\"}, \"topic.order\": [6, 3, 5, 1, 7, 4, 2]};\n",
       "\n",
       "function LDAvis_load_lib(url, callback){\n",
       "  var s = document.createElement('script');\n",
       "  s.src = url;\n",
       "  s.async = true;\n",
       "  s.onreadystatechange = s.onload = callback;\n",
       "  s.onerror = function(){console.warn(\"failed to load library \" + url);};\n",
       "  document.getElementsByTagName(\"head\")[0].appendChild(s);\n",
       "}\n",
       "\n",
       "if(typeof(LDAvis) !== \"undefined\"){\n",
       "   // already loaded: just create the visualization\n",
       "   !function(LDAvis){\n",
       "       new LDAvis(\"#\" + \"ldavis_el591403107913575202420593061\", ldavis_el591403107913575202420593061_data);\n",
       "   }(LDAvis);\n",
       "}else if(typeof define === \"function\" && define.amd){\n",
       "   // require.js is available: use it to load d3/LDAvis\n",
       "   require.config({paths: {d3: \"https://d3js.org/d3.v5\"}});\n",
       "   require([\"d3\"], function(d3){\n",
       "      window.d3 = d3;\n",
       "      LDAvis_load_lib(\"https://cdn.jsdelivr.net/gh/bmabey/pyLDAvis@3.3.1/pyLDAvis/js/ldavis.v3.0.0.js\", function(){\n",
       "        new LDAvis(\"#\" + \"ldavis_el591403107913575202420593061\", ldavis_el591403107913575202420593061_data);\n",
       "      });\n",
       "    });\n",
       "}else{\n",
       "    // require.js not available: dynamically load d3 & LDAvis\n",
       "    LDAvis_load_lib(\"https://d3js.org/d3.v5.js\", function(){\n",
       "         LDAvis_load_lib(\"https://cdn.jsdelivr.net/gh/bmabey/pyLDAvis@3.3.1/pyLDAvis/js/ldavis.v3.0.0.js\", function(){\n",
       "                 new LDAvis(\"#\" + \"ldavis_el591403107913575202420593061\", ldavis_el591403107913575202420593061_data);\n",
       "            })\n",
       "         });\n",
       "}\n",
       "</script>"
      ],
      "text/plain": [
       "<IPython.core.display.HTML object>"
      ]
     },
     "execution_count": 37,
     "metadata": {
      "tags": []
     },
     "output_type": "execute_result"
    }
   ],
   "source": [
    "import pyLDAvis\n",
    "import pyLDAvis.gensim_models as gensimvis\n",
    "\n",
    "%time\n",
    "vis_data = gensimvis.prepare(lda, corpus, dictionary)\n",
    "pyLDAvis.display(vis_data)"
   ]
  },
  {
   "cell_type": "markdown",
   "metadata": {
    "id": "dIqs6s7J5_1K"
   },
   "source": [
    "Посмотрим на метрики качества получившейся модели: перплексию и среднюю когерентность:"
   ]
  },
  {
   "cell_type": "code",
   "execution_count": 38,
   "metadata": {
    "colab": {
     "base_uri": "https://localhost:8080/"
    },
    "executionInfo": {
     "elapsed": 9703,
     "status": "ok",
     "timestamp": 1617792627364,
     "user": {
      "displayName": "Alexey Tankov",
      "photoUrl": "",
      "userId": "01729535101672247421"
     },
     "user_tz": -180
    },
    "id": "QUEeEnoa6CMp",
    "outputId": "98509305-4485-45e1-ad24-99ec3e41d5c8"
   },
   "outputs": [
    {
     "name": "stdout",
     "output_type": "stream",
     "text": [
      "-7.80991380890764\n"
     ]
    }
   ],
   "source": [
    "print(lda.log_perplexity(corpus))"
   ]
  },
  {
   "cell_type": "code",
   "execution_count": 39,
   "metadata": {
    "colab": {
     "base_uri": "https://localhost:8080/"
    },
    "executionInfo": {
     "elapsed": 10016,
     "status": "ok",
     "timestamp": 1617792642705,
     "user": {
      "displayName": "Alexey Tankov",
      "photoUrl": "",
      "userId": "01729535101672247421"
     },
     "user_tz": -180
    },
    "id": "SFksnnwE6Fru",
    "outputId": "daa0eff9-8fbf-4c3e-bd63-377ae9cb8c02"
   },
   "outputs": [
    {
     "name": "stdout",
     "output_type": "stream",
     "text": [
      "Персплексия:  0.00040569352282481935\n"
     ]
    }
   ],
   "source": [
    "print('Персплексия: ', np.exp(lda.log_perplexity(corpus)))"
   ]
  },
  {
   "cell_type": "code",
   "execution_count": 41,
   "metadata": {
    "colab": {
     "base_uri": "https://localhost:8080/"
    },
    "executionInfo": {
     "elapsed": 15870,
     "status": "ok",
     "timestamp": 1617792679786,
     "user": {
      "displayName": "Alexey Tankov",
      "photoUrl": "",
      "userId": "01729535101672247421"
     },
     "user_tz": -180
    },
    "id": "tzt6jI8X6H3C",
    "outputId": "3788a50d-3d05-45cc-90e4-e294de00a434"
   },
   "outputs": [
    {
     "name": "stdout",
     "output_type": "stream",
     "text": [
      "Средняя когерентность:  0.4381466647086105\n"
     ]
    }
   ],
   "source": [
    "coherence_model_lda = CoherenceModel(model=lda, texts=data['text'], dictionary=dictionary, coherence='c_v')\n",
    "coherence_lda = coherence_model_lda.get_coherence()\n",
    "print('Средняя когерентность: ', coherence_lda)"
   ]
  },
  {
   "cell_type": "markdown",
   "metadata": {
    "id": "uaPGEhMz6MSU"
   },
   "source": [
    "Теперь можно подобрать оптимальное количество тем, опираясь на значение метрик:"
   ]
  },
  {
   "cell_type": "code",
   "execution_count": 42,
   "metadata": {
    "executionInfo": {
     "elapsed": 803,
     "status": "ok",
     "timestamp": 1617792682970,
     "user": {
      "displayName": "Alexey Tankov",
      "photoUrl": "",
      "userId": "01729535101672247421"
     },
     "user_tz": -180
    },
    "id": "EcTov0bm6OHT"
   },
   "outputs": [],
   "source": [
    "import matplotlib.pyplot as plt\n",
    "%matplotlib inline"
   ]
  },
  {
   "cell_type": "code",
   "execution_count": 45,
   "metadata": {
    "colab": {
     "base_uri": "https://localhost:8080/",
     "height": 328,
     "referenced_widgets": [
      "e979a3c312724c71a86a337c4df1a8e8",
      "ffa015fbbb5248aa8bcc2cfabdbd0be8",
      "35c83088d4764d92a026d4bd3bb2b695",
      "420c6f06ece74bab8be2dd99e8c4031d",
      "56e98199041c4ad5a4fa098386dcbe62",
      "c40e3696bd3d42898283c6306836d677",
      "97f0d904599c44e2ba5fa9f3368cae87",
      "9a792e7fc79945edaba128cf73c58cae"
     ]
    },
    "executionInfo": {
     "elapsed": 635417,
     "status": "ok",
     "timestamp": 1617793580499,
     "user": {
      "displayName": "Alexey Tankov",
      "photoUrl": "",
      "userId": "01729535101672247421"
     },
     "user_tz": -180
    },
    "id": "yE7KFUQr6P4V",
    "outputId": "6a853b04-d3fb-470d-c292-2a2b2a05975d"
   },
   "outputs": [
    {
     "data": {
      "application/vnd.jupyter.widget-view+json": {
       "model_id": "e979a3c312724c71a86a337c4df1a8e8",
       "version_major": 2,
       "version_minor": 0
      },
      "text/plain": [
       "HBox(children=(FloatProgress(value=0.0, max=14.0), HTML(value='')))"
      ]
     },
     "metadata": {
      "tags": []
     },
     "output_type": "display_data"
    },
    {
     "name": "stdout",
     "output_type": "stream",
     "text": [
      "\n"
     ]
    },
    {
     "data": {
      "image/png": "[encoded data removed]",
      "text/plain": [
       "<Figure size 432x288 with 1 Axes>"
      ]
     },
     "metadata": {
      "needs_background": "light",
      "tags": []
     },
     "output_type": "display_data"
    }
   ],
   "source": [
    "topics_list = [3, 5, 7, 9, 11, 13, 14, 15, 16, 17, 19, 21, 23, 25]\n",
    "coherences = []\n",
    "\n",
    "for num in tqdm(topics_list):\n",
    "    lda = ldamodel.LdaModel(corpus, id2word=dictionary, num_topics=num, chunksize=50, update_every=1, passes=2)\n",
    "    coherences.append(CoherenceModel(model=lda, texts=data['text'], dictionary=dictionary, coherence='c_v').get_coherence())\n",
    "\n",
    "plt.plot(topics_list, coherences)\n",
    "plt.xlabel(\"Число тем\")\n",
    "plt.ylabel(\"Средняя когерентность\")\n",
    "plt.show()"
   ]
  },
  {
   "cell_type": "markdown",
   "metadata": {
    "id": "pwhL1o3xBetO"
   },
   "source": [
    "Оптимальное количество тем - 7"
   ]
  },
  {
   "cell_type": "markdown",
   "metadata": {
    "id": "fRZKFQdlCCSz"
   },
   "source": [
    "Подробнее о метриках для оценки тематических моделей:  \n",
    "1. [Перплексия](http://qpleple.com/perplexity-to-evaluate-topic-models/)  \n",
    "2. Когерентность: [один пост](http://qpleple.com/topic-coherence-to-evaluate-topic-models/), [другой пост](https://towardsdatascience.com/evaluate-topic-model-in-python-latent-dirichlet-allocation-lda-7d57484bb5d0)"
   ]
  },
  {
   "cell_type": "code",
   "execution_count": 46,
   "metadata": {
    "colab": {
     "base_uri": "https://localhost:8080/",
     "height": 861
    },
    "executionInfo": {
     "elapsed": 30649,
     "status": "ok",
     "timestamp": 1617793830243,
     "user": {
      "displayName": "Alexey Tankov",
      "photoUrl": "",
      "userId": "01729535101672247421"
     },
     "user_tz": -180
    },
    "id": "S895NDCsB2FC",
    "outputId": "12bba2a2-d522-4a3f-d7e8-7801ad3518fa"
   },
   "outputs": [
    {
     "data": {
      "text/html": [
       "\n",
       "<link rel=\"stylesheet\" type=\"text/css\" href=\"https://cdn.jsdelivr.net/gh/bmabey/pyLDAvis@3.3.1/pyLDAvis/js/ldavis.v1.0.0.css\">\n",
       "\n",
       "\n",
       "<div id=\"ldavis_el591403108942837289902740227\"></div>\n",
       "<script type=\"text/javascript\">\n",
       "\n",
       "var ldavis_el591403108942837289902740227_data = {\"mdsDat\": {\"x\": [-0.1612394823781898, -0.141563908676817, -0.1447599342606052, 0.05155473574743617, -0.15478726965535664, -0.12052047951441439, -0.11614213634185937, -0.10846628465541548, 0.07798254356264953, -0.06140794151432979, 0.11225347386873924, 0.11453744834224303, 0.07819395094686296, 0.24647437747976503, 0.3278909070492926], \"y\": [0.011382186925375834, -0.09006848057372886, 0.00402096629483322, -0.24678125116959376, 0.1691185474996114, 0.03746779236001027, 0.003939042358370192, -0.08758085584055145, -0.19097868896289488, 0.17795931890164876, -0.06905250777576415, 0.04831951149502012, 0.13873003173335408, -0.12976537453659692, 0.22328976129090597], \"topics\": [1, 2, 3, 4, 5, 6, 7, 8, 9, 10, 11, 12, 13, 14, 15], \"cluster\": [1, 1, 1, 1, 1, 1, 1, 1, 1, 1, 1, 1, 1, 1, 1], \"Freq\": [23.65551424363846, 17.352290365742206, 7.99308405598301, 7.425784161524322, 7.175900202547806, 6.45161619499095, 6.249599922373938, 4.883619671841608, 4.478334865892129, 3.8706204919208695, 3.0052515834644264, 2.4459715740312533, 2.1806388537378174, 1.9607193220389925, 0.8710544902722294]}, \"tinfo\": {\"Term\": [\"\\u043f\\u0440\\u043e\\u0446\\u0435\\u043d\\u0442\", \"\\u0433\\u043e\\u0434\", \"\\u043a\\u043e\\u043c\\u043f\\u0430\\u043d\\u0438\\u044f\", \"\\u0440\\u043e\\u0441\\u0441\\u0438\\u044f\", \"\\u0434\\u043e\\u043b\\u043b\\u0430\\u0440\", \"\\u0434\\u0435\\u043b\\u043e\", \"\\u0441\\u0448\\u0430\", \"\\u0441\\u0443\\u0434\", \"\\u0440\\u0443\\u0431\\u043b\\u044c\", \"\\u043c\\u0438\\u043b\\u043b\\u0438\\u0430\\u0440\\u0434\", \"\\u0432\\u043e\\u0435\\u043d\\u043d\\u044b\\u0439\", \"\\u0441\\u0430\\u043c\\u043e\\u043b\\u0451\\u0442\", \"\\u0433\\u0430\\u0437\", \"\\u0447\\u0435\\u043b\\u043e\\u0432\\u0435\\u043a\", \"\\u0441\\u0442\\u0440\\u0430\\u043d\\u0430\", \"\\u0440\\u043e\\u0441\\u0441\\u0438\\u0439\\u0441\\u043a\\u0438\\u0439\", \"\\u043c\\u043e\\u0441\\u043a\\u0432\\u0430\", \"\\u043c\\u0438\\u043b\\u043b\\u0438\\u043e\\u043d\", \"\\u043d\\u043e\\u0432\\u044b\\u0439\", \"\\u0431\\u0430\\u043d\\u043a\", \"\\u0438\\u0433\\u0440\\u0430\", \"\\u043f\\u0435\\u0440\\u0432\\u044b\\u0439\", \"\\u0430\\u043a\\u0446\\u0438\\u044f\", \"\\u043a\\u043e\\u0442\\u043e\\u0440\\u044b\\u0439\", \"\\u0438\\u043d\\u0444\\u043e\\u0440\\u043c\\u0430\\u0446\\u0438\\u044f\", \"\\u0443\\u043a\\u0440\\u0430\\u0438\\u043d\\u0430\", \"\\u0441\\u043e\\u0442\\u0440\\u0443\\u0434\\u043d\\u0438\\u043a\", \"\\u043f\\u0440\\u0435\\u0437\\u0438\\u0434\\u0435\\u043d\\u0442\", \"\\u0441\\u0430\\u0439\\u0442\", \"\\u043f\\u0440\\u043e\\u0438\\u0437\\u043e\\u0439\\u0442\\u0438\", \"\\u043f\\u043e\\u0441\\u0442\", \"\\u043d\\u0430\\u0437\\u0432\\u0430\\u0442\\u044c\", \"\\u0441\\u043e\\u0441\\u0442\\u043e\\u044f\\u0442\\u044c\\u0441\\u044f\", \"\\u0432\\u0441\\u0442\\u0440\\u0435\\u0447\\u0430\", \"\\u043a\\u0430\\u043d\\u0434\\u0438\\u0434\\u0430\\u0442\", \"\\u043e\\u043e\\u043d\", \"\\u043f\\u044b\\u0442\\u0430\\u0442\\u044c\\u0441\\u044f\", \"\\u043f\\u0440\\u043e\\u0442\\u0435\\u0441\\u0442\", \"\\u0438\\u043d\\u0442\\u0435\\u0440\\u0432\\u044c\\u044e\", \"\\u043f\\u0438\\u0441\\u044c\\u043c\\u043e\", \"\\u0432\\u044b\\u0441\\u0442\\u0443\\u043f\\u0438\\u0442\\u044c\", \"\\u043f\\u0440\\u043e\\u043a\\u0443\\u0440\\u043e\\u0440\", \"\\u043f\\u0440\\u0435\\u043a\\u0440\\u0430\\u0442\\u0438\\u0442\\u044c\", \"\\u0441\\u0430\\u043d\\u043a\\u0446\\u0438\\u044f\", \"\\u0432\\u044b\\u0440\\u0430\\u0437\\u0438\\u0442\\u044c\", \"\\u043d\\u0430\\u0442\\u043e\", \"\\u0430\\u043c\\u0435\\u0440\\u0438\\u043a\\u0430\\u043d\\u0435\\u0446\", \"\\u0432\\u0438\\u043d\\u043e\\u0432\\u043d\\u044b\\u0439\", \"\\u043f\\u0440\\u043e\\u0441\\u044c\\u0431\\u0430\", \"\\u043f\\u0440\\u0438\\u0433\\u043e\\u0432\\u043e\\u0440\", \"\\u043a\\u043e\\u043b\\u043b\\u0435\\u0433\\u0430\", \"\\u0432\\u044b\\u0441\\u0442\\u0443\\u043f\\u043b\\u0435\\u043d\\u0438\\u0435\", \"\\u0432\\u043a\\u043b\\u0430\\u0434\", \"\\u043e\\u0444\\u0438\\u0446\\u0435\\u0440\", \"\\u0432\\u044b\\u0441\\u0442\\u0443\\u043f\\u0430\\u0442\\u044c\", \"\\u0440\\u043e\\u0437\\u044b\\u0441\\u043a\", \"\\u0437\\u0430\\u043f\\u0440\\u043e\\u0441\", \"\\u0432\\u043e\\u0437\\u0433\\u043b\\u0430\\u0432\\u043b\\u044f\\u0442\\u044c\", \"\\u0441\\u0442\\u043e\\u0440\\u043e\\u043d\\u043d\\u0438\\u043a\", \"\\u043a\\u043e\\u0440\\u0440\\u0443\\u043f\\u0446\\u0438\\u044f\", \"\\u0431\\u044b\\u0432\\u0448\\u0438\\u0439\", \"\\u043f\\u0440\\u043e\\u0442\\u0438\\u0432\", \"\\u0437\\u0430\\u044f\\u0432\\u043b\\u0435\\u043d\\u0438\\u0435\", \"\\u043f\\u043e\\u043e\\u0431\\u0435\\u0449\\u0430\\u0442\\u044c\", \"\\u043f\\u0440\\u0435\\u0437\\u0438\\u0434\\u0435\\u043d\\u0442\", \"\\u043f\\u0440\\u0435\\u043c\\u044c\\u0435\\u0440\", \"\\u0445\\u043e\\u0442\\u0435\\u0442\\u044c\", \"\\u0440\\u0443\\u043a\\u043e\\u0432\\u043e\\u0434\\u0441\\u0442\\u0432\\u043e\", \"\\u043f\\u0430\\u0440\\u0442\\u0438\\u044f\", \"\\u043b\\u0438\\u0434\\u0435\\u0440\", \"\\u0437\\u0430\\u044f\\u0432\\u0438\\u0442\\u044c\", \"\\u0432\\u043b\\u0430\\u0441\\u0442\\u044c\", \"\\u0441\\u0443\\u0434\\u0435\\u0431\\u043d\\u044b\\u0439\", \"\\u0440\\u0435\\u0448\\u0435\\u043d\\u0438\\u0435\", \"\\u043e\\u0442\\u043a\\u0430\\u0437\\u0430\\u0442\\u044c\\u0441\\u044f\", \"\\u0432\\u043e\\u043f\\u0440\\u043e\\u0441\", \"\\u0433\\u043b\\u0430\\u0432\\u0430\", \"\\u0441\\u0432\\u043e\\u0439\", \"\\u0441\\u043a\\u0430\\u0437\\u0430\\u0442\\u044c\", \"\\u043e\\u0442\\u043d\\u043e\\u0448\\u0435\\u043d\\u0438\\u0435\", \"\\u043c\\u0430\\u0439\", \"\\u043f\\u0440\\u0430\\u0432\\u043e\", \"\\u043f\\u0440\\u0435\\u0434\\u0441\\u0442\\u0430\\u0432\\u0438\\u0442\\u0435\\u043b\\u044c\", \"\\u043f\\u043e\\u0434\\u0447\\u0435\\u0440\\u043a\\u043d\\u0443\\u0442\\u044c\", \"\\u043e\\u0440\\u0433\\u0430\\u043d\\u0438\\u0437\\u0430\\u0446\\u0438\\u044f\", \"\\u044d\\u0442\\u043e\", \"\\u0441\\u0442\\u0440\\u0430\\u043d\\u0430\", \"\\u0441\\u0448\\u0430\", \"\\u043a\\u043e\\u0442\\u043e\\u0440\\u044b\\u0439\", \"\\u0441\\u043b\\u043e\\u0432\\u043e\", \"\\u0433\\u043e\\u0441\\u0443\\u0434\\u0430\\u0440\\u0441\\u0442\\u0432\\u043e\", \"\\u043c\\u0438\\u043d\\u0438\\u0441\\u0442\\u0440\", \"\\u0431\\u0435\\u0437\\u043e\\u043f\\u0430\\u0441\\u043d\\u043e\\u0441\\u0442\\u044c\", \"\\u0442\\u0430\\u043a\\u0436\\u0435\", \"\\u0441\\u043e\\u043e\\u0431\\u0449\\u0430\\u0442\\u044c\", \"\\u0433\\u043e\\u0434\", \"\\u0434\\u043e\\u043b\\u0436\\u043d\\u044b\\u0439\", \"\\u0441\\u0442\\u0430\\u0442\\u044c\", \"\\u043e\\u0434\\u043d\\u0430\\u043a\\u043e\", \"\\u043e\\u0431\\u043d\\u0430\\u0440\\u0443\\u0436\\u0438\\u0442\\u044c\", \"\\u0443\\u0431\\u0438\\u0439\\u0441\\u0442\\u0432\\u043e\", \"\\u0438\\u043c\\u044f\", \"\\u0443\\u0447\\u0451\\u043d\\u044b\\u0439\", \"\\u043f\\u0435\\u0440\\u0435\\u0433\\u043e\\u0432\\u043e\\u0440\\u044b\", \"\\u043e\\u0431\\u0432\\u0438\\u043d\\u0435\\u043d\\u0438\\u0435\", \"\\u0438\\u0437\\u0440\\u0430\\u0438\\u043b\\u044c\", \"\\u0442\\u0435\\u0440\\u0430\\u043a\\u0442\", \"\\u0438\\u0437\\u0440\\u0430\\u0438\\u043b\\u044c\\u0441\\u043a\\u0438\\u0439\", \"\\u0443\\u043b\\u0438\\u0446\\u0430\", \"\\u0432\\u0435\\u0440\\u0442\\u043e\\u043b\\u0451\\u0442\", \"\\u0436\\u0438\\u0437\\u043d\\u044c\", \"\\u0436\\u0443\\u0440\\u043d\\u0430\\u043b\", \"\\u043d\\u0435\\u0438\\u0437\\u0432\\u0435\\u0441\\u0442\\u043d\\u044b\\u0439\", \"\\u0442\\u0435\\u043b\\u043e\", \"\\u043d\\u043e\\u0447\\u044c\", \"\\u0431\\u043e\\u0440\\u0442\", \"\\u0432\\u0435\\u0447\\u0435\\u0440\\u043e\\u043c\", \"\\u043f\\u0430\\u043b\\u0435\\u0441\\u0442\\u0438\\u043d\\u0441\\u043a\\u0438\\u0439\", \"\\u0443\\u043d\\u0438\\u0432\\u0435\\u0440\\u0441\\u0438\\u0442\\u0435\\u0442\", \"\\u043f\\u0440\\u0435\\u0434\\u044a\\u044f\\u0432\\u0438\\u0442\\u044c\", \"\\u0438\\u0441\\u0441\\u043b\\u0435\\u0434\\u043e\\u0432\\u0430\\u0442\\u0435\\u043b\\u044c\", \"\\u043f\\u0440\\u0438\\u0431\\u044b\\u0442\\u044c\", \"\\u043c\\u043e\\u043b\\u043e\\u0434\\u043e\\u0439\", \"\\u0441\\u043b\\u0435\\u0434\\u043e\\u0432\\u0430\\u0442\\u0435\\u043b\\u044c\", \"\\u044f\\u043a\\u043e\\u0431\\u044b\", \"\\u0436\\u0438\\u0432\\u043e\\u0442\\u043d\\u043e\\u0435\", \"\\u0441\\u044b\\u043d\", \"\\u043f\\u0440\\u044f\\u043c\\u043e\\u0439\", \"\\u0443\\u0447\\u0440\\u0435\\u0436\\u0434\\u0435\\u043d\\u0438\\u0435\", \"\\u043f\\u043e\\u043b\\u0435\", \"\\u0432\\u0435\\u0440\\u0441\\u0438\\u044f\", \"\\u043b\\u0438\\u0431\\u043e\", \"\\u0438\\u0437\\u0432\\u0435\\u0441\\u0442\\u043d\\u044b\\u0439\", \"\\u0443\\u0434\\u0430\\u0442\\u044c\\u0441\\u044f\", \"\\u043a\\u043e\\u0442\\u043e\\u0440\\u044b\\u0439\", \"\\u043f\\u0440\\u0430\\u0432\\u043e\\u043e\\u0445\\u0440\\u0430\\u043d\\u0438\\u0442\\u0435\\u043b\\u044c\\u043d\\u044b\\u0439\", \"\\u043e\\u043f\\u0435\\u0440\\u0430\\u0446\\u0438\\u044f\", \"\\u043f\\u043e\\u043c\\u043e\\u0449\\u044c\", \"\\u0447\\u0430\\u0441\\u0442\\u044c\", \"\\u0433\\u0440\\u0443\\u043f\\u043f\\u0430\", \"\\u0432\\u0440\\u0435\\u043c\\u044f\", \"\\u043e\\u0434\\u043d\\u0430\\u043a\\u043e\", \"\\u044d\\u0442\\u043e\", \"\\u0440\\u0430\\u0431\\u043e\\u0442\\u0430\", \"\\u043d\\u0435\\u0441\\u043a\\u043e\\u043b\\u044c\\u043a\\u043e\", \"\\u043c\\u043e\\u0447\\u044c\", \"\\u0441\\u0430\\u0439\\u0442\", \"\\u0442\\u044b\\u0441\\u044f\\u0447\\u0430\", \"\\u0447\\u0435\\u043b\\u043e\\u0432\\u0435\\u043a\", \"\\u0442\\u0430\\u043a\\u0436\\u0435\", \"\\u0433\\u043e\\u0434\", \"\\u0432\\u0435\\u0441\\u044c\", \"\\u0441\\u0432\\u043e\\u0439\", \"\\u043f\\u043e\\u0441\\u043b\\u0435\\u0434\\u043d\\u0438\\u0439\", \"\\u0435\\u0449\\u0451\", \"\\u0441\\u043e\\u043e\\u0431\\u0449\\u0430\\u0442\\u044c\", \"\\u0441\\u0442\\u0430\\u0442\\u044c\", \"\\u044f\\u0432\\u043b\\u044f\\u0442\\u044c\\u0441\\u044f\", \"\\u0441\\u043b\\u043e\\u0432\\u043e\", \"\\u0433\\u0443\\u0431\\u0435\\u0440\\u043d\\u0430\\u0442\\u043e\\u0440\", \"\\u0441\\u0442\\u0440\\u043e\\u0438\\u0442\\u0435\\u043b\\u044c\\u0441\\u0442\\u0432\\u043e\", \"\\u043a\\u043e\\u043d\\u0442\\u0440\\u0430\\u043a\\u0442\", \"\\u043f\\u0435\\u0442\\u0435\\u0440\\u0431\\u0443\\u0440\\u0433\", \"\\u043a\\u043e\\u043d\\u043a\\u0443\\u0440\\u0441\", \"\\u0443\\u0447\\u0430\\u0441\\u0442\\u043e\\u043a\", \"\\u0434\\u0435\\u043f\\u0430\\u0440\\u0442\\u0430\\u043c\\u0435\\u043d\\u0442\", \"\\u0441\\u0430\\u043d\\u043a\\u0442\", \"\\u043a\\u0432\\u0430\\u0440\\u0442\\u0430\\u043b\", \"\\u043d\\u0435\\u0444\\u0442\\u044f\\u043d\\u043e\\u0439\", \"\\u043d\\u0430\\u043b\\u043e\\u0433\\u043e\\u0432\\u044b\\u0439\", \"\\u0443\\u0432\\u0435\\u043b\\u0438\\u0447\\u0438\\u0442\\u044c\", \"\\u0438\\u043d\\u0432\\u0435\\u0441\\u0442\\u0438\\u0446\\u0438\\u044f\", \"\\u044f\\u0437\\u044b\\u043a\", \"\\u043e\\u0431\\u043b\\u0430\\u0441\\u0442\\u043d\\u043e\\u0439\", \"\\u043e\\u0442\\u0440\\u0430\\u0441\\u043b\\u044c\", \"\\u043f\\u043e\\u0431\\u0435\\u0434\\u0430\", \"\\u0440\\u043e\\u0441\\u043d\\u0435\\u0444\\u0442\\u044c\", \"\\u043a\\u0430\\u043d\\u0434\\u0438\\u0434\\u0430\\u0442\\u0443\\u0440\\u0430\", \"\\u0440\\u0435\\u0434\\u0430\\u043a\\u0442\\u043e\\u0440\", \"\\u0434\\u0435\\u043b\\u043e\\u0432\\u043e\\u0439\", \"\\u0441\\u0432\\u0438\\u0434\\u0435\\u0442\\u0435\\u043b\\u044c\", \"\\u043f\\u0440\\u0435\\u0434\\u043f\\u0440\\u0438\\u043d\\u0438\\u043c\\u0430\\u0442\\u0435\\u043b\\u044c\", \"\\u043f\\u043e\\u0442\\u0440\\u0435\\u0431\\u0438\\u0442\\u0435\\u043b\\u044c\", \"\\u043f\\u0440\\u043e\\u043c\\u044b\\u0448\\u043b\\u0435\\u043d\\u043d\\u044b\\u0439\", \"\\u043c\\u0438\\u043b\\u043b\\u0435\\u0440\", \"\\u043f\\u0435\\u0440\\u0435\\u0445\\u043e\\u0434\", \"\\u043f\\u043b\\u0430\\u0442\\u0451\\u0436\", \"\\u043f\\u0430\\u0440\\u043a\\u043e\\u0432\\u043a\\u0430\", \"\\u0438\\u0441\\u043f\\u043e\\u043b\\u043d\\u0438\\u0442\\u0435\\u043b\\u044c\\u043d\\u044b\\u0439\", \"\\u043f\\u043b\\u043e\\u0449\\u0430\\u0434\\u044c\", \"\\u043f\\u043e\\u043b\\u0438\\u0442\\u0438\\u0447\\u0435\\u0441\\u043a\\u0438\\u0439\", \"\\u043f\\u0440\\u043e\\u0435\\u043a\\u0442\", \"\\u0443\\u0447\\u0451\\u0442\", \"\\u0440\\u0435\\u0433\\u0438\\u043e\\u043d\", \"\\u043f\\u0440\\u0435\\u0434\\u043b\\u043e\\u0436\\u0438\\u0442\\u044c\", \"\\u0441\\u043e\\u0446\\u0438\\u0430\\u043b\\u044c\\u043d\\u044b\\u0439\", \"\\u043c\\u044d\\u0440\", \"\\u043e\\u0431\\u043b\\u0430\\u0441\\u0442\\u044c\", \"\\u043c\\u043e\\u0441\\u043a\\u043e\\u0432\\u0441\\u043a\\u0438\\u0439\", \"\\u0437\\u0430\\u043d\\u0438\\u043c\\u0430\\u0442\\u044c\", \"\\u043e\\u043a\\u0440\\u0443\\u0433\", \"\\u043c\\u043e\\u0441\\u043a\\u0432\\u0430\", \"\\u0440\\u0430\\u0431\\u043e\\u0442\\u0430\", \"\\u0435\\u0434\\u0438\\u043d\\u044b\\u0439\", \"\\u0440\\u0430\\u0437\\u0432\\u0438\\u0442\\u0438\\u0435\", \"\\u0441\\u0435\\u0440\\u0433\\u0435\\u0439\", \"\\u0433\\u043e\\u0434\", \"\\u0440\\u043e\\u0441\\u0441\\u0438\\u044f\", \"\\u043f\\u0435\\u0440\\u0432\\u044b\\u0439\", \"\\u043d\\u043e\\u0432\\u044b\\u0439\", \"\\u044d\\u0442\\u043e\", \"\\u0442\\u044b\\u0441\\u044f\\u0447\\u0430\", \"\\u0440\\u043e\\u0441\\u0441\\u0438\\u0439\\u0441\\u043a\\u0438\\u0439\", \"\\u043e\\u0442\\u043c\\u0435\\u0442\\u0438\\u0442\\u044c\", \"\\u0441\\u043b\\u043e\\u0432\\u043e\", \"\\u043a\\u043e\\u0442\\u043e\\u0440\\u044b\\u0439\", \"\\u043d\\u043e\\u0432\\u043e\\u0441\\u0442\\u044c\", \"\\u0442\\u0430\\u043a\\u0436\\u0435\", \"\\u0440\\u0438\\u0430\", \"\\u0441\\u043e\\u043e\\u0431\\u0449\\u0438\\u0442\\u044c\", \"\\u0432\\u0435\\u0441\\u044c\", \"\\u0437\\u0434\\u0430\\u043d\\u0438\\u0435\", \"\\u0432\\u0437\\u0440\\u044b\\u0432\", \"\\u0431\\u043e\\u0435\\u0432\\u0438\\u043a\", \"\\u0438\\u0440\\u0430\\u043a\", \"\\u0442\\u0435\\u0440\\u0440\\u043e\\u0440\\u0438\\u0441\\u0442\", \"\\u043f\\u044f\\u0442\\u043d\\u0438\\u0446\\u0430\", \"\\u043c\\u0432\\u0434\", \"\\u043f\\u0440\\u043e\\u0438\\u0441\\u0448\\u0435\\u0441\\u0442\\u0432\\u0438\\u0435\", \"\\u0430\\u043b\\u044c\", \"\\u043c\\u0438\\u043b\\u0438\\u0446\\u0438\\u044f\", \"\\u0440\\u0430\\u0441\\u043f\\u043e\\u043b\\u043e\\u0436\\u0438\\u0442\\u044c\", \"\\u0432\\u043e\\u0441\\u043a\\u0440\\u0435\\u0441\\u0435\\u043d\\u0438\\u0435\", \"\\u0438\\u0440\\u0430\\u043a\\u0441\\u043a\\u0438\\u0439\", \"\\u043d\\u0430\\u043f\\u0430\\u0434\\u0435\\u043d\\u0438\\u0435\", \"\\u0440\\u0430\\u043d\\u0435\\u043d\\u0438\\u0435\", \"\\u0442\\u0435\\u0440\\u0440\\u043e\\u0440\\u0438\\u0441\\u0442\\u0438\\u0447\\u0435\\u0441\\u043a\\u0438\\u0439\", \"\\u0447\\u0435\\u0447\\u043d\\u044f\", \"\\u0442\\u0440\\u043e\\u0435\", \"\\u0441\\u043e\\u043b\\u0434\\u0430\\u0442\", \"\\u043e\\u0433\\u043e\\u043d\\u044c\", \"\\u0441\\u0442\\u043e\\u043b\\u043a\\u043d\\u043e\\u0432\\u0435\\u043d\\u0438\\u0435\", \"\\u0432\\u043e\\u0434\\u0438\\u0442\\u0435\\u043b\\u044c\", \"\\u0438\\u0441\\u043b\\u0430\\u043c\\u0441\\u043a\\u0438\\u0439\", \"\\u043f\\u043e\\u0441\\u043e\\u043b\\u044c\\u0441\\u0442\\u0432\\u043e\", \"\\u0437\\u0430\\u0445\\u0432\\u0430\\u0442\\u0438\\u0442\\u044c\", \"\\u0440\\u0430\\u043d\\u0438\\u0442\\u044c\", \"\\u0433\\u043e\\u0441\\u043f\\u0438\\u0442\\u0430\\u043b\\u0438\\u0437\\u0438\\u0440\\u043e\\u0432\\u0430\\u0442\\u044c\", \"\\u0437\\u0430\\u043b\\u043e\\u0436\\u043d\\u0438\\u043a\", \"\\u0432\\u0437\\u0440\\u044b\\u0432\\u043d\\u043e\\u0439\", \"\\u043c\\u0438\\u043b\\u0438\\u0446\\u0438\\u043e\\u043d\\u0435\\u0440\", \"\\u043f\\u043e\\u0441\\u0442\\u0440\\u0430\\u0434\\u0430\\u0442\\u044c\", \"\\u043f\\u043e\\u0433\\u0438\\u0431\\u043d\\u0443\\u0442\\u044c\", \"\\u0440\\u0430\\u0439\\u043e\\u043d\", \"\\u043f\\u0440\\u043e\\u0438\\u0437\\u043e\\u0439\\u0442\\u0438\", \"\\u0433\\u043e\\u0440\\u043e\\u0434\", \"\\u0447\\u0435\\u043b\\u043e\\u0432\\u0435\\u043a\", \"\\u0431\\u043e\\u043b\\u044c\\u043d\\u0438\\u0446\\u0430\", \"\\u0440\\u0435\\u0437\\u0443\\u043b\\u044c\\u0442\\u0430\\u0442\", \"\\u043e\\u0440\\u0433\\u0430\\u043d\", \"\\u043d\\u0430\\u0445\\u043e\\u0434\\u0438\\u0442\\u044c\\u0441\\u044f\", \"\\u0436\\u0438\\u0442\\u0435\\u043b\\u044c\", \"\\u043c\\u0435\\u0441\\u0442\\u043d\\u044b\\u0439\", \"\\u0441\\u043e\\u043e\\u0431\\u0449\\u0430\\u0442\\u044c\", \"\\u0434\\u0430\\u043d\\u043d\\u044b\\u0435\", \"\\u043c\\u0435\\u0441\\u0442\\u043e\", \"\\u0441\\u043e\\u0442\\u0440\\u0443\\u0434\\u043d\\u0438\\u043a\", \"\\u0434\\u043e\\u043c\", \"\\u043e\\u043a\\u043e\\u043b\\u043e\", \"\\u0430\\u0433\\u0435\\u043d\\u0442\\u0441\\u0442\\u0432\\u043e\", \"\\u0440\\u0438\\u0430\", \"\\u0441\\u043e\\u043e\\u0431\\u0449\\u0438\\u0442\\u044c\", \"\\u043d\\u043e\\u0432\\u043e\\u0441\\u0442\\u044c\", \"\\u0441\\u0441\\u044b\\u043b\\u043a\\u0430\", \"\\u044d\\u043a\\u043e\\u043d\\u043e\\u043c\\u0438\\u043a\\u0430\", \"\\u0442\\u0430\\u0441\\u0441\", \"\\u044d\\u043a\\u043e\\u043d\\u043e\\u043c\\u0438\\u0447\\u0435\\u0441\\u043a\\u0438\\u0439\", \"\\u043c\\u0435\\u0434\\u0432\\u0435\\u0434\\u0435\\u0432\", \"\\u0433\\u043e\\u0441\\u0434\\u0443\\u043c\\u0430\", \"\\u043f\\u0430\\u043b\\u0430\\u0442\\u0430\", \"\\u0437\\u0430\\u043a\\u043e\\u043d\\u043e\\u043f\\u0440\\u043e\\u0435\\u043a\\u0442\", \"\\u0438\\u0442\\u0430\\u0440\", \"\\u043f\\u043e\\u0432\\u044b\\u0448\\u0435\\u043d\\u0438\\u0435\", \"\\u0440\\u0435\\u0444\\u043e\\u0440\\u043c\\u0430\", \"\\u0444\\u0438\\u043d\\u0430\\u043d\\u0441\\u044b\", \"\\u043f\\u043e\\u0433\\u0438\\u0431\\u0448\\u0438\\u0439\", \"\\u0444\\u0435\\u0434\\u0435\\u0440\\u0430\\u0446\\u0438\\u044f\", \"\\u0434\\u0435\\u043f\\u0443\\u0442\\u0430\\u0442\", \"\\u0440\\u0435\\u0439\\u0441\", \"\\u0442\\u0443\\u0440\\u0438\\u0441\\u0442\", \"\\u043f\\u043e\\u043f\\u0440\\u0430\\u0432\\u043a\\u0430\", \"\\u043e\\u0442\\u043c\\u0435\\u043d\\u0430\", \"\\u0441\\u043d\\u0438\\u0437\\u0438\\u0442\\u044c\", \"\\u0431\\u044e\\u0434\\u0436\\u0435\\u0442\\u043d\\u044b\\u0439\", \"\\u043d\\u043e\\u0440\\u043c\\u0430\", \"\\u0441\\u043f\\u0438\\u043a\\u0435\\u0440\", \"\\u0434\\u043e\\u0433\\u043e\\u0432\\u043e\\u0440\\u0451\\u043d\\u043d\\u043e\\u0441\\u0442\\u044c\", \"\\u0443\\u0442\\u0432\\u0435\\u0440\\u0434\\u0438\\u0442\\u044c\", \"\\u0446\\u0435\\u043b\\u043e\\u0435\", \"\\u043f\\u0435\\u043d\\u0441\\u0438\\u043e\\u043d\\u043d\\u044b\\u0439\", \"\\u0434\\u0443\\u043c\\u0430\", \"\\u043a\\u043e\\u043c\\u043c\\u0435\\u043d\\u0442\\u0438\\u0440\\u043e\\u0432\\u0430\\u0442\\u044c\", \"\\u043f\\u0440\\u043e\\u0433\\u043e\\u043b\\u043e\\u0441\\u043e\\u0432\\u0430\\u0442\\u044c\", \"\\u043f\\u043e\\u0440\\u0443\\u0447\\u0438\\u0442\\u044c\", \"\\u043d\\u0430\\u043b\\u043e\\u0433\", \"\\u0437\\u0430\\u043a\\u043e\\u043d\", \"\\u043f\\u0430\\u0440\\u043b\\u0430\\u043c\\u0435\\u043d\\u0442\", \"\\u0440\\u043e\\u0441\\u0441\\u0438\\u044f\", \"\\u043e\\u0434\\u043e\\u0431\\u0440\\u0438\\u0442\\u044c\", \"\\u043f\\u043e\\u043b\\u043e\\u0436\\u0435\\u043d\\u0438\\u0435\", \"\\u043f\\u0440\\u0430\\u0432\\u0438\\u0442\\u0435\\u043b\\u044c\\u0441\\u0442\\u0432\\u043e\", \"\\u0431\\u044e\\u0434\\u0436\\u0435\\u0442\", \"\\u043c\\u0438\\u043d\\u0438\\u0441\\u0442\\u0435\\u0440\\u0441\\u0442\\u0432\\u043e\", \"\\u0444\\u043e\\u043d\\u0434\", \"\\u0440\\u043e\\u0441\\u0441\\u0438\\u0439\\u0441\\u043a\\u0438\\u0439\", \"\\u0440\\u0430\\u0441\\u0445\\u043e\\u0434\", \"\\u043c\\u0438\\u043d\\u0438\\u0441\\u0442\\u0440\", \"\\u0433\\u043e\\u0441\\u0443\\u0434\\u0430\\u0440\\u0441\\u0442\\u0432\\u0435\\u043d\\u043d\\u044b\\u0439\", \"\\u043d\\u0435\\u043e\\u0431\\u0445\\u043e\\u0434\\u0438\\u043c\\u043e\", \"\\u043f\\u043e\\u0434\\u043f\\u0438\\u0441\\u0430\\u0442\\u044c\", \"\\u0444\\u0435\\u0434\\u0435\\u0440\\u0430\\u043b\\u044c\\u043d\\u044b\\u0439\", \"\\u0441\\u043e\\u0432\\u0435\\u0442\", \"\\u043f\\u0443\\u0442\\u0438\\u043d\", \"\\u0433\\u043e\\u0434\", \"\\u043f\\u0440\\u0438\\u043d\\u044f\\u0442\\u044c\", \"\\u0441\\u0440\\u0435\\u0434\\u0441\\u0442\\u0432\\u043e\", \"\\u044d\\u0442\\u043e\", \"\\u0434\\u043e\\u043b\\u0436\\u043d\\u044b\\u0439\", \"\\u0432\\u043b\\u0430\\u0434\\u0438\\u043c\\u0438\\u0440\", \"\\u0442\\u0430\\u043a\\u0436\\u0435\", \"\\u043c\\u043e\\u0447\\u044c\", \"\\u0441\\u0442\\u0440\\u0430\\u043d\\u0430\", \"\\u043a\\u043e\\u0442\\u043e\\u0440\\u044b\\u0439\", \"\\u0431\\u0430\\u043d\\u043a\", \"\\u0441\\u0443\\u043c\\u043c\\u0430\", \"\\u043d\\u0435\\u0444\\u0442\\u044c\", \"\\u0430\\u0434\\u0432\\u043e\\u043a\\u0430\\u0442\", \"\\u0435\\u0432\\u0440\\u043e\", \"\\u0438\\u0441\\u043a\", \"\\u043c\\u0438\\u043b\\u043b\\u0438\\u0430\\u0440\\u0434\", \"\\u043e\\u0441\\u043d\\u043e\\u0432\\u043d\\u044b\\u0439\", \"\\u0446\\u0435\\u043d\\u0430\", \"\\u043a\\u0443\\u0440\\u0441\", \"\\u0441\\u0442\\u043e\\u0438\\u0442\\u044c\", \"\\u0442\\u0440\\u0438\\u043b\\u043b\\u0438\\u043e\\u043d\", \"\\u0430\\u043a\\u0442\\u0438\\u0432\", \"\\u0432\\u0430\\u043b\\u044e\\u0442\\u0430\", \"\\u0431\\u0443\\u043c\\u0430\\u0433\\u0430\", \"\\u0443\\u0432\\u0435\\u043b\\u0438\\u0447\\u0438\\u0442\\u044c\\u0441\\u044f\", \"\\u0442\\u043e\\u0440\\u0433\", \"\\u043a\\u043e\\u043c\\u043f\\u0435\\u043d\\u0441\\u0430\\u0446\\u0438\\u044f\", \"\\u0432\\u044b\\u043f\\u043b\\u0430\\u0442\\u0430\", \"\\u0438\\u043d\\u0432\\u0435\\u0441\\u0442\\u043e\\u0440\", \"\\u0441\\u043d\\u0438\\u0437\\u0438\\u0442\\u044c\\u0441\\u044f\", \"\\u0432\\u0430\\u043b\\u044e\\u0442\\u043d\\u044b\\u0439\", \"\\u0431\\u0438\\u0440\\u0436\\u0430\", \"\\u0431\\u0430\\u0440\\u0440\\u0435\\u043b\\u044c\", \"\\u0430\\u0443\\u043a\\u0446\\u0438\\u043e\\u043d\", \"\\u0438\\u043d\\u0434\\u0435\\u043a\\u0441\", \"\\u0446\\u0435\\u043d\\u043d\\u044b\\u0439\", \"\\u043a\\u0430\\u043f\\u0438\\u0442\\u0430\\u043b\", \"\\u043f\\u043b\\u044e\\u0441\", \"\\u0432\\u044b\\u043d\\u0435\\u0441\\u0442\\u0438\", \"\\u0440\\u0443\\u0431\\u043b\\u044c\", \"\\u0434\\u043e\\u043b\\u043b\\u0430\\u0440\", \"\\u043e\\u0431\\u044a\\u0451\\u043c\", \"\\u0441\\u0442\\u043e\\u0438\\u043c\\u043e\\u0441\\u0442\\u044c\", \"\\u043c\\u0438\\u043b\\u043b\\u0438\\u043e\\u043d\", \"\\u0440\\u0430\\u0437\\u043c\\u0435\\u0440\", \"\\u0430\\u043a\\u0446\\u0438\\u044f\", \"\\u0441\\u043e\\u0441\\u0442\\u0430\\u0432\\u0438\\u0442\\u044c\", \"\\u0444\\u0438\\u043d\\u0430\\u043d\\u0441\\u043e\\u0432\\u044b\\u0439\", \"\\u043f\\u0440\\u043e\\u0446\\u0435\\u043d\\u0442\", \"\\u0441\\u0447\\u0451\\u0442\", \"\\u0433\\u043e\\u0434\", \"\\u0440\\u044b\\u043d\\u043e\\u043a\", \"\\u0434\\u0435\\u043d\\u044c\\u0433\\u0430\", \"\\u0441\\u0440\\u0435\\u0434\\u0441\\u0442\\u0432\\u043e\", \"\\u043a\\u043e\\u043c\\u043f\\u0430\\u043d\\u0438\\u044f\", \"\\u0440\\u043e\\u0441\\u0441\\u0438\\u0439\\u0441\\u043a\\u0438\\u0439\", \"\\u043a\\u0440\\u0443\\u043f\\u043d\\u044b\\u0439\", \"\\u044d\\u0442\\u043e\", \"\\u043c\\u0435\\u0441\\u044f\\u0446\", \"\\u0442\\u044b\\u0441\\u044f\\u0447\\u0430\", \"\\u0440\\u043e\\u0441\\u0441\\u0438\\u044f\", \"the\", \"\\u043f\\u0440\\u043e\\u0434\\u0430\\u0436\\u0430\", \"\\u0431\\u0440\\u0438\\u0442\\u0430\\u043d\\u0441\\u043a\\u0438\\u0439\", \"\\u043f\\u0440\\u0435\\u0434\\u043f\\u0440\\u0438\\u044f\\u0442\\u0438\\u0435\", \"\\u0441\\u0434\\u0435\\u043b\\u043a\\u0430\", \"\\u0442\\u0440\\u0435\\u0442\\u0438\\u0439\", \"\\u0438\\u0441\\u0441\\u043b\\u0435\\u0434\\u043e\\u0432\\u0430\\u043d\\u0438\\u0435\", \"\\u0434\\u043e\\u043b\\u0433\", \"\\u043a\\u043e\\u0440\\u043f\\u043e\\u0440\\u0430\\u0446\\u0438\\u044f\", \"\\u0442\\u0435\\u0445\\u043d\\u043e\\u043b\\u043e\\u0433\\u0438\\u044f\", \"\\u0437\\u0430\\u043f\\u0443\\u0441\\u0442\\u0438\\u0442\\u044c\", \"\\u043f\\u0440\\u043e\\u0438\\u0437\\u0432\\u043e\\u0434\\u0438\\u0442\\u0435\\u043b\\u044c\", \"apple\", \"\\u043f\\u0440\\u043e\\u0434\\u0430\\u0442\\u044c\", \"\\u043f\\u043e\\u043a\\u0443\\u043f\\u043a\\u0430\", \"\\u0442\\u043e\\u043d\\u043d\\u0430\", \"times\", \"\\u043c\\u043e\\u0431\\u0438\\u043b\\u044c\\u043d\\u044b\\u0439\", \"\\u043a\\u0443\\u043f\\u0438\\u0442\\u044c\", \"microsoft\", \"\\u0430\\u043c\\u0435\\u0440\\u0438\\u043a\\u0430\", \"\\u043a\\u043d\\u0438\\u0433\\u0430\", \"\\u043a\\u043e\\u043c\\u043f\\u044c\\u044e\\u0442\\u0435\\u0440\\u043d\\u044b\\u0439\", \"\\u0441\\u043f\\u043e\\u0441\\u043e\\u0431\\u043d\\u044b\\u0439\", \"\\u043f\\u043e\\u043a\\u0443\\u043f\\u0430\\u0442\\u0435\\u043b\\u044c\", \"\\u0438\\u0433\\u0440\\u043e\\u043a\", \"\\u043c\\u0430\\u0441\\u0441\\u0430\", \"\\u0431\\u0435\\u0441\\u043f\\u043b\\u0430\\u0442\\u043d\\u044b\\u0439\", \"\\u0432\\u0442\\u043e\\u0440\\u043e\\u0435\", \"\\u043a\\u043e\\u043d\\u043a\\u0443\\u0440\\u0435\\u043d\\u0446\\u0438\\u044f\", \"\\u0434\\u043e\\u043b\\u044f\", \"\\u043a\\u043e\\u043c\\u043f\\u0430\\u043d\\u0438\\u044f\", \"new\", \"\\u0441\\u0438\\u0441\\u0442\\u0435\\u043c\\u0430\", \"\\u043c\\u0438\\u0440\\u043e\\u0432\\u043e\\u0439\", \"\\u0440\\u044b\\u043d\\u043e\\u043a\", \"\\u0433\\u043e\\u0434\", \"\\u043d\\u043e\\u0432\\u044b\\u0439\", \"\\u044f\\u0432\\u043b\\u044f\\u0442\\u044c\\u0441\\u044f\", \"\\u043f\\u043e\\u043b\\u0443\\u0447\\u0438\\u0442\\u044c\", \"\\u043f\\u0438\\u0441\\u0430\\u0442\\u044c\", \"\\u043a\\u043e\\u0442\\u043e\\u0440\\u044b\\u0439\", \"\\u043a\\u0440\\u0443\\u043f\\u043d\\u044b\\u0439\", \"\\u043c\\u043e\\u0447\\u044c\", \"\\u0441\\u043e\\u0437\\u0434\\u0430\\u0442\\u044c\", \"\\u043c\\u0438\\u043b\\u043b\\u0438\\u043e\\u043d\", \"\\u044d\\u0442\\u043e\", \"\\u0441\\u0432\\u043e\\u0439\", \"\\u0441\\u0442\\u0430\\u0442\\u044c\", \"\\u043d\\u0430\\u0447\\u0430\\u043b\\u043e\", \"\\u0441\\u0448\\u0430\", \"\\u0437\\u0430\\u043f\\u0430\\u0434\\u043d\\u044b\\u0439\", \"\\u043c\\u0430\\u0433\\u0430\\u0437\\u0438\\u043d\", \"\\u043f\\u043e\\u043a\\u0430\\u0437\\u0430\\u0442\\u0435\\u043b\\u044c\", \"\\u0441\\u0442\\u0430\\u043d\\u0446\\u0438\\u044f\", \"\\u0440\\u0435\\u0439\\u0442\\u0438\\u043d\\u0433\", \"\\u0431\\u0430\\u0440\\u0430\\u043a\", \"\\u0432\\u0432\\u043f\", \"\\u0437\\u0430\\u0444\\u0438\\u043a\\u0441\\u0438\\u0440\\u043e\\u0432\\u0430\\u0442\\u044c\", \"\\u044f\\u043f\\u043e\\u043d\\u0438\\u044f\", \"afp\", \"\\u043d\\u0438\\u0437\\u043a\\u0438\\u0439\", \"\\u0441\\u0435\\u0432\\u0435\\u0440\\u043e\", \"\\u0437\\u0435\\u043c\\u043b\\u0435\\u0442\\u0440\\u044f\\u0441\\u0435\\u043d\\u0438\\u0435\", \"\\u043c\\u0438\\u043d\\u044d\\u043a\\u043e\\u043d\\u043e\\u043c\\u0440\\u0430\\u0437\\u0432\\u0438\\u0442\\u0438\\u044f\", \"\\u044f\\u043f\\u043e\\u043d\\u0441\\u043a\\u0438\\u0439\", \"\\u043e\\u0442\\u043c\\u0435\\u0442\\u043a\\u0430\", \"\\u043f\\u0440\\u043e\\u0433\\u043d\\u043e\\u0437\", \"\\u0430\\u043a\\u0442\\u0438\\u0432\\u043d\\u043e\\u0441\\u0442\\u044c\", \"\\u043c\\u0435\\u0442\\u0440\\u043e\", \"\\u0433\\u043e\\u0440\\u0430\", \"\\u043e\\u0442\\u0435\\u0447\\u0435\\u0441\\u0442\\u0432\\u0435\\u043d\\u043d\\u044b\\u0439\", \"\\u0441\\u0430\\u043b\\u043e\\u043d\", \"\\u0440\\u043e\\u0437\\u043d\\u0438\\u0447\\u043d\\u044b\\u0439\", \"\\u043f\\u0440\\u0430\\u0432\\u044b\\u0439\", \"\\u0436\\u0438\\u043b\\u044c\\u0451\", \"\\u043f\\u043e\\u0431\\u0435\\u0434\\u0438\\u0442\\u044c\", \"\\u0441\\u043e\\u0442\\u043e\\u0432\\u044b\\u0439\", \"\\u0441\\u0435\\u0432\\u0435\\u0440\", \"\\u043a\\u0430\\u043d\\u0430\\u0434\\u0430\", \"\\u0434\\u0430\\u043b\\u044c\\u043d\\u0438\\u0439\", \"\\u0434\\u043e\\u0441\\u0442\\u0438\\u0433\\u0430\\u0442\\u044c\", \"\\u0440\\u043e\\u0441\\u0442\", \"\\u043f\\u0440\\u043e\\u0446\\u0435\\u043d\\u0442\", \"\\u0441\\u0430\\u043c\\u044b\\u0439\", \"\\u043d\\u044c\\u044e\", \"\\u0439\\u043e\\u0440\\u043a\", \"\\u0443\\u043f\\u0430\\u0441\\u0442\\u044c\", \"\\u0441\\u0440\\u0430\\u0432\\u043d\\u0435\\u043d\\u0438\\u0435\", \"\\u043a\\u043e\\u0430\\u043b\\u0438\\u0446\\u0438\\u044f\", \"\\u0443\\u0440\\u043e\\u0432\\u0435\\u043d\\u044c\", \"\\u0440\\u0430\\u0441\\u0442\\u0438\", \"\\u0432\\u044b\\u0440\\u0430\\u0441\\u0442\\u0438\", \"\\u0442\\u044b\\u0441\\u044f\\u0447\\u0430\", \"\\u0433\\u043e\\u0434\", \"\\u0441\\u0442\\u0440\\u0430\\u043d\\u0430\", \"\\u043c\\u0435\\u0441\\u0442\\u043e\", \"\\u0448\\u0442\\u0430\\u0442\", \"\\u0432\\u0435\\u0441\\u044c\", \"\\u0441\\u0448\\u0430\", \"\\u0447\\u0438\\u0441\\u043b\\u043e\", \"\\u0441\\u043e\\u0441\\u0442\\u0430\\u0432\\u0438\\u0442\\u044c\", \"\\u043f\\u0435\\u0440\\u0432\\u044b\\u0439\", \"\\u0432\\u0442\\u043e\\u0440\\u043e\\u0439\", \"\\u044f\\u043d\\u0432\\u0430\\u0440\\u044c\", \"\\u044d\\u0442\\u043e\", \"\\u0434\\u0430\\u043d\\u043d\\u044b\\u0435\", \"\\u0447\\u0435\\u043b\\u043e\\u0432\\u0435\\u043a\", \"\\u043e\\u043a\\u043e\\u043b\\u043e\", \"\\u043d\\u0430\\u0447\\u0430\\u043b\\u043e\", \"\\u0432\\u0440\\u0435\\u043c\\u044f\", \"\\u043f\\u043e\\u043b\\u044c\\u0437\\u043e\\u0432\\u0430\\u0442\\u0435\\u043b\\u044c\", \"\\u0443\\u0433\\u043e\\u043b\\u043e\\u0432\\u043d\\u044b\\u0439\", \"\\u043f\\u0440\\u0435\\u0441\\u0442\\u0443\\u043f\\u043b\\u0435\\u043d\\u0438\\u0435\", \"\\u043d\\u0430\\u0439\\u0442\\u0438\", \"\\u0430\\u0432\\u0442\\u043e\\u043c\\u043e\\u0431\\u0438\\u043b\\u044c\", \"\\u043f\\u043e\\u043b\\u0438\\u0446\\u0435\\u0439\\u0441\\u043a\\u0438\\u0439\", \"\\u0441\\u043b\\u0435\\u0434\\u0441\\u0442\\u0432\\u0438\\u0435\", \"\\u043f\\u043e\\u0434\\u043e\\u0437\\u0440\\u0435\\u0432\\u0430\\u0442\\u044c\", \"\\u0430\\u0440\\u0435\\u0441\\u0442\", \"\\u0432\\u043e\\u0437\\u0431\\u0443\\u0434\\u0438\\u0442\\u044c\", \"\\u0430\\u0440\\u0435\\u0441\\u0442\\u043e\\u0432\\u0430\\u0442\\u044c\", \"\\u0441\\u043c\\u0435\\u0440\\u0442\\u044c\", \"\\u043f\\u0440\\u0435\\u0441\\u0442\\u0443\\u043f\\u043d\\u0438\\u043a\", \"\\u0442\\u044e\\u0440\\u044c\\u043c\\u0430\", \"\\u0437\\u0430\\u043a\\u043b\\u044e\\u0447\\u0435\\u043d\\u0438\\u0435\", \"\\u043f\\u0440\\u0438\\u0433\\u043e\\u0432\\u043e\\u0440\\u0438\\u0442\\u044c\", \"facebook\", \"\\u043a\\u043e\\u0440\\u0440\\u0435\\u0441\\u043f\\u043e\\u043d\\u0434\\u0435\\u043d\\u0442\", \"\\u0434\\u0435\\u0432\\u0443\\u0448\\u043a\\u0430\", \"\\u043d\\u0430\\u043a\\u0430\\u0437\\u0430\\u043d\\u0438\\u0435\", \"\\u0440\\u043e\\u0434\\u0441\\u0442\\u0432\\u0435\\u043d\\u043d\\u0438\\u043a\", \"\\u043f\\u043e\\u0434\\u043e\\u0437\\u0440\\u0435\\u043d\\u0438\\u0435\", \"\\u043f\\u043e\\u0434\\u0440\\u043e\\u0441\\u0442\\u043e\\u043a\", \"\\u0441\\u043e\\u0432\\u0435\\u0440\\u0448\\u0435\\u043d\\u0438\\u0435\", \"\\u0437\\u0430\\u0434\\u0435\\u0440\\u0436\\u0430\\u043d\\u0438\\u0435\", \"\\u0441\\u0442\\u0440\\u0430\\u0436\\u0430\", \"\\u0444\\u0438\\u0433\\u0443\\u0440\\u0430\\u043d\\u0442\", \"\\u043d\\u0442\\u0432\", \"\\u043d\\u0430\\u0440\\u043a\\u043e\\u0442\\u0438\\u043a\", \"\\u0442\\u044e\\u0440\\u0435\\u043c\\u043d\\u044b\\u0439\", \"\\u0436\\u0435\\u043d\\u0449\\u0438\\u043d\\u0430\", \"\\u0437\\u0430\\u0434\\u0435\\u0440\\u0436\\u0430\\u0442\\u044c\", \"\\u043b\\u0435\\u0442\\u043d\\u0438\\u0439\", \"\\u0434\\u0435\\u043b\\u043e\", \"\\u0441\\u0443\\u0434\", \"\\u043c\\u0443\\u0436\\u0447\\u0438\\u043d\\u0430\", \"\\u0440\\u0435\\u0431\\u0451\\u043d\\u043e\\u043a\", \"\\u0441\\u0442\\u0430\\u0442\\u044c\\u044f\", \"\\u043f\\u043e\\u043b\\u0438\\u0446\\u0438\\u044f\", \"\\u0444\\u0430\\u043a\\u0442\", \"\\u0433\\u043e\\u0434\", \"\\u043d\\u0435\\u0437\\u0430\\u043a\\u043e\\u043d\\u043d\\u044b\\u0439\", \"\\u0440\\u0430\\u0441\\u0441\\u043b\\u0435\\u0434\\u043e\\u0432\\u0430\\u043d\\u0438\\u0435\", \"\\u0441\\u043e\\u0442\\u0440\\u0443\\u0434\\u043d\\u0438\\u043a\", \"\\u043f\\u0440\\u0438\\u0437\\u043d\\u0430\\u0442\\u044c\", \"\\u0443\\u043a\\u0440\\u0430\\u0438\\u043d\\u0430\", \"\\u0440\\u0430\\u043a\\u0435\\u0442\\u0430\", \"\\u0438\\u0440\\u0430\\u043d\", \"\\u043e\\u0431\\u043e\\u0440\\u043e\\u043d\\u0430\", \"\\u0442\\u0443\\u0440\\u0446\\u0438\\u044f\", \"\\u0431\\u0430\\u0437\\u0430\", \"\\u0430\\u044d\\u0440\\u043e\\u043f\\u043e\\u0440\\u0442\", \"\\u0443\\u043a\\u0440\\u0430\\u0438\\u043d\\u0441\\u043a\\u0438\\u0439\", \"\\u0430\\u0440\\u043c\\u0438\\u044f\", \"\\u044f\\u0434\\u0435\\u0440\\u043d\\u044b\\u0439\", \"\\u0441\\u0438\\u0440\\u0438\\u044f\", \"\\u0432\\u043e\\u043e\\u0440\\u0443\\u0436\\u0435\\u043d\\u0438\\u0435\", \"\\u0432\\u043e\\u0435\\u043d\\u043d\\u044b\\u0439\", \"\\u0432\\u043e\\u0435\\u043d\\u043d\\u043e\\u0441\\u043b\\u0443\\u0436\\u0430\\u0449\\u0438\\u0439\", \"\\u0433\\u0440\\u0443\\u0437\\u0438\\u044f\", \"\\u0441\\u0438\\u0440\\u0438\\u0439\\u0441\\u043a\\u0438\\u0439\", \"\\u0440\\u0430\\u043a\\u0435\\u0442\\u043d\\u044b\\u0439\", \"\\u0442\\u043e\\u043f\\u043b\\u0438\\u0432\\u043e\", \"\\u0445\\u0430\\u043a\\u0435\\u0440\", \"\\u043a\\u043e\\u0440\\u0435\\u044f\", \"\\u043c\\u0438\\u043d\\u043e\\u0431\\u043e\\u0440\\u043e\\u043d\\u044b\", \"\\u0430\\u044d\\u0440\\u043e\\u0444\\u043b\\u043e\\u0442\", \"\\u043e\\u0441\\u0443\\u0449\\u0435\\u0441\\u0442\\u0432\\u0438\\u0442\\u044c\", \"\\u0433\\u0440\\u0443\\u0437\\u0438\\u043d\\u0441\\u043a\\u0438\\u0439\", \"\\u0437\\u0430\\u043c\\u0435\\u043d\\u0438\\u0442\\u044c\", \"\\u0437\\u0430\\u043e\", \"\\u043f\\u043e\\u0433\\u0440\\u0430\\u043d\\u0438\\u0447\\u043d\\u0438\\u043a\", \"\\u0430\\u0442\\u043e\\u043c\\u043d\\u044b\\u0439\", \"\\u0430\\u0440\\u0433\\u0435\\u043d\\u0442\\u0438\\u043d\\u0430\", \"\\u0441\\u043e\\u0447\\u0438\", \"\\u0432\\u043e\\u0439\\u0441\\u043a\\u043e\", \"\\u043f\\u043e\\u0441\\u0442\\u0430\\u0432\\u043a\\u0430\", \"\\u0441\\u0438\\u043b\\u0430\", \"\\u0433\\u0440\\u0430\\u043d\\u0438\\u0446\\u0430\", \"\\u0442\\u0435\\u0440\\u0440\\u0438\\u0442\\u043e\\u0440\\u0438\\u044f\", \"\\u0430\\u043c\\u0435\\u0440\\u0438\\u043a\\u0430\\u043d\\u0441\\u043a\\u0438\\u0439\", \"\\u0441\\u0435\\u0432\\u0435\\u0440\\u043d\\u044b\\u0439\", \"\\u0441\\u0448\\u0430\", \"\\u0440\\u043e\\u0441\\u0441\\u0438\\u0439\\u0441\\u043a\\u0438\\u0439\", \"\\u043a\\u043e\\u043c\\u043f\\u043b\\u0435\\u043a\\u0441\", \"\\u043e\\u0440\\u0443\\u0436\\u0438\\u0435\", \"\\u0440\\u043e\\u0441\\u0441\\u0438\\u044f\", \"\\u043c\\u0435\\u0436\\u0434\\u0443\\u043d\\u0430\\u0440\\u043e\\u0434\\u043d\\u044b\\u0439\", \"\\u0441\\u0442\\u0440\\u0430\\u043d\\u0430\", \"\\u043c\\u0438\\u043d\\u0438\\u0441\\u0442\\u0435\\u0440\\u0441\\u0442\\u0432\\u043e\", \"\\u0437\\u0430\\u044f\\u0432\\u0438\\u0442\\u044c\", \"\\u0442\\u0430\\u043a\\u0436\\u0435\", \"\\u0438\\u043d\\u0442\\u0435\\u0440\\u043d\\u0435\\u0442\", \"\\u0434\\u0438\\u0440\\u0435\\u043a\\u0442\\u043e\\u0440\", \"\\u0437\\u0430\\u043c\\u0435\\u0441\\u0442\\u0438\\u0442\\u0435\\u043b\\u044c\", \"\\u0434\\u043e\\u043b\\u0436\\u043d\\u043e\\u0441\\u0442\\u044c\", \"google\", \"\\u0444\\u0438\\u0440\\u043c\\u0430\", \"\\u0442\\u0435\\u043b\\u0435\\u0444\\u043e\\u043d\", \"\\u0443\\u0441\\u043b\\u0443\\u0433\\u0430\", \"\\u043e\\u043f\\u0435\\u0440\\u0430\\u0442\\u043e\\u0440\", \"twitter\", \"\\u0445\\u043e\\u043b\\u0434\\u0438\\u043d\\u0433\", \"yahoo\", \"\\u0438\\u0437\\u0432\\u0435\\u0441\\u0442\\u0438\\u0435\", \"\\u0433\\u0443\\u0432\\u0434\", \"\\u043f\\u0443\\u0431\\u043b\\u0438\\u043a\\u043e\\u0432\\u0430\\u0442\\u044c\", \"\\u0431\\u043b\\u043e\\u0433\", \"\\u0440\\u0430\\u0441\\u0441\\u043a\\u0430\\u0437\\u044b\\u0432\\u0430\\u0442\\u044c\", \"\\u043c\\u0435\\u043d\\u0435\\u0434\\u0436\\u0435\\u0440\", \"\\u0432\\u044b\\u0440\\u0443\\u0447\\u043a\\u0430\", \"\\u0433\\u0435\\u043d\\u043d\\u0430\\u0434\\u0438\\u0439\", \"\\u0442\\u043e\\u043f\", \"\\u0432\\u0430\\u0441\\u0438\\u043b\\u0438\\u0439\", \"\\u043e\\u043e\\u043e\", \"\\u0430\\u0443\\u0434\\u0438\\u0442\\u043e\\u0440\\u0438\\u044f\", \"\\u0441\\u043f\\u0435\\u0446\\u0438\\u0430\\u043b\\u044c\\u043d\\u043e\", \"\\u0440\\u044b\\u043d\\u043e\\u0447\\u043d\\u044b\\u0439\", \"\\u0432\\u044b\\u043b\\u043e\\u0436\\u0438\\u0442\\u044c\", \"\\u043c\\u043b\\u0430\\u0434\\u0448\\u0438\\u0439\", \"\\u0440\\u0430\\u0441\\u0441\\u043b\\u0435\\u0434\\u043e\\u0432\\u0430\\u0442\\u044c\", \"\\u043f\\u0440\\u0438\\u043c\\u043e\\u0440\\u0441\\u043a\\u0438\\u0439\", \"\\u043d\\u0430\\u0447\\u0430\\u043b\\u044c\\u043d\\u0438\\u043a\", \"\\u0441\\u0435\\u0442\\u044c\", \"\\u0441\\u0435\\u0440\\u0432\\u0438\\u0441\", \"\\u0434\\u043e\\u0441\\u0442\\u0443\\u043f\", \"\\u0438\\u043d\\u0444\\u043e\\u0440\\u043c\\u0430\\u0446\\u0438\\u043e\\u043d\\u043d\\u044b\\u0439\", \"\\u0438\\u043d\\u0444\\u043e\\u0440\\u043c\\u0430\\u0446\\u0438\\u044f\", \"\\u0433\\u0430\\u0437\\u0435\\u0442\\u0430\", \"\\u0441\\u043c\\u0438\", \"\\u0442\\u043e\\u0440\\u0433\\u043e\\u0432\\u044b\\u0439\", \"\\u0440\\u0443\\u043a\\u043e\\u0432\\u043e\\u0434\\u0438\\u0442\\u0435\\u043b\\u044c\", \"\\u0436\\u0443\\u0440\\u043d\\u0430\\u043b\\u0438\\u0441\\u0442\", \"\\u0438\\u0437\\u0434\\u0430\\u043d\\u0438\\u0435\", \"\\u0441\\u043e\\u0442\\u0440\\u0443\\u0434\\u043d\\u0438\\u043a\", \"\\u0441\\u043e\\u043e\\u0431\\u0449\\u0435\\u043d\\u0438\\u0435\", \"\\u0440\\u0430\\u0431\\u043e\\u0442\\u0430\\u0442\\u044c\", \"\\u0438\\u0441\\u0442\\u043e\\u0447\\u043d\\u0438\\u043a\", \"\\u0443\\u043f\\u0440\\u0430\\u0432\\u043b\\u0435\\u043d\\u0438\\u0435\", \"\\u0441\\u0432\\u044f\\u0437\\u044c\", \"\\u043a\\u043e\\u043c\\u043f\\u0430\\u043d\\u0438\\u044f\", \"\\u0430\\u0433\\u0435\\u043d\\u0442\\u0441\\u0442\\u0432\\u043e\", \"\\u0441\\u043b\\u0443\\u0436\\u0431\\u0430\", \"\\u0441\\u043e\\u043e\\u0431\\u0449\\u0438\\u0442\\u044c\", \"\\u0434\\u0430\\u043d\\u043d\\u044b\\u0435\", \"\\u043f\\u0440\\u043e\\u0432\\u0435\\u0434\\u0435\\u043d\\u0438\\u0435\", \"\\u043c\\u0435\\u0440\\u043e\\u043f\\u0440\\u0438\\u044f\\u0442\\u0438\\u0435\", \"\\u043c\\u0438\\u0442\\u0438\\u043d\\u0433\", \"\\u0432\\u044b\\u044f\\u0441\\u043d\\u0438\\u0442\\u044c\", \"\\u0432\\u044b\\u044f\\u0432\\u0438\\u0442\\u044c\", \"\\u043e\\u0441\\u043e\\u0431\\u044b\\u0439\", \"\\u043c\\u0447\\u0441\", \"\\u0431\\u043e\\u0440\\u0438\\u0441\", \"\\u0438\\u0441\\u043f\\u043e\\u043b\\u043d\\u0435\\u043d\\u0438\\u0435\", \"\\u0430\\u043a\\u0442\\u0438\\u0432\\u043d\\u044b\\u0439\", \"\\u0440\\u0435\\u0434\\u0430\\u043a\\u0446\\u0438\\u044f\", \"\\u043a\\u043e\\u043d\\u0441\\u0442\\u0438\\u0442\\u0443\\u0446\\u0438\\u044f\", \"york\", \"\\u043e\\u0442\\u0435\\u043b\\u044c\", \"\\u0438\\u043b\\u044c\\u044f\", \"\\u043f\\u0440\\u0430\\u0437\\u0434\\u043d\\u0438\\u043a\", \"\\u0441\\u0438\\u0437\\u044b\\u0439\", \"\\u044d\\u043a\\u0441\\u0442\\u0440\\u0435\\u043d\\u043d\\u044b\\u0439\", \"\\u0448\\u043e\\u0439\\u0433\\u0443\", \"\\u043c\\u0438\\u043d\\u044e\\u0441\\u0442\", \"\\u0432\\u0438\\u0442\\u0430\\u043b\\u0438\\u0439\", \"\\u0432\\u044b\\u0445\\u043e\\u0434\\u043d\\u043e\\u0439\", \"\\u043f\\u0440\\u043e\\u0442\\u0438\\u0432\\u043e\\u0440\\u0435\\u0447\\u0438\\u0442\\u044c\", \"\\u043e\\u0442\\u0432\\u0435\\u0442\\u0441\\u0442\\u0432\\u0435\\u043d\\u043d\\u044b\\u0439\", \"\\u043c\\u043e\\u043b\\u043e\\u0434\\u0451\\u0436\\u043d\\u044b\\u0439\", \"\\u043e\\u0431\\u0449\\u0435\\u0441\\u0442\\u0432\\u0435\\u043d\\u043d\\u043e\\u0441\\u0442\\u044c\", \"\\u0441\\u043f\\u043e\\u0440\\u0442\\u0438\\u0432\\u043d\\u044b\\u0439\", \"\\u043e\\u043b\\u0438\\u043c\\u043f\\u0438\\u0439\\u0441\\u043a\\u0438\\u0439\", \"\\u0441\\u0444\\u043e\\u0440\\u043c\\u0438\\u0440\\u043e\\u0432\\u0430\\u0442\\u044c\", \"\\u043a\\u0430\\u043d\\u0430\\u0434\\u0441\\u043a\\u0438\\u0439\", \"\\u043f\\u0440\\u043e\\u0432\\u0435\\u0440\\u043a\\u0430\", \"\\u043f\\u0440\\u043e\\u043a\\u0443\\u0440\\u0430\\u0442\\u0443\\u0440\\u0430\", \"\\u0443\\u0447\\u0430\\u0441\\u0442\\u043d\\u0438\\u043a\", \"\\u0434\\u0432\\u0438\\u0436\\u0435\\u043d\\u0438\\u0435\", \"\\u043d\\u0430\\u0440\\u0443\\u0448\\u0435\\u043d\\u0438\\u0435\", \"\\u043f\\u0440\\u0435\\u0441\\u0441\", \"\\u0441\\u043b\\u0443\\u0436\\u0431\\u0430\", \"\\u0430\\u043a\\u0446\\u0438\\u044f\", \"\\u043f\\u0440\\u043e\\u0432\\u043e\\u0434\\u0438\\u0442\\u044c\\u0441\\u044f\", \"\\u043c\\u043e\\u0441\\u043a\\u0432\\u0430\", \"\\u0440\\u0430\\u043c\\u043a\\u0430\", \"\\u043e\\u0431\\u0449\\u0435\\u0441\\u0442\\u0432\\u0435\\u043d\\u043d\\u044b\\u0439\", \"\\u0432\\u0435\\u0434\\u043e\\u043c\\u0441\\u0442\\u0432\\u043e\", \"\\u043f\\u0440\\u043e\\u0432\\u0435\\u0441\\u0442\\u0438\", \"\\u0441\\u0430\\u0439\\u0442\", \"\\u043d\\u043e\\u043c\\u0435\\u0440\", \"\\u0443\\u043f\\u0440\\u0430\\u0432\\u043b\\u0435\\u043d\\u0438\\u0435\", \"\\u0443\\u0447\\u0430\\u0441\\u0442\\u0438\\u0435\", \"\\u0434\\u0435\\u043d\\u044c\", \"\\u043c\\u043e\\u0441\\u043a\\u043e\\u0432\\u0441\\u043a\\u0438\\u0439\", \"\\u043e\\u0431\\u043b\\u0430\\u0441\\u0442\\u044c\", \"\\u0440\\u043e\\u0441\\u0441\\u0438\\u044f\", \"\\u043e\\u0440\\u0433\\u0430\\u043d\\u0438\\u0437\\u0430\\u0446\\u0438\\u044f\", \"\\u0438\\u0433\\u0440\\u0430\", \"\\u0430\\u043f\\u043f\\u0430\\u0440\\u0430\\u0442\", \"\\u0440\\u0430\\u0437\\u0440\\u0430\\u0431\\u043e\\u0442\\u043a\\u0430\", \"\\u0440\\u0435\\u043a\\u043b\\u0430\\u043c\\u0430\", \"\\u043a\\u043e\\u0441\\u043c\\u0438\\u0447\\u0435\\u0441\\u043a\\u0438\\u0439\", \"\\u043f\\u0440\\u0438\\u043b\\u043e\\u0436\\u0435\\u043d\\u0438\\u0435\", \"\\u043a\\u043e\\u0440\\u0430\\u0431\\u043b\\u044c\", \"\\u0432\\u0438\\u0434\\u0435\\u043e\", \"xbox\", \"\\u0441\\u0435\\u0440\\u0438\\u044f\", \"\\u0437\\u0430\\u043f\\u0443\\u0441\\u043a\", \"\\u0440\\u0430\\u0437\\u0440\\u0430\\u0431\\u043e\\u0442\\u0447\\u0438\\u043a\", \"iphone\", \"\\u0444\\u0438\\u043b\\u044c\\u043c\", \"\\u0441\\u043f\\u0443\\u0442\\u043d\\u0438\\u043a\", \"\\u043a\\u043e\\u043d\\u0441\\u043e\\u043b\\u044c\", \"\\u0440\\u043e\\u043b\\u0438\\u043a\", \"\\u0441\\u043c\\u0430\\u0440\\u0442\\u0444\\u043e\\u043d\", \"\\u0436\\u0438\\u043b\\u043e\\u0439\", \"\\u043e\\u0440\\u0431\\u0438\\u0442\\u0430\", \"\\u0440\\u0435\\u043a\\u043b\\u0430\\u043c\\u043d\\u044b\\u0439\", \"\\u043a\\u043b\\u0430\\u0441\\u0441\", \"\\u0438\\u0441\\u043f\\u044b\\u0442\\u0430\\u043d\\u0438\\u0435\", \"\\u0432\\u044b\\u0431\\u0440\\u0430\\u0442\\u044c\", \"\\u0441\\u0442\\u0435\\u043d\\u0430\", \"\\u0430\\u043a\\u0442\\u0438\\u0432\\u043d\\u043e\", \"\\u043c\\u0430\\u0442\\u0447\", \"youtube\", \"\\u0441\\u043e\\u0437\\u0434\\u0430\\u0442\\u0435\\u043b\\u044c\", \"\\u043f\\u043e\\u0434\\u0447\\u0451\\u0440\\u043a\\u0438\\u0432\\u0430\\u0442\\u044c\", \"\\u0432\\u044b\\u0439\\u0442\\u0438\", \"\\u043f\\u0440\\u0435\\u0434\\u0441\\u0442\\u0430\\u0432\\u0438\\u0442\\u044c\", \"\\u043f\\u0435\\u0440\\u0432\\u044b\\u0439\", \"\\u043f\\u0440\\u043e\\u0435\\u043a\\u0442\", \"\\u043d\\u043e\\u0432\\u044b\\u0439\", \"\\u043f\\u043e\\u044f\\u0432\\u0438\\u0442\\u044c\\u0441\\u044f\", \"\\u043f\\u043e\\u043a\\u0430\\u0437\\u0430\\u0442\\u044c\", \"\\u043f\\u0440\\u043e\\u0433\\u0440\\u0430\\u043c\\u043c\\u0430\", \"\\u0442\\u0430\\u043a\\u0436\\u0435\", \"\\u043a\\u043e\\u0442\\u043e\\u0440\\u044b\\u0439\", \"\\u0441\\u0430\\u043c\\u043e\\u043b\\u0451\\u0442\", \"\\u043a\\u0438\\u043b\\u043e\\u043c\\u0435\\u0442\\u0440\", \"\\u043f\\u0430\\u0441\\u0441\\u0430\\u0436\\u0438\\u0440\", \"\\u0430\\u0432\\u0430\\u0440\\u0438\\u044f\", \"\\u043f\\u043e\\u0436\\u0430\\u0440\", \"\\u0430\\u0432\\u0438\\u0430\\u043a\\u043e\\u043c\\u043f\\u0430\\u043d\\u0438\\u044f\", \"\\u0434\\u043e\\u0441\\u0442\\u0430\\u0432\\u0438\\u0442\\u044c\", \"\\u0432\\u0432\\u0441\", \"\\u0438\\u0441\\u0442\\u0440\\u0435\\u0431\\u0438\\u0442\\u0435\\u043b\\u044c\", \"\\u043f\\u043e\\u043b\\u0451\\u0442\", \"bbc\", \"\\u043f\\u0438\\u043b\\u043e\\u0442\", \"\\u0441\\u0443\\u0434\\u043d\\u043e\", \"\\u043b\\u0430\\u0439\\u043d\\u0435\\u0440\", \"\\u044d\\u043a\\u0438\\u043f\\u0430\\u0436\", \"\\u0432\\u043e\\u0437\\u0434\\u0443\\u0448\\u043d\\u044b\\u0439\", \"\\u043a\\u0430\\u0442\\u0430\\u0441\\u0442\\u0440\\u043e\\u0444\\u0430\", \"\\u0432\\u044b\\u0441\\u043e\\u0442\\u0430\", \"\\u0434\\u0432\\u0438\\u0433\\u0430\\u0442\\u0435\\u043b\\u044c\", \"\\u043a\\u043e\\u043d\\u0433\\u0440\\u0435\\u0441\\u0441\", \"\\u0441\\u0442\\u043e\\u043b\\u043a\\u043d\\u0443\\u0442\\u044c\\u0441\\u044f\", \"\\u043a\\u0440\\u0443\\u0448\\u0435\\u043d\\u0438\\u0435\", \"\\u043f\\u0440\\u043e\\u0438\\u0437\\u0432\\u0435\\u0441\\u0442\\u0438\", \"\\u0440\\u0430\\u0437\\u0431\\u0438\\u0442\\u044c\\u0441\\u044f\", \"\\u0441\\u0443\\u0434\\u043d\\u044b\\u0439\", \"\\u043f\\u043e\\u0441\\u0430\\u0434\\u043a\\u0430\", \"\\u0447\\u0435\\u0441\\u0442\\u044c\", \"\\u043a\\u043d\\u0440\", \"\\u0442\\u0435\\u043b\\u0435\\u043a\\u043e\\u043c\\u043f\\u0430\\u043d\\u0438\\u044f\", \"\\u0432\\u043e\\u0437\\u0433\\u043e\\u0440\\u0430\\u043d\\u0438\\u0435\", \"\\u043c\\u0435\\u0442\\u0440\", \"\\u043a\\u0438\\u0442\\u0430\\u0439\", \"\\u043a\\u0438\\u0442\\u0430\\u0439\\u0441\\u043a\\u0438\\u0439\", \"\\u043f\\u0430\\u0434\\u0435\\u043d\\u0438\\u0435\", \"\\u043d\\u0435\\u043c\\u0435\\u0446\\u043a\\u0438\\u0439\", \"\\u043f\\u0440\\u043e\\u0438\\u0437\\u043e\\u0439\\u0442\\u0438\", \"\\u043d\\u0430\\u0445\\u043e\\u0434\\u0438\\u0442\\u044c\\u0441\\u044f\", \"\\u0441\\u043e\\u043e\\u0431\\u0449\\u0430\\u0442\\u044c\", \"\\u0432\\u0440\\u0435\\u043c\\u044f\", \"\\u043f\\u0440\\u0438\\u0447\\u0438\\u043d\\u0430\", \"\\u0433\\u0430\\u0437\", \"\\u0433\\u0430\\u0437\\u043f\\u0440\\u043e\\u043c\", \"\\u0431\\u0435\\u043b\\u043e\\u0440\\u0443\\u0441\\u0441\\u0438\\u044f\", \"\\u0441\\u0442\\u0430\\u0432\\u043a\\u0430\", \"\\u0432\\u044b\\u043f\\u0443\\u0441\\u0442\\u0438\\u0442\\u044c\", \"\\u043f\\u0430\\u043a\\u0435\\u0442\", \"\\u043a\\u0440\\u0435\\u0434\\u0438\\u0442\", \"\\u043a\\u0443\\u0431\\u043e\\u043c\\u0435\\u0442\\u0440\", \"\\u043a\\u043e\\u043d\\u0446\\u0435\\u0440\\u043d\", \"\\u0433\\u0430\\u0437\\u043e\\u0432\\u044b\\u0439\", \"\\u043f\\u043e\\u0442\\u043e\\u043a\", \"\\u043a\\u0440\\u0435\\u0434\\u0438\\u0442\\u043d\\u044b\\u0439\", \"\\u0442\\u0440\\u0430\\u043d\\u0437\\u0438\\u0442\", \"\\u043e\\u0444\\u0438\\u0441\", \"\\u043c\\u0435\\u0441\\u0442\\u043e\\u0440\\u043e\\u0436\\u0434\\u0435\\u043d\\u0438\\u0435\", \"\\u0431\\u0435\\u043b\\u043e\\u0440\\u0443\\u0441\\u0441\\u043a\\u0438\\u0439\", \"\\u0434\\u0435\\u043f\\u043e\\u0437\\u0438\\u0442\", \"\\u0440\\u0435\\u0433\\u0443\\u043b\\u044f\\u0442\\u043e\\u0440\", \"\\u0433\\u0430\\u0437\\u043e\\u043f\\u0440\\u043e\\u0432\\u043e\\u0434\", \"\\u043a\\u043e\\u0440\\u043f\\u043e\\u0440\\u0430\\u0442\\u0438\\u0432\\u043d\\u044b\\u0439\", \"\\u043e\\u0431\\u043b\\u0438\\u0433\\u0430\\u0446\\u0438\\u044f\", \"\\u0432\\u0440\\u0443\\u0447\\u0438\\u0442\\u044c\", \"\\u043f\\u043e\\u043c\\u043e\\u0433\\u0430\\u0442\\u044c\", \"\\u0438\\u0437\\u0434\\u0430\\u0442\\u0435\\u043b\\u044c\\u0441\\u0442\\u0432\\u043e\", \"\\u0440\\u0435\\u0444\\u0438\\u043d\\u0430\\u043d\\u0441\\u0438\\u0440\\u043e\\u0432\\u0430\\u043d\\u0438\\u0435\", \"\\u043d\\u0435\\u0438\\u0437\\u043c\\u0435\\u043d\\u043d\\u044b\\u0439\", \"\\u043f\\u0435\\u0440\\u0435\\u0445\\u043e\\u0434\\u043d\\u044b\\u0439\", \"\\u043e\\u0431\\u044f\\u0437\\u0430\\u0442\\u0435\\u043b\\u044c\\u043d\\u043e\", \"russia\", \"\\u0434\\u043e\\u0431\\u044b\\u0447\\u0430\", \"\\u043f\\u043e\\u0432\\u044b\\u0441\\u0438\\u0442\\u044c\", \"\\u0441\\u0442\\u043e\\u0440\\u043e\\u043d\\u0430\", \"\\u0443\\u0441\\u043b\\u043e\\u0432\\u0438\\u0435\", \"\\u0431\\u0430\\u0437\\u043e\\u0432\\u044b\\u0439\", \"\\u043f\\u0440\\u0435\\u0434\\u043e\\u0441\\u0442\\u0430\\u0432\\u0438\\u0442\\u044c\", \"\\u043a\\u043e\\u043c\\u043f\\u0430\\u043d\\u0438\\u044f\"], \"Freq\": [7106.0, 23165.0, 6531.0, 9246.0, 4580.0, 4249.0, 5820.0, 3803.0, 3560.0, 3374.0, 2836.0, 2221.0, 1794.0, 6959.0, 5670.0, 5433.0, 3797.0, 3820.0, 4487.0, 2379.0, 1625.0, 4169.0, 2261.0, 17036.0, 2784.0, 1817.0, 2944.0, 4903.0, 2932.0, 2632.0, 1338.9350383079184, 1215.2926218137281, 929.6372937516381, 865.187203756771, 776.1920556122499, 754.740284475537, 752.5547104655119, 673.1709466599569, 659.8471115648033, 640.6444017667897, 566.2936641031279, 551.2222396672387, 533.768255230668, 530.4577286007449, 477.3600558232112, 475.654629079586, 470.4590870610711, 452.5664363427865, 421.3907499016098, 410.36943403387045, 393.63562181029783, 374.1339113621068, 361.02562808174133, 357.2847443501352, 661.9249908117705, 339.4851499566508, 333.89021551516214, 322.58122674658443, 320.94925185612374, 319.3092599052426, 2152.4371298924234, 1760.5678904511342, 1408.2324312878925, 428.72301703973324, 4600.6231642895755, 1492.343923784671, 824.9476624998418, 1082.1811806040714, 1602.1596050454261, 1422.1900361068156, 4995.649372818887, 2816.3300980621575, 766.5530821989622, 2540.8039201197143, 994.0753094692726, 1606.6856413744913, 2615.8555501020833, 5337.7055972981725, 1462.1780948368696, 1509.259986187439, 1531.6949021020368, 1152.2647648290083, 2477.632340286646, 965.4782277451335, 1651.671152569431, 5816.416154538295, 2731.91454150862, 2654.281872479126, 5039.466795064784, 2553.801035659431, 1236.7619850425378, 1621.8488562835353, 1139.2212996444314, 2059.3943075098396, 1935.6925582769904, 2602.585270268848, 1483.157865598541, 1533.3988033321407, 1390.314333705763, 1794.3315134512436, 1402.5929090792376, 1209.925451985969, 1186.9893079924066, 1166.6753056091434, 1157.8817551988957, 1096.2599511939022, 1017.062950908467, 913.2463141932925, 828.7111276753188, 807.2144806650009, 776.4172450744854, 752.8657315964882, 748.6889522915493, 708.704554578464, 711.1807465277096, 686.5887286308941, 650.0741233980627, 630.7738640275778, 579.0251141248649, 561.107067090888, 538.7893401440143, 488.3538038636605, 471.7876363981358, 454.1123943630859, 436.818669027664, 430.18460218308405, 428.0532609501023, 428.04602298974993, 426.2808177906473, 460.5971782753975, 1338.651338781299, 821.7532573412892, 704.4086346366716, 1158.0420379261732, 7205.197534395672, 912.8457502295793, 918.8731617130433, 1229.6407036227117, 1434.5285044078094, 1237.0960884946485, 2553.7470753668945, 1884.4848809838093, 4385.725887227961, 1580.8053974581933, 1569.4419901775607, 1910.4019218067167, 1363.5000185616636, 1641.6880723803577, 1907.9400629236952, 1954.3470076136937, 2864.724137181501, 1531.4532695590099, 1636.1921748011932, 1070.1479616230822, 1168.3914641032263, 1400.2815235824899, 1232.7939781920286, 1101.3597609164135, 1128.9376279312362, 878.659256518537, 824.4378321875719, 667.78987548477, 569.8967911114914, 520.4873406291217, 517.2349623852945, 484.5624631992468, 466.65459782774076, 439.3868337575278, 415.19325104929436, 389.3696187253998, 366.00816983137815, 362.71707697695746, 353.7219291335245, 341.86508062659294, 340.2813130666554, 330.28776696238265, 323.62727464741175, 301.31526588326733, 296.27589579216635, 284.35109382142826, 277.8906452733765, 277.5326722167843, 266.13526633505984, 228.1112673645713, 223.33737202248597, 223.4080015103675, 212.1300515885818, 211.7329032943013, 198.00110509959757, 628.7970022567611, 714.4866710707701, 1632.9593750849087, 297.69747874545914, 872.044475959077, 868.6865483066516, 639.7119341585345, 481.4607758193159, 1342.7349129151646, 1090.4491898341091, 494.668007491446, 478.1881738525611, 1514.9812823434872, 1154.6372684208554, 536.8874199767217, 582.3353897046325, 644.5586963201051, 2497.626272015405, 1546.1565241249407, 976.8918888646125, 949.1133551500487, 1505.4170845608894, 906.8324379802948, 853.3507368944591, 702.0665852999185, 790.8934755840348, 859.5325279847323, 636.0756561330604, 689.5534967251484, 590.5490288450432, 611.1566515542623, 593.3541601143659, 1277.7844899084923, 1224.0928781152666, 1173.6822614289265, 1149.9158322998157, 1029.867781754892, 1013.6645468268799, 983.3988912282159, 914.6897902045799, 867.0787625558308, 688.9553379737321, 679.8726090716849, 624.5204886870864, 621.392734929722, 604.767108154252, 591.775746703129, 553.8831142671955, 524.4562512787724, 502.8192655728416, 487.00251673991306, 480.450674689979, 470.31490057810726, 438.9398754225339, 422.60402151810075, 421.8841132207735, 404.62864819649815, 372.34811338569284, 292.1653516063692, 287.87345266077705, 280.1020988339649, 274.95885452928815, 1617.2011187933374, 1927.9763688730918, 1599.0623967140532, 1832.9843386225884, 1791.5343468268152, 3100.1615112240056, 663.7268804054216, 1635.2858803548645, 996.4748614670003, 1380.507464731007, 900.1977231757744, 928.8326625837308, 2023.6821125578565, 1279.5111449653632, 1160.0159044377033, 1109.4111277010652, 946.2820431242359, 1120.5011552591336, 974.5049426269625, 910.4619591849048, 998.2372184978555, 919.1866902108354, 867.6252146873167, 828.1836354591472, 815.3046821458087, 809.0358179076533, 742.2835122430284, 733.7559632860895, 618.0619178790126, 594.5258323460661, 458.85193846562913, 406.4118564593468, 400.65762575598376, 395.68611693755713, 393.92650898872, 389.37908939526045, 1104.6376654372789, 341.3890298192371, 327.6165865168369, 311.53449532170185, 308.302784192068, 303.3422438774632, 290.6808292745727, 288.39709619517635, 275.04647752539216, 271.1309579662922, 256.76479762578106, 255.831509887664, 246.5224796485548, 243.16501472106432, 237.44059786830493, 234.29628031131242, 213.39070586907678, 467.344435471396, 1333.3259683268882, 511.87356778764916, 4049.587994848274, 321.19514783054603, 449.89360496720707, 1568.76244134877, 644.024464885791, 854.3130139998187, 727.8065050299625, 1783.0343099476759, 417.82229055543553, 1076.5504188104667, 685.383798058076, 396.9282163039215, 529.586421472903, 708.7465142774726, 716.5157595626512, 681.252078851831, 2239.456872507578, 836.8173642591872, 650.6225417754601, 1293.5813091929763, 695.7835938181803, 569.7525704736053, 745.8594414100148, 646.5028347547293, 624.3197151528093, 670.6707218614985, 2377.8485671285484, 1126.8721825451241, 1063.4163249877593, 894.6217893053856, 862.131786865734, 808.4968428996599, 3369.295281606456, 743.7170408118778, 1454.3876613089776, 578.3125325538851, 509.5138382420375, 509.4241825172176, 492.49653014462604, 456.58371149655585, 445.0343049324832, 402.10103936779876, 395.4150309665573, 382.64723426214977, 363.879408760346, 345.40395581771986, 329.8068340595961, 325.9944120296162, 295.1055893089589, 292.6451380756658, 292.5332985784922, 284.1730438752525, 275.08814288116014, 267.469796382616, 262.21243708457695, 261.7148159436779, 3458.87962177342, 4426.364037931453, 1024.4885316156606, 791.1709803053761, 2662.529713224695, 778.418267857988, 1386.1163140388926, 1153.9622334261326, 769.0243874583749, 2679.4209650897374, 687.8290895555823, 3506.1390947421505, 796.3447388268354, 636.9474828132625, 729.511069968732, 1110.1304985243312, 879.1064624620858, 615.4660844553871, 857.2769222849255, 582.0608287870052, 647.4995933704027, 612.0637700892555, 1721.4156907080967, 1225.4064855434779, 962.1949786950839, 949.5617637251728, 925.7190709619049, 889.1925359743992, 822.9289375278042, 646.6479249898124, 578.8775826217643, 570.7850766999749, 555.3772069304347, 546.8853082245121, 510.3163780565539, 481.6190255277845, 468.02471593305285, 657.251933749717, 396.52016765440646, 356.280384244374, 350.52681631211044, 348.72423223580086, 319.0224294931397, 308.7275351072139, 293.0851541331805, 264.1364489487835, 250.75399520523683, 223.7393643271369, 189.123013481539, 184.68734912608372, 175.04313157930298, 175.44868126868792, 646.9536093330101, 4705.653191523135, 284.4031459712241, 1360.5491495077533, 484.61409410539716, 764.7482066165043, 3814.9935627831105, 1157.6926014820842, 903.9371406918283, 1020.5715643639758, 679.6303463725998, 1908.365127984059, 693.4240093563199, 961.347692491575, 600.7720179014559, 788.6485924975076, 1068.0384569297655, 822.9060935228032, 737.8574513000581, 613.2272828744516, 637.1257479382176, 650.0148888081046, 622.5332372552236, 596.7480176986023, 451.31298735757076, 428.7203042206309, 399.75927347920236, 396.3245159897143, 414.19189142248007, 362.5678993937263, 354.26349863949, 348.47637975014527, 332.9992387250525, 311.5828435010851, 275.51881457396524, 271.1234550129049, 235.50044694255138, 229.91890906520356, 230.02102948967664, 214.97664051532666, 207.51785584290158, 207.39338149874072, 207.0835894079114, 204.49385832849214, 182.38768118226375, 181.04301518358537, 180.8285220873004, 179.42045297468738, 178.72675777631798, 166.3780397705552, 165.33339607406558, 202.9798761299722, 1037.2747295448482, 4416.6439234205, 1097.4604872401192, 599.4305952741829, 396.0685180437452, 445.3302582693272, 358.64835132223186, 245.77577188911778, 579.5395200281455, 296.0172517146378, 474.3481387273718, 1245.9441204891734, 2908.013585634256, 1324.4501215153457, 864.3243291485768, 507.26356177961634, 830.3890420146524, 856.8122863965118, 584.4363149963034, 525.8614868946493, 624.4094655263823, 480.07417298485984, 518.0784095671848, 699.4070268985321, 499.6485945052478, 478.32140053394346, 436.5456234874573, 429.2076947189559, 419.1482432366168, 1391.3205377135487, 1265.1874458344769, 1093.5288318463888, 1024.985665534928, 994.5019359884992, 990.983614548944, 895.8859992659515, 887.8363126235486, 854.0330557456174, 852.7142505203842, 812.2509486025594, 584.8296041498095, 514.0782698527563, 508.9028884259718, 480.97388929386267, 421.8278246845796, 420.8121755583479, 413.28218508566204, 409.85168404027996, 400.16059416717985, 387.98821561997545, 383.1195050742711, 343.8489186469723, 339.73694314067603, 289.42094511082337, 281.8824749191367, 276.8369929558858, 270.23259453575383, 246.95082552060705, 234.5391468453113, 891.5579506879571, 1514.2885560414102, 1335.9876429760911, 3068.9901255801365, 2543.758591930695, 990.0479451491718, 877.0073427761274, 835.3248784760525, 1007.0479874863377, 689.8941090940403, 2404.464484584511, 483.168833833593, 603.2039017008049, 741.5348604418747, 505.3884996097213, 1816.0153684812408, 1007.7920465570654, 851.475119959988, 824.0079339075476, 813.544907589776, 806.5222261582048, 796.213597712793, 665.8483872426752, 664.940354406112, 569.4595459942302, 557.1978311992032, 458.0870582796734, 2828.0059834881085, 432.7572673193623, 388.01179520521265, 365.7789689427664, 291.38821310789945, 290.1965793362782, 268.17038875138326, 253.38602770637846, 213.23644151681714, 211.05097234858025, 207.45727052229128, 195.6869394897232, 194.3468135431165, 187.6710599670084, 187.14982906494225, 173.67996366481026, 150.15454382221372, 144.02445119126665, 686.7297435211124, 686.5631943577525, 844.7490829821359, 445.5966357942468, 846.9006262557444, 1142.897067770874, 464.48305599707146, 1660.0555028966317, 1509.616232233026, 360.5188620117018, 507.4493836684415, 1474.6731980713623, 590.2382536046374, 923.0749451846639, 492.62387393345864, 483.88807290601125, 450.0442632225228, 1488.6994556915506, 1231.1172889516217, 917.6151010022312, 671.4694290315415, 643.3297655117427, 503.42091790235685, 460.55255231919654, 441.08092752911153, 398.9527148022461, 388.0795569464511, 383.9326952778186, 266.25241566892834, 256.06656381486715, 235.29436869738322, 225.9763829314725, 215.26501496219075, 202.2939821277414, 185.95668382907655, 175.0459525854258, 170.84362151233373, 144.38402283608195, 142.33160538900376, 137.81865884615763, 129.711293244928, 128.78496408686763, 120.08778041582752, 114.06401421503045, 112.21560311022355, 111.67795563996877, 96.85355524634436, 526.288695329087, 941.858348121704, 493.8988515710645, 354.9956776246908, 364.9095430144229, 1039.4311912833257, 960.7766643652528, 501.74806094752483, 401.63154231253156, 557.5534486865749, 600.853891736052, 622.0412579447201, 852.9076573135824, 595.0464776548791, 502.7667648899075, 515.776525693929, 513.8896092888809, 497.7418273319469, 641.1098677396919, 488.35775000978595, 413.1649889578972, 405.9293902816169, 401.35404684401294, 804.3438201915802, 442.4066629993702, 405.4634026371022, 390.66179482845894, 366.69387713196267, 359.43564111809457, 592.0693599471256, 333.750008557654, 296.3370796251971, 270.40768550591895, 253.58982942957388, 222.89097554681058, 219.54965136619876, 172.45726211155875, 163.74401472228539, 162.84387703954636, 154.41227506851354, 145.1188085838267, 137.27642010430944, 132.81281008170953, 131.20810242132814, 129.66599307292267, 126.78362473400809, 118.99678671877486, 109.08261964397938, 108.35271097582563, 106.10689752820852, 105.66152053973104, 90.03654960253927, 89.45416916716694, 957.3220663341028, 737.335676627026, 700.1310954968138, 594.3853498210465, 653.8509807570204, 905.6346280535267, 937.5347170968993, 873.8908535597249, 345.5805122688236, 1042.202746177035, 434.4059731484567, 313.71422604542863, 437.8763602008972, 501.40037005389377, 640.5549543090308, 305.664053591482, 446.04995724851887, 404.17151201846724, 508.0337237546894, 403.3731855298148, 408.15973464589393, 381.54547767356723, 312.2694038441151, 1624.2735212478735, 564.8348072728611, 561.399258044757, 543.136951849575, 513.8842296513552, 506.37843257653304, 503.6804607822035, 469.08991266940797, 467.97155436276756, 443.6044508720465, 426.32717701783605, 397.0626780915895, 388.1908284385393, 338.9797357813301, 336.50355903150484, 317.28815170508267, 302.7088735816408, 300.4807262135502, 284.69251429799374, 276.8628572024352, 270.6371330166699, 256.4577131080396, 236.95018547909962, 231.8977537276606, 224.6166958793494, 220.2540404928446, 195.52111640368204, 192.94955294412773, 187.30867974259465, 176.16508249767188, 480.1563986758383, 372.93884063122647, 718.5745820272026, 509.3980143663256, 659.2894799370879, 328.87551856230715, 268.3021573209706, 321.5212630832929, 344.32086492449866, 288.2797008676622, 2219.875543727551, 1116.4068105245758, 720.1637079577839, 704.190064612746, 659.577002336216, 625.8511453972438, 616.22700515839, 546.4768253064314, 535.7335619546985, 472.15244118841593, 430.8385946551733, 416.3816366781224, 399.5446427320992, 379.5724769746006, 372.9745620262523, 359.1667204206855, 350.1212106078049, 348.1551585050627, 304.57330023075144, 258.2332569607114, 249.27723739559713, 237.4448531929828, 234.06738190835858, 232.88812513692756, 224.3792124518269, 218.33035611597637, 171.7943511562028, 167.14007270380296, 156.16773540976598, 155.36064443063285, 597.1783236604286, 615.4624855381029, 319.2622053939922, 316.4575319578653, 299.0737822989381, 393.3846661102416, 401.3607911369838, 371.5331621047988, 347.32144428483116, 273.0709681780782, 1793.3964754309059, 862.0290130290322, 599.4811074340798, 503.6462817240989, 483.57508427351013, 483.3724975012744, 433.81025751516404, 329.6445527700649, 281.1328229154223, 279.98166957248793, 255.36330359288363, 245.89798452792658, 238.67886590098672, 221.13640801997852, 202.8612224297239, 196.11621498307858, 195.22035080470408, 139.14384844342115, 134.20323819783357, 126.90849852211078, 124.61590621044401, 122.24305557490776, 103.8281015574046, 83.07806440249296, 23.475882428803477, 21.914373266970994, 21.50431146087476, 13.35170577348556, 10.721191162668575, 223.32849097966576, 77.29355614367627, 191.95920861320272, 129.80560983862011, 62.8031328126367, 51.52532282835229, 71.48266322382577], \"Total\": [7106.0, 23165.0, 6531.0, 9246.0, 4580.0, 4249.0, 5820.0, 3803.0, 3560.0, 3374.0, 2836.0, 2221.0, 1794.0, 6959.0, 5670.0, 5433.0, 3797.0, 3820.0, 4487.0, 2379.0, 1625.0, 4169.0, 2261.0, 17036.0, 2784.0, 1817.0, 2944.0, 4903.0, 2932.0, 2632.0, 1340.23664815684, 1216.594234549777, 930.9389052944908, 866.4888131082198, 777.4936645497643, 756.041893594087, 753.8563232409466, 674.4725560245338, 661.148722159751, 641.9617469979909, 567.595273547834, 552.5238500271455, 535.0698692279669, 531.7593395040598, 478.66166535426225, 476.9562389252991, 471.76069812604914, 453.8680582375296, 422.69235937028503, 411.6760290580943, 394.9372343262566, 375.4355214710807, 362.3272659820219, 358.58635860569876, 664.4236838190204, 340.78676258223163, 335.1918274694422, 323.882836456332, 322.25086074554446, 320.6108708789175, 2163.100662151243, 1798.608217527317, 1438.5276711204654, 432.1013951379885, 4903.173880281629, 1572.9710130392612, 851.5249503186043, 1137.9089080057506, 1722.3529918310783, 1519.481432213322, 6254.737462159267, 3456.0757775556, 818.1389673123973, 3177.6127592918765, 1097.2259757707227, 1950.0839178928184, 3473.289070681468, 8235.59563389987, 1811.8436081949285, 1916.305145822617, 1999.134012039754, 1396.5614746074452, 3942.9971046192027, 1126.2113629903624, 2449.404202709286, 16448.252894674155, 5670.233030397035, 5820.198841339923, 17036.40796571925, 5584.414038361913, 1706.072458115278, 2947.962032796513, 1470.8800583824009, 7756.843208089904, 8178.953164263631, 23165.35449164061, 3382.1606573536847, 5100.730401255621, 3913.727691197401, 1795.6357772392369, 1403.8971733326425, 1211.2297173644104, 1188.2935708001246, 1167.9795760071906, 1159.186019727575, 1097.5642156810025, 1018.3672149980016, 914.5505781395708, 830.0154123936098, 808.5187456852635, 777.7215095379016, 754.1699956821881, 749.9932167259323, 710.0088182001186, 712.5015063346598, 687.8929950607123, 651.3783892806418, 632.0781274200934, 580.3293780092093, 562.411332790414, 540.0936033704927, 489.6580725985846, 473.09190014639296, 455.41666124761787, 438.12293487407015, 431.48886649858906, 429.35752612870436, 429.3502903220302, 427.5850840111314, 465.38152381129686, 1526.7350474645775, 910.7688316694498, 764.183552133409, 1519.0498825636002, 17036.40796571925, 1158.0716703837077, 1231.512369888437, 1920.904692783996, 2465.717038590529, 1963.1372143848507, 6211.592487939041, 3913.727691197401, 16448.252894674155, 3214.3403127103898, 3212.120287343809, 4798.211934506936, 2932.933019989087, 4792.700934358424, 6959.719154436972, 7756.843208089904, 23165.35449164061, 4600.181014329156, 8235.59563389987, 2177.8965515702157, 3340.6992492607324, 8178.953164263631, 5100.730401255621, 3022.2630766273824, 5584.414038361913, 879.9604756639418, 825.7390510029379, 669.0910974323563, 571.1980098519542, 521.7887310171861, 518.5361814473855, 485.8636840770853, 467.95581643551435, 440.68805467342025, 416.49447110755597, 390.6708385462707, 367.3094187188483, 364.01829778443863, 355.023917386816, 343.16630377106816, 341.5825340850148, 331.5889867041457, 324.92849397413397, 302.6164843672675, 297.57711563117243, 285.6523137087813, 279.1918679243476, 278.83389177009894, 267.4364870802945, 229.4124874207464, 224.63859886809706, 224.71393849159062, 213.43127188780187, 213.03412270688293, 199.30232840998798, 633.7975039940632, 826.7749374135894, 2143.5655622540157, 312.7633044112531, 1147.7350760395473, 1148.7863908048505, 819.4145991568554, 576.2130671173866, 2262.6027252765716, 1790.7417104202261, 615.5250644692924, 596.9752762349478, 3797.2848833553526, 3214.3403127103898, 809.2255574300908, 1024.652441906039, 1294.1414218289613, 23165.35449164061, 9246.794076005077, 4169.948262738533, 4487.287999599629, 16448.252894674155, 4792.700934358424, 5433.984824098547, 2788.9052361009108, 5584.414038361913, 17036.40796571925, 2709.7731349770625, 7756.843208089904, 2424.551957832572, 3729.254533982719, 4600.181014329156, 1279.0894687549282, 1225.3978560992455, 1174.9872390376745, 1151.2208113504169, 1031.1727601786597, 1014.9695305549262, 984.7038707420543, 915.9947691501163, 868.3837401301206, 690.2603168263057, 681.1775889267091, 625.8254705780652, 622.6977129328197, 606.0720866541392, 593.0807238349013, 555.1880929401048, 525.7612305624364, 504.1242449096583, 488.30749548862514, 481.75565265900417, 471.61987874416434, 440.24485353337093, 423.90900124387565, 423.1891935996433, 405.93839155859814, 373.6530908945241, 293.4703292376053, 289.1784308840705, 281.4070760392985, 276.26383209452194, 1661.7552776929308, 2011.1258615221714, 1741.368540658412, 2632.7748927690527, 2988.357678392508, 6959.719154436972, 813.1768960278862, 3321.6990522066185, 1758.8711044587799, 3415.3839979373834, 1561.5825792077078, 1693.776852131544, 8178.953164263631, 3446.59064116559, 2803.083072443438, 2944.410446409659, 2032.41551890119, 3476.9683742967004, 2874.9764682261793, 2424.551957832572, 3729.254533982719, 2709.7731349770625, 2069.722670979097, 829.4859754248896, 816.6070248875913, 810.3381580440736, 743.5858519822879, 735.0583086867638, 619.3642571719809, 595.8281709299321, 460.15427932578547, 407.714197244889, 401.9599657962843, 396.9884582261645, 395.2288604508915, 390.68142921646734, 1108.560431578682, 342.6913720569823, 328.9189311705389, 312.8368348072248, 309.6051286250086, 304.64458867736346, 291.9831696094856, 289.69943970624126, 276.3489614797347, 272.4333077925792, 258.0671372259369, 257.13385167574694, 247.82481872881743, 244.46735338741283, 238.74294368196882, 235.60615384106143, 214.6930461183393, 476.3709115053103, 1755.2623029648719, 635.9291564994319, 9246.794076005077, 350.99235946536106, 547.4609664871143, 2964.7064198929493, 911.4471255223123, 1469.8282832958896, 1279.3475737416527, 5433.984824098547, 537.3188083006764, 2947.962032796513, 1331.0551475205793, 495.97908952974586, 875.7087363317447, 1605.4652137515343, 1699.5325030266683, 1579.3951021891564, 23165.35449164061, 2527.399506429876, 1608.6121881007662, 16448.252894674155, 3382.1606573536847, 1702.8675767345183, 7756.843208089904, 4798.211934506936, 5670.233030397035, 17036.40796571925, 2379.1517030478544, 1128.1756341156743, 1064.7194654175134, 895.9249301736465, 863.4349233956473, 809.7999807527559, 3374.843678647898, 745.0201864203752, 1457.2887010619852, 579.6156678535267, 510.81697953556125, 510.7273186055867, 493.7996671835499, 457.88684653755206, 446.3374413521569, 403.4041790281555, 396.71816573510336, 383.9503707870231, 365.1825448544124, 346.7070933980411, 331.1099715184341, 327.2975471202465, 296.40872401828636, 293.9482727363588, 293.8364345259409, 285.4761787985599, 276.3912787715521, 268.7729485588018, 263.5155751992353, 263.0179569028958, 3560.9602106517527, 4580.714322435723, 1157.1056442808115, 910.089625490926, 3820.558855372773, 1051.6396852754913, 2261.2152334844277, 1915.09119248192, 1127.0835074235074, 7106.260410812059, 1056.9816917321305, 23165.35449164061, 1562.3038649026464, 1020.3321416777835, 1608.6121881007662, 6531.561616087295, 5433.984824098547, 1862.9195859787717, 16448.252894674155, 1497.0885545629208, 4792.700934358424, 9246.794076005077, 1722.7210638440624, 1226.7118575481807, 963.5003517351407, 950.8671374103689, 927.0244433554259, 890.4979117083417, 824.2343107664813, 647.9532984031528, 580.1829548091557, 572.0904502993333, 556.6825811730291, 548.1906818252244, 511.62174919285343, 482.9243979078069, 469.33008842027556, 659.1671450026339, 397.8256248871532, 357.5857560015462, 351.8321882728808, 350.02960362948147, 320.32780361001056, 310.0329075548057, 294.39052752879496, 265.4418220424202, 252.05936704507482, 225.04473659702876, 190.4283872677438, 185.9927218427271, 176.3485095790744, 176.7632213150149, 705.9617417405159, 6531.561616087295, 303.9353595093884, 2213.8662261209415, 733.0417091480217, 1562.3038649026464, 23165.35449164061, 4487.287999599629, 3022.2630766273824, 3961.603181875046, 1706.6670573601773, 17036.40796571925, 1862.9195859787717, 4798.211934506936, 1452.8655479158772, 3820.558855372773, 16448.252894674155, 8235.59563389987, 5100.730401255621, 2316.459512523119, 5820.198841339923, 651.315883463137, 623.8342299833599, 598.0490096339831, 452.6139814650921, 430.02129548510317, 401.060265766746, 397.62550702358504, 415.5614262114709, 363.8688907369187, 355.56449183006663, 349.77737402017027, 334.30023288070447, 312.88383378028306, 276.8198082125684, 272.42444673407897, 236.80143768104844, 231.21989987141677, 231.33063148380307, 216.2776344786797, 208.81884893422242, 208.694377263043, 208.38458568077283, 205.79485013929101, 183.68867441425095, 182.3440122722197, 182.12951848319753, 180.7214449701999, 180.02775230734963, 167.679033517519, 166.63438950140684, 204.77454435050063, 1332.190544960125, 7106.260410812059, 1481.781550722419, 776.7803935450993, 485.2348821827011, 568.9787043812503, 459.4893638714632, 270.9393152424436, 1063.450784077846, 367.9907173243274, 797.6007655405774, 4792.700934358424, 23165.35449164061, 5670.233030397035, 2803.083072443438, 1248.3354497894843, 4600.181014329156, 5820.198841339923, 2382.5663449665158, 1915.09119248192, 4169.948262738533, 1577.9831717263705, 2464.132731956737, 16448.252894674155, 3446.59064116559, 6959.719154436972, 3476.9683742967004, 2316.459512523119, 6211.592487939041, 1392.6227995430625, 1266.4897100937985, 1094.8318622270608, 1026.2879262532915, 995.8041947310722, 992.285871368656, 897.1893655479118, 889.1588303607508, 855.335312232056, 854.0165068224154, 813.553204853394, 586.1318617171261, 515.3805261333939, 510.2051446030281, 482.27614636850575, 423.13008085936514, 422.1144367319731, 414.58444978510107, 411.1539404237588, 401.4629530634779, 389.2904727519795, 384.4223325616124, 345.15119868205613, 341.03928414127427, 290.7232012584317, 283.1847319287317, 278.13925759364497, 271.53486090138733, 248.25308298526073, 235.8414029823586, 988.2294553427103, 1846.0999676942763, 1650.2900479688292, 4249.316272582277, 3803.4481920201106, 1265.114533051346, 1182.4335366821633, 1276.9350221189732, 1847.0567629796274, 1072.603503184102, 23165.35449164061, 613.8404233937625, 1077.6221699255104, 2944.410446409659, 1170.936794504906, 1817.3258247232895, 1009.1025029489037, 852.7855760816822, 825.3183901227294, 814.8553646805951, 807.8326848349546, 797.5240550466644, 667.158843304248, 666.2793699761708, 570.7700014880623, 558.5082865607136, 459.39751399654637, 2836.2316340639863, 434.0677232046912, 389.3222504255747, 367.0894239481242, 292.69866869915126, 291.5070358924939, 269.4808461815775, 254.69648332480074, 214.54689698906247, 212.36142924708162, 208.76773021375212, 196.99739524025722, 195.65727376927526, 188.981525631737, 188.46028619431831, 174.9904197789839, 151.46500991186255, 145.33491185874632, 696.5110601126953, 1056.6292793798802, 1492.1225360926805, 673.9723394048572, 1883.680605013877, 3116.688105730021, 766.5838611467904, 5820.198841339923, 5433.984824098547, 556.1133923912761, 1067.4733671067984, 9246.794076005077, 1710.460432981227, 5670.233030397035, 1469.8282832958896, 6254.737462159267, 7756.843208089904, 1490.004931439496, 1232.422768441038, 918.920577465119, 672.7749049248918, 644.6352405494841, 504.7263945808883, 461.8580294326536, 442.38640379999373, 400.25819118227145, 389.385034739479, 385.23817170415265, 267.55789360060334, 257.37203945169324, 236.59984693604383, 227.2818607972529, 216.57049213506653, 203.59946238592568, 187.26215889439044, 176.35143234420158, 172.1490981417702, 145.6894984741916, 143.6370815399542, 139.1241339793312, 131.0167683360615, 130.0904418178361, 121.39325787908753, 115.36949062433689, 113.52108238263035, 112.98343531431595, 98.15903110102194, 649.6335957420771, 1424.6170501490362, 696.9888859144346, 502.798919374279, 577.2025571496538, 2784.901015943339, 2539.222452472435, 980.3718131539297, 704.5576613619941, 1316.8751204655855, 1552.0446533058553, 1673.6849857670409, 2944.410446409659, 1717.6959534145724, 1422.415209948753, 1808.2674040159793, 1808.5121244554769, 1735.2688347986134, 6531.561616087295, 2874.9764682261793, 2358.1691540478078, 3729.254533982719, 3446.59064116559, 805.6463411056305, 443.70918255146853, 406.7659215997122, 391.96431608105394, 367.9963981497186, 360.7381636976939, 594.296467962508, 335.0525291160495, 297.6396000998035, 271.71034154536864, 254.89235003231528, 224.19349549909967, 220.85217208742506, 173.75978239959917, 165.04653512626558, 164.14639602859245, 155.71479507811458, 146.4213298051493, 138.57894036443707, 134.11533031689422, 132.5106251944132, 130.9685214290775, 128.08614535107327, 120.29930729244988, 110.38514027164389, 109.65523249000555, 107.40941745022043, 106.96404397081051, 91.33907279201877, 90.75669180318944, 1097.2397755844638, 973.8596609624709, 1100.5791651402424, 965.236104184063, 1113.832633235282, 2001.15668463756, 2358.1691540478078, 2261.2152334844277, 567.3136963683588, 3797.2848833553526, 975.1805449535129, 568.7272528979262, 1092.1330918107444, 1686.643664801227, 2932.933019989087, 652.1886449280406, 1808.5121244554769, 1462.7535146085468, 3283.6183615844293, 1790.7417104202261, 2262.6027252765716, 9246.794076005077, 2449.404202709286, 1625.578063960301, 566.1393512008245, 562.7038022322965, 544.441495115468, 515.1887727948721, 507.6829767294434, 504.98500560937174, 470.3944565974548, 469.276097122908, 444.90899598880344, 427.6317210859106, 398.36722081086305, 389.49537116736246, 340.28427929120375, 337.8081021710721, 318.5926941520234, 304.0134162814497, 301.7852688434174, 285.99706173504114, 278.1674000153403, 271.9416758897733, 257.7622578892379, 238.25472858600472, 233.2022992102245, 225.92124028940003, 221.55858894337513, 196.82566122896108, 194.2540962794787, 188.61322346979145, 177.46962835508947, 1018.9831033445528, 724.6405114761874, 4169.948262738533, 2143.5655622540157, 4487.287999599629, 1319.9784133391304, 507.94188573169475, 1626.8501238591325, 7756.843208089904, 17036.40796571925, 2221.1790539476983, 1117.7103222602811, 721.4672193753227, 705.4935756227965, 660.880512704482, 627.1546554470423, 617.5305187438751, 547.7803361363348, 537.0370722965414, 473.4559522043894, 432.14210756870136, 417.68514655503026, 400.84815416032745, 380.8759867562125, 374.2780724135813, 360.47023064294166, 351.424721005629, 349.4586702042755, 305.8768109201885, 259.5367693333214, 250.5807503990621, 238.74836314446333, 235.37089549533056, 234.1916353781108, 225.68299771443293, 219.63386588215957, 173.09786454867677, 168.44358420734187, 157.4712531191595, 156.66415434717842, 729.5344416616393, 1020.9348059027799, 553.7404933339662, 582.5146189559888, 579.7527315929286, 2632.7748927690527, 3415.3839979373834, 8178.953164263631, 6211.592487939041, 1363.4401918243705, 1794.7100646715846, 863.3426019232553, 600.7946969221508, 504.95987145828883, 484.88867585563827, 484.6860882817896, 435.12384719419674, 330.95814137684795, 282.44641217747386, 281.2952584879983, 256.6768932889881, 247.21157513883972, 239.99245654326666, 222.44999942915882, 204.1748138724389, 197.4304551884059, 196.5339443160841, 140.45743878302264, 135.5168267852596, 128.22208925981099, 125.92949584998253, 123.55664757489123, 105.14169319522885, 84.39165862995483, 24.789471887603753, 23.227963733671288, 22.817904184483854, 14.665296484315391, 12.034783462394293, 281.98055160409774, 267.8765350132631, 1769.2423348083985, 1057.5374323523226, 293.57668512484554, 443.3992537184881, 6531.561616087295], \"Category\": [\"Default\", \"Default\", \"Default\", \"Default\", \"Default\", \"Default\", \"Default\", \"Default\", \"Default\", \"Default\", \"Default\", \"Default\", \"Default\", \"Default\", \"Default\", \"Default\", \"Default\", \"Default\", \"Default\", \"Default\", \"Default\", \"Default\", \"Default\", \"Default\", \"Default\", \"Default\", \"Default\", \"Default\", \"Default\", \"Default\", \"Topic1\", \"Topic1\", \"Topic1\", \"Topic1\", \"Topic1\", \"Topic1\", \"Topic1\", \"Topic1\", \"Topic1\", \"Topic1\", \"Topic1\", \"Topic1\", \"Topic1\", \"Topic1\", \"Topic1\", \"Topic1\", \"Topic1\", \"Topic1\", \"Topic1\", \"Topic1\", \"Topic1\", \"Topic1\", \"Topic1\", \"Topic1\", \"Topic1\", \"Topic1\", \"Topic1\", \"Topic1\", \"Topic1\", \"Topic1\", \"Topic1\", \"Topic1\", \"Topic1\", \"Topic1\", \"Topic1\", \"Topic1\", \"Topic1\", \"Topic1\", \"Topic1\", \"Topic1\", \"Topic1\", \"Topic1\", \"Topic1\", \"Topic1\", \"Topic1\", \"Topic1\", \"Topic1\", \"Topic1\", \"Topic1\", \"Topic1\", \"Topic1\", \"Topic1\", \"Topic1\", \"Topic1\", \"Topic1\", \"Topic1\", \"Topic1\", \"Topic1\", \"Topic1\", \"Topic1\", \"Topic1\", \"Topic1\", \"Topic1\", \"Topic1\", \"Topic1\", \"Topic1\", \"Topic1\", \"Topic1\", \"Topic1\", \"Topic2\", \"Topic2\", \"Topic2\", \"Topic2\", \"Topic2\", \"Topic2\", \"Topic2\", \"Topic2\", \"Topic2\", \"Topic2\", \"Topic2\", \"Topic2\", \"Topic2\", \"Topic2\", \"Topic2\", \"Topic2\", \"Topic2\", \"Topic2\", \"Topic2\", \"Topic2\", \"Topic2\", \"Topic2\", \"Topic2\", \"Topic2\", \"Topic2\", \"Topic2\", \"Topic2\", \"Topic2\", \"Topic2\", \"Topic2\", \"Topic2\", \"Topic2\", \"Topic2\", \"Topic2\", \"Topic2\", \"Topic2\", \"Topic2\", \"Topic2\", \"Topic2\", \"Topic2\", \"Topic2\", \"Topic2\", \"Topic2\", \"Topic2\", \"Topic2\", \"Topic2\", \"Topic2\", \"Topic2\", \"Topic2\", \"Topic2\", \"Topic2\", \"Topic2\", \"Topic2\", \"Topic2\", \"Topic2\", \"Topic2\", \"Topic2\", \"Topic2\", \"Topic2\", \"Topic2\", \"Topic3\", \"Topic3\", \"Topic3\", \"Topic3\", \"Topic3\", \"Topic3\", \"Topic3\", \"Topic3\", \"Topic3\", \"Topic3\", \"Topic3\", \"Topic3\", \"Topic3\", \"Topic3\", \"Topic3\", \"Topic3\", \"Topic3\", \"Topic3\", \"Topic3\", \"Topic3\", \"Topic3\", \"Topic3\", \"Topic3\", \"Topic3\", \"Topic3\", \"Topic3\", \"Topic3\", \"Topic3\", \"Topic3\", \"Topic3\", \"Topic3\", \"Topic3\", \"Topic3\", \"Topic3\", \"Topic3\", \"Topic3\", \"Topic3\", \"Topic3\", \"Topic3\", \"Topic3\", \"Topic3\", \"Topic3\", \"Topic3\", \"Topic3\", \"Topic3\", \"Topic3\", \"Topic3\", \"Topic3\", \"Topic3\", \"Topic3\", \"Topic3\", \"Topic3\", \"Topic3\", \"Topic3\", \"Topic3\", \"Topic3\", \"Topic3\", \"Topic3\", \"Topic3\", \"Topic3\", \"Topic3\", \"Topic3\", \"Topic4\", \"Topic4\", \"Topic4\", \"Topic4\", \"Topic4\", \"Topic4\", \"Topic4\", \"Topic4\", \"Topic4\", \"Topic4\", \"Topic4\", \"Topic4\", \"Topic4\", \"Topic4\", \"Topic4\", \"Topic4\", \"Topic4\", \"Topic4\", \"Topic4\", \"Topic4\", \"Topic4\", \"Topic4\", \"Topic4\", \"Topic4\", \"Topic4\", \"Topic4\", \"Topic4\", \"Topic4\", \"Topic4\", \"Topic4\", \"Topic4\", \"Topic4\", \"Topic4\", \"Topic4\", \"Topic4\", \"Topic4\", \"Topic4\", \"Topic4\", \"Topic4\", \"Topic4\", \"Topic4\", \"Topic4\", \"Topic4\", \"Topic4\", \"Topic4\", \"Topic4\", \"Topic4\", \"Topic4\", \"Topic4\", \"Topic4\", \"Topic4\", \"Topic4\", \"Topic4\", \"Topic5\", \"Topic5\", \"Topic5\", \"Topic5\", \"Topic5\", \"Topic5\", \"Topic5\", \"Topic5\", \"Topic5\", \"Topic5\", \"Topic5\", \"Topic5\", \"Topic5\", \"Topic5\", \"Topic5\", \"Topic5\", \"Topic5\", \"Topic5\", \"Topic5\", \"Topic5\", \"Topic5\", \"Topic5\", \"Topic5\", \"Topic5\", \"Topic5\", \"Topic5\", \"Topic5\", \"Topic5\", \"Topic5\", \"Topic5\", \"Topic5\", \"Topic5\", \"Topic5\", \"Topic5\", \"Topic5\", \"Topic5\", \"Topic5\", \"Topic5\", \"Topic5\", \"Topic5\", \"Topic5\", \"Topic5\", \"Topic5\", \"Topic5\", \"Topic5\", \"Topic5\", \"Topic5\", \"Topic5\", \"Topic5\", \"Topic5\", \"Topic5\", \"Topic5\", \"Topic5\", \"Topic5\", \"Topic5\", \"Topic5\", \"Topic5\", \"Topic5\", \"Topic5\", \"Topic6\", \"Topic6\", \"Topic6\", \"Topic6\", \"Topic6\", \"Topic6\", \"Topic6\", \"Topic6\", \"Topic6\", \"Topic6\", \"Topic6\", \"Topic6\", \"Topic6\", \"Topic6\", \"Topic6\", \"Topic6\", \"Topic6\", \"Topic6\", \"Topic6\", \"Topic6\", \"Topic6\", \"Topic6\", \"Topic6\", \"Topic6\", \"Topic6\", \"Topic6\", \"Topic6\", \"Topic6\", \"Topic6\", \"Topic6\", \"Topic6\", \"Topic6\", \"Topic6\", \"Topic6\", \"Topic6\", \"Topic6\", \"Topic6\", \"Topic6\", \"Topic6\", \"Topic6\", \"Topic6\", \"Topic6\", \"Topic6\", \"Topic6\", \"Topic6\", \"Topic6\", \"Topic6\", \"Topic6\", \"Topic6\", \"Topic6\", \"Topic6\", \"Topic6\", \"Topic7\", \"Topic7\", \"Topic7\", \"Topic7\", \"Topic7\", \"Topic7\", \"Topic7\", \"Topic7\", \"Topic7\", \"Topic7\", \"Topic7\", \"Topic7\", \"Topic7\", \"Topic7\", \"Topic7\", \"Topic7\", \"Topic7\", \"Topic7\", \"Topic7\", \"Topic7\", \"Topic7\", \"Topic7\", \"Topic7\", \"Topic7\", \"Topic7\", \"Topic7\", \"Topic7\", \"Topic7\", \"Topic7\", \"Topic7\", \"Topic7\", \"Topic7\", \"Topic7\", \"Topic7\", \"Topic7\", \"Topic7\", \"Topic7\", \"Topic7\", \"Topic7\", \"Topic7\", \"Topic7\", \"Topic7\", \"Topic7\", \"Topic7\", \"Topic7\", \"Topic7\", \"Topic7\", \"Topic7\", \"Topic7\", \"Topic7\", \"Topic7\", \"Topic8\", \"Topic8\", \"Topic8\", \"Topic8\", \"Topic8\", \"Topic8\", \"Topic8\", \"Topic8\", \"Topic8\", \"Topic8\", \"Topic8\", \"Topic8\", \"Topic8\", \"Topic8\", \"Topic8\", \"Topic8\", \"Topic8\", \"Topic8\", \"Topic8\", \"Topic8\", \"Topic8\", \"Topic8\", \"Topic8\", \"Topic8\", \"Topic8\", \"Topic8\", \"Topic8\", \"Topic8\", \"Topic8\", \"Topic8\", \"Topic8\", \"Topic8\", \"Topic8\", \"Topic8\", \"Topic8\", \"Topic8\", \"Topic8\", \"Topic8\", \"Topic8\", \"Topic8\", \"Topic8\", \"Topic8\", \"Topic8\", \"Topic8\", \"Topic8\", \"Topic8\", \"Topic8\", \"Topic8\", \"Topic8\", \"Topic8\", \"Topic8\", \"Topic8\", \"Topic8\", \"Topic8\", \"Topic8\", \"Topic8\", \"Topic8\", \"Topic8\", \"Topic8\", \"Topic8\", \"Topic9\", \"Topic9\", \"Topic9\", \"Topic9\", \"Topic9\", \"Topic9\", \"Topic9\", \"Topic9\", \"Topic9\", \"Topic9\", \"Topic9\", \"Topic9\", \"Topic9\", \"Topic9\", \"Topic9\", \"Topic9\", \"Topic9\", \"Topic9\", \"Topic9\", \"Topic9\", \"Topic9\", \"Topic9\", \"Topic9\", \"Topic9\", \"Topic9\", \"Topic9\", \"Topic9\", \"Topic9\", \"Topic9\", \"Topic9\", \"Topic9\", \"Topic9\", \"Topic9\", \"Topic9\", \"Topic9\", \"Topic9\", \"Topic9\", \"Topic9\", \"Topic9\", \"Topic9\", \"Topic9\", \"Topic9\", \"Topic9\", \"Topic9\", \"Topic9\", \"Topic10\", \"Topic10\", \"Topic10\", \"Topic10\", \"Topic10\", \"Topic10\", \"Topic10\", \"Topic10\", \"Topic10\", \"Topic10\", \"Topic10\", \"Topic10\", \"Topic10\", \"Topic10\", \"Topic10\", \"Topic10\", \"Topic10\", \"Topic10\", \"Topic10\", \"Topic10\", \"Topic10\", \"Topic10\", \"Topic10\", \"Topic10\", \"Topic10\", \"Topic10\", \"Topic10\", \"Topic10\", \"Topic10\", \"Topic10\", \"Topic10\", \"Topic10\", \"Topic10\", \"Topic10\", \"Topic10\", \"Topic10\", \"Topic10\", \"Topic10\", \"Topic10\", \"Topic10\", \"Topic10\", \"Topic10\", \"Topic10\", \"Topic10\", \"Topic10\", \"Topic10\", \"Topic10\", \"Topic11\", \"Topic11\", \"Topic11\", \"Topic11\", \"Topic11\", \"Topic11\", \"Topic11\", \"Topic11\", \"Topic11\", \"Topic11\", \"Topic11\", \"Topic11\", \"Topic11\", \"Topic11\", \"Topic11\", \"Topic11\", \"Topic11\", \"Topic11\", \"Topic11\", \"Topic11\", \"Topic11\", \"Topic11\", \"Topic11\", \"Topic11\", \"Topic11\", \"Topic11\", \"Topic11\", \"Topic11\", \"Topic11\", \"Topic11\", \"Topic11\", \"Topic11\", \"Topic11\", \"Topic11\", \"Topic11\", \"Topic11\", \"Topic11\", \"Topic11\", \"Topic11\", \"Topic11\", \"Topic11\", \"Topic11\", \"Topic11\", \"Topic11\", \"Topic11\", \"Topic11\", \"Topic11\", \"Topic11\", \"Topic11\", \"Topic11\", \"Topic11\", \"Topic11\", \"Topic11\", \"Topic12\", \"Topic12\", \"Topic12\", \"Topic12\", \"Topic12\", \"Topic12\", \"Topic12\", \"Topic12\", \"Topic12\", \"Topic12\", \"Topic12\", \"Topic12\", \"Topic12\", \"Topic12\", \"Topic12\", \"Topic12\", \"Topic12\", \"Topic12\", \"Topic12\", \"Topic12\", \"Topic12\", \"Topic12\", \"Topic12\", \"Topic12\", \"Topic12\", \"Topic12\", \"Topic12\", \"Topic12\", \"Topic12\", \"Topic12\", \"Topic12\", \"Topic12\", \"Topic12\", \"Topic12\", \"Topic12\", \"Topic12\", \"Topic12\", \"Topic12\", \"Topic12\", \"Topic12\", \"Topic12\", \"Topic12\", \"Topic12\", \"Topic12\", \"Topic12\", \"Topic12\", \"Topic12\", \"Topic12\", \"Topic12\", \"Topic12\", \"Topic12\", \"Topic12\", \"Topic12\", \"Topic13\", \"Topic13\", \"Topic13\", \"Topic13\", \"Topic13\", \"Topic13\", \"Topic13\", \"Topic13\", \"Topic13\", \"Topic13\", \"Topic13\", \"Topic13\", \"Topic13\", \"Topic13\", \"Topic13\", \"Topic13\", \"Topic13\", \"Topic13\", \"Topic13\", \"Topic13\", \"Topic13\", \"Topic13\", \"Topic13\", \"Topic13\", \"Topic13\", \"Topic13\", \"Topic13\", \"Topic13\", \"Topic13\", \"Topic13\", \"Topic13\", \"Topic13\", \"Topic13\", \"Topic13\", \"Topic13\", \"Topic13\", \"Topic13\", \"Topic13\", \"Topic13\", \"Topic13\", \"Topic14\", \"Topic14\", \"Topic14\", \"Topic14\", \"Topic14\", \"Topic14\", \"Topic14\", \"Topic14\", \"Topic14\", \"Topic14\", \"Topic14\", \"Topic14\", \"Topic14\", \"Topic14\", \"Topic14\", \"Topic14\", \"Topic14\", \"Topic14\", \"Topic14\", \"Topic14\", \"Topic14\", \"Topic14\", \"Topic14\", \"Topic14\", \"Topic14\", \"Topic14\", \"Topic14\", \"Topic14\", \"Topic14\", \"Topic14\", \"Topic14\", \"Topic14\", \"Topic14\", \"Topic14\", \"Topic14\", \"Topic14\", \"Topic14\", \"Topic14\", \"Topic14\", \"Topic14\", \"Topic15\", \"Topic15\", \"Topic15\", \"Topic15\", \"Topic15\", \"Topic15\", \"Topic15\", \"Topic15\", \"Topic15\", \"Topic15\", \"Topic15\", \"Topic15\", \"Topic15\", \"Topic15\", \"Topic15\", \"Topic15\", \"Topic15\", \"Topic15\", \"Topic15\", \"Topic15\", \"Topic15\", \"Topic15\", \"Topic15\", \"Topic15\", \"Topic15\", \"Topic15\", \"Topic15\", \"Topic15\", \"Topic15\", \"Topic15\", \"Topic15\", \"Topic15\", \"Topic15\", \"Topic15\", \"Topic15\", \"Topic15\"], \"logprob\": [30.0, 29.0, 28.0, 27.0, 26.0, 25.0, 24.0, 23.0, 22.0, 21.0, 20.0, 19.0, 18.0, 17.0, 16.0, 15.0, 14.0, 13.0, 12.0, 11.0, 10.0, 9.0, 8.0, 7.0, 6.0, 5.0, 4.0, 3.0, 2.0, 1.0, -5.3387, -5.4355, -5.7035, -5.7753, -5.8839, -5.9119, -5.9148, -6.0263, -6.0463, -6.0758, -6.1992, -6.2261, -6.2583, -6.2645, -6.37, -6.3736, -6.3846, -6.4234, -6.4947, -6.5212, -6.5629, -6.6137, -6.6493, -6.6598, -6.0431, -6.7109, -6.7275, -6.7619, -6.767, -6.7721, -4.8639, -5.0649, -5.2882, -6.4775, -4.1043, -5.2302, -5.823, -5.5516, -5.1592, -5.2783, -4.022, -4.5951, -5.8964, -4.698, -5.6365, -5.1564, -4.6689, -3.9557, -5.2506, -5.2189, -5.2042, -5.4888, -4.7232, -5.6657, -5.1287, -3.8698, -4.6255, -4.6544, -4.0132, -4.6929, -5.418, -5.147, -5.5002, -4.9081, -4.9701, -4.674, -5.2364, -5.203, -5.301, -4.736, -4.9823, -5.1301, -5.1492, -5.1665, -5.1741, -5.2288, -5.3037, -5.4114, -5.5085, -5.5348, -5.5737, -5.6045, -5.6101, -5.665, -5.6615, -5.6967, -5.7513, -5.7815, -5.8671, -5.8985, -5.9391, -6.0374, -6.0719, -6.1101, -6.1489, -6.1642, -6.1692, -6.1692, -6.1733, -6.0959, -5.029, -5.517, -5.6711, -5.1739, -3.3459, -5.4118, -5.4053, -5.1139, -4.9598, -5.1079, -4.3831, -4.687, -3.8423, -4.8627, -4.8699, -4.6733, -5.0106, -4.8249, -4.6746, -4.6506, -4.2682, -4.8944, -4.8283, -5.2529, -5.165, -4.984, -5.1114, -5.2241, -5.1994, -4.6749, -4.7386, -4.9493, -5.1078, -5.1985, -5.2048, -5.27, -5.3077, -5.3679, -5.4245, -5.4887, -5.5506, -5.5596, -5.5848, -5.6188, -5.6235, -5.6533, -5.6737, -5.7451, -5.762, -5.8031, -5.826, -5.8273, -5.8693, -6.0234, -6.0446, -6.0443, -6.0961, -6.0979, -6.165, -5.0095, -4.8817, -4.0551, -5.7572, -4.6824, -4.6863, -4.9922, -5.2764, -4.2508, -4.4589, -5.2494, -5.2833, -4.1301, -4.4017, -5.1675, -5.0862, -4.9847, -3.6302, -4.1097, -4.5689, -4.5977, -4.1364, -4.6433, -4.7041, -4.8992, -4.7801, -4.6969, -4.9979, -4.9172, -5.0722, -5.0379, -5.0675, -4.2268, -4.2697, -4.3117, -4.3322, -4.4425, -4.4583, -4.4886, -4.5611, -4.6145, -4.8445, -4.8577, -4.9427, -4.9477, -4.9748, -4.9965, -5.0627, -5.1173, -5.1594, -5.1914, -5.2049, -5.2262, -5.2953, -5.3332, -5.3349, -5.3767, -5.4598, -5.7023, -5.7171, -5.7445, -5.763, -3.9912, -3.8154, -4.0025, -3.8659, -3.8888, -3.3404, -4.8818, -3.9801, -4.4754, -4.1494, -4.577, -4.5457, -3.767, -4.2254, -4.3235, -4.3681, -4.5271, -4.3581, -4.4977, -4.5657, -4.4737, -4.5562, -4.6139, -4.6262, -4.6419, -4.6496, -4.7357, -4.7472, -4.9188, -4.9577, -5.2167, -5.3381, -5.3523, -5.3648, -5.3693, -5.3809, -4.3381, -5.5124, -5.5536, -5.6039, -5.6143, -5.6306, -5.6732, -5.6811, -5.7285, -5.7428, -5.7973, -5.8009, -5.838, -5.8517, -5.8755, -5.8888, -5.9823, -5.1984, -4.15, -5.1073, -3.039, -5.5734, -5.2364, -3.9874, -4.8777, -4.5951, -4.7554, -3.8593, -5.3104, -4.3639, -4.8154, -5.3617, -5.0733, -4.7819, -4.771, -4.8215, -3.6314, -4.6158, -4.8675, -4.1802, -4.8004, -5.0002, -4.7309, -4.8738, -4.9088, -4.8371, -3.4651, -4.2118, -4.2698, -4.4426, -4.4796, -4.5438, -3.1166, -4.6274, -3.9567, -4.8789, -5.0056, -5.0057, -5.0395, -5.1152, -5.1409, -5.2423, -5.2591, -5.2919, -5.3422, -5.3943, -5.4405, -5.4521, -5.5517, -5.5601, -5.5604, -5.5894, -5.6219, -5.65, -5.6699, -5.6718, -3.0903, -2.8437, -4.3071, -4.5655, -3.352, -4.5818, -4.0048, -4.1881, -4.5939, -3.3457, -4.7055, -3.0767, -4.559, -4.7823, -4.6466, -4.2268, -4.4601, -4.8166, -4.4853, -4.8724, -4.7659, -4.8222, -3.7563, -4.0962, -4.338, -4.3512, -4.3766, -4.4169, -4.4943, -4.7354, -4.8461, -4.8602, -4.8876, -4.903, -4.9722, -5.0301, -5.0587, -4.7191, -5.2245, -5.3315, -5.3478, -5.3529, -5.4419, -5.4747, -5.5267, -5.6307, -5.6827, -5.7967, -5.9648, -5.9885, -6.0422, -6.0399, -4.7349, -2.7507, -5.5568, -3.9916, -5.0239, -4.5677, -2.9605, -4.153, -4.4004, -4.2791, -4.6857, -3.6532, -4.6656, -4.3389, -4.809, -4.5369, -4.2336, -4.4944, -4.6035, -4.7885, -4.7502, -4.4836, -4.5268, -4.5691, -4.8484, -4.8998, -4.9697, -4.9783, -4.9342, -5.0674, -5.0905, -5.107, -5.1524, -5.2189, -5.3419, -5.358, -5.4989, -5.5228, -5.5224, -5.59, -5.6254, -5.626, -5.6275, -5.64, -5.7544, -5.7618, -5.763, -5.7708, -5.7747, -5.8463, -5.8526, -5.6475, -4.0162, -2.5674, -3.9598, -4.5646, -4.979, -4.8618, -5.0782, -5.4562, -4.5983, -5.2702, -4.7986, -3.8329, -2.9854, -3.7718, -4.1986, -4.7315, -4.2387, -4.2074, -4.5899, -4.6955, -4.5238, -4.7866, -4.7104, -4.4103, -4.7467, -4.7903, -4.8817, -4.8986, -4.9224, -3.6359, -3.731, -3.8768, -3.9415, -3.9717, -3.9752, -4.0761, -4.0852, -4.124, -4.1255, -4.1741, -4.5026, -4.6316, -4.6417, -4.6981, -4.8293, -4.8318, -4.8498, -4.8581, -4.8821, -4.913, -4.9256, -5.0337, -5.0458, -5.2061, -5.2324, -5.2505, -5.2747, -5.3648, -5.4163, -4.081, -3.5512, -3.6765, -2.8448, -3.0325, -3.9762, -4.0974, -4.1461, -3.9592, -4.3374, -3.0889, -4.6936, -4.4717, -4.2652, -4.6486, -3.2237, -3.8126, -3.9811, -4.0139, -4.0267, -4.0354, -4.0482, -4.227, -4.2284, -4.3834, -4.4052, -4.601, -2.7808, -4.6579, -4.7671, -4.8261, -5.0534, -5.0575, -5.1365, -5.1932, -5.3657, -5.376, -5.3932, -5.4516, -5.4585, -5.4934, -5.4962, -5.5709, -5.7164, -5.7581, -4.1962, -4.1964, -3.9891, -4.6287, -3.9865, -3.6868, -4.5872, -3.3135, -3.4085, -4.8406, -4.4987, -3.4319, -4.3476, -3.9004, -4.5284, -4.5463, -4.6188, -3.1694, -3.3594, -3.6533, -3.9656, -4.0084, -4.2536, -4.3426, -4.3858, -4.4862, -4.5138, -4.5246, -4.8906, -4.9296, -5.0142, -5.0546, -5.1032, -5.1653, -5.2495, -5.31, -5.3343, -5.5026, -5.5169, -5.5491, -5.6097, -5.6169, -5.6868, -5.7383, -5.7546, -5.7594, -5.9019, -4.2092, -3.6272, -4.2727, -4.6029, -4.5754, -3.5286, -3.6073, -4.257, -4.4795, -4.1515, -4.0767, -4.042, -3.7264, -4.0864, -4.2549, -4.2294, -4.233, -4.265, -4.0118, -4.284, -4.4512, -4.4689, -4.4802, -3.5791, -4.1769, -4.2641, -4.3013, -4.3646, -4.3846, -3.8855, -4.4587, -4.5776, -4.6692, -4.7334, -4.8624, -4.8776, -5.119, -5.1708, -5.1763, -5.2295, -5.2916, -5.3471, -5.3802, -5.3923, -5.4042, -5.4266, -5.49, -5.577, -5.5837, -5.6047, -5.6089, -5.7689, -5.7754, -3.405, -3.6661, -3.7179, -3.8816, -3.7863, -3.4605, -3.4259, -3.4962, -4.4239, -3.32, -4.1952, -4.5206, -4.1872, -4.0517, -3.8068, -4.5466, -4.1687, -4.2673, -4.0386, -4.2693, -4.2575, -4.3249, -4.5253, -2.7615, -3.8178, -3.8239, -3.8569, -3.9123, -3.927, -3.9324, -4.0035, -4.0059, -4.0594, -4.0991, -4.1702, -4.1928, -4.3284, -4.3357, -4.3945, -4.4415, -4.4489, -4.5029, -4.5308, -4.5535, -4.6073, -4.6865, -4.708, -4.7399, -4.7595, -4.8786, -4.8919, -4.9215, -4.9829, -3.9802, -4.2329, -3.577, -3.9211, -3.6631, -4.3586, -4.5622, -4.3812, -4.3127, -4.4904, -2.3428, -3.0301, -3.4685, -3.491, -3.5564, -3.6089, -3.6244, -3.7445, -3.7644, -3.8907, -3.9823, -4.0164, -4.0577, -4.109, -4.1265, -4.1642, -4.1897, -4.1954, -4.3291, -4.4941, -4.5294, -4.5781, -4.5924, -4.5974, -4.6347, -4.662, -4.9017, -4.9292, -4.9971, -5.0023, -3.6558, -3.6256, -4.282, -4.2908, -4.3473, -4.0732, -4.0531, -4.1304, -4.1977, -4.4383, -1.7448, -2.4773, -2.8406, -3.0148, -3.0554, -3.0559, -3.164, -3.4386, -3.5978, -3.6019, -3.694, -3.7317, -3.7615, -3.8379, -3.9241, -3.9579, -3.9625, -4.3011, -4.3373, -4.3932, -4.4114, -4.4306, -4.5939, -4.8169, -6.0807, -6.1495, -6.1684, -6.645, -6.8644, -3.828, -4.889, -3.9794, -4.3706, -5.0966, -5.2946, -4.9672], \"loglift\": [30.0, 29.0, 28.0, 27.0, 26.0, 25.0, 24.0, 23.0, 22.0, 21.0, 20.0, 19.0, 18.0, 17.0, 16.0, 15.0, 14.0, 13.0, 12.0, 11.0, 10.0, 9.0, 8.0, 7.0, 6.0, 5.0, 4.0, 3.0, 2.0, 1.0, 1.4406, 1.4405, 1.4402, 1.4401, 1.4399, 1.4399, 1.4398, 1.4396, 1.4396, 1.4395, 1.4393, 1.4392, 1.4391, 1.4391, 1.4389, 1.4388, 1.4388, 1.4387, 1.4385, 1.4384, 1.4383, 1.4381, 1.438, 1.4379, 1.4378, 1.4377, 1.4377, 1.4375, 1.4375, 1.4375, 1.4366, 1.4202, 1.4203, 1.4337, 1.3779, 1.389, 1.4099, 1.3914, 1.3692, 1.3754, 1.2168, 1.2369, 1.3764, 1.2179, 1.3428, 1.2479, 1.1581, 1.0079, 1.2272, 1.2028, 1.1752, 1.2493, 0.9769, 1.2876, 1.0475, 0.402, 0.7113, 0.6564, 0.2235, 0.6592, 1.1199, 0.844, 1.1861, 0.1154, 0.0005, -0.7446, 0.6172, 0.2397, 0.4066, 1.7507, 1.7505, 1.7504, 1.7503, 1.7503, 1.7503, 1.7503, 1.7502, 1.75, 1.7499, 1.7498, 1.7498, 1.7497, 1.7497, 1.7496, 1.7496, 1.7495, 1.7494, 1.7494, 1.7492, 1.7491, 1.749, 1.7488, 1.7487, 1.7486, 1.7485, 1.7484, 1.7484, 1.7484, 1.7484, 1.7411, 1.62, 1.6486, 1.67, 1.4801, 0.8909, 1.5135, 1.4586, 1.3054, 1.2098, 1.2897, 0.8626, 1.0206, 0.4296, 1.0418, 1.0352, 0.8305, 0.9855, 0.6801, 0.4573, 0.3729, -0.3387, 0.6516, 0.1354, 1.0409, 0.7009, -0.0134, 0.3313, 0.742, 0.1527, 2.5251, 2.525, 2.5246, 2.5243, 2.5241, 2.5241, 2.5239, 2.5238, 2.5236, 2.5235, 2.5233, 2.523, 2.523, 2.5229, 2.5228, 2.5228, 2.5227, 2.5226, 2.5223, 2.5222, 2.522, 2.5219, 2.5219, 2.5217, 2.5209, 2.5208, 2.5208, 2.5205, 2.5205, 2.52, 2.5187, 2.3806, 2.2545, 2.4772, 2.2519, 2.2471, 2.279, 2.3469, 2.0048, 2.0306, 2.308, 2.3047, 1.6077, 1.5028, 2.1163, 1.9615, 1.8296, 0.2993, 0.7381, 1.0753, 0.9731, 0.1354, 0.8617, 0.6753, 1.1472, 0.572, -0.4601, 1.0773, 0.1063, 1.1142, 0.718, 0.4785, 2.5992, 2.5991, 2.5991, 2.5991, 2.5989, 2.5989, 2.5989, 2.5988, 2.5987, 2.5983, 2.5983, 2.5981, 2.5981, 2.5981, 2.598, 2.5979, 2.5977, 2.5976, 2.5975, 2.5975, 2.5974, 2.5972, 2.5971, 2.5971, 2.597, 2.5967, 2.5958, 2.5957, 2.5956, 2.5955, 2.573, 2.558, 2.515, 2.2381, 2.0886, 1.7915, 2.3971, 1.8916, 2.032, 1.6944, 2.0494, 1.9994, 1.2036, 1.6093, 1.7179, 1.6241, 1.8358, 1.4678, 1.5183, 1.6208, 1.2822, 1.5191, 1.7308, 2.6329, 2.6328, 2.6328, 2.6327, 2.6327, 2.6323, 2.6323, 2.6316, 2.6312, 2.6312, 2.6312, 2.6311, 2.6311, 2.6309, 2.6306, 2.6305, 2.6303, 2.6302, 2.6302, 2.63, 2.6299, 2.6297, 2.6297, 2.6294, 2.6294, 2.6292, 2.6291, 2.629, 2.6289, 2.6284, 2.6153, 2.3595, 2.4174, 1.8088, 2.5457, 2.4382, 1.998, 2.2871, 2.0918, 2.0704, 1.5201, 2.3829, 1.6271, 1.9707, 2.4117, 2.1315, 1.8168, 1.7707, 1.7936, 0.298, 1.5291, 1.7292, 0.0916, 1.0532, 1.5396, 0.2926, 0.63, 0.4281, -0.6004, 2.7403, 2.7397, 2.7396, 2.7394, 2.7393, 2.7392, 2.7392, 2.7391, 2.7388, 2.7386, 2.7383, 2.7383, 2.7382, 2.738, 2.7379, 2.7376, 2.7375, 2.7374, 2.7373, 2.7371, 2.7369, 2.7369, 2.7364, 2.7364, 2.7364, 2.7363, 2.7361, 2.736, 2.7359, 2.7359, 2.7118, 2.7066, 2.6191, 2.6008, 2.3797, 2.44, 2.2514, 2.2343, 2.3586, 1.7655, 2.3112, 0.8527, 2.067, 2.2696, 1.9501, 0.9687, 0.9193, 1.6333, -0.2134, 1.7961, 0.7391, 0.0256, 2.7719, 2.7716, 2.7713, 2.7713, 2.7712, 2.7712, 2.7711, 2.7706, 2.7704, 2.7704, 2.7703, 2.7703, 2.7701, 2.7699, 2.7699, 2.7697, 2.7694, 2.769, 2.7689, 2.7689, 2.7686, 2.7684, 2.7682, 2.7677, 2.7675, 2.7668, 2.7658, 2.7656, 2.7652, 2.7652, 2.6854, 2.4448, 2.7062, 2.2858, 2.3588, 2.0583, 0.9689, 1.4178, 1.5657, 1.4164, 1.8519, 0.5835, 1.7844, 1.165, 1.8896, 1.1948, 0.0383, 0.4693, 0.8393, 1.4436, 0.5605, 3.0173, 3.0172, 3.0171, 3.0164, 3.0163, 3.016, 3.016, 3.016, 3.0157, 3.0156, 3.0156, 3.0154, 3.0151, 3.0146, 3.0145, 3.0138, 3.0136, 3.0136, 3.0132, 3.013, 3.013, 3.013, 3.0129, 3.0122, 3.0121, 3.0121, 3.0121, 3.012, 3.0115, 3.0114, 3.0105, 2.7691, 2.5437, 2.719, 2.7601, 2.8162, 2.7743, 2.7715, 2.9218, 2.4122, 2.8016, 2.4996, 1.6721, 0.9441, 1.5651, 1.8428, 2.1187, 1.3073, 1.1034, 1.614, 1.7268, 1.1204, 1.8293, 1.4598, -0.1385, 1.088, 0.3417, 0.9443, 1.3334, 0.3233, 3.105, 3.1049, 3.1047, 3.1046, 3.1046, 3.1046, 3.1045, 3.1044, 3.1044, 3.1044, 3.1043, 3.1037, 3.1034, 3.1034, 3.1032, 3.1028, 3.1028, 3.1028, 3.1027, 3.1027, 3.1026, 3.1025, 3.1021, 3.1021, 3.1014, 3.1013, 3.1012, 3.1011, 3.1007, 3.1004, 3.003, 2.9078, 2.8946, 2.7805, 2.7037, 2.8608, 2.8071, 2.6815, 2.4993, 2.6646, 0.8406, 2.8666, 2.5257, 1.727, 2.2657, 3.251, 3.2505, 3.2502, 3.2502, 3.2501, 3.2501, 3.2501, 3.2498, 3.2497, 3.2495, 3.2494, 3.2489, 3.2489, 3.2487, 3.2484, 3.2482, 3.2473, 3.2472, 3.2469, 3.2466, 3.2456, 3.2456, 3.2455, 3.2451, 3.245, 3.2448, 3.2448, 3.2442, 3.2431, 3.2427, 3.2376, 2.8206, 2.6828, 2.838, 2.4524, 2.2486, 2.7507, 1.9973, 1.9709, 2.8183, 2.5081, 1.4159, 2.1878, 1.4365, 2.1586, 0.6925, 0.4048, 3.5039, 3.5037, 3.5034, 3.5029, 3.5028, 3.5022, 3.502, 3.5019, 3.5015, 3.5015, 3.5014, 3.4999, 3.4997, 3.4993, 3.499, 3.4988, 3.4984, 3.4978, 3.4974, 3.4972, 3.4958, 3.4957, 3.4954, 3.4948, 3.4947, 3.494, 3.4934, 3.4932, 3.4932, 3.4914, 3.2943, 3.091, 3.1604, 3.1567, 3.0463, 2.5193, 2.5329, 2.835, 2.9428, 2.6454, 2.5558, 2.515, 2.2658, 2.4447, 2.4648, 2.2504, 2.2466, 2.256, 1.1836, 1.7321, 1.763, 1.287, 1.3545, 3.7091, 3.7078, 3.7075, 3.7074, 3.7072, 3.7071, 3.707, 3.7068, 3.7063, 3.7059, 3.7056, 3.7049, 3.7048, 3.7032, 3.7028, 3.7028, 3.7023, 3.7018, 3.7013, 3.701, 3.7008, 3.7007, 3.7005, 3.6998, 3.6989, 3.6988, 3.6985, 3.6985, 3.6964, 3.6963, 3.5743, 3.4325, 3.2584, 3.2259, 3.178, 2.9179, 2.7883, 2.76, 3.215, 2.4178, 2.9021, 3.1158, 2.7968, 2.4976, 2.1893, 2.9529, 2.3109, 2.4245, 1.8446, 2.2202, 1.9981, 0.5229, 1.651, 3.8247, 3.8232, 3.8232, 3.8232, 3.823, 3.823, 3.823, 3.8228, 3.8228, 3.8226, 3.8225, 3.8223, 3.8222, 3.8217, 3.8217, 3.8214, 3.8213, 3.8212, 3.821, 3.8209, 3.8207, 3.8205, 3.8201, 3.8199, 3.8198, 3.8196, 3.8189, 3.8188, 3.8186, 3.8182, 3.0731, 3.1613, 2.0672, 2.3886, 1.9077, 2.4359, 3.1873, 2.2042, 0.7108, -0.2536, 3.9313, 3.9307, 3.9301, 3.93, 3.9299, 3.9298, 3.9297, 3.9295, 3.9294, 3.9291, 3.9288, 3.9287, 3.9286, 3.9284, 3.9284, 3.9282, 3.9281, 3.9281, 3.9276, 3.9268, 3.9266, 3.9264, 3.9263, 3.9263, 3.9261, 3.9259, 3.9243, 3.9241, 3.9235, 3.9235, 3.7317, 3.4258, 3.3812, 3.3217, 3.2699, 2.0309, 1.7907, 0.8402, 1.0479, 2.3238, 4.7425, 4.7417, 4.741, 4.7406, 4.7405, 4.7405, 4.7402, 4.7392, 4.7386, 4.7385, 4.7381, 4.7379, 4.7377, 4.7373, 4.7368, 4.7365, 4.7365, 4.7338, 4.7335, 4.7329, 4.7327, 4.7325, 4.7306, 4.7275, 4.6888, 4.685, 4.6839, 4.6494, 4.6276, 4.51, 3.5003, 2.5222, 2.6456, 3.2011, 2.5908, 0.2283]}, \"token.table\": {\"Topic\": [8, 7, 14, 9, 11, 13, 7, 7, 12, 15, 7, 7, 11, 13, 11, 12, 13, 14, 14, 9, 1, 2, 3, 4, 5, 6, 8, 10, 11, 14, 6, 6, 13, 8, 12, 6, 12, 4, 7, 1, 1, 2, 4, 6, 7, 10, 14, 13, 10, 9, 9, 10, 10, 11, 6, 10, 10, 10, 5, 15, 6, 8, 6, 1, 2, 4, 14, 15, 15, 7, 6, 11, 4, 4, 9, 12, 2, 7, 6, 1, 2, 5, 6, 5, 6, 6, 11, 8, 14, 5, 10, 12, 2, 7, 2, 1, 2, 3, 4, 5, 6, 7, 8, 10, 12, 13, 2, 4, 4, 13, 1, 12, 1, 1, 3, 5, 1, 2, 3, 4, 8, 10, 14, 4, 10, 4, 10, 9, 1, 14, 14, 4, 10, 10, 1, 5, 4, 1, 2, 3, 4, 5, 6, 7, 8, 9, 10, 11, 13, 14, 15, 1, 7, 1, 2, 3, 4, 5, 7, 8, 13, 1, 2, 8, 13, 11, 6, 6, 15, 1, 6, 8, 11, 14, 1, 5, 1, 1, 12, 12, 12, 15, 1, 2, 3, 6, 7, 11, 15, 15, 15, 11, 1, 3, 5, 1, 2, 3, 5, 6, 7, 8, 9, 10, 11, 13, 8, 1, 2, 3, 4, 8, 9, 12, 14, 5, 4, 1, 3, 5, 1, 5, 10, 1, 2, 10, 10, 10, 1, 2, 3, 4, 6, 3, 11, 8, 1, 2, 3, 4, 6, 7, 8, 9, 10, 11, 14, 14, 1, 2, 12, 9, 1, 4, 9, 3, 1, 2, 3, 4, 6, 8, 12, 1, 2, 3, 5, 6, 9, 3, 15, 1, 5, 11, 3, 15, 5, 7, 11, 1, 2, 3, 5, 6, 10, 13, 6, 7, 3, 7, 1, 2, 4, 9, 14, 3, 8, 7, 11, 5, 6, 3, 5, 1, 2, 3, 4, 5, 6, 7, 8, 9, 2, 4, 9, 2, 2, 13, 8, 1, 2, 4, 8, 9, 2, 1, 4, 11, 9, 4, 9, 9, 1, 5, 5, 4, 10, 11, 2, 3, 10, 8, 1, 13, 7, 8, 4, 1, 2, 3, 4, 5, 6, 7, 10, 1, 6, 4, 8, 13, 7, 11, 2, 3, 1, 2, 3, 7, 9, 11, 15, 2, 2, 12, 2, 3, 6, 6, 1, 11, 1, 2, 11, 1, 2, 4, 10, 11, 4, 4, 10, 6, 4, 12, 3, 13, 7, 2, 1, 2, 3, 4, 5, 7, 11, 14, 5, 1, 8, 8, 12, 1, 3, 6, 14, 3, 14, 7, 14, 7, 14, 13, 7, 14, 5, 8, 1, 5, 3, 6, 7, 11, 15, 6, 3, 10, 7, 14, 7, 3, 13, 12, 3, 15, 13, 10, 15, 7, 9, 1, 13, 1, 2, 3, 4, 5, 6, 7, 8, 9, 10, 11, 12, 13, 14, 15, 15, 1, 2, 3, 6, 7, 8, 11, 14, 15, 7, 6, 14, 2, 4, 8, 9, 2, 12, 1, 8, 12, 8, 1, 6, 8, 10, 14, 7, 13, 4, 5, 1, 2, 3, 5, 6, 7, 10, 11, 12, 1, 2, 3, 4, 8, 14, 1, 2, 3, 4, 7, 8, 9, 14, 15, 1, 2, 3, 5, 6, 2, 8, 14, 8, 4, 4, 3, 6, 7, 3, 6, 7, 8, 1, 2, 5, 10, 1, 5, 10, 10, 8, 12, 1, 3, 7, 12, 11, 7, 2, 12, 1, 3, 4, 5, 9, 10, 11, 12, 3, 4, 12, 1, 2, 3, 5, 6, 7, 8, 10, 4, 9, 8, 12, 1, 3, 1, 9, 9, 3, 5, 3, 4, 9, 1, 9, 12, 1, 1, 2, 3, 4, 5, 7, 8, 10, 14, 1, 2, 5, 7, 8, 10, 1, 11, 1, 9, 2, 15, 1, 14, 5, 13, 1, 2, 3, 4, 6, 7, 8, 9, 12, 13, 6, 3, 8, 1, 3, 4, 5, 6, 10, 1, 2, 3, 5, 7, 13, 2, 3, 12, 5, 2, 9, 1, 8, 9, 2, 3, 2, 3, 4, 11, 12, 15, 2, 10, 12, 1, 12, 3, 6, 15, 4, 1, 2, 3, 4, 5, 6, 7, 8, 9, 13, 14, 1, 5, 2, 3, 4, 6, 7, 8, 3, 8, 9, 12, 1, 11, 11, 1, 2, 13, 1, 2, 4, 11, 1, 2, 3, 5, 6, 12, 2, 4, 10, 6, 12, 10, 12, 12, 8, 1, 2, 3, 5, 1, 2, 3, 4, 5, 6, 7, 10, 13, 8, 1, 6, 9, 3, 15, 1, 5, 7, 14, 15, 5, 2, 3, 1, 5, 1, 3, 14, 5, 1, 2, 3, 5, 6, 7, 8, 11, 13, 2, 3, 15, 3, 14, 1, 2, 3, 6, 7, 9, 11, 1, 3, 3, 8, 6, 3, 8, 5, 8, 15, 5, 4, 14, 5, 10, 9, 9, 1, 5, 10, 9, 1, 3, 10, 13, 14, 8, 1, 8, 9, 13, 7, 7, 2, 13, 3, 9, 9, 4, 9, 5, 10, 12, 1, 2, 3, 4, 5, 6, 7, 9, 11, 12, 9, 14, 15, 1, 2, 4, 5, 6, 8, 13, 1, 2, 5, 5, 14, 1, 2, 3, 4, 5, 6, 10, 4, 1, 7, 10, 4, 8, 14, 15, 3, 1, 2, 3, 7, 11, 13, 1, 5, 10, 1, 5, 11, 2, 11, 8, 12, 2, 3, 6, 1, 15, 3, 7, 1, 2, 3, 4, 10, 11, 13, 14, 1, 2, 5, 13, 2, 1, 3, 5, 1, 1, 3, 1, 2, 3, 5, 7, 11, 12, 15, 9, 9, 2, 1, 9, 1, 6, 9, 13, 11, 1, 2, 3, 5, 10, 12, 1, 2, 3, 4, 5, 6, 8, 11, 14, 12, 2, 9, 12, 1, 2, 5, 8, 10, 12, 2, 12, 8, 5, 1, 3, 5, 7, 10, 13, 7, 7, 3, 13, 14, 7, 1, 2, 4, 5, 6, 8, 14, 4, 1, 2, 12, 1, 3, 1, 1, 1, 6, 12, 3, 5, 6, 7, 8, 2, 11, 1, 3, 5, 1, 4, 1, 2, 3, 11, 12, 1, 2, 3, 4, 11, 14, 3, 5, 2, 5, 6, 13, 13, 4, 8, 10, 10, 2, 12, 4, 4, 4, 11, 1, 2, 4, 9, 14, 11, 6, 8, 5, 7, 2, 4, 9, 1, 2, 3, 5, 15, 3, 12, 1, 2, 3, 4, 6, 8, 14, 5, 8, 13, 13, 15, 5, 1, 3, 5, 6, 1, 3, 4, 5, 10, 9, 8, 1, 13, 3, 1, 3, 5, 6, 7, 10, 12, 1, 3, 5, 6, 10, 12, 5, 6, 8, 3, 5, 6, 1, 3, 5, 11, 1, 2, 3, 10, 6, 7, 11, 1, 2, 3, 7, 12, 8, 14, 5, 8, 12, 3, 1, 3, 1, 2, 3, 6, 7, 8, 9, 11, 13, 1, 2, 3, 4, 8, 9, 10, 11, 12, 14, 7, 8, 1, 3, 4, 7, 10, 8, 11, 13, 1, 3, 12, 13, 7, 11, 13, 12, 1, 2, 8, 10, 10, 10, 2, 3, 5, 7, 10, 13, 1, 2, 3, 5, 10, 2, 9, 1, 2, 3, 4, 5, 10, 14, 1, 2, 3, 4, 5, 11, 12, 13, 9, 1, 2, 11, 5, 6, 9, 1, 3, 5, 13, 1, 2, 3, 5, 7, 10, 4, 1, 2, 3, 4, 5, 6, 7, 8, 9, 10, 11, 14, 1, 2, 3, 4, 8, 11, 1, 2, 3, 4, 5, 8, 9, 10, 11, 14, 3, 6, 8, 1, 8, 1, 2, 4, 9, 11, 3, 6, 9, 10, 11, 5, 12, 7, 13, 7, 8, 2, 5, 6, 7, 9, 10, 12, 1, 2, 3, 4, 5, 6, 7, 8, 10, 11, 14, 15, 8, 1, 2, 3, 4, 6, 7, 8, 11, 13, 14, 1, 2, 5, 9, 11, 13, 6, 7, 6, 4, 14, 1, 2, 5, 7, 10, 15, 1, 9, 1, 5, 7, 8, 10, 3, 1, 6, 9, 1, 2, 6, 14, 14, 6, 12, 1, 2, 3, 6, 1, 6, 7, 8, 10, 2, 1, 2, 3, 4, 5, 6, 7, 8, 9, 10, 11, 12, 13, 5, 14, 11, 2, 2, 1, 2, 3, 4, 10, 4, 4, 7, 5, 7, 11, 10, 6, 6, 11, 15, 7, 6, 4, 5, 10, 1, 2, 3, 5, 6, 7, 8, 9, 10, 9, 9, 2, 3, 6, 9, 2, 4, 8, 9, 10, 10, 2, 2, 6, 8, 1, 3, 4, 7, 9, 11, 12, 3, 5, 6, 8, 1, 2, 3, 5, 7, 10, 15, 11, 5, 1, 2, 3, 4, 10, 12, 13, 14, 1, 9, 12, 3, 2, 2, 3, 7, 1, 9, 1, 3, 4, 5, 6, 11, 12, 5, 9, 13, 5, 6, 5, 11, 5, 6, 10, 11, 1, 13, 5, 6, 7, 6, 1, 2, 3, 5, 6, 7, 9, 10, 1, 2, 4, 8, 9, 12, 14, 4, 1, 2, 3, 4, 5, 7, 8, 11, 12, 12, 1, 2, 8, 9, 14, 5, 5, 12, 1, 2, 3, 4, 5, 6, 7, 8, 9, 10, 11, 13, 1, 2, 3, 5, 6, 7, 10, 11, 10, 3, 2, 1, 2, 4, 5, 6, 7, 8, 9, 8, 8], \"Freq\": [0.9955999773149048, 0.9968301793357848, 0.9973571018683483, 0.997359870606177, 0.9974633087882533, 0.9961607472692662, 0.9970585241396572, 0.9344092127300753, 0.059223119116694915, 0.914017276203786, 0.9990009619780105, 0.9979246563431217, 0.9964430201062923, 0.9972807114388914, 0.9941773588525522, 0.996141436693284, 0.9935440420382468, 0.997882935189767, 0.9981588983881189, 0.9991924168071119, 0.14574032331419992, 0.04034815633519616, 0.08487025987748158, 0.3391332105760022, 0.07060927358659327, 0.03513072232633459, 0.0361742091281069, 0.05808743196532551, 0.16974051975496315, 0.019826249233673977, 0.9989676253640277, 0.9963554710479767, 0.9929653418050363, 0.9942479235228464, 0.9937052762304115, 0.6129447473535009, 0.3865178276962192, 0.9984065338096805, 0.995854859943325, 0.9962678151591621, 0.32309938172787767, 0.05486593274624337, 0.0038502408944732195, 0.07668396448159162, 0.1710148663961855, 0.36673544519857415, 0.003529387486600451, 0.9979875074954463, 0.9903277336943032, 0.9984388435588244, 0.9980908380126485, 0.9980798295222371, 0.9943401485622195, 0.9922394030247071, 0.9971534009140481, 0.9980890168302506, 0.9935890935943099, 0.9989692360180688, 0.7834409599052149, 0.21459469771316755, 0.9995159186165476, 0.9973563430305942, 0.996774014939665, 0.7743663349767719, 0.0747851596553511, 0.14141193825739118, 0.008838246141086949, 0.9970127950007798, 0.992754637641691, 0.9946625769390777, 0.9952473597970097, 0.9927483558836488, 0.9991597874386423, 0.8165504987210428, 0.1820022195944493, 0.9968586146213361, 0.9987018401595534, 0.9984428114297635, 0.9970035196955354, 0.9948681712573639, 0.0041606940247752204, 0.7065686883711992, 0.29184358867506055, 0.9966327867089032, 0.9980631753363124, 0.9960355733440013, 0.9886026538383903, 0.995911964914543, 0.9967499086424094, 0.4001343822257587, 0.1977780928163933, 0.4010500215443531, 0.8770349526092652, 0.12248359681697729, 0.998121570225343, 0.2230347016354576, 0.3328129904521302, 0.1289079708282908, 0.010434372006337197, 0.008695310005280997, 0.014347261508713648, 0.09956129956046743, 0.1804276826095807, 0.0004347655002640499, 0.0004347655002640499, 0.0006521482503960748, 0.9978838885303455, 0.9988592634691763, 0.9949998555149978, 0.9970355590337067, 0.9980874216156552, 0.9885999693066357, 0.9963368310733541, 0.5156008676163094, 0.14916015987988906, 0.33472949264384555, 0.8147969492705075, 0.007812328703943077, 0.043401826133017095, 0.12933744187639093, 0.0014467275377672364, 0.0020254185528741308, 0.0005786910151068946, 0.9971723609637232, 0.997540192122998, 0.002468063579831744, 0.9970976862520247, 0.9988097339872298, 0.9972742104336517, 0.9893775678673083, 0.9959213535045063, 0.012921546426762846, 0.9863447105762306, 0.9969579417520381, 0.8240671005258374, 0.17537706806461506, 0.9986809891625174, 0.20397345808826245, 0.4111667024131194, 0.08419741008694655, 0.0920858863666031, 0.009820348021613268, 0.015293984623823942, 0.036544573785347735, 0.06745452165665507, 0.0008049465591486285, 0.010625294580761896, 0.0003219786236594514, 0.011913209075399701, 0.05586329120491482, 0.9874013450069717, 0.9982817861169156, 0.992353155791942, 0.07287783676056941, 0.15082543607839582, 0.16349984247153834, 0.06654063356399816, 0.09442432762891168, 0.14702311416045308, 0.30418575343542015, 0.9948443938404712, 0.21786426023291405, 0.234547559439939, 0.07556553170240712, 0.47105785996305743, 0.9881295252590115, 0.9961297056867049, 0.9967617705964456, 0.9981672579709763, 0.9965285180023087, 0.40371074591655276, 0.5942822781504534, 0.9923367090006739, 0.9958259149689351, 0.9963522013467531, 0.001505063748257935, 0.997189417138972, 0.9961763834560571, 0.9926049296540164, 0.9972923698309862, 0.9975397860430373, 0.9990471638259311, 0.23235459320451357, 0.12996104365676184, 0.05828555897333561, 0.02323545932045136, 0.17761342633090785, 0.37846231198226704, 0.995395377458687, 0.9888070963492734, 0.9984448793326491, 0.9933249830863251, 0.753176584719663, 0.10278441924499988, 0.1436678577121987, 0.11236607671768252, 0.12367606984101437, 0.10783344588581288, 0.09665295650053445, 0.15134670187176139, 0.16468558689126347, 0.1255322900864467, 0.10377566209347244, 0.007727056370520619, 0.0015972127693254909, 0.004834806220660946, 0.9960786636915121, 0.009704326965170925, 0.15292680769252112, 0.156942391264316, 0.5996604800547, 0.03547098821752131, 0.0388173078606837, 0.0040155835717948654, 0.0023424237502136717, 0.9985602384542057, 0.9949898538587358, 0.32305197932706375, 0.16152598966353188, 0.5146293159047411, 0.7250571299688707, 0.12777886364851562, 0.14653539409233443, 0.1602439650496162, 0.17656510963800304, 0.6617482260382299, 0.9949370130552193, 0.9966037121584258, 0.12581901977615836, 0.630113876368858, 0.1293847409843896, 0.07131442416462418, 0.04227926575474148, 0.9989085013582945, 0.9932381742559779, 0.9901917634991363, 0.010154962873154984, 0.17669635399289674, 0.028433896044833956, 0.37138149936109655, 0.024081769099196106, 0.060639635442554046, 0.14507089818792834, 0.057738217478795484, 0.007253544909396417, 0.11634686034671854, 0.002030992574630997, 0.997133450824367, 0.0849533079466775, 0.2983725937639405, 0.6153934746381273, 0.9971934102770134, 0.2772210690931081, 0.00023533197715883543, 0.7222338379004659, 0.9942156473815023, 0.41813629015568443, 0.2326701570859016, 0.004263589265972019, 0.03989501384588103, 0.05177215537251737, 0.098367095207783, 0.15470738193669897, 0.024501825414311895, 0.01372102223201466, 0.06958518417664578, 0.01372102223201466, 0.624306511556667, 0.25285883827569877, 0.9982223736710722, 0.9921950158715734, 0.002706212412549987, 0.9967882386225786, 0.9988455516422845, 0.20214160046054636, 0.790834682503541, 0.9947388672692309, 0.9985287544557577, 0.997361814610059, 0.43847710095485193, 0.10880618553700978, 0.10939752350188484, 0.20578561177651852, 0.01300943522725117, 0.0632731622416307, 0.061203479364568006, 0.9662248480159626, 0.03340090414515189, 0.08215742662910272, 0.9164802591211976, 0.11759406370268888, 0.39804852525303475, 0.46545600109934593, 0.018204938732215434, 0.9975215496280438, 0.004883419485423727, 0.9913341555410166, 0.29236339684846163, 0.7060476590558087, 0.9939977532088407, 0.9983381221250536, 0.6635974297517062, 0.3348880883849393, 0.21163234019238725, 0.34962740218487737, 0.09459097524864833, 0.17421502403390293, 0.008381478819500484, 0.06046638291211064, 0.071541908495022, 0.012272879699982853, 0.016463619109733096, 0.013154839627292532, 0.08297668072599905, 0.9026243805803799, 0.9965494671724191, 0.9977864704565976, 0.9965137343405127, 0.9926292492115769, 0.10694279138585802, 0.04866857572051023, 0.5763383966902528, 0.16777851103649583, 0.09925827942998798, 0.9984486313578018, 0.5940550731167045, 0.018040718055604907, 0.3872311268363767, 0.9940727081602961, 0.17929689929706738, 0.8201072674796375, 0.9973539094186702, 0.23985019178550973, 0.7594306547507944, 0.9986100507321776, 0.995924900482834, 0.9915297104096954, 0.998998196919631, 0.19495550535129608, 0.8041914595740963, 0.9948062350091846, 0.9979796539643095, 0.9964443420997462, 0.9961842842673899, 0.9969774855008331, 0.9962426103266949, 0.9976883399596791, 0.7987545488880161, 0.013749577903196433, 0.030696732062950177, 0.0092729711440162, 0.058515645494998776, 0.0046364855720081, 0.006874788951598217, 0.07738134540868691, 0.9787785304840974, 0.02015950098298212, 0.999148246638299, 0.997175201512956, 0.9990292290507067, 0.995357649270867, 0.9946690423147121, 0.9212446381953765, 0.0772065818942148, 0.05795594799791158, 0.307704259988912, 0.004779871999827759, 0.2563206359907636, 0.0011949679999569399, 0.37163504798660824, 0.9835095238967034, 0.998574829920059, 0.9983045463240261, 0.993659151187482, 0.998984736465114, 0.9972026192347022, 0.995076266305053, 0.9948290648810963, 0.998262535914766, 0.9993255516016816, 0.3170464124478104, 0.04850983359857208, 0.6323603308385289, 0.14075904233429873, 0.2667958378938366, 0.17451248615936016, 0.04452581951391082, 0.3730832780238173, 0.9989395506592824, 0.9972736162385698, 0.9979061840024471, 0.9977772526604869, 0.9978556689260941, 0.9944913240736323, 0.993465563496534, 0.9947336676444942, 0.9985024758732338, 0.9979751595581433, 0.03483997989461258, 0.10894406411489965, 0.02543871547860601, 0.38600485661015205, 0.027650777694136968, 0.13106468627020923, 0.2853560258034935, 0.9980688999884002, 0.9974915384303789, 0.18135546975550318, 0.8160996138997644, 0.9899866221655936, 0.9806439418594177, 0.998078872384601, 0.994658306963524, 0.9934035453779535, 0.9959458714186297, 0.9961695020876588, 0.9984697982775873, 0.3957157672205678, 0.6023891010907159, 0.42077471813042117, 0.5760821248223362, 0.9931632431230675, 0.9966683938071215, 0.9914298652920794, 0.08858072140074677, 0.9079523943576543, 0.9976268777800719, 0.9926994965585638, 0.00030620548615418124, 0.1699440448155706, 0.7205015089207885, 0.09813885831241509, 0.010870294758473434, 0.9975247561681605, 0.34884971779910573, 0.6491481862137998, 0.9952765887528126, 0.9940787991725838, 0.9900249537098409, 0.9965719247832372, 0.9950008453387088, 0.9946764936402694, 0.9983692841878432, 0.9948789854814477, 0.9980494359269477, 0.9933391961182388, 0.9904689646934802, 0.9979610659028326, 0.9961782218654791, 0.9949756199017784, 0.9976925491050144, 0.29577831254918896, 0.42291778962431165, 0.05048012478513643, 0.035394785169113104, 0.039386236896309934, 0.011152585708344095, 0.11199543963958176, 0.0036979626296088316, 0.00586978195176005, 0.0010565607513168091, 0.004578429922372839, 0.0005282803756584046, 0.016904972021068946, 0.000234791278070402, 0.9974171785769876, 0.9950990355602918, 0.017177338324663814, 0.15083850216345412, 0.026302799309641463, 0.33012697092713267, 0.37199673309350073, 0.03381788482668188, 0.069246145121301, 0.992676962801184, 0.9971049469492973, 0.9976347011427069, 0.9972125186686034, 0.9977000735497321, 0.06241327100455584, 0.0896812049385851, 0.037569153420218084, 0.8095546607969574, 0.9025341792749588, 0.09662166396130946, 0.9358455916954986, 0.05133330249806532, 0.011846146730322768, 0.9986627377221956, 0.7663318170635652, 0.10754656701610087, 0.06002599089270746, 0.005502382498498184, 0.060526207483480025, 0.992499084363218, 0.995805113907375, 0.9982696617808862, 0.9978672913449601, 0.3677372407286217, 0.01578522336990904, 0.0005846379025892237, 0.11926613212820163, 0.08594177168061588, 0.06489480718740383, 0.344936362527642, 0.9932599362207383, 0.9961479666892621, 0.13579120514638932, 0.12162168808763564, 0.08147472308783359, 0.5484783894825899, 0.06730520602907991, 0.04546053389683468, 0.0046377505282667, 0.1063115121094982, 0.13913251584800101, 0.413830047137644, 0.003567500406359, 0.3082320351094176, 0.012486251422256501, 0.0114160013003488, 0.9942460392143524, 0.1917054265930117, 0.3353175057480553, 0.04876131059682876, 0.034734084260754736, 0.38875455845690876, 0.0822442321754402, 0.09869307861052824, 0.81833011014563, 0.9940926185837046, 0.9954252712527004, 0.9981741427174889, 0.9927056219351723, 0.998268459459361, 0.0011852400824688169, 0.06386500227757723, 0.697018446988476, 0.2065142901516739, 0.03245598476401466, 0.032656876007560925, 0.05034601717832309, 0.5810202523011881, 0.3354133306609903, 0.5502106139614453, 0.36533713393124334, 0.0841259138486057, 0.9927899353904832, 0.9970384770589146, 0.9916837969659482, 0.32603874652341125, 0.010913430845971924, 0.6616267450370479, 0.9956586294329494, 0.9866008819621412, 0.9955653826391806, 0.9976919914586255, 0.9874517505867616, 0.11455553464180064, 0.3989692758214436, 0.19724619642921537, 0.002633460566478176, 0.0007900381699434527, 0.009217111982673614, 0.001843422396534723, 0.2744065910270259, 0.6086863301710966, 0.16529463645013265, 0.22504641381555224, 0.2213324493573315, 0.39806495129237585, 0.010003726524625153, 0.13484189711317654, 0.02125791886482845, 0.20028294146176606, 0.008128027801257936, 0.005835507139364672, 0.21658118126201262, 0.782537844705812, 0.0016826618597085223, 0.9961358209474452, 0.16313409980487348, 0.8347606596398313, 0.9986895922202303, 0.9987450634267974, 0.996355945044706, 0.016793636653254847, 0.9803285396337517, 0.995723155195079, 0.9982310905290859, 0.9949523970852957, 0.3070479260484705, 0.1050427115428978, 0.5871618234961979, 0.9979951223041893, 0.08578830379744953, 0.3053829380912623, 0.005270271223051507, 0.40434691994634064, 0.003220721302975921, 0.02137387773793111, 0.04831081954463882, 0.008783785371752511, 0.11740993113575858, 0.2525405675503519, 0.15238772708593884, 0.09151897490713608, 0.2646279793305397, 0.1851964162035914, 0.05309827317725348, 0.18779816930594434, 0.8096871889748092, 0.21015233777989542, 0.7868494507572829, 0.9986756990546286, 0.9471342495730166, 0.4812396471740971, 0.5157371129213443, 0.8004369707932825, 0.1975889751580395, 0.13978305911180258, 0.48846240478044156, 0.015254721373002956, 0.22477364961853333, 0.029886801057311913, 0.06195284802505282, 0.021481138259942936, 0.008716983641715975, 0.0012452833773879963, 0.007783021108674977, 0.998385053083594, 0.9964117864432106, 0.9949185563384446, 0.20296902087512045, 0.23470599504832113, 0.3391427821531558, 0.16901783920146396, 0.031367939589791345, 0.022142075004558597, 0.2208460879017394, 0.07242681994759365, 0.21148631424697345, 0.09003210848870102, 0.25806233076711826, 0.14685930567835143, 0.45845631064765047, 0.07206503879745677, 0.4691894015323781, 0.9941337832480294, 0.9978926271435073, 0.9943474628035155, 0.1506217213671306, 0.7711317187941131, 0.07595454325351031, 0.9989768512495917, 0.9966013453003643, 0.026518133002189255, 0.5935642103656694, 0.1926984331492419, 0.006629533250547314, 0.18032330441488692, 0.9926189186758135, 0.9990890261488597, 0.9984025678592557, 0.9849051207824815, 0.4466112687685591, 0.552109993674518, 0.11321351740654749, 0.8849667314832415, 0.8864464495418531, 0.9963557196489258, 0.35516012090629917, 0.48138249481112777, 0.001533065270099133, 0.016097185336040896, 0.001022043513399422, 0.030916816280332517, 0.09556106850284596, 0.006132261080396532, 0.01022043513399422, 0.0002555108783498555, 0.001533065270099133, 0.0826228811481065, 0.9145498223635237, 0.2125414787960159, 0.11734360399022258, 0.32240730410058704, 0.15444489054595473, 0.06787522191591305, 0.12568420329344918, 0.8007031765447461, 0.08375556240007805, 0.11390756486410614, 0.9909872146281831, 0.9986219102368336, 0.9919199211008336, 0.9968565510713097, 0.25253501922045135, 0.7462369217478931, 0.9958032464793648, 0.20922510982590553, 0.00852819741138202, 0.5662723081157661, 0.2149105747668269, 0.6744497287024832, 0.07471204621825328, 0.005715675666970196, 0.013472664072144034, 0.10410694964838572, 0.12737791486390723, 0.22670354826359657, 0.2969629123948765, 0.4749533015274523, 0.9986306593580008, 0.9951816473203803, 0.9915325504955091, 0.9891993784362262, 0.9898723261775721, 0.9918810593497334, 0.9059209515175634, 0.07564531084100377, 0.017316396457579177, 0.9948155618993226, 0.43350343509350237, 0.029402218095671787, 0.25171167198977557, 0.0021513818118784234, 0.14916247229023735, 0.05737018165009129, 0.010039781788765977, 0.027609399919106437, 0.03872487261381163, 0.996615570881255, 0.7874528768497503, 0.05427110615796821, 0.1575949428817923, 0.9953670520969291, 0.9934816838261193, 0.9955760765360204, 0.23175384034473437, 0.22317036477641086, 0.5424756559180449, 0.9965212777454233, 0.9977973266035562, 0.9982943130392853, 0.9951457414721031, 0.19341777105656247, 0.8051211283004877, 0.9301229234646448, 0.06909152802265464, 0.9979663395149221, 0.9966717670447689, 0.11127236377155358, 0.1273397094023598, 0.23429547285518934, 0.07122390525894702, 0.031894880132794456, 0.10000124071710743, 0.14964214438243414, 0.001678677901726024, 0.17242420162014446, 0.9991613072460227, 0.9923727984872875, 0.9641551573768099, 0.997902636509072, 0.9959655099805943, 0.11367184897801538, 0.15937496351556796, 0.09023435434337304, 0.01347655941491935, 0.3984374087889199, 0.02812499356157082, 0.19687495493099572, 0.9985018624513247, 0.9932939916670024, 0.9924305413577204, 0.006311164014993452, 0.994248631421162, 0.9952079629666245, 0.9937982678886743, 0.3994377484190701, 0.3061111716856425, 0.287445856338957, 0.9957955909888039, 0.9586670018457942, 0.040773181613773406, 0.9968907623560447, 0.992251491156006, 0.9986967116321831, 0.996300078218311, 0.2078316596022321, 0.6052240636768298, 0.18613494788551557, 0.9966646539648365, 0.8568551443466993, 0.11365539738484716, 0.027525916554142674, 0.9917189866868433, 0.9986676673202561, 0.9982459470426593, 0.07087424961645304, 0.36421489386232814, 0.03543712480822652, 0.5276194138113727, 0.9957971526410864, 0.9971659851923141, 0.9905850929031006, 0.008595098419983519, 0.863596569864122, 0.13425660960072486, 0.9987041321399827, 0.4542361755285449, 0.5451916910098269, 0.8219764102772644, 0.043838741881454105, 0.1315162256443623, 0.10727980074946462, 0.25772394485930206, 0.06790180329789643, 0.21506444762010318, 0.031552882573371945, 0.037863459088046336, 0.25772394485930206, 0.018426883422849216, 0.006058153454087414, 0.0005048461211739512, 0.9988347170938212, 0.9969248412706386, 0.989141384730138, 0.11869407204662308, 0.6403232834094139, 0.14316170970535677, 0.03487939836457783, 0.010932348741136336, 0.005205880352922064, 0.046332335141006376, 0.9928225292191012, 0.004628543259762709, 0.997325011909993, 0.9921141082631708, 0.9925609565009607, 0.2713627511710333, 0.49129973562268303, 0.05877230482215273, 0.014693076205538183, 0.0018366345256922729, 0.14279833437257422, 0.018825503888345797, 0.997189924464923, 0.9990772911944017, 0.3492237128016749, 0.6501807335901102, 0.9730674676989346, 0.006619506582985949, 0.01985851974895785, 0.9934669098277573, 0.9946286795194732, 0.021970056257692213, 0.4386435370070273, 0.12045651534389869, 0.0696981095071615, 0.10000163537984041, 0.24924650030278409, 0.4614284877655428, 0.5292260945205678, 0.009107141205898872, 0.8248831297052726, 0.1589618531202869, 0.015036932051919031, 0.7883795306878483, 0.21069507720463854, 0.9908068670012682, 0.9930160146288393, 0.24112402637876934, 0.7564504654265363, 0.0008704838497428496, 0.881823766551136, 0.11727579504004879, 0.9970093600716713, 0.999088056179194, 0.6284559522240163, 0.0687294443311979, 0.0038042127858596625, 0.15952332282038184, 0.06365716061671835, 0.02333250508660593, 0.024600576015225816, 0.027897560429637525, 0.16145936936599875, 0.16835934241582776, 0.15455939631616974, 0.5147379895172439, 0.9974905683649515, 0.9383717796554519, 0.0002039495282885138, 0.06118485848655414, 0.9980005055610577, 0.9485235186357245, 0.05022343027628836, 0.14041878987146547, 0.12292890501203026, 0.1424176338554009, 0.005496820955822491, 0.0174898848594352, 0.11493352907628845, 0.45273816236137976, 0.00349797697188704, 0.9992401917995256, 0.9973213459504354, 0.9966138154533318, 0.9959287669434409, 0.9973292353569617, 0.5670673285834797, 0.0008540170611196984, 0.4312786158654477, 0.9966849849087213, 0.9881923131471305, 0.4977448150953431, 0.03521406084537801, 0.02769645235029731, 0.33117043738855495, 0.030861761190331287, 0.07715440297582822, 0.12395116486471412, 0.3586515953777823, 0.010268143834946732, 0.1716246898126811, 0.012468460371006747, 0.025670359587366832, 0.05940854647362038, 0.03740538111302024, 0.2002288047814613, 0.9979564965151195, 0.09387191595851077, 0.03280960169423677, 0.8721885783717942, 0.24190053211274076, 0.39130968430002183, 0.0011857869221212783, 0.06225381341136711, 0.005336041149545752, 0.29703962399138023, 0.3895551992041171, 0.6098918503376675, 0.9947240705834784, 0.9931828867163421, 0.07007406418581136, 0.03319297777222643, 0.32516824521310705, 0.22927742053778627, 0.14445092178654095, 0.19792849708623908, 0.9986045153654892, 0.998085833079025, 0.7618148139508537, 0.2374548317825992, 0.994175594682403, 0.9978279787221849, 0.017851887044762562, 0.08698047092022611, 0.69622359474574, 0.007976375062553486, 0.011014994134002433, 0.030766018098420587, 0.14927216188492953, 0.9989140012764054, 0.04210052191655569, 0.20023418960313072, 0.7567825525000377, 0.9972420194583987, 0.9938430229468901, 0.9959962385579757, 0.997816729514966, 0.9790903782375575, 0.020571461666547206, 0.9915201964420411, 0.0002814419799416628, 0.0007036049498541571, 0.3769915321318574, 0.0001407209899708314, 0.6215646127011624, 0.996855038059908, 0.9943600391480586, 0.5660394911702911, 0.0018994613797660774, 0.43117773320689956, 0.9988640763305332, 0.9990447688075955, 0.059421212883008445, 0.4918583118745359, 0.35932722973756415, 0.08244304405234155, 0.006844328185477412, 0.03444845053489366, 0.42041170244625325, 0.1413089501533393, 0.0485090425899523, 0.35362389018472473, 0.9949117081991983, 0.5679974752388963, 0.43038983948514303, 0.220607878580794, 0.038035841134619656, 0.7397971100683524, 0.9969721153019805, 0.9965679384762629, 0.9182433027045599, 0.080970797799464, 0.9989074420629401, 0.99419652741606, 0.5537436147536576, 0.4450457940797915, 0.9981777795307303, 0.9955758672019369, 0.9982712453465116, 0.9921440736277884, 0.15404285902124173, 0.09929268623658352, 0.051038296663664426, 0.5595653252398118, 0.13548347841627284, 0.9912957566604337, 0.19293964944616898, 0.80436811600093, 0.7779366617036283, 0.2196089140694453, 0.16237699121655524, 0.09471991154299056, 0.741690735921453, 0.15770189809356608, 0.04530662265671512, 0.7597572107049151, 0.03572252940241, 0.9896236269459955, 0.994700144774818, 0.9964991101843498, 0.057801744523620704, 0.30255600649082715, 0.01595568989454113, 0.49221798070895756, 0.005719964301816633, 0.1225276563599668, 0.003010507527271912, 0.9950644451687536, 0.9976250118405158, 0.9973523415676421, 0.9965372137731658, 0.9278132307248305, 0.997611787546099, 0.7996569099144276, 0.020140906034838004, 0.12241894449299975, 0.05727570153657058, 0.1501308309042788, 0.2437563765506285, 0.37532707726069703, 0.20044940609747117, 0.030108655648385586, 0.9966850646437431, 0.9912784496887256, 0.9947569483958448, 0.9966665409249194, 0.9971424667539072, 0.05741642829334884, 0.15697504273790563, 0.32812016553538775, 0.16175974509568472, 0.011041620825644007, 0.27788079077870753, 0.0066249724953864044, 0.12782808725753125, 0.16719308197981667, 0.4379896390803736, 0.06618510101658978, 0.1595147450971731, 0.04131161534042042, 0.015012867397732986, 0.20567628334894192, 0.7784171745724553, 0.02808231322014611, 0.00028082313220146113, 0.9713672142848541, 0.3538680264801754, 0.12833411260761726, 0.09340293402802913, 0.42373038363935167, 0.9508669739621477, 0.045697858268051464, 0.0017576099333865946, 0.0008788049666932973, 0.5095039562291566, 0.48966146547148837, 0.9885227738061427, 0.009546757395811305, 0.4650634674245221, 0.13808702661798494, 0.16843207691181372, 0.2185525532398231, 0.9933556233238197, 0.9994691765413496, 0.12754916533267407, 0.7403250495764204, 0.131598345184505, 0.9979574643546587, 0.9966914741813456, 0.9957310077359754, 0.648161983333348, 0.19864986975147195, 0.001214241257649584, 0.012628109079555673, 0.09993205550456076, 0.001821361886474376, 0.01821361886474376, 0.015299439846384757, 0.004006996150243627, 0.42529433203682737, 0.10084892697350242, 0.016135828315760388, 0.03572933412775514, 0.04610236661645825, 0.03515305454504942, 0.010373032488703107, 0.2869872321874526, 0.041492129954812426, 0.0028813979135286407, 0.9988949122509457, 0.9942911451474714, 0.09261869913852057, 0.09653216529930313, 0.1695835336339109, 0.03391670672678218, 0.6052827662010358, 0.996110583383385, 0.7087630950555007, 0.2898181076947594, 0.43735560152312686, 0.4983999345979096, 0.06336247230547068, 0.9979568945627112, 0.15512940826931707, 0.661230328460166, 0.1832071292230396, 0.9889875905673937, 0.3297316326904135, 0.012063352415502934, 0.09114532936157771, 0.5663073772833321, 0.9970322654997597, 0.997299437453289, 0.05555891252540415, 0.0817574241227492, 0.12150688999458306, 0.614761625585976, 0.09033969516325878, 0.036135878065303516, 0.8069129109087597, 0.011590404329058791, 0.0474654653475741, 0.11314442321224058, 0.020421188579770252, 0.9968893073790122, 0.9986743427936359, 0.4573443126629575, 0.20216982341287354, 0.1416442252609238, 0.10010002771283995, 0.07180699662405872, 0.026502332918605213, 0.00035813963403520557, 0.04070954784359535, 0.015266080441348256, 0.1382428395522092, 0.1768320984456173, 0.0559756282849436, 0.17513586728546748, 0.39776620705512955, 0.9940843075268074, 0.9980689298926522, 0.45594946121713503, 0.03162065614704963, 0.5120506253489973, 0.9946016153298387, 0.9966477254872635, 0.9969525969892555, 0.5219082297163231, 0.05589772471595343, 0.4218807223298801, 0.9914469227548628, 0.0578167746633522, 0.09360811135971309, 0.28495410369795016, 0.1411004619760381, 0.4136652568175556, 0.008259539237621743, 0.9973223931627001, 0.236705108969077, 0.17117104987433254, 0.044749003038575506, 0.24746443210403504, 0.04536032821669812, 0.02592018755239893, 0.06663444441536517, 0.031544379191127, 0.0520849051760469, 0.03227796940487414, 0.0007335902137471395, 0.04548259325232265, 0.1251676698501885, 0.2986558820146359, 0.013390029797927144, 0.14729032777719858, 0.06927884982405784, 0.34639424912028915, 0.311858573718205, 0.034591363722827555, 0.1638397149972685, 0.26761380616575114, 0.0557752221267297, 0.0034859513829206064, 0.004558551808434639, 0.0458536681907249, 0.10886894318967431, 0.0034859513829206064, 0.12218739291299266, 0.602582271032451, 0.2746605498813425, 0.9989914426294239, 0.9904745949188057, 0.004415145319108576, 0.07675560323988756, 0.3766458583762624, 0.2520029097521972, 0.2897014582461243, 0.7810453958942569, 0.013424217741932542, 0.20380403299115768, 0.9908149264228835, 0.9916178175537059, 0.9951186301822464, 0.9868780830984989, 0.9945682182584258, 0.9976078070186047, 0.2176328939530662, 0.7813020892915077, 0.06776027236788042, 0.40469667258247843, 0.4538073287023184, 0.03419096312140755, 0.004973230999477462, 0.016784654623236434, 0.018027962373105798, 0.048798808369925825, 0.01835994770353645, 0.05411353007358111, 0.41937985807025363, 0.04203461711072819, 0.04348408666627054, 0.07295663429563168, 0.03913567799964349, 0.06860822562900462, 0.1835994770353645, 0.009663130370282342, 0.998099113389908, 0.9964340883596488, 0.3005451924341324, 0.2417300862826388, 0.10861189602642489, 0.029407553075746815, 0.024506294229789012, 0.14468516113267432, 0.07371493304320534, 0.02607469706049551, 0.039602171475339044, 0.011370920522622101, 0.0031325008169658585, 0.30228632883720535, 0.03602375939510737, 0.653909545541623, 0.003915626021207323, 0.9959222944765178, 0.8691451675139292, 0.1285587668762702, 0.9984006413876374, 0.9965652873910282, 0.9936916527045885, 0.5301704472844764, 0.084782054469799, 0.028260684823266335, 0.019217265679821106, 0.2289115470684573, 0.10852102972134273, 0.9961183633686795, 0.9958163989962924, 0.48181441315626194, 0.11004838719235265, 0.011639733260729607, 0.2335001035940303, 0.16277990605535497, 0.9978939460343729, 0.2989392631627012, 0.03181323732866038, 0.6688667418521652, 0.9374935440608705, 0.007333717424204984, 0.05500288068153738, 0.9978841011202756, 0.9925426472907698, 0.9989579334279846, 0.9853395403403331, 0.007568721447662908, 0.15326660931517389, 0.18827194601061484, 0.6509100444990101, 0.45599816644563257, 0.0018899697931054854, 0.10944643256438129, 0.147245828426491, 0.28521362332319145, 0.9968382384234779, 0.2654430345907458, 0.25190660009243193, 0.08895371241749131, 0.015856966126596275, 0.0961731441499254, 0.026686113725247394, 0.0712918883577865, 0.025139092639725805, 0.01933776356901985, 0.05801329070705955, 0.015212374007628949, 0.0214004583497153, 0.04434793778495219, 0.9980320707040055, 0.9906570050722451, 0.9981422225489777, 0.9985791469426027, 0.9986574440163961, 0.17784331330285796, 0.11413824585108795, 0.10405161017122437, 0.15342303744634614, 0.44965160109707675, 0.9988626928251513, 0.9978600172532286, 0.9980939197660742, 0.0015170659029069239, 0.996712298209849, 0.9884034299528398, 0.9948301903318393, 0.9956690520286117, 0.42863773479689077, 0.5705707595640732, 0.9958646344240919, 0.9983178941930722, 0.9966179240023763, 0.9977699050957969, 0.9972062077203382, 0.9989502864954072, 0.0037557110795208787, 0.3426043106985157, 0.1892461082847465, 0.004798964157165567, 0.1349969482472227, 0.0027124580018761902, 0.25997866694905636, 0.04277337618343223, 0.01919585662866227, 0.9964323355792556, 0.9976379214992711, 0.9993609408511644, 0.9964351071545743, 0.9965191758014547, 0.9988237487585365, 0.7623186132938042, 0.1731345382523925, 0.059905866847786, 0.003949837374579297, 0.9992704529340569, 0.9982630173970136, 0.9987766342908241, 0.9977092698395355, 0.21441927274355876, 0.782103085007243, 0.0016588221662618198, 0.04202349487863277, 0.22007040739073477, 0.11445872947206556, 0.09068227842231281, 0.28421153115285847, 0.24661156205092388, 0.0009403350065392388, 0.33946093736066524, 0.11284020078470866, 0.5453943037927586, 0.06619151044544704, 0.2893514599472399, 0.07659303351544586, 0.16075081108179995, 0.22315994950179285, 0.05957235940090233, 0.12292709082725878, 0.996866079544749, 0.9958648852488233, 0.33840287858236245, 0.03144754023189631, 0.20099080061255467, 0.03828396202143899, 0.058109585211112744, 0.2761914402975241, 0.041702172916210326, 0.015040127936993887, 0.3598105547905219, 0.0027258375362918326, 0.6360287584680943, 0.9970374652679056, 0.9962929389485201, 0.9989114046966916, 0.9527971977433747, 0.044762284457742434, 0.3561427860957055, 0.6432945612723476, 0.12457448363683606, 0.21862821878264727, 0.0946766075639954, 0.4416165444925838, 0.019931917381893767, 0.07412181776391745, 0.02553776914555139, 0.9956961629329566, 0.9959040028958824, 0.996225863581242, 0.3167467163245921, 0.6822919463686592, 0.9975101084031985, 0.9965795436905536, 0.5690400442710418, 0.42990662685312225, 0.9945048184219383, 0.9967859578954094, 0.9688500609304757, 0.029359092755468958, 0.9955904223875713, 0.9977432741641457, 0.0013724116563468304, 0.9949662710859193, 0.017844707771152688, 0.5819808102637297, 0.06732321568207605, 0.07786781572866627, 0.013383530828364515, 0.10382375430488837, 0.03487829246179844, 0.10301263122438142, 0.12658556767169885, 0.2741489933230436, 0.4454202721705635, 0.0686809322895256, 0.04195571595929179, 0.04296150367064468, 0.9936575500134606, 0.9966501323033038, 0.15991160154046183, 0.25560673317097443, 0.08604167536953983, 0.09401626967208254, 0.05204472071133141, 0.07638821910856707, 0.24511384593078664, 0.0029380084272525794, 0.02770122231409575, 0.9886062026431668, 0.21789015127774294, 0.19546028276385763, 0.40614083344785173, 0.1794389481110824, 0.9965852329917714, 0.9982085587111603, 0.9983486424392213, 0.9902928773626033, 0.3535937851419579, 0.26665446039075436, 0.09149907954584709, 0.014226434959287852, 0.07867096939024991, 0.05210279812012687, 0.06493090827572404, 0.042496914686077816, 0.005471705753572251, 0.013861654575716368, 0.00899791612809659, 0.007417201132620162, 0.18132107831311847, 0.3642965460269041, 0.054263972341882176, 0.04135973501667849, 0.020845306448405956, 0.2991136036406188, 0.0003308778801334279, 0.038050956215344205, 0.9968989234132002, 0.9971159199798352, 0.9974369411307059, 0.24430502147583555, 0.10551379665069309, 0.04220551866027724, 0.1363562910562803, 0.09942646222853772, 0.0008116445896207161, 0.21021594871176547, 0.16029980645009143, 0.9976120774294308, 0.9947712228063387], \"Term\": [\"afp\", \"apple\", \"bbc\", \"facebook\", \"google\", \"iphone\", \"microsoft\", \"new\", \"new\", \"russia\", \"the\", \"times\", \"twitter\", \"xbox\", \"yahoo\", \"york\", \"youtube\", \"\\u0430\\u0432\\u0430\\u0440\\u0438\\u044f\", \"\\u0430\\u0432\\u0438\\u0430\\u043a\\u043e\\u043c\\u043f\\u0430\\u043d\\u0438\\u044f\", \"\\u0430\\u0432\\u0442\\u043e\\u043c\\u043e\\u0431\\u0438\\u043b\\u044c\", \"\\u0430\\u0433\\u0435\\u043d\\u0442\\u0441\\u0442\\u0432\\u043e\", \"\\u0430\\u0433\\u0435\\u043d\\u0442\\u0441\\u0442\\u0432\\u043e\", \"\\u0430\\u0433\\u0435\\u043d\\u0442\\u0441\\u0442\\u0432\\u043e\", \"\\u0430\\u0433\\u0435\\u043d\\u0442\\u0441\\u0442\\u0432\\u043e\", \"\\u0430\\u0433\\u0435\\u043d\\u0442\\u0441\\u0442\\u0432\\u043e\", \"\\u0430\\u0433\\u0435\\u043d\\u0442\\u0441\\u0442\\u0432\\u043e\", \"\\u0430\\u0433\\u0435\\u043d\\u0442\\u0441\\u0442\\u0432\\u043e\", \"\\u0430\\u0433\\u0435\\u043d\\u0442\\u0441\\u0442\\u0432\\u043e\", \"\\u0430\\u0433\\u0435\\u043d\\u0442\\u0441\\u0442\\u0432\\u043e\", \"\\u0430\\u0433\\u0435\\u043d\\u0442\\u0441\\u0442\\u0432\\u043e\", \"\\u0430\\u0434\\u0432\\u043e\\u043a\\u0430\\u0442\", \"\\u0430\\u043a\\u0442\\u0438\\u0432\", \"\\u0430\\u043a\\u0442\\u0438\\u0432\\u043d\\u043e\", \"\\u0430\\u043a\\u0442\\u0438\\u0432\\u043d\\u043e\\u0441\\u0442\\u044c\", \"\\u0430\\u043a\\u0442\\u0438\\u0432\\u043d\\u044b\\u0439\", \"\\u0430\\u043a\\u0446\\u0438\\u044f\", \"\\u0430\\u043a\\u0446\\u0438\\u044f\", \"\\u0430\\u043b\\u044c\", \"\\u0430\\u043c\\u0435\\u0440\\u0438\\u043a\\u0430\", \"\\u0430\\u043c\\u0435\\u0440\\u0438\\u043a\\u0430\\u043d\\u0435\\u0446\", \"\\u0430\\u043c\\u0435\\u0440\\u0438\\u043a\\u0430\\u043d\\u0441\\u043a\\u0438\\u0439\", \"\\u0430\\u043c\\u0435\\u0440\\u0438\\u043a\\u0430\\u043d\\u0441\\u043a\\u0438\\u0439\", \"\\u0430\\u043c\\u0435\\u0440\\u0438\\u043a\\u0430\\u043d\\u0441\\u043a\\u0438\\u0439\", \"\\u0430\\u043c\\u0435\\u0440\\u0438\\u043a\\u0430\\u043d\\u0441\\u043a\\u0438\\u0439\", \"\\u0430\\u043c\\u0435\\u0440\\u0438\\u043a\\u0430\\u043d\\u0441\\u043a\\u0438\\u0439\", \"\\u0430\\u043c\\u0435\\u0440\\u0438\\u043a\\u0430\\u043d\\u0441\\u043a\\u0438\\u0439\", \"\\u0430\\u043c\\u0435\\u0440\\u0438\\u043a\\u0430\\u043d\\u0441\\u043a\\u0438\\u0439\", \"\\u0430\\u043f\\u043f\\u0430\\u0440\\u0430\\u0442\", \"\\u0430\\u0440\\u0433\\u0435\\u043d\\u0442\\u0438\\u043d\\u0430\", \"\\u0430\\u0440\\u0435\\u0441\\u0442\", \"\\u0430\\u0440\\u0435\\u0441\\u0442\\u043e\\u0432\\u0430\\u0442\\u044c\", \"\\u0430\\u0440\\u043c\\u0438\\u044f\", \"\\u0430\\u0442\\u043e\\u043c\\u043d\\u044b\\u0439\", \"\\u0430\\u0443\\u0434\\u0438\\u0442\\u043e\\u0440\\u0438\\u044f\", \"\\u0430\\u0443\\u043a\\u0446\\u0438\\u043e\\u043d\", \"\\u0430\\u044d\\u0440\\u043e\\u043f\\u043e\\u0440\\u0442\", \"\\u0430\\u044d\\u0440\\u043e\\u0444\\u043b\\u043e\\u0442\", \"\\u0431\\u0430\\u0437\\u0430\", \"\\u0431\\u0430\\u0437\\u043e\\u0432\\u044b\\u0439\", \"\\u0431\\u0430\\u0437\\u043e\\u0432\\u044b\\u0439\", \"\\u0431\\u0430\\u043d\\u043a\", \"\\u0431\\u0430\\u0440\\u0430\\u043a\", \"\\u0431\\u0430\\u0440\\u0440\\u0435\\u043b\\u044c\", \"\\u0431\\u0435\\u0437\\u043e\\u043f\\u0430\\u0441\\u043d\\u043e\\u0441\\u0442\\u044c\", \"\\u0431\\u0435\\u0437\\u043e\\u043f\\u0430\\u0441\\u043d\\u043e\\u0441\\u0442\\u044c\", \"\\u0431\\u0435\\u0437\\u043e\\u043f\\u0430\\u0441\\u043d\\u043e\\u0441\\u0442\\u044c\", \"\\u0431\\u0435\\u0437\\u043e\\u043f\\u0430\\u0441\\u043d\\u043e\\u0441\\u0442\\u044c\", \"\\u0431\\u0435\\u043b\\u043e\\u0440\\u0443\\u0441\\u0441\\u0438\\u044f\", \"\\u0431\\u0435\\u043b\\u043e\\u0440\\u0443\\u0441\\u0441\\u043a\\u0438\\u0439\", \"\\u0431\\u0435\\u0441\\u043f\\u043b\\u0430\\u0442\\u043d\\u044b\\u0439\", \"\\u0431\\u0438\\u0440\\u0436\\u0430\", \"\\u0431\\u043b\\u043e\\u0433\", \"\\u0431\\u043e\\u0435\\u0432\\u0438\\u043a\", \"\\u0431\\u043e\\u043b\\u044c\\u043d\\u0438\\u0446\\u0430\", \"\\u0431\\u043e\\u043b\\u044c\\u043d\\u0438\\u0446\\u0430\", \"\\u0431\\u043e\\u0440\\u0438\\u0441\", \"\\u0431\\u043e\\u0440\\u0442\", \"\\u0431\\u0440\\u0438\\u0442\\u0430\\u043d\\u0441\\u043a\\u0438\\u0439\", \"\\u0431\\u0443\\u043c\\u0430\\u0433\\u0430\", \"\\u0431\\u044b\\u0432\\u0448\\u0438\\u0439\", \"\\u0431\\u044b\\u0432\\u0448\\u0438\\u0439\", \"\\u0431\\u044e\\u0434\\u0436\\u0435\\u0442\", \"\\u0431\\u044e\\u0434\\u0436\\u0435\\u0442\", \"\\u0431\\u044e\\u0434\\u0436\\u0435\\u0442\\u043d\\u044b\\u0439\", \"\\u0432\\u0430\\u043b\\u044e\\u0442\\u0430\", \"\\u0432\\u0430\\u043b\\u044e\\u0442\\u043d\\u044b\\u0439\", \"\\u0432\\u0430\\u0441\\u0438\\u043b\\u0438\\u0439\", \"\\u0432\\u0432\\u043f\", \"\\u0432\\u0432\\u0441\", \"\\u0432\\u0435\\u0434\\u043e\\u043c\\u0441\\u0442\\u0432\\u043e\", \"\\u0432\\u0435\\u0434\\u043e\\u043c\\u0441\\u0442\\u0432\\u043e\", \"\\u0432\\u0435\\u0434\\u043e\\u043c\\u0441\\u0442\\u0432\\u043e\", \"\\u0432\\u0435\\u0440\\u0441\\u0438\\u044f\", \"\\u0432\\u0435\\u0440\\u0441\\u0438\\u044f\", \"\\u0432\\u0435\\u0440\\u0442\\u043e\\u043b\\u0451\\u0442\", \"\\u0432\\u0435\\u0441\\u044c\", \"\\u0432\\u0435\\u0441\\u044c\", \"\\u0432\\u0435\\u0441\\u044c\", \"\\u0432\\u0435\\u0441\\u044c\", \"\\u0432\\u0435\\u0441\\u044c\", \"\\u0432\\u0435\\u0441\\u044c\", \"\\u0432\\u0435\\u0441\\u044c\", \"\\u0432\\u0435\\u0441\\u044c\", \"\\u0432\\u0435\\u0441\\u044c\", \"\\u0432\\u0435\\u0441\\u044c\", \"\\u0432\\u0435\\u0441\\u044c\", \"\\u0432\\u0435\\u0447\\u0435\\u0440\\u043e\\u043c\", \"\\u0432\\u0437\\u0440\\u044b\\u0432\", \"\\u0432\\u0437\\u0440\\u044b\\u0432\\u043d\\u043e\\u0439\", \"\\u0432\\u0438\\u0434\\u0435\\u043e\", \"\\u0432\\u0438\\u043d\\u043e\\u0432\\u043d\\u044b\\u0439\", \"\\u0432\\u0438\\u0442\\u0430\\u043b\\u0438\\u0439\", \"\\u0432\\u043a\\u043b\\u0430\\u0434\", \"\\u0432\\u043b\\u0430\\u0434\\u0438\\u043c\\u0438\\u0440\", \"\\u0432\\u043b\\u0430\\u0434\\u0438\\u043c\\u0438\\u0440\", \"\\u0432\\u043b\\u0430\\u0434\\u0438\\u043c\\u0438\\u0440\", \"\\u0432\\u043b\\u0430\\u0441\\u0442\\u044c\", \"\\u0432\\u043b\\u0430\\u0441\\u0442\\u044c\", \"\\u0432\\u043b\\u0430\\u0441\\u0442\\u044c\", \"\\u0432\\u043b\\u0430\\u0441\\u0442\\u044c\", \"\\u0432\\u043b\\u0430\\u0441\\u0442\\u044c\", \"\\u0432\\u043b\\u0430\\u0441\\u0442\\u044c\", \"\\u0432\\u043b\\u0430\\u0441\\u0442\\u044c\", \"\\u0432\\u043e\\u0434\\u0438\\u0442\\u0435\\u043b\\u044c\", \"\\u0432\\u043e\\u0435\\u043d\\u043d\\u043e\\u0441\\u043b\\u0443\\u0436\\u0430\\u0449\\u0438\\u0439\", \"\\u0432\\u043e\\u0435\\u043d\\u043d\\u044b\\u0439\", \"\\u0432\\u043e\\u0435\\u043d\\u043d\\u044b\\u0439\", \"\\u0432\\u043e\\u0437\\u0431\\u0443\\u0434\\u0438\\u0442\\u044c\", \"\\u0432\\u043e\\u0437\\u0433\\u043b\\u0430\\u0432\\u043b\\u044f\\u0442\\u044c\", \"\\u0432\\u043e\\u0437\\u0433\\u043e\\u0440\\u0430\\u043d\\u0438\\u0435\", \"\\u0432\\u043e\\u0437\\u0434\\u0443\\u0448\\u043d\\u044b\\u0439\", \"\\u0432\\u043e\\u0439\\u0441\\u043a\\u043e\", \"\\u0432\\u043e\\u0439\\u0441\\u043a\\u043e\", \"\\u0432\\u043e\\u043e\\u0440\\u0443\\u0436\\u0435\\u043d\\u0438\\u0435\", \"\\u0432\\u043e\\u043f\\u0440\\u043e\\u0441\", \"\\u0432\\u043e\\u043f\\u0440\\u043e\\u0441\", \"\\u0432\\u043e\\u0441\\u043a\\u0440\\u0435\\u0441\\u0435\\u043d\\u0438\\u0435\", \"\\u0432\\u0440\\u0435\\u043c\\u044f\", \"\\u0432\\u0440\\u0435\\u043c\\u044f\", \"\\u0432\\u0440\\u0435\\u043c\\u044f\", \"\\u0432\\u0440\\u0435\\u043c\\u044f\", \"\\u0432\\u0440\\u0435\\u043c\\u044f\", \"\\u0432\\u0440\\u0435\\u043c\\u044f\", \"\\u0432\\u0440\\u0435\\u043c\\u044f\", \"\\u0432\\u0440\\u0435\\u043c\\u044f\", \"\\u0432\\u0440\\u0435\\u043c\\u044f\", \"\\u0432\\u0440\\u0435\\u043c\\u044f\", \"\\u0432\\u0440\\u0435\\u043c\\u044f\", \"\\u0432\\u0440\\u0435\\u043c\\u044f\", \"\\u0432\\u0440\\u0435\\u043c\\u044f\", \"\\u0432\\u0440\\u0443\\u0447\\u0438\\u0442\\u044c\", \"\\u0432\\u0441\\u0442\\u0440\\u0435\\u0447\\u0430\", \"\\u0432\\u0442\\u043e\\u0440\\u043e\\u0435\", \"\\u0432\\u0442\\u043e\\u0440\\u043e\\u0439\", \"\\u0432\\u0442\\u043e\\u0440\\u043e\\u0439\", \"\\u0432\\u0442\\u043e\\u0440\\u043e\\u0439\", \"\\u0432\\u0442\\u043e\\u0440\\u043e\\u0439\", \"\\u0432\\u0442\\u043e\\u0440\\u043e\\u0439\", \"\\u0432\\u0442\\u043e\\u0440\\u043e\\u0439\", \"\\u0432\\u0442\\u043e\\u0440\\u043e\\u0439\", \"\\u0432\\u044b\\u0431\\u0440\\u0430\\u0442\\u044c\", \"\\u0432\\u044b\\u0439\\u0442\\u0438\", \"\\u0432\\u044b\\u0439\\u0442\\u0438\", \"\\u0432\\u044b\\u0439\\u0442\\u0438\", \"\\u0432\\u044b\\u0439\\u0442\\u0438\", \"\\u0432\\u044b\\u043b\\u043e\\u0436\\u0438\\u0442\\u044c\", \"\\u0432\\u044b\\u043d\\u0435\\u0441\\u0442\\u0438\", \"\\u0432\\u044b\\u043f\\u043b\\u0430\\u0442\\u0430\", \"\\u0432\\u044b\\u043f\\u0443\\u0441\\u0442\\u0438\\u0442\\u044c\", \"\\u0432\\u044b\\u0440\\u0430\\u0437\\u0438\\u0442\\u044c\", \"\\u0432\\u044b\\u0440\\u0430\\u0441\\u0442\\u0438\", \"\\u0432\\u044b\\u0440\\u0430\\u0441\\u0442\\u0438\", \"\\u0432\\u044b\\u0440\\u0443\\u0447\\u043a\\u0430\", \"\\u0432\\u044b\\u0441\\u043e\\u0442\\u0430\", \"\\u0432\\u044b\\u0441\\u0442\\u0443\\u043f\\u0430\\u0442\\u044c\", \"\\u0432\\u044b\\u0441\\u0442\\u0443\\u043f\\u0430\\u0442\\u044c\", \"\\u0432\\u044b\\u0441\\u0442\\u0443\\u043f\\u0438\\u0442\\u044c\", \"\\u0432\\u044b\\u0441\\u0442\\u0443\\u043f\\u043b\\u0435\\u043d\\u0438\\u0435\", \"\\u0432\\u044b\\u0445\\u043e\\u0434\\u043d\\u043e\\u0439\", \"\\u0432\\u044b\\u044f\\u0432\\u0438\\u0442\\u044c\", \"\\u0432\\u044b\\u044f\\u0441\\u043d\\u0438\\u0442\\u044c\", \"\\u0433\\u0430\\u0437\", \"\\u0433\\u0430\\u0437\\u0435\\u0442\\u0430\", \"\\u0433\\u0430\\u0437\\u0435\\u0442\\u0430\", \"\\u0433\\u0430\\u0437\\u0435\\u0442\\u0430\", \"\\u0433\\u0430\\u0437\\u0435\\u0442\\u0430\", \"\\u0433\\u0430\\u0437\\u0435\\u0442\\u0430\", \"\\u0433\\u0430\\u0437\\u0435\\u0442\\u0430\", \"\\u0433\\u0430\\u0437\\u043e\\u0432\\u044b\\u0439\", \"\\u0433\\u0430\\u0437\\u043e\\u043f\\u0440\\u043e\\u0432\\u043e\\u0434\", \"\\u0433\\u0430\\u0437\\u043f\\u0440\\u043e\\u043c\", \"\\u0433\\u0435\\u043d\\u043d\\u0430\\u0434\\u0438\\u0439\", \"\\u0433\\u043b\\u0430\\u0432\\u0430\", \"\\u0433\\u043b\\u0430\\u0432\\u0430\", \"\\u0433\\u043b\\u0430\\u0432\\u0430\", \"\\u0433\\u043e\\u0434\", \"\\u0433\\u043e\\u0434\", \"\\u0433\\u043e\\u0434\", \"\\u0433\\u043e\\u0434\", \"\\u0433\\u043e\\u0434\", \"\\u0433\\u043e\\u0434\", \"\\u0433\\u043e\\u0434\", \"\\u0433\\u043e\\u0434\", \"\\u0433\\u043e\\u0434\", \"\\u0433\\u043e\\u0434\", \"\\u0433\\u043e\\u0434\", \"\\u0433\\u043e\\u0440\\u0430\", \"\\u0433\\u043e\\u0440\\u043e\\u0434\", \"\\u0433\\u043e\\u0440\\u043e\\u0434\", \"\\u0433\\u043e\\u0440\\u043e\\u0434\", \"\\u0433\\u043e\\u0440\\u043e\\u0434\", \"\\u0433\\u043e\\u0440\\u043e\\u0434\", \"\\u0433\\u043e\\u0440\\u043e\\u0434\", \"\\u0433\\u043e\\u0440\\u043e\\u0434\", \"\\u0433\\u043e\\u0440\\u043e\\u0434\", \"\\u0433\\u043e\\u0441\\u0434\\u0443\\u043c\\u0430\", \"\\u0433\\u043e\\u0441\\u043f\\u0438\\u0442\\u0430\\u043b\\u0438\\u0437\\u0438\\u0440\\u043e\\u0432\\u0430\\u0442\\u044c\", \"\\u0433\\u043e\\u0441\\u0443\\u0434\\u0430\\u0440\\u0441\\u0442\\u0432\\u0435\\u043d\\u043d\\u044b\\u0439\", \"\\u0433\\u043e\\u0441\\u0443\\u0434\\u0430\\u0440\\u0441\\u0442\\u0432\\u0435\\u043d\\u043d\\u044b\\u0439\", \"\\u0433\\u043e\\u0441\\u0443\\u0434\\u0430\\u0440\\u0441\\u0442\\u0432\\u0435\\u043d\\u043d\\u044b\\u0439\", \"\\u0433\\u043e\\u0441\\u0443\\u0434\\u0430\\u0440\\u0441\\u0442\\u0432\\u043e\", \"\\u0433\\u043e\\u0441\\u0443\\u0434\\u0430\\u0440\\u0441\\u0442\\u0432\\u043e\", \"\\u0433\\u043e\\u0441\\u0443\\u0434\\u0430\\u0440\\u0441\\u0442\\u0432\\u043e\", \"\\u0433\\u0440\\u0430\\u043d\\u0438\\u0446\\u0430\", \"\\u0433\\u0440\\u0430\\u043d\\u0438\\u0446\\u0430\", \"\\u0433\\u0440\\u0430\\u043d\\u0438\\u0446\\u0430\", \"\\u0433\\u0440\\u0443\\u0437\\u0438\\u043d\\u0441\\u043a\\u0438\\u0439\", \"\\u0433\\u0440\\u0443\\u0437\\u0438\\u044f\", \"\\u0433\\u0440\\u0443\\u043f\\u043f\\u0430\", \"\\u0433\\u0440\\u0443\\u043f\\u043f\\u0430\", \"\\u0433\\u0440\\u0443\\u043f\\u043f\\u0430\", \"\\u0433\\u0440\\u0443\\u043f\\u043f\\u0430\", \"\\u0433\\u0440\\u0443\\u043f\\u043f\\u0430\", \"\\u0433\\u0443\\u0431\\u0435\\u0440\\u043d\\u0430\\u0442\\u043e\\u0440\", \"\\u0433\\u0443\\u0432\\u0434\", \"\\u0434\\u0430\\u043b\\u044c\\u043d\\u0438\\u0439\", \"\\u0434\\u0430\\u043d\\u043d\\u044b\\u0435\", \"\\u0434\\u0430\\u043d\\u043d\\u044b\\u0435\", \"\\u0434\\u0430\\u043d\\u043d\\u044b\\u0435\", \"\\u0434\\u0430\\u043d\\u043d\\u044b\\u0435\", \"\\u0434\\u0430\\u043d\\u043d\\u044b\\u0435\", \"\\u0434\\u0430\\u043d\\u043d\\u044b\\u0435\", \"\\u0434\\u0430\\u043d\\u043d\\u044b\\u0435\", \"\\u0434\\u0430\\u043d\\u043d\\u044b\\u0435\", \"\\u0434\\u0430\\u043d\\u043d\\u044b\\u0435\", \"\\u0434\\u0430\\u043d\\u043d\\u044b\\u0435\", \"\\u0434\\u0430\\u043d\\u043d\\u044b\\u0435\", \"\\u0434\\u0432\\u0438\\u0433\\u0430\\u0442\\u0435\\u043b\\u044c\", \"\\u0434\\u0432\\u0438\\u0436\\u0435\\u043d\\u0438\\u0435\", \"\\u0434\\u0432\\u0438\\u0436\\u0435\\u043d\\u0438\\u0435\", \"\\u0434\\u0432\\u0438\\u0436\\u0435\\u043d\\u0438\\u0435\", \"\\u0434\\u0435\\u0432\\u0443\\u0448\\u043a\\u0430\", \"\\u0434\\u0435\\u043b\\u043e\", \"\\u0434\\u0435\\u043b\\u043e\", \"\\u0434\\u0435\\u043b\\u043e\", \"\\u0434\\u0435\\u043b\\u043e\\u0432\\u043e\\u0439\", \"\\u0434\\u0435\\u043d\\u044c\", \"\\u0434\\u0435\\u043d\\u044c\", \"\\u0434\\u0435\\u043d\\u044c\", \"\\u0434\\u0435\\u043d\\u044c\", \"\\u0434\\u0435\\u043d\\u044c\", \"\\u0434\\u0435\\u043d\\u044c\", \"\\u0434\\u0435\\u043d\\u044c\", \"\\u0434\\u0435\\u043d\\u044c\\u0433\\u0430\", \"\\u0434\\u0435\\u043d\\u044c\\u0433\\u0430\", \"\\u0434\\u0435\\u043d\\u044c\\u0433\\u0430\", \"\\u0434\\u0435\\u043d\\u044c\\u0433\\u0430\", \"\\u0434\\u0435\\u043d\\u044c\\u0433\\u0430\", \"\\u0434\\u0435\\u043d\\u044c\\u0433\\u0430\", \"\\u0434\\u0435\\u043f\\u0430\\u0440\\u0442\\u0430\\u043c\\u0435\\u043d\\u0442\", \"\\u0434\\u0435\\u043f\\u043e\\u0437\\u0438\\u0442\", \"\\u0434\\u0435\\u043f\\u0443\\u0442\\u0430\\u0442\", \"\\u0434\\u0435\\u043f\\u0443\\u0442\\u0430\\u0442\", \"\\u0434\\u0438\\u0440\\u0435\\u043a\\u0442\\u043e\\u0440\", \"\\u0434\\u043e\\u0431\\u044b\\u0447\\u0430\", \"\\u0434\\u043e\\u0431\\u044b\\u0447\\u0430\", \"\\u0434\\u043e\\u0433\\u043e\\u0432\\u043e\\u0440\\u0451\\u043d\\u043d\\u043e\\u0441\\u0442\\u044c\", \"\\u0434\\u043e\\u043b\\u0433\", \"\\u0434\\u043e\\u043b\\u0436\\u043d\\u043e\\u0441\\u0442\\u044c\", \"\\u0434\\u043e\\u043b\\u0436\\u043d\\u044b\\u0439\", \"\\u0434\\u043e\\u043b\\u0436\\u043d\\u044b\\u0439\", \"\\u0434\\u043e\\u043b\\u0436\\u043d\\u044b\\u0439\", \"\\u0434\\u043e\\u043b\\u0436\\u043d\\u044b\\u0439\", \"\\u0434\\u043e\\u043b\\u0436\\u043d\\u044b\\u0439\", \"\\u0434\\u043e\\u043b\\u0436\\u043d\\u044b\\u0439\", \"\\u0434\\u043e\\u043b\\u0436\\u043d\\u044b\\u0439\", \"\\u0434\\u043e\\u043b\\u043b\\u0430\\u0440\", \"\\u0434\\u043e\\u043b\\u043b\\u0430\\u0440\", \"\\u0434\\u043e\\u043b\\u044f\", \"\\u0434\\u043e\\u043b\\u044f\", \"\\u0434\\u043e\\u043c\", \"\\u0434\\u043e\\u043c\", \"\\u0434\\u043e\\u043c\", \"\\u0434\\u043e\\u043c\", \"\\u0434\\u043e\\u0441\\u0442\\u0430\\u0432\\u0438\\u0442\\u044c\", \"\\u0434\\u043e\\u0441\\u0442\\u0438\\u0433\\u0430\\u0442\\u044c\", \"\\u0434\\u043e\\u0441\\u0442\\u0438\\u0433\\u0430\\u0442\\u044c\", \"\\u0434\\u043e\\u0441\\u0442\\u0443\\u043f\", \"\\u0434\\u043e\\u0441\\u0442\\u0443\\u043f\", \"\\u0434\\u0443\\u043c\\u0430\", \"\\u0435\\u0432\\u0440\\u043e\", \"\\u0435\\u0434\\u0438\\u043d\\u044b\\u0439\", \"\\u0435\\u0434\\u0438\\u043d\\u044b\\u0439\", \"\\u0435\\u0449\\u0451\", \"\\u0435\\u0449\\u0451\", \"\\u0435\\u0449\\u0451\", \"\\u0435\\u0449\\u0451\", \"\\u0435\\u0449\\u0451\", \"\\u0435\\u0449\\u0451\", \"\\u0435\\u0449\\u0451\", \"\\u0435\\u0449\\u0451\", \"\\u0435\\u0449\\u0451\", \"\\u0436\\u0435\\u043d\\u0449\\u0438\\u043d\\u0430\", \"\\u0436\\u0435\\u043d\\u0449\\u0438\\u043d\\u0430\", \"\\u0436\\u0435\\u043d\\u0449\\u0438\\u043d\\u0430\", \"\\u0436\\u0438\\u0432\\u043e\\u0442\\u043d\\u043e\\u0435\", \"\\u0436\\u0438\\u0437\\u043d\\u044c\", \"\\u0436\\u0438\\u043b\\u043e\\u0439\", \"\\u0436\\u0438\\u043b\\u044c\\u0451\", \"\\u0436\\u0438\\u0442\\u0435\\u043b\\u044c\", \"\\u0436\\u0438\\u0442\\u0435\\u043b\\u044c\", \"\\u0436\\u0438\\u0442\\u0435\\u043b\\u044c\", \"\\u0436\\u0438\\u0442\\u0435\\u043b\\u044c\", \"\\u0436\\u0438\\u0442\\u0435\\u043b\\u044c\", \"\\u0436\\u0443\\u0440\\u043d\\u0430\\u043b\", \"\\u0436\\u0443\\u0440\\u043d\\u0430\\u043b\\u0438\\u0441\\u0442\", \"\\u0436\\u0443\\u0440\\u043d\\u0430\\u043b\\u0438\\u0441\\u0442\", \"\\u0436\\u0443\\u0440\\u043d\\u0430\\u043b\\u0438\\u0441\\u0442\", \"\\u0437\\u0430\\u0434\\u0435\\u0440\\u0436\\u0430\\u043d\\u0438\\u0435\", \"\\u0437\\u0430\\u0434\\u0435\\u0440\\u0436\\u0430\\u0442\\u044c\", \"\\u0437\\u0430\\u0434\\u0435\\u0440\\u0436\\u0430\\u0442\\u044c\", \"\\u0437\\u0430\\u043a\\u043b\\u044e\\u0447\\u0435\\u043d\\u0438\\u0435\", \"\\u0437\\u0430\\u043a\\u043e\\u043d\", \"\\u0437\\u0430\\u043a\\u043e\\u043d\", \"\\u0437\\u0430\\u043a\\u043e\\u043d\\u043e\\u043f\\u0440\\u043e\\u0435\\u043a\\u0442\", \"\\u0437\\u0430\\u043b\\u043e\\u0436\\u043d\\u0438\\u043a\", \"\\u0437\\u0430\\u043c\\u0435\\u043d\\u0438\\u0442\\u044c\", \"\\u0437\\u0430\\u043c\\u0435\\u0441\\u0442\\u0438\\u0442\\u0435\\u043b\\u044c\", \"\\u0437\\u0430\\u043d\\u0438\\u043c\\u0430\\u0442\\u044c\", \"\\u0437\\u0430\\u043d\\u0438\\u043c\\u0430\\u0442\\u044c\", \"\\u0437\\u0430\\u043e\", \"\\u0437\\u0430\\u043f\\u0430\\u0434\\u043d\\u044b\\u0439\", \"\\u0437\\u0430\\u043f\\u0440\\u043e\\u0441\", \"\\u0437\\u0430\\u043f\\u0443\\u0441\\u043a\", \"\\u0437\\u0430\\u043f\\u0443\\u0441\\u0442\\u0438\\u0442\\u044c\", \"\\u0437\\u0430\\u0444\\u0438\\u043a\\u0441\\u0438\\u0440\\u043e\\u0432\\u0430\\u0442\\u044c\", \"\\u0437\\u0430\\u0445\\u0432\\u0430\\u0442\\u0438\\u0442\\u044c\", \"\\u0437\\u0430\\u044f\\u0432\\u0438\\u0442\\u044c\", \"\\u0437\\u0430\\u044f\\u0432\\u0438\\u0442\\u044c\", \"\\u0437\\u0430\\u044f\\u0432\\u0438\\u0442\\u044c\", \"\\u0437\\u0430\\u044f\\u0432\\u0438\\u0442\\u044c\", \"\\u0437\\u0430\\u044f\\u0432\\u0438\\u0442\\u044c\", \"\\u0437\\u0430\\u044f\\u0432\\u0438\\u0442\\u044c\", \"\\u0437\\u0430\\u044f\\u0432\\u0438\\u0442\\u044c\", \"\\u0437\\u0430\\u044f\\u0432\\u0438\\u0442\\u044c\", \"\\u0437\\u0430\\u044f\\u0432\\u043b\\u0435\\u043d\\u0438\\u0435\", \"\\u0437\\u0430\\u044f\\u0432\\u043b\\u0435\\u043d\\u0438\\u0435\", \"\\u0437\\u0434\\u0430\\u043d\\u0438\\u0435\", \"\\u0437\\u0435\\u043c\\u043b\\u0435\\u0442\\u0440\\u044f\\u0441\\u0435\\u043d\\u0438\\u0435\", \"\\u0438\\u0433\\u0440\\u0430\", \"\\u0438\\u0433\\u0440\\u043e\\u043a\", \"\\u0438\\u0437\\u0432\\u0435\\u0441\\u0442\\u0438\\u0435\", \"\\u0438\\u0437\\u0432\\u0435\\u0441\\u0442\\u043d\\u044b\\u0439\", \"\\u0438\\u0437\\u0432\\u0435\\u0441\\u0442\\u043d\\u044b\\u0439\", \"\\u0438\\u0437\\u0434\\u0430\\u043d\\u0438\\u0435\", \"\\u0438\\u0437\\u0434\\u0430\\u043d\\u0438\\u0435\", \"\\u0438\\u0437\\u0434\\u0430\\u043d\\u0438\\u0435\", \"\\u0438\\u0437\\u0434\\u0430\\u043d\\u0438\\u0435\", \"\\u0438\\u0437\\u0434\\u0430\\u043d\\u0438\\u0435\", \"\\u0438\\u0437\\u0434\\u0430\\u043d\\u0438\\u0435\", \"\\u0438\\u0437\\u0434\\u0430\\u0442\\u0435\\u043b\\u044c\\u0441\\u0442\\u0432\\u043e\", \"\\u0438\\u0437\\u0440\\u0430\\u0438\\u043b\\u044c\", \"\\u0438\\u0437\\u0440\\u0430\\u0438\\u043b\\u044c\\u0441\\u043a\\u0438\\u0439\", \"\\u0438\\u043b\\u044c\\u044f\", \"\\u0438\\u043c\\u044f\", \"\\u0438\\u043d\\u0432\\u0435\\u0441\\u0442\\u0438\\u0446\\u0438\\u044f\", \"\\u0438\\u043d\\u0432\\u0435\\u0441\\u0442\\u043e\\u0440\", \"\\u0438\\u043d\\u0434\\u0435\\u043a\\u0441\", \"\\u0438\\u043d\\u0442\\u0435\\u0440\\u0432\\u044c\\u044e\", \"\\u0438\\u043d\\u0442\\u0435\\u0440\\u043d\\u0435\\u0442\", \"\\u0438\\u043d\\u0444\\u043e\\u0440\\u043c\\u0430\\u0446\\u0438\\u043e\\u043d\\u043d\\u044b\\u0439\", \"\\u0438\\u043d\\u0444\\u043e\\u0440\\u043c\\u0430\\u0446\\u0438\\u043e\\u043d\\u043d\\u044b\\u0439\", \"\\u0438\\u043d\\u0444\\u043e\\u0440\\u043c\\u0430\\u0446\\u0438\\u043e\\u043d\\u043d\\u044b\\u0439\", \"\\u0438\\u043d\\u0444\\u043e\\u0440\\u043c\\u0430\\u0446\\u0438\\u044f\", \"\\u0438\\u043d\\u0444\\u043e\\u0440\\u043c\\u0430\\u0446\\u0438\\u044f\", \"\\u0438\\u043d\\u0444\\u043e\\u0440\\u043c\\u0430\\u0446\\u0438\\u044f\", \"\\u0438\\u043d\\u0444\\u043e\\u0440\\u043c\\u0430\\u0446\\u0438\\u044f\", \"\\u0438\\u043d\\u0444\\u043e\\u0440\\u043c\\u0430\\u0446\\u0438\\u044f\", \"\\u0438\\u0440\\u0430\\u043a\", \"\\u0438\\u0440\\u0430\\u043a\\u0441\\u043a\\u0438\\u0439\", \"\\u0438\\u0440\\u0430\\u043d\", \"\\u0438\\u0441\\u043a\", \"\\u0438\\u0441\\u043b\\u0430\\u043c\\u0441\\u043a\\u0438\\u0439\", \"\\u0438\\u0441\\u043f\\u043e\\u043b\\u043d\\u0435\\u043d\\u0438\\u0435\", \"\\u0438\\u0441\\u043f\\u043e\\u043b\\u043d\\u0438\\u0442\\u0435\\u043b\\u044c\\u043d\\u044b\\u0439\", \"\\u0438\\u0441\\u043f\\u044b\\u0442\\u0430\\u043d\\u0438\\u0435\", \"\\u0438\\u0441\\u0441\\u043b\\u0435\\u0434\\u043e\\u0432\\u0430\\u043d\\u0438\\u0435\", \"\\u0438\\u0441\\u0441\\u043b\\u0435\\u0434\\u043e\\u0432\\u0430\\u0442\\u0435\\u043b\\u044c\", \"\\u0438\\u0441\\u0442\\u043e\\u0447\\u043d\\u0438\\u043a\", \"\\u0438\\u0441\\u0442\\u043e\\u0447\\u043d\\u0438\\u043a\", \"\\u0438\\u0441\\u0442\\u043e\\u0447\\u043d\\u0438\\u043a\", \"\\u0438\\u0441\\u0442\\u043e\\u0447\\u043d\\u0438\\u043a\", \"\\u0438\\u0441\\u0442\\u043e\\u0447\\u043d\\u0438\\u043a\", \"\\u0438\\u0441\\u0442\\u043e\\u0447\\u043d\\u0438\\u043a\", \"\\u0438\\u0441\\u0442\\u043e\\u0447\\u043d\\u0438\\u043a\", \"\\u0438\\u0441\\u0442\\u0440\\u0435\\u0431\\u0438\\u0442\\u0435\\u043b\\u044c\", \"\\u0438\\u0442\\u0430\\u0440\", \"\\u0439\\u043e\\u0440\\u043a\", \"\\u0439\\u043e\\u0440\\u043a\", \"\\u043a\\u0430\\u043d\\u0430\\u0434\\u0430\", \"\\u043a\\u0430\\u043d\\u0430\\u0434\\u0441\\u043a\\u0438\\u0439\", \"\\u043a\\u0430\\u043d\\u0434\\u0438\\u0434\\u0430\\u0442\", \"\\u043a\\u0430\\u043d\\u0434\\u0438\\u0434\\u0430\\u0442\\u0443\\u0440\\u0430\", \"\\u043a\\u0430\\u043f\\u0438\\u0442\\u0430\\u043b\", \"\\u043a\\u0430\\u0442\\u0430\\u0441\\u0442\\u0440\\u043e\\u0444\\u0430\", \"\\u043a\\u0432\\u0430\\u0440\\u0442\\u0430\\u043b\", \"\\u043a\\u0438\\u043b\\u043e\\u043c\\u0435\\u0442\\u0440\", \"\\u043a\\u0438\\u0442\\u0430\\u0439\", \"\\u043a\\u0438\\u0442\\u0430\\u0439\", \"\\u043a\\u0438\\u0442\\u0430\\u0439\\u0441\\u043a\\u0438\\u0439\", \"\\u043a\\u0438\\u0442\\u0430\\u0439\\u0441\\u043a\\u0438\\u0439\", \"\\u043a\\u043b\\u0430\\u0441\\u0441\", \"\\u043a\\u043d\\u0438\\u0433\\u0430\", \"\\u043a\\u043d\\u0440\", \"\\u043a\\u043e\\u0430\\u043b\\u0438\\u0446\\u0438\\u044f\", \"\\u043a\\u043e\\u0430\\u043b\\u0438\\u0446\\u0438\\u044f\", \"\\u043a\\u043e\\u043b\\u043b\\u0435\\u0433\\u0430\", \"\\u043a\\u043e\\u043c\\u043c\\u0435\\u043d\\u0442\\u0438\\u0440\\u043e\\u0432\\u0430\\u0442\\u044c\", \"\\u043a\\u043e\\u043c\\u043f\\u0430\\u043d\\u0438\\u044f\", \"\\u043a\\u043e\\u043c\\u043f\\u0430\\u043d\\u0438\\u044f\", \"\\u043a\\u043e\\u043c\\u043f\\u0430\\u043d\\u0438\\u044f\", \"\\u043a\\u043e\\u043c\\u043f\\u0430\\u043d\\u0438\\u044f\", \"\\u043a\\u043e\\u043c\\u043f\\u0430\\u043d\\u0438\\u044f\", \"\\u043a\\u043e\\u043c\\u043f\\u0435\\u043d\\u0441\\u0430\\u0446\\u0438\\u044f\", \"\\u043a\\u043e\\u043c\\u043f\\u043b\\u0435\\u043a\\u0441\", \"\\u043a\\u043e\\u043c\\u043f\\u043b\\u0435\\u043a\\u0441\", \"\\u043a\\u043e\\u043c\\u043f\\u044c\\u044e\\u0442\\u0435\\u0440\\u043d\\u044b\\u0439\", \"\\u043a\\u043e\\u043d\\u0433\\u0440\\u0435\\u0441\\u0441\", \"\\u043a\\u043e\\u043d\\u043a\\u0443\\u0440\\u0435\\u043d\\u0446\\u0438\\u044f\", \"\\u043a\\u043e\\u043d\\u043a\\u0443\\u0440\\u0441\", \"\\u043a\\u043e\\u043d\\u0441\\u043e\\u043b\\u044c\", \"\\u043a\\u043e\\u043d\\u0441\\u0442\\u0438\\u0442\\u0443\\u0446\\u0438\\u044f\", \"\\u043a\\u043e\\u043d\\u0442\\u0440\\u0430\\u043a\\u0442\", \"\\u043a\\u043e\\u043d\\u0446\\u0435\\u0440\\u043d\", \"\\u043a\\u043e\\u0440\\u0430\\u0431\\u043b\\u044c\", \"\\u043a\\u043e\\u0440\\u0435\\u044f\", \"\\u043a\\u043e\\u0440\\u043f\\u043e\\u0440\\u0430\\u0442\\u0438\\u0432\\u043d\\u044b\\u0439\", \"\\u043a\\u043e\\u0440\\u043f\\u043e\\u0440\\u0430\\u0446\\u0438\\u044f\", \"\\u043a\\u043e\\u0440\\u0440\\u0435\\u0441\\u043f\\u043e\\u043d\\u0434\\u0435\\u043d\\u0442\", \"\\u043a\\u043e\\u0440\\u0440\\u0443\\u043f\\u0446\\u0438\\u044f\", \"\\u043a\\u043e\\u0441\\u043c\\u0438\\u0447\\u0435\\u0441\\u043a\\u0438\\u0439\", \"\\u043a\\u043e\\u0442\\u043e\\u0440\\u044b\\u0439\", \"\\u043a\\u043e\\u0442\\u043e\\u0440\\u044b\\u0439\", \"\\u043a\\u043e\\u0442\\u043e\\u0440\\u044b\\u0439\", \"\\u043a\\u043e\\u0442\\u043e\\u0440\\u044b\\u0439\", \"\\u043a\\u043e\\u0442\\u043e\\u0440\\u044b\\u0439\", \"\\u043a\\u043e\\u0442\\u043e\\u0440\\u044b\\u0439\", \"\\u043a\\u043e\\u0442\\u043e\\u0440\\u044b\\u0439\", \"\\u043a\\u043e\\u0442\\u043e\\u0440\\u044b\\u0439\", \"\\u043a\\u043e\\u0442\\u043e\\u0440\\u044b\\u0439\", \"\\u043a\\u043e\\u0442\\u043e\\u0440\\u044b\\u0439\", \"\\u043a\\u043e\\u0442\\u043e\\u0440\\u044b\\u0439\", \"\\u043a\\u043e\\u0442\\u043e\\u0440\\u044b\\u0439\", \"\\u043a\\u043e\\u0442\\u043e\\u0440\\u044b\\u0439\", \"\\u043a\\u043e\\u0442\\u043e\\u0440\\u044b\\u0439\", \"\\u043a\\u0440\\u0435\\u0434\\u0438\\u0442\", \"\\u043a\\u0440\\u0435\\u0434\\u0438\\u0442\\u043d\\u044b\\u0439\", \"\\u043a\\u0440\\u0443\\u043f\\u043d\\u044b\\u0439\", \"\\u043a\\u0440\\u0443\\u043f\\u043d\\u044b\\u0439\", \"\\u043a\\u0440\\u0443\\u043f\\u043d\\u044b\\u0439\", \"\\u043a\\u0440\\u0443\\u043f\\u043d\\u044b\\u0439\", \"\\u043a\\u0440\\u0443\\u043f\\u043d\\u044b\\u0439\", \"\\u043a\\u0440\\u0443\\u043f\\u043d\\u044b\\u0439\", \"\\u043a\\u0440\\u0443\\u043f\\u043d\\u044b\\u0439\", \"\\u043a\\u0440\\u0443\\u0448\\u0435\\u043d\\u0438\\u0435\", \"\\u043a\\u0443\\u0431\\u043e\\u043c\\u0435\\u0442\\u0440\", \"\\u043a\\u0443\\u043f\\u0438\\u0442\\u044c\", \"\\u043a\\u0443\\u0440\\u0441\", \"\\u043b\\u0430\\u0439\\u043d\\u0435\\u0440\", \"\\u043b\\u0435\\u0442\\u043d\\u0438\\u0439\", \"\\u043b\\u0435\\u0442\\u043d\\u0438\\u0439\", \"\\u043b\\u0435\\u0442\\u043d\\u0438\\u0439\", \"\\u043b\\u0435\\u0442\\u043d\\u0438\\u0439\", \"\\u043b\\u0438\\u0431\\u043e\", \"\\u043b\\u0438\\u0431\\u043e\", \"\\u043b\\u0438\\u0434\\u0435\\u0440\", \"\\u043b\\u0438\\u0434\\u0435\\u0440\", \"\\u043b\\u0438\\u0434\\u0435\\u0440\", \"\\u043c\\u0430\\u0433\\u0430\\u0437\\u0438\\u043d\", \"\\u043c\\u0430\\u0439\", \"\\u043c\\u0430\\u0439\", \"\\u043c\\u0430\\u0439\", \"\\u043c\\u0430\\u0439\", \"\\u043c\\u0430\\u0439\", \"\\u043c\\u0430\\u0441\\u0441\\u0430\", \"\\u043c\\u0430\\u0442\\u0447\", \"\\u043c\\u0432\\u0434\", \"\\u043c\\u0435\\u0434\\u0432\\u0435\\u0434\\u0435\\u0432\", \"\\u043c\\u0435\\u0436\\u0434\\u0443\\u043d\\u0430\\u0440\\u043e\\u0434\\u043d\\u044b\\u0439\", \"\\u043c\\u0435\\u0436\\u0434\\u0443\\u043d\\u0430\\u0440\\u043e\\u0434\\u043d\\u044b\\u0439\", \"\\u043c\\u0435\\u0436\\u0434\\u0443\\u043d\\u0430\\u0440\\u043e\\u0434\\u043d\\u044b\\u0439\", \"\\u043c\\u0435\\u0436\\u0434\\u0443\\u043d\\u0430\\u0440\\u043e\\u0434\\u043d\\u044b\\u0439\", \"\\u043c\\u0435\\u0436\\u0434\\u0443\\u043d\\u0430\\u0440\\u043e\\u0434\\u043d\\u044b\\u0439\", \"\\u043c\\u0435\\u0436\\u0434\\u0443\\u043d\\u0430\\u0440\\u043e\\u0434\\u043d\\u044b\\u0439\", \"\\u043c\\u0435\\u0436\\u0434\\u0443\\u043d\\u0430\\u0440\\u043e\\u0434\\u043d\\u044b\\u0439\", \"\\u043c\\u0435\\u043d\\u0435\\u0434\\u0436\\u0435\\u0440\", \"\\u043c\\u0435\\u0440\\u043e\\u043f\\u0440\\u0438\\u044f\\u0442\\u0438\\u0435\", \"\\u043c\\u0435\\u0441\\u0442\\u043d\\u044b\\u0439\", \"\\u043c\\u0435\\u0441\\u0442\\u043d\\u044b\\u0439\", \"\\u043c\\u0435\\u0441\\u0442\\u043d\\u044b\\u0439\", \"\\u043c\\u0435\\u0441\\u0442\\u043d\\u044b\\u0439\", \"\\u043c\\u0435\\u0441\\u0442\\u043d\\u044b\\u0439\", \"\\u043c\\u0435\\u0441\\u0442\\u043d\\u044b\\u0439\", \"\\u043c\\u0435\\u0441\\u0442\\u043e\", \"\\u043c\\u0435\\u0441\\u0442\\u043e\", \"\\u043c\\u0435\\u0441\\u0442\\u043e\", \"\\u043c\\u0435\\u0441\\u0442\\u043e\", \"\\u043c\\u0435\\u0441\\u0442\\u043e\", \"\\u043c\\u0435\\u0441\\u0442\\u043e\", \"\\u043c\\u0435\\u0441\\u0442\\u043e\", \"\\u043c\\u0435\\u0441\\u0442\\u043e\", \"\\u043c\\u0435\\u0441\\u0442\\u043e\\u0440\\u043e\\u0436\\u0434\\u0435\\u043d\\u0438\\u0435\", \"\\u043c\\u0435\\u0441\\u044f\\u0446\", \"\\u043c\\u0435\\u0441\\u044f\\u0446\", \"\\u043c\\u0435\\u0441\\u044f\\u0446\", \"\\u043c\\u0435\\u0441\\u044f\\u0446\", \"\\u043c\\u0435\\u0441\\u044f\\u0446\", \"\\u043c\\u0435\\u0442\\u0440\", \"\\u043c\\u0435\\u0442\\u0440\", \"\\u043c\\u0435\\u0442\\u0440\", \"\\u043c\\u0435\\u0442\\u0440\\u043e\", \"\\u043c\\u0438\\u043b\\u0438\\u0446\\u0438\\u043e\\u043d\\u0435\\u0440\", \"\\u043c\\u0438\\u043b\\u0438\\u0446\\u0438\\u044f\", \"\\u043c\\u0438\\u043b\\u043b\\u0435\\u0440\", \"\\u043c\\u0438\\u043b\\u043b\\u0438\\u0430\\u0440\\u0434\", \"\\u043c\\u0438\\u043b\\u043b\\u0438\\u0430\\u0440\\u0434\", \"\\u043c\\u0438\\u043b\\u043b\\u0438\\u043e\\u043d\", \"\\u043c\\u0438\\u043b\\u043b\\u0438\\u043e\\u043d\", \"\\u043c\\u0438\\u043b\\u043b\\u0438\\u043e\\u043d\", \"\\u043c\\u0438\\u043b\\u043b\\u0438\\u043e\\u043d\", \"\\u043c\\u0438\\u043d\\u0438\\u0441\\u0442\\u0435\\u0440\\u0441\\u0442\\u0432\\u043e\", \"\\u043c\\u0438\\u043d\\u0438\\u0441\\u0442\\u0435\\u0440\\u0441\\u0442\\u0432\\u043e\", \"\\u043c\\u0438\\u043d\\u0438\\u0441\\u0442\\u0435\\u0440\\u0441\\u0442\\u0432\\u043e\", \"\\u043c\\u0438\\u043d\\u0438\\u0441\\u0442\\u0435\\u0440\\u0441\\u0442\\u0432\\u043e\", \"\\u043c\\u0438\\u043d\\u0438\\u0441\\u0442\\u0440\", \"\\u043c\\u0438\\u043d\\u0438\\u0441\\u0442\\u0440\", \"\\u043c\\u0438\\u043d\\u0438\\u0441\\u0442\\u0440\", \"\\u043c\\u0438\\u043d\\u043e\\u0431\\u043e\\u0440\\u043e\\u043d\\u044b\", \"\\u043c\\u0438\\u043d\\u044d\\u043a\\u043e\\u043d\\u043e\\u043c\\u0440\\u0430\\u0437\\u0432\\u0438\\u0442\\u0438\\u044f\", \"\\u043c\\u0438\\u043d\\u044e\\u0441\\u0442\", \"\\u043c\\u0438\\u0440\\u043e\\u0432\\u043e\\u0439\", \"\\u043c\\u0438\\u0440\\u043e\\u0432\\u043e\\u0439\", \"\\u043c\\u0438\\u0440\\u043e\\u0432\\u043e\\u0439\", \"\\u043c\\u0438\\u0442\\u0438\\u043d\\u0433\", \"\\u043c\\u043b\\u0430\\u0434\\u0448\\u0438\\u0439\", \"\\u043c\\u043e\\u0431\\u0438\\u043b\\u044c\\u043d\\u044b\\u0439\", \"\\u043c\\u043e\\u043b\\u043e\\u0434\\u043e\\u0439\", \"\\u043c\\u043e\\u043b\\u043e\\u0434\\u0451\\u0436\\u043d\\u044b\\u0439\", \"\\u043c\\u043e\\u0441\\u043a\\u0432\\u0430\", \"\\u043c\\u043e\\u0441\\u043a\\u0432\\u0430\", \"\\u043c\\u043e\\u0441\\u043a\\u0432\\u0430\", \"\\u043c\\u043e\\u0441\\u043a\\u0432\\u0430\", \"\\u043c\\u043e\\u0441\\u043a\\u0432\\u0430\", \"\\u043c\\u043e\\u0441\\u043a\\u0432\\u0430\", \"\\u043c\\u043e\\u0441\\u043a\\u0432\\u0430\", \"\\u043c\\u043e\\u0441\\u043a\\u0432\\u0430\", \"\\u043c\\u043e\\u0441\\u043a\\u043e\\u0432\\u0441\\u043a\\u0438\\u0439\", \"\\u043c\\u043e\\u0441\\u043a\\u043e\\u0432\\u0441\\u043a\\u0438\\u0439\", \"\\u043c\\u043e\\u0441\\u043a\\u043e\\u0432\\u0441\\u043a\\u0438\\u0439\", \"\\u043c\\u043e\\u0447\\u044c\", \"\\u043c\\u043e\\u0447\\u044c\", \"\\u043c\\u043e\\u0447\\u044c\", \"\\u043c\\u043e\\u0447\\u044c\", \"\\u043c\\u043e\\u0447\\u044c\", \"\\u043c\\u043e\\u0447\\u044c\", \"\\u043c\\u043e\\u0447\\u044c\", \"\\u043c\\u043e\\u0447\\u044c\", \"\\u043c\\u0443\\u0436\\u0447\\u0438\\u043d\\u0430\", \"\\u043c\\u0443\\u0436\\u0447\\u0438\\u043d\\u0430\", \"\\u043c\\u0447\\u0441\", \"\\u043c\\u0447\\u0441\", \"\\u043c\\u044d\\u0440\", \"\\u043c\\u044d\\u0440\", \"\\u043d\\u0430\\u0437\\u0432\\u0430\\u0442\\u044c\", \"\\u043d\\u0430\\u0439\\u0442\\u0438\", \"\\u043d\\u0430\\u043a\\u0430\\u0437\\u0430\\u043d\\u0438\\u0435\", \"\\u043d\\u0430\\u043b\\u043e\\u0433\", \"\\u043d\\u0430\\u043b\\u043e\\u0433\", \"\\u043d\\u0430\\u043b\\u043e\\u0433\\u043e\\u0432\\u044b\\u0439\", \"\\u043d\\u0430\\u043f\\u0430\\u0434\\u0435\\u043d\\u0438\\u0435\", \"\\u043d\\u0430\\u0440\\u043a\\u043e\\u0442\\u0438\\u043a\", \"\\u043d\\u0430\\u0440\\u0443\\u0448\\u0435\\u043d\\u0438\\u0435\", \"\\u043d\\u0430\\u0440\\u0443\\u0448\\u0435\\u043d\\u0438\\u0435\", \"\\u043d\\u0430\\u0440\\u0443\\u0448\\u0435\\u043d\\u0438\\u0435\", \"\\u043d\\u0430\\u0442\\u043e\", \"\\u043d\\u0430\\u0445\\u043e\\u0434\\u0438\\u0442\\u044c\\u0441\\u044f\", \"\\u043d\\u0430\\u0445\\u043e\\u0434\\u0438\\u0442\\u044c\\u0441\\u044f\", \"\\u043d\\u0430\\u0445\\u043e\\u0434\\u0438\\u0442\\u044c\\u0441\\u044f\", \"\\u043d\\u0430\\u0445\\u043e\\u0434\\u0438\\u0442\\u044c\\u0441\\u044f\", \"\\u043d\\u0430\\u0445\\u043e\\u0434\\u0438\\u0442\\u044c\\u0441\\u044f\", \"\\u043d\\u0430\\u0445\\u043e\\u0434\\u0438\\u0442\\u044c\\u0441\\u044f\", \"\\u043d\\u0430\\u0445\\u043e\\u0434\\u0438\\u0442\\u044c\\u0441\\u044f\", \"\\u043d\\u0430\\u0445\\u043e\\u0434\\u0438\\u0442\\u044c\\u0441\\u044f\", \"\\u043d\\u0430\\u0445\\u043e\\u0434\\u0438\\u0442\\u044c\\u0441\\u044f\", \"\\u043d\\u0430\\u0447\\u0430\\u043b\\u043e\", \"\\u043d\\u0430\\u0447\\u0430\\u043b\\u043e\", \"\\u043d\\u0430\\u0447\\u0430\\u043b\\u043e\", \"\\u043d\\u0430\\u0447\\u0430\\u043b\\u043e\", \"\\u043d\\u0430\\u0447\\u0430\\u043b\\u043e\", \"\\u043d\\u0430\\u0447\\u0430\\u043b\\u043e\", \"\\u043d\\u0430\\u0447\\u0430\\u043b\\u044c\\u043d\\u0438\\u043a\", \"\\u043d\\u0430\\u0447\\u0430\\u043b\\u044c\\u043d\\u0438\\u043a\", \"\\u043d\\u0435\\u0437\\u0430\\u043a\\u043e\\u043d\\u043d\\u044b\\u0439\", \"\\u043d\\u0435\\u0437\\u0430\\u043a\\u043e\\u043d\\u043d\\u044b\\u0439\", \"\\u043d\\u0435\\u0438\\u0437\\u0432\\u0435\\u0441\\u0442\\u043d\\u044b\\u0439\", \"\\u043d\\u0435\\u0438\\u0437\\u043c\\u0435\\u043d\\u043d\\u044b\\u0439\", \"\\u043d\\u0435\\u043c\\u0435\\u0446\\u043a\\u0438\\u0439\", \"\\u043d\\u0435\\u043c\\u0435\\u0446\\u043a\\u0438\\u0439\", \"\\u043d\\u0435\\u043e\\u0431\\u0445\\u043e\\u0434\\u0438\\u043c\\u043e\", \"\\u043d\\u0435\\u043e\\u0431\\u0445\\u043e\\u0434\\u0438\\u043c\\u043e\", \"\\u043d\\u0435\\u0441\\u043a\\u043e\\u043b\\u044c\\u043a\\u043e\", \"\\u043d\\u0435\\u0441\\u043a\\u043e\\u043b\\u044c\\u043a\\u043e\", \"\\u043d\\u0435\\u0441\\u043a\\u043e\\u043b\\u044c\\u043a\\u043e\", \"\\u043d\\u0435\\u0441\\u043a\\u043e\\u043b\\u044c\\u043a\\u043e\", \"\\u043d\\u0435\\u0441\\u043a\\u043e\\u043b\\u044c\\u043a\\u043e\", \"\\u043d\\u0435\\u0441\\u043a\\u043e\\u043b\\u044c\\u043a\\u043e\", \"\\u043d\\u0435\\u0441\\u043a\\u043e\\u043b\\u044c\\u043a\\u043e\", \"\\u043d\\u0435\\u0441\\u043a\\u043e\\u043b\\u044c\\u043a\\u043e\", \"\\u043d\\u0435\\u0441\\u043a\\u043e\\u043b\\u044c\\u043a\\u043e\", \"\\u043d\\u0435\\u0441\\u043a\\u043e\\u043b\\u044c\\u043a\\u043e\", \"\\u043d\\u0435\\u0444\\u0442\\u044c\", \"\\u043d\\u0435\\u0444\\u0442\\u044f\\u043d\\u043e\\u0439\", \"\\u043d\\u0438\\u0437\\u043a\\u0438\\u0439\", \"\\u043d\\u043e\\u0432\\u043e\\u0441\\u0442\\u044c\", \"\\u043d\\u043e\\u0432\\u043e\\u0441\\u0442\\u044c\", \"\\u043d\\u043e\\u0432\\u043e\\u0441\\u0442\\u044c\", \"\\u043d\\u043e\\u0432\\u043e\\u0441\\u0442\\u044c\", \"\\u043d\\u043e\\u0432\\u043e\\u0441\\u0442\\u044c\", \"\\u043d\\u043e\\u0432\\u043e\\u0441\\u0442\\u044c\", \"\\u043d\\u043e\\u0432\\u044b\\u0439\", \"\\u043d\\u043e\\u0432\\u044b\\u0439\", \"\\u043d\\u043e\\u0432\\u044b\\u0439\", \"\\u043d\\u043e\\u0432\\u044b\\u0439\", \"\\u043d\\u043e\\u0432\\u044b\\u0439\", \"\\u043d\\u043e\\u0432\\u044b\\u0439\", \"\\u043d\\u043e\\u043c\\u0435\\u0440\", \"\\u043d\\u043e\\u043c\\u0435\\u0440\", \"\\u043d\\u043e\\u043c\\u0435\\u0440\", \"\\u043d\\u043e\\u0440\\u043c\\u0430\", \"\\u043d\\u043e\\u0447\\u044c\", \"\\u043d\\u0442\\u0432\", \"\\u043d\\u044c\\u044e\", \"\\u043d\\u044c\\u044e\", \"\\u043d\\u044c\\u044e\", \"\\u043e\\u0431\\u0432\\u0438\\u043d\\u0435\\u043d\\u0438\\u0435\", \"\\u043e\\u0431\\u043b\\u0430\\u0441\\u0442\\u043d\\u043e\\u0439\", \"\\u043e\\u0431\\u043b\\u0430\\u0441\\u0442\\u044c\", \"\\u043e\\u0431\\u043b\\u0430\\u0441\\u0442\\u044c\", \"\\u043e\\u0431\\u043b\\u0430\\u0441\\u0442\\u044c\", \"\\u043e\\u0431\\u043b\\u0430\\u0441\\u0442\\u044c\", \"\\u043e\\u0431\\u043b\\u0430\\u0441\\u0442\\u044c\", \"\\u043e\\u0431\\u043b\\u0438\\u0433\\u0430\\u0446\\u0438\\u044f\", \"\\u043e\\u0431\\u043d\\u0430\\u0440\\u0443\\u0436\\u0438\\u0442\\u044c\", \"\\u043e\\u0431\\u043e\\u0440\\u043e\\u043d\\u0430\", \"\\u043e\\u0431\\u0449\\u0435\\u0441\\u0442\\u0432\\u0435\\u043d\\u043d\\u043e\\u0441\\u0442\\u044c\", \"\\u043e\\u0431\\u0449\\u0435\\u0441\\u0442\\u0432\\u0435\\u043d\\u043d\\u044b\\u0439\", \"\\u043e\\u0431\\u0449\\u0435\\u0441\\u0442\\u0432\\u0435\\u043d\\u043d\\u044b\\u0439\", \"\\u043e\\u0431\\u044a\\u0451\\u043c\", \"\\u043e\\u0431\\u044a\\u0451\\u043c\", \"\\u043e\\u0431\\u044f\\u0437\\u0430\\u0442\\u0435\\u043b\\u044c\\u043d\\u043e\", \"\\u043e\\u0433\\u043e\\u043d\\u044c\", \"\\u043e\\u0434\\u043d\\u0430\\u043a\\u043e\", \"\\u043e\\u0434\\u043d\\u0430\\u043a\\u043e\", \"\\u043e\\u0434\\u043d\\u0430\\u043a\\u043e\", \"\\u043e\\u0434\\u043d\\u0430\\u043a\\u043e\", \"\\u043e\\u0434\\u043d\\u0430\\u043a\\u043e\", \"\\u043e\\u0434\\u043d\\u0430\\u043a\\u043e\", \"\\u043e\\u0434\\u043d\\u0430\\u043a\\u043e\", \"\\u043e\\u0434\\u043d\\u0430\\u043a\\u043e\", \"\\u043e\\u0434\\u043d\\u0430\\u043a\\u043e\", \"\\u043e\\u0434\\u043d\\u0430\\u043a\\u043e\", \"\\u043e\\u0434\\u043d\\u0430\\u043a\\u043e\", \"\\u043e\\u0434\\u043e\\u0431\\u0440\\u0438\\u0442\\u044c\", \"\\u043e\\u0434\\u043e\\u0431\\u0440\\u0438\\u0442\\u044c\", \"\\u043e\\u043a\\u043e\\u043b\\u043e\", \"\\u043e\\u043a\\u043e\\u043b\\u043e\", \"\\u043e\\u043a\\u043e\\u043b\\u043e\", \"\\u043e\\u043a\\u043e\\u043b\\u043e\", \"\\u043e\\u043a\\u043e\\u043b\\u043e\", \"\\u043e\\u043a\\u043e\\u043b\\u043e\", \"\\u043e\\u043a\\u0440\\u0443\\u0433\", \"\\u043e\\u043a\\u0440\\u0443\\u0433\", \"\\u043e\\u043a\\u0440\\u0443\\u0433\", \"\\u043e\\u043b\\u0438\\u043c\\u043f\\u0438\\u0439\\u0441\\u043a\\u0438\\u0439\", \"\\u043e\\u043e\\u043d\", \"\\u043e\\u043e\\u043e\", \"\\u043e\\u043f\\u0435\\u0440\\u0430\\u0442\\u043e\\u0440\", \"\\u043e\\u043f\\u0435\\u0440\\u0430\\u0446\\u0438\\u044f\", \"\\u043e\\u043f\\u0435\\u0440\\u0430\\u0446\\u0438\\u044f\", \"\\u043e\\u0440\\u0431\\u0438\\u0442\\u0430\", \"\\u043e\\u0440\\u0433\\u0430\\u043d\", \"\\u043e\\u0440\\u0433\\u0430\\u043d\", \"\\u043e\\u0440\\u0433\\u0430\\u043d\", \"\\u043e\\u0440\\u0433\\u0430\\u043d\", \"\\u043e\\u0440\\u0433\\u0430\\u043d\\u0438\\u0437\\u0430\\u0446\\u0438\\u044f\", \"\\u043e\\u0440\\u0433\\u0430\\u043d\\u0438\\u0437\\u0430\\u0446\\u0438\\u044f\", \"\\u043e\\u0440\\u0433\\u0430\\u043d\\u0438\\u0437\\u0430\\u0446\\u0438\\u044f\", \"\\u043e\\u0440\\u0433\\u0430\\u043d\\u0438\\u0437\\u0430\\u0446\\u0438\\u044f\", \"\\u043e\\u0440\\u0433\\u0430\\u043d\\u0438\\u0437\\u0430\\u0446\\u0438\\u044f\", \"\\u043e\\u0440\\u0433\\u0430\\u043d\\u0438\\u0437\\u0430\\u0446\\u0438\\u044f\", \"\\u043e\\u0440\\u0443\\u0436\\u0438\\u0435\", \"\\u043e\\u0440\\u0443\\u0436\\u0438\\u0435\", \"\\u043e\\u0440\\u0443\\u0436\\u0438\\u0435\", \"\\u043e\\u0441\\u043d\\u043e\\u0432\\u043d\\u044b\\u0439\", \"\\u043e\\u0441\\u043e\\u0431\\u044b\\u0439\", \"\\u043e\\u0441\\u0443\\u0449\\u0435\\u0441\\u0442\\u0432\\u0438\\u0442\\u044c\", \"\\u043e\\u0442\\u0432\\u0435\\u0442\\u0441\\u0442\\u0432\\u0435\\u043d\\u043d\\u044b\\u0439\", \"\\u043e\\u0442\\u0435\\u043b\\u044c\", \"\\u043e\\u0442\\u0435\\u0447\\u0435\\u0441\\u0442\\u0432\\u0435\\u043d\\u043d\\u044b\\u0439\", \"\\u043e\\u0442\\u043a\\u0430\\u0437\\u0430\\u0442\\u044c\\u0441\\u044f\", \"\\u043e\\u0442\\u043a\\u0430\\u0437\\u0430\\u0442\\u044c\\u0441\\u044f\", \"\\u043e\\u0442\\u043a\\u0430\\u0437\\u0430\\u0442\\u044c\\u0441\\u044f\", \"\\u043e\\u0442\\u043c\\u0435\\u043d\\u0430\", \"\\u043e\\u0442\\u043c\\u0435\\u0442\\u0438\\u0442\\u044c\", \"\\u043e\\u0442\\u043c\\u0435\\u0442\\u0438\\u0442\\u044c\", \"\\u043e\\u0442\\u043c\\u0435\\u0442\\u0438\\u0442\\u044c\", \"\\u043e\\u0442\\u043c\\u0435\\u0442\\u0438\\u0442\\u044c\", \"\\u043e\\u0442\\u043c\\u0435\\u0442\\u0438\\u0442\\u044c\", \"\\u043e\\u0442\\u043c\\u0435\\u0442\\u0438\\u0442\\u044c\", \"\\u043e\\u0442\\u043c\\u0435\\u0442\\u0438\\u0442\\u044c\", \"\\u043e\\u0442\\u043c\\u0435\\u0442\\u0438\\u0442\\u044c\", \"\\u043e\\u0442\\u043c\\u0435\\u0442\\u0438\\u0442\\u044c\", \"\\u043e\\u0442\\u043c\\u0435\\u0442\\u043a\\u0430\", \"\\u043e\\u0442\\u043d\\u043e\\u0448\\u0435\\u043d\\u0438\\u0435\", \"\\u043e\\u0442\\u043d\\u043e\\u0448\\u0435\\u043d\\u0438\\u0435\", \"\\u043e\\u0442\\u043d\\u043e\\u0448\\u0435\\u043d\\u0438\\u0435\", \"\\u043e\\u0442\\u0440\\u0430\\u0441\\u043b\\u044c\", \"\\u043e\\u0444\\u0438\\u0441\", \"\\u043e\\u0444\\u0438\\u0446\\u0435\\u0440\", \"\\u043f\\u0430\\u0434\\u0435\\u043d\\u0438\\u0435\", \"\\u043f\\u0430\\u0434\\u0435\\u043d\\u0438\\u0435\", \"\\u043f\\u0430\\u0434\\u0435\\u043d\\u0438\\u0435\", \"\\u043f\\u0430\\u043a\\u0435\\u0442\", \"\\u043f\\u0430\\u043b\\u0430\\u0442\\u0430\", \"\\u043f\\u0430\\u043b\\u0435\\u0441\\u0442\\u0438\\u043d\\u0441\\u043a\\u0438\\u0439\", \"\\u043f\\u0430\\u0440\\u043a\\u043e\\u0432\\u043a\\u0430\", \"\\u043f\\u0430\\u0440\\u043b\\u0430\\u043c\\u0435\\u043d\\u0442\", \"\\u043f\\u0430\\u0440\\u043b\\u0430\\u043c\\u0435\\u043d\\u0442\", \"\\u043f\\u0430\\u0440\\u0442\\u0438\\u044f\", \"\\u043f\\u0430\\u0440\\u0442\\u0438\\u044f\", \"\\u043f\\u0430\\u0441\\u0441\\u0430\\u0436\\u0438\\u0440\", \"\\u043f\\u0435\\u043d\\u0441\\u0438\\u043e\\u043d\\u043d\\u044b\\u0439\", \"\\u043f\\u0435\\u0440\\u0432\\u044b\\u0439\", \"\\u043f\\u0435\\u0440\\u0432\\u044b\\u0439\", \"\\u043f\\u0435\\u0440\\u0432\\u044b\\u0439\", \"\\u043f\\u0435\\u0440\\u0432\\u044b\\u0439\", \"\\u043f\\u0435\\u0440\\u0432\\u044b\\u0439\", \"\\u043f\\u0435\\u0440\\u0432\\u044b\\u0439\", \"\\u043f\\u0435\\u0440\\u0432\\u044b\\u0439\", \"\\u043f\\u0435\\u0440\\u0432\\u044b\\u0439\", \"\\u043f\\u0435\\u0440\\u0432\\u044b\\u0439\", \"\\u043f\\u0435\\u0440\\u0435\\u0433\\u043e\\u0432\\u043e\\u0440\\u044b\", \"\\u043f\\u0435\\u0440\\u0435\\u0445\\u043e\\u0434\", \"\\u043f\\u0435\\u0440\\u0435\\u0445\\u043e\\u0434\\u043d\\u044b\\u0439\", \"\\u043f\\u0435\\u0442\\u0435\\u0440\\u0431\\u0443\\u0440\\u0433\", \"\\u043f\\u0438\\u043b\\u043e\\u0442\", \"\\u043f\\u0438\\u0441\\u0430\\u0442\\u044c\", \"\\u043f\\u0438\\u0441\\u0430\\u0442\\u044c\", \"\\u043f\\u0438\\u0441\\u0430\\u0442\\u044c\", \"\\u043f\\u0438\\u0441\\u0430\\u0442\\u044c\", \"\\u043f\\u0438\\u0441\\u0430\\u0442\\u044c\", \"\\u043f\\u0438\\u0441\\u0430\\u0442\\u044c\", \"\\u043f\\u0438\\u0441\\u0430\\u0442\\u044c\", \"\\u043f\\u0438\\u0441\\u044c\\u043c\\u043e\", \"\\u043f\\u043b\\u0430\\u0442\\u0451\\u0436\", \"\\u043f\\u043b\\u043e\\u0449\\u0430\\u0434\\u044c\", \"\\u043f\\u043b\\u043e\\u0449\\u0430\\u0434\\u044c\", \"\\u043f\\u043b\\u044e\\u0441\", \"\\u043f\\u043e\\u0431\\u0435\\u0434\\u0430\", \"\\u043f\\u043e\\u0431\\u0435\\u0434\\u0438\\u0442\\u044c\", \"\\u043f\\u043e\\u0432\\u044b\\u0441\\u0438\\u0442\\u044c\", \"\\u043f\\u043e\\u0432\\u044b\\u0441\\u0438\\u0442\\u044c\", \"\\u043f\\u043e\\u0432\\u044b\\u0441\\u0438\\u0442\\u044c\", \"\\u043f\\u043e\\u0432\\u044b\\u0448\\u0435\\u043d\\u0438\\u0435\", \"\\u043f\\u043e\\u0433\\u0438\\u0431\\u043d\\u0443\\u0442\\u044c\", \"\\u043f\\u043e\\u0433\\u0438\\u0431\\u043d\\u0443\\u0442\\u044c\", \"\\u043f\\u043e\\u0433\\u0438\\u0431\\u0448\\u0438\\u0439\", \"\\u043f\\u043e\\u0433\\u0440\\u0430\\u043d\\u0438\\u0447\\u043d\\u0438\\u043a\", \"\\u043f\\u043e\\u0434\\u043e\\u0437\\u0440\\u0435\\u0432\\u0430\\u0442\\u044c\", \"\\u043f\\u043e\\u0434\\u043e\\u0437\\u0440\\u0435\\u043d\\u0438\\u0435\", \"\\u043f\\u043e\\u0434\\u043f\\u0438\\u0441\\u0430\\u0442\\u044c\", \"\\u043f\\u043e\\u0434\\u043f\\u0438\\u0441\\u0430\\u0442\\u044c\", \"\\u043f\\u043e\\u0434\\u043f\\u0438\\u0441\\u0430\\u0442\\u044c\", \"\\u043f\\u043e\\u0434\\u0440\\u043e\\u0441\\u0442\\u043e\\u043a\", \"\\u043f\\u043e\\u0434\\u0447\\u0435\\u0440\\u043a\\u043d\\u0443\\u0442\\u044c\", \"\\u043f\\u043e\\u0434\\u0447\\u0435\\u0440\\u043a\\u043d\\u0443\\u0442\\u044c\", \"\\u043f\\u043e\\u0434\\u0447\\u0435\\u0440\\u043a\\u043d\\u0443\\u0442\\u044c\", \"\\u043f\\u043e\\u0434\\u0447\\u0451\\u0440\\u043a\\u0438\\u0432\\u0430\\u0442\\u044c\", \"\\u043f\\u043e\\u0436\\u0430\\u0440\", \"\\u043f\\u043e\\u043a\\u0430\\u0437\\u0430\\u0442\\u0435\\u043b\\u044c\", \"\\u043f\\u043e\\u043a\\u0430\\u0437\\u0430\\u0442\\u044c\", \"\\u043f\\u043e\\u043a\\u0430\\u0437\\u0430\\u0442\\u044c\", \"\\u043f\\u043e\\u043a\\u0430\\u0437\\u0430\\u0442\\u044c\", \"\\u043f\\u043e\\u043a\\u0430\\u0437\\u0430\\u0442\\u044c\", \"\\u043f\\u043e\\u043a\\u0443\\u043f\\u0430\\u0442\\u0435\\u043b\\u044c\", \"\\u043f\\u043e\\u043a\\u0443\\u043f\\u043a\\u0430\", \"\\u043f\\u043e\\u043b\\u0435\", \"\\u043f\\u043e\\u043b\\u0435\", \"\\u043f\\u043e\\u043b\\u0438\\u0442\\u0438\\u0447\\u0435\\u0441\\u043a\\u0438\\u0439\", \"\\u043f\\u043e\\u043b\\u0438\\u0442\\u0438\\u0447\\u0435\\u0441\\u043a\\u0438\\u0439\", \"\\u043f\\u043e\\u043b\\u0438\\u0446\\u0435\\u0439\\u0441\\u043a\\u0438\\u0439\", \"\\u043f\\u043e\\u043b\\u0438\\u0446\\u0438\\u044f\", \"\\u043f\\u043e\\u043b\\u0438\\u0446\\u0438\\u044f\", \"\\u043f\\u043e\\u043b\\u043e\\u0436\\u0435\\u043d\\u0438\\u0435\", \"\\u043f\\u043e\\u043b\\u043e\\u0436\\u0435\\u043d\\u0438\\u0435\", \"\\u043f\\u043e\\u043b\\u043e\\u0436\\u0435\\u043d\\u0438\\u0435\", \"\\u043f\\u043e\\u043b\\u0443\\u0447\\u0438\\u0442\\u044c\", \"\\u043f\\u043e\\u043b\\u0443\\u0447\\u0438\\u0442\\u044c\", \"\\u043f\\u043e\\u043b\\u0443\\u0447\\u0438\\u0442\\u044c\", \"\\u043f\\u043e\\u043b\\u0443\\u0447\\u0438\\u0442\\u044c\", \"\\u043f\\u043e\\u043b\\u0443\\u0447\\u0438\\u0442\\u044c\", \"\\u043f\\u043e\\u043b\\u0443\\u0447\\u0438\\u0442\\u044c\", \"\\u043f\\u043e\\u043b\\u0443\\u0447\\u0438\\u0442\\u044c\", \"\\u043f\\u043e\\u043b\\u0443\\u0447\\u0438\\u0442\\u044c\", \"\\u043f\\u043e\\u043b\\u0443\\u0447\\u0438\\u0442\\u044c\", \"\\u043f\\u043e\\u043b\\u0443\\u0447\\u0438\\u0442\\u044c\", \"\\u043f\\u043e\\u043b\\u044c\\u0437\\u043e\\u0432\\u0430\\u0442\\u0435\\u043b\\u044c\", \"\\u043f\\u043e\\u043b\\u0451\\u0442\", \"\\u043f\\u043e\\u043c\\u043e\\u0433\\u0430\\u0442\\u044c\", \"\\u043f\\u043e\\u043c\\u043e\\u0449\\u044c\", \"\\u043f\\u043e\\u043c\\u043e\\u0449\\u044c\", \"\\u043f\\u043e\\u043c\\u043e\\u0449\\u044c\", \"\\u043f\\u043e\\u043c\\u043e\\u0449\\u044c\", \"\\u043f\\u043e\\u043c\\u043e\\u0449\\u044c\", \"\\u043f\\u043e\\u043c\\u043e\\u0449\\u044c\", \"\\u043f\\u043e\\u043c\\u043e\\u0449\\u044c\", \"\\u043f\\u043e\\u043e\\u0431\\u0435\\u0449\\u0430\\u0442\\u044c\", \"\\u043f\\u043e\\u043e\\u0431\\u0435\\u0449\\u0430\\u0442\\u044c\", \"\\u043f\\u043e\\u043f\\u0440\\u0430\\u0432\\u043a\\u0430\", \"\\u043f\\u043e\\u0440\\u0443\\u0447\\u0438\\u0442\\u044c\", \"\\u043f\\u043e\\u0441\\u0430\\u0434\\u043a\\u0430\", \"\\u043f\\u043e\\u0441\\u043b\\u0435\\u0434\\u043d\\u0438\\u0439\", \"\\u043f\\u043e\\u0441\\u043b\\u0435\\u0434\\u043d\\u0438\\u0439\", \"\\u043f\\u043e\\u0441\\u043b\\u0435\\u0434\\u043d\\u0438\\u0439\", \"\\u043f\\u043e\\u0441\\u043b\\u0435\\u0434\\u043d\\u0438\\u0439\", \"\\u043f\\u043e\\u0441\\u043b\\u0435\\u0434\\u043d\\u0438\\u0439\", \"\\u043f\\u043e\\u0441\\u043b\\u0435\\u0434\\u043d\\u0438\\u0439\", \"\\u043f\\u043e\\u0441\\u043b\\u0435\\u0434\\u043d\\u0438\\u0439\", \"\\u043f\\u043e\\u0441\\u043e\\u043b\\u044c\\u0441\\u0442\\u0432\\u043e\", \"\\u043f\\u043e\\u0441\\u0442\", \"\\u043f\\u043e\\u0441\\u0442\\u0430\\u0432\\u043a\\u0430\", \"\\u043f\\u043e\\u0441\\u0442\\u0430\\u0432\\u043a\\u0430\", \"\\u043f\\u043e\\u0441\\u0442\\u0440\\u0430\\u0434\\u0430\\u0442\\u044c\", \"\\u043f\\u043e\\u0441\\u0442\\u0440\\u0430\\u0434\\u0430\\u0442\\u044c\", \"\\u043f\\u043e\\u0441\\u0442\\u0440\\u0430\\u0434\\u0430\\u0442\\u044c\", \"\\u043f\\u043e\\u0442\\u043e\\u043a\", \"\\u043f\\u043e\\u0442\\u0440\\u0435\\u0431\\u0438\\u0442\\u0435\\u043b\\u044c\", \"\\u043f\\u043e\\u044f\\u0432\\u0438\\u0442\\u044c\\u0441\\u044f\", \"\\u043f\\u043e\\u044f\\u0432\\u0438\\u0442\\u044c\\u0441\\u044f\", \"\\u043f\\u043e\\u044f\\u0432\\u0438\\u0442\\u044c\\u0441\\u044f\", \"\\u043f\\u043e\\u044f\\u0432\\u0438\\u0442\\u044c\\u0441\\u044f\", \"\\u043f\\u043e\\u044f\\u0432\\u0438\\u0442\\u044c\\u0441\\u044f\", \"\\u043f\\u043e\\u044f\\u0432\\u0438\\u0442\\u044c\\u0441\\u044f\", \"\\u043f\\u0440\\u0430\\u0432\\u0438\\u0442\\u0435\\u043b\\u044c\\u0441\\u0442\\u0432\\u043e\", \"\\u043f\\u0440\\u0430\\u0432\\u0438\\u0442\\u0435\\u043b\\u044c\\u0441\\u0442\\u0432\\u043e\", \"\\u043f\\u0440\\u0430\\u0432\\u0438\\u0442\\u0435\\u043b\\u044c\\u0441\\u0442\\u0432\\u043e\", \"\\u043f\\u0440\\u0430\\u0432\\u043e\", \"\\u043f\\u0440\\u0430\\u0432\\u043e\", \"\\u043f\\u0440\\u0430\\u0432\\u043e\", \"\\u043f\\u0440\\u0430\\u0432\\u043e\\u043e\\u0445\\u0440\\u0430\\u043d\\u0438\\u0442\\u0435\\u043b\\u044c\\u043d\\u044b\\u0439\", \"\\u043f\\u0440\\u0430\\u0432\\u043e\\u043e\\u0445\\u0440\\u0430\\u043d\\u0438\\u0442\\u0435\\u043b\\u044c\\u043d\\u044b\\u0439\", \"\\u043f\\u0440\\u0430\\u0432\\u044b\\u0439\", \"\\u043f\\u0440\\u0430\\u0437\\u0434\\u043d\\u0438\\u043a\", \"\\u043f\\u0440\\u0435\\u0434\\u043b\\u043e\\u0436\\u0438\\u0442\\u044c\", \"\\u043f\\u0440\\u0435\\u0434\\u043b\\u043e\\u0436\\u0438\\u0442\\u044c\", \"\\u043f\\u0440\\u0435\\u0434\\u043b\\u043e\\u0436\\u0438\\u0442\\u044c\", \"\\u043f\\u0440\\u0435\\u0434\\u043e\\u0441\\u0442\\u0430\\u0432\\u0438\\u0442\\u044c\", \"\\u043f\\u0440\\u0435\\u0434\\u043e\\u0441\\u0442\\u0430\\u0432\\u0438\\u0442\\u044c\", \"\\u043f\\u0440\\u0435\\u0434\\u043f\\u0440\\u0438\\u043d\\u0438\\u043c\\u0430\\u0442\\u0435\\u043b\\u044c\", \"\\u043f\\u0440\\u0435\\u0434\\u043f\\u0440\\u0438\\u044f\\u0442\\u0438\\u0435\", \"\\u043f\\u0440\\u0435\\u0434\\u0441\\u0442\\u0430\\u0432\\u0438\\u0442\\u0435\\u043b\\u044c\", \"\\u043f\\u0440\\u0435\\u0434\\u0441\\u0442\\u0430\\u0432\\u0438\\u0442\\u0435\\u043b\\u044c\", \"\\u043f\\u0440\\u0435\\u0434\\u0441\\u0442\\u0430\\u0432\\u0438\\u0442\\u0435\\u043b\\u044c\", \"\\u043f\\u0440\\u0435\\u0434\\u0441\\u0442\\u0430\\u0432\\u0438\\u0442\\u0435\\u043b\\u044c\", \"\\u043f\\u0440\\u0435\\u0434\\u0441\\u0442\\u0430\\u0432\\u0438\\u0442\\u0435\\u043b\\u044c\", \"\\u043f\\u0440\\u0435\\u0434\\u0441\\u0442\\u0430\\u0432\\u0438\\u0442\\u0435\\u043b\\u044c\", \"\\u043f\\u0440\\u0435\\u0434\\u0441\\u0442\\u0430\\u0432\\u0438\\u0442\\u0435\\u043b\\u044c\", \"\\u043f\\u0440\\u0435\\u0434\\u0441\\u0442\\u0430\\u0432\\u0438\\u0442\\u0435\\u043b\\u044c\", \"\\u043f\\u0440\\u0435\\u0434\\u0441\\u0442\\u0430\\u0432\\u0438\\u0442\\u044c\", \"\\u043f\\u0440\\u0435\\u0434\\u0441\\u0442\\u0430\\u0432\\u0438\\u0442\\u044c\", \"\\u043f\\u0440\\u0435\\u0434\\u0441\\u0442\\u0430\\u0432\\u0438\\u0442\\u044c\", \"\\u043f\\u0440\\u0435\\u0434\\u0441\\u0442\\u0430\\u0432\\u0438\\u0442\\u044c\", \"\\u043f\\u0440\\u0435\\u0434\\u044a\\u044f\\u0432\\u0438\\u0442\\u044c\", \"\\u043f\\u0440\\u0435\\u0437\\u0438\\u0434\\u0435\\u043d\\u0442\", \"\\u043f\\u0440\\u0435\\u0437\\u0438\\u0434\\u0435\\u043d\\u0442\", \"\\u043f\\u0440\\u0435\\u0437\\u0438\\u0434\\u0435\\u043d\\u0442\", \"\\u043f\\u0440\\u0435\\u043a\\u0440\\u0430\\u0442\\u0438\\u0442\\u044c\", \"\\u043f\\u0440\\u0435\\u043c\\u044c\\u0435\\u0440\", \"\\u043f\\u0440\\u0435\\u043c\\u044c\\u0435\\u0440\", \"\\u043f\\u0440\\u0435\\u0441\\u0441\", \"\\u043f\\u0440\\u0435\\u0441\\u0441\", \"\\u043f\\u0440\\u0435\\u0441\\u0441\", \"\\u043f\\u0440\\u0435\\u0441\\u0441\", \"\\u043f\\u0440\\u0435\\u0441\\u0441\", \"\\u043f\\u0440\\u0435\\u0441\\u0441\", \"\\u043f\\u0440\\u0435\\u0441\\u0441\", \"\\u043f\\u0440\\u0435\\u0441\\u0441\", \"\\u043f\\u0440\\u0435\\u0441\\u0442\\u0443\\u043f\\u043b\\u0435\\u043d\\u0438\\u0435\", \"\\u043f\\u0440\\u0435\\u0441\\u0442\\u0443\\u043f\\u043d\\u0438\\u043a\", \"\\u043f\\u0440\\u0438\\u0431\\u044b\\u0442\\u044c\", \"\\u043f\\u0440\\u0438\\u0433\\u043e\\u0432\\u043e\\u0440\", \"\\u043f\\u0440\\u0438\\u0433\\u043e\\u0432\\u043e\\u0440\\u0438\\u0442\\u044c\", \"\\u043f\\u0440\\u0438\\u0437\\u043d\\u0430\\u0442\\u044c\", \"\\u043f\\u0440\\u0438\\u0437\\u043d\\u0430\\u0442\\u044c\", \"\\u043f\\u0440\\u0438\\u0437\\u043d\\u0430\\u0442\\u044c\", \"\\u043f\\u0440\\u0438\\u043b\\u043e\\u0436\\u0435\\u043d\\u0438\\u0435\", \"\\u043f\\u0440\\u0438\\u043c\\u043e\\u0440\\u0441\\u043a\\u0438\\u0439\", \"\\u043f\\u0440\\u0438\\u043d\\u044f\\u0442\\u044c\", \"\\u043f\\u0440\\u0438\\u043d\\u044f\\u0442\\u044c\", \"\\u043f\\u0440\\u0438\\u043d\\u044f\\u0442\\u044c\", \"\\u043f\\u0440\\u0438\\u043d\\u044f\\u0442\\u044c\", \"\\u043f\\u0440\\u0438\\u043d\\u044f\\u0442\\u044c\", \"\\u043f\\u0440\\u0438\\u043d\\u044f\\u0442\\u044c\", \"\\u043f\\u0440\\u0438\\u0447\\u0438\\u043d\\u0430\", \"\\u043f\\u0440\\u0438\\u0447\\u0438\\u043d\\u0430\", \"\\u043f\\u0440\\u0438\\u0447\\u0438\\u043d\\u0430\", \"\\u043f\\u0440\\u0438\\u0447\\u0438\\u043d\\u0430\", \"\\u043f\\u0440\\u0438\\u0447\\u0438\\u043d\\u0430\", \"\\u043f\\u0440\\u0438\\u0447\\u0438\\u043d\\u0430\", \"\\u043f\\u0440\\u0438\\u0447\\u0438\\u043d\\u0430\", \"\\u043f\\u0440\\u0438\\u0447\\u0438\\u043d\\u0430\", \"\\u043f\\u0440\\u0438\\u0447\\u0438\\u043d\\u0430\", \"\\u043f\\u0440\\u043e\\u0432\\u0435\\u0434\\u0435\\u043d\\u0438\\u0435\", \"\\u043f\\u0440\\u043e\\u0432\\u0435\\u0440\\u043a\\u0430\", \"\\u043f\\u0440\\u043e\\u0432\\u0435\\u0440\\u043a\\u0430\", \"\\u043f\\u0440\\u043e\\u0432\\u0435\\u0440\\u043a\\u0430\", \"\\u043f\\u0440\\u043e\\u0432\\u0435\\u0441\\u0442\\u0438\", \"\\u043f\\u0440\\u043e\\u0432\\u0435\\u0441\\u0442\\u0438\", \"\\u043f\\u0440\\u043e\\u0432\\u0435\\u0441\\u0442\\u0438\", \"\\u043f\\u0440\\u043e\\u0432\\u0435\\u0441\\u0442\\u0438\", \"\\u043f\\u0440\\u043e\\u0432\\u0435\\u0441\\u0442\\u0438\", \"\\u043f\\u0440\\u043e\\u0432\\u0435\\u0441\\u0442\\u0438\", \"\\u043f\\u0440\\u043e\\u0432\\u043e\\u0434\\u0438\\u0442\\u044c\\u0441\\u044f\", \"\\u043f\\u0440\\u043e\\u0432\\u043e\\u0434\\u0438\\u0442\\u044c\\u0441\\u044f\", \"\\u043f\\u0440\\u043e\\u0433\\u043d\\u043e\\u0437\", \"\\u043f\\u0440\\u043e\\u0433\\u043e\\u043b\\u043e\\u0441\\u043e\\u0432\\u0430\\u0442\\u044c\", \"\\u043f\\u0440\\u043e\\u0433\\u0440\\u0430\\u043c\\u043c\\u0430\", \"\\u043f\\u0440\\u043e\\u0433\\u0440\\u0430\\u043c\\u043c\\u0430\", \"\\u043f\\u0440\\u043e\\u0433\\u0440\\u0430\\u043c\\u043c\\u0430\", \"\\u043f\\u0440\\u043e\\u0433\\u0440\\u0430\\u043c\\u043c\\u0430\", \"\\u043f\\u0440\\u043e\\u0433\\u0440\\u0430\\u043c\\u043c\\u0430\", \"\\u043f\\u0440\\u043e\\u0433\\u0440\\u0430\\u043c\\u043c\\u0430\", \"\\u043f\\u0440\\u043e\\u0434\\u0430\\u0436\\u0430\", \"\\u043f\\u0440\\u043e\\u0434\\u0430\\u0442\\u044c\", \"\\u043f\\u0440\\u043e\\u0435\\u043a\\u0442\", \"\\u043f\\u0440\\u043e\\u0435\\u043a\\u0442\", \"\\u043f\\u0440\\u043e\\u0438\\u0437\\u0432\\u0435\\u0441\\u0442\\u0438\", \"\\u043f\\u0440\\u043e\\u0438\\u0437\\u0432\\u043e\\u0434\\u0438\\u0442\\u0435\\u043b\\u044c\", \"\\u043f\\u0440\\u043e\\u0438\\u0437\\u043e\\u0439\\u0442\\u0438\", \"\\u043f\\u0440\\u043e\\u0438\\u0437\\u043e\\u0439\\u0442\\u0438\", \"\\u043f\\u0440\\u043e\\u0438\\u0437\\u043e\\u0439\\u0442\\u0438\", \"\\u043f\\u0440\\u043e\\u0438\\u0437\\u043e\\u0439\\u0442\\u0438\", \"\\u043f\\u0440\\u043e\\u0438\\u0437\\u043e\\u0439\\u0442\\u0438\", \"\\u043f\\u0440\\u043e\\u0438\\u0437\\u043e\\u0439\\u0442\\u0438\", \"\\u043f\\u0440\\u043e\\u0438\\u0437\\u043e\\u0439\\u0442\\u0438\", \"\\u043f\\u0440\\u043e\\u0438\\u0441\\u0448\\u0435\\u0441\\u0442\\u0432\\u0438\\u0435\", \"\\u043f\\u0440\\u043e\\u043a\\u0443\\u0440\\u0430\\u0442\\u0443\\u0440\\u0430\", \"\\u043f\\u0440\\u043e\\u043a\\u0443\\u0440\\u0430\\u0442\\u0443\\u0440\\u0430\", \"\\u043f\\u0440\\u043e\\u043a\\u0443\\u0440\\u0430\\u0442\\u0443\\u0440\\u0430\", \"\\u043f\\u0440\\u043e\\u043a\\u0443\\u0440\\u043e\\u0440\", \"\\u043f\\u0440\\u043e\\u043c\\u044b\\u0448\\u043b\\u0435\\u043d\\u043d\\u044b\\u0439\", \"\\u043f\\u0440\\u043e\\u0441\\u044c\\u0431\\u0430\", \"\\u043f\\u0440\\u043e\\u0442\\u0435\\u0441\\u0442\", \"\\u043f\\u0440\\u043e\\u0442\\u0438\\u0432\", \"\\u043f\\u0440\\u043e\\u0442\\u0438\\u0432\", \"\\u043f\\u0440\\u043e\\u0442\\u0438\\u0432\\u043e\\u0440\\u0435\\u0447\\u0438\\u0442\\u044c\", \"\\u043f\\u0440\\u043e\\u0446\\u0435\\u043d\\u0442\", \"\\u043f\\u0440\\u043e\\u0446\\u0435\\u043d\\u0442\", \"\\u043f\\u0440\\u043e\\u0446\\u0435\\u043d\\u0442\", \"\\u043f\\u0440\\u043e\\u0446\\u0435\\u043d\\u0442\", \"\\u043f\\u0440\\u043e\\u0446\\u0435\\u043d\\u0442\", \"\\u043f\\u0440\\u044f\\u043c\\u043e\\u0439\", \"\\u043f\\u0443\\u0431\\u043b\\u0438\\u043a\\u043e\\u0432\\u0430\\u0442\\u044c\", \"\\u043f\\u0443\\u0442\\u0438\\u043d\", \"\\u043f\\u0443\\u0442\\u0438\\u043d\", \"\\u043f\\u0443\\u0442\\u0438\\u043d\", \"\\u043f\\u044b\\u0442\\u0430\\u0442\\u044c\\u0441\\u044f\", \"\\u043f\\u044f\\u0442\\u043d\\u0438\\u0446\\u0430\", \"\\u0440\\u0430\\u0431\\u043e\\u0442\\u0430\", \"\\u0440\\u0430\\u0431\\u043e\\u0442\\u0430\", \"\\u0440\\u0430\\u0431\\u043e\\u0442\\u0430\", \"\\u0440\\u0430\\u0431\\u043e\\u0442\\u0430\", \"\\u0440\\u0430\\u0431\\u043e\\u0442\\u0430\", \"\\u0440\\u0430\\u0431\\u043e\\u0442\\u0430\\u0442\\u044c\", \"\\u0440\\u0430\\u0431\\u043e\\u0442\\u0430\\u0442\\u044c\", \"\\u0440\\u0430\\u0431\\u043e\\u0442\\u0430\\u0442\\u044c\", \"\\u0440\\u0430\\u0431\\u043e\\u0442\\u0430\\u0442\\u044c\", \"\\u0440\\u0430\\u0431\\u043e\\u0442\\u0430\\u0442\\u044c\", \"\\u0440\\u0430\\u0437\\u0431\\u0438\\u0442\\u044c\\u0441\\u044f\", \"\\u0440\\u0430\\u0437\\u0432\\u0438\\u0442\\u0438\\u0435\", \"\\u0440\\u0430\\u0437\\u0432\\u0438\\u0442\\u0438\\u0435\", \"\\u0440\\u0430\\u0437\\u043c\\u0435\\u0440\", \"\\u0440\\u0430\\u0437\\u043c\\u0435\\u0440\", \"\\u0440\\u0430\\u0437\\u043c\\u0435\\u0440\", \"\\u0440\\u0430\\u0437\\u0440\\u0430\\u0431\\u043e\\u0442\\u043a\\u0430\", \"\\u0440\\u0430\\u0437\\u0440\\u0430\\u0431\\u043e\\u0442\\u0447\\u0438\\u043a\", \"\\u0440\\u0430\\u0439\\u043e\\u043d\", \"\\u0440\\u0430\\u0439\\u043e\\u043d\", \"\\u0440\\u0430\\u043a\\u0435\\u0442\\u0430\", \"\\u0440\\u0430\\u043a\\u0435\\u0442\\u043d\\u044b\\u0439\", \"\\u0440\\u0430\\u043c\\u043a\\u0430\", \"\\u0440\\u0430\\u043c\\u043a\\u0430\", \"\\u0440\\u0430\\u043d\\u0435\\u043d\\u0438\\u0435\", \"\\u0440\\u0430\\u043d\\u0438\\u0442\\u044c\", \"\\u0440\\u0430\\u0441\\u043f\\u043e\\u043b\\u043e\\u0436\\u0438\\u0442\\u044c\", \"\\u0440\\u0430\\u0441\\u0441\\u043a\\u0430\\u0437\\u044b\\u0432\\u0430\\u0442\\u044c\", \"\\u0440\\u0430\\u0441\\u0441\\u043b\\u0435\\u0434\\u043e\\u0432\\u0430\\u043d\\u0438\\u0435\", \"\\u0440\\u0430\\u0441\\u0441\\u043b\\u0435\\u0434\\u043e\\u0432\\u0430\\u043d\\u0438\\u0435\", \"\\u0440\\u0430\\u0441\\u0441\\u043b\\u0435\\u0434\\u043e\\u0432\\u0430\\u043d\\u0438\\u0435\", \"\\u0440\\u0430\\u0441\\u0441\\u043b\\u0435\\u0434\\u043e\\u0432\\u0430\\u043d\\u0438\\u0435\", \"\\u0440\\u0430\\u0441\\u0441\\u043b\\u0435\\u0434\\u043e\\u0432\\u0430\\u043d\\u0438\\u0435\", \"\\u0440\\u0430\\u0441\\u0441\\u043b\\u0435\\u0434\\u043e\\u0432\\u0430\\u0442\\u044c\", \"\\u0440\\u0430\\u0441\\u0442\\u0438\", \"\\u0440\\u0430\\u0441\\u0442\\u0438\", \"\\u0440\\u0430\\u0441\\u0445\\u043e\\u0434\", \"\\u0440\\u0430\\u0441\\u0445\\u043e\\u0434\", \"\\u0440\\u0435\\u0431\\u0451\\u043d\\u043e\\u043a\", \"\\u0440\\u0435\\u0431\\u0451\\u043d\\u043e\\u043a\", \"\\u0440\\u0435\\u0431\\u0451\\u043d\\u043e\\u043a\", \"\\u0440\\u0435\\u0433\\u0438\\u043e\\u043d\", \"\\u0440\\u0435\\u0433\\u0438\\u043e\\u043d\", \"\\u0440\\u0435\\u0433\\u0438\\u043e\\u043d\", \"\\u0440\\u0435\\u0433\\u0438\\u043e\\u043d\", \"\\u0440\\u0435\\u0433\\u0443\\u043b\\u044f\\u0442\\u043e\\u0440\", \"\\u0440\\u0435\\u0434\\u0430\\u043a\\u0442\\u043e\\u0440\", \"\\u0440\\u0435\\u0434\\u0430\\u043a\\u0446\\u0438\\u044f\", \"\\u0440\\u0435\\u0437\\u0443\\u043b\\u044c\\u0442\\u0430\\u0442\", \"\\u0440\\u0435\\u0437\\u0443\\u043b\\u044c\\u0442\\u0430\\u0442\", \"\\u0440\\u0435\\u0437\\u0443\\u043b\\u044c\\u0442\\u0430\\u0442\", \"\\u0440\\u0435\\u0437\\u0443\\u043b\\u044c\\u0442\\u0430\\u0442\", \"\\u0440\\u0435\\u0437\\u0443\\u043b\\u044c\\u0442\\u0430\\u0442\", \"\\u0440\\u0435\\u0437\\u0443\\u043b\\u044c\\u0442\\u0430\\u0442\", \"\\u0440\\u0435\\u0437\\u0443\\u043b\\u044c\\u0442\\u0430\\u0442\", \"\\u0440\\u0435\\u0439\\u0441\", \"\\u0440\\u0435\\u0439\\u0442\\u0438\\u043d\\u0433\", \"\\u0440\\u0435\\u043a\\u043b\\u0430\\u043c\\u0430\", \"\\u0440\\u0435\\u043a\\u043b\\u0430\\u043c\\u043d\\u044b\\u0439\", \"\\u0440\\u0435\\u0444\\u0438\\u043d\\u0430\\u043d\\u0441\\u0438\\u0440\\u043e\\u0432\\u0430\\u043d\\u0438\\u0435\", \"\\u0440\\u0435\\u0444\\u043e\\u0440\\u043c\\u0430\", \"\\u0440\\u0435\\u0448\\u0435\\u043d\\u0438\\u0435\", \"\\u0440\\u0435\\u0448\\u0435\\u043d\\u0438\\u0435\", \"\\u0440\\u0435\\u0448\\u0435\\u043d\\u0438\\u0435\", \"\\u0440\\u0435\\u0448\\u0435\\u043d\\u0438\\u0435\", \"\\u0440\\u0438\\u0430\", \"\\u0440\\u0438\\u0430\", \"\\u0440\\u0438\\u0430\", \"\\u0440\\u0438\\u0430\", \"\\u0440\\u0438\\u0430\", \"\\u0440\\u043e\\u0434\\u0441\\u0442\\u0432\\u0435\\u043d\\u043d\\u0438\\u043a\", \"\\u0440\\u043e\\u0437\\u043d\\u0438\\u0447\\u043d\\u044b\\u0439\", \"\\u0440\\u043e\\u0437\\u044b\\u0441\\u043a\", \"\\u0440\\u043e\\u043b\\u0438\\u043a\", \"\\u0440\\u043e\\u0441\\u043d\\u0435\\u0444\\u0442\\u044c\", \"\\u0440\\u043e\\u0441\\u0441\\u0438\\u0439\\u0441\\u043a\\u0438\\u0439\", \"\\u0440\\u043e\\u0441\\u0441\\u0438\\u0439\\u0441\\u043a\\u0438\\u0439\", \"\\u0440\\u043e\\u0441\\u0441\\u0438\\u0439\\u0441\\u043a\\u0438\\u0439\", \"\\u0440\\u043e\\u0441\\u0441\\u0438\\u0439\\u0441\\u043a\\u0438\\u0439\", \"\\u0440\\u043e\\u0441\\u0441\\u0438\\u0439\\u0441\\u043a\\u0438\\u0439\", \"\\u0440\\u043e\\u0441\\u0441\\u0438\\u0439\\u0441\\u043a\\u0438\\u0439\", \"\\u0440\\u043e\\u0441\\u0441\\u0438\\u0439\\u0441\\u043a\\u0438\\u0439\", \"\\u0440\\u043e\\u0441\\u0441\\u0438\\u044f\", \"\\u0440\\u043e\\u0441\\u0441\\u0438\\u044f\", \"\\u0440\\u043e\\u0441\\u0441\\u0438\\u044f\", \"\\u0440\\u043e\\u0441\\u0441\\u0438\\u044f\", \"\\u0440\\u043e\\u0441\\u0441\\u0438\\u044f\", \"\\u0440\\u043e\\u0441\\u0441\\u0438\\u044f\", \"\\u0440\\u043e\\u0441\\u0442\", \"\\u0440\\u043e\\u0441\\u0442\", \"\\u0440\\u043e\\u0441\\u0442\", \"\\u0440\\u0443\\u0431\\u043b\\u044c\", \"\\u0440\\u0443\\u0431\\u043b\\u044c\", \"\\u0440\\u0443\\u0431\\u043b\\u044c\", \"\\u0440\\u0443\\u043a\\u043e\\u0432\\u043e\\u0434\\u0438\\u0442\\u0435\\u043b\\u044c\", \"\\u0440\\u0443\\u043a\\u043e\\u0432\\u043e\\u0434\\u0438\\u0442\\u0435\\u043b\\u044c\", \"\\u0440\\u0443\\u043a\\u043e\\u0432\\u043e\\u0434\\u0438\\u0442\\u0435\\u043b\\u044c\", \"\\u0440\\u0443\\u043a\\u043e\\u0432\\u043e\\u0434\\u0438\\u0442\\u0435\\u043b\\u044c\", \"\\u0440\\u0443\\u043a\\u043e\\u0432\\u043e\\u0434\\u0441\\u0442\\u0432\\u043e\", \"\\u0440\\u0443\\u043a\\u043e\\u0432\\u043e\\u0434\\u0441\\u0442\\u0432\\u043e\", \"\\u0440\\u0443\\u043a\\u043e\\u0432\\u043e\\u0434\\u0441\\u0442\\u0432\\u043e\", \"\\u0440\\u0443\\u043a\\u043e\\u0432\\u043e\\u0434\\u0441\\u0442\\u0432\\u043e\", \"\\u0440\\u044b\\u043d\\u043e\\u043a\", \"\\u0440\\u044b\\u043d\\u043e\\u043a\", \"\\u0440\\u044b\\u043d\\u043e\\u0447\\u043d\\u044b\\u0439\", \"\\u0441\\u0430\\u0439\\u0442\", \"\\u0441\\u0430\\u0439\\u0442\", \"\\u0441\\u0430\\u0439\\u0442\", \"\\u0441\\u0430\\u0439\\u0442\", \"\\u0441\\u0430\\u0439\\u0442\", \"\\u0441\\u0430\\u043b\\u043e\\u043d\", \"\\u0441\\u0430\\u043c\\u043e\\u043b\\u0451\\u0442\", \"\\u0441\\u0430\\u043c\\u044b\\u0439\", \"\\u0441\\u0430\\u043c\\u044b\\u0439\", \"\\u0441\\u0430\\u043c\\u044b\\u0439\", \"\\u0441\\u0430\\u043d\\u043a\\u0442\", \"\\u0441\\u0430\\u043d\\u043a\\u0446\\u0438\\u044f\", \"\\u0441\\u0432\\u0438\\u0434\\u0435\\u0442\\u0435\\u043b\\u044c\", \"\\u0441\\u0432\\u043e\\u0439\", \"\\u0441\\u0432\\u043e\\u0439\", \"\\u0441\\u0432\\u043e\\u0439\", \"\\u0441\\u0432\\u043e\\u0439\", \"\\u0441\\u0432\\u043e\\u0439\", \"\\u0441\\u0432\\u043e\\u0439\", \"\\u0441\\u0432\\u043e\\u0439\", \"\\u0441\\u0432\\u043e\\u0439\", \"\\u0441\\u0432\\u043e\\u0439\", \"\\u0441\\u0432\\u044f\\u0437\\u044c\", \"\\u0441\\u0432\\u044f\\u0437\\u044c\", \"\\u0441\\u0432\\u044f\\u0437\\u044c\", \"\\u0441\\u0432\\u044f\\u0437\\u044c\", \"\\u0441\\u0432\\u044f\\u0437\\u044c\", \"\\u0441\\u0432\\u044f\\u0437\\u044c\", \"\\u0441\\u0432\\u044f\\u0437\\u044c\", \"\\u0441\\u0432\\u044f\\u0437\\u044c\", \"\\u0441\\u0432\\u044f\\u0437\\u044c\", \"\\u0441\\u0432\\u044f\\u0437\\u044c\", \"\\u0441\\u0434\\u0435\\u043b\\u043a\\u0430\", \"\\u0441\\u0435\\u0432\\u0435\\u0440\", \"\\u0441\\u0435\\u0432\\u0435\\u0440\\u043d\\u044b\\u0439\", \"\\u0441\\u0435\\u0432\\u0435\\u0440\\u043d\\u044b\\u0439\", \"\\u0441\\u0435\\u0432\\u0435\\u0440\\u043d\\u044b\\u0439\", \"\\u0441\\u0435\\u0432\\u0435\\u0440\\u043d\\u044b\\u0439\", \"\\u0441\\u0435\\u0432\\u0435\\u0440\\u043d\\u044b\\u0439\", \"\\u0441\\u0435\\u0432\\u0435\\u0440\\u043e\", \"\\u0441\\u0435\\u0440\\u0432\\u0438\\u0441\", \"\\u0441\\u0435\\u0440\\u0432\\u0438\\u0441\", \"\\u0441\\u0435\\u0440\\u0433\\u0435\\u0439\", \"\\u0441\\u0435\\u0440\\u0433\\u0435\\u0439\", \"\\u0441\\u0435\\u0440\\u0433\\u0435\\u0439\", \"\\u0441\\u0435\\u0440\\u0438\\u044f\", \"\\u0441\\u0435\\u0442\\u044c\", \"\\u0441\\u0435\\u0442\\u044c\", \"\\u0441\\u0435\\u0442\\u044c\", \"\\u0441\\u0438\\u0437\\u044b\\u0439\", \"\\u0441\\u0438\\u043b\\u0430\", \"\\u0441\\u0438\\u043b\\u0430\", \"\\u0441\\u0438\\u043b\\u0430\", \"\\u0441\\u0438\\u043b\\u0430\", \"\\u0441\\u0438\\u0440\\u0438\\u0439\\u0441\\u043a\\u0438\\u0439\", \"\\u0441\\u0438\\u0440\\u0438\\u044f\", \"\\u0441\\u0438\\u0441\\u0442\\u0435\\u043c\\u0430\", \"\\u0441\\u0438\\u0441\\u0442\\u0435\\u043c\\u0430\", \"\\u0441\\u0438\\u0441\\u0442\\u0435\\u043c\\u0430\", \"\\u0441\\u0438\\u0441\\u0442\\u0435\\u043c\\u0430\", \"\\u0441\\u0438\\u0441\\u0442\\u0435\\u043c\\u0430\", \"\\u0441\\u0438\\u0441\\u0442\\u0435\\u043c\\u0430\", \"\\u0441\\u043a\\u0430\\u0437\\u0430\\u0442\\u044c\", \"\\u0441\\u043a\\u0430\\u0437\\u0430\\u0442\\u044c\", \"\\u0441\\u043a\\u0430\\u0437\\u0430\\u0442\\u044c\", \"\\u0441\\u043a\\u0430\\u0437\\u0430\\u0442\\u044c\", \"\\u0441\\u043a\\u0430\\u0437\\u0430\\u0442\\u044c\", \"\\u0441\\u043b\\u0435\\u0434\\u043e\\u0432\\u0430\\u0442\\u0435\\u043b\\u044c\", \"\\u0441\\u043b\\u0435\\u0434\\u0441\\u0442\\u0432\\u0438\\u0435\", \"\\u0441\\u043b\\u043e\\u0432\\u043e\", \"\\u0441\\u043b\\u043e\\u0432\\u043e\", \"\\u0441\\u043b\\u043e\\u0432\\u043e\", \"\\u0441\\u043b\\u043e\\u0432\\u043e\", \"\\u0441\\u043b\\u043e\\u0432\\u043e\", \"\\u0441\\u043b\\u043e\\u0432\\u043e\", \"\\u0441\\u043b\\u043e\\u0432\\u043e\", \"\\u0441\\u043b\\u0443\\u0436\\u0431\\u0430\", \"\\u0441\\u043b\\u0443\\u0436\\u0431\\u0430\", \"\\u0441\\u043b\\u0443\\u0436\\u0431\\u0430\", \"\\u0441\\u043b\\u0443\\u0436\\u0431\\u0430\", \"\\u0441\\u043b\\u0443\\u0436\\u0431\\u0430\", \"\\u0441\\u043b\\u0443\\u0436\\u0431\\u0430\", \"\\u0441\\u043b\\u0443\\u0436\\u0431\\u0430\", \"\\u0441\\u043c\\u0430\\u0440\\u0442\\u0444\\u043e\\u043d\", \"\\u0441\\u043c\\u0435\\u0440\\u0442\\u044c\", \"\\u0441\\u043c\\u0438\", \"\\u0441\\u043c\\u0438\", \"\\u0441\\u043c\\u0438\", \"\\u0441\\u043d\\u0438\\u0437\\u0438\\u0442\\u044c\", \"\\u0441\\u043d\\u0438\\u0437\\u0438\\u0442\\u044c\\u0441\\u044f\", \"\\u0441\\u043e\\u0432\\u0435\\u0440\\u0448\\u0435\\u043d\\u0438\\u0435\", \"\\u0441\\u043e\\u0432\\u0435\\u0442\", \"\\u0441\\u043e\\u0432\\u0435\\u0442\", \"\\u0441\\u043e\\u0432\\u0435\\u0442\", \"\\u0441\\u043e\\u0437\\u0434\\u0430\\u0442\\u0435\\u043b\\u044c\", \"\\u0441\\u043e\\u0437\\u0434\\u0430\\u0442\\u044c\", \"\\u0441\\u043e\\u0437\\u0434\\u0430\\u0442\\u044c\", \"\\u0441\\u043e\\u0437\\u0434\\u0430\\u0442\\u044c\", \"\\u0441\\u043e\\u0437\\u0434\\u0430\\u0442\\u044c\", \"\\u0441\\u043e\\u0437\\u0434\\u0430\\u0442\\u044c\", \"\\u0441\\u043e\\u0437\\u0434\\u0430\\u0442\\u044c\", \"\\u0441\\u043e\\u043b\\u0434\\u0430\\u0442\", \"\\u0441\\u043e\\u043e\\u0431\\u0449\\u0430\\u0442\\u044c\", \"\\u0441\\u043e\\u043e\\u0431\\u0449\\u0430\\u0442\\u044c\", \"\\u0441\\u043e\\u043e\\u0431\\u0449\\u0430\\u0442\\u044c\", \"\\u0441\\u043e\\u043e\\u0431\\u0449\\u0430\\u0442\\u044c\", \"\\u0441\\u043e\\u043e\\u0431\\u0449\\u0430\\u0442\\u044c\", \"\\u0441\\u043e\\u043e\\u0431\\u0449\\u0430\\u0442\\u044c\", \"\\u0441\\u043e\\u043e\\u0431\\u0449\\u0430\\u0442\\u044c\", \"\\u0441\\u043e\\u043e\\u0431\\u0449\\u0430\\u0442\\u044c\", \"\\u0441\\u043e\\u043e\\u0431\\u0449\\u0430\\u0442\\u044c\", \"\\u0441\\u043e\\u043e\\u0431\\u0449\\u0430\\u0442\\u044c\", \"\\u0441\\u043e\\u043e\\u0431\\u0449\\u0430\\u0442\\u044c\", \"\\u0441\\u043e\\u043e\\u0431\\u0449\\u0430\\u0442\\u044c\", \"\\u0441\\u043e\\u043e\\u0431\\u0449\\u0435\\u043d\\u0438\\u0435\", \"\\u0441\\u043e\\u043e\\u0431\\u0449\\u0435\\u043d\\u0438\\u0435\", \"\\u0441\\u043e\\u043e\\u0431\\u0449\\u0435\\u043d\\u0438\\u0435\", \"\\u0441\\u043e\\u043e\\u0431\\u0449\\u0435\\u043d\\u0438\\u0435\", \"\\u0441\\u043e\\u043e\\u0431\\u0449\\u0435\\u043d\\u0438\\u0435\", \"\\u0441\\u043e\\u043e\\u0431\\u0449\\u0435\\u043d\\u0438\\u0435\", \"\\u0441\\u043e\\u043e\\u0431\\u0449\\u0438\\u0442\\u044c\", \"\\u0441\\u043e\\u043e\\u0431\\u0449\\u0438\\u0442\\u044c\", \"\\u0441\\u043e\\u043e\\u0431\\u0449\\u0438\\u0442\\u044c\", \"\\u0441\\u043e\\u043e\\u0431\\u0449\\u0438\\u0442\\u044c\", \"\\u0441\\u043e\\u043e\\u0431\\u0449\\u0438\\u0442\\u044c\", \"\\u0441\\u043e\\u043e\\u0431\\u0449\\u0438\\u0442\\u044c\", \"\\u0441\\u043e\\u043e\\u0431\\u0449\\u0438\\u0442\\u044c\", \"\\u0441\\u043e\\u043e\\u0431\\u0449\\u0438\\u0442\\u044c\", \"\\u0441\\u043e\\u043e\\u0431\\u0449\\u0438\\u0442\\u044c\", \"\\u0441\\u043e\\u043e\\u0431\\u0449\\u0438\\u0442\\u044c\", \"\\u0441\\u043e\\u0441\\u0442\\u0430\\u0432\\u0438\\u0442\\u044c\", \"\\u0441\\u043e\\u0441\\u0442\\u0430\\u0432\\u0438\\u0442\\u044c\", \"\\u0441\\u043e\\u0441\\u0442\\u0430\\u0432\\u0438\\u0442\\u044c\", \"\\u0441\\u043e\\u0441\\u0442\\u043e\\u044f\\u0442\\u044c\\u0441\\u044f\", \"\\u0441\\u043e\\u0442\\u043e\\u0432\\u044b\\u0439\", \"\\u0441\\u043e\\u0442\\u0440\\u0443\\u0434\\u043d\\u0438\\u043a\", \"\\u0441\\u043e\\u0442\\u0440\\u0443\\u0434\\u043d\\u0438\\u043a\", \"\\u0441\\u043e\\u0442\\u0440\\u0443\\u0434\\u043d\\u0438\\u043a\", \"\\u0441\\u043e\\u0442\\u0440\\u0443\\u0434\\u043d\\u0438\\u043a\", \"\\u0441\\u043e\\u0442\\u0440\\u0443\\u0434\\u043d\\u0438\\u043a\", \"\\u0441\\u043e\\u0446\\u0438\\u0430\\u043b\\u044c\\u043d\\u044b\\u0439\", \"\\u0441\\u043e\\u0446\\u0438\\u0430\\u043b\\u044c\\u043d\\u044b\\u0439\", \"\\u0441\\u043e\\u0446\\u0438\\u0430\\u043b\\u044c\\u043d\\u044b\\u0439\", \"\\u0441\\u043e\\u0447\\u0438\", \"\\u0441\\u043f\\u0435\\u0446\\u0438\\u0430\\u043b\\u044c\\u043d\\u043e\", \"\\u0441\\u043f\\u0438\\u043a\\u0435\\u0440\", \"\\u0441\\u043f\\u043e\\u0440\\u0442\\u0438\\u0432\\u043d\\u044b\\u0439\", \"\\u0441\\u043f\\u043e\\u0441\\u043e\\u0431\\u043d\\u044b\\u0439\", \"\\u0441\\u043f\\u0443\\u0442\\u043d\\u0438\\u043a\", \"\\u0441\\u0440\\u0430\\u0432\\u043d\\u0435\\u043d\\u0438\\u0435\", \"\\u0441\\u0440\\u0430\\u0432\\u043d\\u0435\\u043d\\u0438\\u0435\", \"\\u0441\\u0440\\u0435\\u0434\\u0441\\u0442\\u0432\\u043e\", \"\\u0441\\u0440\\u0435\\u0434\\u0441\\u0442\\u0432\\u043e\", \"\\u0441\\u0440\\u0435\\u0434\\u0441\\u0442\\u0432\\u043e\", \"\\u0441\\u0440\\u0435\\u0434\\u0441\\u0442\\u0432\\u043e\", \"\\u0441\\u0440\\u0435\\u0434\\u0441\\u0442\\u0432\\u043e\", \"\\u0441\\u0440\\u0435\\u0434\\u0441\\u0442\\u0432\\u043e\", \"\\u0441\\u0440\\u0435\\u0434\\u0441\\u0442\\u0432\\u043e\", \"\\u0441\\u0441\\u044b\\u043b\\u043a\\u0430\", \"\\u0441\\u0441\\u044b\\u043b\\u043a\\u0430\", \"\\u0441\\u0441\\u044b\\u043b\\u043a\\u0430\", \"\\u0441\\u0441\\u044b\\u043b\\u043a\\u0430\", \"\\u0441\\u0441\\u044b\\u043b\\u043a\\u0430\", \"\\u0441\\u0441\\u044b\\u043b\\u043a\\u0430\", \"\\u0441\\u0441\\u044b\\u043b\\u043a\\u0430\", \"\\u0441\\u0441\\u044b\\u043b\\u043a\\u0430\", \"\\u0441\\u0441\\u044b\\u043b\\u043a\\u0430\", \"\\u0441\\u0441\\u044b\\u043b\\u043a\\u0430\", \"\\u0441\\u0441\\u044b\\u043b\\u043a\\u0430\", \"\\u0441\\u0442\\u0430\\u0432\\u043a\\u0430\", \"\\u0441\\u0442\\u0430\\u043d\\u0446\\u0438\\u044f\", \"\\u0441\\u0442\\u0430\\u0442\\u044c\", \"\\u0441\\u0442\\u0430\\u0442\\u044c\", \"\\u0441\\u0442\\u0430\\u0442\\u044c\", \"\\u0441\\u0442\\u0430\\u0442\\u044c\", \"\\u0441\\u0442\\u0430\\u0442\\u044c\", \"\\u0441\\u0442\\u0430\\u0442\\u044c\", \"\\u0441\\u0442\\u0430\\u0442\\u044c\", \"\\u0441\\u0442\\u0430\\u0442\\u044c\", \"\\u0441\\u0442\\u0430\\u0442\\u044c\", \"\\u0441\\u0442\\u0430\\u0442\\u044c\", \"\\u0441\\u0442\\u0430\\u0442\\u044c\\u044f\", \"\\u0441\\u0442\\u0430\\u0442\\u044c\\u044f\", \"\\u0441\\u0442\\u0430\\u0442\\u044c\\u044f\", \"\\u0441\\u0442\\u0430\\u0442\\u044c\\u044f\", \"\\u0441\\u0442\\u0430\\u0442\\u044c\\u044f\", \"\\u0441\\u0442\\u0435\\u043d\\u0430\", \"\\u0441\\u0442\\u043e\\u0438\\u043c\\u043e\\u0441\\u0442\\u044c\", \"\\u0441\\u0442\\u043e\\u0438\\u043c\\u043e\\u0441\\u0442\\u044c\", \"\\u0441\\u0442\\u043e\\u0438\\u0442\\u044c\", \"\\u0441\\u0442\\u043e\\u043b\\u043a\\u043d\\u043e\\u0432\\u0435\\u043d\\u0438\\u0435\", \"\\u0441\\u0442\\u043e\\u043b\\u043a\\u043d\\u0443\\u0442\\u044c\\u0441\\u044f\", \"\\u0441\\u0442\\u043e\\u0440\\u043e\\u043d\\u0430\", \"\\u0441\\u0442\\u043e\\u0440\\u043e\\u043d\\u0430\", \"\\u0441\\u0442\\u043e\\u0440\\u043e\\u043d\\u0430\", \"\\u0441\\u0442\\u043e\\u0440\\u043e\\u043d\\u0430\", \"\\u0441\\u0442\\u043e\\u0440\\u043e\\u043d\\u0430\", \"\\u0441\\u0442\\u043e\\u0440\\u043e\\u043d\\u0430\", \"\\u0441\\u0442\\u043e\\u0440\\u043e\\u043d\\u043d\\u0438\\u043a\", \"\\u0441\\u0442\\u0440\\u0430\\u0436\\u0430\", \"\\u0441\\u0442\\u0440\\u0430\\u043d\\u0430\", \"\\u0441\\u0442\\u0440\\u0430\\u043d\\u0430\", \"\\u0441\\u0442\\u0440\\u0430\\u043d\\u0430\", \"\\u0441\\u0442\\u0440\\u0430\\u043d\\u0430\", \"\\u0441\\u0442\\u0440\\u0430\\u043d\\u0430\", \"\\u0441\\u0442\\u0440\\u043e\\u0438\\u0442\\u0435\\u043b\\u044c\\u0441\\u0442\\u0432\\u043e\", \"\\u0441\\u0443\\u0434\", \"\\u0441\\u0443\\u0434\", \"\\u0441\\u0443\\u0434\", \"\\u0441\\u0443\\u0434\\u0435\\u0431\\u043d\\u044b\\u0439\", \"\\u0441\\u0443\\u0434\\u0435\\u0431\\u043d\\u044b\\u0439\", \"\\u0441\\u0443\\u0434\\u0435\\u0431\\u043d\\u044b\\u0439\", \"\\u0441\\u0443\\u0434\\u043d\\u043e\", \"\\u0441\\u0443\\u0434\\u043d\\u044b\\u0439\", \"\\u0441\\u0443\\u043c\\u043c\\u0430\", \"\\u0441\\u0444\\u043e\\u0440\\u043c\\u0438\\u0440\\u043e\\u0432\\u0430\\u0442\\u044c\", \"\\u0441\\u0447\\u0451\\u0442\", \"\\u0441\\u0447\\u0451\\u0442\", \"\\u0441\\u0447\\u0451\\u0442\", \"\\u0441\\u0447\\u0451\\u0442\", \"\\u0441\\u0448\\u0430\", \"\\u0441\\u0448\\u0430\", \"\\u0441\\u0448\\u0430\", \"\\u0441\\u0448\\u0430\", \"\\u0441\\u0448\\u0430\", \"\\u0441\\u044b\\u043d\", \"\\u0442\\u0430\\u043a\\u0436\\u0435\", \"\\u0442\\u0430\\u043a\\u0436\\u0435\", \"\\u0442\\u0430\\u043a\\u0436\\u0435\", \"\\u0442\\u0430\\u043a\\u0436\\u0435\", \"\\u0442\\u0430\\u043a\\u0436\\u0435\", \"\\u0442\\u0430\\u043a\\u0436\\u0435\", \"\\u0442\\u0430\\u043a\\u0436\\u0435\", \"\\u0442\\u0430\\u043a\\u0436\\u0435\", \"\\u0442\\u0430\\u043a\\u0436\\u0435\", \"\\u0442\\u0430\\u043a\\u0436\\u0435\", \"\\u0442\\u0430\\u043a\\u0436\\u0435\", \"\\u0442\\u0430\\u043a\\u0436\\u0435\", \"\\u0442\\u0430\\u043a\\u0436\\u0435\", \"\\u0442\\u0430\\u0441\\u0441\", \"\\u0442\\u0435\\u043b\\u0435\\u043a\\u043e\\u043c\\u043f\\u0430\\u043d\\u0438\\u044f\", \"\\u0442\\u0435\\u043b\\u0435\\u0444\\u043e\\u043d\", \"\\u0442\\u0435\\u043b\\u043e\", \"\\u0442\\u0435\\u0440\\u0430\\u043a\\u0442\", \"\\u0442\\u0435\\u0440\\u0440\\u0438\\u0442\\u043e\\u0440\\u0438\\u044f\", \"\\u0442\\u0435\\u0440\\u0440\\u0438\\u0442\\u043e\\u0440\\u0438\\u044f\", \"\\u0442\\u0435\\u0440\\u0440\\u0438\\u0442\\u043e\\u0440\\u0438\\u044f\", \"\\u0442\\u0435\\u0440\\u0440\\u0438\\u0442\\u043e\\u0440\\u0438\\u044f\", \"\\u0442\\u0435\\u0440\\u0440\\u0438\\u0442\\u043e\\u0440\\u0438\\u044f\", \"\\u0442\\u0435\\u0440\\u0440\\u043e\\u0440\\u0438\\u0441\\u0442\", \"\\u0442\\u0435\\u0440\\u0440\\u043e\\u0440\\u0438\\u0441\\u0442\\u0438\\u0447\\u0435\\u0441\\u043a\\u0438\\u0439\", \"\\u0442\\u0435\\u0445\\u043d\\u043e\\u043b\\u043e\\u0433\\u0438\\u044f\", \"\\u0442\\u043e\\u043d\\u043d\\u0430\", \"\\u0442\\u043e\\u043d\\u043d\\u0430\", \"\\u0442\\u043e\\u043f\", \"\\u0442\\u043e\\u043f\\u043b\\u0438\\u0432\\u043e\", \"\\u0442\\u043e\\u0440\\u0433\", \"\\u0442\\u043e\\u0440\\u0433\\u043e\\u0432\\u044b\\u0439\", \"\\u0442\\u043e\\u0440\\u0433\\u043e\\u0432\\u044b\\u0439\", \"\\u0442\\u0440\\u0430\\u043d\\u0437\\u0438\\u0442\", \"\\u0442\\u0440\\u0435\\u0442\\u0438\\u0439\", \"\\u0442\\u0440\\u0438\\u043b\\u043b\\u0438\\u043e\\u043d\", \"\\u0442\\u0440\\u043e\\u0435\", \"\\u0442\\u0443\\u0440\\u0438\\u0441\\u0442\", \"\\u0442\\u0443\\u0440\\u0446\\u0438\\u044f\", \"\\u0442\\u044b\\u0441\\u044f\\u0447\\u0430\", \"\\u0442\\u044b\\u0441\\u044f\\u0447\\u0430\", \"\\u0442\\u044b\\u0441\\u044f\\u0447\\u0430\", \"\\u0442\\u044b\\u0441\\u044f\\u0447\\u0430\", \"\\u0442\\u044b\\u0441\\u044f\\u0447\\u0430\", \"\\u0442\\u044b\\u0441\\u044f\\u0447\\u0430\", \"\\u0442\\u044b\\u0441\\u044f\\u0447\\u0430\", \"\\u0442\\u044b\\u0441\\u044f\\u0447\\u0430\", \"\\u0442\\u044b\\u0441\\u044f\\u0447\\u0430\", \"\\u0442\\u044e\\u0440\\u0435\\u043c\\u043d\\u044b\\u0439\", \"\\u0442\\u044e\\u0440\\u044c\\u043c\\u0430\", \"\\u0443\\u0431\\u0438\\u0439\\u0441\\u0442\\u0432\\u043e\", \"\\u0443\\u0432\\u0435\\u043b\\u0438\\u0447\\u0438\\u0442\\u044c\", \"\\u0443\\u0432\\u0435\\u043b\\u0438\\u0447\\u0438\\u0442\\u044c\\u0441\\u044f\", \"\\u0443\\u0433\\u043e\\u043b\\u043e\\u0432\\u043d\\u044b\\u0439\", \"\\u0443\\u0434\\u0430\\u0442\\u044c\\u0441\\u044f\", \"\\u0443\\u0434\\u0430\\u0442\\u044c\\u0441\\u044f\", \"\\u0443\\u0434\\u0430\\u0442\\u044c\\u0441\\u044f\", \"\\u0443\\u0434\\u0430\\u0442\\u044c\\u0441\\u044f\", \"\\u0443\\u043a\\u0440\\u0430\\u0438\\u043d\\u0430\", \"\\u0443\\u043a\\u0440\\u0430\\u0438\\u043d\\u0441\\u043a\\u0438\\u0439\", \"\\u0443\\u043b\\u0438\\u0446\\u0430\", \"\\u0443\\u043d\\u0438\\u0432\\u0435\\u0440\\u0441\\u0438\\u0442\\u0435\\u0442\", \"\\u0443\\u043f\\u0430\\u0441\\u0442\\u044c\", \"\\u0443\\u043f\\u0430\\u0441\\u0442\\u044c\", \"\\u0443\\u043f\\u0440\\u0430\\u0432\\u043b\\u0435\\u043d\\u0438\\u0435\", \"\\u0443\\u043f\\u0440\\u0430\\u0432\\u043b\\u0435\\u043d\\u0438\\u0435\", \"\\u0443\\u043f\\u0440\\u0430\\u0432\\u043b\\u0435\\u043d\\u0438\\u0435\", \"\\u0443\\u043f\\u0440\\u0430\\u0432\\u043b\\u0435\\u043d\\u0438\\u0435\", \"\\u0443\\u043f\\u0440\\u0430\\u0432\\u043b\\u0435\\u043d\\u0438\\u0435\", \"\\u0443\\u043f\\u0440\\u0430\\u0432\\u043b\\u0435\\u043d\\u0438\\u0435\", \"\\u0443\\u043f\\u0440\\u0430\\u0432\\u043b\\u0435\\u043d\\u0438\\u0435\", \"\\u0443\\u0440\\u043e\\u0432\\u0435\\u043d\\u044c\", \"\\u0443\\u0440\\u043e\\u0432\\u0435\\u043d\\u044c\", \"\\u0443\\u0440\\u043e\\u0432\\u0435\\u043d\\u044c\", \"\\u0443\\u0440\\u043e\\u0432\\u0435\\u043d\\u044c\", \"\\u0443\\u0441\\u043b\\u043e\\u0432\\u0438\\u0435\", \"\\u0443\\u0441\\u043b\\u043e\\u0432\\u0438\\u0435\", \"\\u0443\\u0441\\u043b\\u043e\\u0432\\u0438\\u0435\", \"\\u0443\\u0441\\u043b\\u043e\\u0432\\u0438\\u0435\", \"\\u0443\\u0441\\u043b\\u043e\\u0432\\u0438\\u0435\", \"\\u0443\\u0441\\u043b\\u043e\\u0432\\u0438\\u0435\", \"\\u0443\\u0441\\u043b\\u043e\\u0432\\u0438\\u0435\", \"\\u0443\\u0441\\u043b\\u0443\\u0433\\u0430\", \"\\u0443\\u0442\\u0432\\u0435\\u0440\\u0434\\u0438\\u0442\\u044c\", \"\\u0443\\u0447\\u0430\\u0441\\u0442\\u0438\\u0435\", \"\\u0443\\u0447\\u0430\\u0441\\u0442\\u0438\\u0435\", \"\\u0443\\u0447\\u0430\\u0441\\u0442\\u0438\\u0435\", \"\\u0443\\u0447\\u0430\\u0441\\u0442\\u0438\\u0435\", \"\\u0443\\u0447\\u0430\\u0441\\u0442\\u0438\\u0435\", \"\\u0443\\u0447\\u0430\\u0441\\u0442\\u0438\\u0435\", \"\\u0443\\u0447\\u0430\\u0441\\u0442\\u0438\\u0435\", \"\\u0443\\u0447\\u0430\\u0441\\u0442\\u0438\\u0435\", \"\\u0443\\u0447\\u0430\\u0441\\u0442\\u043d\\u0438\\u043a\", \"\\u0443\\u0447\\u0430\\u0441\\u0442\\u043d\\u0438\\u043a\", \"\\u0443\\u0447\\u0430\\u0441\\u0442\\u043d\\u0438\\u043a\", \"\\u0443\\u0447\\u0430\\u0441\\u0442\\u043e\\u043a\", \"\\u0443\\u0447\\u0440\\u0435\\u0436\\u0434\\u0435\\u043d\\u0438\\u0435\", \"\\u0443\\u0447\\u0451\\u043d\\u044b\\u0439\", \"\\u0443\\u0447\\u0451\\u0442\", \"\\u0443\\u0447\\u0451\\u0442\", \"\\u0444\\u0430\\u043a\\u0442\", \"\\u0444\\u0430\\u043a\\u0442\", \"\\u0444\\u0435\\u0434\\u0435\\u0440\\u0430\\u043b\\u044c\\u043d\\u044b\\u0439\", \"\\u0444\\u0435\\u0434\\u0435\\u0440\\u0430\\u043b\\u044c\\u043d\\u044b\\u0439\", \"\\u0444\\u0435\\u0434\\u0435\\u0440\\u0430\\u043b\\u044c\\u043d\\u044b\\u0439\", \"\\u0444\\u0435\\u0434\\u0435\\u0440\\u0430\\u043b\\u044c\\u043d\\u044b\\u0439\", \"\\u0444\\u0435\\u0434\\u0435\\u0440\\u0430\\u043b\\u044c\\u043d\\u044b\\u0439\", \"\\u0444\\u0435\\u0434\\u0435\\u0440\\u0430\\u043b\\u044c\\u043d\\u044b\\u0439\", \"\\u0444\\u0435\\u0434\\u0435\\u0440\\u0430\\u043b\\u044c\\u043d\\u044b\\u0439\", \"\\u0444\\u0435\\u0434\\u0435\\u0440\\u0430\\u0446\\u0438\\u044f\", \"\\u0444\\u0438\\u0433\\u0443\\u0440\\u0430\\u043d\\u0442\", \"\\u0444\\u0438\\u043b\\u044c\\u043c\", \"\\u0444\\u0438\\u043d\\u0430\\u043d\\u0441\\u043e\\u0432\\u044b\\u0439\", \"\\u0444\\u0438\\u043d\\u0430\\u043d\\u0441\\u043e\\u0432\\u044b\\u0439\", \"\\u0444\\u0438\\u043d\\u0430\\u043d\\u0441\\u044b\", \"\\u0444\\u0438\\u0440\\u043c\\u0430\", \"\\u0444\\u043e\\u043d\\u0434\", \"\\u0444\\u043e\\u043d\\u0434\", \"\\u0445\\u0430\\u043a\\u0435\\u0440\", \"\\u0445\\u043e\\u043b\\u0434\\u0438\\u043d\\u0433\", \"\\u0445\\u043e\\u0442\\u0435\\u0442\\u044c\", \"\\u0445\\u043e\\u0442\\u0435\\u0442\\u044c\", \"\\u0446\\u0435\\u043b\\u043e\\u0435\", \"\\u0446\\u0435\\u043d\\u0430\", \"\\u0446\\u0435\\u043d\\u0430\", \"\\u0446\\u0435\\u043d\\u043d\\u044b\\u0439\", \"\\u0447\\u0430\\u0441\\u0442\\u044c\", \"\\u0447\\u0430\\u0441\\u0442\\u044c\", \"\\u0447\\u0430\\u0441\\u0442\\u044c\", \"\\u0447\\u0430\\u0441\\u0442\\u044c\", \"\\u0447\\u0430\\u0441\\u0442\\u044c\", \"\\u0447\\u0430\\u0441\\u0442\\u044c\", \"\\u0447\\u0430\\u0441\\u0442\\u044c\", \"\\u0447\\u0430\\u0441\\u0442\\u044c\", \"\\u0447\\u0435\\u043b\\u043e\\u0432\\u0435\\u043a\", \"\\u0447\\u0435\\u043b\\u043e\\u0432\\u0435\\u043a\", \"\\u0447\\u0435\\u043b\\u043e\\u0432\\u0435\\u043a\", \"\\u0447\\u0435\\u043b\\u043e\\u0432\\u0435\\u043a\", \"\\u0447\\u0435\\u043b\\u043e\\u0432\\u0435\\u043a\", \"\\u0447\\u0435\\u043b\\u043e\\u0432\\u0435\\u043a\", \"\\u0447\\u0435\\u0441\\u0442\\u044c\", \"\\u0447\\u0435\\u0447\\u043d\\u044f\", \"\\u0447\\u0438\\u0441\\u043b\\u043e\", \"\\u0447\\u0438\\u0441\\u043b\\u043e\", \"\\u0447\\u0438\\u0441\\u043b\\u043e\", \"\\u0447\\u0438\\u0441\\u043b\\u043e\", \"\\u0447\\u0438\\u0441\\u043b\\u043e\", \"\\u0447\\u0438\\u0441\\u043b\\u043e\", \"\\u0447\\u0438\\u0441\\u043b\\u043e\", \"\\u0447\\u0438\\u0441\\u043b\\u043e\", \"\\u0447\\u0438\\u0441\\u043b\\u043e\", \"\\u0448\\u043e\\u0439\\u0433\\u0443\", \"\\u0448\\u0442\\u0430\\u0442\", \"\\u0448\\u0442\\u0430\\u0442\", \"\\u0448\\u0442\\u0430\\u0442\", \"\\u0448\\u0442\\u0430\\u0442\", \"\\u044d\\u043a\\u0438\\u043f\\u0430\\u0436\", \"\\u044d\\u043a\\u043e\\u043d\\u043e\\u043c\\u0438\\u043a\\u0430\", \"\\u044d\\u043a\\u043e\\u043d\\u043e\\u043c\\u0438\\u0447\\u0435\\u0441\\u043a\\u0438\\u0439\", \"\\u044d\\u043a\\u0441\\u0442\\u0440\\u0435\\u043d\\u043d\\u044b\\u0439\", \"\\u044d\\u0442\\u043e\", \"\\u044d\\u0442\\u043e\", \"\\u044d\\u0442\\u043e\", \"\\u044d\\u0442\\u043e\", \"\\u044d\\u0442\\u043e\", \"\\u044d\\u0442\\u043e\", \"\\u044d\\u0442\\u043e\", \"\\u044d\\u0442\\u043e\", \"\\u044d\\u0442\\u043e\", \"\\u044d\\u0442\\u043e\", \"\\u044d\\u0442\\u043e\", \"\\u044d\\u0442\\u043e\", \"\\u044f\\u0432\\u043b\\u044f\\u0442\\u044c\\u0441\\u044f\", \"\\u044f\\u0432\\u043b\\u044f\\u0442\\u044c\\u0441\\u044f\", \"\\u044f\\u0432\\u043b\\u044f\\u0442\\u044c\\u0441\\u044f\", \"\\u044f\\u0432\\u043b\\u044f\\u0442\\u044c\\u0441\\u044f\", \"\\u044f\\u0432\\u043b\\u044f\\u0442\\u044c\\u0441\\u044f\", \"\\u044f\\u0432\\u043b\\u044f\\u0442\\u044c\\u0441\\u044f\", \"\\u044f\\u0432\\u043b\\u044f\\u0442\\u044c\\u0441\\u044f\", \"\\u044f\\u0432\\u043b\\u044f\\u0442\\u044c\\u0441\\u044f\", \"\\u044f\\u0434\\u0435\\u0440\\u043d\\u044b\\u0439\", \"\\u044f\\u0437\\u044b\\u043a\", \"\\u044f\\u043a\\u043e\\u0431\\u044b\", \"\\u044f\\u043d\\u0432\\u0430\\u0440\\u044c\", \"\\u044f\\u043d\\u0432\\u0430\\u0440\\u044c\", \"\\u044f\\u043d\\u0432\\u0430\\u0440\\u044c\", \"\\u044f\\u043d\\u0432\\u0430\\u0440\\u044c\", \"\\u044f\\u043d\\u0432\\u0430\\u0440\\u044c\", \"\\u044f\\u043d\\u0432\\u0430\\u0440\\u044c\", \"\\u044f\\u043d\\u0432\\u0430\\u0440\\u044c\", \"\\u044f\\u043d\\u0432\\u0430\\u0440\\u044c\", \"\\u044f\\u043f\\u043e\\u043d\\u0438\\u044f\", \"\\u044f\\u043f\\u043e\\u043d\\u0441\\u043a\\u0438\\u0439\"]}, \"R\": 30, \"lambda.step\": 0.01, \"plot.opts\": {\"xlab\": \"PC1\", \"ylab\": \"PC2\"}, \"topic.order\": [4, 2, 8, 9, 15, 13, 5, 12, 6, 10, 7, 11, 1, 14, 3]};\n",
       "\n",
       "function LDAvis_load_lib(url, callback){\n",
       "  var s = document.createElement('script');\n",
       "  s.src = url;\n",
       "  s.async = true;\n",
       "  s.onreadystatechange = s.onload = callback;\n",
       "  s.onerror = function(){console.warn(\"failed to load library \" + url);};\n",
       "  document.getElementsByTagName(\"head\")[0].appendChild(s);\n",
       "}\n",
       "\n",
       "if(typeof(LDAvis) !== \"undefined\"){\n",
       "   // already loaded: just create the visualization\n",
       "   !function(LDAvis){\n",
       "       new LDAvis(\"#\" + \"ldavis_el591403108942837289902740227\", ldavis_el591403108942837289902740227_data);\n",
       "   }(LDAvis);\n",
       "}else if(typeof define === \"function\" && define.amd){\n",
       "   // require.js is available: use it to load d3/LDAvis\n",
       "   require.config({paths: {d3: \"https://d3js.org/d3.v5\"}});\n",
       "   require([\"d3\"], function(d3){\n",
       "      window.d3 = d3;\n",
       "      LDAvis_load_lib(\"https://cdn.jsdelivr.net/gh/bmabey/pyLDAvis@3.3.1/pyLDAvis/js/ldavis.v3.0.0.js\", function(){\n",
       "        new LDAvis(\"#\" + \"ldavis_el591403108942837289902740227\", ldavis_el591403108942837289902740227_data);\n",
       "      });\n",
       "    });\n",
       "}else{\n",
       "    // require.js not available: dynamically load d3 & LDAvis\n",
       "    LDAvis_load_lib(\"https://d3js.org/d3.v5.js\", function(){\n",
       "         LDAvis_load_lib(\"https://cdn.jsdelivr.net/gh/bmabey/pyLDAvis@3.3.1/pyLDAvis/js/ldavis.v3.0.0.js\", function(){\n",
       "                 new LDAvis(\"#\" + \"ldavis_el591403108942837289902740227\", ldavis_el591403108942837289902740227_data);\n",
       "            })\n",
       "         });\n",
       "}\n",
       "</script>"
      ],
      "text/plain": [
       "<IPython.core.display.HTML object>"
      ]
     },
     "execution_count": 46,
     "metadata": {
      "tags": []
     },
     "output_type": "execute_result"
    }
   ],
   "source": [
    "lda_15 = ldamodel.LdaModel(corpus, id2word=dictionary, num_topics=15, chunksize=50, update_every=1, passes=2)\n",
    "vis_data = gensimvis.prepare(lda_15, corpus, dictionary)\n",
    "pyLDAvis.display(vis_data)"
   ]
  },
  {
   "cell_type": "markdown",
   "metadata": {
    "id": "_jHT8lCVCNnZ"
   },
   "source": [
    "На другие способы визуализации тематических моделей можно посмотреть [здесь](https://www.machinelearningplus.com/nlp/topic-modeling-visualization-how-to-present-results-lda-models/#13.-t-SNE-Clustering-Chart)."
   ]
  },
  {
   "cell_type": "markdown",
   "metadata": {
    "id": "al2by6XWCQ5s"
   },
   "source": [
    "### Библиотека BigARTM\n",
    "\n",
    "Теперь попробуем построить модели с помощью библиотеки BigARTM. [Тут](https://github.com/bigartm/bigartm-book/blob/master/ARTM_example_RU.ipynb) и [тут](https://github.com/bigartm/bigartm-book/blob/master/ARTM_tutorial_RU.ipynb) можно посмотреть на примеры использования библиотеки. "
   ]
  },
  {
   "cell_type": "code",
   "execution_count": 55,
   "metadata": {
    "executionInfo": {
     "elapsed": 1046,
     "status": "ok",
     "timestamp": 1617794510128,
     "user": {
      "displayName": "Alexey Tankov",
      "photoUrl": "",
      "userId": "01729535101672247421"
     },
     "user_tz": -180
    },
    "id": "igbBxkV0CJuP"
   },
   "outputs": [],
   "source": [
    "# !apt-get --yes update\n",
    "# !apt-get --yes install git make cmake build-essential libboost-all-dev\n",
    "# !apt-get --yes install python-numpy python-pandas python-scipy\n",
    "# !wget https://bootstrap.pypa.io/get-pip.py\n",
    "# !python get-pip.py\n",
    "# !pip install protobuf tqdm wheel\n",
    "# !git clone --branch=stable https://github.com/bigartm/bigartm.git"
   ]
  },
  {
   "cell_type": "code",
   "execution_count": 59,
   "metadata": {
    "executionInfo": {
     "elapsed": 724,
     "status": "ok",
     "timestamp": 1617794587216,
     "user": {
      "displayName": "Alexey Tankov",
      "photoUrl": "",
      "userId": "01729535101672247421"
     },
     "user_tz": -180
    },
    "id": "3el2uMNjCZGC"
   },
   "outputs": [],
   "source": [
    "# %cd bigartm"
   ]
  },
  {
   "cell_type": "code",
   "execution_count": 60,
   "metadata": {
    "executionInfo": {
     "elapsed": 476,
     "status": "ok",
     "timestamp": 1617794588821,
     "user": {
      "displayName": "Alexey Tankov",
      "photoUrl": "",
      "userId": "01729535101672247421"
     },
     "user_tz": -180
    },
    "id": "C8JBiV5tCaiE"
   },
   "outputs": [],
   "source": [
    "# !mkdir build"
   ]
  },
  {
   "cell_type": "code",
   "execution_count": 61,
   "metadata": {
    "executionInfo": {
     "elapsed": 491,
     "status": "ok",
     "timestamp": 1617794590269,
     "user": {
      "displayName": "Alexey Tankov",
      "photoUrl": "",
      "userId": "01729535101672247421"
     },
     "user_tz": -180
    },
    "id": "J8VbKup5Cbzl"
   },
   "outputs": [],
   "source": [
    "# %cd build"
   ]
  },
  {
   "cell_type": "code",
   "execution_count": 56,
   "metadata": {
    "executionInfo": {
     "elapsed": 1031,
     "status": "ok",
     "timestamp": 1617794510130,
     "user": {
      "displayName": "Alexey Tankov",
      "photoUrl": "",
      "userId": "01729535101672247421"
     },
     "user_tz": -180
    },
    "id": "3j7Gz3H1Cdc8"
   },
   "outputs": [],
   "source": [
    "# !cmake .."
   ]
  },
  {
   "cell_type": "code",
   "execution_count": 57,
   "metadata": {
    "executionInfo": {
     "elapsed": 721,
     "status": "ok",
     "timestamp": 1617794576927,
     "user": {
      "displayName": "Alexey Tankov",
      "photoUrl": "",
      "userId": "01729535101672247421"
     },
     "user_tz": -180
    },
    "id": "epMKS6srCflE"
   },
   "outputs": [],
   "source": [
    "# !make"
   ]
  },
  {
   "cell_type": "code",
   "execution_count": 58,
   "metadata": {
    "executionInfo": {
     "elapsed": 771,
     "status": "ok",
     "timestamp": 1617794580854,
     "user": {
      "displayName": "Alexey Tankov",
      "photoUrl": "",
      "userId": "01729535101672247421"
     },
     "user_tz": -180
    },
    "id": "msQpLlBJChlR"
   },
   "outputs": [],
   "source": [
    "# !make install"
   ]
  },
  {
   "cell_type": "code",
   "execution_count": 62,
   "metadata": {
    "executionInfo": {
     "elapsed": 497,
     "status": "ok",
     "timestamp": 1617794593799,
     "user": {
      "displayName": "Alexey Tankov",
      "photoUrl": "",
      "userId": "01729535101672247421"
     },
     "user_tz": -180
    },
    "id": "tm4gvhTbCjTo"
   },
   "outputs": [],
   "source": [
    "# !pip install python/bigartm*.whl"
   ]
  },
  {
   "cell_type": "markdown",
   "metadata": {
    "id": "E62eIwu5CmBu"
   },
   "source": [
    "### Тематические модели в BigARTM"
   ]
  },
  {
   "cell_type": "code",
   "execution_count": 63,
   "metadata": {
    "executionInfo": {
     "elapsed": 982,
     "status": "ok",
     "timestamp": 1617794597710,
     "user": {
      "displayName": "Alexey Tankov",
      "photoUrl": "",
      "userId": "01729535101672247421"
     },
     "user_tz": -180
    },
    "id": "QNn33j4RCnFi"
   },
   "outputs": [],
   "source": [
    "import artm"
   ]
  },
  {
   "cell_type": "code",
   "execution_count": 64,
   "metadata": {
    "colab": {
     "base_uri": "https://localhost:8080/",
     "height": 35
    },
    "executionInfo": {
     "elapsed": 744,
     "status": "ok",
     "timestamp": 1617794598419,
     "user": {
      "displayName": "Alexey Tankov",
      "photoUrl": "",
      "userId": "01729535101672247421"
     },
     "user_tz": -180
    },
    "id": "NuCCGUYlCpSu",
    "outputId": "4b14f00c-c57e-45f1-e76c-7c1789355591"
   },
   "outputs": [
    {
     "data": {
      "application/vnd.google.colaboratory.intrinsic+json": {
       "type": "string"
      },
      "text/plain": [
       "'0.10.0'"
      ]
     },
     "execution_count": 64,
     "metadata": {
      "tags": []
     },
     "output_type": "execute_result"
    }
   ],
   "source": [
    "artm.version()"
   ]
  },
  {
   "cell_type": "code",
   "execution_count": 65,
   "metadata": {
    "colab": {
     "base_uri": "https://localhost:8080/"
    },
    "executionInfo": {
     "elapsed": 732,
     "status": "ok",
     "timestamp": 1617794601632,
     "user": {
      "displayName": "Alexey Tankov",
      "photoUrl": "",
      "userId": "01729535101672247421"
     },
     "user_tz": -180
    },
    "id": "A0ecWH7YCqnK",
    "outputId": "8b991cfc-6ac3-4fc1-d8f0-ce6da8334fb7"
   },
   "outputs": [
    {
     "data": {
      "text/plain": [
       "config {\n",
       "  topic_name: \"topic_0\"\n",
       "  topic_name: \"topic_1\"\n",
       "  topic_name: \"topic_2\"\n",
       "  topic_name: \"topic_3\"\n",
       "  topic_name: \"topic_4\"\n",
       "  topic_name: \"topic_5\"\n",
       "  topic_name: \"topic_6\"\n",
       "  topic_name: \"topic_7\"\n",
       "  topic_name: \"topic_8\"\n",
       "  topic_name: \"topic_9\"\n",
       "  score_config {\n",
       "    name: \"^^^ItemsProcessedScore^^^\"\n",
       "    type: ScoreType_ItemsProcessed\n",
       "    config: \"\"\n",
       "  }\n",
       "  pwt_name: \"pwt\"\n",
       "  nwt_name: \"nwt\"\n",
       "  num_document_passes: 10\n",
       "  reuse_theta: false\n",
       "  cache_theta: false\n",
       "}\n",
       "score {\n",
       "  name: \"^^^ItemsProcessedScore^^^\"\n",
       "  type: \"N4artm5score14ItemsProcessedE\"\n",
       "}\n",
       "processor_queue_size: 0\n",
       "num_processors: 2"
      ]
     },
     "execution_count": 65,
     "metadata": {
      "tags": []
     },
     "output_type": "execute_result"
    }
   ],
   "source": [
    "artm.ARTM(num_topics=10).info"
   ]
  },
  {
   "cell_type": "markdown",
   "metadata": {
    "id": "_r39MNqoCtT8"
   },
   "source": [
    "Чтобы работать с данными в библиотеке ARTM нужно сперва сделать препроцессинг (мы уже сделали его ранее) и записать данные в [одном из форматов](https://bigartm.readthedocs.io/en/v0.10.1/tutorials/datasets.html), с которыми умеет работать библиотека. Мы конвертируем данные в формат vowpal wabbit:"
   ]
  },
  {
   "cell_type": "markdown",
   "metadata": {
    "id": "VoYnIBHECwMC"
   },
   "source": [
    "doc1 this text will be processed not as bag of words | Some_Author"
   ]
  },
  {
   "cell_type": "code",
   "execution_count": 66,
   "metadata": {
    "executionInfo": {
     "elapsed": 770,
     "status": "ok",
     "timestamp": 1617794606456,
     "user": {
      "displayName": "Alexey Tankov",
      "photoUrl": "",
      "userId": "01729535101672247421"
     },
     "user_tz": -180
    },
    "id": "G_6_uVVbCyUo"
   },
   "outputs": [],
   "source": [
    "data['text'] = data['text'].apply(lambda x: ' '.join(x))"
   ]
  },
  {
   "cell_type": "code",
   "execution_count": 67,
   "metadata": {
    "colab": {
     "base_uri": "https://localhost:8080/"
    },
    "executionInfo": {
     "elapsed": 690,
     "status": "ok",
     "timestamp": 1617794606865,
     "user": {
      "displayName": "Alexey Tankov",
      "photoUrl": "",
      "userId": "01729535101672247421"
     },
     "user_tz": -180
    },
    "id": "SKWNHGR5Cz60",
    "outputId": "dd434a58-26a1-44e9-d83e-be49026c0c92"
   },
   "outputs": [
    {
     "data": {
      "text/plain": [
       "title                                                                                                                                                                                                                                                         ГИБДД уладила конфликт с помешавшим полпреду водителем\n",
       "topic                                                                                                                                                                                                                                                                                                         Россия\n",
       "text     гибдд лишать право автомобилистка помешать кортеж полпред президент уральский федеральный округ николай винниченко это сообщать интерфакс информация агентство административный производство дело прекратить автомобилистка жительница екатеринбург юлия герасимович встретиться начальник свердловский ...\n",
       "tags                                                                                                                                                                                                                                                                                                             Все\n",
       "Name: 389214, dtype: object"
      ]
     },
     "execution_count": 67,
     "metadata": {
      "tags": []
     },
     "output_type": "execute_result"
    }
   ],
   "source": [
    "i = 0\n",
    "d = data.iloc[i]\n",
    "d"
   ]
  },
  {
   "cell_type": "code",
   "execution_count": 68,
   "metadata": {
    "colab": {
     "base_uri": "https://localhost:8080/",
     "height": 86
    },
    "executionInfo": {
     "elapsed": 983,
     "status": "ok",
     "timestamp": 1617794608798,
     "user": {
      "displayName": "Alexey Tankov",
      "photoUrl": "",
      "userId": "01729535101672247421"
     },
     "user_tz": -180
    },
    "id": "Vq7KJdtVFwBA",
    "outputId": "2acd9c88-2560-4ebe-ad55-e7fdb625d56e"
   },
   "outputs": [
    {
     "data": {
      "application/vnd.google.colaboratory.intrinsic+json": {
       "type": "string"
      },
      "text/plain": [
       "'doc0 гибдд лишать право автомобилистка помешать кортеж полпред президент уральский федеральный округ николай винниченко это сообщать интерфакс информация агентство административный производство дело прекратить автомобилистка жительница екатеринбург юлия герасимович встретиться начальник свердловский управление гибдд юрий дёмин согласно сообщение пресс служба который ссылаться агентство дёмин посоветовать тщательно соблюдать правило дорожный движение встреча девушка написать свой блог герасимович уточнять агентство лишить право октябрь пропустить кортеж чиновник дорога екатеринбург произойти написать twitter николай винниченко поздний сообщить заметить это инцидент обещать разобраться ситуация юлия герасимович настаивать правило нарушать |topic Россия'"
      ]
     },
     "execution_count": 68,
     "metadata": {
      "tags": []
     },
     "output_type": "execute_result"
    }
   ],
   "source": [
    "f'doc{i} {d.text} |topic {d.topic}'"
   ]
  },
  {
   "cell_type": "code",
   "execution_count": 69,
   "metadata": {
    "executionInfo": {
     "elapsed": 1014,
     "status": "ok",
     "timestamp": 1617794610058,
     "user": {
      "displayName": "Alexey Tankov",
      "photoUrl": "",
      "userId": "01729535101672247421"
     },
     "user_tz": -180
    },
    "id": "7fTy23bGQFsr"
   },
   "outputs": [],
   "source": [
    "def convert_to_vw_format(index, row):\n",
    "    return f'doc{index} {row.text} |topic {row.topic}'"
   ]
  },
  {
   "cell_type": "code",
   "execution_count": 70,
   "metadata": {
    "executionInfo": {
     "elapsed": 2389,
     "status": "ok",
     "timestamp": 1617794612583,
     "user": {
      "displayName": "Alexey Tankov",
      "photoUrl": "",
      "userId": "01729535101672247421"
     },
     "user_tz": -180
    },
    "id": "LmejfAKIQItb"
   },
   "outputs": [],
   "source": [
    "with open('lenta_wv.wv', 'w') as f:\n",
    "    for index, row in data.iterrows():\n",
    "        vw_string = convert_to_vw_format(index, row)\n",
    "        f.write(vw_string)\n",
    "        f.write('\\n')"
   ]
  },
  {
   "cell_type": "markdown",
   "metadata": {
    "id": "_9B65a_JQM_c"
   },
   "source": [
    "Далее нужно создать объект BatchVectorizer для данных, которые мы записали в формате vowpal wabbit:"
   ]
  },
  {
   "cell_type": "code",
   "execution_count": 71,
   "metadata": {
    "executionInfo": {
     "elapsed": 2814,
     "status": "ok",
     "timestamp": 1617794617125,
     "user": {
      "displayName": "Alexey Tankov",
      "photoUrl": "",
      "userId": "01729535101672247421"
     },
     "user_tz": -180
    },
    "id": "vlhV72h0QKRD"
   },
   "outputs": [],
   "source": [
    "batch_vectorizer = artm.BatchVectorizer(data_path='lenta_wv.wv', \n",
    "                                        data_format='vowpal_wabbit',\n",
    "                                        target_folder='lenta_batches')"
   ]
  },
  {
   "cell_type": "markdown",
   "metadata": {
    "id": "tCVEGYyMQR6E"
   },
   "source": [
    "Попробуем обучить модель LDA для 10 тем:"
   ]
  },
  {
   "cell_type": "code",
   "execution_count": 72,
   "metadata": {
    "colab": {
     "base_uri": "https://localhost:8080/"
    },
    "executionInfo": {
     "elapsed": 23289,
     "status": "ok",
     "timestamp": 1617794638458,
     "user": {
      "displayName": "Alexey Tankov",
      "photoUrl": "",
      "userId": "01729535101672247421"
     },
     "user_tz": -180
    },
    "id": "1llcH9uaQPO2",
    "outputId": "594ee07c-60f2-423e-e724-894d9d5adf3b"
   },
   "outputs": [
    {
     "name": "stdout",
     "output_type": "stream",
     "text": [
      "CPU times: user 37 s, sys: 718 ms, total: 37.7 s\n",
      "Wall time: 21.1 s\n"
     ]
    }
   ],
   "source": [
    "%%time \n",
    "lda = artm.LDA(num_topics=10, alpha=0.1, beta=0.001, \n",
    "               cache_theta=True,\n",
    "               num_document_passes=5, \n",
    "               dictionary=batch_vectorizer.dictionary)\n",
    "\n",
    "lda.fit_offline(batch_vectorizer=batch_vectorizer, \n",
    "                num_collection_passes=10)"
   ]
  },
  {
   "cell_type": "markdown",
   "metadata": {
    "id": "OSoPb86RQYfr"
   },
   "source": [
    "- __fit_offline__ (офлайн алгоритм): много проходов по коллекции, один проход по документу, одно обновление матрицы $\\Phi$ в конце прохода по коллекции. __Лучше использовать при работе с небольшой коллекцией__.\n",
    "\n",
    "\n",
    "- __fit_online__ (онлайн алгоритм) : один проход по коллекции, несколько проходов по документу, несколько обновлений матрицы $\\Phi$ в конце прохода по коллекции. __Лучше использовать при работе с большой коллекцией, или коллекцией с часто меняющимеся темами.__\n",
    "\n",
    "\n",
    "\n",
    "Можем посмотреть на все значения перплексии (для каждой итерации по коллекции из num_collection_passes=10):"
   ]
  },
  {
   "cell_type": "code",
   "execution_count": 73,
   "metadata": {
    "colab": {
     "base_uri": "https://localhost:8080/"
    },
    "executionInfo": {
     "elapsed": 21373,
     "status": "ok",
     "timestamp": 1617794638459,
     "user": {
      "displayName": "Alexey Tankov",
      "photoUrl": "",
      "userId": "01729535101672247421"
     },
     "user_tz": -180
    },
    "id": "rs8M4NPtQViN",
    "outputId": "fa274ebb-aa6f-422c-91b0-ed3555de053f"
   },
   "outputs": [
    {
     "data": {
      "text/plain": [
       "[50112.2109375,\n",
       " 4319.92431640625,\n",
       " 4081.8662109375,\n",
       " 3741.36328125,\n",
       " 3414.951171875,\n",
       " 3167.22509765625,\n",
       " 2992.62060546875,\n",
       " 2870.97607421875,\n",
       " 2786.513916015625,\n",
       " 2726.319580078125]"
      ]
     },
     "execution_count": 73,
     "metadata": {
      "tags": []
     },
     "output_type": "execute_result"
    }
   ],
   "source": [
    "lda.perplexity_value"
   ]
  },
  {
   "cell_type": "code",
   "execution_count": 74,
   "metadata": {
    "colab": {
     "base_uri": "https://localhost:8080/"
    },
    "executionInfo": {
     "elapsed": 21055,
     "status": "ok",
     "timestamp": 1617794638460,
     "user": {
      "displayName": "Alexey Tankov",
      "photoUrl": "",
      "userId": "01729535101672247421"
     },
     "user_tz": -180
    },
    "id": "HZ4HrjarQbsB",
    "outputId": "1cc30245-fdf1-4a94-f7b2-d35b67e399f6"
   },
   "outputs": [
    {
     "data": {
      "text/plain": [
       "7.910707839456314"
      ]
     },
     "execution_count": 74,
     "metadata": {
      "tags": []
     },
     "output_type": "execute_result"
    }
   ],
   "source": [
    "np.log(lda.perplexity_last_value)"
   ]
  },
  {
   "cell_type": "markdown",
   "metadata": {
    "id": "hCJhe3NVQhG0"
   },
   "source": [
    "Посмотрим на топ-10 токенов для каждой из тем:"
   ]
  },
  {
   "cell_type": "code",
   "execution_count": 75,
   "metadata": {
    "colab": {
     "base_uri": "https://localhost:8080/"
    },
    "executionInfo": {
     "elapsed": 18464,
     "status": "ok",
     "timestamp": 1617794638461,
     "user": {
      "displayName": "Alexey Tankov",
      "photoUrl": "",
      "userId": "01729535101672247421"
     },
     "user_tz": -180
    },
    "id": "JxLm7Qo7QfIQ",
    "outputId": "9af83bec-2b13-4a38-9332-0cca4acdbe32"
   },
   "outputs": [
    {
     "name": "stdout",
     "output_type": "stream",
     "text": [
      "Topic #0: ['год', 'процент', 'это', 'миллиард', 'рубль', 'компания', 'россия', 'доллар', 'который', 'банк']\n",
      "Topic #1: ['компания', 'год', 'доллар', 'это', 'который', 'миллион', 'игра', 'сайт', 'пользователь', 'стать']\n",
      "Topic #2: ['который', 'человек', 'свой', 'это', 'слово', 'сообщать', 'москва', 'заявить', 'также', 'ребёнок']\n",
      "Topic #3: ['сша', 'президент', 'это', 'который', 'страна', 'заявить', 'россия', 'год', 'американский', 'российский']\n",
      "Topic #4: ['год', 'это', 'страна', 'россия', 'который', 'правительство', 'заявить', 'решение', 'свой', 'российский']\n",
      "Topic #5: ['россия', 'это', 'самолёт', 'российский', 'военный', 'который', 'год', 'время', 'ракета', 'сообщать']\n",
      "Topic #6: ['год', 'суд', 'дело', 'это', 'который', 'президент', 'выборы', 'свой', 'бывший', 'глава']\n",
      "Topic #7: ['человек', 'город', 'погибнуть', 'сообщать', 'результат', 'произойти', 'это', 'который', 'находиться', 'данные']\n",
      "Topic #8: ['год', 'который', 'это', 'сотрудник', 'задержать', 'человек', 'тысяча', 'сообщать', 'область', 'полиция']\n",
      "Topic #9: ['который', 'год', 'новый', 'сообщать', 'автомобиль', 'машина', 'также', 'время', 'метр', 'китай']\n"
     ]
    }
   ],
   "source": [
    "top_tokens = lda.get_top_tokens(num_tokens=10)\n",
    "for i, token_list in enumerate(top_tokens):\n",
    "     print ('Topic #{0}: {1}'.format(i, token_list))"
   ]
  },
  {
   "cell_type": "markdown",
   "metadata": {
    "id": "RPtPmYEeQlmY"
   },
   "source": [
    "[Более подробный ноутбук про модель LDA](https://github.com/bigartm/bigartm-book/blob/master/LDA_tutorial_RU.ipynb)\n",
    "\n",
    "Теперь построим базовую модель pLSA:"
   ]
  },
  {
   "cell_type": "code",
   "execution_count": 76,
   "metadata": {
    "executionInfo": {
     "elapsed": 17928,
     "status": "ok",
     "timestamp": 1617794638906,
     "user": {
      "displayName": "Alexey Tankov",
      "photoUrl": "",
      "userId": "01729535101672247421"
     },
     "user_tz": -180
    },
    "id": "eeo1v3rIQjF-"
   },
   "outputs": [],
   "source": [
    "plsa = artm.ARTM(num_topics=10, \n",
    "                 dictionary=batch_vectorizer.dictionary)"
   ]
  },
  {
   "cell_type": "markdown",
   "metadata": {
    "id": "sAXpxxVkQp2n"
   },
   "source": [
    "Добавим расчет перплексии:"
   ]
  },
  {
   "cell_type": "code",
   "execution_count": 77,
   "metadata": {
    "executionInfo": {
     "elapsed": 16859,
     "status": "ok",
     "timestamp": 1617794638907,
     "user": {
      "displayName": "Alexey Tankov",
      "photoUrl": "",
      "userId": "01729535101672247421"
     },
     "user_tz": -180
    },
    "id": "XX81RHSSQoG1"
   },
   "outputs": [],
   "source": [
    "plsa.scores.add(artm.PerplexityScore(name='lenta_perplexity_score',\n",
    "                 dictionary=batch_vectorizer.dictionary))"
   ]
  },
  {
   "cell_type": "markdown",
   "metadata": {
    "id": "7URJQFQCQtkL"
   },
   "source": [
    "И TopTokensScore, чтобы взглянуть на самые вероятные слова в каждой теме:"
   ]
  },
  {
   "cell_type": "code",
   "execution_count": 78,
   "metadata": {
    "executionInfo": {
     "elapsed": 14483,
     "status": "ok",
     "timestamp": 1617794638908,
     "user": {
      "displayName": "Alexey Tankov",
      "photoUrl": "",
      "userId": "01729535101672247421"
     },
     "user_tz": -180
    },
    "id": "JrHD4Z0pQsBL"
   },
   "outputs": [],
   "source": [
    "plsa.scores.add(artm.TopTokensScore(name='TopTokensScore', num_tokens=6))"
   ]
  },
  {
   "cell_type": "code",
   "execution_count": 79,
   "metadata": {
    "executionInfo": {
     "elapsed": 58057,
     "status": "ok",
     "timestamp": 1617794683047,
     "user": {
      "displayName": "Alexey Tankov",
      "photoUrl": "",
      "userId": "01729535101672247421"
     },
     "user_tz": -180
    },
    "id": "wExj0lvQQvfN"
   },
   "outputs": [],
   "source": [
    "plsa.fit_offline(batch_vectorizer=batch_vectorizer,\n",
    "                 num_collection_passes=20)"
   ]
  },
  {
   "cell_type": "code",
   "execution_count": 80,
   "metadata": {
    "colab": {
     "base_uri": "https://localhost:8080/"
    },
    "executionInfo": {
     "elapsed": 57579,
     "status": "ok",
     "timestamp": 1617794683050,
     "user": {
      "displayName": "Alexey Tankov",
      "photoUrl": "",
      "userId": "01729535101672247421"
     },
     "user_tz": -180
    },
    "id": "HnvejC6xQxCx",
    "outputId": "dc41318d-6a23-4ea9-b13d-45bc3d2f2b73"
   },
   "outputs": [
    {
     "data": {
      "text/plain": [
       "[49579.25390625,\n",
       " 4215.7548828125,\n",
       " 3876.413818359375,\n",
       " 3470.6689453125,\n",
       " 3156.277099609375,\n",
       " 2951.619384765625,\n",
       " 2822.06884765625,\n",
       " 2737.438720703125,\n",
       " 2678.431884765625,\n",
       " 2633.56787109375,\n",
       " 2597.42626953125,\n",
       " 2567.286865234375,\n",
       " 2542.38037109375,\n",
       " 2522.128662109375,\n",
       " 2505.28125,\n",
       " 2491.31298828125,\n",
       " 2479.479248046875,\n",
       " 2469.060302734375,\n",
       " 2459.851318359375,\n",
       " 2451.991455078125]"
      ]
     },
     "execution_count": 80,
     "metadata": {
      "tags": []
     },
     "output_type": "execute_result"
    }
   ],
   "source": [
    "plsa.score_tracker['lenta_perplexity_score'].value"
   ]
  },
  {
   "cell_type": "code",
   "execution_count": 81,
   "metadata": {
    "colab": {
     "base_uri": "https://localhost:8080/"
    },
    "executionInfo": {
     "elapsed": 56985,
     "status": "ok",
     "timestamp": 1617794683051,
     "user": {
      "displayName": "Alexey Tankov",
      "photoUrl": "",
      "userId": "01729535101672247421"
     },
     "user_tz": -180
    },
    "id": "314qYGgtQz4q",
    "outputId": "4a197ae7-fa4f-42e1-9416-63af989699a4"
   },
   "outputs": [
    {
     "name": "stdout",
     "output_type": "stream",
     "text": [
      "topic_0:  ['год', 'процент', 'доллар', 'компания', 'миллиард', 'рубль']\n",
      "topic_1:  ['компания', 'год', 'который', 'это', 'сайт', 'игра']\n",
      "topic_2:  ['это', 'человек', 'который', 'свой', 'ребёнок', 'год']\n",
      "topic_3:  ['сша', 'президент', 'это', 'россия', 'страна', 'заявить']\n",
      "topic_4:  ['страна', 'который', 'это', 'год', 'россия', 'правительство']\n",
      "topic_5:  ['самолёт', 'год', 'военный', 'это', 'который', 'ракета']\n",
      "topic_6:  ['год', 'суд', 'дело', 'который', 'это', 'выборы']\n",
      "topic_7:  ['человек', 'погибнуть', 'город', 'сообщать', 'результат', 'произойти']\n",
      "topic_8:  ['год', 'задержать', 'который', 'сотрудник', 'это', 'дело']\n",
      "topic_9:  ['который', 'год', 'учёный', 'это', 'мочь', 'исследование']\n"
     ]
    }
   ],
   "source": [
    "for topic_name in plsa.topic_names:\n",
    "    print (topic_name + ': ', plsa.score_tracker['TopTokensScore'].last_tokens[topic_name])"
   ]
  },
  {
   "cell_type": "markdown",
   "metadata": {
    "id": "RrumcF4oQ1jD"
   },
   "source": [
    "Обратите внимание на слова с заглавной буквы: это поле topic из оригинальных данных.\n",
    "\n",
    "Попробуем удалить из словаря слишком редкие и слишком частые токены:"
   ]
  },
  {
   "cell_type": "code",
   "execution_count": 82,
   "metadata": {
    "colab": {
     "base_uri": "https://localhost:8080/"
    },
    "executionInfo": {
     "elapsed": 54803,
     "status": "ok",
     "timestamp": 1617794683051,
     "user": {
      "displayName": "Alexey Tankov",
      "photoUrl": "",
      "userId": "01729535101672247421"
     },
     "user_tz": -180
    },
    "id": "B7lKg3RYQ3YA",
    "outputId": "c91a3aab-db04-4e81-fade-79f3f897b9e4"
   },
   "outputs": [
    {
     "data": {
      "text/plain": [
       "artm.Dictionary(name=500582cc-9f07-491e-9314-d4e295d50650, num_entries=10836)"
      ]
     },
     "execution_count": 82,
     "metadata": {
      "tags": []
     },
     "output_type": "execute_result"
    }
   ],
   "source": [
    "batch_vectorizer.dictionary.filter(min_tf=10, max_tf=5000)"
   ]
  },
  {
   "cell_type": "code",
   "execution_count": 83,
   "metadata": {
    "executionInfo": {
     "elapsed": 91030,
     "status": "ok",
     "timestamp": 1617794719689,
     "user": {
      "displayName": "Alexey Tankov",
      "photoUrl": "",
      "userId": "01729535101672247421"
     },
     "user_tz": -180
    },
    "id": "j3p4pcRjQ5O6"
   },
   "outputs": [],
   "source": [
    "plsa = artm.ARTM(num_topics=10, \n",
    "                 dictionary=batch_vectorizer.dictionary)\n",
    "plsa.scores.add(artm.PerplexityScore(name='lenta_perplexity_score',\n",
    "                dictionary=batch_vectorizer.dictionary))\n",
    "\n",
    "plsa.scores.add(artm.TopTokensScore(name='TopTokensScore', \n",
    "                                    num_tokens=6))\n",
    "plsa.fit_offline(batch_vectorizer=batch_vectorizer, \n",
    "                 num_collection_passes=20)"
   ]
  },
  {
   "cell_type": "code",
   "execution_count": 84,
   "metadata": {
    "colab": {
     "base_uri": "https://localhost:8080/"
    },
    "executionInfo": {
     "elapsed": 90630,
     "status": "ok",
     "timestamp": 1617794719695,
     "user": {
      "displayName": "Alexey Tankov",
      "photoUrl": "",
      "userId": "01729535101672247421"
     },
     "user_tz": -180
    },
    "id": "iwXLMD2rQ6zs",
    "outputId": "8073c286-ae64-4b93-fe79-c932d460e99f"
   },
   "outputs": [
    {
     "data": {
      "text/plain": [
       "[2878.09619140625,\n",
       " 1048.1021728515625,\n",
       " 989.6932373046875,\n",
       " 896.7738647460938,\n",
       " 818.0360717773438,\n",
       " 769.6311645507812,\n",
       " 739.4291381835938,\n",
       " 719.5955810546875,\n",
       " 706.0283203125,\n",
       " 696.0232543945312,\n",
       " 688.2167358398438,\n",
       " 681.94580078125,\n",
       " 676.7537841796875,\n",
       " 672.4481201171875,\n",
       " 668.9486694335938,\n",
       " 666.1277465820312,\n",
       " 663.7756958007812,\n",
       " 661.7407836914062,\n",
       " 659.97509765625,\n",
       " 658.4553833007812]"
      ]
     },
     "execution_count": 84,
     "metadata": {
      "tags": []
     },
     "output_type": "execute_result"
    }
   ],
   "source": [
    "plsa.score_tracker['lenta_perplexity_score'].value"
   ]
  },
  {
   "cell_type": "code",
   "execution_count": 85,
   "metadata": {
    "colab": {
     "base_uri": "https://localhost:8080/"
    },
    "executionInfo": {
     "elapsed": 89988,
     "status": "ok",
     "timestamp": 1617794719696,
     "user": {
      "displayName": "Alexey Tankov",
      "photoUrl": "",
      "userId": "01729535101672247421"
     },
     "user_tz": -180
    },
    "id": "uJWsXNZCQ9Yv",
    "outputId": "75398ef3-bf55-45b6-b004-ab25382239a4"
   },
   "outputs": [
    {
     "name": "stdout",
     "output_type": "stream",
     "text": [
      "topic_0:  ['процент', 'доллар', 'миллиард', 'рубль', 'миллион', 'банк']\n",
      "topic_1:  ['сайт', 'сеть', 'игра', 'новый', 'интернет', 'пользователь']\n",
      "topic_2:  ['выборы', 'партия', 'человек', 'депутат', 'закон', 'госдума']\n",
      "topic_3:  ['президент', 'российский', 'заявить', 'министр', 'украина', 'путин']\n",
      "topic_4:  ['страна', 'сша', 'власть', 'военный', 'заявить', 'американский']\n",
      "topic_5:  ['самолёт', 'военный', 'ракета', 'время', 'система', 'авиакомпания']\n",
      "topic_6:  ['суд', 'дело', 'решение', 'бывший', 'уголовный', 'газета']\n",
      "topic_7:  ['человек', 'город', 'погибнуть', 'произойти', 'результат', 'пострадать']\n",
      "topic_8:  ['задержать', 'полиция', 'летний', 'человек', 'сотрудник', 'убийство']\n",
      "topic_9:  ['учёный', 'мочь', 'сша', 'время', 'опубликовать', 'the']\n"
     ]
    }
   ],
   "source": [
    "for topic_name in plsa.topic_names:\n",
    "    print (topic_name + ': ', plsa.score_tracker['TopTokensScore'].last_tokens[topic_name])"
   ]
  },
  {
   "cell_type": "markdown",
   "metadata": {
    "id": "8IPkM8l-RAE7"
   },
   "source": [
    "__Мультимодальные модели__\n",
    "\n",
    "В библиотеке ARTM можно обучать мультимодальные модели, например, давайте попробуем обучить модель, которая будет учитывать поле topic из наших данных (мы специально записали его отдельно через | )"
   ]
  },
  {
   "cell_type": "code",
   "execution_count": 86,
   "metadata": {
    "executionInfo": {
     "elapsed": 88983,
     "status": "ok",
     "timestamp": 1617794719697,
     "user": {
      "displayName": "Alexey Tankov",
      "photoUrl": "",
      "userId": "01729535101672247421"
     },
     "user_tz": -180
    },
    "id": "6zcWjxy-RBkl"
   },
   "outputs": [],
   "source": [
    "# описываем модель и задаем веса классов\n",
    "martm = artm.ARTM(num_topics=20,\n",
    "                  class_ids={'@default_class': 1.0, '@topic': 5.0}, \n",
    "                  dictionary=batch_vectorizer.dictionary)"
   ]
  },
  {
   "cell_type": "markdown",
   "metadata": {
    "id": "lnXeulANRDKl"
   },
   "source": [
    "Добавим расчет метрик и регуляризаторы:"
   ]
  },
  {
   "cell_type": "code",
   "execution_count": 87,
   "metadata": {
    "executionInfo": {
     "elapsed": 87567,
     "status": "ok",
     "timestamp": 1617794719697,
     "user": {
      "displayName": "Alexey Tankov",
      "photoUrl": "",
      "userId": "01729535101672247421"
     },
     "user_tz": -180
    },
    "id": "Z_op3er9RF8c"
   },
   "outputs": [],
   "source": [
    "martm.scores.add(artm.SparsityPhiScore(name='sparsity_phi_score',\n",
    "                                       class_id='@topic'))\n",
    "\n",
    "martm.scores.add(artm.TopTokensScore(name='TopTokensScore',\n",
    "                                     num_tokens=6))\n",
    "\n",
    "\n",
    "martm.scores.add(artm.PerplexityScore(name='lenta_perplexity_score',\n",
    "                dictionary=batch_vectorizer.dictionary))\n",
    "\n",
    "martm.regularizers.add(artm.DecorrelatorPhiRegularizer(name='decorrelator_phi_def',\n",
    "                    class_ids=['@default_class']))\n",
    "\n",
    "martm.regularizers.add(artm.DecorrelatorPhiRegularizer(name='decorrelator_phi_lab',\n",
    "                        class_ids=['@topic']))"
   ]
  },
  {
   "cell_type": "code",
   "execution_count": 88,
   "metadata": {
    "executionInfo": {
     "elapsed": 113105,
     "status": "ok",
     "timestamp": 1617794745759,
     "user": {
      "displayName": "Alexey Tankov",
      "photoUrl": "",
      "userId": "01729535101672247421"
     },
     "user_tz": -180
    },
    "id": "UjJ0jBpMRHVr"
   },
   "outputs": [],
   "source": [
    "martm.fit_offline(batch_vectorizer=batch_vectorizer, \n",
    "                  num_collection_passes=10)"
   ]
  },
  {
   "cell_type": "code",
   "execution_count": 89,
   "metadata": {
    "colab": {
     "base_uri": "https://localhost:8080/"
    },
    "executionInfo": {
     "elapsed": 112033,
     "status": "ok",
     "timestamp": 1617794745760,
     "user": {
      "displayName": "Alexey Tankov",
      "photoUrl": "",
      "userId": "01729535101672247421"
     },
     "user_tz": -180
    },
    "id": "oxy2yVhrRIsI",
    "outputId": "b0bca78f-4186-41c8-87bf-cfa86be57923"
   },
   "outputs": [
    {
     "data": {
      "text/plain": [
       "[3039.455078125,\n",
       " 1085.228759765625,\n",
       " 985.7388916015625,\n",
       " 857.0536499023438,\n",
       " 770.3557739257812,\n",
       " 718.71923828125,\n",
       " 686.3123168945312,\n",
       " 664.5781860351562,\n",
       " 649.1689453125,\n",
       " 638.0204467773438]"
      ]
     },
     "execution_count": 89,
     "metadata": {
      "tags": []
     },
     "output_type": "execute_result"
    }
   ],
   "source": [
    "martm.score_tracker['lenta_perplexity_score'].value"
   ]
  },
  {
   "cell_type": "code",
   "execution_count": 90,
   "metadata": {
    "colab": {
     "base_uri": "https://localhost:8080/"
    },
    "executionInfo": {
     "elapsed": 111142,
     "status": "ok",
     "timestamp": 1617794745760,
     "user": {
      "displayName": "Alexey Tankov",
      "photoUrl": "",
      "userId": "01729535101672247421"
     },
     "user_tz": -180
    },
    "id": "bQlI_9U-RKDa",
    "outputId": "b4606d50-171b-43fb-b701-2a02d7670087"
   },
   "outputs": [
    {
     "name": "stdout",
     "output_type": "stream",
     "text": [
      "topic_0:  ['учёный', 'мочь', 'исследование', 'являться', 'новый', 'система']\n",
      "topic_1:  ['доллар', 'миллион', 'рубль', 'миллиард', 'евро', 'стоимость']\n",
      "topic_2:  ['человек', 'партия', 'заявить', 'весь', 'право', 'страна']\n",
      "topic_3:  ['российский', 'страна', 'президент', 'заявить', 'глава', 'министр']\n",
      "topic_4:  ['банк', 'страна', 'правительство', 'решение', 'организация', 'российский']\n",
      "topic_5:  ['военный', 'ракета', 'самолёт', 'сша', 'оборона', 'корабль']\n",
      "topic_6:  ['игра', 'пост', 'новый', 'стать', 'первый', 'должность']\n",
      "topic_7:  ['человек', 'произойти', 'город', 'погибнуть', 'результат', 'пострадать']\n",
      "topic_8:  ['полиция', 'летний', 'человек', 'полицейский', 'время', 'арестовать']\n",
      "topic_9:  ['президент', 'сша', 'американский', 'заявить', 'лидер', 'выборы']\n",
      "topic_10:  ['суд', 'дело', 'решение', 'бывший', 'адвокат', 'признать']\n",
      "topic_11:  ['интернет', 'пользователь', 'сайт', 'сеть', 'сервис', 'устройство']\n",
      "topic_12:  ['сотрудник', 'задержать', 'дело', 'орган', 'убийство', 'информация']\n",
      "topic_13:  ['тысяча', 'мир', 'место', 'самый', 'издание', 'стать']\n",
      "topic_14:  ['боевик', 'газ', 'израиль', 'террорист', 'аль', 'военный']\n",
      "topic_15:  ['обнаружить', 'тело', 'человек', 'вода', 'найти', 'помощь']\n",
      "topic_16:  ['акция', 'москва', 'движение', 'лидер', 'площадь', 'участник']\n",
      "topic_17:  ['нефть', 'акция', 'пункт', 'сша', 'доллар', 'индекс']\n",
      "topic_18:  ['самолёт', 'аэропорт', 'пассажир', 'авиакомпания', 'борт', 'время']\n",
      "topic_19:  ['процент', 'рубль', 'миллиард', 'рост', 'составить', 'бюджет']\n"
     ]
    }
   ],
   "source": [
    "for topic_name in martm.topic_names:\n",
    "    print (topic_name + ': ', martm.score_tracker['TopTokensScore'].last_tokens[topic_name])"
   ]
  },
  {
   "cell_type": "markdown",
   "metadata": {
    "id": "rerZr7n_RLjm"
   },
   "source": [
    "Сравним обычную модель pLSA и модель mARTM:"
   ]
  },
  {
   "cell_type": "code",
   "execution_count": 91,
   "metadata": {
    "executionInfo": {
     "elapsed": 108878,
     "status": "ok",
     "timestamp": 1617794745761,
     "user": {
      "displayName": "Alexey Tankov",
      "photoUrl": "",
      "userId": "01729535101672247421"
     },
     "user_tz": -180
    },
    "id": "85-XKiH_RMtK"
   },
   "outputs": [],
   "source": [
    "model_plsa = artm.ARTM(topic_names=['topic_{}'.format(i) for i in range(20)],\n",
    "                       scores=[artm.PerplexityScore(name='PerplexityScore',\n",
    "                       dictionary=batch_vectorizer.dictionary)],\n",
    "                       cache_theta=True)\n",
    "\n",
    "model_martm = artm.ARTM(topic_names=['topic_{}'.format(i) for i in range(20)],\n",
    "                       scores=[artm.PerplexityScore(name='PerplexityScore',\n",
    "                       dictionary=batch_vectorizer.dictionary)],\n",
    "                       regularizers=[artm.SmoothSparseThetaRegularizer(name='SparseTheta', tau=-0.15)],\n",
    "                       cache_theta=True,\n",
    "                        class_ids={'@default_class': 1.0, '@topic': 5.0}, \n",
    "                  dictionary=batch_vectorizer.dictionary)"
   ]
  },
  {
   "cell_type": "code",
   "execution_count": 92,
   "metadata": {
    "executionInfo": {
     "elapsed": 108515,
     "status": "ok",
     "timestamp": 1617794745762,
     "user": {
      "displayName": "Alexey Tankov",
      "photoUrl": "",
      "userId": "01729535101672247421"
     },
     "user_tz": -180
    },
    "id": "zPjnZr3ERN_N"
   },
   "outputs": [],
   "source": [
    "model_martm.scores.add(artm.SparsityPhiScore(name='SparsityPhiScore'))\n",
    "model_martm.scores.add(artm.SparsityThetaScore(name='SparsityThetaScore'))\n",
    "\n",
    "model_plsa.scores.add(artm.SparsityPhiScore(name='SparsityPhiScore'))\n",
    "model_plsa.scores.add(artm.SparsityThetaScore(name='SparsityThetaScore'))"
   ]
  },
  {
   "cell_type": "code",
   "execution_count": 93,
   "metadata": {
    "executionInfo": {
     "elapsed": 108332,
     "status": "ok",
     "timestamp": 1617794746222,
     "user": {
      "displayName": "Alexey Tankov",
      "photoUrl": "",
      "userId": "01729535101672247421"
     },
     "user_tz": -180
    },
    "id": "fni2JRHDRPUw"
   },
   "outputs": [],
   "source": [
    "model_plsa.initialize(dictionary=batch_vectorizer.dictionary)\n",
    "model_martm.initialize(dictionary=batch_vectorizer.dictionary)"
   ]
  },
  {
   "cell_type": "code",
   "execution_count": 94,
   "metadata": {
    "executionInfo": {
     "elapsed": 182049,
     "status": "ok",
     "timestamp": 1617794820581,
     "user": {
      "displayName": "Alexey Tankov",
      "photoUrl": "",
      "userId": "01729535101672247421"
     },
     "user_tz": -180
    },
    "id": "U5ui1UZtRQoK"
   },
   "outputs": [],
   "source": [
    "model_martm.num_document_passes = 1\n",
    "model_plsa.num_document_passes = 1\n",
    "\n",
    "model_martm.fit_offline(batch_vectorizer=batch_vectorizer, \n",
    "                        num_collection_passes=20)\n",
    "model_plsa.fit_offline(batch_vectorizer=batch_vectorizer,\n",
    "                       num_collection_passes=20)"
   ]
  },
  {
   "cell_type": "code",
   "execution_count": 95,
   "metadata": {
    "colab": {
     "base_uri": "https://localhost:8080/",
     "height": 296
    },
    "executionInfo": {
     "elapsed": 180707,
     "status": "ok",
     "timestamp": 1617794820585,
     "user": {
      "displayName": "Alexey Tankov",
      "photoUrl": "",
      "userId": "01729535101672247421"
     },
     "user_tz": -180
    },
    "id": "px1PnomeRSA2",
    "outputId": "28b9dfce-62d3-4ba1-92a1-ae6a705d43c8"
   },
   "outputs": [
    {
     "name": "stdout",
     "output_type": "stream",
     "text": [
      "Perplexity: 823.618 (pLSA) vs. 868.974 (mARTM)\n"
     ]
    },
    {
     "data": {
      "image/png": "[encoded data removed]",
      "text/plain": [
       "<Figure size 432x288 with 1 Axes>"
      ]
     },
     "metadata": {
      "needs_background": "light",
      "tags": []
     },
     "output_type": "display_data"
    }
   ],
   "source": [
    "def print_measures(model_plsa, model_martm):\n",
    "\n",
    "    print ('Perplexity: {0:.3f} (pLSA) vs. {1:.3f} (mARTM)'.format(\n",
    "        model_plsa.score_tracker['PerplexityScore'].last_value,\n",
    "        model_martm.score_tracker['PerplexityScore'].last_value))\n",
    "\n",
    "    plt.plot(range(model_plsa.num_phi_updates), model_plsa.score_tracker['PerplexityScore'].value, 'b--',\n",
    "             range(model_martm.num_phi_updates), model_martm.score_tracker['PerplexityScore'].value, 'r--', linewidth=2)\n",
    "    \n",
    "    plt.xlabel('Iterations count')\n",
    "    plt.ylabel('pLSA perp. (blue), mARTM perp. (red)')\n",
    "    plt.grid(True)\n",
    "    plt.show()\n",
    "    \n",
    "print_measures(model_plsa, model_martm)"
   ]
  },
  {
   "cell_type": "code",
   "execution_count": null,
   "metadata": {
    "id": "NQ1eVYVaRXfm"
   },
   "outputs": [],
   "source": []
  }
 ],
 "metadata": {
  "colab": {
   "collapsed_sections": [],
   "name": "hw_04.ipynb",
   "provenance": []
  },
  "kernelspec": {
   "display_name": "Python 3",
   "language": "python",
   "name": "python3"
  },
  "language_info": {
   "codemirror_mode": {
    "name": "ipython",
    "version": 3
   },
   "file_extension": ".py",
   "mimetype": "text/x-python",
   "name": "python",
   "nbconvert_exporter": "python",
   "pygments_lexer": "ipython3",
   "version": "3.8.8"
  },
  "widgets": {
   "application/vnd.jupyter.widget-state+json": {
    "18a9add840d44b4abfa4d5edf2a6ca4d": {
     "model_module": "@jupyter-widgets/base",
     "model_name": "LayoutModel",
     "state": {
      "_model_module": "@jupyter-widgets/base",
      "_model_module_version": "1.2.0",
      "_model_name": "LayoutModel",
      "_view_count": null,
      "_view_module": "@jupyter-widgets/base",
      "_view_module_version": "1.2.0",
      "_view_name": "LayoutView",
      "align_content": null,
      "align_items": null,
      "align_self": null,
      "border": null,
      "bottom": null,
      "display": null,
      "flex": null,
      "flex_flow": null,
      "grid_area": null,
      "grid_auto_columns": null,
      "grid_auto_flow": null,
      "grid_auto_rows": null,
      "grid_column": null,
      "grid_gap": null,
      "grid_row": null,
      "grid_template_areas": null,
      "grid_template_columns": null,
      "grid_template_rows": null,
      "height": null,
      "justify_content": null,
      "justify_items": null,
      "left": null,
      "margin": null,
      "max_height": null,
      "max_width": null,
      "min_height": null,
      "min_width": null,
      "object_fit": null,
      "object_position": null,
      "order": null,
      "overflow": null,
      "overflow_x": null,
      "overflow_y": null,
      "padding": null,
      "right": null,
      "top": null,
      "visibility": null,
      "width": null
     }
    },
    "1994c7551a854981a53e0cf6074a4215": {
     "model_module": "@jupyter-widgets/controls",
     "model_name": "DescriptionStyleModel",
     "state": {
      "_model_module": "@jupyter-widgets/controls",
      "_model_module_version": "1.5.0",
      "_model_name": "DescriptionStyleModel",
      "_view_count": null,
      "_view_module": "@jupyter-widgets/base",
      "_view_module_version": "1.2.0",
      "_view_name": "StyleView",
      "description_width": ""
     }
    },
    "1a602c9cfbc8423a8abec2a6ce0b72f0": {
     "model_module": "@jupyter-widgets/base",
     "model_name": "LayoutModel",
     "state": {
      "_model_module": "@jupyter-widgets/base",
      "_model_module_version": "1.2.0",
      "_model_name": "LayoutModel",
      "_view_count": null,
      "_view_module": "@jupyter-widgets/base",
      "_view_module_version": "1.2.0",
      "_view_name": "LayoutView",
      "align_content": null,
      "align_items": null,
      "align_self": null,
      "border": null,
      "bottom": null,
      "display": null,
      "flex": null,
      "flex_flow": null,
      "grid_area": null,
      "grid_auto_columns": null,
      "grid_auto_flow": null,
      "grid_auto_rows": null,
      "grid_column": null,
      "grid_gap": null,
      "grid_row": null,
      "grid_template_areas": null,
      "grid_template_columns": null,
      "grid_template_rows": null,
      "height": null,
      "justify_content": null,
      "justify_items": null,
      "left": null,
      "margin": null,
      "max_height": null,
      "max_width": null,
      "min_height": null,
      "min_width": null,
      "object_fit": null,
      "object_position": null,
      "order": null,
      "overflow": null,
      "overflow_x": null,
      "overflow_y": null,
      "padding": null,
      "right": null,
      "top": null,
      "visibility": null,
      "width": null
     }
    },
    "1b4803be4ada403cbf7fd7f1dabd7a49": {
     "model_module": "@jupyter-widgets/controls",
     "model_name": "FloatProgressModel",
     "state": {
      "_dom_classes": [],
      "_model_module": "@jupyter-widgets/controls",
      "_model_module_version": "1.5.0",
      "_model_name": "FloatProgressModel",
      "_view_count": null,
      "_view_module": "@jupyter-widgets/controls",
      "_view_module_version": "1.5.0",
      "_view_name": "ProgressView",
      "bar_style": "success",
      "description": "100%",
      "description_tooltip": null,
      "layout": "IPY_MODEL_18a9add840d44b4abfa4d5edf2a6ca4d",
      "max": 10000,
      "min": 0,
      "orientation": "horizontal",
      "style": "IPY_MODEL_2109bf60a917446fac647fbd56489a07",
      "value": 10000
     }
    },
    "2109bf60a917446fac647fbd56489a07": {
     "model_module": "@jupyter-widgets/controls",
     "model_name": "ProgressStyleModel",
     "state": {
      "_model_module": "@jupyter-widgets/controls",
      "_model_module_version": "1.5.0",
      "_model_name": "ProgressStyleModel",
      "_view_count": null,
      "_view_module": "@jupyter-widgets/base",
      "_view_module_version": "1.2.0",
      "_view_name": "StyleView",
      "bar_color": null,
      "description_width": "initial"
     }
    },
    "2b5e4f5cc75b4915ab8e6dbeacee78e5": {
     "model_module": "@jupyter-widgets/controls",
     "model_name": "HBoxModel",
     "state": {
      "_dom_classes": [],
      "_model_module": "@jupyter-widgets/controls",
      "_model_module_version": "1.5.0",
      "_model_name": "HBoxModel",
      "_view_count": null,
      "_view_module": "@jupyter-widgets/controls",
      "_view_module_version": "1.5.0",
      "_view_name": "HBoxView",
      "box_style": "",
      "children": [
       "IPY_MODEL_1b4803be4ada403cbf7fd7f1dabd7a49",
       "IPY_MODEL_ad2a3834344f49c7933a5ebe07f86f63"
      ],
      "layout": "IPY_MODEL_1a602c9cfbc8423a8abec2a6ce0b72f0"
     }
    },
    "2f59964566df486e988fa5672121ee20": {
     "model_module": "@jupyter-widgets/base",
     "model_name": "LayoutModel",
     "state": {
      "_model_module": "@jupyter-widgets/base",
      "_model_module_version": "1.2.0",
      "_model_name": "LayoutModel",
      "_view_count": null,
      "_view_module": "@jupyter-widgets/base",
      "_view_module_version": "1.2.0",
      "_view_name": "LayoutView",
      "align_content": null,
      "align_items": null,
      "align_self": null,
      "border": null,
      "bottom": null,
      "display": null,
      "flex": null,
      "flex_flow": null,
      "grid_area": null,
      "grid_auto_columns": null,
      "grid_auto_flow": null,
      "grid_auto_rows": null,
      "grid_column": null,
      "grid_gap": null,
      "grid_row": null,
      "grid_template_areas": null,
      "grid_template_columns": null,
      "grid_template_rows": null,
      "height": null,
      "justify_content": null,
      "justify_items": null,
      "left": null,
      "margin": null,
      "max_height": null,
      "max_width": null,
      "min_height": null,
      "min_width": null,
      "object_fit": null,
      "object_position": null,
      "order": null,
      "overflow": null,
      "overflow_x": null,
      "overflow_y": null,
      "padding": null,
      "right": null,
      "top": null,
      "visibility": null,
      "width": null
     }
    },
    "35c83088d4764d92a026d4bd3bb2b695": {
     "model_module": "@jupyter-widgets/controls",
     "model_name": "FloatProgressModel",
     "state": {
      "_dom_classes": [],
      "_model_module": "@jupyter-widgets/controls",
      "_model_module_version": "1.5.0",
      "_model_name": "FloatProgressModel",
      "_view_count": null,
      "_view_module": "@jupyter-widgets/controls",
      "_view_module_version": "1.5.0",
      "_view_name": "ProgressView",
      "bar_style": "success",
      "description": "100%",
      "description_tooltip": null,
      "layout": "IPY_MODEL_c40e3696bd3d42898283c6306836d677",
      "max": 14,
      "min": 0,
      "orientation": "horizontal",
      "style": "IPY_MODEL_56e98199041c4ad5a4fa098386dcbe62",
      "value": 14
     }
    },
    "420c6f06ece74bab8be2dd99e8c4031d": {
     "model_module": "@jupyter-widgets/controls",
     "model_name": "HTMLModel",
     "state": {
      "_dom_classes": [],
      "_model_module": "@jupyter-widgets/controls",
      "_model_module_version": "1.5.0",
      "_model_name": "HTMLModel",
      "_view_count": null,
      "_view_module": "@jupyter-widgets/controls",
      "_view_module_version": "1.5.0",
      "_view_name": "HTMLView",
      "description": "",
      "description_tooltip": null,
      "layout": "IPY_MODEL_9a792e7fc79945edaba128cf73c58cae",
      "placeholder": "​",
      "style": "IPY_MODEL_97f0d904599c44e2ba5fa9f3368cae87",
      "value": " 14/14 [27:42&lt;00:00, 118.75s/it]"
     }
    },
    "56e98199041c4ad5a4fa098386dcbe62": {
     "model_module": "@jupyter-widgets/controls",
     "model_name": "ProgressStyleModel",
     "state": {
      "_model_module": "@jupyter-widgets/controls",
      "_model_module_version": "1.5.0",
      "_model_name": "ProgressStyleModel",
      "_view_count": null,
      "_view_module": "@jupyter-widgets/base",
      "_view_module_version": "1.2.0",
      "_view_name": "StyleView",
      "bar_color": null,
      "description_width": "initial"
     }
    },
    "97f0d904599c44e2ba5fa9f3368cae87": {
     "model_module": "@jupyter-widgets/controls",
     "model_name": "DescriptionStyleModel",
     "state": {
      "_model_module": "@jupyter-widgets/controls",
      "_model_module_version": "1.5.0",
      "_model_name": "DescriptionStyleModel",
      "_view_count": null,
      "_view_module": "@jupyter-widgets/base",
      "_view_module_version": "1.2.0",
      "_view_name": "StyleView",
      "description_width": ""
     }
    },
    "9a792e7fc79945edaba128cf73c58cae": {
     "model_module": "@jupyter-widgets/base",
     "model_name": "LayoutModel",
     "state": {
      "_model_module": "@jupyter-widgets/base",
      "_model_module_version": "1.2.0",
      "_model_name": "LayoutModel",
      "_view_count": null,
      "_view_module": "@jupyter-widgets/base",
      "_view_module_version": "1.2.0",
      "_view_name": "LayoutView",
      "align_content": null,
      "align_items": null,
      "align_self": null,
      "border": null,
      "bottom": null,
      "display": null,
      "flex": null,
      "flex_flow": null,
      "grid_area": null,
      "grid_auto_columns": null,
      "grid_auto_flow": null,
      "grid_auto_rows": null,
      "grid_column": null,
      "grid_gap": null,
      "grid_row": null,
      "grid_template_areas": null,
      "grid_template_columns": null,
      "grid_template_rows": null,
      "height": null,
      "justify_content": null,
      "justify_items": null,
      "left": null,
      "margin": null,
      "max_height": null,
      "max_width": null,
      "min_height": null,
      "min_width": null,
      "object_fit": null,
      "object_position": null,
      "order": null,
      "overflow": null,
      "overflow_x": null,
      "overflow_y": null,
      "padding": null,
      "right": null,
      "top": null,
      "visibility": null,
      "width": null
     }
    },
    "ad2a3834344f49c7933a5ebe07f86f63": {
     "model_module": "@jupyter-widgets/controls",
     "model_name": "HTMLModel",
     "state": {
      "_dom_classes": [],
      "_model_module": "@jupyter-widgets/controls",
      "_model_module_version": "1.5.0",
      "_model_name": "HTMLModel",
      "_view_count": null,
      "_view_module": "@jupyter-widgets/controls",
      "_view_module_version": "1.5.0",
      "_view_name": "HTMLView",
      "description": "",
      "description_tooltip": null,
      "layout": "IPY_MODEL_2f59964566df486e988fa5672121ee20",
      "placeholder": "​",
      "style": "IPY_MODEL_1994c7551a854981a53e0cf6074a4215",
      "value": " 10000/10000 [07:16&lt;00:00, 22.92it/s]"
     }
    },
    "c40e3696bd3d42898283c6306836d677": {
     "model_module": "@jupyter-widgets/base",
     "model_name": "LayoutModel",
     "state": {
      "_model_module": "@jupyter-widgets/base",
      "_model_module_version": "1.2.0",
      "_model_name": "LayoutModel",
      "_view_count": null,
      "_view_module": "@jupyter-widgets/base",
      "_view_module_version": "1.2.0",
      "_view_name": "LayoutView",
      "align_content": null,
      "align_items": null,
      "align_self": null,
      "border": null,
      "bottom": null,
      "display": null,
      "flex": null,
      "flex_flow": null,
      "grid_area": null,
      "grid_auto_columns": null,
      "grid_auto_flow": null,
      "grid_auto_rows": null,
      "grid_column": null,
      "grid_gap": null,
      "grid_row": null,
      "grid_template_areas": null,
      "grid_template_columns": null,
      "grid_template_rows": null,
      "height": null,
      "justify_content": null,
      "justify_items": null,
      "left": null,
      "margin": null,
      "max_height": null,
      "max_width": null,
      "min_height": null,
      "min_width": null,
      "object_fit": null,
      "object_position": null,
      "order": null,
      "overflow": null,
      "overflow_x": null,
      "overflow_y": null,
      "padding": null,
      "right": null,
      "top": null,
      "visibility": null,
      "width": null
     }
    },
    "e979a3c312724c71a86a337c4df1a8e8": {
     "model_module": "@jupyter-widgets/controls",
     "model_name": "HBoxModel",
     "state": {
      "_dom_classes": [],
      "_model_module": "@jupyter-widgets/controls",
      "_model_module_version": "1.5.0",
      "_model_name": "HBoxModel",
      "_view_count": null,
      "_view_module": "@jupyter-widgets/controls",
      "_view_module_version": "1.5.0",
      "_view_name": "HBoxView",
      "box_style": "",
      "children": [
       "IPY_MODEL_35c83088d4764d92a026d4bd3bb2b695",
       "IPY_MODEL_420c6f06ece74bab8be2dd99e8c4031d"
      ],
      "layout": "IPY_MODEL_ffa015fbbb5248aa8bcc2cfabdbd0be8"
     }
    },
    "ffa015fbbb5248aa8bcc2cfabdbd0be8": {
     "model_module": "@jupyter-widgets/base",
     "model_name": "LayoutModel",
     "state": {
      "_model_module": "@jupyter-widgets/base",
      "_model_module_version": "1.2.0",
      "_model_name": "LayoutModel",
      "_view_count": null,
      "_view_module": "@jupyter-widgets/base",
      "_view_module_version": "1.2.0",
      "_view_name": "LayoutView",
      "align_content": null,
      "align_items": null,
      "align_self": null,
      "border": null,
      "bottom": null,
      "display": null,
      "flex": null,
      "flex_flow": null,
      "grid_area": null,
      "grid_auto_columns": null,
      "grid_auto_flow": null,
      "grid_auto_rows": null,
      "grid_column": null,
      "grid_gap": null,
      "grid_row": null,
      "grid_template_areas": null,
      "grid_template_columns": null,
      "grid_template_rows": null,
      "height": null,
      "justify_content": null,
      "justify_items": null,
      "left": null,
      "margin": null,
      "max_height": null,
      "max_width": null,
      "min_height": null,
      "min_width": null,
      "object_fit": null,
      "object_position": null,
      "order": null,
      "overflow": null,
      "overflow_x": null,
      "overflow_y": null,
      "padding": null,
      "right": null,
      "top": null,
      "visibility": null,
      "width": null
     }
    }
   }
  }
 },
 "nbformat": 4,
 "nbformat_minor": 1
}
