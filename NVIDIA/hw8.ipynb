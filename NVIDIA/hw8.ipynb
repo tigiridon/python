{
 "cells": [
  {
   "cell_type": "markdown",
   "metadata": {},
   "source": [
    "# HW 8"
   ]
  },
  {
   "cell_type": "markdown",
   "metadata": {},
   "source": [
    "##### From SAV to LOVE"
   ]
  },
  {
   "cell_type": "markdown",
   "metadata": {
    "id": "3ZrA2tAaZTPf"
   },
   "source": [
    "## Введение в обработку естественного языка\n",
    "### Урок 8. Рекуррентные нейронные сети RNN LSTM GRU"
   ]
  },
  {
   "cell_type": "markdown",
   "metadata": {
    "id": "IkpcHsV8RWHA"
   },
   "source": [
    "### Практическое задание  \n",
    "На вебинаре мы говорили, что долгое время CNN и RNN архитектуры были конурируещими, необходимо выяснить какая архитектура больше подходит для задачи сантимент анализа на данных с вебинара.  \n",
    "1. построить свёрточные архитектуры\n",
    "2. построить различные архитектуры с RNN\n",
    "3. попробовать использовать совместно CNN и RNN\n",
    "4. сдлать выводы что получилось лучше"
   ]
  },
  {
   "cell_type": "markdown",
   "metadata": {
    "id": "tohTjhxVq7dY"
   },
   "source": [
    "### Подключение библиотек и скриптов"
   ]
  },
  {
   "cell_type": "code",
   "execution_count": 1,
   "metadata": {
    "colab": {
     "base_uri": "https://localhost:8080/",
     "height": 17
    },
    "executionInfo": {
     "elapsed": 2715,
     "status": "ok",
     "timestamp": 1619173596832,
     "user": {
      "displayName": "Alexey Tankov",
      "photoUrl": "",
      "userId": "01729535101672247421"
     },
     "user_tz": -180
    },
    "id": "JAFnV_UjZTPT",
    "outputId": "bfec483b-612a-46b6-9a44-2dde9f1c6414"
   },
   "outputs": [
    {
     "data": {
      "text/html": [
       "<style>.container { width:77% !important; }</style>"
      ],
      "text/plain": [
       "<IPython.core.display.HTML object>"
      ]
     },
     "metadata": {},
     "output_type": "display_data"
    }
   ],
   "source": [
    "from IPython.core.display import display, HTML, Image\n",
    "display(HTML(\"<style>.container { width:77% !important; }</style>\"))"
   ]
  },
  {
   "cell_type": "code",
   "execution_count": 2,
   "metadata": {
    "executionInfo": {
     "elapsed": 2646,
     "status": "ok",
     "timestamp": 1619173597208,
     "user": {
      "displayName": "Alexey Tankov",
      "photoUrl": "",
      "userId": "01729535101672247421"
     },
     "user_tz": -180
    },
    "id": "DtDZ7JuBVFi6"
   },
   "outputs": [],
   "source": [
    "import warnings\n",
    "warnings.filterwarnings(\"ignore\")"
   ]
  },
  {
   "cell_type": "code",
   "execution_count": 3,
   "metadata": {
    "colab": {
     "base_uri": "https://localhost:8080/"
    },
    "executionInfo": {
     "elapsed": 12821,
     "status": "ok",
     "timestamp": 1619173607597,
     "user": {
      "displayName": "Alexey Tankov",
      "photoUrl": "",
      "userId": "01729535101672247421"
     },
     "user_tz": -180
    },
    "id": "pGiG-GBID_Cn",
    "outputId": "c592a959-fcab-4e0a-eff9-5f7e2e7c7120"
   },
   "outputs": [],
   "source": [
    "# !pip install stop_words\n",
    "# !pip install pymorphy2\n",
    "# !pip install gensim"
   ]
  },
  {
   "cell_type": "code",
   "execution_count": 4,
   "metadata": {
    "executionInfo": {
     "elapsed": 15837,
     "status": "ok",
     "timestamp": 1619173610776,
     "user": {
      "displayName": "Alexey Tankov",
      "photoUrl": "",
      "userId": "01729535101672247421"
     },
     "user_tz": -180
    },
    "id": "f3wgBldxU7Zz"
   },
   "outputs": [],
   "source": [
    "import time\n",
    "\n",
    "import re\n",
    "import numpy as np\n",
    "import pandas as pd\n",
    "import matplotlib.pyplot as plt\n",
    "%matplotlib inline\n",
    "\n",
    "from string import punctuation\n",
    "from stop_words import get_stop_words\n",
    "from pymorphy2 import MorphAnalyzer\n",
    "\n",
    "import nltk\n",
    "from nltk.tokenize import word_tokenize\n",
    "\n",
    "from gensim.models import Word2Vec, FastText\n",
    "\n",
    "from sklearn.svm import LinearSVC\n",
    "from sklearn.model_selection import train_test_split\n",
    "from sklearn import preprocessing, linear_model\n",
    "from sklearn.metrics import accuracy_score\n",
    "from sklearn.feature_extraction.text import CountVectorizer, TfidfVectorizer, HashingVectorizer\n",
    "\n",
    "import tensorflow as tf\n",
    "from tensorflow.keras.models import Sequential\n",
    "# from tensorflow.keras.layers import Conv2D, MaxPool2D, Dense, Flatten, Dropout, AveragePooling2D, Activation, MaxPooling2D, BatchNormalization, Concatenate\n",
    "from tensorflow.keras import layers\n",
    "from tensorflow.keras import utils\n",
    "from tensorflow.keras import models\n",
    "from tensorflow.keras import callbacks"
   ]
  },
  {
   "cell_type": "code",
   "execution_count": 5,
   "metadata": {
    "colab": {
     "base_uri": "https://localhost:8080/"
    },
    "executionInfo": {
     "elapsed": 16741,
     "status": "ok",
     "timestamp": 1619173611834,
     "user": {
      "displayName": "Alexey Tankov",
      "photoUrl": "",
      "userId": "01729535101672247421"
     },
     "user_tz": -180
    },
    "id": "rusBenAnecx5",
    "outputId": "0f5a7241-eef6-45a7-ab1f-fc67c48c9a3b"
   },
   "outputs": [
    {
     "name": "stderr",
     "output_type": "stream",
     "text": [
      "[nltk_data] Downloading package punkt to\n",
      "[nltk_data]     C:\\Users\\Admin\\AppData\\Roaming\\nltk_data...\n",
      "[nltk_data]   Package punkt is already up-to-date!\n"
     ]
    },
    {
     "data": {
      "text/plain": [
       "True"
      ]
     },
     "execution_count": 5,
     "metadata": {},
     "output_type": "execute_result"
    }
   ],
   "source": [
    "nltk.download('punkt')"
   ]
  },
  {
   "cell_type": "code",
   "execution_count": 6,
   "metadata": {
    "executionInfo": {
     "elapsed": 16550,
     "status": "ok",
     "timestamp": 1619173611836,
     "user": {
      "displayName": "Alexey Tankov",
      "photoUrl": "",
      "userId": "01729535101672247421"
     },
     "user_tz": -180
    },
    "id": "X3KiW0lAqSQB"
   },
   "outputs": [],
   "source": [
    "plt.rcParams.update({'font.size': 14})\n",
    "pd.set_option('precision', 3)\n",
    "pd.set_option('max_columns', 100)\n",
    "pd.set_option('display.float_format', lambda x: '%.5f' % x)\n",
    "pd.set_option('display.max_columns', 500)\n",
    "pd.set_option('display.max_rows', 500)\n",
    "pd.set_option('max_colwidth', 300)"
   ]
  },
  {
   "cell_type": "code",
   "execution_count": 7,
   "metadata": {
    "executionInfo": {
     "elapsed": 16009,
     "status": "ok",
     "timestamp": 1619173611839,
     "user": {
      "displayName": "Alexey Tankov",
      "photoUrl": "",
      "userId": "01729535101672247421"
     },
     "user_tz": -180
    },
    "id": "E4Mkp0dtIXFw"
   },
   "outputs": [],
   "source": [
    "def plot_model(history): \n",
    "    fig, axs = plt.subplots(1, 2, figsize=(16, 5)) \n",
    "    # summarize history for accuracy\n",
    "    axs[0].plot(history.history['accuracy'], 'c') \n",
    "    axs[0].plot(history.history['val_accuracy'],'m') \n",
    "    axs[0].set_title('Accuracy of epochs')\n",
    "    axs[0].set_ylabel('Accuracy') \n",
    "    axs[0].set_xlabel('Epochs')\n",
    "    axs[0].legend(['train', 'validate'], loc='upper left')\n",
    "    # summarize history for loss\n",
    "    axs[1].plot(history.history['loss'], 'c') \n",
    "    axs[1].plot(history.history['val_loss'], 'm') \n",
    "    axs[1].set_title('Model Loss')\n",
    "    axs[1].set_ylabel('Loss') \n",
    "    axs[1].set_xlabel('Epochs')\n",
    "    axs[1].legend(['train', 'validate'], loc='upper left')\n",
    "    plt.show()"
   ]
  },
  {
   "cell_type": "markdown",
   "metadata": {
    "id": "WOstlOWEsCEO"
   },
   "source": [
    "### Tensorflow with GPU"
   ]
  },
  {
   "cell_type": "code",
   "execution_count": 8,
   "metadata": {
    "executionInfo": {
     "elapsed": 646,
     "status": "ok",
     "timestamp": 1619173620768,
     "user": {
      "displayName": "Alexey Tankov",
      "photoUrl": "",
      "userId": "01729535101672247421"
     },
     "user_tz": -180
    },
    "id": "63Fh5919DMp3"
   },
   "outputs": [],
   "source": [
    "# device_name = tf.test.gpu_device_name()\n",
    "# if device_name != '/device:GPU:0':\n",
    "#     raise SystemError('GPU device not found')\n",
    "# print('Found GPU at: {}'.format(device_name))"
   ]
  },
  {
   "cell_type": "markdown",
   "metadata": {
    "id": "sDheo-l_qr1w"
   },
   "source": [
    "### Загрузка данных"
   ]
  },
  {
   "cell_type": "code",
   "execution_count": 9,
   "metadata": {
    "colab": {
     "base_uri": "https://localhost:8080/"
    },
    "executionInfo": {
     "elapsed": 8177,
     "status": "ok",
     "timestamp": 1619173657646,
     "user": {
      "displayName": "Alexey Tankov",
      "photoUrl": "",
      "userId": "01729535101672247421"
     },
     "user_tz": -180
    },
    "id": "_9M2kdxGr7ZC",
    "outputId": "70708708-34e0-477c-e69a-fcd632a949c7"
   },
   "outputs": [],
   "source": [
    "# from google.colab import drive\n",
    "# drive.mount('/content/drive')"
   ]
  },
  {
   "cell_type": "code",
   "execution_count": 103,
   "metadata": {
    "executionInfo": {
     "elapsed": 7563,
     "status": "ok",
     "timestamp": 1619173697115,
     "user": {
      "displayName": "Alexey Tankov",
      "photoUrl": "",
      "userId": "01729535101672247421"
     },
     "user_tz": -180
    },
    "id": "l787K6shqzs3"
   },
   "outputs": [],
   "source": [
    "# df_train = pd.read_csv('/content/drive/MyDrive/Colab Notebooks/my_projects/data/train.csv')\n",
    "# df_test = pd.read_csv('/content/drive/MyDrive/Colab Notebooks/my_projects/data/test.csv')\n",
    "# df_val = pd.read_csv('/content/drive/MyDrive/Colab Notebooks/my_projects/data/val.csv')\n",
    "df_train = pd.read_csv('./data/train.csv')\n",
    "df_test = pd.read_csv('./data/test.csv')\n",
    "df_val = pd.read_csv('./data/val.csv')"
   ]
  },
  {
   "cell_type": "markdown",
   "metadata": {
    "id": "9moPFSBPrTIv"
   },
   "source": [
    "### Изучение датасета"
   ]
  },
  {
   "cell_type": "code",
   "execution_count": 104,
   "metadata": {
    "colab": {
     "base_uri": "https://localhost:8080/",
     "height": 204
    },
    "executionInfo": {
     "elapsed": 10639,
     "status": "ok",
     "timestamp": 1619173700765,
     "user": {
      "displayName": "Alexey Tankov",
      "photoUrl": "",
      "userId": "01729535101672247421"
     },
     "user_tz": -180
    },
    "id": "jgy70r96rYFE",
    "outputId": "e3f9f26d-76f8-497e-9164-a7014a8a9dd3"
   },
   "outputs": [
    {
     "data": {
      "text/html": [
       "<div>\n",
       "<style scoped>\n",
       "    .dataframe tbody tr th:only-of-type {\n",
       "        vertical-align: middle;\n",
       "    }\n",
       "\n",
       "    .dataframe tbody tr th {\n",
       "        vertical-align: top;\n",
       "    }\n",
       "\n",
       "    .dataframe thead th {\n",
       "        text-align: right;\n",
       "    }\n",
       "</style>\n",
       "<table border=\"1\" class=\"dataframe\">\n",
       "  <thead>\n",
       "    <tr style=\"text-align: right;\">\n",
       "      <th></th>\n",
       "      <th>id</th>\n",
       "      <th>text</th>\n",
       "      <th>class</th>\n",
       "    </tr>\n",
       "  </thead>\n",
       "  <tbody>\n",
       "    <tr>\n",
       "      <th>0</th>\n",
       "      <td>0</td>\n",
       "      <td>@alisachachka не уезжаааааааай. :(❤ я тоже не хочу, чтобы ты уезжала.</td>\n",
       "      <td>0</td>\n",
       "    </tr>\n",
       "    <tr>\n",
       "      <th>1</th>\n",
       "      <td>1</td>\n",
       "      <td>RT @GalyginVadim: Ребята и девчата!\\r\\nВсе в кино!!! \"Вот Это Любовь!\"\\r\\nСегодня! Завтра!  И потом!)))))\\r\\n#вотэтолюбовь</td>\n",
       "      <td>1</td>\n",
       "    </tr>\n",
       "    <tr>\n",
       "      <th>2</th>\n",
       "      <td>2</td>\n",
       "      <td>RT @ARTEM_KLYUSHIN: Кто ненавидит пробки ретвит((((( RT</td>\n",
       "      <td>0</td>\n",
       "    </tr>\n",
       "    <tr>\n",
       "      <th>3</th>\n",
       "      <td>3</td>\n",
       "      <td>RT @epupybobv: Хочется котлету по-киевски. Запретный плод. :)</td>\n",
       "      <td>1</td>\n",
       "    </tr>\n",
       "    <tr>\n",
       "      <th>4</th>\n",
       "      <td>4</td>\n",
       "      <td>@KarineKurganova @Yess__Boss босапопа есбоса не боится мороза и .......))</td>\n",
       "      <td>1</td>\n",
       "    </tr>\n",
       "  </tbody>\n",
       "</table>\n",
       "</div>"
      ],
      "text/plain": [
       "   id  \\\n",
       "0   0   \n",
       "1   1   \n",
       "2   2   \n",
       "3   3   \n",
       "4   4   \n",
       "\n",
       "                                                                                                                         text  \\\n",
       "0                                                       @alisachachka не уезжаааааааай. :(❤ я тоже не хочу, чтобы ты уезжала.   \n",
       "1  RT @GalyginVadim: Ребята и девчата!\\r\\nВсе в кино!!! \"Вот Это Любовь!\"\\r\\nСегодня! Завтра!  И потом!)))))\\r\\n#вотэтолюбовь   \n",
       "2                                                                     RT @ARTEM_KLYUSHIN: Кто ненавидит пробки ретвит((((( RT   \n",
       "3                                                               RT @epupybobv: Хочется котлету по-киевски. Запретный плод. :)   \n",
       "4                                                   @KarineKurganova @Yess__Boss босапопа есбоса не боится мороза и .......))   \n",
       "\n",
       "   class  \n",
       "0      0  \n",
       "1      1  \n",
       "2      0  \n",
       "3      1  \n",
       "4      1  "
      ]
     },
     "execution_count": 104,
     "metadata": {},
     "output_type": "execute_result"
    }
   ],
   "source": [
    "df_train.head()"
   ]
  },
  {
   "cell_type": "code",
   "execution_count": 105,
   "metadata": {
    "colab": {
     "base_uri": "https://localhost:8080/",
     "height": 204
    },
    "executionInfo": {
     "elapsed": 10466,
     "status": "ok",
     "timestamp": 1619173700767,
     "user": {
      "displayName": "Alexey Tankov",
      "photoUrl": "",
      "userId": "01729535101672247421"
     },
     "user_tz": -180
    },
    "id": "qXKD0fxG3R5C",
    "outputId": "edc2bedc-6c11-4816-dada-94fc852edd74"
   },
   "outputs": [
    {
     "data": {
      "text/html": [
       "<div>\n",
       "<style scoped>\n",
       "    .dataframe tbody tr th:only-of-type {\n",
       "        vertical-align: middle;\n",
       "    }\n",
       "\n",
       "    .dataframe tbody tr th {\n",
       "        vertical-align: top;\n",
       "    }\n",
       "\n",
       "    .dataframe thead th {\n",
       "        text-align: right;\n",
       "    }\n",
       "</style>\n",
       "<table border=\"1\" class=\"dataframe\">\n",
       "  <thead>\n",
       "    <tr style=\"text-align: right;\">\n",
       "      <th></th>\n",
       "      <th>id</th>\n",
       "      <th>text</th>\n",
       "    </tr>\n",
       "  </thead>\n",
       "  <tbody>\n",
       "    <tr>\n",
       "      <th>0</th>\n",
       "      <td>204150</td>\n",
       "      <td>Тектоника и рельеф-самое ужасное в мире мучение(</td>\n",
       "    </tr>\n",
       "    <tr>\n",
       "      <th>1</th>\n",
       "      <td>204151</td>\n",
       "      <td>Ходили запускать шар желаний, но у нас не получилось(( ну и хрен с ним</td>\n",
       "    </tr>\n",
       "    <tr>\n",
       "      <th>2</th>\n",
       "      <td>204152</td>\n",
       "      <td>Хочу лето только ради того, что бы направить ногти ярким лаком :)</td>\n",
       "    </tr>\n",
       "    <tr>\n",
       "      <th>3</th>\n",
       "      <td>204153</td>\n",
       "      <td>RT @RonyLiss: @colf_ne блин((\\r\\nа я шипперила ФлораБлум\\r\\nИ МузаТекна\\r\\nА Стеллу.. не помню, ахах</td>\n",
       "    </tr>\n",
       "    <tr>\n",
       "      <th>4</th>\n",
       "      <td>204154</td>\n",
       "      <td>RT @anna_romt: @ZADROT_PO_IGRAM блин,каждое воскресенье утром выходит:( а сегодня ..какашка:(просто я иду человека фоткать и мне нужно солн…</td>\n",
       "    </tr>\n",
       "  </tbody>\n",
       "</table>\n",
       "</div>"
      ],
      "text/plain": [
       "       id  \\\n",
       "0  204150   \n",
       "1  204151   \n",
       "2  204152   \n",
       "3  204153   \n",
       "4  204154   \n",
       "\n",
       "                                                                                                                                           text  \n",
       "0                                                                                              Тектоника и рельеф-самое ужасное в мире мучение(  \n",
       "1                                                                        Ходили запускать шар желаний, но у нас не получилось(( ну и хрен с ним  \n",
       "2                                                                             Хочу лето только ради того, что бы направить ногти ярким лаком :)  \n",
       "3                                          RT @RonyLiss: @colf_ne блин((\\r\\nа я шипперила ФлораБлум\\r\\nИ МузаТекна\\r\\nА Стеллу.. не помню, ахах  \n",
       "4  RT @anna_romt: @ZADROT_PO_IGRAM блин,каждое воскресенье утром выходит:( а сегодня ..какашка:(просто я иду человека фоткать и мне нужно солн…  "
      ]
     },
     "execution_count": 105,
     "metadata": {},
     "output_type": "execute_result"
    }
   ],
   "source": [
    "df_test.head()"
   ]
  },
  {
   "cell_type": "code",
   "execution_count": 106,
   "metadata": {
    "colab": {
     "base_uri": "https://localhost:8080/",
     "height": 204
    },
    "executionInfo": {
     "elapsed": 10257,
     "status": "ok",
     "timestamp": 1619173700770,
     "user": {
      "displayName": "Alexey Tankov",
      "photoUrl": "",
      "userId": "01729535101672247421"
     },
     "user_tz": -180
    },
    "id": "uekWFxr63r_9",
    "outputId": "3b59efec-d414-4ac8-d2ac-29a763a8a6de"
   },
   "outputs": [
    {
     "data": {
      "text/html": [
       "<div>\n",
       "<style scoped>\n",
       "    .dataframe tbody tr th:only-of-type {\n",
       "        vertical-align: middle;\n",
       "    }\n",
       "\n",
       "    .dataframe tbody tr th {\n",
       "        vertical-align: top;\n",
       "    }\n",
       "\n",
       "    .dataframe thead th {\n",
       "        text-align: right;\n",
       "    }\n",
       "</style>\n",
       "<table border=\"1\" class=\"dataframe\">\n",
       "  <thead>\n",
       "    <tr style=\"text-align: right;\">\n",
       "      <th></th>\n",
       "      <th>id</th>\n",
       "      <th>text</th>\n",
       "      <th>class</th>\n",
       "    </tr>\n",
       "  </thead>\n",
       "  <tbody>\n",
       "    <tr>\n",
       "      <th>0</th>\n",
       "      <td>181467</td>\n",
       "      <td>RT @TukvaSociopat: Максимальный репост! ))) #євромайдан http://t.co/wxtQ0xGVtp</td>\n",
       "      <td>1</td>\n",
       "    </tr>\n",
       "    <tr>\n",
       "      <th>1</th>\n",
       "      <td>181468</td>\n",
       "      <td>чтоб у меня з.п. ежегодно индексировали на индекс инфляции, как тарифы на автобусы! :(</td>\n",
       "      <td>0</td>\n",
       "    </tr>\n",
       "    <tr>\n",
       "      <th>2</th>\n",
       "      <td>181469</td>\n",
       "      <td>@chilyandlime нехуя мне не хорошо !!! :((((</td>\n",
       "      <td>0</td>\n",
       "    </tr>\n",
       "    <tr>\n",
       "      <th>3</th>\n",
       "      <td>181470</td>\n",
       "      <td>@inafish нее , когда ногами ахахах когда?ахаха честн не помню , я тебе завтра в шк покажу как меня прикона пиздят ~((((</td>\n",
       "      <td>0</td>\n",
       "    </tr>\n",
       "    <tr>\n",
       "      <th>4</th>\n",
       "      <td>181471</td>\n",
       "      <td>Хочу сделать как лучше,  а получаю как всегда. :(</td>\n",
       "      <td>0</td>\n",
       "    </tr>\n",
       "  </tbody>\n",
       "</table>\n",
       "</div>"
      ],
      "text/plain": [
       "       id  \\\n",
       "0  181467   \n",
       "1  181468   \n",
       "2  181469   \n",
       "3  181470   \n",
       "4  181471   \n",
       "\n",
       "                                                                                                                      text  \\\n",
       "0                                           RT @TukvaSociopat: Максимальный репост! ))) #євромайдан http://t.co/wxtQ0xGVtp   \n",
       "1                                   чтоб у меня з.п. ежегодно индексировали на индекс инфляции, как тарифы на автобусы! :(   \n",
       "2                                                                              @chilyandlime нехуя мне не хорошо !!! :((((   \n",
       "3  @inafish нее , когда ногами ахахах когда?ахаха честн не помню , я тебе завтра в шк покажу как меня прикона пиздят ~((((   \n",
       "4                                                                        Хочу сделать как лучше,  а получаю как всегда. :(   \n",
       "\n",
       "   class  \n",
       "0      1  \n",
       "1      0  \n",
       "2      0  \n",
       "3      0  \n",
       "4      0  "
      ]
     },
     "execution_count": 106,
     "metadata": {},
     "output_type": "execute_result"
    }
   ],
   "source": [
    "df_val.head()"
   ]
  },
  {
   "cell_type": "code",
   "execution_count": 107,
   "metadata": {
    "colab": {
     "base_uri": "https://localhost:8080/",
     "height": 204
    },
    "executionInfo": {
     "elapsed": 10096,
     "status": "ok",
     "timestamp": 1619173700773,
     "user": {
      "displayName": "Alexey Tankov",
      "photoUrl": "",
      "userId": "01729535101672247421"
     },
     "user_tz": -180
    },
    "id": "jiURDC6SrZBo",
    "outputId": "26d31bf4-746b-4c06-cb46-8886c72b1fd2"
   },
   "outputs": [
    {
     "data": {
      "text/html": [
       "<div>\n",
       "<style scoped>\n",
       "    .dataframe tbody tr th:only-of-type {\n",
       "        vertical-align: middle;\n",
       "    }\n",
       "\n",
       "    .dataframe tbody tr th {\n",
       "        vertical-align: top;\n",
       "    }\n",
       "\n",
       "    .dataframe thead th {\n",
       "        text-align: right;\n",
       "    }\n",
       "</style>\n",
       "<table border=\"1\" class=\"dataframe\">\n",
       "  <thead>\n",
       "    <tr style=\"text-align: right;\">\n",
       "      <th></th>\n",
       "      <th>id</th>\n",
       "      <th>text</th>\n",
       "      <th>class</th>\n",
       "    </tr>\n",
       "  </thead>\n",
       "  <tbody>\n",
       "    <tr>\n",
       "      <th>181462</th>\n",
       "      <td>181462</td>\n",
       "      <td>Классным будет новый год..( http://t.co/LejaGuXNwu</td>\n",
       "      <td>0</td>\n",
       "    </tr>\n",
       "    <tr>\n",
       "      <th>181463</th>\n",
       "      <td>181463</td>\n",
       "      <td>Видишь человека хочешь сказать ему привет . А он тебя игнорит :(</td>\n",
       "      <td>0</td>\n",
       "    </tr>\n",
       "    <tr>\n",
       "      <th>181464</th>\n",
       "      <td>181464</td>\n",
       "      <td>@Julia6_9Styles там длинный диагноз. Вкратце: аллергический отёк горла с осложнением в виде фолликулярной ангины :(</td>\n",
       "      <td>0</td>\n",
       "    </tr>\n",
       "    <tr>\n",
       "      <th>181465</th>\n",
       "      <td>181465</td>\n",
       "      <td>@technoslav ух ты, а кому тот серенький кнопочне телефон достанется ;)</td>\n",
       "      <td>1</td>\n",
       "    </tr>\n",
       "    <tr>\n",
       "      <th>181466</th>\n",
       "      <td>181466</td>\n",
       "      <td>@Kris1D_07 я тоже так собираюсь сделать:D навешаю фоток вандюх:D \\r\\nобязательно выложи фотку, как нарядишь:3</td>\n",
       "      <td>1</td>\n",
       "    </tr>\n",
       "  </tbody>\n",
       "</table>\n",
       "</div>"
      ],
      "text/plain": [
       "            id  \\\n",
       "181462  181462   \n",
       "181463  181463   \n",
       "181464  181464   \n",
       "181465  181465   \n",
       "181466  181466   \n",
       "\n",
       "                                                                                                                       text  \\\n",
       "181462                                                                   Классным будет новый год..( http://t.co/LejaGuXNwu   \n",
       "181463                                                     Видишь человека хочешь сказать ему привет . А он тебя игнорит :(   \n",
       "181464  @Julia6_9Styles там длинный диагноз. Вкратце: аллергический отёк горла с осложнением в виде фолликулярной ангины :(   \n",
       "181465                                               @technoslav ух ты, а кому тот серенький кнопочне телефон достанется ;)   \n",
       "181466        @Kris1D_07 я тоже так собираюсь сделать:D навешаю фоток вандюх:D \\r\\nобязательно выложи фотку, как нарядишь:3   \n",
       "\n",
       "        class  \n",
       "181462      0  \n",
       "181463      0  \n",
       "181464      0  \n",
       "181465      1  \n",
       "181466      1  "
      ]
     },
     "execution_count": 107,
     "metadata": {},
     "output_type": "execute_result"
    }
   ],
   "source": [
    "df_train.tail()"
   ]
  },
  {
   "cell_type": "code",
   "execution_count": 108,
   "metadata": {
    "colab": {
     "base_uri": "https://localhost:8080/",
     "height": 204
    },
    "executionInfo": {
     "elapsed": 9641,
     "status": "ok",
     "timestamp": 1619173700776,
     "user": {
      "displayName": "Alexey Tankov",
      "photoUrl": "",
      "userId": "01729535101672247421"
     },
     "user_tz": -180
    },
    "id": "GhgBe2sf4EGj",
    "outputId": "d98a583c-dd4d-4e87-ff4c-7c67670cd91e"
   },
   "outputs": [
    {
     "data": {
      "text/html": [
       "<div>\n",
       "<style scoped>\n",
       "    .dataframe tbody tr th:only-of-type {\n",
       "        vertical-align: middle;\n",
       "    }\n",
       "\n",
       "    .dataframe tbody tr th {\n",
       "        vertical-align: top;\n",
       "    }\n",
       "\n",
       "    .dataframe thead th {\n",
       "        text-align: right;\n",
       "    }\n",
       "</style>\n",
       "<table border=\"1\" class=\"dataframe\">\n",
       "  <thead>\n",
       "    <tr style=\"text-align: right;\">\n",
       "      <th></th>\n",
       "      <th>id</th>\n",
       "      <th>text</th>\n",
       "    </tr>\n",
       "  </thead>\n",
       "  <tbody>\n",
       "    <tr>\n",
       "      <th>22679</th>\n",
       "      <td>226829</td>\n",
       "      <td>RT @NickValuev: Небоскребы, небоскребы, а я маленький такой:) http://t.co/ZJ3H12KPPK</td>\n",
       "    </tr>\n",
       "    <tr>\n",
       "      <th>22680</th>\n",
       "      <td>226830</td>\n",
       "      <td>Первый день в школе в новом году;( 3 человека спросили: все ли у меня в порядке?.. Черный я любою, вот и все</td>\n",
       "    </tr>\n",
       "    <tr>\n",
       "      <th>22681</th>\n",
       "      <td>226831</td>\n",
       "      <td>RT @Killgay_slut: @Your_Novocaine привеееет муда... какой к черту Сэмми? (</td>\n",
       "    </tr>\n",
       "    <tr>\n",
       "      <th>22682</th>\n",
       "      <td>226832</td>\n",
       "      <td>Настроение вроде нормальное, но от чего плакать хочется(</td>\n",
       "    </tr>\n",
       "    <tr>\n",
       "      <th>22683</th>\n",
       "      <td>226833</td>\n",
       "      <td>зашла перед сном к девчонкам)пока они мыли посуду,Настя фоткалась) http://t.co/kiNexuDTuh</td>\n",
       "    </tr>\n",
       "  </tbody>\n",
       "</table>\n",
       "</div>"
      ],
      "text/plain": [
       "           id  \\\n",
       "22679  226829   \n",
       "22680  226830   \n",
       "22681  226831   \n",
       "22682  226832   \n",
       "22683  226833   \n",
       "\n",
       "                                                                                                               text  \n",
       "22679                          RT @NickValuev: Небоскребы, небоскребы, а я маленький такой:) http://t.co/ZJ3H12KPPK  \n",
       "22680  Первый день в школе в новом году;( 3 человека спросили: все ли у меня в порядке?.. Черный я любою, вот и все  \n",
       "22681                                    RT @Killgay_slut: @Your_Novocaine привеееет муда... какой к черту Сэмми? (  \n",
       "22682                                                      Настроение вроде нормальное, но от чего плакать хочется(  \n",
       "22683                     зашла перед сном к девчонкам)пока они мыли посуду,Настя фоткалась) http://t.co/kiNexuDTuh  "
      ]
     },
     "execution_count": 108,
     "metadata": {},
     "output_type": "execute_result"
    }
   ],
   "source": [
    "df_test.tail()"
   ]
  },
  {
   "cell_type": "code",
   "execution_count": 109,
   "metadata": {
    "colab": {
     "base_uri": "https://localhost:8080/",
     "height": 204
    },
    "executionInfo": {
     "elapsed": 9438,
     "status": "ok",
     "timestamp": 1619173700778,
     "user": {
      "displayName": "Alexey Tankov",
      "photoUrl": "",
      "userId": "01729535101672247421"
     },
     "user_tz": -180
    },
    "id": "oPR_mbc94Ev0",
    "outputId": "e5118a41-1c63-4b56-adcc-e827895606b1"
   },
   "outputs": [
    {
     "data": {
      "text/html": [
       "<div>\n",
       "<style scoped>\n",
       "    .dataframe tbody tr th:only-of-type {\n",
       "        vertical-align: middle;\n",
       "    }\n",
       "\n",
       "    .dataframe tbody tr th {\n",
       "        vertical-align: top;\n",
       "    }\n",
       "\n",
       "    .dataframe thead th {\n",
       "        text-align: right;\n",
       "    }\n",
       "</style>\n",
       "<table border=\"1\" class=\"dataframe\">\n",
       "  <thead>\n",
       "    <tr style=\"text-align: right;\">\n",
       "      <th></th>\n",
       "      <th>id</th>\n",
       "      <th>text</th>\n",
       "      <th>class</th>\n",
       "    </tr>\n",
       "  </thead>\n",
       "  <tbody>\n",
       "    <tr>\n",
       "      <th>22678</th>\n",
       "      <td>204145</td>\n",
       "      <td>А я знаю из-за кого такая паршивая погода была сегодня)))</td>\n",
       "      <td>1</td>\n",
       "    </tr>\n",
       "    <tr>\n",
       "      <th>22679</th>\n",
       "      <td>204146</td>\n",
       "      <td>ааа.... что с Гмейлом. не ужто он умер сегодня :( именно в тот день когда мне надо сдавать журнал в печать</td>\n",
       "      <td>0</td>\n",
       "    </tr>\n",
       "    <tr>\n",
       "      <th>22680</th>\n",
       "      <td>204147</td>\n",
       "      <td>в учебники химии написано \"Пруст Жозеф Луи\"\\r\\nя явно подумала не о том Жозефе и не о том Луи:DD</td>\n",
       "      <td>1</td>\n",
       "    </tr>\n",
       "    <tr>\n",
       "      <th>22681</th>\n",
       "      <td>204148</td>\n",
       "      <td>Вот все любят,а я не люблю..как дура..говорю,что люблю..а сама..(</td>\n",
       "      <td>0</td>\n",
       "    </tr>\n",
       "    <tr>\n",
       "      <th>22682</th>\n",
       "      <td>204149</td>\n",
       "      <td>уххх спасибо дорогой Леле Евгеньевне и Штепуху за сегодняшний все было очень круто ,ну как обычно )))) нас даже научили как готовить бутеры</td>\n",
       "      <td>1</td>\n",
       "    </tr>\n",
       "  </tbody>\n",
       "</table>\n",
       "</div>"
      ],
      "text/plain": [
       "           id  \\\n",
       "22678  204145   \n",
       "22679  204146   \n",
       "22680  204147   \n",
       "22681  204148   \n",
       "22682  204149   \n",
       "\n",
       "                                                                                                                                              text  \\\n",
       "22678                                                                                    А я знаю из-за кого такая паршивая погода была сегодня)))   \n",
       "22679                                   ааа.... что с Гмейлом. не ужто он умер сегодня :( именно в тот день когда мне надо сдавать журнал в печать   \n",
       "22680                                             в учебники химии написано \"Пруст Жозеф Луи\"\\r\\nя явно подумала не о том Жозефе и не о том Луи:DD   \n",
       "22681                                                                            Вот все любят,а я не люблю..как дура..говорю,что люблю..а сама..(   \n",
       "22682  уххх спасибо дорогой Леле Евгеньевне и Штепуху за сегодняшний все было очень круто ,ну как обычно )))) нас даже научили как готовить бутеры   \n",
       "\n",
       "       class  \n",
       "22678      1  \n",
       "22679      0  \n",
       "22680      1  \n",
       "22681      0  \n",
       "22682      1  "
      ]
     },
     "execution_count": 109,
     "metadata": {},
     "output_type": "execute_result"
    }
   ],
   "source": [
    "df_val.tail()"
   ]
  },
  {
   "cell_type": "code",
   "execution_count": 110,
   "metadata": {
    "colab": {
     "base_uri": "https://localhost:8080/"
    },
    "executionInfo": {
     "elapsed": 9273,
     "status": "ok",
     "timestamp": 1619173700782,
     "user": {
      "displayName": "Alexey Tankov",
      "photoUrl": "",
      "userId": "01729535101672247421"
     },
     "user_tz": -180
    },
    "id": "nV8HJfC_rfdR",
    "outputId": "142586f6-93c0-4946-8af5-0b2ad9a8df93"
   },
   "outputs": [
    {
     "name": "stdout",
     "output_type": "stream",
     "text": [
      "(181467, 3) (22684, 2) (22683, 3)\n"
     ]
    }
   ],
   "source": [
    "print(df_train.shape, df_test.shape, df_val.shape)"
   ]
  },
  {
   "cell_type": "code",
   "execution_count": 111,
   "metadata": {
    "colab": {
     "base_uri": "https://localhost:8080/"
    },
    "executionInfo": {
     "elapsed": 9135,
     "status": "ok",
     "timestamp": 1619173700796,
     "user": {
      "displayName": "Alexey Tankov",
      "photoUrl": "",
      "userId": "01729535101672247421"
     },
     "user_tz": -180
    },
    "id": "DV7mX8C3fDpd",
    "outputId": "32917deb-3a37-487e-c950-e79389c5dfa1"
   },
   "outputs": [
    {
     "name": "stdout",
     "output_type": "stream",
     "text": [
      "<class 'pandas.core.frame.DataFrame'>\n",
      "RangeIndex: 181467 entries, 0 to 181466\n",
      "Data columns (total 3 columns):\n",
      " #   Column  Non-Null Count   Dtype \n",
      "---  ------  --------------   ----- \n",
      " 0   id      181467 non-null  int64 \n",
      " 1   text    181467 non-null  object\n",
      " 2   class   181467 non-null  int64 \n",
      "dtypes: int64(2), object(1)\n",
      "memory usage: 4.2+ MB\n"
     ]
    }
   ],
   "source": [
    "df_train.info()"
   ]
  },
  {
   "cell_type": "code",
   "execution_count": 112,
   "metadata": {
    "colab": {
     "base_uri": "https://localhost:8080/"
    },
    "executionInfo": {
     "elapsed": 8700,
     "status": "ok",
     "timestamp": 1619173700798,
     "user": {
      "displayName": "Alexey Tankov",
      "photoUrl": "",
      "userId": "01729535101672247421"
     },
     "user_tz": -180
    },
    "id": "7-J0eqf7e87l",
    "outputId": "65ce62eb-5278-41f2-b4e2-8b0014c15530"
   },
   "outputs": [
    {
     "data": {
      "text/plain": [
       "id       0\n",
       "text     0\n",
       "class    0\n",
       "dtype: int64"
      ]
     },
     "execution_count": 112,
     "metadata": {},
     "output_type": "execute_result"
    }
   ],
   "source": [
    "df_train.isnull().sum()"
   ]
  },
  {
   "cell_type": "code",
   "execution_count": 113,
   "metadata": {
    "colab": {
     "base_uri": "https://localhost:8080/"
    },
    "executionInfo": {
     "elapsed": 8493,
     "status": "ok",
     "timestamp": 1619173700802,
     "user": {
      "displayName": "Alexey Tankov",
      "photoUrl": "",
      "userId": "01729535101672247421"
     },
     "user_tz": -180
    },
    "id": "r59KCqx-3hJC",
    "outputId": "badcbc7c-b752-4aac-a774-b82ab5225ed0"
   },
   "outputs": [
    {
     "data": {
      "text/plain": [
       "id      0\n",
       "text    0\n",
       "dtype: int64"
      ]
     },
     "execution_count": 113,
     "metadata": {},
     "output_type": "execute_result"
    }
   ],
   "source": [
    "df_test.isnull().sum()"
   ]
  },
  {
   "cell_type": "code",
   "execution_count": 114,
   "metadata": {
    "colab": {
     "base_uri": "https://localhost:8080/"
    },
    "executionInfo": {
     "elapsed": 8321,
     "status": "ok",
     "timestamp": 1619173700806,
     "user": {
      "displayName": "Alexey Tankov",
      "photoUrl": "",
      "userId": "01729535101672247421"
     },
     "user_tz": -180
    },
    "id": "oxaPCXqe3jVG",
    "outputId": "e22a4a18-087d-4d31-a9e7-46d6f8d75863"
   },
   "outputs": [
    {
     "data": {
      "text/plain": [
       "id       0\n",
       "text     0\n",
       "class    0\n",
       "dtype: int64"
      ]
     },
     "execution_count": 114,
     "metadata": {},
     "output_type": "execute_result"
    }
   ],
   "source": [
    "df_val.isnull().sum()"
   ]
  },
  {
   "cell_type": "markdown",
   "metadata": {
    "id": "jXuCJqqH_vO9"
   },
   "source": [
    "### Предобработка"
   ]
  },
  {
   "cell_type": "code",
   "execution_count": 115,
   "metadata": {
    "executionInfo": {
     "elapsed": 7779,
     "status": "ok",
     "timestamp": 1619173700808,
     "user": {
      "displayName": "Alexey Tankov",
      "photoUrl": "",
      "userId": "01729535101672247421"
     },
     "user_tz": -180
    },
    "id": "MPiThFwD-YqH"
   },
   "outputs": [],
   "source": [
    "sw = set(get_stop_words('ru'))\n",
    "exclude = set(punctuation)\n",
    "morpher = MorphAnalyzer()"
   ]
  },
  {
   "cell_type": "code",
   "execution_count": 116,
   "metadata": {
    "executionInfo": {
     "elapsed": 7344,
     "status": "ok",
     "timestamp": 1619173700811,
     "user": {
      "displayName": "Alexey Tankov",
      "photoUrl": "",
      "userId": "01729535101672247421"
     },
     "user_tz": -180
    },
    "id": "799ZNgan_4vt"
   },
   "outputs": [],
   "source": [
    "def preprocess_reviews(reviews):\n",
    "    reviews = str(reviews)\n",
    "    reviews = ''.join(c for c in reviews if c not in exclude)\n",
    "    reviews = reviews.lower()\n",
    "    reviews = re.sub(\"\\sне\", \"не\", reviews)\n",
    "    reviews = [morpher.parse(word)[0].normal_form for word in reviews.split() if word not in sw]\n",
    "    return \" \".join(reviews)"
   ]
  },
  {
   "cell_type": "code",
   "execution_count": 117,
   "metadata": {
    "executionInfo": {
     "elapsed": 335748,
     "status": "ok",
     "timestamp": 1619174029383,
     "user": {
      "displayName": "Alexey Tankov",
      "photoUrl": "",
      "userId": "01729535101672247421"
     },
     "user_tz": -180
    },
    "id": "t5Ydgk2fCiQd"
   },
   "outputs": [],
   "source": [
    "df_train['text'] = df_train['text'].apply(preprocess_reviews)\n",
    "df_test['text'] = df_test['text'].apply(preprocess_reviews)\n",
    "df_val['text'] = df_val['text'].apply(preprocess_reviews)"
   ]
  },
  {
   "cell_type": "code",
   "execution_count": 118,
   "metadata": {
    "colab": {
     "base_uri": "https://localhost:8080/",
     "height": 142
    },
    "executionInfo": {
     "elapsed": 335586,
     "status": "ok",
     "timestamp": 1619174029387,
     "user": {
      "displayName": "Alexey Tankov",
      "photoUrl": "",
      "userId": "01729535101672247421"
     },
     "user_tz": -180
    },
    "id": "g15tEuvMcLta",
    "outputId": "bc62dac8-fc33-4940-b1b0-8275abf6d213"
   },
   "outputs": [
    {
     "data": {
      "text/html": [
       "<div>\n",
       "<style scoped>\n",
       "    .dataframe tbody tr th:only-of-type {\n",
       "        vertical-align: middle;\n",
       "    }\n",
       "\n",
       "    .dataframe tbody tr th {\n",
       "        vertical-align: top;\n",
       "    }\n",
       "\n",
       "    .dataframe thead th {\n",
       "        text-align: right;\n",
       "    }\n",
       "</style>\n",
       "<table border=\"1\" class=\"dataframe\">\n",
       "  <thead>\n",
       "    <tr style=\"text-align: right;\">\n",
       "      <th></th>\n",
       "      <th>id</th>\n",
       "      <th>text</th>\n",
       "      <th>class</th>\n",
       "    </tr>\n",
       "  </thead>\n",
       "  <tbody>\n",
       "    <tr>\n",
       "      <th>0</th>\n",
       "      <td>0</td>\n",
       "      <td>alisachachkaич уезжаааааааать ❤ тожена хотеть уезжать</td>\n",
       "      <td>0</td>\n",
       "    </tr>\n",
       "    <tr>\n",
       "      <th>1</th>\n",
       "      <td>1</td>\n",
       "      <td>rt galyginvadim ребята девчата кино любовь завтра вотэтолюбовь</td>\n",
       "      <td>1</td>\n",
       "    </tr>\n",
       "    <tr>\n",
       "      <th>2</th>\n",
       "      <td>2</td>\n",
       "      <td>rt artemklyushin ктоненавидеть пробка ретвит rt</td>\n",
       "      <td>0</td>\n",
       "    </tr>\n",
       "  </tbody>\n",
       "</table>\n",
       "</div>"
      ],
      "text/plain": [
       "   id                                                            text  class\n",
       "0   0           alisachachkaич уезжаааааааать ❤ тожена хотеть уезжать      0\n",
       "1   1  rt galyginvadim ребята девчата кино любовь завтра вотэтолюбовь      1\n",
       "2   2                 rt artemklyushin ктоненавидеть пробка ретвит rt      0"
      ]
     },
     "execution_count": 118,
     "metadata": {},
     "output_type": "execute_result"
    }
   ],
   "source": [
    "df_train.head(3)"
   ]
  },
  {
   "cell_type": "code",
   "execution_count": 119,
   "metadata": {
    "colab": {
     "base_uri": "https://localhost:8080/",
     "height": 142
    },
    "executionInfo": {
     "elapsed": 335198,
     "status": "ok",
     "timestamp": 1619174029389,
     "user": {
      "displayName": "Alexey Tankov",
      "photoUrl": "",
      "userId": "01729535101672247421"
     },
     "user_tz": -180
    },
    "id": "Z7LZNhkOF-no",
    "outputId": "62b80ceb-3cad-43c3-bc24-917504f16170"
   },
   "outputs": [
    {
     "data": {
      "text/html": [
       "<div>\n",
       "<style scoped>\n",
       "    .dataframe tbody tr th:only-of-type {\n",
       "        vertical-align: middle;\n",
       "    }\n",
       "\n",
       "    .dataframe tbody tr th {\n",
       "        vertical-align: top;\n",
       "    }\n",
       "\n",
       "    .dataframe thead th {\n",
       "        text-align: right;\n",
       "    }\n",
       "</style>\n",
       "<table border=\"1\" class=\"dataframe\">\n",
       "  <thead>\n",
       "    <tr style=\"text-align: right;\">\n",
       "      <th></th>\n",
       "      <th>id</th>\n",
       "      <th>text</th>\n",
       "    </tr>\n",
       "  </thead>\n",
       "  <tbody>\n",
       "    <tr>\n",
       "      <th>0</th>\n",
       "      <td>204150</td>\n",
       "      <td>тектоника рельефсамый ужасный мир мучение</td>\n",
       "    </tr>\n",
       "    <tr>\n",
       "      <th>1</th>\n",
       "      <td>204151</td>\n",
       "      <td>ходить запускать шар желание насна получиться хрен они</td>\n",
       "    </tr>\n",
       "    <tr>\n",
       "      <th>2</th>\n",
       "      <td>204152</td>\n",
       "      <td>хотеть лето ради направить ноготь яркий лак</td>\n",
       "    </tr>\n",
       "  </tbody>\n",
       "</table>\n",
       "</div>"
      ],
      "text/plain": [
       "       id                                                    text\n",
       "0  204150               тектоника рельефсамый ужасный мир мучение\n",
       "1  204151  ходить запускать шар желание насна получиться хрен они\n",
       "2  204152             хотеть лето ради направить ноготь яркий лак"
      ]
     },
     "execution_count": 119,
     "metadata": {},
     "output_type": "execute_result"
    }
   ],
   "source": [
    "df_test.head(3)"
   ]
  },
  {
   "cell_type": "code",
   "execution_count": 120,
   "metadata": {
    "colab": {
     "base_uri": "https://localhost:8080/",
     "height": 142
    },
    "executionInfo": {
     "elapsed": 335011,
     "status": "ok",
     "timestamp": 1619174029392,
     "user": {
      "displayName": "Alexey Tankov",
      "photoUrl": "",
      "userId": "01729535101672247421"
     },
     "user_tz": -180
    },
    "id": "tc12XH3CF59S",
    "outputId": "fb9e6511-085c-46fa-f036-1bf3f25baf88"
   },
   "outputs": [
    {
     "data": {
      "text/html": [
       "<div>\n",
       "<style scoped>\n",
       "    .dataframe tbody tr th:only-of-type {\n",
       "        vertical-align: middle;\n",
       "    }\n",
       "\n",
       "    .dataframe tbody tr th {\n",
       "        vertical-align: top;\n",
       "    }\n",
       "\n",
       "    .dataframe thead th {\n",
       "        text-align: right;\n",
       "    }\n",
       "</style>\n",
       "<table border=\"1\" class=\"dataframe\">\n",
       "  <thead>\n",
       "    <tr style=\"text-align: right;\">\n",
       "      <th></th>\n",
       "      <th>id</th>\n",
       "      <th>text</th>\n",
       "      <th>class</th>\n",
       "    </tr>\n",
       "  </thead>\n",
       "  <tbody>\n",
       "    <tr>\n",
       "      <th>0</th>\n",
       "      <td>181467</td>\n",
       "      <td>rt tukvasociopat максимальный репост євромайдан httptcowxtq0xgvtp</td>\n",
       "      <td>1</td>\n",
       "    </tr>\n",
       "    <tr>\n",
       "      <th>1</th>\n",
       "      <td>181468</td>\n",
       "      <td>зп ежегодно индексировать индекс инфляция тариф автобус</td>\n",
       "      <td>0</td>\n",
       "    </tr>\n",
       "    <tr>\n",
       "      <th>2</th>\n",
       "      <td>181469</td>\n",
       "      <td>chilyandlimeнеховать мнен</td>\n",
       "      <td>0</td>\n",
       "    </tr>\n",
       "  </tbody>\n",
       "</table>\n",
       "</div>"
      ],
      "text/plain": [
       "       id                                                               text  \\\n",
       "0  181467  rt tukvasociopat максимальный репост євромайдан httptcowxtq0xgvtp   \n",
       "1  181468            зп ежегодно индексировать индекс инфляция тариф автобус   \n",
       "2  181469                                          chilyandlimeнеховать мнен   \n",
       "\n",
       "   class  \n",
       "0      1  \n",
       "1      0  \n",
       "2      0  "
      ]
     },
     "execution_count": 120,
     "metadata": {},
     "output_type": "execute_result"
    }
   ],
   "source": [
    "df_val.head(3)"
   ]
  },
  {
   "cell_type": "markdown",
   "metadata": {
    "id": "-tWF7WDABh50"
   },
   "source": [
    "### 0. Baseline"
   ]
  },
  {
   "cell_type": "code",
   "execution_count": 121,
   "metadata": {
    "executionInfo": {
     "elapsed": 334238,
     "status": "ok",
     "timestamp": 1619174029396,
     "user": {
      "displayName": "Alexey Tankov",
      "photoUrl": "",
      "userId": "01729535101672247421"
     },
     "user_tz": -180
    },
    "id": "9OLtBVETMlwh"
   },
   "outputs": [],
   "source": [
    "X_train = df_train['text']\n",
    "y_train = df_train['class']\n",
    "X_test = df_val['text']\n",
    "y_test = df_val['class']"
   ]
  },
  {
   "cell_type": "code",
   "execution_count": 122,
   "metadata": {
    "executionInfo": {
     "elapsed": 334047,
     "status": "ok",
     "timestamp": 1619174029398,
     "user": {
      "displayName": "Alexey Tankov",
      "photoUrl": "",
      "userId": "01729535101672247421"
     },
     "user_tz": -180
    },
    "id": "pVPzctgpHGok"
   },
   "outputs": [],
   "source": [
    "# # labelEncode целевую переменную\n",
    "# encoder = preprocessing.LabelEncoder()\n",
    "# y_train = encoder.fit_transform(y_train)\n",
    "# y_test = encoder.fit_transform(y_test)"
   ]
  },
  {
   "cell_type": "code",
   "execution_count": 129,
   "metadata": {
    "executionInfo": {
     "elapsed": 333897,
     "status": "ok",
     "timestamp": 1619174029400,
     "user": {
      "displayName": "Alexey Tankov",
      "photoUrl": "",
      "userId": "01729535101672247421"
     },
     "user_tz": -180
    },
    "id": "F972PzpLBmcx"
   },
   "outputs": [],
   "source": [
    "models = []\n",
    "\n",
    "models.append(('CountVectorizer_LR', CountVectorizer()))\n",
    "models.append(('CountVectorizer_LR2', CountVectorizer(ngram_range=(1, 1), min_df=1, max_df = 0.91, analyzer='word', token_pattern=r'\\w{1,}')))\n",
    "models.append(('TfidfVectorizer_LR', TfidfVectorizer()))\n",
    "models.append(('HashingVectorizer_LR', HashingVectorizer()))"
   ]
  },
  {
   "cell_type": "code",
   "execution_count": 130,
   "metadata": {
    "executionInfo": {
     "elapsed": 400154,
     "status": "ok",
     "timestamp": 1619174096101,
     "user": {
      "displayName": "Alexey Tankov",
      "photoUrl": "",
      "userId": "01729535101672247421"
     },
     "user_tz": -180
    },
    "id": "HBjhW5f2G7c5"
   },
   "outputs": [],
   "source": [
    "# Logistic Regression\n",
    "classifier = linear_model.LogisticRegression()\n",
    "\n",
    "results = []\n",
    "\n",
    "for name, model in models:\n",
    "    start_time = time.time()\n",
    "    model.fit(X_train)\n",
    "    X_train_count = model.transform(X_train)\n",
    "    X_test_count = model.transform(X_test)\n",
    "    \n",
    "    classifier.fit(X_train_count, y_train)\n",
    "    predictions_train = classifier.predict(X_train_count)\n",
    "    predictions_test = classifier.predict(X_test_count)\n",
    "    \n",
    "    train_accuracy = accuracy_score(y_train, predictions_train)\n",
    "    test_accuracy = accuracy_score(y_test, predictions_test)\n",
    "    \n",
    "    lr_time = (time.time() - start_time)\n",
    "    results.append((name, train_accuracy, test_accuracy, lr_time))"
   ]
  },
  {
   "cell_type": "code",
   "execution_count": 131,
   "metadata": {},
   "outputs": [
    {
     "data": {
      "text/html": [
       "<div>\n",
       "<style scoped>\n",
       "    .dataframe tbody tr th:only-of-type {\n",
       "        vertical-align: middle;\n",
       "    }\n",
       "\n",
       "    .dataframe tbody tr th {\n",
       "        vertical-align: top;\n",
       "    }\n",
       "\n",
       "    .dataframe thead th {\n",
       "        text-align: right;\n",
       "    }\n",
       "</style>\n",
       "<table border=\"1\" class=\"dataframe\">\n",
       "  <thead>\n",
       "    <tr style=\"text-align: right;\">\n",
       "      <th></th>\n",
       "      <th>model</th>\n",
       "      <th>train_accuracy</th>\n",
       "      <th>test_accuracy</th>\n",
       "      <th>time</th>\n",
       "    </tr>\n",
       "  </thead>\n",
       "  <tbody>\n",
       "    <tr>\n",
       "      <th>1</th>\n",
       "      <td>CountVectorizer_LR2</td>\n",
       "      <td>0.91816</td>\n",
       "      <td>0.75360</td>\n",
       "      <td>45.81606</td>\n",
       "    </tr>\n",
       "    <tr>\n",
       "      <th>0</th>\n",
       "      <td>CountVectorizer_LR</td>\n",
       "      <td>0.90335</td>\n",
       "      <td>0.73998</td>\n",
       "      <td>52.44985</td>\n",
       "    </tr>\n",
       "    <tr>\n",
       "      <th>2</th>\n",
       "      <td>TfidfVectorizer_LR</td>\n",
       "      <td>0.84350</td>\n",
       "      <td>0.73756</td>\n",
       "      <td>49.06377</td>\n",
       "    </tr>\n",
       "    <tr>\n",
       "      <th>3</th>\n",
       "      <td>HashingVectorizer_LR</td>\n",
       "      <td>0.80842</td>\n",
       "      <td>0.72684</td>\n",
       "      <td>36.98275</td>\n",
       "    </tr>\n",
       "  </tbody>\n",
       "</table>\n",
       "</div>"
      ],
      "text/plain": [
       "                  model  train_accuracy  test_accuracy     time\n",
       "1   CountVectorizer_LR2         0.91816        0.75360 45.81606\n",
       "0    CountVectorizer_LR         0.90335        0.73998 52.44985\n",
       "2    TfidfVectorizer_LR         0.84350        0.73756 49.06377\n",
       "3  HashingVectorizer_LR         0.80842        0.72684 36.98275"
      ]
     },
     "execution_count": 131,
     "metadata": {},
     "output_type": "execute_result"
    }
   ],
   "source": [
    "baseline_lr = pd.DataFrame((results))\n",
    "baseline_lr.columns = ['model', 'train_accuracy', 'test_accuracy', 'time']\n",
    "baseline_lr.sort_values('test_accuracy', ascending=False)"
   ]
  },
  {
   "cell_type": "code",
   "execution_count": 126,
   "metadata": {
    "executionInfo": {
     "elapsed": 398425,
     "status": "ok",
     "timestamp": 1619174096116,
     "user": {
      "displayName": "Alexey Tankov",
      "photoUrl": "",
      "userId": "01729535101672247421"
     },
     "user_tz": -180
    },
    "id": "FT0lJe9BA1bW"
   },
   "outputs": [],
   "source": [
    "models = []\n",
    "\n",
    "models.append(('CountVectorizer_LSVC', CountVectorizer()))\n",
    "models.append(('TfidfVectorizer_LSVC', TfidfVectorizer()))\n",
    "models.append(('HashingVectorizer_LSVC', HashingVectorizer()))"
   ]
  },
  {
   "cell_type": "code",
   "execution_count": 127,
   "metadata": {
    "executionInfo": {
     "elapsed": 461786,
     "status": "ok",
     "timestamp": 1619174160384,
     "user": {
      "displayName": "Alexey Tankov",
      "photoUrl": "",
      "userId": "01729535101672247421"
     },
     "user_tz": -180
    },
    "id": "cvuEVoz9RINg"
   },
   "outputs": [],
   "source": [
    "# LinearSVC\n",
    "classifier = LinearSVC()\n",
    "\n",
    "results = []\n",
    "\n",
    "for name, model in models:\n",
    "    start_time = time.time()\n",
    "    model.fit(X_train)\n",
    "    X_train_count = model.transform(X_train)\n",
    "    X_test_count = model.transform(X_test)\n",
    "    \n",
    "    classifier.fit(X_train_count, y_train)\n",
    "    predictions_train = classifier.predict(X_train_count)\n",
    "    predictions_test = classifier.predict(X_test_count)\n",
    "    \n",
    "    train_accuracy = accuracy_score(y_train, predictions_train)\n",
    "    test_accuracy = accuracy_score(y_test, predictions_test)\n",
    "    \n",
    "    lsvc_time = (time.time() - start_time)  \n",
    "    results.append((name, train_accuracy, test_accuracy, lsvc_time))"
   ]
  },
  {
   "cell_type": "code",
   "execution_count": 128,
   "metadata": {},
   "outputs": [
    {
     "data": {
      "text/html": [
       "<div>\n",
       "<style scoped>\n",
       "    .dataframe tbody tr th:only-of-type {\n",
       "        vertical-align: middle;\n",
       "    }\n",
       "\n",
       "    .dataframe tbody tr th {\n",
       "        vertical-align: top;\n",
       "    }\n",
       "\n",
       "    .dataframe thead th {\n",
       "        text-align: right;\n",
       "    }\n",
       "</style>\n",
       "<table border=\"1\" class=\"dataframe\">\n",
       "  <thead>\n",
       "    <tr style=\"text-align: right;\">\n",
       "      <th></th>\n",
       "      <th>model</th>\n",
       "      <th>train_accuracy</th>\n",
       "      <th>test_accuracy</th>\n",
       "      <th>time</th>\n",
       "    </tr>\n",
       "  </thead>\n",
       "  <tbody>\n",
       "    <tr>\n",
       "      <th>1</th>\n",
       "      <td>TfidfVectorizer_LSVC</td>\n",
       "      <td>0.96287</td>\n",
       "      <td>0.73817</td>\n",
       "      <td>13.05381</td>\n",
       "    </tr>\n",
       "    <tr>\n",
       "      <th>2</th>\n",
       "      <td>HashingVectorizer_LSVC</td>\n",
       "      <td>0.93225</td>\n",
       "      <td>0.73782</td>\n",
       "      <td>7.82649</td>\n",
       "    </tr>\n",
       "    <tr>\n",
       "      <th>0</th>\n",
       "      <td>CountVectorizer_LSVC</td>\n",
       "      <td>0.97973</td>\n",
       "      <td>0.72777</td>\n",
       "      <td>67.67929</td>\n",
       "    </tr>\n",
       "  </tbody>\n",
       "</table>\n",
       "</div>"
      ],
      "text/plain": [
       "                    model  train_accuracy  test_accuracy     time\n",
       "1    TfidfVectorizer_LSVC         0.96287        0.73817 13.05381\n",
       "2  HashingVectorizer_LSVC         0.93225        0.73782  7.82649\n",
       "0    CountVectorizer_LSVC         0.97973        0.72777 67.67929"
      ]
     },
     "execution_count": 128,
     "metadata": {},
     "output_type": "execute_result"
    }
   ],
   "source": [
    "baseline_lsvc = pd.DataFrame(results)\n",
    "baseline_lsvc.columns = ['model', 'train_accuracy', 'test_accuracy', 'time']\n",
    "baseline_lsvc.sort_values('test_accuracy', ascending=False)"
   ]
  },
  {
   "cell_type": "markdown",
   "metadata": {
    "id": "ldPJGJlpnrwe"
   },
   "source": [
    "### Word Embeddings"
   ]
  },
  {
   "cell_type": "code",
   "execution_count": 36,
   "metadata": {
    "executionInfo": {
     "elapsed": 460355,
     "status": "ok",
     "timestamp": 1619174160386,
     "user": {
      "displayName": "Alexey Tankov",
      "photoUrl": "",
      "userId": "01729535101672247421"
     },
     "user_tz": -180
    },
    "id": "E3T8eNiSIG17"
   },
   "outputs": [],
   "source": [
    "text_corpus_train = df_train['text'].values\n",
    "text_corpus_valid = df_val['text'].values\n",
    "text_corpus_test = df_test['text'].values"
   ]
  },
  {
   "cell_type": "code",
   "execution_count": 37,
   "metadata": {
    "executionInfo": {
     "elapsed": 458063,
     "status": "ok",
     "timestamp": 1619174160389,
     "user": {
      "displayName": "Alexey Tankov",
      "photoUrl": "",
      "userId": "01729535101672247421"
     },
     "user_tz": -180
    },
    "id": "WQbXSpS2ZGEn"
   },
   "outputs": [],
   "source": [
    "from keras.preprocessing.text import Tokenizer\n",
    "from keras.preprocessing.sequence import pad_sequences"
   ]
  },
  {
   "cell_type": "code",
   "execution_count": 38,
   "metadata": {
    "executionInfo": {
     "elapsed": 467403,
     "status": "ok",
     "timestamp": 1619174169902,
     "user": {
      "displayName": "Alexey Tankov",
      "photoUrl": "",
      "userId": "01729535101672247421"
     },
     "user_tz": -180
    },
    "id": "FZLqaB_AYvoj"
   },
   "outputs": [],
   "source": [
    "tokenizer = Tokenizer(num_words=None, \n",
    "                     filters='#$%&()*+-<=>@[\\\\]^_`{|}~\\t\\n',\n",
    "                     lower = False, split = ' ')\n",
    "tokenizer.fit_on_texts(text_corpus_train)\n",
    "\n",
    "sequences_train = tokenizer.texts_to_sequences(text_corpus_train)\n",
    "sequences_val = tokenizer.texts_to_sequences(text_corpus_valid)\n",
    "sequences_test = tokenizer.texts_to_sequences(text_corpus_test)\n",
    "\n",
    "word_count = len(tokenizer.index_word) + 1 # Adding 1 because of reserved 0 index\n",
    "training_length = max([len(i.split()) for i in text_corpus_train])\n",
    "\n",
    "X_train = pad_sequences(sequences_train, maxlen=training_length)\n",
    "X_valid = pad_sequences(sequences_val, maxlen=training_length)"
   ]
  },
  {
   "cell_type": "code",
   "execution_count": 39,
   "metadata": {
    "executionInfo": {
     "elapsed": 466995,
     "status": "ok",
     "timestamp": 1619174169904,
     "user": {
      "displayName": "Alexey Tankov",
      "photoUrl": "",
      "userId": "01729535101672247421"
     },
     "user_tz": -180
    },
    "id": "jO-oIFQTZOh6"
   },
   "outputs": [],
   "source": [
    "y_train = df_train['class'].values\n",
    "y_val = df_val['class'].values"
   ]
  },
  {
   "cell_type": "markdown",
   "metadata": {
    "id": "B07MLBaFXn-6"
   },
   "source": [
    "### Simple model"
   ]
  },
  {
   "cell_type": "code",
   "execution_count": 40,
   "metadata": {
    "executionInfo": {
     "elapsed": 465247,
     "status": "ok",
     "timestamp": 1619174169906,
     "user": {
      "displayName": "Alexey Tankov",
      "photoUrl": "",
      "userId": "01729535101672247421"
     },
     "user_tz": -180
    },
    "id": "yIL34vZpxZFd"
   },
   "outputs": [],
   "source": [
    "# Training\n",
    "epochs = 5\n",
    "batch_size = 64"
   ]
  },
  {
   "cell_type": "code",
   "execution_count": 41,
   "metadata": {
    "executionInfo": {
     "elapsed": 464298,
     "status": "ok",
     "timestamp": 1619174169906,
     "user": {
      "displayName": "Alexey Tankov",
      "photoUrl": "",
      "userId": "01729535101672247421"
     },
     "user_tz": -180
    },
    "id": "SGY7la4toJe_"
   },
   "outputs": [],
   "source": [
    "input_dim = X_train.shape[1]  # Number of features"
   ]
  },
  {
   "cell_type": "code",
   "execution_count": 42,
   "metadata": {
    "executionInfo": {
     "elapsed": 463174,
     "status": "ok",
     "timestamp": 1619174169908,
     "user": {
      "displayName": "Alexey Tankov",
      "photoUrl": "",
      "userId": "01729535101672247421"
     },
     "user_tz": -180
    },
    "id": "ybS3dxjgoJjU"
   },
   "outputs": [],
   "source": [
    "model_1 = Sequential([\n",
    "    layers.Dense(32, input_dim=input_dim, activation='relu'),\n",
    "    layers.Dense(1, activation='sigmoid')\n",
    "])"
   ]
  },
  {
   "cell_type": "code",
   "execution_count": 43,
   "metadata": {
    "executionInfo": {
     "elapsed": 462346,
     "status": "ok",
     "timestamp": 1619174169909,
     "user": {
      "displayName": "Alexey Tankov",
      "photoUrl": "",
      "userId": "01729535101672247421"
     },
     "user_tz": -180
    },
    "id": "526-cnusoJmV"
   },
   "outputs": [],
   "source": [
    "model_1.compile(optimizer='RMSprop',\n",
    "                     loss='binary_crossentropy',\n",
    "                     metrics=['accuracy'])"
   ]
  },
  {
   "cell_type": "code",
   "execution_count": 44,
   "metadata": {
    "colab": {
     "base_uri": "https://localhost:8080/"
    },
    "executionInfo": {
     "elapsed": 481983,
     "status": "ok",
     "timestamp": 1619174190418,
     "user": {
      "displayName": "Alexey Tankov",
      "photoUrl": "",
      "userId": "01729535101672247421"
     },
     "user_tz": -180
    },
    "id": "lz-unWxQoJpL",
    "outputId": "f6e78d2f-c8e8-456c-d4bb-192b1d16f55d"
   },
   "outputs": [
    {
     "name": "stdout",
     "output_type": "stream",
     "text": [
      "Epoch 1/5\n",
      "2836/2836 [==============================] - 10s 4ms/step - loss: 447.2151 - accuracy: 0.5203 - val_loss: 80.1802 - val_accuracy: 0.5214\n",
      "Epoch 2/5\n",
      "2836/2836 [==============================] - 9s 3ms/step - loss: 204.7100 - accuracy: 0.5251 - val_loss: 107.5720 - val_accuracy: 0.5038\n",
      "Epoch 3/5\n",
      "2836/2836 [==============================] - 9s 3ms/step - loss: 144.8486 - accuracy: 0.5235 - val_loss: 75.6243 - val_accuracy: 0.5169\n",
      "Epoch 4/5\n",
      "2836/2836 [==============================] - 8s 3ms/step - loss: 104.6242 - accuracy: 0.5239 - val_loss: 21.5509 - val_accuracy: 0.5289\n",
      "Epoch 5/5\n",
      "2836/2836 [==============================] - 8s 3ms/step - loss: 70.3872 - accuracy: 0.5251 - val_loss: 23.1137 - val_accuracy: 0.5288\n"
     ]
    }
   ],
   "source": [
    "start_time = time.time()\n",
    "history_1 = model_1.fit(X_train, y_train, batch_size=batch_size, epochs=epochs, validation_data=(X_valid, y_val))\n",
    "model_time1 = (time.time() - start_time)"
   ]
  },
  {
   "cell_type": "code",
   "execution_count": 45,
   "metadata": {
    "colab": {
     "base_uri": "https://localhost:8080/"
    },
    "executionInfo": {
     "elapsed": 480930,
     "status": "ok",
     "timestamp": 1619174190421,
     "user": {
      "displayName": "Alexey Tankov",
      "photoUrl": "",
      "userId": "01729535101672247421"
     },
     "user_tz": -180
    },
    "id": "yl6Mr5NJoJr7",
    "outputId": "34ff4708-da1f-496d-aebe-4dba05a3558e"
   },
   "outputs": [
    {
     "data": {
      "text/plain": [
       "46.52675676345825"
      ]
     },
     "execution_count": 45,
     "metadata": {},
     "output_type": "execute_result"
    }
   ],
   "source": [
    "model_time1"
   ]
  },
  {
   "cell_type": "code",
   "execution_count": 46,
   "metadata": {
    "executionInfo": {
     "elapsed": 483593,
     "status": "ok",
     "timestamp": 1619174194746,
     "user": {
      "displayName": "Alexey Tankov",
      "photoUrl": "",
      "userId": "01729535101672247421"
     },
     "user_tz": -180
    },
    "id": "FnmzrKsctsG5"
   },
   "outputs": [],
   "source": [
    "score_train1 = model_1.evaluate(X_train, y_train, verbose=0)\n",
    "score_test1 = model_1.evaluate(X_valid, y_val, verbose=0)"
   ]
  },
  {
   "cell_type": "code",
   "execution_count": 47,
   "metadata": {
    "colab": {
     "base_uri": "https://localhost:8080/"
    },
    "executionInfo": {
     "elapsed": 482805,
     "status": "ok",
     "timestamp": 1619174194752,
     "user": {
      "displayName": "Alexey Tankov",
      "photoUrl": "",
      "userId": "01729535101672247421"
     },
     "user_tz": -180
    },
    "id": "tKxYKJpAtsG6",
    "outputId": "ba43992e-8028-40a8-d79e-6abceba6dfa4"
   },
   "outputs": [
    {
     "name": "stdout",
     "output_type": "stream",
     "text": [
      "Train loss: 63.812583923339844\n",
      "Train accuracy: 0.5341356992721558\n",
      "Test loss: 23.113719940185547\n",
      "Test accuracy: 0.5287660360336304\n"
     ]
    }
   ],
   "source": [
    "print('Train loss:', score_train1[0])\n",
    "print('Train accuracy:', score_train1[1])\n",
    "print('Test loss:', score_test1[0])\n",
    "print('Test accuracy:', score_test1[1])"
   ]
  },
  {
   "cell_type": "code",
   "execution_count": 48,
   "metadata": {
    "colab": {
     "base_uri": "https://localhost:8080/",
     "height": 362
    },
    "executionInfo": {
     "elapsed": 483002,
     "status": "ok",
     "timestamp": 1619174195335,
     "user": {
      "displayName": "Alexey Tankov",
      "photoUrl": "",
      "userId": "01729535101672247421"
     },
     "user_tz": -180
    },
    "id": "5kT3FZcTohZy",
    "outputId": "9ea743f6-41a3-4dc3-8a4c-e08c515004c3"
   },
   "outputs": [
    {
     "data": {
      "image/png": "[encoded data removed]",
      "text/plain": [
       "<Figure size 1152x360 with 2 Axes>"
      ]
     },
     "metadata": {
      "needs_background": "light"
     },
     "output_type": "display_data"
    }
   ],
   "source": [
    "plot_model(history_1)"
   ]
  },
  {
   "cell_type": "code",
   "execution_count": 49,
   "metadata": {},
   "outputs": [],
   "source": [
    "result_1 = pd.DataFrame((score_train1[1], score_test1[1], score_train1[0], score_test1[0], model_time1)).T\n",
    "result_1.columns=['train_accuracy', 'test_accuracy', 'train_loss', 'test_loss', 'time']\n",
    "result_1['model'] = 'Simple model'"
   ]
  },
  {
   "cell_type": "markdown",
   "metadata": {
    "id": "kvRsf_rZvexe"
   },
   "source": [
    "### Embedding Layer"
   ]
  },
  {
   "cell_type": "code",
   "execution_count": 50,
   "metadata": {
    "executionInfo": {
     "elapsed": 482488,
     "status": "ok",
     "timestamp": 1619174195337,
     "user": {
      "displayName": "Alexey Tankov",
      "photoUrl": "",
      "userId": "01729535101672247421"
     },
     "user_tz": -180
    },
    "id": "vjLmjEMPv1NO"
   },
   "outputs": [],
   "source": [
    "embedding_dim = 100"
   ]
  },
  {
   "cell_type": "code",
   "execution_count": 51,
   "metadata": {
    "executionInfo": {
     "elapsed": 481967,
     "status": "ok",
     "timestamp": 1619174195339,
     "user": {
      "displayName": "Alexey Tankov",
      "photoUrl": "",
      "userId": "01729535101672247421"
     },
     "user_tz": -180
    },
    "id": "q-ca4dX3vo9y"
   },
   "outputs": [],
   "source": [
    "model_2 = Sequential([\n",
    "    layers.Embedding(input_dim=word_count, output_dim=embedding_dim, input_length=training_length),\n",
    "    layers.Flatten(),\n",
    "    layers.Dense(32, activation='relu'),\n",
    "    layers.Dense(1, activation='sigmoid')\n",
    "])"
   ]
  },
  {
   "cell_type": "code",
   "execution_count": 52,
   "metadata": {
    "executionInfo": {
     "elapsed": 481757,
     "status": "ok",
     "timestamp": 1619174195341,
     "user": {
      "displayName": "Alexey Tankov",
      "photoUrl": "",
      "userId": "01729535101672247421"
     },
     "user_tz": -180
    },
    "id": "8ZqEYjfcvo90"
   },
   "outputs": [],
   "source": [
    "model_2.compile(optimizer='RMSprop',\n",
    "                     loss='binary_crossentropy',\n",
    "                     metrics=['accuracy'])"
   ]
  },
  {
   "cell_type": "code",
   "execution_count": 53,
   "metadata": {
    "colab": {
     "base_uri": "https://localhost:8080/"
    },
    "id": "7vWguG3lvo90",
    "outputId": "2f19d473-59db-4017-99c9-07c41daad349"
   },
   "outputs": [
    {
     "name": "stdout",
     "output_type": "stream",
     "text": [
      "Epoch 1/5\n",
      "2836/2836 [==============================] - 1120s 395ms/step - loss: 0.5339 - accuracy: 0.7225 - val_loss: 0.5311 - val_accuracy: 0.7257\n",
      "Epoch 2/5\n",
      "2836/2836 [==============================] - 1044s 368ms/step - loss: 0.4273 - accuracy: 0.8057 - val_loss: 0.5522 - val_accuracy: 0.7272\n",
      "Epoch 3/5\n",
      "2836/2836 [==============================] - 1183s 417ms/step - loss: 0.3143 - accuracy: 0.8701 - val_loss: 0.5889 - val_accuracy: 0.7202\n",
      "Epoch 4/5\n",
      "2836/2836 [==============================] - 589s 208ms/step - loss: 0.2263 - accuracy: 0.9122 - val_loss: 0.6856 - val_accuracy: 0.7067\n",
      "Epoch 5/5\n",
      "2836/2836 [==============================] - 782s 276ms/step - loss: 0.1658 - accuracy: 0.9381 - val_loss: 0.7273 - val_accuracy: 0.7090\n"
     ]
    }
   ],
   "source": [
    "start_time = time.time()\n",
    "history_2 = model_2.fit(X_train, y_train, batch_size=batch_size, epochs=epochs, validation_data=(X_valid, y_val))\n",
    "model_time2 = (time.time() - start_time)"
   ]
  },
  {
   "cell_type": "code",
   "execution_count": 54,
   "metadata": {
    "id": "aBLj0avmvo91"
   },
   "outputs": [
    {
     "data": {
      "text/plain": [
       "4723.116452217102"
      ]
     },
     "execution_count": 54,
     "metadata": {},
     "output_type": "execute_result"
    }
   ],
   "source": [
    "model_time2"
   ]
  },
  {
   "cell_type": "code",
   "execution_count": 55,
   "metadata": {
    "id": "VRdotQyYvo91"
   },
   "outputs": [],
   "source": [
    "score_train2 = model_2.evaluate(X_train, y_train, verbose=0)\n",
    "score_test2 = model_2.evaluate(X_valid, y_val, verbose=0)"
   ]
  },
  {
   "cell_type": "code",
   "execution_count": 56,
   "metadata": {
    "id": "5HaPq9mCvo92"
   },
   "outputs": [
    {
     "name": "stdout",
     "output_type": "stream",
     "text": [
      "Train loss: 0.10866745561361313\n",
      "Train accuracy: 0.9621253609657288\n",
      "Test loss: 0.7272925972938538\n",
      "Test accuracy: 0.7089890837669373\n"
     ]
    }
   ],
   "source": [
    "print('Train loss:', score_train2[0])\n",
    "print('Train accuracy:', score_train2[1])\n",
    "print('Test loss:', score_test2[0])\n",
    "print('Test accuracy:', score_test2[1])"
   ]
  },
  {
   "cell_type": "code",
   "execution_count": 57,
   "metadata": {
    "id": "pfNeeTL9vo92"
   },
   "outputs": [
    {
     "data": {
      "image/png": "[encoded data removed]",
      "text/plain": [
       "<Figure size 1152x360 with 2 Axes>"
      ]
     },
     "metadata": {
      "needs_background": "light"
     },
     "output_type": "display_data"
    }
   ],
   "source": [
    "plot_model(history_2)"
   ]
  },
  {
   "cell_type": "code",
   "execution_count": 58,
   "metadata": {},
   "outputs": [],
   "source": [
    "result_2 = pd.DataFrame((score_train2[1], score_test2[1], score_train2[0], score_test2[0], model_time2)).T\n",
    "result_2.columns=['train_accuracy', 'test_accuracy', 'train_loss', 'test_loss', 'time']\n",
    "result_2['model'] = 'Embedding Layer'"
   ]
  },
  {
   "cell_type": "markdown",
   "metadata": {
    "id": "z8uWEZ1SxuGG"
   },
   "source": [
    "### Add GlobalMaxPool1D"
   ]
  },
  {
   "cell_type": "code",
   "execution_count": 59,
   "metadata": {
    "id": "97fl3PNexzDg"
   },
   "outputs": [],
   "source": [
    "model_3 = Sequential([\n",
    "    layers.Embedding(input_dim=word_count, output_dim=embedding_dim, input_length=training_length),\n",
    "    layers.GlobalMaxPool1D(),\n",
    "    layers.Dense(32, activation='relu'),\n",
    "    layers.Dense(1, activation='sigmoid')\n",
    "])"
   ]
  },
  {
   "cell_type": "code",
   "execution_count": 60,
   "metadata": {
    "id": "I3K9GleSxzDg"
   },
   "outputs": [],
   "source": [
    "model_3.compile(optimizer='RMSprop',\n",
    "                     loss='binary_crossentropy',\n",
    "                     metrics=['accuracy'])"
   ]
  },
  {
   "cell_type": "code",
   "execution_count": 61,
   "metadata": {
    "id": "BmjmU4tdxzDh"
   },
   "outputs": [
    {
     "name": "stdout",
     "output_type": "stream",
     "text": [
      "Epoch 1/5\n",
      "2836/2836 [==============================] - 597s 210ms/step - loss: 0.1253 - accuracy: 0.9543 - val_loss: 0.7760 - val_accuracy: 0.7040\n",
      "Epoch 2/5\n",
      "2836/2836 [==============================] - 599s 211ms/step - loss: 0.0974 - accuracy: 0.9649 - val_loss: 0.9053 - val_accuracy: 0.6984\n",
      "Epoch 3/5\n",
      "2836/2836 [==============================] - 975s 344ms/step - loss: 0.0770 - accuracy: 0.9727 - val_loss: 0.9375 - val_accuracy: 0.6965\n",
      "Epoch 4/5\n",
      "2836/2836 [==============================] - 710s 250ms/step - loss: 0.0619 - accuracy: 0.9784 - val_loss: 1.0029 - val_accuracy: 0.6972\n",
      "Epoch 5/5\n",
      "2836/2836 [==============================] - 690s 243ms/step - loss: 0.0508 - accuracy: 0.9829 - val_loss: 1.0793 - val_accuracy: 0.6817\n"
     ]
    }
   ],
   "source": [
    "start_time = time.time()\n",
    "history_3 = model_2.fit(X_train, y_train, batch_size=batch_size, epochs=epochs, validation_data=(X_valid, y_val))\n",
    "model_time3 = (time.time() - start_time)"
   ]
  },
  {
   "cell_type": "code",
   "execution_count": 62,
   "metadata": {
    "id": "GTZCR0scxzDi"
   },
   "outputs": [
    {
     "data": {
      "text/plain": [
       "3571.220237016678"
      ]
     },
     "execution_count": 62,
     "metadata": {},
     "output_type": "execute_result"
    }
   ],
   "source": [
    "model_time3"
   ]
  },
  {
   "cell_type": "code",
   "execution_count": 63,
   "metadata": {
    "id": "NrlkyDBwxzDj"
   },
   "outputs": [],
   "source": [
    "score_train3 = model_3.evaluate(X_train, y_train, verbose=0)\n",
    "score_test3 = model_3.evaluate(X_valid, y_val, verbose=0)"
   ]
  },
  {
   "cell_type": "code",
   "execution_count": 64,
   "metadata": {
    "id": "Rlw7TXZwxzDj"
   },
   "outputs": [
    {
     "name": "stdout",
     "output_type": "stream",
     "text": [
      "Train loss: 0.6933565139770508\n",
      "Train accuracy: 0.48915231227874756\n",
      "Test loss: 0.6933636665344238\n",
      "Test accuracy: 0.49235111474990845\n"
     ]
    }
   ],
   "source": [
    "print('Train loss:', score_train3[0])\n",
    "print('Train accuracy:', score_train3[1])\n",
    "print('Test loss:', score_test3[0])\n",
    "print('Test accuracy:', score_test3[1])"
   ]
  },
  {
   "cell_type": "code",
   "execution_count": 65,
   "metadata": {
    "id": "g7tZrkXyxzDn"
   },
   "outputs": [
    {
     "data": {
      "image/png": "[encoded data removed]",
      "text/plain": [
       "<Figure size 1152x360 with 2 Axes>"
      ]
     },
     "metadata": {
      "needs_background": "light"
     },
     "output_type": "display_data"
    }
   ],
   "source": [
    "plot_model(history_3)"
   ]
  },
  {
   "cell_type": "code",
   "execution_count": 66,
   "metadata": {},
   "outputs": [],
   "source": [
    "result_3 = pd.DataFrame((score_train3[1], score_test3[1], score_train3[0], score_test3[0], model_time3)).T\n",
    "result_3.columns=['train_accuracy', 'test_accuracy', 'train_loss', 'test_loss', 'time']\n",
    "result_3['model'] = 'Add GlobalMaxPool1D'"
   ]
  },
  {
   "cell_type": "markdown",
   "metadata": {
    "id": "0Hpc2rV05AF_"
   },
   "source": [
    "### Convolutional Neural Networks (CNN)"
   ]
  },
  {
   "cell_type": "code",
   "execution_count": 67,
   "metadata": {
    "id": "9x8SRUlp5AGD"
   },
   "outputs": [],
   "source": [
    "model_4 = Sequential([\n",
    "    layers.Embedding(input_dim=word_count, output_dim=embedding_dim, input_length=training_length),\n",
    "    layers.Conv1D(128, 5, activation='relu'),\n",
    "    layers.GlobalMaxPool1D(),\n",
    "    layers.Dense(32, activation='relu'),\n",
    "    layers.Dense(1, activation='sigmoid')\n",
    "])"
   ]
  },
  {
   "cell_type": "code",
   "execution_count": 68,
   "metadata": {
    "id": "egn5shq55AGF"
   },
   "outputs": [],
   "source": [
    "model_4.compile(optimizer='RMSprop',\n",
    "                     loss='binary_crossentropy',\n",
    "                     metrics=['accuracy'])"
   ]
  },
  {
   "cell_type": "code",
   "execution_count": 69,
   "metadata": {
    "id": "6zok19tZ5AGG"
   },
   "outputs": [
    {
     "name": "stdout",
     "output_type": "stream",
     "text": [
      "Epoch 1/5\n",
      "2836/2836 [==============================] - 641s 226ms/step - loss: 0.5293 - accuracy: 0.7253 - val_loss: 0.5625 - val_accuracy: 0.7178\n",
      "Epoch 2/5\n",
      "2836/2836 [==============================] - 921s 325ms/step - loss: 0.3937 - accuracy: 0.8246 - val_loss: 0.5850 - val_accuracy: 0.7303\n",
      "Epoch 3/5\n",
      "2836/2836 [==============================] - 688s 243ms/step - loss: 0.2428 - accuracy: 0.9045 - val_loss: 0.6009 - val_accuracy: 0.7442\n",
      "Epoch 4/5\n",
      "2836/2836 [==============================] - 1032s 364ms/step - loss: 0.1451 - accuracy: 0.9468 - val_loss: 0.6728 - val_accuracy: 0.7348\n",
      "Epoch 5/5\n",
      "2836/2836 [==============================] - 636s 224ms/step - loss: 0.0911 - accuracy: 0.9682 - val_loss: 0.7931 - val_accuracy: 0.7209\n"
     ]
    }
   ],
   "source": [
    "start_time = time.time()\n",
    "history_4 = model_4.fit(X_train, y_train, batch_size=batch_size, epochs=epochs, validation_data=(X_valid, y_val))\n",
    "model_time4 = (time.time() - start_time)"
   ]
  },
  {
   "cell_type": "code",
   "execution_count": 70,
   "metadata": {
    "id": "NDZRreJC5AGH"
   },
   "outputs": [
    {
     "data": {
      "text/plain": [
       "3920.3624544143677"
      ]
     },
     "execution_count": 70,
     "metadata": {},
     "output_type": "execute_result"
    }
   ],
   "source": [
    "model_time4"
   ]
  },
  {
   "cell_type": "code",
   "execution_count": 71,
   "metadata": {
    "id": "dn__icmZ5AGH"
   },
   "outputs": [],
   "source": [
    "score_train4 = model_4.evaluate(X_train, y_train, verbose=0)\n",
    "score_test4 = model_4.evaluate(X_valid, y_val, verbose=0)"
   ]
  },
  {
   "cell_type": "code",
   "execution_count": 72,
   "metadata": {
    "id": "A3hHyGO15AGI"
   },
   "outputs": [
    {
     "name": "stdout",
     "output_type": "stream",
     "text": [
      "Train loss: 0.6933565139770508\n",
      "Train accuracy: 0.48915231227874756\n",
      "Test loss: 0.6933636665344238\n",
      "Test accuracy: 0.49235111474990845\n"
     ]
    }
   ],
   "source": [
    "print('Train loss:', score_train3[0])\n",
    "print('Train accuracy:', score_train3[1])\n",
    "print('Test loss:', score_test3[0])\n",
    "print('Test accuracy:', score_test3[1])"
   ]
  },
  {
   "cell_type": "code",
   "execution_count": 73,
   "metadata": {
    "id": "ntwCBN-X5AGK"
   },
   "outputs": [
    {
     "data": {
      "image/png": "[encoded data removed]",
      "text/plain": [
       "<Figure size 1152x360 with 2 Axes>"
      ]
     },
     "metadata": {
      "needs_background": "light"
     },
     "output_type": "display_data"
    }
   ],
   "source": [
    "plot_model(history_4)"
   ]
  },
  {
   "cell_type": "code",
   "execution_count": 74,
   "metadata": {},
   "outputs": [],
   "source": [
    "result_4 = pd.DataFrame((score_train4[1], score_test4[1], score_train4[0], score_test4[0], model_time4)).T\n",
    "result_4.columns=['train_accuracy', 'test_accuracy', 'train_loss', 'test_loss', 'time']\n",
    "result_4['model'] = 'CNN'"
   ]
  },
  {
   "cell_type": "markdown",
   "metadata": {
    "id": "hVkXeHoiIxuR"
   },
   "source": [
    "### Add Dropout"
   ]
  },
  {
   "cell_type": "code",
   "execution_count": 75,
   "metadata": {
    "id": "OxLSzVg_IBHh"
   },
   "outputs": [],
   "source": [
    "model_5 = Sequential([\n",
    "    layers.Embedding(input_dim=word_count, output_dim=embedding_dim, input_length=training_length),\n",
    "    layers.Dropout(0.2),\n",
    "    layers.Conv1D(128, 5, activation='relu'),\n",
    "    layers.GlobalMaxPool1D(),\n",
    "    layers.Dense(32, activation='relu'),\n",
    "    layers.Dropout(0.2),\n",
    "    layers.Dense(1, activation='sigmoid')\n",
    "])"
   ]
  },
  {
   "cell_type": "code",
   "execution_count": 76,
   "metadata": {
    "id": "DvI5JYOVIBHi"
   },
   "outputs": [],
   "source": [
    "model_5.compile(optimizer='RMSprop',\n",
    "                     loss='binary_crossentropy',\n",
    "                     metrics=['accuracy'])"
   ]
  },
  {
   "cell_type": "code",
   "execution_count": 77,
   "metadata": {
    "id": "putSSunJIBHj"
   },
   "outputs": [
    {
     "name": "stdout",
     "output_type": "stream",
     "text": [
      "Epoch 1/5\n",
      "2836/2836 [==============================] - 653s 230ms/step - loss: 0.5401 - accuracy: 0.7193 - val_loss: 0.5422 - val_accuracy: 0.7219\n",
      "Epoch 2/5\n",
      "2836/2836 [==============================] - 961s 339ms/step - loss: 0.4384 - accuracy: 0.7986 - val_loss: 0.5447 - val_accuracy: 0.7410\n",
      "Epoch 3/5\n",
      "2836/2836 [==============================] - 660s 233ms/step - loss: 0.3211 - accuracy: 0.8669 - val_loss: 0.5683 - val_accuracy: 0.7368\n",
      "Epoch 4/5\n",
      "2836/2836 [==============================] - 1076s 379ms/step - loss: 0.2301 - accuracy: 0.9104 - val_loss: 0.6395 - val_accuracy: 0.7369\n",
      "Epoch 5/5\n",
      "2836/2836 [==============================] - 618s 218ms/step - loss: 0.1732 - accuracy: 0.9361 - val_loss: 0.6763 - val_accuracy: 0.7359\n"
     ]
    }
   ],
   "source": [
    "start_time = time.time()\n",
    "history_5 = model_5.fit(X_train, y_train, batch_size=batch_size, epochs=epochs, validation_data=(X_valid, y_val))\n",
    "model_time5 = (time.time() - start_time)"
   ]
  },
  {
   "cell_type": "code",
   "execution_count": 78,
   "metadata": {
    "id": "ibM7D5J9IBHk"
   },
   "outputs": [
    {
     "data": {
      "text/plain": [
       "3971.6288628578186"
      ]
     },
     "execution_count": 78,
     "metadata": {},
     "output_type": "execute_result"
    }
   ],
   "source": [
    "model_time5"
   ]
  },
  {
   "cell_type": "code",
   "execution_count": 79,
   "metadata": {
    "id": "QsUSG7YvIBHl"
   },
   "outputs": [],
   "source": [
    "score_train5 = model_5.evaluate(X_train, y_train, verbose=0)\n",
    "score_test5 = model_5.evaluate(X_valid, y_val, verbose=0)"
   ]
  },
  {
   "cell_type": "code",
   "execution_count": 80,
   "metadata": {
    "id": "MNz0ZGvCIBHm"
   },
   "outputs": [
    {
     "name": "stdout",
     "output_type": "stream",
     "text": [
      "Train loss: 0.6933565139770508\n",
      "Train accuracy: 0.48915231227874756\n",
      "Test loss: 0.6933636665344238\n",
      "Test accuracy: 0.49235111474990845\n"
     ]
    }
   ],
   "source": [
    "print('Train loss:', score_train3[0])\n",
    "print('Train accuracy:', score_train3[1])\n",
    "print('Test loss:', score_test3[0])\n",
    "print('Test accuracy:', score_test3[1])"
   ]
  },
  {
   "cell_type": "code",
   "execution_count": 81,
   "metadata": {
    "id": "rsjn7T_sIBHo"
   },
   "outputs": [
    {
     "data": {
      "image/png": "[encoded data removed]",
      "text/plain": [
       "<Figure size 1152x360 with 2 Axes>"
      ]
     },
     "metadata": {
      "needs_background": "light"
     },
     "output_type": "display_data"
    }
   ],
   "source": [
    "plot_model(history_5)"
   ]
  },
  {
   "cell_type": "code",
   "execution_count": 82,
   "metadata": {},
   "outputs": [],
   "source": [
    "result_5 = pd.DataFrame((score_train5[1], score_test5[1], score_train5[0], score_test5[0], model_time5)).T\n",
    "result_5.columns=['train_accuracy', 'test_accuracy', 'train_loss', 'test_loss', 'time']\n",
    "result_5['model'] = 'Add Dropout'"
   ]
  },
  {
   "cell_type": "markdown",
   "metadata": {
    "id": "lPDaMnaLJFci"
   },
   "source": [
    "### CNN + LSTM"
   ]
  },
  {
   "cell_type": "code",
   "execution_count": 83,
   "metadata": {
    "id": "tZ57s6L5JKEz"
   },
   "outputs": [],
   "source": [
    "model_6 = Sequential([\n",
    "    layers.Embedding(input_dim=word_count, output_dim=embedding_dim, input_length=training_length),\n",
    "    layers.Dropout(0.2),\n",
    "    layers.Conv1D(128, 5, activation='relu'),\n",
    "    layers.LSTM(64),\n",
    "    layers.Dense(32, activation='relu'),\n",
    "    layers.Dropout(0.2),\n",
    "    layers.Dense(1, activation='sigmoid')\n",
    "])"
   ]
  },
  {
   "cell_type": "code",
   "execution_count": 84,
   "metadata": {
    "id": "edtTpDLDJKE0"
   },
   "outputs": [],
   "source": [
    "model_6.compile(optimizer='RMSprop',\n",
    "                     loss='binary_crossentropy',\n",
    "                     metrics=['accuracy'])"
   ]
  },
  {
   "cell_type": "code",
   "execution_count": 85,
   "metadata": {
    "id": "821q6K53JKE1"
   },
   "outputs": [
    {
     "name": "stdout",
     "output_type": "stream",
     "text": [
      "Epoch 1/5\n",
      "2836/2836 [==============================] - 677s 239ms/step - loss: 0.5357 - accuracy: 0.7231 - val_loss: 0.5325 - val_accuracy: 0.7297\n",
      "Epoch 2/5\n",
      "2836/2836 [==============================] - 688s 243ms/step - loss: 0.3892 - accuracy: 0.8263 - val_loss: 0.5287 - val_accuracy: 0.7489\n",
      "Epoch 3/5\n",
      "2836/2836 [==============================] - 644s 227ms/step - loss: 0.2526 - accuracy: 0.8972 - val_loss: 0.5885 - val_accuracy: 0.7424\n",
      "Epoch 4/5\n",
      "2836/2836 [==============================] - 614s 216ms/step - loss: 0.1924 - accuracy: 0.9246 - val_loss: 0.6667 - val_accuracy: 0.7323\n",
      "Epoch 5/5\n",
      "2836/2836 [==============================] - 685s 242ms/step - loss: 0.1583 - accuracy: 0.9389 - val_loss: 0.7391 - val_accuracy: 0.7279\n"
     ]
    }
   ],
   "source": [
    "start_time = time.time()\n",
    "history_6 = model_6.fit(X_train, y_train, batch_size=batch_size, epochs=epochs, validation_data=(X_valid, y_val))\n",
    "model_time6 = (time.time() - start_time)"
   ]
  },
  {
   "cell_type": "code",
   "execution_count": 86,
   "metadata": {
    "id": "2upevqm0JKE1"
   },
   "outputs": [
    {
     "data": {
      "text/plain": [
       "3313.338180541992"
      ]
     },
     "execution_count": 86,
     "metadata": {},
     "output_type": "execute_result"
    }
   ],
   "source": [
    "model_time6"
   ]
  },
  {
   "cell_type": "code",
   "execution_count": 87,
   "metadata": {
    "id": "PPF8utPwJKE2"
   },
   "outputs": [],
   "source": [
    "score_train6 = model_6.evaluate(X_train, y_train, verbose=0)\n",
    "score_test6 = model_6.evaluate(X_valid, y_val, verbose=0)"
   ]
  },
  {
   "cell_type": "code",
   "execution_count": 88,
   "metadata": {
    "id": "ijnAUUkVJKE2"
   },
   "outputs": [
    {
     "name": "stdout",
     "output_type": "stream",
     "text": [
      "Train loss: 0.10368457436561584\n",
      "Train accuracy: 0.9608523845672607\n",
      "Test loss: 0.7391241192817688\n",
      "Test accuracy: 0.7279460430145264\n"
     ]
    }
   ],
   "source": [
    "print('Train loss:', score_train6[0])\n",
    "print('Train accuracy:', score_train6[1])\n",
    "print('Test loss:', score_test6[0])\n",
    "print('Test accuracy:', score_test6[1])"
   ]
  },
  {
   "cell_type": "code",
   "execution_count": 89,
   "metadata": {
    "id": "1q3Gioo6JKE4"
   },
   "outputs": [
    {
     "data": {
      "image/png": "[encoded data removed]",
      "text/plain": [
       "<Figure size 1152x360 with 2 Axes>"
      ]
     },
     "metadata": {
      "needs_background": "light"
     },
     "output_type": "display_data"
    }
   ],
   "source": [
    "plot_model(history_6)"
   ]
  },
  {
   "cell_type": "code",
   "execution_count": 90,
   "metadata": {
    "id": "KWLvNTCcXX5S"
   },
   "outputs": [],
   "source": [
    "result_6 = pd.DataFrame((score_train6[1], score_test6[1], score_train6[0], score_test6[0], model_time6)).T\n",
    "result_6.columns=['train_accuracy', 'test_accuracy', 'train_loss', 'test_loss', 'time']\n",
    "result_6['model'] = 'CNN + LSTM'"
   ]
  },
  {
   "cell_type": "markdown",
   "metadata": {
    "id": "CKLcoH3fKJUS"
   },
   "source": [
    "### GRU + CNN"
   ]
  },
  {
   "cell_type": "code",
   "execution_count": 91,
   "metadata": {
    "id": "UibwMaBkKJUT"
   },
   "outputs": [],
   "source": [
    "model_7 = Sequential([\n",
    "    layers.Embedding(input_dim=word_count, output_dim=embedding_dim, input_length=training_length),\n",
    "    layers.Dropout(0.2),\n",
    "    layers.Bidirectional(layers.LSTM(64, return_sequences=True), input_shape=(5, 10)),\n",
    "    layers.Conv1D(128, 5, activation='relu'),\n",
    "    layers.GlobalMaxPool1D(),\n",
    "    layers.Dense(10, activation='relu'),\n",
    "    layers.Dropout(0.2),\n",
    "    layers.Dense(1, activation='sigmoid')\n",
    "])"
   ]
  },
  {
   "cell_type": "code",
   "execution_count": 92,
   "metadata": {
    "id": "UfudEe9PKJUT"
   },
   "outputs": [],
   "source": [
    "model_7.compile(optimizer='RMSprop',\n",
    "                     loss='binary_crossentropy',\n",
    "                     metrics=['accuracy'])"
   ]
  },
  {
   "cell_type": "code",
   "execution_count": 93,
   "metadata": {
    "id": "hMCZYczVKJUU"
   },
   "outputs": [
    {
     "name": "stdout",
     "output_type": "stream",
     "text": [
      "Epoch 1/5\n",
      "2836/2836 [==============================] - 693s 244ms/step - loss: 0.5457 - accuracy: 0.7192 - val_loss: 0.5459 - val_accuracy: 0.7269\n",
      "Epoch 2/5\n",
      "2836/2836 [==============================] - 694s 245ms/step - loss: 0.4425 - accuracy: 0.7975 - val_loss: 0.5307 - val_accuracy: 0.7484\n",
      "Epoch 3/5\n",
      "2836/2836 [==============================] - 684s 241ms/step - loss: 0.3220 - accuracy: 0.8673 - val_loss: 0.5670 - val_accuracy: 0.7447\n",
      "Epoch 4/5\n",
      "2836/2836 [==============================] - 707s 249ms/step - loss: 0.2451 - accuracy: 0.9040 - val_loss: 0.6228 - val_accuracy: 0.7360\n",
      "Epoch 5/5\n",
      "2836/2836 [==============================] - 783s 276ms/step - loss: 0.2050 - accuracy: 0.9222 - val_loss: 0.6434 - val_accuracy: 0.7393\n"
     ]
    }
   ],
   "source": [
    "start_time = time.time()\n",
    "history_7 = model_7.fit(X_train, y_train, batch_size=batch_size, epochs=epochs, validation_data=(X_valid, y_val))\n",
    "model_time7 = (time.time() - start_time)"
   ]
  },
  {
   "cell_type": "code",
   "execution_count": 94,
   "metadata": {
    "id": "TP4hyKU-KJUV"
   },
   "outputs": [
    {
     "data": {
      "text/plain": [
       "3568.805894613266"
      ]
     },
     "execution_count": 94,
     "metadata": {},
     "output_type": "execute_result"
    }
   ],
   "source": [
    "model_time7"
   ]
  },
  {
   "cell_type": "code",
   "execution_count": 95,
   "metadata": {
    "id": "4ZP5qV5UKJUW"
   },
   "outputs": [],
   "source": [
    "score_train7 = model_7.evaluate(X_train, y_train, verbose=0)\n",
    "score_test7 = model_7.evaluate(X_valid, y_val, verbose=0)"
   ]
  },
  {
   "cell_type": "code",
   "execution_count": 96,
   "metadata": {},
   "outputs": [
    {
     "name": "stdout",
     "output_type": "stream",
     "text": [
      "Train loss: 0.14557696878910065\n",
      "Train accuracy: 0.9443424940109253\n",
      "Test loss: 0.643434464931488\n",
      "Test accuracy: 0.7393202185630798\n"
     ]
    }
   ],
   "source": [
    "print('Train loss:', score_train7[0])\n",
    "print('Train accuracy:', score_train7[1])\n",
    "print('Test loss:', score_test7[0])\n",
    "print('Test accuracy:', score_test7[1])"
   ]
  },
  {
   "cell_type": "code",
   "execution_count": 97,
   "metadata": {
    "id": "sDwrINRaKJUZ"
   },
   "outputs": [
    {
     "data": {
      "image/png": "[encoded data removed]",
      "text/plain": [
       "<Figure size 1152x360 with 2 Axes>"
      ]
     },
     "metadata": {
      "needs_background": "light"
     },
     "output_type": "display_data"
    }
   ],
   "source": [
    "plot_model(history_7)"
   ]
  },
  {
   "cell_type": "code",
   "execution_count": 98,
   "metadata": {
    "id": "jrH9Wa8F29Zb"
   },
   "outputs": [],
   "source": [
    "result_7 = pd.DataFrame((score_train7[1], score_test7[1], score_train7[0], score_test7[0], model_time7)).T\n",
    "result_7.columns=['train_accuracy', 'test_accuracy', 'train_loss', 'test_loss', 'time']\n",
    "result_7['model'] = 'GRU + CNN'"
   ]
  },
  {
   "cell_type": "markdown",
   "metadata": {
    "id": "Q_LxO1XS2t6W"
   },
   "source": [
    "### Results"
   ]
  },
  {
   "cell_type": "code",
   "execution_count": 132,
   "metadata": {
    "id": "_rajPRoIfv_f"
   },
   "outputs": [],
   "source": [
    "final_results = pd.concat([baseline_lr, baseline_lsvc, result_1, result_2, result_3, result_4, result_5, result_6, result_7], axis=0)"
   ]
  },
  {
   "cell_type": "code",
   "execution_count": 133,
   "metadata": {
    "colab": {
     "base_uri": "https://localhost:8080/",
     "height": 545
    },
    "executionInfo": {
     "elapsed": 714,
     "status": "ok",
     "timestamp": 1618917857320,
     "user": {
      "displayName": "Alexey Tankov",
      "photoUrl": "",
      "userId": "01729535101672247421"
     },
     "user_tz": -180
    },
    "id": "ykqnotaEnzfI",
    "outputId": "5e8558b6-1bb2-4b75-8259-2a0e2cf56dc0"
   },
   "outputs": [
    {
     "data": {
      "text/html": [
       "<div>\n",
       "<style scoped>\n",
       "    .dataframe tbody tr th:only-of-type {\n",
       "        vertical-align: middle;\n",
       "    }\n",
       "\n",
       "    .dataframe tbody tr th {\n",
       "        vertical-align: top;\n",
       "    }\n",
       "\n",
       "    .dataframe thead th {\n",
       "        text-align: right;\n",
       "    }\n",
       "</style>\n",
       "<table border=\"1\" class=\"dataframe\">\n",
       "  <thead>\n",
       "    <tr style=\"text-align: right;\">\n",
       "      <th></th>\n",
       "      <th>model</th>\n",
       "      <th>train_accuracy</th>\n",
       "      <th>test_accuracy</th>\n",
       "      <th>time</th>\n",
       "      <th>train_loss</th>\n",
       "      <th>test_loss</th>\n",
       "    </tr>\n",
       "  </thead>\n",
       "  <tbody>\n",
       "    <tr>\n",
       "      <th>1</th>\n",
       "      <td>CountVectorizer_LR2</td>\n",
       "      <td>0.91816</td>\n",
       "      <td>0.75360</td>\n",
       "      <td>45.81606</td>\n",
       "      <td>NaN</td>\n",
       "      <td>NaN</td>\n",
       "    </tr>\n",
       "    <tr>\n",
       "      <th>0</th>\n",
       "      <td>CountVectorizer_LR</td>\n",
       "      <td>0.90335</td>\n",
       "      <td>0.73998</td>\n",
       "      <td>52.44985</td>\n",
       "      <td>NaN</td>\n",
       "      <td>NaN</td>\n",
       "    </tr>\n",
       "    <tr>\n",
       "      <th>0</th>\n",
       "      <td>GRU + CNN</td>\n",
       "      <td>0.94434</td>\n",
       "      <td>0.73932</td>\n",
       "      <td>3568.80589</td>\n",
       "      <td>0.14558</td>\n",
       "      <td>0.64343</td>\n",
       "    </tr>\n",
       "    <tr>\n",
       "      <th>1</th>\n",
       "      <td>TfidfVectorizer_LSVC</td>\n",
       "      <td>0.96287</td>\n",
       "      <td>0.73817</td>\n",
       "      <td>13.05381</td>\n",
       "      <td>NaN</td>\n",
       "      <td>NaN</td>\n",
       "    </tr>\n",
       "    <tr>\n",
       "      <th>2</th>\n",
       "      <td>HashingVectorizer_LSVC</td>\n",
       "      <td>0.93225</td>\n",
       "      <td>0.73782</td>\n",
       "      <td>7.82649</td>\n",
       "      <td>NaN</td>\n",
       "      <td>NaN</td>\n",
       "    </tr>\n",
       "    <tr>\n",
       "      <th>2</th>\n",
       "      <td>TfidfVectorizer_LR</td>\n",
       "      <td>0.84350</td>\n",
       "      <td>0.73756</td>\n",
       "      <td>49.06377</td>\n",
       "      <td>NaN</td>\n",
       "      <td>NaN</td>\n",
       "    </tr>\n",
       "    <tr>\n",
       "      <th>0</th>\n",
       "      <td>Add Dropout</td>\n",
       "      <td>0.96820</td>\n",
       "      <td>0.73593</td>\n",
       "      <td>3971.62886</td>\n",
       "      <td>0.09476</td>\n",
       "      <td>0.67631</td>\n",
       "    </tr>\n",
       "    <tr>\n",
       "      <th>0</th>\n",
       "      <td>CNN + LSTM</td>\n",
       "      <td>0.96085</td>\n",
       "      <td>0.72795</td>\n",
       "      <td>3313.33818</td>\n",
       "      <td>0.10368</td>\n",
       "      <td>0.73912</td>\n",
       "    </tr>\n",
       "    <tr>\n",
       "      <th>0</th>\n",
       "      <td>CountVectorizer_LSVC</td>\n",
       "      <td>0.97973</td>\n",
       "      <td>0.72777</td>\n",
       "      <td>67.67929</td>\n",
       "      <td>NaN</td>\n",
       "      <td>NaN</td>\n",
       "    </tr>\n",
       "    <tr>\n",
       "      <th>3</th>\n",
       "      <td>HashingVectorizer_LR</td>\n",
       "      <td>0.80842</td>\n",
       "      <td>0.72684</td>\n",
       "      <td>36.98275</td>\n",
       "      <td>NaN</td>\n",
       "      <td>NaN</td>\n",
       "    </tr>\n",
       "    <tr>\n",
       "      <th>0</th>\n",
       "      <td>CNN</td>\n",
       "      <td>0.98709</td>\n",
       "      <td>0.72094</td>\n",
       "      <td>3920.36245</td>\n",
       "      <td>0.04167</td>\n",
       "      <td>0.79306</td>\n",
       "    </tr>\n",
       "    <tr>\n",
       "      <th>0</th>\n",
       "      <td>Embedding Layer</td>\n",
       "      <td>0.96213</td>\n",
       "      <td>0.70899</td>\n",
       "      <td>4723.11645</td>\n",
       "      <td>0.10867</td>\n",
       "      <td>0.72729</td>\n",
       "    </tr>\n",
       "    <tr>\n",
       "      <th>0</th>\n",
       "      <td>Simple model</td>\n",
       "      <td>0.53414</td>\n",
       "      <td>0.52877</td>\n",
       "      <td>46.52676</td>\n",
       "      <td>63.81258</td>\n",
       "      <td>23.11372</td>\n",
       "    </tr>\n",
       "    <tr>\n",
       "      <th>0</th>\n",
       "      <td>Add GlobalMaxPool1D</td>\n",
       "      <td>0.48915</td>\n",
       "      <td>0.49235</td>\n",
       "      <td>3571.22024</td>\n",
       "      <td>0.69336</td>\n",
       "      <td>0.69336</td>\n",
       "    </tr>\n",
       "  </tbody>\n",
       "</table>\n",
       "</div>"
      ],
      "text/plain": [
       "                    model  train_accuracy  test_accuracy       time  \\\n",
       "1     CountVectorizer_LR2         0.91816        0.75360   45.81606   \n",
       "0      CountVectorizer_LR         0.90335        0.73998   52.44985   \n",
       "0               GRU + CNN         0.94434        0.73932 3568.80589   \n",
       "1    TfidfVectorizer_LSVC         0.96287        0.73817   13.05381   \n",
       "2  HashingVectorizer_LSVC         0.93225        0.73782    7.82649   \n",
       "2      TfidfVectorizer_LR         0.84350        0.73756   49.06377   \n",
       "0             Add Dropout         0.96820        0.73593 3971.62886   \n",
       "0              CNN + LSTM         0.96085        0.72795 3313.33818   \n",
       "0    CountVectorizer_LSVC         0.97973        0.72777   67.67929   \n",
       "3    HashingVectorizer_LR         0.80842        0.72684   36.98275   \n",
       "0                     CNN         0.98709        0.72094 3920.36245   \n",
       "0         Embedding Layer         0.96213        0.70899 4723.11645   \n",
       "0            Simple model         0.53414        0.52877   46.52676   \n",
       "0     Add GlobalMaxPool1D         0.48915        0.49235 3571.22024   \n",
       "\n",
       "   train_loss  test_loss  \n",
       "1         NaN        NaN  \n",
       "0         NaN        NaN  \n",
       "0     0.14558    0.64343  \n",
       "1         NaN        NaN  \n",
       "2         NaN        NaN  \n",
       "2         NaN        NaN  \n",
       "0     0.09476    0.67631  \n",
       "0     0.10368    0.73912  \n",
       "0         NaN        NaN  \n",
       "3         NaN        NaN  \n",
       "0     0.04167    0.79306  \n",
       "0     0.10867    0.72729  \n",
       "0    63.81258   23.11372  \n",
       "0     0.69336    0.69336  "
      ]
     },
     "execution_count": 133,
     "metadata": {},
     "output_type": "execute_result"
    }
   ],
   "source": [
    "final_results.sort_values('test_accuracy', ascending=False)"
   ]
  },
  {
   "cell_type": "code",
   "execution_count": 101,
   "metadata": {
    "colab": {
     "base_uri": "https://localhost:8080/",
     "height": 688
    },
    "executionInfo": {
     "elapsed": 493441,
     "status": "ok",
     "timestamp": 1618917579059,
     "user": {
      "displayName": "Alexey Tankov",
      "photoUrl": "",
      "userId": "01729535101672247421"
     },
     "user_tz": -180
    },
    "id": "X7Ue_0_qIuXE",
    "outputId": "0ef07180-8562-46f4-b1f2-aa7cbd2c71b0"
   },
   "outputs": [
    {
     "data": {
      "image/png": "[encoded data removed]",
      "text/plain": [
       "<Figure size 1296x792 with 1 Axes>"
      ]
     },
     "metadata": {
      "needs_background": "light"
     },
     "output_type": "display_data"
    }
   ],
   "source": [
    "plt.figure(figsize=(18, 11))\n",
    "plt.plot(history_1.history['accuracy'], label='Simple model')\n",
    "plt.plot(history_2.history['accuracy'], label='Embedding Layer')\n",
    "plt.plot(history_3.history['accuracy'], label='Add GlobalMaxPool1D')\n",
    "plt.plot(history_4.history['accuracy'], label='CNN')\n",
    "plt.plot(history_5.history['accuracy'], label='Add Dropout')\n",
    "plt.plot(history_6.history['accuracy'], label='CNN + LSTM')\n",
    "plt.plot(history_7.history['accuracy'], label='GRU + CNN')\n",
    "plt.legend()\n",
    "plt.xlabel('Epochs')\n",
    "plt.ylabel('Accuracy')\n",
    "plt.title('Accuracy of epochs')\n",
    "plt.show()"
   ]
  },
  {
   "cell_type": "code",
   "execution_count": 102,
   "metadata": {
    "colab": {
     "base_uri": "https://localhost:8080/",
     "height": 688
    },
    "executionInfo": {
     "elapsed": 494325,
     "status": "ok",
     "timestamp": 1618917579956,
     "user": {
      "displayName": "Alexey Tankov",
      "photoUrl": "",
      "userId": "01729535101672247421"
     },
     "user_tz": -180
    },
    "id": "NZQss6tNIuZt",
    "outputId": "a9960d4b-b225-492a-e98b-a60b29f16f7c"
   },
   "outputs": [
    {
     "data": {
      "image/png": "[encoded data removed]",
      "text/plain": [
       "<Figure size 1296x792 with 1 Axes>"
      ]
     },
     "metadata": {
      "needs_background": "light"
     },
     "output_type": "display_data"
    }
   ],
   "source": [
    "plt.figure(figsize=(18, 11))\n",
    "plt.plot(history_1.history['val_accuracy'], label='Simple model')\n",
    "plt.plot(history_2.history['val_accuracy'], label='Embedding Layer')\n",
    "plt.plot(history_3.history['val_accuracy'], label='Add GlobalMaxPool1D')\n",
    "plt.plot(history_4.history['val_accuracy'], label='CNN')\n",
    "plt.plot(history_5.history['val_accuracy'], label='Add Dropout')\n",
    "plt.plot(history_6.history['val_accuracy'], label='CNN + LSTM')\n",
    "plt.plot(history_7.history['val_accuracy'], label='GRU + CNN')\n",
    "plt.legend()\n",
    "plt.xlabel('Epochs')\n",
    "plt.ylabel('Accuracy')\n",
    "plt.title('Val_accuracy of epochs')\n",
    "plt.show()"
   ]
  },
  {
   "cell_type": "code",
   "execution_count": null,
   "metadata": {},
   "outputs": [],
   "source": []
  }
 ],
 "metadata": {
  "accelerator": "GPU",
  "colab": {
   "collapsed_sections": [],
   "name": "hw_08.ipynb",
   "provenance": []
  },
  "kernelspec": {
   "display_name": "Python 3",
   "language": "python",
   "name": "python3"
  },
  "language_info": {
   "codemirror_mode": {
    "name": "ipython",
    "version": 3
   },
   "file_extension": ".py",
   "mimetype": "text/x-python",
   "name": "python",
   "nbconvert_exporter": "python",
   "pygments_lexer": "ipython3",
   "version": "3.8.8"
  }
 },
 "nbformat": 4,
 "nbformat_minor": 1
}
