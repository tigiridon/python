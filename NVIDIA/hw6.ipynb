{
 "cells": [
  {
   "cell_type": "markdown",
   "metadata": {},
   "source": [
    "##### From SAV to Love"
   ]
  },
  {
   "cell_type": "markdown",
   "metadata": {},
   "source": [
    "# HW №6"
   ]
  },
  {
   "cell_type": "markdown",
   "metadata": {
    "id": "3ZrA2tAaZTPf"
   },
   "source": [
    "## Введение в обработку естественного языка\n",
    "### Урок 6. Классификация текста. Анализ тональности текста"
   ]
  },
  {
   "cell_type": "markdown",
   "metadata": {
    "id": "IkpcHsV8RWHA"
   },
   "source": [
    "### Практическое задание\n",
    "### Взять ноутбук colab_text_classification_part1.ipynb который разбирали на занятии и добавить пункты которые мы пропустили"
   ]
  },
  {
   "cell_type": "code",
   "execution_count": null,
   "metadata": {
    "colab": {
     "base_uri": "https://localhost:8080/",
     "height": 17
    },
    "executionInfo": {
     "elapsed": 662,
     "status": "ok",
     "timestamp": 1618734208149,
     "user": {
      "displayName": "Alexey Tankov",
      "photoUrl": "",
      "userId": "01729535101672247421"
     },
     "user_tz": -180
    },
    "id": "JAFnV_UjZTPT",
    "outputId": "7e7f3d85-970b-4b43-dcb9-0e061ae1be24"
   },
   "outputs": [
    {
     "data": {
      "text/html": [
       "<style>.container { width:77% !important; }</style>"
      ],
      "text/plain": [
       "<IPython.core.display.HTML object>"
      ]
     },
     "metadata": {
      "tags": []
     },
     "output_type": "display_data"
    }
   ],
   "source": [
    "from IPython.core.display import display, HTML, Image\n",
    "display(HTML(\"<style>.container { width:77% !important; }</style>\"))"
   ]
  },
  {
   "cell_type": "code",
   "execution_count": null,
   "metadata": {
    "id": "DtDZ7JuBVFi6"
   },
   "outputs": [],
   "source": [
    "import warnings\n",
    "warnings.filterwarnings(\"ignore\")"
   ]
  },
  {
   "cell_type": "code",
   "execution_count": null,
   "metadata": {
    "id": "f3wgBldxU7Zz"
   },
   "outputs": [],
   "source": [
    "import sys\n",
    "\n",
    "import re\n",
    "import numpy as np\n",
    "import pandas as pd\n",
    "import matplotlib.pyplot as plt\n",
    "%matplotlib inline\n",
    "\n",
    "from sklearn.feature_extraction.text import CountVectorizer, TfidfVectorizer, HashingVectorizer\n",
    "from sklearn.linear_model import LogisticRegression\n",
    "from sklearn.ensemble import RandomForestClassifier\n",
    "from sklearn.pipeline import Pipeline\n",
    "from sklearn.metrics import accuracy_score\n",
    "\n",
    "from collections import Counter\n",
    "\n",
    "import tensorflow as tf\n",
    "from tensorflow.keras import Sequential\n",
    "from tensorflow.keras import layers"
   ]
  },
  {
   "cell_type": "code",
   "execution_count": null,
   "metadata": {
    "id": "YeDmCZXDyAKc"
   },
   "outputs": [],
   "source": [
    "import nltk\n",
    "\n",
    "from nltk.tag import BigramTagger, TrigramTagger, UnigramTagger\n",
    "from nltk.corpus import stopwords\n",
    "from nltk.tokenize import word_tokenize\n",
    "from nltk.stem import WordNetLemmatizer\n",
    "from nltk.corpus import wordnet"
   ]
  },
  {
   "cell_type": "code",
   "execution_count": null,
   "metadata": {
    "id": "ryYpnhyUqnJ8"
   },
   "outputs": [],
   "source": [
    "# nltk.download('stopwords')\n",
    "# nltk.download('punkt')\n",
    "# nltk.download('wordnet')\n",
    "# nltk.download('averaged_perceptron_tagger')\n",
    "# nltk.download('maxent_ne_chunker')\n",
    "# nltk.download('words')\n",
    "# nltk.download('names')"
   ]
  },
  {
   "cell_type": "code",
   "execution_count": null,
   "metadata": {
    "id": "fdBjruNZWnmU"
   },
   "outputs": [],
   "source": [
    "def eval_model(model, test_df):\n",
    "    preds = model.predict(test_df['review'])\n",
    "    accuracy = accuracy_score(test_df['is_positive'], preds)\n",
    "    \n",
    "    result = round(accuracy*100, 2)\n",
    "    # print(f'Test accuracy = {result}%')\n",
    "    \n",
    "    return result\n",
    "\n",
    "def convert(texts, word2idx, max_text_len):\n",
    "    data = np.zeros((len(texts), max_text_len), dtype=np.int)\n",
    "\n",
    "    for inx, text in enumerate(texts):\n",
    "        result = []\n",
    "        for word in text.split():\n",
    "            if word in word2idx:\n",
    "                result.append(word2idx[word])\n",
    "        padding = [0]*(max_text_len - len(result))\n",
    "        data[inx] = np.array(padding + result[-max_text_len:], dtype=np.int)\n",
    "\n",
    "    return data"
   ]
  },
  {
   "cell_type": "markdown",
   "metadata": {
    "id": "_16J0ER8WOJx"
   },
   "source": [
    "### Загрузка данных"
   ]
  },
  {
   "cell_type": "code",
   "execution_count": null,
   "metadata": {
    "id": "rY7923WiW1Uh"
   },
   "outputs": [],
   "source": [
    "# !wget -O imdb.zip -qq --no-check-certificate \"https://drive.google.com/uc?export=download&id=1vrQ5czMHoO3pEnmofFskymXMkq_u1dPc\"\n",
    "# !unzip imdb.zip\n",
    "# !pip -q install eli5\n",
    "# !pip -q install spacy\n",
    "# !python -m spacy download en"
   ]
  },
  {
   "cell_type": "code",
   "execution_count": null,
   "metadata": {
    "colab": {
     "base_uri": "https://localhost:8080/"
    },
    "executionInfo": {
     "elapsed": 1791,
     "status": "ok",
     "timestamp": 1618734214315,
     "user": {
      "displayName": "Alexey Tankov",
      "photoUrl": "",
      "userId": "01729535101672247421"
     },
     "user_tz": -180
    },
    "id": "Hl9WGM9nWnmV",
    "outputId": "c8ffaf48-2d6b-4573-8c26-801bdb7ddda8"
   },
   "outputs": [
    {
     "name": "stdout",
     "output_type": "stream",
     "text": [
      "Train size = 25000\n",
      "Test size = 25000\n"
     ]
    }
   ],
   "source": [
    "# Loading data\n",
    "train_df = pd.read_csv(\"train.tsv\", delimiter=\"\\t\")\n",
    "test_df = pd.read_csv(\"test.tsv\", delimiter=\"\\t\")\n",
    "\n",
    "print(f'Train size = {len(train_df)}')\n",
    "print(f'Test size = {len(test_df)}')"
   ]
  },
  {
   "cell_type": "code",
   "execution_count": null,
   "metadata": {
    "colab": {
     "base_uri": "https://localhost:8080/",
     "height": 282
    },
    "executionInfo": {
     "elapsed": 2231,
     "status": "ok",
     "timestamp": 1618734215741,
     "user": {
      "displayName": "Alexey Tankov",
      "photoUrl": "",
      "userId": "01729535101672247421"
     },
     "user_tz": -180
    },
    "id": "EkA0wChfXuvs",
    "outputId": "a8339f99-1ecd-49df-ea5e-4a4289b245a4"
   },
   "outputs": [
    {
     "data": {
      "text/plain": [
       "<a list of 230 Patch objects>"
      ]
     },
     "execution_count": 9,
     "metadata": {
      "tags": []
     },
     "output_type": "execute_result"
    },
    {
     "data": {
      "image/png": "[encoded data removed]",
      "text/plain": [
       "<Figure size 432x288 with 1 Axes>"
      ]
     },
     "metadata": {
      "needs_background": "light",
      "tags": []
     },
     "output_type": "display_data"
    }
   ],
   "source": [
    "hist = plt.hist(train_df['review'].apply(lambda text: len(text.split())), bins='auto')[2]\n",
    "hist"
   ]
  },
  {
   "cell_type": "code",
   "execution_count": null,
   "metadata": {
    "colab": {
     "base_uri": "https://localhost:8080/"
    },
    "executionInfo": {
     "elapsed": 12616,
     "status": "ok",
     "timestamp": 1618734226790,
     "user": {
      "displayName": "Alexey Tankov",
      "photoUrl": "",
      "userId": "01729535101672247421"
     },
     "user_tz": -180
    },
    "id": "VEIVhMBKYB_K",
    "outputId": "38b86678-befc-44ce-f642-d5fe3306d28b"
   },
   "outputs": [
    {
     "name": "stdout",
     "output_type": "stream",
     "text": [
      "Words count 27299\n"
     ]
    }
   ],
   "source": [
    "words_counter = Counter((word for text in train_df['review'] for word in text.lower().split()))\n",
    "word2idx = {'':0, '<unk>':1}\n",
    "\n",
    "for word, count in words_counter.most_common():\n",
    "    if count < 10:\n",
    "        break\n",
    "    word2idx[word] = len(word2idx)\n",
    "\n",
    "print('Words count', len(word2idx))\n",
    "\n",
    "X_train = convert(train_df['review'], word2idx, 1000)\n",
    "X_test = convert(test_df['review'], word2idx, 1000)"
   ]
  },
  {
   "cell_type": "code",
   "execution_count": null,
   "metadata": {
    "id": "WudaCXbxtUfa"
   },
   "outputs": [],
   "source": [
    "models = []\n",
    "\n",
    "models.append(('CountVectorizer', CountVectorizer()))\n",
    "models.append(('TfidfVectorizer', TfidfVectorizer()))\n",
    "models.append(('HashingVectorizer', HashingVectorizer()))"
   ]
  },
  {
   "cell_type": "code",
   "execution_count": null,
   "metadata": {
    "colab": {
     "base_uri": "https://localhost:8080/",
     "height": 141
    },
    "executionInfo": {
     "elapsed": 72709,
     "status": "ok",
     "timestamp": 1618734288412,
     "user": {
      "displayName": "Alexey Tankov",
      "photoUrl": "",
      "userId": "01729535101672247421"
     },
     "user_tz": -180
    },
    "id": "xwf2dYpRpX6S",
    "outputId": "de754813-875a-43ea-b352-0145e885188b"
   },
   "outputs": [
    {
     "data": {
      "text/html": [
       "<div>\n",
       "<style scoped>\n",
       "    .dataframe tbody tr th:only-of-type {\n",
       "        vertical-align: middle;\n",
       "    }\n",
       "\n",
       "    .dataframe tbody tr th {\n",
       "        vertical-align: top;\n",
       "    }\n",
       "\n",
       "    .dataframe thead th {\n",
       "        text-align: right;\n",
       "    }\n",
       "</style>\n",
       "<table border=\"1\" class=\"dataframe\">\n",
       "  <thead>\n",
       "    <tr style=\"text-align: right;\">\n",
       "      <th></th>\n",
       "      <th>model</th>\n",
       "      <th>accuracy</th>\n",
       "    </tr>\n",
       "  </thead>\n",
       "  <tbody>\n",
       "    <tr>\n",
       "      <th>1</th>\n",
       "      <td>TfidfVectorizer</td>\n",
       "      <td>88.32</td>\n",
       "    </tr>\n",
       "    <tr>\n",
       "      <th>0</th>\n",
       "      <td>CountVectorizer</td>\n",
       "      <td>86.31</td>\n",
       "    </tr>\n",
       "    <tr>\n",
       "      <th>2</th>\n",
       "      <td>HashingVectorizer</td>\n",
       "      <td>85.94</td>\n",
       "    </tr>\n",
       "  </tbody>\n",
       "</table>\n",
       "</div>"
      ],
      "text/plain": [
       "               model  accuracy\n",
       "1    TfidfVectorizer     88.32\n",
       "0    CountVectorizer     86.31\n",
       "2  HashingVectorizer     85.94"
      ]
     },
     "execution_count": 12,
     "metadata": {
      "tags": []
     },
     "output_type": "execute_result"
    }
   ],
   "source": [
    "# Logistic Regression\n",
    "results = []\n",
    "\n",
    "for name, model in models:\n",
    "    net = Pipeline([\n",
    "        ('vectorizer', model),\n",
    "        ('classifier', LogisticRegression())\n",
    "    ])\n",
    "    net.fit(train_df['review'], train_df['is_positive'])\n",
    "    accuracy = eval_model(net, test_df)\n",
    "    results.append((name, accuracy))\n",
    "\n",
    "best_baseline01 = pd.DataFrame(results, columns = ['model','accuracy'])\n",
    "best_baseline01.sort_values('accuracy', ascending=False)"
   ]
  },
  {
   "cell_type": "code",
   "execution_count": null,
   "metadata": {
    "id": "4i6G-7piKkYB"
   },
   "outputs": [],
   "source": [
    "models = []\n",
    "\n",
    "models.append(('Net', Sequential([layers.Embedding(input_dim=len(word2idx), output_dim=64, input_shape=(X_train.shape[1],)),\n",
    "    layers.Dropout(0.2),\n",
    "    layers.GlobalAveragePooling1D(),\n",
    "    layers.Dropout(0.2),\n",
    "    layers.Dense(units=1, activation='sigmoid')\n",
    "])))"
   ]
  },
  {
   "cell_type": "code",
   "execution_count": null,
   "metadata": {
    "colab": {
     "base_uri": "https://localhost:8080/",
     "height": 441
    },
    "executionInfo": {
     "elapsed": 519151,
     "status": "ok",
     "timestamp": 1618734735943,
     "user": {
      "displayName": "Alexey Tankov",
      "photoUrl": "",
      "userId": "01729535101672247421"
     },
     "user_tz": -180
    },
    "id": "OtIRT97pLEKp",
    "outputId": "3d79f4e9-b25f-4f8d-fe25-f7165b27f297"
   },
   "outputs": [
    {
     "name": "stdout",
     "output_type": "stream",
     "text": [
      "Epoch 1/10\n",
      "782/782 [==============================] - 47s 59ms/step - loss: 0.6873 - accuracy: 0.5650 - val_loss: 0.6414 - val_accuracy: 0.7717\n",
      "Epoch 2/10\n",
      "782/782 [==============================] - 45s 58ms/step - loss: 0.6096 - accuracy: 0.7563 - val_loss: 0.5300 - val_accuracy: 0.8053\n",
      "Epoch 3/10\n",
      "782/782 [==============================] - 44s 57ms/step - loss: 0.4986 - accuracy: 0.8141 - val_loss: 0.4500 - val_accuracy: 0.8349\n",
      "Epoch 4/10\n",
      "782/782 [==============================] - 46s 59ms/step - loss: 0.4161 - accuracy: 0.8501 - val_loss: 0.3974 - val_accuracy: 0.8507\n",
      "Epoch 5/10\n",
      "782/782 [==============================] - 43s 56ms/step - loss: 0.3616 - accuracy: 0.8719 - val_loss: 0.3624 - val_accuracy: 0.8631\n",
      "Epoch 6/10\n",
      "782/782 [==============================] - 44s 56ms/step - loss: 0.3212 - accuracy: 0.8852 - val_loss: 0.3444 - val_accuracy: 0.8626\n",
      "Epoch 7/10\n",
      "782/782 [==============================] - 43s 55ms/step - loss: 0.2950 - accuracy: 0.8955 - val_loss: 0.3258 - val_accuracy: 0.8707\n",
      "Epoch 8/10\n",
      "782/782 [==============================] - 44s 56ms/step - loss: 0.2680 - accuracy: 0.9068 - val_loss: 0.3129 - val_accuracy: 0.8762\n",
      "Epoch 9/10\n",
      "782/782 [==============================] - 44s 56ms/step - loss: 0.2532 - accuracy: 0.9079 - val_loss: 0.3085 - val_accuracy: 0.8744\n",
      "Epoch 10/10\n",
      "782/782 [==============================] - 44s 56ms/step - loss: 0.2322 - accuracy: 0.9159 - val_loss: 0.2979 - val_accuracy: 0.8805\n",
      "782/782 [==============================] - 3s 4ms/step - loss: 0.2979 - accuracy: 0.8805\n"
     ]
    },
    {
     "data": {
      "text/html": [
       "<div>\n",
       "<style scoped>\n",
       "    .dataframe tbody tr th:only-of-type {\n",
       "        vertical-align: middle;\n",
       "    }\n",
       "\n",
       "    .dataframe tbody tr th {\n",
       "        vertical-align: top;\n",
       "    }\n",
       "\n",
       "    .dataframe thead th {\n",
       "        text-align: right;\n",
       "    }\n",
       "</style>\n",
       "<table border=\"1\" class=\"dataframe\">\n",
       "  <thead>\n",
       "    <tr style=\"text-align: right;\">\n",
       "      <th></th>\n",
       "      <th>model</th>\n",
       "      <th>accuracy</th>\n",
       "    </tr>\n",
       "  </thead>\n",
       "  <tbody>\n",
       "    <tr>\n",
       "      <th>0</th>\n",
       "      <td>Net</td>\n",
       "      <td>88.047999</td>\n",
       "    </tr>\n",
       "  </tbody>\n",
       "</table>\n",
       "</div>"
      ],
      "text/plain": [
       "  model   accuracy\n",
       "0   Net  88.047999"
      ]
     },
     "execution_count": 14,
     "metadata": {
      "tags": []
     },
     "output_type": "execute_result"
    }
   ],
   "source": [
    "# tensorflow\n",
    "results = []\n",
    "\n",
    "for name, model in models:\n",
    "    model.compile(loss='binary_crossentropy', optimizer='adam', metrics=['accuracy'])\n",
    "    model.fit(X_train, train_df['is_positive'], batch_size=32, epochs=10, validation_data=(X_test, test_df['is_positive']))\n",
    "    accuracy = model.evaluate(X_test, test_df['is_positive'])[1] * 100\n",
    "    results.append((name, accuracy))\n",
    "\n",
    "best_baseline03 = pd.DataFrame(results, columns = ['model','accuracy'])\n",
    "best_baseline03.sort_values('accuracy', ascending=False)"
   ]
  },
  {
   "cell_type": "code",
   "execution_count": null,
   "metadata": {
    "colab": {
     "base_uri": "https://localhost:8080/",
     "height": 172
    },
    "executionInfo": {
     "elapsed": 518503,
     "status": "ok",
     "timestamp": 1618734735944,
     "user": {
      "displayName": "Alexey Tankov",
      "photoUrl": "",
      "userId": "01729535101672247421"
     },
     "user_tz": -180
    },
    "id": "_HfByhwNIXZw",
    "outputId": "949f2005-aeea-4207-da01-4e1004e221f3"
   },
   "outputs": [
    {
     "data": {
      "text/html": [
       "<div>\n",
       "<style scoped>\n",
       "    .dataframe tbody tr th:only-of-type {\n",
       "        vertical-align: middle;\n",
       "    }\n",
       "\n",
       "    .dataframe tbody tr th {\n",
       "        vertical-align: top;\n",
       "    }\n",
       "\n",
       "    .dataframe thead th {\n",
       "        text-align: right;\n",
       "    }\n",
       "</style>\n",
       "<table border=\"1\" class=\"dataframe\">\n",
       "  <thead>\n",
       "    <tr style=\"text-align: right;\">\n",
       "      <th></th>\n",
       "      <th>model</th>\n",
       "      <th>accuracy</th>\n",
       "    </tr>\n",
       "  </thead>\n",
       "  <tbody>\n",
       "    <tr>\n",
       "      <th>1</th>\n",
       "      <td>TfidfVectorizer</td>\n",
       "      <td>88.320000</td>\n",
       "    </tr>\n",
       "    <tr>\n",
       "      <th>0</th>\n",
       "      <td>Net</td>\n",
       "      <td>88.047999</td>\n",
       "    </tr>\n",
       "    <tr>\n",
       "      <th>0</th>\n",
       "      <td>CountVectorizer</td>\n",
       "      <td>86.310000</td>\n",
       "    </tr>\n",
       "    <tr>\n",
       "      <th>2</th>\n",
       "      <td>HashingVectorizer</td>\n",
       "      <td>85.940000</td>\n",
       "    </tr>\n",
       "  </tbody>\n",
       "</table>\n",
       "</div>"
      ],
      "text/plain": [
       "               model   accuracy\n",
       "1    TfidfVectorizer  88.320000\n",
       "0                Net  88.047999\n",
       "0    CountVectorizer  86.310000\n",
       "2  HashingVectorizer  85.940000"
      ]
     },
     "execution_count": 15,
     "metadata": {
      "tags": []
     },
     "output_type": "execute_result"
    }
   ],
   "source": [
    "final_result = pd.concat([best_baseline01, best_baseline03], axis=0)\n",
    "final_result.sort_values('accuracy', ascending=False)"
   ]
  },
  {
   "cell_type": "code",
   "execution_count": null,
   "metadata": {
    "colab": {
     "base_uri": "https://localhost:8080/",
     "height": 388
    },
    "executionInfo": {
     "elapsed": 518669,
     "status": "ok",
     "timestamp": 1618734736504,
     "user": {
      "displayName": "Alexey Tankov",
      "photoUrl": "",
      "userId": "01729535101672247421"
     },
     "user_tz": -180
    },
    "id": "2ySIlpcCV0OR",
    "outputId": "b284c991-e41d-4950-f4d1-f27d2be776ff"
   },
   "outputs": [
    {
     "data": {
      "image/png": "[encoded data removed]",
      "text/plain": [
       "<Figure size 720x432 with 1 Axes>"
      ]
     },
     "metadata": {
      "needs_background": "light",
      "tags": []
     },
     "output_type": "display_data"
    }
   ],
   "source": [
    "x = final_result['model']\n",
    "y = final_result['accuracy']\n",
    "\n",
    "fig, ax = plt.subplots(figsize=(10, 6))\n",
    "ax.barh(x, y)\n",
    "\n",
    "# Remove axes splines\n",
    "for s in ['top', 'bottom', 'left', 'right']:\n",
    "    ax.spines[s].set_visible(False)\n",
    "\n",
    "# Add x, y gridlines\n",
    "ax.grid(b=True, color='grey', linestyle='-.', linewidth=0.5, alpha=0.7)\n",
    "\n",
    "# Add annotation to bars\n",
    "for i in ax.patches:\n",
    "    plt.text(i.get_width()+0.01, i.get_y()+0.5,\n",
    "             str(round((i.get_width()), 2)),\n",
    "             fontsize=10, fontweight='bold',\n",
    "             color='grey')\n",
    "\n",
    "plt.xlabel('accuracy')\n",
    "plt.show()"
   ]
  },
  {
   "cell_type": "markdown",
   "metadata": {
    "id": "k16hbBA8T7Qd"
   },
   "source": [
    "### 1. Посмотрите на токены если будут мусорные добавьте их в стоп слова и обучите заново  "
   ]
  },
  {
   "cell_type": "code",
   "execution_count": null,
   "metadata": {
    "colab": {
     "base_uri": "https://localhost:8080/",
     "height": 203
    },
    "executionInfo": {
     "elapsed": 518102,
     "status": "ok",
     "timestamp": 1618734736505,
     "user": {
      "displayName": "Alexey Tankov",
      "photoUrl": "",
      "userId": "01729535101672247421"
     },
     "user_tz": -180
    },
    "id": "Z1mXsgBgeh9m",
    "outputId": "6d09c504-d0f9-468c-cb18-70cbdfc81f1e"
   },
   "outputs": [
    {
     "data": {
      "text/html": [
       "<div>\n",
       "<style scoped>\n",
       "    .dataframe tbody tr th:only-of-type {\n",
       "        vertical-align: middle;\n",
       "    }\n",
       "\n",
       "    .dataframe tbody tr th {\n",
       "        vertical-align: top;\n",
       "    }\n",
       "\n",
       "    .dataframe thead th {\n",
       "        text-align: right;\n",
       "    }\n",
       "</style>\n",
       "<table border=\"1\" class=\"dataframe\">\n",
       "  <thead>\n",
       "    <tr style=\"text-align: right;\">\n",
       "      <th></th>\n",
       "      <th>is_positive</th>\n",
       "      <th>review</th>\n",
       "      <th>clean_review</th>\n",
       "    </tr>\n",
       "  </thead>\n",
       "  <tbody>\n",
       "    <tr>\n",
       "      <th>0</th>\n",
       "      <td>0</td>\n",
       "      <td>Dreamgirls, despite its fistful of Tony wins i...</td>\n",
       "      <td>Dreamgirls, despite its fistful of Tony wins i...</td>\n",
       "    </tr>\n",
       "    <tr>\n",
       "      <th>1</th>\n",
       "      <td>0</td>\n",
       "      <td>This show comes up with interesting locations ...</td>\n",
       "      <td>This show comes up with interesting locations ...</td>\n",
       "    </tr>\n",
       "    <tr>\n",
       "      <th>2</th>\n",
       "      <td>1</td>\n",
       "      <td>I simply love this movie. I also love the Ramo...</td>\n",
       "      <td>I simply love this movie. I also love the Ramo...</td>\n",
       "    </tr>\n",
       "    <tr>\n",
       "      <th>3</th>\n",
       "      <td>0</td>\n",
       "      <td>Spoilers ahead if you want to call them that.....</td>\n",
       "      <td>Spoilers ahead if you want to call them that.....</td>\n",
       "    </tr>\n",
       "    <tr>\n",
       "      <th>4</th>\n",
       "      <td>1</td>\n",
       "      <td>My all-time favorite movie! I have seen many m...</td>\n",
       "      <td>My all-time favorite movie! I have seen many m...</td>\n",
       "    </tr>\n",
       "  </tbody>\n",
       "</table>\n",
       "</div>"
      ],
      "text/plain": [
       "   is_positive  ...                                       clean_review\n",
       "0            0  ...  Dreamgirls, despite its fistful of Tony wins i...\n",
       "1            0  ...  This show comes up with interesting locations ...\n",
       "2            1  ...  I simply love this movie. I also love the Ramo...\n",
       "3            0  ...  Spoilers ahead if you want to call them that.....\n",
       "4            1  ...  My all-time favorite movie! I have seen many m...\n",
       "\n",
       "[5 rows x 3 columns]"
      ]
     },
     "execution_count": 17,
     "metadata": {
      "tags": []
     },
     "output_type": "execute_result"
    }
   ],
   "source": [
    "train_df['clean_review'] = train_df['review']\n",
    "test_df['clean_review'] = test_df['review']\n",
    "train_df.head()"
   ]
  },
  {
   "cell_type": "code",
   "execution_count": null,
   "metadata": {
    "colab": {
     "base_uri": "https://localhost:8080/",
     "height": 203
    },
    "executionInfo": {
     "elapsed": 517759,
     "status": "ok",
     "timestamp": 1618734736506,
     "user": {
      "displayName": "Alexey Tankov",
      "photoUrl": "",
      "userId": "01729535101672247421"
     },
     "user_tz": -180
    },
    "id": "B7U_k4x2OYEK",
    "outputId": "e02a5424-8fce-48b4-fb44-dde911c98444"
   },
   "outputs": [
    {
     "data": {
      "text/html": [
       "<div>\n",
       "<style scoped>\n",
       "    .dataframe tbody tr th:only-of-type {\n",
       "        vertical-align: middle;\n",
       "    }\n",
       "\n",
       "    .dataframe tbody tr th {\n",
       "        vertical-align: top;\n",
       "    }\n",
       "\n",
       "    .dataframe thead th {\n",
       "        text-align: right;\n",
       "    }\n",
       "</style>\n",
       "<table border=\"1\" class=\"dataframe\">\n",
       "  <thead>\n",
       "    <tr style=\"text-align: right;\">\n",
       "      <th></th>\n",
       "      <th>is_positive</th>\n",
       "      <th>review</th>\n",
       "      <th>clean_review</th>\n",
       "    </tr>\n",
       "  </thead>\n",
       "  <tbody>\n",
       "    <tr>\n",
       "      <th>24995</th>\n",
       "      <td>1</td>\n",
       "      <td>I am a big fan of the movie, but not for the u...</td>\n",
       "      <td>I am a big fan of the movie, but not for the u...</td>\n",
       "    </tr>\n",
       "    <tr>\n",
       "      <th>24996</th>\n",
       "      <td>0</td>\n",
       "      <td>I'm not going to bother with a plot synopsis s...</td>\n",
       "      <td>I'm not going to bother with a plot synopsis s...</td>\n",
       "    </tr>\n",
       "    <tr>\n",
       "      <th>24997</th>\n",
       "      <td>0</td>\n",
       "      <td>This movie . . . I don't know. Why they would ...</td>\n",
       "      <td>This movie . . . I don't know. Why they would ...</td>\n",
       "    </tr>\n",
       "    <tr>\n",
       "      <th>24998</th>\n",
       "      <td>1</td>\n",
       "      <td>Saw this film on DVD yesterday and was gob-sma...</td>\n",
       "      <td>Saw this film on DVD yesterday and was gob-sma...</td>\n",
       "    </tr>\n",
       "    <tr>\n",
       "      <th>24999</th>\n",
       "      <td>0</td>\n",
       "      <td>This was a disappointment - none of the nuance...</td>\n",
       "      <td>This was a disappointment - none of the nuance...</td>\n",
       "    </tr>\n",
       "  </tbody>\n",
       "</table>\n",
       "</div>"
      ],
      "text/plain": [
       "       is_positive  ...                                       clean_review\n",
       "24995            1  ...  I am a big fan of the movie, but not for the u...\n",
       "24996            0  ...  I'm not going to bother with a plot synopsis s...\n",
       "24997            0  ...  This movie . . . I don't know. Why they would ...\n",
       "24998            1  ...  Saw this film on DVD yesterday and was gob-sma...\n",
       "24999            0  ...  This was a disappointment - none of the nuance...\n",
       "\n",
       "[5 rows x 3 columns]"
      ]
     },
     "execution_count": 18,
     "metadata": {
      "tags": []
     },
     "output_type": "execute_result"
    }
   ],
   "source": [
    "train_df.tail()"
   ]
  },
  {
   "cell_type": "code",
   "execution_count": null,
   "metadata": {
    "colab": {
     "base_uri": "https://localhost:8080/"
    },
    "executionInfo": {
     "elapsed": 517507,
     "status": "ok",
     "timestamp": 1618734736507,
     "user": {
      "displayName": "Alexey Tankov",
      "photoUrl": "",
      "userId": "01729535101672247421"
     },
     "user_tz": -180
    },
    "id": "Jf3lAeMZex2v",
    "outputId": "c0eb7b2a-10f2-4b1e-b9d5-bd60733ebd8d"
   },
   "outputs": [
    {
     "data": {
      "text/plain": [
       "0        Dreamgirls, despite its fistful of Tony wins i...\n",
       "1        This show comes up with interesting locations ...\n",
       "2        I simply love this movie. I also love the Ramo...\n",
       "3        Spoilers ahead if you want to call them that.....\n",
       "4        My all-time favorite movie! I have seen many m...\n",
       "                               ...                        \n",
       "24995    I am a big fan of the movie, but not for the u...\n",
       "24996    I'm not going to bother with a plot synopsis s...\n",
       "24997    This movie . . . I don't know. Why they would ...\n",
       "24998    Saw this film on DVD yesterday and was gob-sma...\n",
       "24999    This was a disappointment - none of the nuance...\n",
       "Name: clean_review, Length: 25000, dtype: object"
      ]
     },
     "execution_count": 19,
     "metadata": {
      "tags": []
     },
     "output_type": "execute_result"
    }
   ],
   "source": [
    "# Заменим html-сущности\n",
    "import html\n",
    "html.unescape(train_df['clean_review'])"
   ]
  },
  {
   "cell_type": "code",
   "execution_count": null,
   "metadata": {
    "id": "yNMwRdUrkTXm"
   },
   "outputs": [],
   "source": [
    "# Изменим регистр на нижний с помощью .lower()\n",
    "train_df['clean_review'] = train_df['clean_review'].apply(lambda x : x.lower())\n",
    "test_df['clean_review'] = test_df['clean_review'].apply(lambda x : x.lower())"
   ]
  },
  {
   "cell_type": "code",
   "execution_count": null,
   "metadata": {
    "id": "-aLjfnXjhHRz"
   },
   "outputs": [],
   "source": [
    "# # Заменим пунктуацию на пробелы, используя re.sub() и паттерн r'[^\\w\\s]'\n",
    "# train_df['clean_review'] = train_df['clean_review'].apply(lambda x : re.sub(r'[^\\w\\s]', ' ', x))\n",
    "# test_df['clean_review'] = test_df['clean_review'].apply(lambda x : re.sub(r'[^\\w\\s]', ' ', x))"
   ]
  },
  {
   "cell_type": "code",
   "execution_count": null,
   "metadata": {
    "id": "KczP42r9hZnX"
   },
   "outputs": [],
   "source": [
    "# # Заменим спец. символы на пробелы, используя re.sub() и паттерн r'[^a-zA-Z0-9]'\n",
    "# train_df['clean_review'] = train_df['clean_review'].apply(lambda x : re.sub(r'[^a-zA-Z0-9]', ' ', x))\n",
    "# test_df['clean_review'] = test_df['clean_review'].apply(lambda x : re.sub(r'[^a-zA-Z0-9]', ' ', x))"
   ]
  },
  {
   "cell_type": "code",
   "execution_count": null,
   "metadata": {
    "id": "8KyePO1Lh0kD"
   },
   "outputs": [],
   "source": [
    "# # Заменим числа на пробелы, используя re.sub() и паттерн r'[^a-zA-Z]'\n",
    "# train_df['clean_review'] = train_df['clean_review'].apply(lambda x : re.sub(r'[^a-zA-Z]', ' ', x))\n",
    "# test_df['clean_review'] = test_df['clean_review'].apply(lambda x : re.sub(r'[^a-zA-Z]', ' ', x))"
   ]
  },
  {
   "cell_type": "code",
   "execution_count": null,
   "metadata": {
    "id": "iUzTgKvqiMGC"
   },
   "outputs": [],
   "source": [
    "# # Удалим из текста слова длиной в 1 символ\n",
    "# train_df['clean_review'] = train_df['clean_review'].apply(lambda x : ' '.join([w for w in x.split() if len(w)>1]))\n",
    "# test_df['clean_review'] = test_df['clean_review'].apply(lambda x : ' '.join([w for w in x.split() if len(w)>1]))"
   ]
  },
  {
   "cell_type": "code",
   "execution_count": null,
   "metadata": {
    "id": "1BP6j3ydmsc6"
   },
   "outputs": [],
   "source": [
    "#set stopwords to english\n",
    "stop = set(stopwords.words('english'))\n",
    "# print(stop)\n",
    "train_df['clean_review'] = train_df['clean_review'].apply(lambda x : ' '.join([word for word in x.split() if word.lower() not in stop]))\n",
    "test_df['clean_review'] = test_df['clean_review'].apply(lambda x : ' '.join([word for word in x.split() if word.lower() not in stop]))"
   ]
  },
  {
   "cell_type": "code",
   "execution_count": null,
   "metadata": {
    "id": "bo-L_CFVdU45"
   },
   "outputs": [],
   "source": [
    "# create custom stop words list\n",
    "my_stop_words = ['dvd', '<br />']\n",
    "train_df['clean_review'] = train_df['clean_review'].apply(lambda x : ' '.join([word for word in x.split() if word.lower() not in my_stop_words]))\n",
    "test_df['clean_review'] = test_df['clean_review'].apply(lambda x : ' '.join([word for word in x.split() if word.lower() not in my_stop_words]))"
   ]
  },
  {
   "cell_type": "code",
   "execution_count": null,
   "metadata": {
    "colab": {
     "base_uri": "https://localhost:8080/",
     "height": 285
    },
    "executionInfo": {
     "elapsed": 513636,
     "status": "ok",
     "timestamp": 1618734742555,
     "user": {
      "displayName": "Alexey Tankov",
      "photoUrl": "",
      "userId": "01729535101672247421"
     },
     "user_tz": -180
    },
    "id": "wlZjJV32Wclb",
    "outputId": "4c08382d-ae53-41d6-a689-21abf1c732f2"
   },
   "outputs": [
    {
     "data": {
      "text/plain": [
       "<a list of 242 Patch objects>"
      ]
     },
     "execution_count": 27,
     "metadata": {
      "tags": []
     },
     "output_type": "execute_result"
    },
    {
     "data": {
      "image/png": "[encoded data removed]",
      "text/plain": [
       "<Figure size 432x288 with 1 Axes>"
      ]
     },
     "metadata": {
      "needs_background": "light",
      "tags": []
     },
     "output_type": "display_data"
    }
   ],
   "source": [
    "hist2 = plt.hist(train_df['clean_review'].apply(lambda text: len(text.split())), bins='auto')[2]\n",
    "hist2"
   ]
  },
  {
   "cell_type": "code",
   "execution_count": null,
   "metadata": {
    "colab": {
     "base_uri": "https://localhost:8080/"
    },
    "executionInfo": {
     "elapsed": 519135,
     "status": "ok",
     "timestamp": 1618734751736,
     "user": {
      "displayName": "Alexey Tankov",
      "photoUrl": "",
      "userId": "01729535101672247421"
     },
     "user_tz": -180
    },
    "id": "EsX7-bCJWd4D",
    "outputId": "6f9da9c2-c2a9-4c80-b405-ecfcd5281e4b"
   },
   "outputs": [
    {
     "name": "stdout",
     "output_type": "stream",
     "text": [
      "Words count 27141\n"
     ]
    }
   ],
   "source": [
    "words_counter = Counter((word for text in train_df['clean_review'] for word in text.lower().split()))\n",
    "word2idx = {'':0, '<unk>':1}\n",
    "\n",
    "for word, count in words_counter.most_common():\n",
    "    if count < 10:\n",
    "        break\n",
    "    word2idx[word] = len(word2idx)\n",
    "\n",
    "print('Words count', len(word2idx))\n",
    "\n",
    "X_train = convert(train_df['clean_review'], word2idx, 1000)\n",
    "X_test = convert(test_df['clean_review'], word2idx, 1000)"
   ]
  },
  {
   "cell_type": "code",
   "execution_count": null,
   "metadata": {
    "id": "EhfUGzaEWmd6"
   },
   "outputs": [],
   "source": [
    "models = []\n",
    "\n",
    "models.append(('CountVectorizer', CountVectorizer()))\n",
    "models.append(('TfidfVectorizer', TfidfVectorizer()))\n",
    "models.append(('HashingVectorizer', HashingVectorizer()))"
   ]
  },
  {
   "cell_type": "code",
   "execution_count": null,
   "metadata": {
    "colab": {
     "base_uri": "https://localhost:8080/",
     "height": 141
    },
    "executionInfo": {
     "elapsed": 570078,
     "status": "ok",
     "timestamp": 1618734805305,
     "user": {
      "displayName": "Alexey Tankov",
      "photoUrl": "",
      "userId": "01729535101672247421"
     },
     "user_tz": -180
    },
    "id": "3MWBlgTvWtV9",
    "outputId": "e234e554-5e67-4f6c-f060-1d6525c7500d"
   },
   "outputs": [
    {
     "data": {
      "text/html": [
       "<div>\n",
       "<style scoped>\n",
       "    .dataframe tbody tr th:only-of-type {\n",
       "        vertical-align: middle;\n",
       "    }\n",
       "\n",
       "    .dataframe tbody tr th {\n",
       "        vertical-align: top;\n",
       "    }\n",
       "\n",
       "    .dataframe thead th {\n",
       "        text-align: right;\n",
       "    }\n",
       "</style>\n",
       "<table border=\"1\" class=\"dataframe\">\n",
       "  <thead>\n",
       "    <tr style=\"text-align: right;\">\n",
       "      <th></th>\n",
       "      <th>model</th>\n",
       "      <th>accuracy</th>\n",
       "    </tr>\n",
       "  </thead>\n",
       "  <tbody>\n",
       "    <tr>\n",
       "      <th>1</th>\n",
       "      <td>TfidfVectorizer</td>\n",
       "      <td>87.62</td>\n",
       "    </tr>\n",
       "    <tr>\n",
       "      <th>2</th>\n",
       "      <td>HashingVectorizer</td>\n",
       "      <td>86.38</td>\n",
       "    </tr>\n",
       "    <tr>\n",
       "      <th>0</th>\n",
       "      <td>CountVectorizer</td>\n",
       "      <td>83.00</td>\n",
       "    </tr>\n",
       "  </tbody>\n",
       "</table>\n",
       "</div>"
      ],
      "text/plain": [
       "               model  accuracy\n",
       "1    TfidfVectorizer     87.62\n",
       "2  HashingVectorizer     86.38\n",
       "0    CountVectorizer     83.00"
      ]
     },
     "execution_count": 30,
     "metadata": {
      "tags": []
     },
     "output_type": "execute_result"
    }
   ],
   "source": [
    "# Logistic Regression\n",
    "results = []\n",
    "\n",
    "for name, model in models:\n",
    "    net = Pipeline([\n",
    "        ('vectorizer', model),\n",
    "        ('classifier', LogisticRegression())\n",
    "    ])\n",
    "    net.fit(train_df['clean_review'], train_df['is_positive'])\n",
    "    accuracy = eval_model(net, test_df)\n",
    "    results.append((name, accuracy))\n",
    "\n",
    "best_baseline11 = pd.DataFrame(results, columns = ['model','accuracy'])\n",
    "best_baseline11.sort_values('accuracy', ascending=False)"
   ]
  },
  {
   "cell_type": "code",
   "execution_count": null,
   "metadata": {
    "id": "jrJZzS_wWw51"
   },
   "outputs": [],
   "source": [
    "models = []\n",
    "\n",
    "models.append(('Net', Sequential([layers.Embedding(input_dim=len(word2idx), output_dim=64, input_shape=(X_train.shape[1],)),\n",
    "    layers.Dropout(0.2),\n",
    "    layers.GlobalAveragePooling1D(),\n",
    "    layers.Dropout(0.2),\n",
    "    layers.Dense(units=1, activation='sigmoid')\n",
    "])))"
   ]
  },
  {
   "cell_type": "code",
   "execution_count": null,
   "metadata": {
    "colab": {
     "base_uri": "https://localhost:8080/",
     "height": 441
    },
    "executionInfo": {
     "elapsed": 966564,
     "status": "ok",
     "timestamp": 1618735208891,
     "user": {
      "displayName": "Alexey Tankov",
      "photoUrl": "",
      "userId": "01729535101672247421"
     },
     "user_tz": -180
    },
    "id": "nSR6sDtaW2Cx",
    "outputId": "bba22fbb-119b-4c38-e742-c6c4436cb89e"
   },
   "outputs": [
    {
     "name": "stdout",
     "output_type": "stream",
     "text": [
      "Epoch 1/10\n",
      "782/782 [==============================] - 41s 52ms/step - loss: 0.6891 - accuracy: 0.5516 - val_loss: 0.6603 - val_accuracy: 0.7525\n",
      "Epoch 2/10\n",
      "782/782 [==============================] - 40s 51ms/step - loss: 0.6322 - accuracy: 0.7737 - val_loss: 0.5578 - val_accuracy: 0.8241\n",
      "Epoch 3/10\n",
      "782/782 [==============================] - 41s 52ms/step - loss: 0.5143 - accuracy: 0.8409 - val_loss: 0.4654 - val_accuracy: 0.8470\n",
      "Epoch 4/10\n",
      "782/782 [==============================] - 40s 51ms/step - loss: 0.4217 - accuracy: 0.8660 - val_loss: 0.4091 - val_accuracy: 0.8551\n",
      "Epoch 5/10\n",
      "782/782 [==============================] - 40s 51ms/step - loss: 0.3522 - accuracy: 0.8877 - val_loss: 0.3651 - val_accuracy: 0.8682\n",
      "Epoch 6/10\n",
      "782/782 [==============================] - 40s 51ms/step - loss: 0.3085 - accuracy: 0.8983 - val_loss: 0.3385 - val_accuracy: 0.8728\n",
      "Epoch 7/10\n",
      "782/782 [==============================] - 40s 51ms/step - loss: 0.2765 - accuracy: 0.9042 - val_loss: 0.3203 - val_accuracy: 0.8776\n",
      "Epoch 8/10\n",
      "782/782 [==============================] - 40s 52ms/step - loss: 0.2501 - accuracy: 0.9146 - val_loss: 0.3187 - val_accuracy: 0.8716\n",
      "Epoch 9/10\n",
      "782/782 [==============================] - 40s 51ms/step - loss: 0.2224 - accuracy: 0.9229 - val_loss: 0.2993 - val_accuracy: 0.8836\n",
      "Epoch 10/10\n",
      "782/782 [==============================] - 39s 50ms/step - loss: 0.2006 - accuracy: 0.9327 - val_loss: 0.2958 - val_accuracy: 0.8835\n",
      "782/782 [==============================] - 3s 4ms/step - loss: 0.2958 - accuracy: 0.8835\n"
     ]
    },
    {
     "data": {
      "text/html": [
       "<div>\n",
       "<style scoped>\n",
       "    .dataframe tbody tr th:only-of-type {\n",
       "        vertical-align: middle;\n",
       "    }\n",
       "\n",
       "    .dataframe tbody tr th {\n",
       "        vertical-align: top;\n",
       "    }\n",
       "\n",
       "    .dataframe thead th {\n",
       "        text-align: right;\n",
       "    }\n",
       "</style>\n",
       "<table border=\"1\" class=\"dataframe\">\n",
       "  <thead>\n",
       "    <tr style=\"text-align: right;\">\n",
       "      <th></th>\n",
       "      <th>model</th>\n",
       "      <th>accuracy</th>\n",
       "    </tr>\n",
       "  </thead>\n",
       "  <tbody>\n",
       "    <tr>\n",
       "      <th>0</th>\n",
       "      <td>Net</td>\n",
       "      <td>88.348001</td>\n",
       "    </tr>\n",
       "  </tbody>\n",
       "</table>\n",
       "</div>"
      ],
      "text/plain": [
       "  model   accuracy\n",
       "0   Net  88.348001"
      ]
     },
     "execution_count": 32,
     "metadata": {
      "tags": []
     },
     "output_type": "execute_result"
    }
   ],
   "source": [
    "# tensorflow\n",
    "results = []\n",
    "\n",
    "for name, model in models:\n",
    "    model.compile(loss='binary_crossentropy', optimizer='adam', metrics=['accuracy'])\n",
    "    model.fit(X_train, train_df['is_positive'], batch_size=32, epochs=10, validation_data=(X_test, test_df['is_positive']))\n",
    "    accuracy = model.evaluate(X_test, test_df['is_positive'])[1] * 100\n",
    "    results.append((name, accuracy))\n",
    "\n",
    "best_baseline13 = pd.DataFrame(results, columns = ['model','accuracy'])\n",
    "best_baseline13.sort_values('accuracy', ascending=False)"
   ]
  },
  {
   "cell_type": "code",
   "execution_count": null,
   "metadata": {
    "colab": {
     "base_uri": "https://localhost:8080/",
     "height": 172
    },
    "executionInfo": {
     "elapsed": 965249,
     "status": "ok",
     "timestamp": 1618735208893,
     "user": {
      "displayName": "Alexey Tankov",
      "photoUrl": "",
      "userId": "01729535101672247421"
     },
     "user_tz": -180
    },
    "id": "Xt81g5HLmtkO",
    "outputId": "a68faee2-09fc-4683-d946-068777345d9a"
   },
   "outputs": [
    {
     "data": {
      "text/html": [
       "<div>\n",
       "<style scoped>\n",
       "    .dataframe tbody tr th:only-of-type {\n",
       "        vertical-align: middle;\n",
       "    }\n",
       "\n",
       "    .dataframe tbody tr th {\n",
       "        vertical-align: top;\n",
       "    }\n",
       "\n",
       "    .dataframe thead th {\n",
       "        text-align: right;\n",
       "    }\n",
       "</style>\n",
       "<table border=\"1\" class=\"dataframe\">\n",
       "  <thead>\n",
       "    <tr style=\"text-align: right;\">\n",
       "      <th></th>\n",
       "      <th>model</th>\n",
       "      <th>accuracy</th>\n",
       "    </tr>\n",
       "  </thead>\n",
       "  <tbody>\n",
       "    <tr>\n",
       "      <th>0</th>\n",
       "      <td>Net</td>\n",
       "      <td>88.348001</td>\n",
       "    </tr>\n",
       "    <tr>\n",
       "      <th>1</th>\n",
       "      <td>TfidfVectorizer</td>\n",
       "      <td>87.620000</td>\n",
       "    </tr>\n",
       "    <tr>\n",
       "      <th>2</th>\n",
       "      <td>HashingVectorizer</td>\n",
       "      <td>86.380000</td>\n",
       "    </tr>\n",
       "    <tr>\n",
       "      <th>0</th>\n",
       "      <td>CountVectorizer</td>\n",
       "      <td>83.000000</td>\n",
       "    </tr>\n",
       "  </tbody>\n",
       "</table>\n",
       "</div>"
      ],
      "text/plain": [
       "               model   accuracy\n",
       "0                Net  88.348001\n",
       "1    TfidfVectorizer  87.620000\n",
       "2  HashingVectorizer  86.380000\n",
       "0    CountVectorizer  83.000000"
      ]
     },
     "execution_count": 33,
     "metadata": {
      "tags": []
     },
     "output_type": "execute_result"
    }
   ],
   "source": [
    "final_result2 = pd.concat([best_baseline11, best_baseline13], axis=0)\n",
    "final_result2.sort_values('accuracy', ascending=False)"
   ]
  },
  {
   "cell_type": "code",
   "execution_count": null,
   "metadata": {
    "colab": {
     "base_uri": "https://localhost:8080/",
     "height": 388
    },
    "executionInfo": {
     "elapsed": 964613,
     "status": "ok",
     "timestamp": 1618735209411,
     "user": {
      "displayName": "Alexey Tankov",
      "photoUrl": "",
      "userId": "01729535101672247421"
     },
     "user_tz": -180
    },
    "id": "DIu11DptZicZ",
    "outputId": "98b20e56-5b0b-49c4-bb21-785ee70043a5"
   },
   "outputs": [
    {
     "data": {
      "image/png": "[encoded data removed]",
      "text/plain": [
       "<Figure size 720x432 with 1 Axes>"
      ]
     },
     "metadata": {
      "needs_background": "light",
      "tags": []
     },
     "output_type": "display_data"
    }
   ],
   "source": [
    "x = final_result2['model']\n",
    "y = final_result2['accuracy']\n",
    "\n",
    "fig, ax = plt.subplots(figsize=(10, 6))\n",
    "ax.barh(x, y)\n",
    "\n",
    "# Remove axes splines\n",
    "for s in ['top', 'bottom', 'left', 'right']:\n",
    "    ax.spines[s].set_visible(False)\n",
    "\n",
    "# Add x, y gridlines\n",
    "ax.grid(b=True, color='grey', linestyle='-.', linewidth=0.5, alpha=0.7)\n",
    "\n",
    "# Add annotation to bars\n",
    "for i in ax.patches:\n",
    "    plt.text(i.get_width()+0.01, i.get_y()+0.5,\n",
    "             str(round((i.get_width()), 2)),\n",
    "             fontsize=10, fontweight='bold',\n",
    "             color='grey')\n",
    "\n",
    "plt.xlabel('accuracy')\n",
    "plt.show()"
   ]
  },
  {
   "cell_type": "code",
   "execution_count": null,
   "metadata": {
    "id": "pQ9hsgqOs-4H"
   },
   "outputs": [],
   "source": [
    "final_results = pd.concat([final_result, final_result2], axis=1, \n",
    "                         keys=['baseline', 'pre-processing'])"
   ]
  },
  {
   "cell_type": "code",
   "execution_count": null,
   "metadata": {
    "colab": {
     "base_uri": "https://localhost:8080/",
     "height": 203
    },
    "executionInfo": {
     "elapsed": 963911,
     "status": "ok",
     "timestamp": 1618735209412,
     "user": {
      "displayName": "Alexey Tankov",
      "photoUrl": "",
      "userId": "01729535101672247421"
     },
     "user_tz": -180
    },
    "id": "K_N3iO0ztcvy",
    "outputId": "4f5a3044-a301-44d0-f409-2958c4cc3436"
   },
   "outputs": [
    {
     "data": {
      "text/html": [
       "<div>\n",
       "<style scoped>\n",
       "    .dataframe tbody tr th:only-of-type {\n",
       "        vertical-align: middle;\n",
       "    }\n",
       "\n",
       "    .dataframe tbody tr th {\n",
       "        vertical-align: top;\n",
       "    }\n",
       "\n",
       "    .dataframe thead tr th {\n",
       "        text-align: left;\n",
       "    }\n",
       "</style>\n",
       "<table border=\"1\" class=\"dataframe\">\n",
       "  <thead>\n",
       "    <tr>\n",
       "      <th></th>\n",
       "      <th colspan=\"2\" halign=\"left\">baseline</th>\n",
       "      <th colspan=\"2\" halign=\"left\">pre-processing</th>\n",
       "    </tr>\n",
       "    <tr>\n",
       "      <th></th>\n",
       "      <th>model</th>\n",
       "      <th>accuracy</th>\n",
       "      <th>model</th>\n",
       "      <th>accuracy</th>\n",
       "    </tr>\n",
       "  </thead>\n",
       "  <tbody>\n",
       "    <tr>\n",
       "      <th>0</th>\n",
       "      <td>CountVectorizer</td>\n",
       "      <td>86.310000</td>\n",
       "      <td>CountVectorizer</td>\n",
       "      <td>83.000000</td>\n",
       "    </tr>\n",
       "    <tr>\n",
       "      <th>1</th>\n",
       "      <td>TfidfVectorizer</td>\n",
       "      <td>88.320000</td>\n",
       "      <td>TfidfVectorizer</td>\n",
       "      <td>87.620000</td>\n",
       "    </tr>\n",
       "    <tr>\n",
       "      <th>2</th>\n",
       "      <td>HashingVectorizer</td>\n",
       "      <td>85.940000</td>\n",
       "      <td>HashingVectorizer</td>\n",
       "      <td>86.380000</td>\n",
       "    </tr>\n",
       "    <tr>\n",
       "      <th>0</th>\n",
       "      <td>Net</td>\n",
       "      <td>88.047999</td>\n",
       "      <td>Net</td>\n",
       "      <td>88.348001</td>\n",
       "    </tr>\n",
       "  </tbody>\n",
       "</table>\n",
       "</div>"
      ],
      "text/plain": [
       "            baseline                pre-processing           \n",
       "               model   accuracy              model   accuracy\n",
       "0    CountVectorizer  86.310000    CountVectorizer  83.000000\n",
       "1    TfidfVectorizer  88.320000    TfidfVectorizer  87.620000\n",
       "2  HashingVectorizer  85.940000  HashingVectorizer  86.380000\n",
       "0                Net  88.047999                Net  88.348001"
      ]
     },
     "execution_count": 36,
     "metadata": {
      "tags": []
     },
     "output_type": "execute_result"
    }
   ],
   "source": [
    "final_results"
   ]
  },
  {
   "cell_type": "markdown",
   "metadata": {
    "id": "QOdoyXmVWnma"
   },
   "source": [
    "### 2. Проверьте повысилось ли качество на стандартных подходах при лемматизации"
   ]
  },
  {
   "cell_type": "code",
   "execution_count": null,
   "metadata": {
    "id": "UXY596l-1_bW"
   },
   "outputs": [],
   "source": [
    "train_df['lemmatized_review'] = train_df['review'].apply(lambda x : word_tokenize(x))\n",
    "test_df['lemmatized_review'] = test_df['review'].apply(lambda x : word_tokenize(x))"
   ]
  },
  {
   "cell_type": "code",
   "execution_count": null,
   "metadata": {
    "id": "SjTKCZtcxGur"
   },
   "outputs": [],
   "source": [
    "lemmatizer = WordNetLemmatizer()\n",
    "train_df['lemmatized_review'] = train_df['lemmatized_review'].apply(lambda x : [lemmatizer.lemmatize(word, wordnet.VERB) for word in x])\n",
    "test_df['lemmatized_review'] = test_df['lemmatized_review'].apply(lambda x : [lemmatizer.lemmatize(word, wordnet.VERB) for word in x])"
   ]
  },
  {
   "cell_type": "code",
   "execution_count": null,
   "metadata": {
    "id": "Cg3RIjLLzjLv"
   },
   "outputs": [],
   "source": [
    "train_df['lemmatized_review'] = np.array([' '.join(x) for x in train_df['lemmatized_review']])\n",
    "test_df['lemmatized_review'] = np.array([' '.join(x) for x in test_df['lemmatized_review']])"
   ]
  },
  {
   "cell_type": "code",
   "execution_count": null,
   "metadata": {
    "colab": {
     "base_uri": "https://localhost:8080/"
    },
    "executionInfo": {
     "elapsed": 1112044,
     "status": "ok",
     "timestamp": 1618735359483,
     "user": {
      "displayName": "Alexey Tankov",
      "photoUrl": "",
      "userId": "01729535101672247421"
     },
     "user_tz": -180
    },
    "id": "VXr30qLs1fGa",
    "outputId": "4d3e21f9-ce14-4168-aed3-c1461790611b"
   },
   "outputs": [
    {
     "data": {
      "text/plain": [
       "0        Dreamgirls , despite its fistful of Tony win i...\n",
       "1        This show come up with interest locations as f...\n",
       "2        I simply love this movie . I also love the Ram...\n",
       "3        Spoilers ahead if you want to call them that ....\n",
       "4        My all-time favorite movie ! I have see many m...\n",
       "                               ...                        \n",
       "24995    I be a big fan of the movie , but not for the ...\n",
       "24996    I 'm not go to bother with a plot synopsis sin...\n",
       "24997    This movie . . . I do n't know . Why they woul...\n",
       "24998    Saw this film on DVD yesterday and be gob-smac...\n",
       "24999    This be a disappointment - none of the nuance ...\n",
       "Name: lemmatized_review, Length: 25000, dtype: object"
      ]
     },
     "execution_count": 40,
     "metadata": {
      "tags": []
     },
     "output_type": "execute_result"
    }
   ],
   "source": [
    "train_df['lemmatized_review']"
   ]
  },
  {
   "cell_type": "code",
   "execution_count": null,
   "metadata": {
    "colab": {
     "base_uri": "https://localhost:8080/",
     "height": 282
    },
    "executionInfo": {
     "elapsed": 1112434,
     "status": "ok",
     "timestamp": 1618735360534,
     "user": {
      "displayName": "Alexey Tankov",
      "photoUrl": "",
      "userId": "01729535101672247421"
     },
     "user_tz": -180
    },
    "id": "JKuIrIzLnxCa",
    "outputId": "13d98ba2-22d8-4cb1-e602-6b5168b9a3c4"
   },
   "outputs": [
    {
     "data": {
      "text/plain": [
       "<a list of 213 Patch objects>"
      ]
     },
     "execution_count": 41,
     "metadata": {
      "tags": []
     },
     "output_type": "execute_result"
    },
    {
     "data": {
      "image/png": "[encoded data removed]",
      "text/plain": [
       "<Figure size 432x288 with 1 Axes>"
      ]
     },
     "metadata": {
      "needs_background": "light",
      "tags": []
     },
     "output_type": "display_data"
    }
   ],
   "source": [
    "hist3 = plt.hist(train_df['lemmatized_review'].apply(lambda text: len(text.split())), bins='auto')[2]\n",
    "hist3"
   ]
  },
  {
   "cell_type": "code",
   "execution_count": null,
   "metadata": {
    "colab": {
     "base_uri": "https://localhost:8080/"
    },
    "executionInfo": {
     "elapsed": 1122668,
     "status": "ok",
     "timestamp": 1618735371679,
     "user": {
      "displayName": "Alexey Tankov",
      "photoUrl": "",
      "userId": "01729535101672247421"
     },
     "user_tz": -180
    },
    "id": "ddGDi8eJyOyl",
    "outputId": "4603cef3-08db-4821-9561-b1d47ffe2ecf"
   },
   "outputs": [
    {
     "name": "stdout",
     "output_type": "stream",
     "text": [
      "Words count 18187\n"
     ]
    }
   ],
   "source": [
    "words_counter = Counter((word for text in train_df['lemmatized_review'] for word in text.lower().split()))\n",
    "word2idx = {'':0, '<unk>':1}\n",
    "\n",
    "for word, count in words_counter.most_common():\n",
    "    if count < 10:\n",
    "        break\n",
    "    word2idx[word] = len(word2idx)\n",
    "\n",
    "print('Words count', len(word2idx))\n",
    "\n",
    "X_train = convert(train_df['lemmatized_review'], word2idx, 1000)\n",
    "X_test = convert(test_df['lemmatized_review'], word2idx, 1000)"
   ]
  },
  {
   "cell_type": "code",
   "execution_count": null,
   "metadata": {
    "id": "UT78aGnkZM7O"
   },
   "outputs": [],
   "source": [
    "models = []\n",
    "\n",
    "models.append(('CountVectorizer', CountVectorizer()))\n",
    "models.append(('TfidfVectorizer', TfidfVectorizer()))\n",
    "models.append(('HashingVectorizer', HashingVectorizer()))"
   ]
  },
  {
   "cell_type": "code",
   "execution_count": null,
   "metadata": {
    "colab": {
     "base_uri": "https://localhost:8080/",
     "height": 141
    },
    "executionInfo": {
     "elapsed": 1182137,
     "status": "ok",
     "timestamp": 1618735432536,
     "user": {
      "displayName": "Alexey Tankov",
      "photoUrl": "",
      "userId": "01729535101672247421"
     },
     "user_tz": -180
    },
    "id": "wX87YQGuZPZZ",
    "outputId": "aa42fa3a-e4c1-4787-eb21-21f34592c760"
   },
   "outputs": [
    {
     "data": {
      "text/html": [
       "<div>\n",
       "<style scoped>\n",
       "    .dataframe tbody tr th:only-of-type {\n",
       "        vertical-align: middle;\n",
       "    }\n",
       "\n",
       "    .dataframe tbody tr th {\n",
       "        vertical-align: top;\n",
       "    }\n",
       "\n",
       "    .dataframe thead th {\n",
       "        text-align: right;\n",
       "    }\n",
       "</style>\n",
       "<table border=\"1\" class=\"dataframe\">\n",
       "  <thead>\n",
       "    <tr style=\"text-align: right;\">\n",
       "      <th></th>\n",
       "      <th>model</th>\n",
       "      <th>accuracy</th>\n",
       "    </tr>\n",
       "  </thead>\n",
       "  <tbody>\n",
       "    <tr>\n",
       "      <th>1</th>\n",
       "      <td>TfidfVectorizer</td>\n",
       "      <td>87.08</td>\n",
       "    </tr>\n",
       "    <tr>\n",
       "      <th>0</th>\n",
       "      <td>CountVectorizer</td>\n",
       "      <td>83.35</td>\n",
       "    </tr>\n",
       "    <tr>\n",
       "      <th>2</th>\n",
       "      <td>HashingVectorizer</td>\n",
       "      <td>83.27</td>\n",
       "    </tr>\n",
       "  </tbody>\n",
       "</table>\n",
       "</div>"
      ],
      "text/plain": [
       "               model  accuracy\n",
       "1    TfidfVectorizer     87.08\n",
       "0    CountVectorizer     83.35\n",
       "2  HashingVectorizer     83.27"
      ]
     },
     "execution_count": 44,
     "metadata": {
      "tags": []
     },
     "output_type": "execute_result"
    }
   ],
   "source": [
    "# Logistic Regression\n",
    "results = []\n",
    "\n",
    "for name, model in models:\n",
    "    net = Pipeline([\n",
    "        ('vectorizer', model),\n",
    "        ('classifier', LogisticRegression())\n",
    "    ])\n",
    "    net.fit(train_df['lemmatized_review'], train_df['is_positive'])\n",
    "    accuracy = eval_model(net, test_df)\n",
    "    results.append((name, accuracy))\n",
    "\n",
    "best_baseline21 = pd.DataFrame(results, columns = ['model','accuracy'])\n",
    "best_baseline21.sort_values('accuracy', ascending=False)"
   ]
  },
  {
   "cell_type": "code",
   "execution_count": null,
   "metadata": {
    "id": "a5FGjSW2ZSrQ"
   },
   "outputs": [],
   "source": [
    "models = []\n",
    "\n",
    "models.append(('Net', Sequential([layers.Embedding(input_dim=len(word2idx), output_dim=64, input_shape=(X_train.shape[1],)),\n",
    "    layers.Dropout(0.2),\n",
    "    layers.GlobalAveragePooling1D(),\n",
    "    layers.Dropout(0.2),\n",
    "    layers.Dense(units=1, activation='sigmoid')\n",
    "])))"
   ]
  },
  {
   "cell_type": "code",
   "execution_count": null,
   "metadata": {
    "colab": {
     "base_uri": "https://localhost:8080/",
     "height": 441
    },
    "executionInfo": {
     "elapsed": 1579066,
     "status": "ok",
     "timestamp": 1618735830231,
     "user": {
      "displayName": "Alexey Tankov",
      "photoUrl": "",
      "userId": "01729535101672247421"
     },
     "user_tz": -180
    },
    "id": "rRy0rKGPZUhm",
    "outputId": "1f4d5cf4-3671-46f0-f387-0ad1ba19b6b3"
   },
   "outputs": [
    {
     "name": "stdout",
     "output_type": "stream",
     "text": [
      "Epoch 1/10\n",
      "782/782 [==============================] - 40s 50ms/step - loss: 0.6843 - accuracy: 0.5636 - val_loss: 0.6194 - val_accuracy: 0.7773\n",
      "Epoch 2/10\n",
      "782/782 [==============================] - 39s 50ms/step - loss: 0.5819 - accuracy: 0.7771 - val_loss: 0.5020 - val_accuracy: 0.7968\n",
      "Epoch 3/10\n",
      "782/782 [==============================] - 39s 50ms/step - loss: 0.4654 - accuracy: 0.8332 - val_loss: 0.4201 - val_accuracy: 0.8487\n",
      "Epoch 4/10\n",
      "782/782 [==============================] - 41s 52ms/step - loss: 0.3905 - accuracy: 0.8619 - val_loss: 0.3739 - val_accuracy: 0.8626\n",
      "Epoch 5/10\n",
      "782/782 [==============================] - 39s 50ms/step - loss: 0.3488 - accuracy: 0.8720 - val_loss: 0.3428 - val_accuracy: 0.8718\n",
      "Epoch 6/10\n",
      "782/782 [==============================] - 38s 49ms/step - loss: 0.3114 - accuracy: 0.8841 - val_loss: 0.3232 - val_accuracy: 0.8776\n",
      "Epoch 7/10\n",
      "782/782 [==============================] - 40s 51ms/step - loss: 0.2859 - accuracy: 0.8971 - val_loss: 0.3136 - val_accuracy: 0.8766\n",
      "Epoch 8/10\n",
      "782/782 [==============================] - 38s 49ms/step - loss: 0.2697 - accuracy: 0.9000 - val_loss: 0.3042 - val_accuracy: 0.8796\n",
      "Epoch 9/10\n",
      "782/782 [==============================] - 38s 49ms/step - loss: 0.2543 - accuracy: 0.9078 - val_loss: 0.2956 - val_accuracy: 0.8829\n",
      "Epoch 10/10\n",
      "782/782 [==============================] - 40s 51ms/step - loss: 0.2416 - accuracy: 0.9122 - val_loss: 0.2978 - val_accuracy: 0.8816\n",
      "782/782 [==============================] - 4s 6ms/step - loss: 0.2978 - accuracy: 0.8816\n"
     ]
    },
    {
     "data": {
      "text/html": [
       "<div>\n",
       "<style scoped>\n",
       "    .dataframe tbody tr th:only-of-type {\n",
       "        vertical-align: middle;\n",
       "    }\n",
       "\n",
       "    .dataframe tbody tr th {\n",
       "        vertical-align: top;\n",
       "    }\n",
       "\n",
       "    .dataframe thead th {\n",
       "        text-align: right;\n",
       "    }\n",
       "</style>\n",
       "<table border=\"1\" class=\"dataframe\">\n",
       "  <thead>\n",
       "    <tr style=\"text-align: right;\">\n",
       "      <th></th>\n",
       "      <th>model</th>\n",
       "      <th>accuracy</th>\n",
       "    </tr>\n",
       "  </thead>\n",
       "  <tbody>\n",
       "    <tr>\n",
       "      <th>0</th>\n",
       "      <td>Net</td>\n",
       "      <td>88.164002</td>\n",
       "    </tr>\n",
       "  </tbody>\n",
       "</table>\n",
       "</div>"
      ],
      "text/plain": [
       "  model   accuracy\n",
       "0   Net  88.164002"
      ]
     },
     "execution_count": 46,
     "metadata": {
      "tags": []
     },
     "output_type": "execute_result"
    }
   ],
   "source": [
    "# tensorflow\n",
    "results = []\n",
    "\n",
    "for name, model in models:\n",
    "    model.compile(loss='binary_crossentropy', optimizer='adam', metrics=['accuracy'])\n",
    "    model.fit(X_train, train_df['is_positive'], batch_size=32, epochs=10, validation_data=(X_test, test_df['is_positive']))\n",
    "    accuracy = model.evaluate(X_test, test_df['is_positive'])[1] * 100\n",
    "    results.append((name, accuracy))\n",
    "\n",
    "best_baseline23 = pd.DataFrame(results, columns = ['model','accuracy'])\n",
    "best_baseline23.sort_values('accuracy', ascending=False)"
   ]
  },
  {
   "cell_type": "code",
   "execution_count": null,
   "metadata": {
    "colab": {
     "base_uri": "https://localhost:8080/",
     "height": 172
    },
    "executionInfo": {
     "elapsed": 1578639,
     "status": "ok",
     "timestamp": 1618735830233,
     "user": {
      "displayName": "Alexey Tankov",
      "photoUrl": "",
      "userId": "01729535101672247421"
     },
     "user_tz": -180
    },
    "id": "nzYmWzxxn-q5",
    "outputId": "6c210ab4-5949-433a-dfaf-00292022e8c5"
   },
   "outputs": [
    {
     "data": {
      "text/html": [
       "<div>\n",
       "<style scoped>\n",
       "    .dataframe tbody tr th:only-of-type {\n",
       "        vertical-align: middle;\n",
       "    }\n",
       "\n",
       "    .dataframe tbody tr th {\n",
       "        vertical-align: top;\n",
       "    }\n",
       "\n",
       "    .dataframe thead th {\n",
       "        text-align: right;\n",
       "    }\n",
       "</style>\n",
       "<table border=\"1\" class=\"dataframe\">\n",
       "  <thead>\n",
       "    <tr style=\"text-align: right;\">\n",
       "      <th></th>\n",
       "      <th>model</th>\n",
       "      <th>accuracy</th>\n",
       "    </tr>\n",
       "  </thead>\n",
       "  <tbody>\n",
       "    <tr>\n",
       "      <th>0</th>\n",
       "      <td>Net</td>\n",
       "      <td>88.164002</td>\n",
       "    </tr>\n",
       "    <tr>\n",
       "      <th>1</th>\n",
       "      <td>TfidfVectorizer</td>\n",
       "      <td>87.080000</td>\n",
       "    </tr>\n",
       "    <tr>\n",
       "      <th>0</th>\n",
       "      <td>CountVectorizer</td>\n",
       "      <td>83.350000</td>\n",
       "    </tr>\n",
       "    <tr>\n",
       "      <th>2</th>\n",
       "      <td>HashingVectorizer</td>\n",
       "      <td>83.270000</td>\n",
       "    </tr>\n",
       "  </tbody>\n",
       "</table>\n",
       "</div>"
      ],
      "text/plain": [
       "               model   accuracy\n",
       "0                Net  88.164002\n",
       "1    TfidfVectorizer  87.080000\n",
       "0    CountVectorizer  83.350000\n",
       "2  HashingVectorizer  83.270000"
      ]
     },
     "execution_count": 47,
     "metadata": {
      "tags": []
     },
     "output_type": "execute_result"
    }
   ],
   "source": [
    "final_result3 = pd.concat([best_baseline21, best_baseline23], axis=0)\n",
    "final_result3.sort_values('accuracy', ascending=False)"
   ]
  },
  {
   "cell_type": "code",
   "execution_count": null,
   "metadata": {
    "colab": {
     "base_uri": "https://localhost:8080/",
     "height": 388
    },
    "executionInfo": {
     "elapsed": 1578271,
     "status": "ok",
     "timestamp": 1618735830234,
     "user": {
      "displayName": "Alexey Tankov",
      "photoUrl": "",
      "userId": "01729535101672247421"
     },
     "user_tz": -180
    },
    "id": "r2cGe7bRZYuS",
    "outputId": "d168574a-ea44-4155-d3a4-106723e32959"
   },
   "outputs": [
    {
     "data": {
      "image/png": "[encoded data removed]",
      "text/plain": [
       "<Figure size 720x432 with 1 Axes>"
      ]
     },
     "metadata": {
      "needs_background": "light",
      "tags": []
     },
     "output_type": "display_data"
    }
   ],
   "source": [
    "x = final_result3['model']\n",
    "y = final_result3['accuracy']\n",
    "\n",
    "fig, ax = plt.subplots(figsize=(10, 6))\n",
    "ax.barh(x, y)\n",
    "\n",
    "# Remove axes splines\n",
    "for s in ['top', 'bottom', 'left', 'right']:\n",
    "    ax.spines[s].set_visible(False)\n",
    "\n",
    "# Add x, y gridlines\n",
    "ax.grid(b=True, color='grey', linestyle='-.', linewidth=0.5, alpha=0.7)\n",
    "\n",
    "# Add annotation to bars\n",
    "for i in ax.patches:\n",
    "    plt.text(i.get_width()+0.01, i.get_y()+0.5,\n",
    "             str(round((i.get_width()), 2)),\n",
    "             fontsize=10, fontweight='bold',\n",
    "             color='grey')\n",
    "\n",
    "plt.xlabel('accuracy')\n",
    "plt.show()"
   ]
  },
  {
   "cell_type": "code",
   "execution_count": null,
   "metadata": {
    "id": "UwXFWSUZtjQV"
   },
   "outputs": [],
   "source": [
    "final_results = pd.concat([final_result, final_result2, final_result3], axis=1, \n",
    "                         keys=['baseline', 'pre-processing', 'lemmatize'])"
   ]
  },
  {
   "cell_type": "code",
   "execution_count": null,
   "metadata": {
    "colab": {
     "base_uri": "https://localhost:8080/",
     "height": 203
    },
    "executionInfo": {
     "elapsed": 1577443,
     "status": "ok",
     "timestamp": 1618735830235,
     "user": {
      "displayName": "Alexey Tankov",
      "photoUrl": "",
      "userId": "01729535101672247421"
     },
     "user_tz": -180
    },
    "id": "DB8IbDgEuAfD",
    "outputId": "3cd9b923-588e-4d0e-c328-6432f38c5ffd"
   },
   "outputs": [
    {
     "data": {
      "text/html": [
       "<div>\n",
       "<style scoped>\n",
       "    .dataframe tbody tr th:only-of-type {\n",
       "        vertical-align: middle;\n",
       "    }\n",
       "\n",
       "    .dataframe tbody tr th {\n",
       "        vertical-align: top;\n",
       "    }\n",
       "\n",
       "    .dataframe thead tr th {\n",
       "        text-align: left;\n",
       "    }\n",
       "</style>\n",
       "<table border=\"1\" class=\"dataframe\">\n",
       "  <thead>\n",
       "    <tr>\n",
       "      <th></th>\n",
       "      <th colspan=\"2\" halign=\"left\">baseline</th>\n",
       "      <th colspan=\"2\" halign=\"left\">pre-processing</th>\n",
       "      <th colspan=\"2\" halign=\"left\">lemmatize</th>\n",
       "    </tr>\n",
       "    <tr>\n",
       "      <th></th>\n",
       "      <th>model</th>\n",
       "      <th>accuracy</th>\n",
       "      <th>model</th>\n",
       "      <th>accuracy</th>\n",
       "      <th>model</th>\n",
       "      <th>accuracy</th>\n",
       "    </tr>\n",
       "  </thead>\n",
       "  <tbody>\n",
       "    <tr>\n",
       "      <th>0</th>\n",
       "      <td>CountVectorizer</td>\n",
       "      <td>86.310000</td>\n",
       "      <td>CountVectorizer</td>\n",
       "      <td>83.000000</td>\n",
       "      <td>CountVectorizer</td>\n",
       "      <td>83.350000</td>\n",
       "    </tr>\n",
       "    <tr>\n",
       "      <th>1</th>\n",
       "      <td>TfidfVectorizer</td>\n",
       "      <td>88.320000</td>\n",
       "      <td>TfidfVectorizer</td>\n",
       "      <td>87.620000</td>\n",
       "      <td>TfidfVectorizer</td>\n",
       "      <td>87.080000</td>\n",
       "    </tr>\n",
       "    <tr>\n",
       "      <th>2</th>\n",
       "      <td>HashingVectorizer</td>\n",
       "      <td>85.940000</td>\n",
       "      <td>HashingVectorizer</td>\n",
       "      <td>86.380000</td>\n",
       "      <td>HashingVectorizer</td>\n",
       "      <td>83.270000</td>\n",
       "    </tr>\n",
       "    <tr>\n",
       "      <th>0</th>\n",
       "      <td>Net</td>\n",
       "      <td>88.047999</td>\n",
       "      <td>Net</td>\n",
       "      <td>88.348001</td>\n",
       "      <td>Net</td>\n",
       "      <td>88.164002</td>\n",
       "    </tr>\n",
       "  </tbody>\n",
       "</table>\n",
       "</div>"
      ],
      "text/plain": [
       "            baseline             ...          lemmatize           \n",
       "               model   accuracy  ...              model   accuracy\n",
       "0    CountVectorizer  86.310000  ...    CountVectorizer  83.350000\n",
       "1    TfidfVectorizer  88.320000  ...    TfidfVectorizer  87.080000\n",
       "2  HashingVectorizer  85.940000  ...  HashingVectorizer  83.270000\n",
       "0                Net  88.047999  ...                Net  88.164002\n",
       "\n",
       "[4 rows x 6 columns]"
      ]
     },
     "execution_count": 50,
     "metadata": {
      "tags": []
     },
     "output_type": "execute_result"
    }
   ],
   "source": [
    "final_results"
   ]
  },
  {
   "cell_type": "markdown",
   "metadata": {
    "id": "1140DoG6Wnma"
   },
   "source": [
    "### 3. Удалите из текстов какие-то из сущностей(не удалите а замените их тегом). Запустите классификатор."
   ]
  },
  {
   "cell_type": "code",
   "execution_count": null,
   "metadata": {
    "id": "L6gtLlXT-KDD"
   },
   "outputs": [],
   "source": [
    "# for id, text in enumerate(train_df['review']):\n",
    "#     # names = {(' '.join(c[0] for c in chunk), chunk.label() ) for chunk in nltk.ne_chunk(nltk.pos_tag(nltk.word_tokenize(text))) if hasattr(chunk, 'label') and chunk.label() == 'PERSON'}\n",
    "#     chunks = nltk.ne_chunk(nltk.pos_tag(nltk.word_tokenize(text)))\n",
    "#     names = {' '.join(c[0] for c in chunk) for chunk in chunks if hasattr(chunk, 'label') and chunk.label() == 'PERSON'}\n",
    "#     for name in names:\n",
    "#         train_df['person_review'] = train_df['review'].str.replace(name,'PERSONALITY')"
   ]
  },
  {
   "cell_type": "code",
   "execution_count": null,
   "metadata": {
    "id": "p0gZsjRdnFyY"
   },
   "outputs": [],
   "source": [
    "# for id, text in enumerate(test_df['review']):\n",
    "#     # names = {(' '.join(c[0] for c in chunk), chunk.label() ) for chunk in nltk.ne_chunk(nltk.pos_tag(nltk.word_tokenize(text))) if hasattr(chunk, 'label') and chunk.label() == 'PERSON'}\n",
    "#     chunks = nltk.ne_chunk(nltk.pos_tag(nltk.word_tokenize(text)))\n",
    "#     names = {' '.join(c[0] for c in chunk) for chunk in chunks if hasattr(chunk, 'label') and chunk.label() == 'PERSON'}\n",
    "#     for name in names:\n",
    "#         test_df['person_review'] = test_df['review'].str.replace(name,'PERSONALITY')"
   ]
  },
  {
   "cell_type": "code",
   "execution_count": null,
   "metadata": {
    "colab": {
     "base_uri": "https://localhost:8080/"
    },
    "executionInfo": {
     "elapsed": 12500,
     "status": "ok",
     "timestamp": 1618741240556,
     "user": {
      "displayName": "Alexey Tankov",
      "photoUrl": "",
      "userId": "01729535101672247421"
     },
     "user_tz": -180
    },
    "id": "3p16seEb79cQ",
    "outputId": "d94d743a-4854-4a26-cb0b-efd49baefd0e"
   },
   "outputs": [
    {
     "name": "stdout",
     "output_type": "stream",
     "text": [
      "Words count 27298\n"
     ]
    }
   ],
   "source": [
    "words_counter = Counter((word for text in train_df['person_review'] for word in text.lower().split()))\n",
    "word2idx = {'':0, '<unk>':1}\n",
    "\n",
    "for word, count in words_counter.most_common():\n",
    "    if count < 10:\n",
    "        break\n",
    "    word2idx[word] = len(word2idx)\n",
    "\n",
    "print('Words count', len(word2idx))\n",
    "\n",
    "X_train = convert(train_df['person_review'], word2idx, 1000)\n",
    "X_test = convert(test_df['person_review'], word2idx, 1000)"
   ]
  },
  {
   "cell_type": "code",
   "execution_count": null,
   "metadata": {
    "id": "KdM_a8DLnqbO"
   },
   "outputs": [],
   "source": [
    "models = []\n",
    "\n",
    "models.append(('CountVectorizer', CountVectorizer()))\n",
    "models.append(('TfidfVectorizer', TfidfVectorizer()))\n",
    "models.append(('HashingVectorizer', HashingVectorizer()))"
   ]
  },
  {
   "cell_type": "code",
   "execution_count": null,
   "metadata": {
    "colab": {
     "base_uri": "https://localhost:8080/",
     "height": 141
    },
    "executionInfo": {
     "elapsed": 64014,
     "status": "ok",
     "timestamp": 1618741313575,
     "user": {
      "displayName": "Alexey Tankov",
      "photoUrl": "",
      "userId": "01729535101672247421"
     },
     "user_tz": -180
    },
    "id": "aGOdaJpynrL0",
    "outputId": "59251c80-64a8-4f0b-eba7-f350a6e5aa07"
   },
   "outputs": [
    {
     "data": {
      "text/html": [
       "<div>\n",
       "<style scoped>\n",
       "    .dataframe tbody tr th:only-of-type {\n",
       "        vertical-align: middle;\n",
       "    }\n",
       "\n",
       "    .dataframe tbody tr th {\n",
       "        vertical-align: top;\n",
       "    }\n",
       "\n",
       "    .dataframe thead th {\n",
       "        text-align: right;\n",
       "    }\n",
       "</style>\n",
       "<table border=\"1\" class=\"dataframe\">\n",
       "  <thead>\n",
       "    <tr style=\"text-align: right;\">\n",
       "      <th></th>\n",
       "      <th>model</th>\n",
       "      <th>accuracy</th>\n",
       "    </tr>\n",
       "  </thead>\n",
       "  <tbody>\n",
       "    <tr>\n",
       "      <th>1</th>\n",
       "      <td>TfidfVectorizer</td>\n",
       "      <td>88.32</td>\n",
       "    </tr>\n",
       "    <tr>\n",
       "      <th>0</th>\n",
       "      <td>CountVectorizer</td>\n",
       "      <td>86.64</td>\n",
       "    </tr>\n",
       "    <tr>\n",
       "      <th>2</th>\n",
       "      <td>HashingVectorizer</td>\n",
       "      <td>85.94</td>\n",
       "    </tr>\n",
       "  </tbody>\n",
       "</table>\n",
       "</div>"
      ],
      "text/plain": [
       "               model  accuracy\n",
       "1    TfidfVectorizer     88.32\n",
       "0    CountVectorizer     86.64\n",
       "2  HashingVectorizer     85.94"
      ]
     },
     "execution_count": 55,
     "metadata": {
      "tags": []
     },
     "output_type": "execute_result"
    }
   ],
   "source": [
    "# Logistic Regression\n",
    "results = []\n",
    "\n",
    "for name, model in models:\n",
    "    net = Pipeline([\n",
    "        ('vectorizer', model),\n",
    "        ('classifier', LogisticRegression())\n",
    "    ])\n",
    "    net.fit(train_df['person_review'], train_df['is_positive'])\n",
    "    accuracy = eval_model(net, test_df)\n",
    "    results.append((name, accuracy))\n",
    "\n",
    "best_baseline31 = pd.DataFrame(results, columns = ['model','accuracy'])\n",
    "best_baseline31.sort_values('accuracy', ascending=False)"
   ]
  },
  {
   "cell_type": "code",
   "execution_count": null,
   "metadata": {
    "id": "dA3KKnH9oDgm"
   },
   "outputs": [],
   "source": [
    "models = []\n",
    "\n",
    "models.append(('Net', Sequential([layers.Embedding(input_dim=len(word2idx), output_dim=64, input_shape=(X_train.shape[1],)),\n",
    "    layers.Dropout(0.2),\n",
    "    layers.GlobalAveragePooling1D(),\n",
    "    layers.Dropout(0.2),\n",
    "    layers.Dense(units=1, activation='sigmoid')\n",
    "])))"
   ]
  },
  {
   "cell_type": "code",
   "execution_count": null,
   "metadata": {
    "colab": {
     "base_uri": "https://localhost:8080/",
     "height": 441
    },
    "executionInfo": {
     "elapsed": 459883,
     "status": "ok",
     "timestamp": 1618741714530,
     "user": {
      "displayName": "Alexey Tankov",
      "photoUrl": "",
      "userId": "01729535101672247421"
     },
     "user_tz": -180
    },
    "id": "jXPfsY6HoFnc",
    "outputId": "ec53bb2d-cb18-457e-f08d-9049222121c6"
   },
   "outputs": [
    {
     "name": "stdout",
     "output_type": "stream",
     "text": [
      "Epoch 1/10\n",
      "782/782 [==============================] - 42s 52ms/step - loss: 0.6877 - accuracy: 0.5618 - val_loss: 0.6422 - val_accuracy: 0.7679\n",
      "Epoch 2/10\n",
      "782/782 [==============================] - 41s 53ms/step - loss: 0.6097 - accuracy: 0.7516 - val_loss: 0.5308 - val_accuracy: 0.8038\n",
      "Epoch 3/10\n",
      "782/782 [==============================] - 40s 51ms/step - loss: 0.4995 - accuracy: 0.8116 - val_loss: 0.4506 - val_accuracy: 0.8352\n",
      "Epoch 4/10\n",
      "782/782 [==============================] - 39s 50ms/step - loss: 0.4158 - accuracy: 0.8553 - val_loss: 0.3991 - val_accuracy: 0.8530\n",
      "Epoch 5/10\n",
      "782/782 [==============================] - 39s 50ms/step - loss: 0.3638 - accuracy: 0.8682 - val_loss: 0.3641 - val_accuracy: 0.8612\n",
      "Epoch 6/10\n",
      "782/782 [==============================] - 39s 50ms/step - loss: 0.3267 - accuracy: 0.8828 - val_loss: 0.3489 - val_accuracy: 0.8579\n",
      "Epoch 7/10\n",
      "782/782 [==============================] - 40s 51ms/step - loss: 0.2987 - accuracy: 0.8918 - val_loss: 0.3364 - val_accuracy: 0.8621\n",
      "Epoch 8/10\n",
      "782/782 [==============================] - 39s 50ms/step - loss: 0.2712 - accuracy: 0.9017 - val_loss: 0.3278 - val_accuracy: 0.8618\n",
      "Epoch 9/10\n",
      "782/782 [==============================] - 40s 51ms/step - loss: 0.2508 - accuracy: 0.9087 - val_loss: 0.3042 - val_accuracy: 0.8786\n",
      "Epoch 10/10\n",
      "782/782 [==============================] - 39s 50ms/step - loss: 0.2307 - accuracy: 0.9166 - val_loss: 0.3066 - val_accuracy: 0.8743\n",
      "782/782 [==============================] - 3s 4ms/step - loss: 0.3066 - accuracy: 0.8743\n"
     ]
    },
    {
     "data": {
      "text/html": [
       "<div>\n",
       "<style scoped>\n",
       "    .dataframe tbody tr th:only-of-type {\n",
       "        vertical-align: middle;\n",
       "    }\n",
       "\n",
       "    .dataframe tbody tr th {\n",
       "        vertical-align: top;\n",
       "    }\n",
       "\n",
       "    .dataframe thead th {\n",
       "        text-align: right;\n",
       "    }\n",
       "</style>\n",
       "<table border=\"1\" class=\"dataframe\">\n",
       "  <thead>\n",
       "    <tr style=\"text-align: right;\">\n",
       "      <th></th>\n",
       "      <th>model</th>\n",
       "      <th>accuracy</th>\n",
       "    </tr>\n",
       "  </thead>\n",
       "  <tbody>\n",
       "    <tr>\n",
       "      <th>0</th>\n",
       "      <td>Net</td>\n",
       "      <td>87.427998</td>\n",
       "    </tr>\n",
       "  </tbody>\n",
       "</table>\n",
       "</div>"
      ],
      "text/plain": [
       "  model   accuracy\n",
       "0   Net  87.427998"
      ]
     },
     "execution_count": 57,
     "metadata": {
      "tags": []
     },
     "output_type": "execute_result"
    }
   ],
   "source": [
    "# tensorflow\n",
    "results = []\n",
    "\n",
    "for name, model in models:\n",
    "    model.compile(loss='binary_crossentropy', optimizer='adam', metrics=['accuracy'])\n",
    "    model.fit(X_train, train_df['is_positive'], batch_size=32, epochs=10, validation_data=(X_test, test_df['is_positive']))\n",
    "    accuracy = model.evaluate(X_test, test_df['is_positive'])[1] * 100\n",
    "    results.append((name, accuracy))\n",
    "\n",
    "best_baseline33 = pd.DataFrame(results, columns = ['model','accuracy'])\n",
    "best_baseline33.sort_values('accuracy', ascending=False)"
   ]
  },
  {
   "cell_type": "code",
   "execution_count": null,
   "metadata": {
    "colab": {
     "base_uri": "https://localhost:8080/",
     "height": 172
    },
    "executionInfo": {
     "elapsed": 563,
     "status": "ok",
     "timestamp": 1618741836371,
     "user": {
      "displayName": "Alexey Tankov",
      "photoUrl": "",
      "userId": "01729535101672247421"
     },
     "user_tz": -180
    },
    "id": "buq3cDdtoIGE",
    "outputId": "0ef142bc-09d2-48e3-b5ab-4b32eca3439a"
   },
   "outputs": [
    {
     "data": {
      "text/html": [
       "<div>\n",
       "<style scoped>\n",
       "    .dataframe tbody tr th:only-of-type {\n",
       "        vertical-align: middle;\n",
       "    }\n",
       "\n",
       "    .dataframe tbody tr th {\n",
       "        vertical-align: top;\n",
       "    }\n",
       "\n",
       "    .dataframe thead th {\n",
       "        text-align: right;\n",
       "    }\n",
       "</style>\n",
       "<table border=\"1\" class=\"dataframe\">\n",
       "  <thead>\n",
       "    <tr style=\"text-align: right;\">\n",
       "      <th></th>\n",
       "      <th>model</th>\n",
       "      <th>accuracy</th>\n",
       "    </tr>\n",
       "  </thead>\n",
       "  <tbody>\n",
       "    <tr>\n",
       "      <th>1</th>\n",
       "      <td>TfidfVectorizer</td>\n",
       "      <td>88.320000</td>\n",
       "    </tr>\n",
       "    <tr>\n",
       "      <th>0</th>\n",
       "      <td>Net</td>\n",
       "      <td>87.427998</td>\n",
       "    </tr>\n",
       "    <tr>\n",
       "      <th>0</th>\n",
       "      <td>CountVectorizer</td>\n",
       "      <td>86.640000</td>\n",
       "    </tr>\n",
       "    <tr>\n",
       "      <th>2</th>\n",
       "      <td>HashingVectorizer</td>\n",
       "      <td>85.940000</td>\n",
       "    </tr>\n",
       "  </tbody>\n",
       "</table>\n",
       "</div>"
      ],
      "text/plain": [
       "               model   accuracy\n",
       "1    TfidfVectorizer  88.320000\n",
       "0                Net  87.427998\n",
       "0    CountVectorizer  86.640000\n",
       "2  HashingVectorizer  85.940000"
      ]
     },
     "execution_count": 58,
     "metadata": {
      "tags": []
     },
     "output_type": "execute_result"
    }
   ],
   "source": [
    "final_result4 = pd.concat([best_baseline31, best_baseline33], axis=0)\n",
    "final_result4.sort_values('accuracy', ascending=False)"
   ]
  },
  {
   "cell_type": "code",
   "execution_count": null,
   "metadata": {
    "id": "X677kbMruCZl"
   },
   "outputs": [],
   "source": [
    "final_results = pd.concat([final_result, final_result2, final_result3, final_result4], axis=1, \n",
    "                         keys=['baseline', 'pre-processing', 'lemmatize', 'tag'])"
   ]
  },
  {
   "cell_type": "code",
   "execution_count": null,
   "metadata": {
    "colab": {
     "base_uri": "https://localhost:8080/",
     "height": 203
    },
    "executionInfo": {
     "elapsed": 696,
     "status": "ok",
     "timestamp": 1618741843971,
     "user": {
      "displayName": "Alexey Tankov",
      "photoUrl": "",
      "userId": "01729535101672247421"
     },
     "user_tz": -180
    },
    "id": "f27ViUDJuOnW",
    "outputId": "7f1b7486-3ea4-4da4-a14d-3bfc02860a3c"
   },
   "outputs": [
    {
     "data": {
      "text/html": [
       "<div>\n",
       "<style scoped>\n",
       "    .dataframe tbody tr th:only-of-type {\n",
       "        vertical-align: middle;\n",
       "    }\n",
       "\n",
       "    .dataframe tbody tr th {\n",
       "        vertical-align: top;\n",
       "    }\n",
       "\n",
       "    .dataframe thead tr th {\n",
       "        text-align: left;\n",
       "    }\n",
       "</style>\n",
       "<table border=\"1\" class=\"dataframe\">\n",
       "  <thead>\n",
       "    <tr>\n",
       "      <th></th>\n",
       "      <th colspan=\"2\" halign=\"left\">baseline</th>\n",
       "      <th colspan=\"2\" halign=\"left\">pre-processing</th>\n",
       "      <th colspan=\"2\" halign=\"left\">lemmatize</th>\n",
       "      <th colspan=\"2\" halign=\"left\">tag</th>\n",
       "    </tr>\n",
       "    <tr>\n",
       "      <th></th>\n",
       "      <th>model</th>\n",
       "      <th>accuracy</th>\n",
       "      <th>model</th>\n",
       "      <th>accuracy</th>\n",
       "      <th>model</th>\n",
       "      <th>accuracy</th>\n",
       "      <th>model</th>\n",
       "      <th>accuracy</th>\n",
       "    </tr>\n",
       "  </thead>\n",
       "  <tbody>\n",
       "    <tr>\n",
       "      <th>0</th>\n",
       "      <td>CountVectorizer</td>\n",
       "      <td>86.310000</td>\n",
       "      <td>CountVectorizer</td>\n",
       "      <td>83.000000</td>\n",
       "      <td>CountVectorizer</td>\n",
       "      <td>83.350000</td>\n",
       "      <td>CountVectorizer</td>\n",
       "      <td>86.640000</td>\n",
       "    </tr>\n",
       "    <tr>\n",
       "      <th>1</th>\n",
       "      <td>TfidfVectorizer</td>\n",
       "      <td>88.320000</td>\n",
       "      <td>TfidfVectorizer</td>\n",
       "      <td>87.620000</td>\n",
       "      <td>TfidfVectorizer</td>\n",
       "      <td>87.080000</td>\n",
       "      <td>TfidfVectorizer</td>\n",
       "      <td>88.320000</td>\n",
       "    </tr>\n",
       "    <tr>\n",
       "      <th>2</th>\n",
       "      <td>HashingVectorizer</td>\n",
       "      <td>85.940000</td>\n",
       "      <td>HashingVectorizer</td>\n",
       "      <td>86.380000</td>\n",
       "      <td>HashingVectorizer</td>\n",
       "      <td>83.270000</td>\n",
       "      <td>HashingVectorizer</td>\n",
       "      <td>85.940000</td>\n",
       "    </tr>\n",
       "    <tr>\n",
       "      <th>0</th>\n",
       "      <td>Net</td>\n",
       "      <td>88.047999</td>\n",
       "      <td>Net</td>\n",
       "      <td>88.348001</td>\n",
       "      <td>Net</td>\n",
       "      <td>88.164002</td>\n",
       "      <td>Net</td>\n",
       "      <td>87.427998</td>\n",
       "    </tr>\n",
       "  </tbody>\n",
       "</table>\n",
       "</div>"
      ],
      "text/plain": [
       "            baseline             ...                tag           \n",
       "               model   accuracy  ...              model   accuracy\n",
       "0    CountVectorizer  86.310000  ...    CountVectorizer  86.640000\n",
       "1    TfidfVectorizer  88.320000  ...    TfidfVectorizer  88.320000\n",
       "2  HashingVectorizer  85.940000  ...  HashingVectorizer  85.940000\n",
       "0                Net  88.047999  ...                Net  87.427998\n",
       "\n",
       "[4 rows x 8 columns]"
      ]
     },
     "execution_count": 60,
     "metadata": {
      "tags": []
     },
     "output_type": "execute_result"
    }
   ],
   "source": [
    "final_results"
   ]
  },
  {
   "cell_type": "markdown",
   "metadata": {
    "id": "k2z00JkWWnma"
   },
   "source": [
    "### 4. Поэкспериментируйте с подходом с сеточками на разных данных (с удалёнными сущностями или без)"
   ]
  },
  {
   "cell_type": "code",
   "execution_count": null,
   "metadata": {
    "id": "VHpkGs-1loki"
   },
   "outputs": [],
   "source": []
  }
 ],
 "metadata": {
  "colab": {
   "collapsed_sections": [],
   "name": "hw_06.ipynb",
   "provenance": []
  },
  "kernelspec": {
   "display_name": "Python 3",
   "language": "python",
   "name": "python3"
  },
  "language_info": {
   "codemirror_mode": {
    "name": "ipython",
    "version": 3
   },
   "file_extension": ".py",
   "mimetype": "text/x-python",
   "name": "python",
   "nbconvert_exporter": "python",
   "pygments_lexer": "ipython3",
   "version": "3.8.8"
  }
 },
 "nbformat": 4,
 "nbformat_minor": 1
}
