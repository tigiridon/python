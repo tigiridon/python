{
 "cells": [
  {
   "cell_type": "markdown",
   "metadata": {},
   "source": [
    "### from SAV to LOVE"
   ]
  },
  {
   "cell_type": "markdown",
   "metadata": {},
   "source": [
    "# HW №5"
   ]
  },
  {
   "cell_type": "markdown",
   "metadata": {
    "id": "3ZrA2tAaZTPf"
   },
   "source": [
    "## Введение в обработку естественного языка\n",
    "### Урок 5. Part-of-Speech разметка, NER, извлечение отношений"
   ]
  },
  {
   "cell_type": "code",
   "execution_count": 1,
   "metadata": {
    "colab": {
     "base_uri": "https://localhost:8080/",
     "height": 17
    },
    "executionInfo": {
     "elapsed": 1052,
     "status": "ok",
     "timestamp": 1618316468745,
     "user": {
      "displayName": "Alexey Tankov",
      "photoUrl": "",
      "userId": "01729535101672247421"
     },
     "user_tz": -180
    },
    "id": "JAFnV_UjZTPT",
    "outputId": "cfa8f654-8ec9-49a9-d9ce-0a437fb5ddee"
   },
   "outputs": [
    {
     "data": {
      "text/html": [
       "<style>.container { width:77% !important; }</style>"
      ],
      "text/plain": [
       "<IPython.core.display.HTML object>"
      ]
     },
     "metadata": {
      "tags": []
     },
     "output_type": "display_data"
    }
   ],
   "source": [
    "from IPython.core.display import display, HTML, Image\n",
    "display(HTML(\"<style>.container { width:77% !important; }</style>\"))"
   ]
  },
  {
   "cell_type": "code",
   "execution_count": 2,
   "metadata": {
    "executionInfo": {
     "elapsed": 1066,
     "status": "ok",
     "timestamp": 1618316469151,
     "user": {
      "displayName": "Alexey Tankov",
      "photoUrl": "",
      "userId": "01729535101672247421"
     },
     "user_tz": -180
    },
    "id": "DtDZ7JuBVFi6"
   },
   "outputs": [],
   "source": [
    "import warnings\n",
    "warnings.filterwarnings(\"ignore\")"
   ]
  },
  {
   "cell_type": "code",
   "execution_count": 3,
   "metadata": {
    "executionInfo": {
     "elapsed": 729,
     "status": "ok",
     "timestamp": 1618316469412,
     "user": {
      "displayName": "Alexey Tankov",
      "photoUrl": "",
      "userId": "01729535101672247421"
     },
     "user_tz": -180
    },
    "id": "yPRx8Cu_RDY1"
   },
   "outputs": [],
   "source": [
    "# !pip install pyconll"
   ]
  },
  {
   "cell_type": "code",
   "execution_count": 4,
   "metadata": {
    "executionInfo": {
     "elapsed": 2717,
     "status": "ok",
     "timestamp": 1618316471763,
     "user": {
      "displayName": "Alexey Tankov",
      "photoUrl": "",
      "userId": "01729535101672247421"
     },
     "user_tz": -180
    },
    "id": "f3wgBldxU7Zz"
   },
   "outputs": [],
   "source": [
    "import numpy as np\n",
    "import pandas as pd\n",
    "import matplotlib.pyplot as plt\n",
    "\n",
    "import pyconll\n",
    "\n",
    "import nltk\n",
    "from nltk.corpus import brown\n",
    "from nltk.tag import DefaultTagger\n",
    "from nltk.tag import UnigramTagger\n",
    "from nltk.tag import BigramTagger, TrigramTagger\n",
    "from nltk.tag import RegexpTagger"
   ]
  },
  {
   "cell_type": "markdown",
   "metadata": {
    "id": "_16J0ER8WOJx"
   },
   "source": [
    "### Загрузка данных"
   ]
  },
  {
   "cell_type": "code",
   "execution_count": 7,
   "metadata": {
    "executionInfo": {
     "elapsed": 1053,
     "status": "ok",
     "timestamp": 1618311946920,
     "user": {
      "displayName": "Alexey Tankov",
      "photoUrl": "",
      "userId": "01729535101672247421"
     },
     "user_tz": -180
    },
    "id": "vXxwW9NzW570"
   },
   "outputs": [],
   "source": [
    "# !mkdir datasets"
   ]
  },
  {
   "cell_type": "code",
   "execution_count": 8,
   "metadata": {
    "executionInfo": {
     "elapsed": 579,
     "status": "ok",
     "timestamp": 1618311950098,
     "user": {
      "displayName": "Alexey Tankov",
      "photoUrl": "",
      "userId": "01729535101672247421"
     },
     "user_tz": -180
    },
    "id": "tpwgA3svWiRw"
   },
   "outputs": [],
   "source": [
    "# !wget -O ./datasets/ru_syntagrus-ud-train.conllu https://raw.githubusercontent.com/UniversalDependencies/UD_Russian-SynTagRus/master/ru_syntagrus-ud-train.conllu\n",
    "# !wget -O ./datasets/ru_syntagrus-ud-dev.conllu https://raw.githubusercontent.com/UniversalDependencies/UD_Russian-SynTagRus/master/ru_syntagrus-ud-dev.conllu"
   ]
  },
  {
   "cell_type": "code",
   "execution_count": 7,
   "metadata": {
    "executionInfo": {
     "elapsed": 31956,
     "status": "ok",
     "timestamp": 1618288938535,
     "user": {
      "displayName": "Alexey Tankov",
      "photoUrl": "",
      "userId": "01729535101672247421"
     },
     "user_tz": -180
    },
    "id": "Oymo30RBWjjl"
   },
   "outputs": [],
   "source": [
    "full_train = pyconll.load_from_file('datasets/ru_syntagrus-ud-train.conllu')\n",
    "full_test = pyconll.load_from_file('datasets/ru_syntagrus-ud-dev.conllu')"
   ]
  },
  {
   "cell_type": "code",
   "execution_count": 8,
   "metadata": {
    "executionInfo": {
     "elapsed": 31700,
     "status": "ok",
     "timestamp": 1618288938540,
     "user": {
      "displayName": "Alexey Tankov",
      "photoUrl": "",
      "userId": "01729535101672247421"
     },
     "user_tz": -180
    },
    "id": "XBzFe82cXGNK"
   },
   "outputs": [],
   "source": [
    "def get_data(dataset):\n",
    "    data = []\n",
    "    for sent in dataset:\n",
    "        for token in sent:\n",
    "            data.append((token.form.lower(), token.upos))           \n",
    "    return data"
   ]
  },
  {
   "cell_type": "code",
   "execution_count": 9,
   "metadata": {
    "colab": {
     "base_uri": "https://localhost:8080/"
    },
    "executionInfo": {
     "elapsed": 31211,
     "status": "ok",
     "timestamp": 1618288939132,
     "user": {
      "displayName": "Alexey Tankov",
      "photoUrl": "",
      "userId": "01729535101672247421"
     },
     "user_tz": -180
    },
    "id": "NVKS5-oGnpoI",
    "outputId": "e0ca7ab4-4cf2-4661-981d-9b9e3aad4d53"
   },
   "outputs": [
    {
     "data": {
      "text/plain": [
       "[('анкета', 'NOUN'),\n",
       " ('.', 'PUNCT'),\n",
       " ('начальник', 'NOUN'),\n",
       " ('областного', 'ADJ'),\n",
       " ('управления', 'NOUN'),\n",
       " ('связи', 'NOUN'),\n",
       " ('семен', 'PROPN')]"
      ]
     },
     "execution_count": 9,
     "metadata": {
      "tags": []
     },
     "output_type": "execute_result"
    }
   ],
   "source": [
    "train_data = get_data(full_train) \n",
    "train_data[:7]"
   ]
  },
  {
   "cell_type": "code",
   "execution_count": 10,
   "metadata": {
    "colab": {
     "base_uri": "https://localhost:8080/"
    },
    "executionInfo": {
     "elapsed": 31295,
     "status": "ok",
     "timestamp": 1618288939535,
     "user": {
      "displayName": "Alexey Tankov",
      "photoUrl": "",
      "userId": "01729535101672247421"
     },
     "user_tz": -180
    },
    "id": "X15h10Y5n3js",
    "outputId": "859141b4-1d3b-4ac9-d68a-6b36f2a09f94"
   },
   "outputs": [
    {
     "data": {
      "text/plain": [
       "[('алгоритм', 'NOUN'),\n",
       " (',', 'PUNCT'),\n",
       " ('от', 'ADP'),\n",
       " ('имени', 'NOUN'),\n",
       " ('учёного', 'NOUN'),\n",
       " ('аль', 'PART'),\n",
       " ('-', 'PUNCT')]"
      ]
     },
     "execution_count": 10,
     "metadata": {
      "tags": []
     },
     "output_type": "execute_result"
    }
   ],
   "source": [
    "test_data = get_data(full_test) \n",
    "test_data[:7]"
   ]
  },
  {
   "cell_type": "code",
   "execution_count": 11,
   "metadata": {
    "colab": {
     "base_uri": "https://localhost:8080/"
    },
    "executionInfo": {
     "elapsed": 30805,
     "status": "ok",
     "timestamp": 1618288939536,
     "user": {
      "displayName": "Alexey Tankov",
      "photoUrl": "",
      "userId": "01729535101672247421"
     },
     "user_tz": -180
    },
    "id": "s1ZrM50geH69",
    "outputId": "c6071ed1-e887-4f4f-a543-43d875040db4"
   },
   "outputs": [
    {
     "data": {
      "text/plain": [
       "871526"
      ]
     },
     "execution_count": 11,
     "metadata": {
      "tags": []
     },
     "output_type": "execute_result"
    }
   ],
   "source": [
    "len(train_data)"
   ]
  },
  {
   "cell_type": "code",
   "execution_count": 12,
   "metadata": {
    "colab": {
     "base_uri": "https://localhost:8080/"
    },
    "executionInfo": {
     "elapsed": 30516,
     "status": "ok",
     "timestamp": 1618288939537,
     "user": {
      "displayName": "Alexey Tankov",
      "photoUrl": "",
      "userId": "01729535101672247421"
     },
     "user_tz": -180
    },
    "id": "7s7zUbTietLe",
    "outputId": "14a48cc0-9f7a-487c-8e1d-d2c8386b80c3"
   },
   "outputs": [
    {
     "data": {
      "text/plain": [
       "118692"
      ]
     },
     "execution_count": 12,
     "metadata": {
      "tags": []
     },
     "output_type": "execute_result"
    }
   ],
   "source": [
    "len(test_data)"
   ]
  },
  {
   "cell_type": "markdown",
   "metadata": {
    "id": "IkpcHsV8RWHA"
   },
   "source": [
    "### Практическое задание 1"
   ]
  },
  {
   "cell_type": "markdown",
   "metadata": {
    "id": "aAQBOJRARev7"
   },
   "source": [
    "**Написать теггер на данных с руским языком**"
   ]
  },
  {
   "cell_type": "markdown",
   "metadata": {
    "id": "k16hbBA8T7Qd"
   },
   "source": [
    "### 1. проверить UnigramTagger, BigramTagger, TrigramTagger и их комбинации  "
   ]
  },
  {
   "cell_type": "code",
   "execution_count": 13,
   "metadata": {
    "executionInfo": {
     "elapsed": 472,
     "status": "ok",
     "timestamp": 1618288940012,
     "user": {
      "displayName": "Alexey Tankov",
      "photoUrl": "",
      "userId": "01729535101672247421"
     },
     "user_tz": -180
    },
    "id": "xwf2dYpRpX6S"
   },
   "outputs": [],
   "source": [
    "# Комбинация тэггеров\n",
    "# Примущество Backoff Tagging в том, что если текущий тэггер не знает, как тэггировать слово, \n",
    "# он передает это следующему и так далее, пока не пройдет перебор по всем тэггерам. \n",
    "# В данному случае тэггирование производит последовательность UnigramTagger, BigramTagger, TrigramTagger. \n",
    "# Комбинация тэггеров дала немного лучший результат, чем UnigramTagger, BigramTagger по отдельности.\n",
    "def backoff_tagger(train_sents, tagger_classes, backoff=None):\n",
    "    for cls in tagger_classes:\n",
    "        backoff = cls(train_sents, backoff=backoff)\n",
    "    return backoff"
   ]
  },
  {
   "cell_type": "code",
   "execution_count": 19,
   "metadata": {
    "executionInfo": {
     "elapsed": 3669694,
     "status": "ok",
     "timestamp": 1618294670042,
     "user": {
      "displayName": "Alexey Tankov",
      "photoUrl": "",
      "userId": "01729535101672247421"
     },
     "user_tz": -180
    },
    "id": "WudaCXbxtUfa"
   },
   "outputs": [],
   "source": [
    "tts = 0.25 # train_test_split\n",
    "models = []\n",
    "\n",
    "models.append(('UnigramTagger', UnigramTagger([train_data[:int(len(train_data) * tts)]])))\n",
    "models.append(('BigramTagger', BigramTagger([train_data[:int(len(train_data) * tts)]])))\n",
    "models.append(('TrigramTagger', TrigramTagger([train_data[:int(len(train_data) * tts)]])))\n",
    "models.append(('CombineTagger', backoff_tagger([train_data[:int(len(train_data) * tts)]], [UnigramTagger, BigramTagger, TrigramTagger])))"
   ]
  },
  {
   "cell_type": "code",
   "execution_count": 20,
   "metadata": {
    "colab": {
     "base_uri": "https://localhost:8080/",
     "height": 173
    },
    "executionInfo": {
     "elapsed": 2054,
     "status": "ok",
     "timestamp": 1618294701981,
     "user": {
      "displayName": "Alexey Tankov",
      "photoUrl": "",
      "userId": "01729535101672247421"
     },
     "user_tz": -180
    },
    "id": "yvwCqKiutXw1",
    "outputId": "a8532304-1d3a-4905-c9d2-547a67de6b85"
   },
   "outputs": [
    {
     "data": {
      "text/html": [
       "<div>\n",
       "<style scoped>\n",
       "    .dataframe tbody tr th:only-of-type {\n",
       "        vertical-align: middle;\n",
       "    }\n",
       "\n",
       "    .dataframe tbody tr th {\n",
       "        vertical-align: top;\n",
       "    }\n",
       "\n",
       "    .dataframe thead th {\n",
       "        text-align: right;\n",
       "    }\n",
       "</style>\n",
       "<table border=\"1\" class=\"dataframe\">\n",
       "  <thead>\n",
       "    <tr style=\"text-align: right;\">\n",
       "      <th></th>\n",
       "      <th>model</th>\n",
       "      <th>accuracy</th>\n",
       "    </tr>\n",
       "  </thead>\n",
       "  <tbody>\n",
       "    <tr>\n",
       "      <th>3</th>\n",
       "      <td>CombineTagger</td>\n",
       "      <td>0.812751</td>\n",
       "    </tr>\n",
       "    <tr>\n",
       "      <th>0</th>\n",
       "      <td>UnigramTagger</td>\n",
       "      <td>0.807704</td>\n",
       "    </tr>\n",
       "    <tr>\n",
       "      <th>1</th>\n",
       "      <td>BigramTagger</td>\n",
       "      <td>0.575388</td>\n",
       "    </tr>\n",
       "    <tr>\n",
       "      <th>2</th>\n",
       "      <td>TrigramTagger</td>\n",
       "      <td>0.020347</td>\n",
       "    </tr>\n",
       "  </tbody>\n",
       "</table>\n",
       "</div>"
      ],
      "text/plain": [
       "           model  accuracy\n",
       "3  CombineTagger  0.812751\n",
       "0  UnigramTagger  0.807704\n",
       "1   BigramTagger  0.575388\n",
       "2  TrigramTagger  0.020347"
      ]
     },
     "execution_count": 20,
     "metadata": {
      "tags": []
     },
     "output_type": "execute_result"
    }
   ],
   "source": [
    "results = []\n",
    "\n",
    "for name, model in models:\n",
    "    accuracy = model.evaluate([test_data])\n",
    "    results.append((name, accuracy))\n",
    "  \n",
    "best_tagger = pd.DataFrame(results, columns = ['model','accuracy'])\n",
    "best_tagger.sort_values('accuracy', ascending=False)"
   ]
  },
  {
   "cell_type": "code",
   "execution_count": 22,
   "metadata": {
    "colab": {
     "base_uri": "https://localhost:8080/",
     "height": 388
    },
    "executionInfo": {
     "elapsed": 818,
     "status": "ok",
     "timestamp": 1618294715361,
     "user": {
      "displayName": "Alexey Tankov",
      "photoUrl": "",
      "userId": "01729535101672247421"
     },
     "user_tz": -180
    },
    "id": "2ySIlpcCV0OR",
    "outputId": "a8fb133e-851c-4473-896c-5eb6ba565c61"
   },
   "outputs": [
    {
     "data": {
      "image/png": "[encoded data removed]",
      "text/plain": [
       "<Figure size 720x432 with 1 Axes>"
      ]
     },
     "metadata": {
      "needs_background": "light",
      "tags": []
     },
     "output_type": "display_data"
    }
   ],
   "source": [
    "x = best_tagger['model']\n",
    "y = best_tagger['accuracy']\n",
    "\n",
    "fig, ax = plt.subplots(figsize=(10, 6))\n",
    "ax.barh(x, y)\n",
    "\n",
    "# Remove axes splines\n",
    "for s in ['top', 'bottom', 'left', 'right']:\n",
    "    ax.spines[s].set_visible(False)\n",
    "\n",
    "# Add x, y gridlines\n",
    "ax.grid(b=True, color='grey', linestyle='-.', linewidth=0.5, alpha=0.7)\n",
    "\n",
    "# Add annotation to bars\n",
    "for i in ax.patches:\n",
    "    plt.text(i.get_width()+0.01, i.get_y()+0.5,\n",
    "             str(round((i.get_width()), 2)),\n",
    "             fontsize=10, fontweight='bold',\n",
    "             color='grey')\n",
    "\n",
    "plt.xlabel('accuracy')\n",
    "plt.show()"
   ]
  },
  {
   "cell_type": "markdown",
   "metadata": {
    "id": "qcyk6aEBT_gM"
   },
   "source": [
    "### 2. написать свой теггер как на занятии, но улучшить попробовать разные векторайзеры, добавить знание не только букв и слов но и совместно объединить эти признаки  "
   ]
  },
  {
   "cell_type": "code",
   "execution_count": 5,
   "metadata": {
    "executionInfo": {
     "elapsed": 841,
     "status": "ok",
     "timestamp": 1618316475027,
     "user": {
      "displayName": "Alexey Tankov",
      "photoUrl": "",
      "userId": "01729535101672247421"
     },
     "user_tz": -180
    },
    "id": "TnH1_2NB8znW"
   },
   "outputs": [],
   "source": [
    "from sklearn.feature_extraction.text import CountVectorizer, HashingVectorizer, TfidfVectorizer\n",
    "from sklearn.linear_model import LogisticRegression\n",
    "from sklearn.metrics import accuracy_score\n",
    "import xgboost as xgb\n",
    "from sklearn.preprocessing import LabelEncoder"
   ]
  },
  {
   "cell_type": "code",
   "execution_count": 7,
   "metadata": {
    "executionInfo": {
     "elapsed": 703,
     "status": "ok",
     "timestamp": 1618313874214,
     "user": {
      "displayName": "Alexey Tankov",
      "photoUrl": "",
      "userId": "01729535101672247421"
     },
     "user_tz": -180
    },
    "id": "s2bjYB74_POS"
   },
   "outputs": [],
   "source": [
    "classifier = LogisticRegression()"
   ]
  },
  {
   "cell_type": "code",
   "execution_count": 25,
   "metadata": {
    "executionInfo": {
     "elapsed": 978,
     "status": "ok",
     "timestamp": 1618294734428,
     "user": {
      "displayName": "Alexey Tankov",
      "photoUrl": "",
      "userId": "01729535101672247421"
     },
     "user_tz": -180
    },
    "id": "bm6JqfND3NfO"
   },
   "outputs": [],
   "source": [
    "def split_token_label(data):\n",
    "  tokens = []\n",
    "  labels = []\n",
    "\n",
    "  for token, label in data:\n",
    "    tokens.append(token)\n",
    "    labels.append('NO_TAG' if label is None else label)\n",
    "\n",
    "  return tokens, labels"
   ]
  },
  {
   "cell_type": "code",
   "execution_count": 26,
   "metadata": {
    "colab": {
     "base_uri": "https://localhost:8080/"
    },
    "executionInfo": {
     "elapsed": 1664,
     "status": "ok",
     "timestamp": 1618294736452,
     "user": {
      "displayName": "Alexey Tankov",
      "photoUrl": "",
      "userId": "01729535101672247421"
     },
     "user_tz": -180
    },
    "id": "b1HacUMS26t5",
    "outputId": "437bfa6a-2c96-4f7b-9a90-4209b4ce7471"
   },
   "outputs": [
    {
     "data": {
      "text/plain": [
       "(['анкета', '.', 'начальник', 'областного', 'управления'],\n",
       " ['NOUN', 'PUNCT', 'NOUN', 'ADJ', 'NOUN'])"
      ]
     },
     "execution_count": 26,
     "metadata": {
      "tags": []
     },
     "output_type": "execute_result"
    }
   ],
   "source": [
    "train_tok, train_label = split_token_label(train_data)\n",
    "train_tok[:5], train_label[:5]"
   ]
  },
  {
   "cell_type": "code",
   "execution_count": 27,
   "metadata": {
    "colab": {
     "base_uri": "https://localhost:8080/"
    },
    "executionInfo": {
     "elapsed": 928,
     "status": "ok",
     "timestamp": 1618294736453,
     "user": {
      "displayName": "Alexey Tankov",
      "photoUrl": "",
      "userId": "01729535101672247421"
     },
     "user_tz": -180
    },
    "id": "U0H_4mfD3nnA",
    "outputId": "b6c98acc-589c-47c5-e124-8d202cfdd8da"
   },
   "outputs": [
    {
     "data": {
      "text/plain": [
       "(['алгоритм', ',', 'от', 'имени', 'учёного'],\n",
       " ['NOUN', 'PUNCT', 'ADP', 'NOUN', 'NOUN'])"
      ]
     },
     "execution_count": 27,
     "metadata": {
      "tags": []
     },
     "output_type": "execute_result"
    }
   ],
   "source": [
    "test_tok, test_label = split_token_label(test_data)\n",
    "test_tok[:5], test_label[:5]"
   ]
  },
  {
   "cell_type": "code",
   "execution_count": 28,
   "metadata": {
    "executionInfo": {
     "elapsed": 1258,
     "status": "ok",
     "timestamp": 1618294737261,
     "user": {
      "displayName": "Alexey Tankov",
      "photoUrl": "",
      "userId": "01729535101672247421"
     },
     "user_tz": -180
    },
    "id": "KkimupWs811a"
   },
   "outputs": [],
   "source": [
    "le = LabelEncoder()\n",
    "train_enc_labels = le.fit_transform(train_label)"
   ]
  },
  {
   "cell_type": "code",
   "execution_count": 29,
   "metadata": {
    "executionInfo": {
     "elapsed": 858,
     "status": "ok",
     "timestamp": 1618294737262,
     "user": {
      "displayName": "Alexey Tankov",
      "photoUrl": "",
      "userId": "01729535101672247421"
     },
     "user_tz": -180
    },
    "id": "88RWMzL883_W"
   },
   "outputs": [],
   "source": [
    "test_enc_labels = le.transform(test_label)"
   ]
  },
  {
   "cell_type": "code",
   "execution_count": 30,
   "metadata": {
    "colab": {
     "base_uri": "https://localhost:8080/"
    },
    "executionInfo": {
     "elapsed": 576,
     "status": "ok",
     "timestamp": 1618294737497,
     "user": {
      "displayName": "Alexey Tankov",
      "photoUrl": "",
      "userId": "01729535101672247421"
     },
     "user_tz": -180
    },
    "id": "7NIZS4t186LN",
    "outputId": "cda40914-4587-4159-aecd-f12d5d5bfcba"
   },
   "outputs": [
    {
     "data": {
      "text/plain": [
       "array(['ADJ', 'ADP', 'ADV', 'AUX', 'CCONJ', 'DET', 'INTJ', 'NOUN',\n",
       "       'NO_TAG', 'NUM', 'PART', 'PRON', 'PROPN', 'PUNCT', 'SCONJ', 'SYM',\n",
       "       'VERB', 'X'], dtype='<U6')"
      ]
     },
     "execution_count": 30,
     "metadata": {
      "tags": []
     },
     "output_type": "execute_result"
    }
   ],
   "source": [
    "le.classes_"
   ]
  },
  {
   "cell_type": "code",
   "execution_count": 77,
   "metadata": {
    "executionInfo": {
     "elapsed": 579,
     "status": "ok",
     "timestamp": 1618308613530,
     "user": {
      "displayName": "Alexey Tankov",
      "photoUrl": "",
      "userId": "01729535101672247421"
     },
     "user_tz": -180
    },
    "id": "MMNPSIUF8-FL"
   },
   "outputs": [],
   "source": [
    "models = []\n",
    "\n",
    "models.append(('CountVectorizer_word', CountVectorizer(ngram_range=(1,5),analyzer='word', max_features=100)))\n",
    "models.append(('TfidfVectorizer_word', TfidfVectorizer(ngram_range=(1,5),analyzer='word', max_features=100)))\n",
    "models.append(('HashingVectorizer_word', HashingVectorizer(ngram_range=(1, 5), analyzer='word', n_features=100)))\n",
    "models.append(('CountVectorizer_char', CountVectorizer(ngram_range=(1,5), analyzer='char', max_features=100)))\n",
    "models.append(('TfidfVectorizer_char', TfidfVectorizer(ngram_range=(1,5), analyzer='char', max_features=100)))\n",
    "models.append(('HashingVectorizer_char', HashingVectorizer(ngram_range=(1, 5), analyzer='char', n_features=100)))\n",
    "models.append(('CountVectorizer_char_wb', CountVectorizer(ngram_range=(1,5), analyzer='char_wb', max_features=100)))\n",
    "models.append(('TfidfVectorizer_char_wb', TfidfVectorizer(ngram_range=(1,5), analyzer='char_wb', max_features=100)))\n",
    "models.append(('HashingVectorizer_char_wb', HashingVectorizer(ngram_range=(1, 5), analyzer='char_wb', n_features=100)))"
   ]
  },
  {
   "cell_type": "code",
   "execution_count": 78,
   "metadata": {
    "colab": {
     "base_uri": "https://localhost:8080/",
     "height": 328
    },
    "executionInfo": {
     "elapsed": 1329284,
     "status": "ok",
     "timestamp": 1618309944995,
     "user": {
      "displayName": "Alexey Tankov",
      "photoUrl": "",
      "userId": "01729535101672247421"
     },
     "user_tz": -180
    },
    "id": "V-hkGyti-K2v",
    "outputId": "b442657a-0e4c-4668-961d-4ba03419044c"
   },
   "outputs": [
    {
     "data": {
      "text/html": [
       "<div>\n",
       "<style scoped>\n",
       "    .dataframe tbody tr th:only-of-type {\n",
       "        vertical-align: middle;\n",
       "    }\n",
       "\n",
       "    .dataframe tbody tr th {\n",
       "        vertical-align: top;\n",
       "    }\n",
       "\n",
       "    .dataframe thead th {\n",
       "        text-align: right;\n",
       "    }\n",
       "</style>\n",
       "<table border=\"1\" class=\"dataframe\">\n",
       "  <thead>\n",
       "    <tr style=\"text-align: right;\">\n",
       "      <th></th>\n",
       "      <th>model</th>\n",
       "      <th>accuracy</th>\n",
       "    </tr>\n",
       "  </thead>\n",
       "  <tbody>\n",
       "    <tr>\n",
       "      <th>7</th>\n",
       "      <td>TfidfVectorizer_char_wb</td>\n",
       "      <td>0.777474</td>\n",
       "    </tr>\n",
       "    <tr>\n",
       "      <th>3</th>\n",
       "      <td>CountVectorizer_char</td>\n",
       "      <td>0.776969</td>\n",
       "    </tr>\n",
       "    <tr>\n",
       "      <th>6</th>\n",
       "      <td>CountVectorizer_char_wb</td>\n",
       "      <td>0.774981</td>\n",
       "    </tr>\n",
       "    <tr>\n",
       "      <th>4</th>\n",
       "      <td>TfidfVectorizer_char</td>\n",
       "      <td>0.774711</td>\n",
       "    </tr>\n",
       "    <tr>\n",
       "      <th>8</th>\n",
       "      <td>HashingVectorizer_char_wb</td>\n",
       "      <td>0.733327</td>\n",
       "    </tr>\n",
       "    <tr>\n",
       "      <th>5</th>\n",
       "      <td>HashingVectorizer_char</td>\n",
       "      <td>0.685455</td>\n",
       "    </tr>\n",
       "    <tr>\n",
       "      <th>0</th>\n",
       "      <td>CountVectorizer_word</td>\n",
       "      <td>0.382081</td>\n",
       "    </tr>\n",
       "    <tr>\n",
       "      <th>1</th>\n",
       "      <td>TfidfVectorizer_word</td>\n",
       "      <td>0.382081</td>\n",
       "    </tr>\n",
       "    <tr>\n",
       "      <th>2</th>\n",
       "      <td>HashingVectorizer_word</td>\n",
       "      <td>0.288326</td>\n",
       "    </tr>\n",
       "  </tbody>\n",
       "</table>\n",
       "</div>"
      ],
      "text/plain": [
       "                       model  accuracy\n",
       "7    TfidfVectorizer_char_wb  0.777474\n",
       "3       CountVectorizer_char  0.776969\n",
       "6    CountVectorizer_char_wb  0.774981\n",
       "4       TfidfVectorizer_char  0.774711\n",
       "8  HashingVectorizer_char_wb  0.733327\n",
       "5     HashingVectorizer_char  0.685455\n",
       "0       CountVectorizer_word  0.382081\n",
       "1       TfidfVectorizer_word  0.382081\n",
       "2     HashingVectorizer_word  0.288326"
      ]
     },
     "execution_count": 78,
     "metadata": {
      "tags": []
     },
     "output_type": "execute_result"
    }
   ],
   "source": [
    "results = []\n",
    "\n",
    "for name, model in models:\n",
    "    X_train = model.fit_transform(train_tok)\n",
    "    X_test = model.transform(test_tok)\n",
    "    \n",
    "    classifier.fit(X_train, train_enc_labels)\n",
    "    predictions = classifier.predict(X_test)\n",
    "    \n",
    "    accuracy = accuracy_score(test_enc_labels, predictions)\n",
    "\n",
    "    results.append((name, accuracy))\n",
    "    \n",
    "best_vectorizer = pd.DataFrame(results, columns = ['model','accuracy'])\n",
    "best_vectorizer.sort_values('accuracy', ascending=False)"
   ]
  },
  {
   "cell_type": "code",
   "execution_count": 79,
   "metadata": {
    "colab": {
     "base_uri": "https://localhost:8080/",
     "height": 388
    },
    "executionInfo": {
     "elapsed": 1222,
     "status": "ok",
     "timestamp": 1618309961570,
     "user": {
      "displayName": "Alexey Tankov",
      "photoUrl": "",
      "userId": "01729535101672247421"
     },
     "user_tz": -180
    },
    "id": "9WVaSbFkCc1f",
    "outputId": "0dbc91ac-f6b4-40db-9219-aa00e0451d66"
   },
   "outputs": [
    {
     "data": {
      "image/png": "[encoded data removed]",
      "text/plain": [
       "<Figure size 720x432 with 1 Axes>"
      ]
     },
     "metadata": {
      "needs_background": "light",
      "tags": []
     },
     "output_type": "display_data"
    }
   ],
   "source": [
    "x = best_vectorizer['model']\n",
    "y = best_vectorizer['accuracy']\n",
    "\n",
    "fig, ax = plt.subplots(figsize=(10, 6))\n",
    "ax.barh(x, y)\n",
    "\n",
    "# Remove axes splines\n",
    "for s in ['top', 'bottom', 'left', 'right']:\n",
    "    ax.spines[s].set_visible(False)\n",
    "\n",
    "# Add x, y gridlines\n",
    "ax.grid(b=True, color='grey', linestyle='-.', linewidth=0.5, alpha=0.7)\n",
    "\n",
    "# Add annotation to bars\n",
    "for i in ax.patches:\n",
    "    plt.text(i.get_width()+0.01, i.get_y()+0.5,\n",
    "             str(round((i.get_width()), 2)),\n",
    "             fontsize=10, fontweight='bold',\n",
    "             color='grey')\n",
    "\n",
    "plt.xlabel('accuracy')\n",
    "plt.show()"
   ]
  },
  {
   "cell_type": "markdown",
   "metadata": {
    "id": "7Moe8QO9UBVM"
   },
   "source": [
    "### 3. вместо векторайзеров взять эмбединги попробовать (word2vec и fasttext по желанию дополнительно можно взять tf.keras.layers.Embedding)  \n"
   ]
  },
  {
   "cell_type": "markdown",
   "metadata": {
    "id": "cu98dcApUCsb"
   },
   "source": [
    "### 4. взять не только эмбединги каждого слова, но и взять соседей, т.е. информацию о соседях количество соседей выбрать самим (узнать наилучшее количество соседей)    "
   ]
  },
  {
   "cell_type": "code",
   "execution_count": 8,
   "metadata": {
    "executionInfo": {
     "elapsed": 958,
     "status": "ok",
     "timestamp": 1618313899133,
     "user": {
      "displayName": "Alexey Tankov",
      "photoUrl": "",
      "userId": "01729535101672247421"
     },
     "user_tz": -180
    },
    "id": "I6-Wv4gu37V-"
   },
   "outputs": [],
   "source": [
    "import multiprocessing\n",
    "from gensim.models import Word2Vec, FastText"
   ]
  },
  {
   "cell_type": "code",
   "execution_count": 43,
   "metadata": {
    "executionInfo": {
     "elapsed": 869,
     "status": "ok",
     "timestamp": 1618296186705,
     "user": {
      "displayName": "Alexey Tankov",
      "photoUrl": "",
      "userId": "01729535101672247421"
     },
     "user_tz": -180
    },
    "id": "ArL3gOQz3KYr"
   },
   "outputs": [],
   "source": [
    "# The parameters:\n",
    "# min_count = int - Ignores all words with total absolute frequency lower than this - (2, 100)\n",
    "# window = int - The maximum distance between the current and predicted word within a sentence. E.g. window words on the left and window words on the left of our target - (2, 10)\n",
    "# size = int - Dimensionality of the feature vectors. - (50, 300)\n",
    "# sample = float - The threshold for configuring which higher-frequency words are randomly downsampled. Highly influencial. - (0, 1e-5)\n",
    "# alpha = float - The initial learning rate - (0.01, 0.05)\n",
    "# min_alpha = float - Learning rate will linearly drop to min_alpha as training progresses. To set it: alpha - (min_alpha * epochs) ~ 0.00\n",
    "# negative = int - If > 0, negative sampling will be used, the int for negative specifies how many \"noise words\" should be drown. If set to 0, no negative sampling is used. - (5, 20)\n",
    "# workers = int - Use these many worker threads to train the model (=faster training with multicore machines)"
   ]
  },
  {
   "cell_type": "code",
   "execution_count": 44,
   "metadata": {
    "executionInfo": {
     "elapsed": 555,
     "status": "ok",
     "timestamp": 1618296186706,
     "user": {
      "displayName": "Alexey Tankov",
      "photoUrl": "",
      "userId": "01729535101672247421"
     },
     "user_tz": -180
    },
    "id": "e2RH2POB4LYp"
   },
   "outputs": [],
   "source": [
    "cores = multiprocessing.cpu_count() # Count the number of cores in a computer"
   ]
  },
  {
   "cell_type": "code",
   "execution_count": 50,
   "metadata": {
    "executionInfo": {
     "elapsed": 5497356,
     "status": "ok",
     "timestamp": 1618303145125,
     "user": {
      "displayName": "Alexey Tankov",
      "photoUrl": "",
      "userId": "01729535101672247421"
     },
     "user_tz": -180
    },
    "id": "48pno-xEZ2dU"
   },
   "outputs": [],
   "source": [
    "results = []\n",
    "\n",
    "for window in (3, 5, 7, 9, 11, 13, 15, 17):\n",
    "  for name, model in {'Word2Vec': Word2Vec(sentences=[train_tok + test_tok], size=300, window=window, min_count=1, workers=cores-1), \n",
    "                      'FastText': FastText(sentences=[train_tok + test_tok], size=300, window=window, min_count=1, workers=cores-1)}.items():\n",
    "\n",
    "    X_train = np.array([model[word] for word in train_tok])\n",
    "    X_test = np.array([model[word] for word in test_tok])\n",
    "\n",
    "    classifier.fit(X_train, train_enc_labels)\n",
    "    predictions = classifier.predict(X_test)\n",
    "\n",
    "    accuracy = accuracy_score(test_enc_labels, predictions)\n",
    "    name = f'{name}_{window}'\n",
    "\n",
    "    results.append((name, accuracy))"
   ]
  },
  {
   "cell_type": "code",
   "execution_count": 51,
   "metadata": {
    "colab": {
     "base_uri": "https://localhost:8080/",
     "height": 545
    },
    "executionInfo": {
     "elapsed": 604,
     "status": "ok",
     "timestamp": 1618303153011,
     "user": {
      "displayName": "Alexey Tankov",
      "photoUrl": "",
      "userId": "01729535101672247421"
     },
     "user_tz": -180
    },
    "id": "mcyRTS5YDy6v",
    "outputId": "dccf0edc-a8fd-4660-9936-2b11cc931a43"
   },
   "outputs": [
    {
     "data": {
      "text/html": [
       "<div>\n",
       "<style scoped>\n",
       "    .dataframe tbody tr th:only-of-type {\n",
       "        vertical-align: middle;\n",
       "    }\n",
       "\n",
       "    .dataframe tbody tr th {\n",
       "        vertical-align: top;\n",
       "    }\n",
       "\n",
       "    .dataframe thead th {\n",
       "        text-align: right;\n",
       "    }\n",
       "</style>\n",
       "<table border=\"1\" class=\"dataframe\">\n",
       "  <thead>\n",
       "    <tr style=\"text-align: right;\">\n",
       "      <th></th>\n",
       "      <th>model</th>\n",
       "      <th>accuracy</th>\n",
       "    </tr>\n",
       "  </thead>\n",
       "  <tbody>\n",
       "    <tr>\n",
       "      <th>15</th>\n",
       "      <td>FastText_17</td>\n",
       "      <td>0.509992</td>\n",
       "    </tr>\n",
       "    <tr>\n",
       "      <th>2</th>\n",
       "      <td>Word2Vec_5</td>\n",
       "      <td>0.509116</td>\n",
       "    </tr>\n",
       "    <tr>\n",
       "      <th>13</th>\n",
       "      <td>FastText_15</td>\n",
       "      <td>0.508349</td>\n",
       "    </tr>\n",
       "    <tr>\n",
       "      <th>1</th>\n",
       "      <td>FastText_3</td>\n",
       "      <td>0.496141</td>\n",
       "    </tr>\n",
       "    <tr>\n",
       "      <th>3</th>\n",
       "      <td>FastText_5</td>\n",
       "      <td>0.495105</td>\n",
       "    </tr>\n",
       "    <tr>\n",
       "      <th>7</th>\n",
       "      <td>FastText_9</td>\n",
       "      <td>0.491617</td>\n",
       "    </tr>\n",
       "    <tr>\n",
       "      <th>10</th>\n",
       "      <td>Word2Vec_13</td>\n",
       "      <td>0.491524</td>\n",
       "    </tr>\n",
       "    <tr>\n",
       "      <th>9</th>\n",
       "      <td>FastText_11</td>\n",
       "      <td>0.488795</td>\n",
       "    </tr>\n",
       "    <tr>\n",
       "      <th>0</th>\n",
       "      <td>Word2Vec_3</td>\n",
       "      <td>0.484253</td>\n",
       "    </tr>\n",
       "    <tr>\n",
       "      <th>5</th>\n",
       "      <td>FastText_7</td>\n",
       "      <td>0.483124</td>\n",
       "    </tr>\n",
       "    <tr>\n",
       "      <th>11</th>\n",
       "      <td>FastText_13</td>\n",
       "      <td>0.478423</td>\n",
       "    </tr>\n",
       "    <tr>\n",
       "      <th>12</th>\n",
       "      <td>Word2Vec_15</td>\n",
       "      <td>0.469703</td>\n",
       "    </tr>\n",
       "    <tr>\n",
       "      <th>8</th>\n",
       "      <td>Word2Vec_11</td>\n",
       "      <td>0.469442</td>\n",
       "    </tr>\n",
       "    <tr>\n",
       "      <th>14</th>\n",
       "      <td>Word2Vec_17</td>\n",
       "      <td>0.467942</td>\n",
       "    </tr>\n",
       "    <tr>\n",
       "      <th>6</th>\n",
       "      <td>Word2Vec_9</td>\n",
       "      <td>0.467605</td>\n",
       "    </tr>\n",
       "    <tr>\n",
       "      <th>4</th>\n",
       "      <td>Word2Vec_7</td>\n",
       "      <td>0.466207</td>\n",
       "    </tr>\n",
       "  </tbody>\n",
       "</table>\n",
       "</div>"
      ],
      "text/plain": [
       "          model  accuracy\n",
       "15  FastText_17  0.509992\n",
       "2    Word2Vec_5  0.509116\n",
       "13  FastText_15  0.508349\n",
       "1    FastText_3  0.496141\n",
       "3    FastText_5  0.495105\n",
       "7    FastText_9  0.491617\n",
       "10  Word2Vec_13  0.491524\n",
       "9   FastText_11  0.488795\n",
       "0    Word2Vec_3  0.484253\n",
       "5    FastText_7  0.483124\n",
       "11  FastText_13  0.478423\n",
       "12  Word2Vec_15  0.469703\n",
       "8   Word2Vec_11  0.469442\n",
       "14  Word2Vec_17  0.467942\n",
       "6    Word2Vec_9  0.467605\n",
       "4    Word2Vec_7  0.466207"
      ]
     },
     "execution_count": 51,
     "metadata": {
      "tags": []
     },
     "output_type": "execute_result"
    }
   ],
   "source": [
    "best_embedding = pd.DataFrame(results, columns = ['model','accuracy'])\n",
    "best_embedding.sort_values('accuracy', ascending=False)"
   ]
  },
  {
   "cell_type": "code",
   "execution_count": 52,
   "metadata": {
    "colab": {
     "base_uri": "https://localhost:8080/",
     "height": 388
    },
    "executionInfo": {
     "elapsed": 2910,
     "status": "ok",
     "timestamp": 1618303231867,
     "user": {
      "displayName": "Alexey Tankov",
      "photoUrl": "",
      "userId": "01729535101672247421"
     },
     "user_tz": -180
    },
    "id": "j-xw-JDDA84c",
    "outputId": "afe6e852-072f-4722-b426-697102c10f2c"
   },
   "outputs": [
    {
     "data": {
      "image/png": "[encoded data removed]",
      "text/plain": [
       "<Figure size 720x432 with 1 Axes>"
      ]
     },
     "metadata": {
      "needs_background": "light",
      "tags": []
     },
     "output_type": "display_data"
    }
   ],
   "source": [
    "x = best_embedding['model']\n",
    "y = best_embedding['accuracy']\n",
    "\n",
    "fig, ax = plt.subplots(figsize=(10, 6))\n",
    "ax.barh(x, y)\n",
    "\n",
    "# Remove axes splines\n",
    "for s in ['top', 'bottom', 'left', 'right']:\n",
    "    ax.spines[s].set_visible(False)\n",
    "\n",
    "# Add x, y gridlines\n",
    "ax.grid(b=True, color='grey', linestyle='-.', linewidth=0.5, alpha=0.7)\n",
    "\n",
    "# Add annotation to bars\n",
    "for i in ax.patches:\n",
    "    plt.text(i.get_width()+0.01, i.get_y()+0.5,\n",
    "             str(round((i.get_width()), 2)),\n",
    "             fontsize=10, fontweight='bold',\n",
    "             color='grey')\n",
    "\n",
    "plt.xlabel('accuracy')\n",
    "plt.show()"
   ]
  },
  {
   "cell_type": "markdown",
   "metadata": {
    "id": "XCKPXLWxUErT"
   },
   "source": [
    "### 5. сравнить все реализованные методы сделать выводы"
   ]
  },
  {
   "cell_type": "code",
   "execution_count": 80,
   "metadata": {
    "executionInfo": {
     "elapsed": 550,
     "status": "ok",
     "timestamp": 1618309982201,
     "user": {
      "displayName": "Alexey Tankov",
      "photoUrl": "",
      "userId": "01729535101672247421"
     },
     "user_tz": -180
    },
    "id": "OshO48XLXQar"
   },
   "outputs": [],
   "source": [
    "final_result = pd.concat([best_tagger, best_vectorizer, best_embedding], axis=0)"
   ]
  },
  {
   "cell_type": "code",
   "execution_count": 81,
   "metadata": {
    "colab": {
     "base_uri": "https://localhost:8080/",
     "height": 948
    },
    "executionInfo": {
     "elapsed": 724,
     "status": "ok",
     "timestamp": 1618309983506,
     "user": {
      "displayName": "Alexey Tankov",
      "photoUrl": "",
      "userId": "01729535101672247421"
     },
     "user_tz": -180
    },
    "id": "dj4tV8ytXTry",
    "outputId": "a9ef814b-81d9-48e7-9b61-68dda20a0a2c"
   },
   "outputs": [
    {
     "data": {
      "text/html": [
       "<div>\n",
       "<style scoped>\n",
       "    .dataframe tbody tr th:only-of-type {\n",
       "        vertical-align: middle;\n",
       "    }\n",
       "\n",
       "    .dataframe tbody tr th {\n",
       "        vertical-align: top;\n",
       "    }\n",
       "\n",
       "    .dataframe thead th {\n",
       "        text-align: right;\n",
       "    }\n",
       "</style>\n",
       "<table border=\"1\" class=\"dataframe\">\n",
       "  <thead>\n",
       "    <tr style=\"text-align: right;\">\n",
       "      <th></th>\n",
       "      <th>model</th>\n",
       "      <th>accuracy</th>\n",
       "    </tr>\n",
       "  </thead>\n",
       "  <tbody>\n",
       "    <tr>\n",
       "      <th>3</th>\n",
       "      <td>CombineTagger</td>\n",
       "      <td>0.812751</td>\n",
       "    </tr>\n",
       "    <tr>\n",
       "      <th>0</th>\n",
       "      <td>UnigramTagger</td>\n",
       "      <td>0.807704</td>\n",
       "    </tr>\n",
       "    <tr>\n",
       "      <th>7</th>\n",
       "      <td>TfidfVectorizer_char_wb</td>\n",
       "      <td>0.777474</td>\n",
       "    </tr>\n",
       "    <tr>\n",
       "      <th>3</th>\n",
       "      <td>CountVectorizer_char</td>\n",
       "      <td>0.776969</td>\n",
       "    </tr>\n",
       "    <tr>\n",
       "      <th>6</th>\n",
       "      <td>CountVectorizer_char_wb</td>\n",
       "      <td>0.774981</td>\n",
       "    </tr>\n",
       "    <tr>\n",
       "      <th>4</th>\n",
       "      <td>TfidfVectorizer_char</td>\n",
       "      <td>0.774711</td>\n",
       "    </tr>\n",
       "    <tr>\n",
       "      <th>8</th>\n",
       "      <td>HashingVectorizer_char_wb</td>\n",
       "      <td>0.733327</td>\n",
       "    </tr>\n",
       "    <tr>\n",
       "      <th>5</th>\n",
       "      <td>HashingVectorizer_char</td>\n",
       "      <td>0.685455</td>\n",
       "    </tr>\n",
       "    <tr>\n",
       "      <th>1</th>\n",
       "      <td>BigramTagger</td>\n",
       "      <td>0.575388</td>\n",
       "    </tr>\n",
       "    <tr>\n",
       "      <th>15</th>\n",
       "      <td>FastText_17</td>\n",
       "      <td>0.509992</td>\n",
       "    </tr>\n",
       "    <tr>\n",
       "      <th>2</th>\n",
       "      <td>Word2Vec_5</td>\n",
       "      <td>0.509116</td>\n",
       "    </tr>\n",
       "    <tr>\n",
       "      <th>13</th>\n",
       "      <td>FastText_15</td>\n",
       "      <td>0.508349</td>\n",
       "    </tr>\n",
       "    <tr>\n",
       "      <th>1</th>\n",
       "      <td>FastText_3</td>\n",
       "      <td>0.496141</td>\n",
       "    </tr>\n",
       "    <tr>\n",
       "      <th>3</th>\n",
       "      <td>FastText_5</td>\n",
       "      <td>0.495105</td>\n",
       "    </tr>\n",
       "    <tr>\n",
       "      <th>7</th>\n",
       "      <td>FastText_9</td>\n",
       "      <td>0.491617</td>\n",
       "    </tr>\n",
       "    <tr>\n",
       "      <th>10</th>\n",
       "      <td>Word2Vec_13</td>\n",
       "      <td>0.491524</td>\n",
       "    </tr>\n",
       "    <tr>\n",
       "      <th>9</th>\n",
       "      <td>FastText_11</td>\n",
       "      <td>0.488795</td>\n",
       "    </tr>\n",
       "    <tr>\n",
       "      <th>0</th>\n",
       "      <td>Word2Vec_3</td>\n",
       "      <td>0.484253</td>\n",
       "    </tr>\n",
       "    <tr>\n",
       "      <th>5</th>\n",
       "      <td>FastText_7</td>\n",
       "      <td>0.483124</td>\n",
       "    </tr>\n",
       "    <tr>\n",
       "      <th>11</th>\n",
       "      <td>FastText_13</td>\n",
       "      <td>0.478423</td>\n",
       "    </tr>\n",
       "    <tr>\n",
       "      <th>12</th>\n",
       "      <td>Word2Vec_15</td>\n",
       "      <td>0.469703</td>\n",
       "    </tr>\n",
       "    <tr>\n",
       "      <th>8</th>\n",
       "      <td>Word2Vec_11</td>\n",
       "      <td>0.469442</td>\n",
       "    </tr>\n",
       "    <tr>\n",
       "      <th>14</th>\n",
       "      <td>Word2Vec_17</td>\n",
       "      <td>0.467942</td>\n",
       "    </tr>\n",
       "    <tr>\n",
       "      <th>6</th>\n",
       "      <td>Word2Vec_9</td>\n",
       "      <td>0.467605</td>\n",
       "    </tr>\n",
       "    <tr>\n",
       "      <th>4</th>\n",
       "      <td>Word2Vec_7</td>\n",
       "      <td>0.466207</td>\n",
       "    </tr>\n",
       "    <tr>\n",
       "      <th>1</th>\n",
       "      <td>TfidfVectorizer_word</td>\n",
       "      <td>0.382081</td>\n",
       "    </tr>\n",
       "    <tr>\n",
       "      <th>0</th>\n",
       "      <td>CountVectorizer_word</td>\n",
       "      <td>0.382081</td>\n",
       "    </tr>\n",
       "    <tr>\n",
       "      <th>2</th>\n",
       "      <td>HashingVectorizer_word</td>\n",
       "      <td>0.288326</td>\n",
       "    </tr>\n",
       "    <tr>\n",
       "      <th>2</th>\n",
       "      <td>TrigramTagger</td>\n",
       "      <td>0.020347</td>\n",
       "    </tr>\n",
       "  </tbody>\n",
       "</table>\n",
       "</div>"
      ],
      "text/plain": [
       "                        model  accuracy\n",
       "3               CombineTagger  0.812751\n",
       "0               UnigramTagger  0.807704\n",
       "7     TfidfVectorizer_char_wb  0.777474\n",
       "3        CountVectorizer_char  0.776969\n",
       "6     CountVectorizer_char_wb  0.774981\n",
       "4        TfidfVectorizer_char  0.774711\n",
       "8   HashingVectorizer_char_wb  0.733327\n",
       "5      HashingVectorizer_char  0.685455\n",
       "1                BigramTagger  0.575388\n",
       "15                FastText_17  0.509992\n",
       "2                  Word2Vec_5  0.509116\n",
       "13                FastText_15  0.508349\n",
       "1                  FastText_3  0.496141\n",
       "3                  FastText_5  0.495105\n",
       "7                  FastText_9  0.491617\n",
       "10                Word2Vec_13  0.491524\n",
       "9                 FastText_11  0.488795\n",
       "0                  Word2Vec_3  0.484253\n",
       "5                  FastText_7  0.483124\n",
       "11                FastText_13  0.478423\n",
       "12                Word2Vec_15  0.469703\n",
       "8                 Word2Vec_11  0.469442\n",
       "14                Word2Vec_17  0.467942\n",
       "6                  Word2Vec_9  0.467605\n",
       "4                  Word2Vec_7  0.466207\n",
       "1        TfidfVectorizer_word  0.382081\n",
       "0        CountVectorizer_word  0.382081\n",
       "2      HashingVectorizer_word  0.288326\n",
       "2               TrigramTagger  0.020347"
      ]
     },
     "execution_count": 81,
     "metadata": {
      "tags": []
     },
     "output_type": "execute_result"
    }
   ],
   "source": [
    "final_result.sort_values('accuracy', ascending=False)"
   ]
  },
  {
   "cell_type": "code",
   "execution_count": 82,
   "metadata": {
    "colab": {
     "base_uri": "https://localhost:8080/",
     "height": 606
    },
    "executionInfo": {
     "elapsed": 1559,
     "status": "ok",
     "timestamp": 1618309987872,
     "user": {
      "displayName": "Alexey Tankov",
      "photoUrl": "",
      "userId": "01729535101672247421"
     },
     "user_tz": -180
    },
    "id": "X1igOeokZQDg",
    "outputId": "96407c25-6e20-4df8-ad43-9c12a1a26dc6"
   },
   "outputs": [
    {
     "data": {
      "image/png": "[encoded data removed]",
      "text/plain": [
       "<Figure size 1152x720 with 1 Axes>"
      ]
     },
     "metadata": {
      "needs_background": "light",
      "tags": []
     },
     "output_type": "display_data"
    }
   ],
   "source": [
    "x = final_result['model']\n",
    "y = final_result['accuracy']\n",
    "\n",
    "fig, ax = plt.subplots(figsize=(16, 10))\n",
    "ax.barh(x, y)\n",
    "\n",
    "# Remove axes splines\n",
    "for s in ['top', 'bottom', 'left', 'right']:\n",
    "    ax.spines[s].set_visible(False)\n",
    "\n",
    "# Add x, y gridlines\n",
    "ax.grid(b=True, color='grey', linestyle='-.', linewidth=0.5, alpha=0.7)\n",
    "\n",
    "# Add annotation to bars\n",
    "for i in ax.patches:\n",
    "    plt.text(i.get_width()+0.01, i.get_y()+0.5,\n",
    "             str(round((i.get_width()), 2)),\n",
    "             fontsize=10, fontweight='bold',\n",
    "             color='grey')\n",
    "\n",
    "plt.xlabel('accuracy')\n",
    "plt.show()"
   ]
  },
  {
   "cell_type": "markdown",
   "metadata": {
    "id": "cINqgGpKXURp"
   },
   "source": [
    "### Практическое задание 2"
   ]
  },
  {
   "cell_type": "markdown",
   "metadata": {
    "id": "VCM0drjKXYet"
   },
   "source": [
    "много дополнительных датасетов на русском языке\n",
    "\n",
    "https://natasha.github.io/corus/  \n",
    "https://github.com/natasha/corus"
   ]
  },
  {
   "cell_type": "markdown",
   "metadata": {
    "id": "sUOg4C8sZNpw"
   },
   "source": [
    "мы будем использовать данные http://ai-center.botik.ru/Airec/index.php/ru/collections/28-persons-1000"
   ]
  },
  {
   "cell_type": "markdown",
   "metadata": {
    "id": "qzi6ApNLZg6X"
   },
   "source": [
    "**Проверить насколько хорошо работает NER**"
   ]
  },
  {
   "cell_type": "markdown",
   "metadata": {
    "id": "aP1LgaNUtaOz"
   },
   "source": [
    "при обучении своего нера незабудьте разделить выборку"
   ]
  },
  {
   "cell_type": "code",
   "execution_count": 10,
   "metadata": {
    "executionInfo": {
     "elapsed": 813,
     "status": "ok",
     "timestamp": 1618313953799,
     "user": {
      "displayName": "Alexey Tankov",
      "photoUrl": "",
      "userId": "01729535101672247421"
     },
     "user_tz": -180
    },
    "id": "Qg6tcss2Zhp9"
   },
   "outputs": [],
   "source": [
    "# !pip install corus\n",
    "# !pip install razdel\n",
    "# !wget http://ai-center.botik.ru/Airec/ai-resources/Persons-1000.zip"
   ]
  },
  {
   "cell_type": "code",
   "execution_count": 6,
   "metadata": {
    "executionInfo": {
     "elapsed": 566,
     "status": "ok",
     "timestamp": 1618316526658,
     "user": {
      "displayName": "Alexey Tankov",
      "photoUrl": "",
      "userId": "01729535101672247421"
     },
     "user_tz": -180
    },
    "id": "hrc5ocDkaS1e"
   },
   "outputs": [],
   "source": [
    "import corus\n",
    "from razdel import tokenize"
   ]
  },
  {
   "cell_type": "code",
   "execution_count": 7,
   "metadata": {
    "colab": {
     "base_uri": "https://localhost:8080/"
    },
    "executionInfo": {
     "elapsed": 1088,
     "status": "ok",
     "timestamp": 1618316533964,
     "user": {
      "displayName": "Alexey Tankov",
      "photoUrl": "",
      "userId": "01729535101672247421"
     },
     "user_tz": -180
    },
    "id": "fmGWX23KbUfI",
    "outputId": "14e85abc-4210-48ae-f088-c2d77caa0ffb"
   },
   "outputs": [
    {
     "name": "stdout",
     "output_type": "stream",
     "text": [
      "datasets  Persons-1000.zip    Persons-1000.zip.2\n",
      "env\t  Persons-1000.zip.1  sample_data\n"
     ]
    }
   ],
   "source": [
    "!ls"
   ]
  },
  {
   "cell_type": "code",
   "execution_count": 8,
   "metadata": {
    "executionInfo": {
     "elapsed": 634,
     "status": "ok",
     "timestamp": 1618316533966,
     "user": {
      "displayName": "Alexey Tankov",
      "photoUrl": "",
      "userId": "01729535101672247421"
     },
     "user_tz": -180
    },
    "id": "fmJr9tubbTVk"
   },
   "outputs": [],
   "source": [
    "path = 'Persons-1000.zip'\n",
    "records = corus.persons.load_persons(path)\n",
    "rec = next(records)"
   ]
  },
  {
   "cell_type": "code",
   "execution_count": 9,
   "metadata": {
    "colab": {
     "base_uri": "https://localhost:8080/"
    },
    "executionInfo": {
     "elapsed": 466,
     "status": "ok",
     "timestamp": 1618316534714,
     "user": {
      "displayName": "Alexey Tankov",
      "photoUrl": "",
      "userId": "01729535101672247421"
     },
     "user_tz": -180
    },
    "id": "tzQutiCephkx",
    "outputId": "5c6365ba-7b42-41fb-a5ee-74ea1ae9ae3a"
   },
   "outputs": [
    {
     "data": {
      "text/plain": [
       "PersonsMarkup(\n",
       "    text='Россия рассчитывает на конструктивное воздействие США на Грузию\\r\\n\\r\\n04/08/2008 12:08\\r\\n\\r\\nМОСКВА, 4 авг - РИА Новости. Россия рассчитывает, что США воздействуют на Тбилиси в связи с обострением ситуации в зоне грузино-осетинского конфликта. Об этом статс-секретарь - заместитель министра иностранных дел России Григорий Карасин заявил в телефонном разговоре с заместителем госсекретаря США Дэниэлом Фридом.\\r\\n\\r\\n\"С российской стороны выражена глубокая озабоченность в связи с новым витком напряженности вокруг Южной Осетии, противозаконными действиями грузинской стороны по наращиванию своих вооруженных сил в регионе, бесконтрольным строительством фортификационных сооружений\", - говорится в сообщении.\\r\\n\\r\\n\"Россия уже призвала Тбилиси к ответственной линии и рассчитывает также на конструктивное воздействие со стороны Вашингтона\", - сообщил МИД России. ',\n",
       "    spans=[PersonsSpan(\n",
       "         id=1,\n",
       "         start=308,\n",
       "         stop=324,\n",
       "         value='ГРИГОРИЙ КАРАСИН'\n",
       "     ), PersonsSpan(\n",
       "         id=2,\n",
       "         start=387,\n",
       "         stop=402,\n",
       "         value='ДЭНИЭЛ ФРИД'\n",
       "     )]\n",
       ")"
      ]
     },
     "execution_count": 9,
     "metadata": {
      "tags": []
     },
     "output_type": "execute_result"
    }
   ],
   "source": [
    "rec"
   ]
  },
  {
   "cell_type": "code",
   "execution_count": 10,
   "metadata": {
    "colab": {
     "base_uri": "https://localhost:8080/",
     "height": 86
    },
    "executionInfo": {
     "elapsed": 753,
     "status": "ok",
     "timestamp": 1618316536916,
     "user": {
      "displayName": "Alexey Tankov",
      "photoUrl": "",
      "userId": "01729535101672247421"
     },
     "user_tz": -180
    },
    "id": "utanZXahn-2I",
    "outputId": "1808a7bd-eb6f-499f-ffa4-02742f56dfe9"
   },
   "outputs": [
    {
     "data": {
      "application/vnd.google.colaboratory.intrinsic+json": {
       "type": "string"
      },
      "text/plain": [
       "'Россия рассчитывает на конструктивное воздействие США на Грузию\\r\\n\\r\\n04/08/2008 12:08\\r\\n\\r\\nМОСКВА, 4 авг - РИА Новости. Россия рассчитывает, что США воздействуют на Тбилиси в связи с обострением ситуации в зоне грузино-осетинского конфликта. Об этом статс-секретарь - заместитель министра иностранных дел России Григорий Карасин заявил в телефонном разговоре с заместителем госсекретаря США Дэниэлом Фридом.\\r\\n\\r\\n\"С российской стороны выражена глубокая озабоченность в связи с новым витком напряженности вокруг Южной Осетии, противозаконными действиями грузинской стороны по наращиванию своих вооруженных сил в регионе, бесконтрольным строительством фортификационных сооружений\", - говорится в сообщении.\\r\\n\\r\\n\"Россия уже призвала Тбилиси к ответственной линии и рассчитывает также на конструктивное воздействие со стороны Вашингтона\", - сообщил МИД России. '"
      ]
     },
     "execution_count": 10,
     "metadata": {
      "tags": []
     },
     "output_type": "execute_result"
    }
   ],
   "source": [
    "rec.text"
   ]
  },
  {
   "cell_type": "code",
   "execution_count": 11,
   "metadata": {
    "colab": {
     "base_uri": "https://localhost:8080/"
    },
    "executionInfo": {
     "elapsed": 1226,
     "status": "ok",
     "timestamp": 1618316540046,
     "user": {
      "displayName": "Alexey Tankov",
      "photoUrl": "",
      "userId": "01729535101672247421"
     },
     "user_tz": -180
    },
    "id": "QBaxNLbQoucW",
    "outputId": "2a852454-4aca-4b04-83ec-85bab2a60695"
   },
   "outputs": [
    {
     "data": {
      "text/plain": [
       "[PersonsSpan(\n",
       "     id=1,\n",
       "     start=308,\n",
       "     stop=324,\n",
       "     value='ГРИГОРИЙ КАРАСИН'\n",
       " ), PersonsSpan(\n",
       "     id=2,\n",
       "     start=387,\n",
       "     stop=402,\n",
       "     value='ДЭНИЭЛ ФРИД'\n",
       " )]"
      ]
     },
     "execution_count": 11,
     "metadata": {
      "tags": []
     },
     "output_type": "execute_result"
    }
   ],
   "source": [
    "rec.spans"
   ]
  },
  {
   "cell_type": "code",
   "execution_count": 12,
   "metadata": {
    "colab": {
     "base_uri": "https://localhost:8080/"
    },
    "executionInfo": {
     "elapsed": 34473,
     "status": "ok",
     "timestamp": 1618316577953,
     "user": {
      "displayName": "Alexey Tankov",
      "photoUrl": "",
      "userId": "01729535101672247421"
     },
     "user_tz": -180
    },
    "id": "kfs-CNeTeBvl",
    "outputId": "3f895b1e-867e-4eb0-c6bb-cc086b09e973"
   },
   "outputs": [
    {
     "name": "stdout",
     "output_type": "stream",
     "text": [
      "[('Комиссар', 'NO_PERSON'), ('СЕ', 'NO_PERSON'), ('критикует', 'NO_PERSON'), ('ограничительную', 'NO_PERSON'), ('политику', 'NO_PERSON'), ('в', 'NO_PERSON'), ('отношении', 'NO_PERSON')]\n"
     ]
    }
   ],
   "source": [
    "word_tag = []\n",
    "\n",
    "for rec in records:\n",
    "  for r in rec.spans:\n",
    "    for t in tokenize(rec.text):\n",
    "      if (t.start >= r.start) and (t.stop <= r.stop):\n",
    "        word_tag.append((rec.text[t.start:t.stop], 'PERSON'))\n",
    "      else:\n",
    "        word_tag.append((rec.text[t.start:t.stop], 'NO_PERSON'))\n",
    "\n",
    "print(word_tag[:7])"
   ]
  },
  {
   "cell_type": "markdown",
   "metadata": {
    "id": "7Y5AXEf5bm41"
   },
   "source": [
    "### 1. взять нер из nltk"
   ]
  },
  {
   "cell_type": "markdown",
   "metadata": {
    "id": "-5E7W4h8d5yA"
   },
   "source": [
    "С помощью функции nltk.ne_chunk () мы можем распознавать именованные сущности с помощью классификатора, который добавляет метки категорий, такие как PERSON, ORGANIZATION и GPE."
   ]
  },
  {
   "cell_type": "code",
   "execution_count": 13,
   "metadata": {
    "colab": {
     "base_uri": "https://localhost:8080/"
    },
    "executionInfo": {
     "elapsed": 30186,
     "status": "ok",
     "timestamp": 1618316577954,
     "user": {
      "displayName": "Alexey Tankov",
      "photoUrl": "",
      "userId": "01729535101672247421"
     },
     "user_tz": -180
    },
    "id": "ChfYYzfCz0F7",
    "outputId": "c014b26d-92b5-4afe-d1fb-8baa71b38733"
   },
   "outputs": [
    {
     "name": "stderr",
     "output_type": "stream",
     "text": [
      "[nltk_data] Downloading package words to /root/nltk_data...\n",
      "[nltk_data]   Package words is already up-to-date!\n",
      "[nltk_data] Downloading package maxent_ne_chunker to\n",
      "[nltk_data]     /root/nltk_data...\n",
      "[nltk_data]   Package maxent_ne_chunker is already up-to-date!\n",
      "[nltk_data] Downloading package names to /root/nltk_data...\n",
      "[nltk_data]   Package names is already up-to-date!\n"
     ]
    },
    {
     "data": {
      "text/plain": [
       "True"
      ]
     },
     "execution_count": 13,
     "metadata": {
      "tags": []
     },
     "output_type": "execute_result"
    }
   ],
   "source": [
    "nltk.download('words')\n",
    "nltk.download('maxent_ne_chunker')\n",
    "nltk.download('names')"
   ]
  },
  {
   "cell_type": "code",
   "execution_count": 14,
   "metadata": {
    "colab": {
     "base_uri": "https://localhost:8080/"
    },
    "executionInfo": {
     "elapsed": 28462,
     "status": "ok",
     "timestamp": 1618316578488,
     "user": {
      "displayName": "Alexey Tankov",
      "photoUrl": "",
      "userId": "01729535101672247421"
     },
     "user_tz": -180
    },
    "id": "4UsaQ39nx_u1",
    "outputId": "9fae8380-f59e-4c01-c3ee-8c6d167b9a9b"
   },
   "outputs": [
    {
     "name": "stdout",
     "output_type": "stream",
     "text": [
      "3715842\n"
     ]
    }
   ],
   "source": [
    "print(len(word_tag))"
   ]
  },
  {
   "cell_type": "code",
   "execution_count": 24,
   "metadata": {
    "executionInfo": {
     "elapsed": 549,
     "status": "ok",
     "timestamp": 1618315636251,
     "user": {
      "displayName": "Alexey Tankov",
      "photoUrl": "",
      "userId": "01729535101672247421"
     },
     "user_tz": -180
    },
    "id": "Uzw6hdK_yLZc"
   },
   "outputs": [],
   "source": [
    "tts = 0.25 # train_test_split"
   ]
  },
  {
   "cell_type": "code",
   "execution_count": 101,
   "metadata": {
    "colab": {
     "base_uri": "https://localhost:8080/"
    },
    "executionInfo": {
     "elapsed": 195119,
     "status": "ok",
     "timestamp": 1618310537294,
     "user": {
      "displayName": "Alexey Tankov",
      "photoUrl": "",
      "userId": "01729535101672247421"
     },
     "user_tz": -180
    },
    "id": "UOnn1o1tdYMI",
    "outputId": "57a5d874-9536-498f-c567-320860cfc362"
   },
   "outputs": [
    {
     "data": {
      "text/plain": [
       "{('AP', 'ORGANIZATION'),\n",
       " ('CSSD', 'ORGANIZATION'),\n",
       " ('Clinton', 'PERSON'),\n",
       " ('HSBC', 'ORGANIZATION'),\n",
       " ('John', 'PERSON'),\n",
       " ('John Huntsman Jr', 'PERSON'),\n",
       " ('John Roos', 'PERSON'),\n",
       " ('KSCM', 'ORGANIZATION'),\n",
       " ('New York', 'GPE'),\n",
       " ('Washington', 'GPE'),\n",
       " ('Washington Post', 'ORGANIZATION'),\n",
       " ('ГМИИ', 'ORGANIZATION'),\n",
       " ('ЛДПР', 'ORGANIZATION'),\n",
       " ('МВД', 'ORGANIZATION'),\n",
       " ('ОПЕК', 'ORGANIZATION'),\n",
       " ('ПЕТЕРБУРГ', 'ORGANIZATION'),\n",
       " ('САО', 'ORGANIZATION')}"
      ]
     },
     "execution_count": 101,
     "metadata": {
      "tags": []
     },
     "output_type": "execute_result"
    }
   ],
   "source": [
    "{(' '.join(c[0] for c in chunk), chunk.label() ) for chunk in nltk.ne_chunk(word_tag[:int(len(word_tag) * tts)]) if hasattr(chunk, 'label') }"
   ]
  },
  {
   "cell_type": "markdown",
   "metadata": {
    "id": "PVOJMAQ2boIL"
   },
   "source": [
    "### 2. проверить deeppavlov"
   ]
  },
  {
   "cell_type": "code",
   "execution_count": 19,
   "metadata": {
    "executionInfo": {
     "elapsed": 841,
     "status": "ok",
     "timestamp": 1618314092184,
     "user": {
      "displayName": "Alexey Tankov",
      "photoUrl": "",
      "userId": "01729535101672247421"
     },
     "user_tz": -180
    },
    "id": "E0VT1Hjq0JsB"
   },
   "outputs": [],
   "source": [
    "# # установка deeppavlov\n",
    "# !python -m venv env \n",
    "# !pip install deeppavlov\n",
    "# !python -m deeppavlov install squad_bert\n",
    "# !python -m deeppavlov install ner_ontonotes"
   ]
  },
  {
   "cell_type": "code",
   "execution_count": 15,
   "metadata": {
    "executionInfo": {
     "elapsed": 1015,
     "status": "ok",
     "timestamp": 1618316579514,
     "user": {
      "displayName": "Alexey Tankov",
      "photoUrl": "",
      "userId": "01729535101672247421"
     },
     "user_tz": -180
    },
    "id": "NMpydBoK0MCY"
   },
   "outputs": [],
   "source": [
    "# import deeppavlov\n",
    "# from deeppavlov import configs, build_model"
   ]
  },
  {
   "cell_type": "code",
   "execution_count": 20,
   "metadata": {
    "executionInfo": {
     "elapsed": 891,
     "status": "ok",
     "timestamp": 1618316676600,
     "user": {
      "displayName": "Alexey Tankov",
      "photoUrl": "",
      "userId": "01729535101672247421"
     },
     "user_tz": -180
    },
    "id": "2J6k1ao80Nl6"
   },
   "outputs": [],
   "source": [
    "# deeppavlov_ner = build_model(configs.ner.ner_bert_ent_and_type_rus, download=True)"
   ]
  },
  {
   "cell_type": "code",
   "execution_count": 21,
   "metadata": {
    "executionInfo": {
     "elapsed": 578,
     "status": "ok",
     "timestamp": 1618316687743,
     "user": {
      "displayName": "Alexey Tankov",
      "photoUrl": "",
      "userId": "01729535101672247421"
     },
     "user_tz": -180
    },
    "id": "w_Z-IRZGI0M9"
   },
   "outputs": [],
   "source": [
    "# tts = 0.01 # train_test_split"
   ]
  },
  {
   "cell_type": "code",
   "execution_count": null,
   "metadata": {
    "id": "Ywu1B15C4g97"
   },
   "outputs": [],
   "source": [
    "# deeppavlov_ner(word_tag[:int(len(word_tag) * tts)])"
   ]
  },
  {
   "cell_type": "markdown",
   "metadata": {
    "id": "WXnOGiZiboTZ"
   },
   "source": [
    "### 3. написать свой нер попробовать разные подходы (с доп информацией без) так же с учётом соседей и без них"
   ]
  },
  {
   "cell_type": "code",
   "execution_count": null,
   "metadata": {
    "id": "DkqxIjZmB88C"
   },
   "outputs": [],
   "source": [
    "# def split_token_label(data):\n",
    "#   tokens = []\n",
    "#   labels = []\n",
    "\n",
    "#   for token, label in data:\n",
    "#     tokens.append(token)\n",
    "#     labels.append('NO_TAG' if label is None else label)\n",
    "\n",
    "#   return tokens, labels"
   ]
  },
  {
   "cell_type": "code",
   "execution_count": 35,
   "metadata": {
    "colab": {
     "base_uri": "https://localhost:8080/"
    },
    "executionInfo": {
     "elapsed": 1776,
     "status": "ok",
     "timestamp": 1618313426877,
     "user": {
      "displayName": "Alexey Tankov",
      "photoUrl": "",
      "userId": "01729535101672247421"
     },
     "user_tz": -180
    },
    "id": "lan9LFt_4_jY",
    "outputId": "87b1bd31-298d-483e-eb0b-b49c4f6858c5"
   },
   "outputs": [
    {
     "data": {
      "text/plain": [
       "(['Комиссар', 'СЕ', 'критикует', 'ограничительную', 'политику'],\n",
       " ['NO_PERSON', 'NO_PERSON', 'NO_PERSON', 'NO_PERSON', 'NO_PERSON'])"
      ]
     },
     "execution_count": 35,
     "metadata": {
      "tags": []
     },
     "output_type": "execute_result"
    }
   ],
   "source": [
    "X = []\n",
    "y = []\n",
    "\n",
    "for token, label in word_tag:\n",
    "    X.append(token)\n",
    "    y.append(label)\n",
    "\n",
    "X[:5], y[:5]"
   ]
  },
  {
   "cell_type": "code",
   "execution_count": 21,
   "metadata": {
    "executionInfo": {
     "elapsed": 2525,
     "status": "ok",
     "timestamp": 1618312102497,
     "user": {
      "displayName": "Alexey Tankov",
      "photoUrl": "",
      "userId": "01729535101672247421"
     },
     "user_tz": -180
    },
    "id": "1u-gYlVV5yba"
   },
   "outputs": [],
   "source": [
    "le = LabelEncoder()\n",
    "train_enc_labels = le.fit_transform(y)"
   ]
  },
  {
   "cell_type": "code",
   "execution_count": 22,
   "metadata": {
    "colab": {
     "base_uri": "https://localhost:8080/"
    },
    "executionInfo": {
     "elapsed": 904,
     "status": "ok",
     "timestamp": 1618312104682,
     "user": {
      "displayName": "Alexey Tankov",
      "photoUrl": "",
      "userId": "01729535101672247421"
     },
     "user_tz": -180
    },
    "id": "RV4W0I7f53ZF",
    "outputId": "d0a321e6-f7c6-450d-aa9e-7f282dd739d5"
   },
   "outputs": [
    {
     "name": "stdout",
     "output_type": "stream",
     "text": [
      "['NO_PERSON' 'PERSON']\n"
     ]
    }
   ],
   "source": [
    "print(le.classes_)"
   ]
  },
  {
   "cell_type": "code",
   "execution_count": 24,
   "metadata": {
    "executionInfo": {
     "elapsed": 558,
     "status": "ok",
     "timestamp": 1618312131162,
     "user": {
      "displayName": "Alexey Tankov",
      "photoUrl": "",
      "userId": "01729535101672247421"
     },
     "user_tz": -180
    },
    "id": "KTiEf65l62m1"
   },
   "outputs": [],
   "source": [
    "from sklearn.model_selection import train_test_split"
   ]
  },
  {
   "cell_type": "code",
   "execution_count": 25,
   "metadata": {
    "executionInfo": {
     "elapsed": 3271,
     "status": "ok",
     "timestamp": 1618312135211,
     "user": {
      "displayName": "Alexey Tankov",
      "photoUrl": "",
      "userId": "01729535101672247421"
     },
     "user_tz": -180
    },
    "id": "jiLEfCWB55tm"
   },
   "outputs": [],
   "source": [
    "X_train, X_test, y_train, y_test = train_test_split(X, train_enc_labels)"
   ]
  },
  {
   "cell_type": "code",
   "execution_count": 32,
   "metadata": {
    "executionInfo": {
     "elapsed": 551,
     "status": "ok",
     "timestamp": 1618312625083,
     "user": {
      "displayName": "Alexey Tankov",
      "photoUrl": "",
      "userId": "01729535101672247421"
     },
     "user_tz": -180
    },
    "id": "aQtOlLdy6VuW"
   },
   "outputs": [],
   "source": [
    "models = []\n",
    "\n",
    "models.append(('CountVectorizer_word', CountVectorizer(ngram_range=(1,5),analyzer='word', max_features=100)))\n",
    "models.append(('TfidfVectorizer_word', TfidfVectorizer(ngram_range=(1,5),analyzer='word', max_features=100)))\n",
    "models.append(('HashingVectorizer_word', HashingVectorizer(ngram_range=(1, 5), analyzer='word', n_features=100)))\n",
    "models.append(('CountVectorizer_char', CountVectorizer(ngram_range=(1,5), analyzer='char', max_features=100)))\n",
    "models.append(('TfidfVectorizer_char', TfidfVectorizer(ngram_range=(1,5), analyzer='char', max_features=100)))\n",
    "models.append(('HashingVectorizer_char', HashingVectorizer(ngram_range=(1, 5), analyzer='char', n_features=100)))\n",
    "models.append(('CountVectorizer_char_wb', CountVectorizer(ngram_range=(1,5), analyzer='char_wb', max_features=100)))\n",
    "models.append(('TfidfVectorizer_char_wb', TfidfVectorizer(ngram_range=(1,5), analyzer='char_wb', max_features=100)))\n",
    "models.append(('HashingVectorizer_char_wb', HashingVectorizer(ngram_range=(1, 5), analyzer='char_wb', n_features=100)))"
   ]
  },
  {
   "cell_type": "code",
   "execution_count": 33,
   "metadata": {
    "colab": {
     "base_uri": "https://localhost:8080/",
     "height": 328
    },
    "executionInfo": {
     "elapsed": 655559,
     "status": "ok",
     "timestamp": 1618313284498,
     "user": {
      "displayName": "Alexey Tankov",
      "photoUrl": "",
      "userId": "01729535101672247421"
     },
     "user_tz": -180
    },
    "id": "Tq5UfjJt6avd",
    "outputId": "48675365-5271-4115-e229-b6225dd1bf7a"
   },
   "outputs": [
    {
     "data": {
      "text/html": [
       "<div>\n",
       "<style scoped>\n",
       "    .dataframe tbody tr th:only-of-type {\n",
       "        vertical-align: middle;\n",
       "    }\n",
       "\n",
       "    .dataframe tbody tr th {\n",
       "        vertical-align: top;\n",
       "    }\n",
       "\n",
       "    .dataframe thead th {\n",
       "        text-align: right;\n",
       "    }\n",
       "</style>\n",
       "<table border=\"1\" class=\"dataframe\">\n",
       "  <thead>\n",
       "    <tr style=\"text-align: right;\">\n",
       "      <th></th>\n",
       "      <th>model</th>\n",
       "      <th>accuracy</th>\n",
       "    </tr>\n",
       "  </thead>\n",
       "  <tbody>\n",
       "    <tr>\n",
       "      <th>0</th>\n",
       "      <td>CountVectorizer_word</td>\n",
       "      <td>0.994357</td>\n",
       "    </tr>\n",
       "    <tr>\n",
       "      <th>1</th>\n",
       "      <td>TfidfVectorizer_word</td>\n",
       "      <td>0.994357</td>\n",
       "    </tr>\n",
       "    <tr>\n",
       "      <th>2</th>\n",
       "      <td>HashingVectorizer_word</td>\n",
       "      <td>0.994357</td>\n",
       "    </tr>\n",
       "    <tr>\n",
       "      <th>3</th>\n",
       "      <td>CountVectorizer_char</td>\n",
       "      <td>0.994357</td>\n",
       "    </tr>\n",
       "    <tr>\n",
       "      <th>4</th>\n",
       "      <td>TfidfVectorizer_char</td>\n",
       "      <td>0.994357</td>\n",
       "    </tr>\n",
       "    <tr>\n",
       "      <th>5</th>\n",
       "      <td>HashingVectorizer_char</td>\n",
       "      <td>0.994357</td>\n",
       "    </tr>\n",
       "    <tr>\n",
       "      <th>6</th>\n",
       "      <td>CountVectorizer_char_wb</td>\n",
       "      <td>0.994357</td>\n",
       "    </tr>\n",
       "    <tr>\n",
       "      <th>7</th>\n",
       "      <td>TfidfVectorizer_char_wb</td>\n",
       "      <td>0.994357</td>\n",
       "    </tr>\n",
       "    <tr>\n",
       "      <th>8</th>\n",
       "      <td>HashingVectorizer_char_wb</td>\n",
       "      <td>0.994357</td>\n",
       "    </tr>\n",
       "  </tbody>\n",
       "</table>\n",
       "</div>"
      ],
      "text/plain": [
       "                       model  accuracy\n",
       "0       CountVectorizer_word  0.994357\n",
       "1       TfidfVectorizer_word  0.994357\n",
       "2     HashingVectorizer_word  0.994357\n",
       "3       CountVectorizer_char  0.994357\n",
       "4       TfidfVectorizer_char  0.994357\n",
       "5     HashingVectorizer_char  0.994357\n",
       "6    CountVectorizer_char_wb  0.994357\n",
       "7    TfidfVectorizer_char_wb  0.994357\n",
       "8  HashingVectorizer_char_wb  0.994357"
      ]
     },
     "execution_count": 33,
     "metadata": {
      "tags": []
     },
     "output_type": "execute_result"
    }
   ],
   "source": [
    "results = []\n",
    "\n",
    "for name, model in models:\n",
    "    X_train_vec = model.fit_transform(X_train)\n",
    "    X_test_vec = model.transform(X_test)\n",
    "    \n",
    "    classifier.fit(X_train_vec, y_train)\n",
    "    predictions = classifier.predict(X_test_vec)\n",
    "    \n",
    "    accuracy = accuracy_score(y_test, predictions)\n",
    "\n",
    "    results.append((name, accuracy))\n",
    "    \n",
    "best_ner = pd.DataFrame(results, columns = ['model','accuracy'])\n",
    "best_ner.sort_values('accuracy', ascending=False)"
   ]
  },
  {
   "cell_type": "markdown",
   "metadata": {
    "id": "rpCIjLgRbodR"
   },
   "source": [
    "### 4. сделать выводы по вашим экспериментам какой из подходов успешнее справляется"
   ]
  },
  {
   "cell_type": "code",
   "execution_count": null,
   "metadata": {
    "id": "hv4GhkdztVNC"
   },
   "outputs": [],
   "source": []
  }
 ],
 "metadata": {
  "colab": {
   "collapsed_sections": [],
   "name": "HW5-colab.ipynb",
   "provenance": []
  },
  "kernelspec": {
   "display_name": "Python 3",
   "language": "python",
   "name": "python3"
  },
  "language_info": {
   "codemirror_mode": {
    "name": "ipython",
    "version": 3
   },
   "file_extension": ".py",
   "mimetype": "text/x-python",
   "name": "python",
   "nbconvert_exporter": "python",
   "pygments_lexer": "ipython3",
   "version": "3.8.8"
  }
 },
 "nbformat": 4,
 "nbformat_minor": 1
}
