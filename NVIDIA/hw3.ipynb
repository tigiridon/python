{
 "cells": [
  {
   "cell_type": "markdown",
   "metadata": {},
   "source": [
    "#From SAV to LOVE"
   ]
  },
  {
   "cell_type": "markdown",
   "metadata": {
    "id": "zRrytLTTNDaR"
   },
   "source": [
    "# HW №3"
   ]
  },
  {
   "cell_type": "code",
   "execution_count": 1,
   "metadata": {
    "colab": {
     "base_uri": "https://localhost:8080/"
    },
    "executionInfo": {
     "elapsed": 18560,
     "status": "ok",
     "timestamp": 1617260033341,
     "user": {
      "displayName": "Alexey Tankov",
      "photoUrl": "",
      "userId": "01729535101672247421"
     },
     "user_tz": -180
    },
    "id": "wWzU9hqUomdU",
    "outputId": "1d108d55-1afd-477e-ed96-b15ce9ff2fd9"
   },
   "outputs": [
    {
     "name": "stdout",
     "output_type": "stream",
     "text": [
      "\u001b[K     |████████████████████████████████| 1.4MB 12.4MB/s \n",
      "\u001b[K     |████████████████████████████████| 23.9MB 62.6MB/s \n",
      "\u001b[?25h  Building wheel for nltk (setup.py) ... \u001b[?25l\u001b[?25hdone\n"
     ]
    },
    {
     "name": "stderr",
     "output_type": "stream",
     "text": [
      "[nltk_data] Downloading package punkt to /root/nltk_data...\n",
      "[nltk_data]   Unzipping tokenizers/punkt.zip.\n",
      "[nltk_data] Downloading package stopwords to /root/nltk_data...\n",
      "[nltk_data]   Unzipping corpora/stopwords.zip.\n"
     ]
    },
    {
     "data": {
      "text/plain": [
       "True"
      ]
     },
     "execution_count": 1,
     "metadata": {
      "tags": []
     },
     "output_type": "execute_result"
    }
   ],
   "source": [
    "!pip install -q --upgrade nltk gensim bokeh\n",
    "\n",
    "import nltk\n",
    "nltk.download('punkt')\n",
    "nltk.download('stopwords')"
   ]
  },
  {
   "cell_type": "code",
   "execution_count": 2,
   "metadata": {
    "colab": {
     "base_uri": "https://localhost:8080/"
    },
    "executionInfo": {
     "elapsed": 1209,
     "status": "ok",
     "timestamp": 1617260038400,
     "user": {
      "displayName": "Alexey Tankov",
      "photoUrl": "",
      "userId": "01729535101672247421"
     },
     "user_tz": -180
    },
    "id": "K-X7I7nc1gyS",
    "outputId": "01532cd7-3902-43dc-a536-3ba16c2c40e2"
   },
   "outputs": [
    {
     "name": "stderr",
     "output_type": "stream",
     "text": [
      "/usr/local/lib/python3.7/dist-packages/gensim/similarities/__init__.py:15: UserWarning: The gensim.similarities.levenshtein submodule is disabled, because the optional Levenshtein package <https://pypi.org/project/python-Levenshtein/> is unavailable. Install Levenhstein (e.g. `pip install python-Levenshtein`) to suppress this warning.\n",
      "  warnings.warn(msg)\n"
     ]
    }
   ],
   "source": [
    "import pandas as pd\n",
    "import numpy as np\n",
    "from nltk.tokenize import word_tokenize\n",
    "from gensim.models import Word2Vec\n",
    "from sklearn.manifold import TSNE"
   ]
  },
  {
   "cell_type": "code",
   "execution_count": 3,
   "metadata": {
    "executionInfo": {
     "elapsed": 676,
     "status": "ok",
     "timestamp": 1617260041117,
     "user": {
      "displayName": "Alexey Tankov",
      "photoUrl": "",
      "userId": "01729535101672247421"
     },
     "user_tz": -180
    },
    "id": "UoYjVExHd_OC"
   },
   "outputs": [],
   "source": [
    "import re\n",
    "from sklearn.feature_extraction.text import TfidfVectorizer\n",
    "from nltk.corpus import stopwords\n",
    "from string import punctuation"
   ]
  },
  {
   "cell_type": "markdown",
   "metadata": {
    "id": "xvqrFUS6vVhh"
   },
   "source": [
    "## Запилим пословный машинный перевод!"
   ]
  },
  {
   "cell_type": "code",
   "execution_count": 4,
   "metadata": {
    "colab": {
     "base_uri": "https://localhost:8080/"
    },
    "executionInfo": {
     "elapsed": 174913,
     "status": "ok",
     "timestamp": 1617260220967,
     "user": {
      "displayName": "Alexey Tankov",
      "photoUrl": "",
      "userId": "01729535101672247421"
     },
     "user_tz": -180
    },
    "id": "1CXcr-ypzGXg",
    "outputId": "f6e740db-acd6-4d2e-fc24-d3362530f6c8"
   },
   "outputs": [
    {
     "name": "stdout",
     "output_type": "stream",
     "text": [
      "Archive:  cc.ru.300.vec.zip\n",
      "  inflating: cc.ru.300.vec           \n",
      "Archive:  cc.uk.300.vec.zip\n",
      "  inflating: cc.uk.300.vec           \n"
     ]
    }
   ],
   "source": [
    "!wget -O ukr_rus.train.txt -qq --no-check-certificate \"https://drive.google.com/uc?export=download&id=1vAK0SWXUqei4zTimMvIhH3ufGPsbnC_O\"\n",
    "!wget -O ukr_rus.test.txt -qq --no-check-certificate \"https://drive.google.com/uc?export=download&id=1W9R2F8OeKHXruo2sicZ6FgBJUTJc8Us_\"\n",
    "!wget -O fairy_tale.txt -qq --no-check-certificate \"https://drive.google.com/uc?export=download&id=1sq8zSroFeg_afw-60OmY8RATdu_T1tej\"\n",
    "\n",
    "# Install the PyDrive wrapper & import libraries.\n",
    "# This only needs to be done once per notebook.\n",
    "!pip install -U -q PyDrive\n",
    "from pydrive.auth import GoogleAuth\n",
    "from pydrive.drive import GoogleDrive\n",
    "from google.colab import auth\n",
    "from oauth2client.client import GoogleCredentials\n",
    "\n",
    "# Authenticate and create the PyDrive client.\n",
    "# This only needs to be done once per notebook.\n",
    "auth.authenticate_user()\n",
    "gauth = GoogleAuth()\n",
    "gauth.credentials = GoogleCredentials.get_application_default()\n",
    "drive = GoogleDrive(gauth)\n",
    "\n",
    "downloaded = drive.CreateFile({'id': '1d7OXuil646jUeDS1JNhP9XWlZogv6rbu'})\n",
    "downloaded.GetContentFile('cc.ru.300.vec.zip')\n",
    "\n",
    "downloaded = drive.CreateFile({'id': '1yAqwqgUHtMSfGS99WLGe5unSCyIXfIxi'})\n",
    "downloaded.GetContentFile('cc.uk.300.vec.zip')\n",
    "\n",
    "!unzip cc.ru.300.vec.zip\n",
    "!unzip cc.uk.300.vec.zip"
   ]
  },
  {
   "cell_type": "markdown",
   "metadata": {
    "id": "7RqUeOXxws8y"
   },
   "source": [
    "Напишем простенькую реализацию модели машинного перевода.\n",
    "\n",
    "Идея основана на статье [Word Translation Without Parallel Data](https://arxiv.org/pdf/1710.04087.pdf). У авторов в репозитории еще много интересного: [https://github.com/facebookresearch/MUSE](https://github.com/facebookresearch/MUSE).\n",
    "\n",
    "А мы будем переводить с украинского на русский.\n",
    "\n",
    "![](https://raw.githubusercontent.com/yandexdataschool/nlp_course/master/resources/blue_cat_blue_whale.png)   \n",
    "*синій кіт* vs. *синій кит*"
   ]
  },
  {
   "cell_type": "code",
   "execution_count": 5,
   "metadata": {
    "executionInfo": {
     "elapsed": 537473,
     "status": "ok",
     "timestamp": 1617260774234,
     "user": {
      "displayName": "Alexey Tankov",
      "photoUrl": "",
      "userId": "01729535101672247421"
     },
     "user_tz": -180
    },
    "id": "jjPj9FTRry0U"
   },
   "outputs": [],
   "source": [
    "from gensim.models import KeyedVectors\n",
    "\n",
    "ru_emb = KeyedVectors.load_word2vec_format(\"cc.ru.300.vec\")\n",
    "uk_emb = KeyedVectors.load_word2vec_format(\"cc.uk.300.vec\")"
   ]
  },
  {
   "cell_type": "markdown",
   "metadata": {
    "id": "7rGx4TXWFJ65"
   },
   "source": [
    "Посмотрим на пару серпень-август (являющихся переводом)"
   ]
  },
  {
   "cell_type": "code",
   "execution_count": 6,
   "metadata": {
    "colab": {
     "base_uri": "https://localhost:8080/"
    },
    "executionInfo": {
     "elapsed": 536000,
     "status": "ok",
     "timestamp": 1617260774751,
     "user": {
      "displayName": "Alexey Tankov",
      "photoUrl": "",
      "userId": "01729535101672247421"
     },
     "user_tz": -180
    },
    "id": "FkHer36xyh4n",
    "outputId": "11e628f3-037d-4a32-eb9f-7138e611146d"
   },
   "outputs": [
    {
     "data": {
      "text/plain": [
       "[('август', 1.0000001192092896),\n",
       " ('июль', 0.9383152723312378),\n",
       " ('сентябрь', 0.9240029454231262),\n",
       " ('июнь', 0.9222574830055237),\n",
       " ('октябрь', 0.9095539450645447),\n",
       " ('ноябрь', 0.8930036425590515),\n",
       " ('апрель', 0.8729087114334106),\n",
       " ('декабрь', 0.8652557730674744),\n",
       " ('март', 0.8545795679092407),\n",
       " ('февраль', 0.8401415944099426)]"
      ]
     },
     "execution_count": 6,
     "metadata": {
      "tags": []
     },
     "output_type": "execute_result"
    }
   ],
   "source": [
    "ru_emb.most_similar([ru_emb[\"август\"]])"
   ]
  },
  {
   "cell_type": "code",
   "execution_count": 7,
   "metadata": {
    "colab": {
     "base_uri": "https://localhost:8080/"
    },
    "executionInfo": {
     "elapsed": 534922,
     "status": "ok",
     "timestamp": 1617260774753,
     "user": {
      "displayName": "Alexey Tankov",
      "photoUrl": "",
      "userId": "01729535101672247421"
     },
     "user_tz": -180
    },
    "id": "1RSDixWvylEP",
    "outputId": "06211414-ce55-42a3-de95-f79168af2a10"
   },
   "outputs": [
    {
     "data": {
      "text/plain": [
       "[('серпень', 0.9999998807907104),\n",
       " ('липень', 0.9096441268920898),\n",
       " ('вересень', 0.9016969203948975),\n",
       " ('червень', 0.8992518782615662),\n",
       " ('жовтень', 0.8810408115386963),\n",
       " ('листопад', 0.8787633180618286),\n",
       " ('квітень', 0.8592804670333862),\n",
       " ('грудень', 0.8586863279342651),\n",
       " ('травень', 0.840811014175415),\n",
       " ('лютий', 0.8256431221961975)]"
      ]
     },
     "execution_count": 7,
     "metadata": {
      "tags": []
     },
     "output_type": "execute_result"
    }
   ],
   "source": [
    "uk_emb.most_similar([uk_emb[\"серпень\"]])"
   ]
  },
  {
   "cell_type": "code",
   "execution_count": 8,
   "metadata": {
    "colab": {
     "base_uri": "https://localhost:8080/"
    },
    "executionInfo": {
     "elapsed": 533904,
     "status": "ok",
     "timestamp": 1617260774755,
     "user": {
      "displayName": "Alexey Tankov",
      "photoUrl": "",
      "userId": "01729535101672247421"
     },
     "user_tz": -180
    },
    "id": "iwmm3YQ1yl1U",
    "outputId": "40acd987-c9d2-41f3-e7cd-14f651aa2e33"
   },
   "outputs": [
    {
     "data": {
      "text/plain": [
       "[('Недопустимость', 0.24435284733772278),\n",
       " ('конструктивность', 0.23293082416057587),\n",
       " ('офор', 0.23256804049015045),\n",
       " ('deteydlya', 0.230317160487175),\n",
       " ('пресечении', 0.22632381319999695),\n",
       " ('одностороннего', 0.22608886659145355),\n",
       " ('подход', 0.2230587750673294),\n",
       " ('иболее', 0.22003726661205292),\n",
       " ('2015Александр', 0.21872766315937042),\n",
       " ('конструктивен', 0.21796567738056183)]"
      ]
     },
     "execution_count": 8,
     "metadata": {
      "tags": []
     },
     "output_type": "execute_result"
    }
   ],
   "source": [
    "ru_emb.most_similar([uk_emb[\"серпень\"]])"
   ]
  },
  {
   "cell_type": "code",
   "execution_count": 58,
   "metadata": {
    "executionInfo": {
     "elapsed": 903,
     "status": "ok",
     "timestamp": 1617262929242,
     "user": {
      "displayName": "Alexey Tankov",
      "photoUrl": "",
      "userId": "01729535101672247421"
     },
     "user_tz": -180
    },
    "id": "lAsW7oxszE_I"
   },
   "outputs": [],
   "source": [
    "def load_word_pairs(filename):\n",
    "    uk_ru_pairs = []\n",
    "    uk_vectors = []\n",
    "    ru_vectors = []\n",
    "    with open(filename, \"r\", encoding='utf8') as inpf:\n",
    "        for line in inpf:\n",
    "            uk, ru = line.rstrip().split(\"\\t\")\n",
    "            if uk not in uk_emb or ru not in ru_emb:\n",
    "                continue\n",
    "            uk_ru_pairs.append((uk, ru))\n",
    "            uk_vectors.append(uk_emb[uk])\n",
    "            ru_vectors.append(ru_emb[ru])\n",
    "    return uk_ru_pairs, np.array(uk_vectors), np.array(ru_vectors)\n",
    "\n",
    "\n",
    "uk_ru_train, X_train, Y_train = load_word_pairs(\"ukr_rus.train.txt\")\n",
    "uk_ru_test, X_test, Y_test = load_word_pairs(\"ukr_rus.test.txt\")"
   ]
  },
  {
   "cell_type": "markdown",
   "metadata": {
    "id": "9z6ts7DC0XmN"
   },
   "source": [
    "### Учим маппинг из одного пространства эмбеддингов в другое\n",
    "\n",
    "У нас есть пары слов, соответствующих друг другу, и их эмбеддинги. Найдем преобразование из одного пространства в другое, чтобы приблизить известные нам слова:\n",
    "\n",
    "$$W^*= \\arg\\min_W ||WX - Y||_F, \\text{где} ||*||_F - \\text{норма Фробениуса}$$\n",
    "\n",
    "Эта функция очень похожа на линейную регрессию (без биаса).\n",
    "\n",
    "**Задание** Реализуйте её - воспользуйтесь `LinearRegression` из sklearn с `fit_intercept=False`:"
   ]
  },
  {
   "cell_type": "code",
   "execution_count": 59,
   "metadata": {
    "colab": {
     "base_uri": "https://localhost:8080/"
    },
    "executionInfo": {
     "elapsed": 880,
     "status": "ok",
     "timestamp": 1617262930074,
     "user": {
      "displayName": "Alexey Tankov",
      "photoUrl": "",
      "userId": "01729535101672247421"
     },
     "user_tz": -180
    },
    "id": "fraTOQtu1YWI",
    "outputId": "c03fe08a-1e30-4e93-8ae7-ae58b056cb4d"
   },
   "outputs": [
    {
     "data": {
      "text/plain": [
       "LinearRegression(copy_X=True, fit_intercept=False, n_jobs=None, normalize=False)"
      ]
     },
     "execution_count": 59,
     "metadata": {
      "tags": []
     },
     "output_type": "execute_result"
    }
   ],
   "source": [
    "from sklearn.linear_model import LinearRegression\n",
    "\n",
    "mapping = LinearRegression(fit_intercept=False)\n",
    "mapping.fit(X_train, Y_train)"
   ]
  },
  {
   "cell_type": "markdown",
   "metadata": {
    "id": "PrzRk3ja1b_6"
   },
   "source": [
    "Проверим, куда перейдет `серпень`:"
   ]
  },
  {
   "cell_type": "code",
   "execution_count": 60,
   "metadata": {
    "colab": {
     "base_uri": "https://localhost:8080/"
    },
    "executionInfo": {
     "elapsed": 550,
     "status": "ok",
     "timestamp": 1617262930409,
     "user": {
      "displayName": "Alexey Tankov",
      "photoUrl": "",
      "userId": "01729535101672247421"
     },
     "user_tz": -180
    },
    "id": "Quax6HnF1aON",
    "outputId": "d42d9399-a3cf-44ad-c1de-db35dacacdd2"
   },
   "outputs": [
    {
     "data": {
      "text/plain": [
       "[('апрель', 0.8541285991668701),\n",
       " ('июнь', 0.8411202430725098),\n",
       " ('март', 0.839699387550354),\n",
       " ('сентябрь', 0.835986852645874),\n",
       " ('февраль', 0.8329297304153442),\n",
       " ('октябрь', 0.8311845660209656),\n",
       " ('ноябрь', 0.8278923630714417),\n",
       " ('июль', 0.8234528303146362),\n",
       " ('август', 0.8120501637458801),\n",
       " ('декабрь', 0.8039003610610962)]"
      ]
     },
     "execution_count": 60,
     "metadata": {
      "tags": []
     },
     "output_type": "execute_result"
    }
   ],
   "source": [
    "august = mapping.predict(uk_emb[\"серпень\"].reshape(1, -1))\n",
    "ru_emb.most_similar(august)"
   ]
  },
  {
   "cell_type": "markdown",
   "metadata": {
    "id": "ih1GLNZt1nZX"
   },
   "source": [
    "Должно получиться, что в топе содержатся разные месяцы, но август не первый.\n",
    "\n",
    "Будем мерять percision top-k с k = 1, 5, 10.\n",
    "\n",
    "**Задание** Реализуйте следующую функцию:"
   ]
  },
  {
   "cell_type": "code",
   "execution_count": 61,
   "metadata": {
    "executionInfo": {
     "elapsed": 956,
     "status": "ok",
     "timestamp": 1617262931979,
     "user": {
      "displayName": "Alexey Tankov",
      "photoUrl": "",
      "userId": "01729535101672247421"
     },
     "user_tz": -180
    },
    "id": "JnmrLp9y2gNI"
   },
   "outputs": [],
   "source": [
    "def precision(pairs, mapped_vectors, topn=1):\n",
    "    \"\"\"\n",
    "    :args:\n",
    "        pairs = list of right word pairs [(uk_word_0, ru_word_0), ...]\n",
    "        mapped_vectors = list of embeddings after mapping from source embedding space to destination embedding space\n",
    "        topn = the number of nearest neighbours in destination embedding space to choose from\n",
    "    :returns:\n",
    "        precision_val, float number, total number of words for those we can find right translation at top K.\n",
    "    \"\"\"\n",
    "    assert len(pairs) == len(mapped_vectors)\n",
    "    num_matches = 0\n",
    "    if mapped_vectors[0].shape[0] != 1:\n",
    "            map_vec = [j.reshape(1, -1) for j in mapped_vectors]\n",
    "    for i, (_, ru) in enumerate(pairs):\n",
    "        for (s, _) in ru_emb.most_similar(map_vec[i], topn=topn):\n",
    "            if s == ru:\n",
    "                num_matches += 1\n",
    "                break\n",
    "\n",
    "    precision_val = num_matches / len(pairs)\n",
    "    return precision_val"
   ]
  },
  {
   "cell_type": "code",
   "execution_count": 62,
   "metadata": {
    "executionInfo": {
     "elapsed": 815,
     "status": "ok",
     "timestamp": 1617262932359,
     "user": {
      "displayName": "Alexey Tankov",
      "photoUrl": "",
      "userId": "01729535101672247421"
     },
     "user_tz": -180
    },
    "id": "-1NIvhSH2olG"
   },
   "outputs": [],
   "source": [
    "assert precision([(\"серпень\", \"август\")], august, topn=5) == 0.0\n",
    "assert precision([(\"серпень\", \"август\")], august, topn=9) == 1.0\n",
    "assert precision([(\"серпень\", \"август\")], august, topn=10) == 1.0"
   ]
  },
  {
   "cell_type": "code",
   "execution_count": 63,
   "metadata": {
    "executionInfo": {
     "elapsed": 47591,
     "status": "ok",
     "timestamp": 1617262979538,
     "user": {
      "displayName": "Alexey Tankov",
      "photoUrl": "",
      "userId": "01729535101672247421"
     },
     "user_tz": -180
    },
    "id": "9Ml_w1Tl2r7Y"
   },
   "outputs": [],
   "source": [
    "assert precision(uk_ru_test, X_test) == 0.0\n",
    "assert precision(uk_ru_test, Y_test) == 1.0"
   ]
  },
  {
   "cell_type": "code",
   "execution_count": 64,
   "metadata": {
    "executionInfo": {
     "elapsed": 95942,
     "status": "ok",
     "timestamp": 1617263028339,
     "user": {
      "displayName": "Alexey Tankov",
      "photoUrl": "",
      "userId": "01729535101672247421"
     },
     "user_tz": -180
    },
    "id": "-d9KQHMr2tx8"
   },
   "outputs": [],
   "source": [
    "precision_top1 = precision(uk_ru_test, mapping.predict(X_test), 1)\n",
    "precision_top5 = precision(uk_ru_test, mapping.predict(X_test), 5)\n",
    "\n",
    "assert precision_top1 >= 0.635\n",
    "assert precision_top5 >= 0.813"
   ]
  },
  {
   "cell_type": "markdown",
   "metadata": {
    "id": "JNbDTP502urT"
   },
   "source": [
    "### Улучшаем маппинг\n",
    "\n",
    "Можно показать, что маппинг лучше строить ортогональным:\n",
    "$$W^*= \\arg\\min_W ||WX - Y||_F \\text{, где: } W^TW = I$$\n",
    "\n",
    "Искать его можно через SVD:\n",
    "$$X^TY=U\\Sigma V^T\\text{, singular value decompostion}$$\n",
    "\n",
    "$$W^*=UV^T$$\n",
    "\n",
    "**Задание** Реализуйте эту функцию."
   ]
  },
  {
   "cell_type": "code",
   "execution_count": 65,
   "metadata": {
    "executionInfo": {
     "elapsed": 94357,
     "status": "ok",
     "timestamp": 1617263028339,
     "user": {
      "displayName": "Alexey Tankov",
      "photoUrl": "",
      "userId": "01729535101672247421"
     },
     "user_tz": -180
    },
    "id": "9de8XZ_F3v53"
   },
   "outputs": [],
   "source": [
    "def learn_transform(X_train, Y_train):\n",
    "    \"\"\" \n",
    "    :returns: W* : float matrix[emb_dim x emb_dim] as defined in formulae above\n",
    "    \"\"\"\n",
    "    M = X_train.T @ Y_train\n",
    "    U, sigma, Vh = np.linalg.svd(M, full_matrices=True)\n",
    "    W = U @ Vh\n",
    "    return W"
   ]
  },
  {
   "cell_type": "code",
   "execution_count": 66,
   "metadata": {
    "executionInfo": {
     "elapsed": 93873,
     "status": "ok",
     "timestamp": 1617263028340,
     "user": {
      "displayName": "Alexey Tankov",
      "photoUrl": "",
      "userId": "01729535101672247421"
     },
     "user_tz": -180
    },
    "id": "8WeCadzN382y"
   },
   "outputs": [],
   "source": [
    "W = learn_transform(X_train, Y_train)"
   ]
  },
  {
   "cell_type": "code",
   "execution_count": 67,
   "metadata": {
    "colab": {
     "base_uri": "https://localhost:8080/"
    },
    "executionInfo": {
     "elapsed": 93537,
     "status": "ok",
     "timestamp": 1617263028341,
     "user": {
      "displayName": "Alexey Tankov",
      "photoUrl": "",
      "userId": "01729535101672247421"
     },
     "user_tz": -180
    },
    "id": "p6qaMb0E3-f9",
    "outputId": "f2972a88-5816-466e-ba13-7ed5003c38ac"
   },
   "outputs": [
    {
     "data": {
      "text/plain": [
       "[('сознание', 0.7300782799720764),\n",
       " ('самосознание', 0.6303665041923523),\n",
       " ('нравственность', 0.5938084721565247),\n",
       " ('духовность', 0.5927770137786865),\n",
       " ('сознательность', 0.5837946534156799),\n",
       " ('разум', 0.5781062841415405),\n",
       " ('психику', 0.566691517829895),\n",
       " ('подсознание', 0.559062659740448),\n",
       " ('телесность', 0.557232141494751),\n",
       " ('ментальность', 0.555029034614563)]"
      ]
     },
     "execution_count": 67,
     "metadata": {
      "tags": []
     },
     "output_type": "execute_result"
    }
   ],
   "source": [
    "ru_emb.most_similar([np.matmul(uk_emb[\"свідомість\"], W)])"
   ]
  },
  {
   "cell_type": "code",
   "execution_count": 68,
   "metadata": {
    "colab": {
     "base_uri": "https://localhost:8080/"
    },
    "executionInfo": {
     "elapsed": 93247,
     "status": "ok",
     "timestamp": 1617263028341,
     "user": {
      "displayName": "Alexey Tankov",
      "photoUrl": "",
      "userId": "01729535101672247421"
     },
     "user_tz": -180
    },
    "id": "w3cwfnk3YDNt",
    "outputId": "f4f24005-3541-46c1-fcd8-f432f43ab9e9"
   },
   "outputs": [
    {
     "data": {
      "text/plain": [
       "[('праздник', 0.7418760061264038),\n",
       " ('празднество', 0.6281683444976807),\n",
       " ('празднование', 0.6152471303939819),\n",
       " ('Праздник', 0.6086422204971313),\n",
       " ('торжество', 0.5991487503051758),\n",
       " ('Рождество', 0.5991450548171997),\n",
       " ('праздничное', 0.5574449896812439),\n",
       " ('праздника', 0.5458765029907227),\n",
       " ('мероприятие', 0.5419901013374329),\n",
       " ('рождество', 0.5413922667503357)]"
      ]
     },
     "execution_count": 68,
     "metadata": {
      "tags": []
     },
     "output_type": "execute_result"
    }
   ],
   "source": [
    "ru_emb.most_similar([np.matmul(uk_emb[\"свято\"], W)])"
   ]
  },
  {
   "cell_type": "code",
   "execution_count": 69,
   "metadata": {
    "colab": {
     "base_uri": "https://localhost:8080/"
    },
    "executionInfo": {
     "elapsed": 116647,
     "status": "ok",
     "timestamp": 1617263052022,
     "user": {
      "displayName": "Alexey Tankov",
      "photoUrl": "",
      "userId": "01729535101672247421"
     },
     "user_tz": -180
    },
    "id": "K-DtzCD7YQFb",
    "outputId": "ad74248b-be53-4285-ad86-63b6cd1736a1"
   },
   "outputs": [
    {
     "data": {
      "text/plain": [
       "0.6537467700258398"
      ]
     },
     "execution_count": 69,
     "metadata": {
      "tags": []
     },
     "output_type": "execute_result"
    }
   ],
   "source": [
    "precision(uk_ru_test, np.matmul(X_test, W))"
   ]
  },
  {
   "cell_type": "code",
   "execution_count": 70,
   "metadata": {
    "executionInfo": {
     "elapsed": 164895,
     "status": "ok",
     "timestamp": 1617263100777,
     "user": {
      "displayName": "Alexey Tankov",
      "photoUrl": "",
      "userId": "01729535101672247421"
     },
     "user_tz": -180
    },
    "id": "_Nn58crh4AH0"
   },
   "outputs": [],
   "source": [
    "assert precision(uk_ru_test, np.matmul(X_test, W)) >= 0.653\n",
    "assert precision(uk_ru_test, np.matmul(X_test, W), 5) >= 0.824"
   ]
  },
  {
   "cell_type": "markdown",
   "metadata": {
    "id": "lqgcYk-c4DE5"
   },
   "source": [
    "### Пишем переводчик"
   ]
  },
  {
   "cell_type": "markdown",
   "metadata": {
    "id": "hwi70fP6FaAN"
   },
   "source": [
    "Реализуем простой пословный переводчик - для каждого слова будем искать его ближайшего соседа в общем пространстве эмбеддингов. Если слова нет в эмбеддингах - просто копируем его."
   ]
  },
  {
   "cell_type": "code",
   "execution_count": 72,
   "metadata": {
    "executionInfo": {
     "elapsed": 162923,
     "status": "ok",
     "timestamp": 1617263100790,
     "user": {
      "displayName": "Alexey Tankov",
      "photoUrl": "",
      "userId": "01729535101672247421"
     },
     "user_tz": -180
    },
    "id": "0etAHUks4JOr"
   },
   "outputs": [],
   "source": [
    "with open(\"fairy_tale.txt\", \"r\") as f:\n",
    "    uk_sentences = [line.rstrip().lower() for line in f]"
   ]
  },
  {
   "cell_type": "code",
   "execution_count": 73,
   "metadata": {
    "executionInfo": {
     "elapsed": 162294,
     "status": "ok",
     "timestamp": 1617263100791,
     "user": {
      "displayName": "Alexey Tankov",
      "photoUrl": "",
      "userId": "01729535101672247421"
     },
     "user_tz": -180
    },
    "id": "JK_FJGmn4N7V"
   },
   "outputs": [],
   "source": [
    "def translate(sentence):\n",
    "    \"\"\"\n",
    "    :args:\n",
    "        sentence - sentence in Ukrainian (str)\n",
    "    :returns:\n",
    "        translation - sentence in Russian (str)\n",
    "\n",
    "    * find ukrainian embedding for each word in sentence\n",
    "    * transform ukrainian embedding vector\n",
    "    * find nearest russian word and replace\n",
    "    \"\"\"\n",
    "    sentence = sentence.lower()\n",
    "    sentence = sentence.split(' ')\n",
    "    translation = []\n",
    "    for i in sentence:\n",
    "        if i in uk_emb:\n",
    "            translation.append(ru_emb.most_similar([np.matmul(uk_emb[i], W)])[0][0])\n",
    "        else:\n",
    "            translation.append(i)\n",
    "    return ' '.join(translation)"
   ]
  },
  {
   "cell_type": "code",
   "execution_count": 74,
   "metadata": {
    "executionInfo": {
     "elapsed": 162332,
     "status": "ok",
     "timestamp": 1617263101230,
     "user": {
      "displayName": "Alexey Tankov",
      "photoUrl": "",
      "userId": "01729535101672247421"
     },
     "user_tz": -180
    },
    "id": "H47pbFyk4P6D"
   },
   "outputs": [],
   "source": [
    "assert translate(\".\") == \".\"\n",
    "assert translate(\"1 , 3\") == \"1 , 3\"\n",
    "assert translate(\"кіт зловив мишу\") == \"кот поймал мышку\""
   ]
  },
  {
   "cell_type": "code",
   "execution_count": 75,
   "metadata": {
    "colab": {
     "base_uri": "https://localhost:8080/",
     "height": 35
    },
    "executionInfo": {
     "elapsed": 161947,
     "status": "ok",
     "timestamp": 1617263101231,
     "user": {
      "displayName": "Alexey Tankov",
      "photoUrl": "",
      "userId": "01729535101672247421"
     },
     "user_tz": -180
    },
    "id": "YYIC4Oh5Wb9f",
    "outputId": "0d0a86c4-d7f4-426f-bddb-5e261b719dd3"
   },
   "outputs": [
    {
     "data": {
      "application/vnd.google.colaboratory.intrinsic+json": {
       "type": "string"
      },
      "text/plain": [
       "'спасибо'"
      ]
     },
     "execution_count": 75,
     "metadata": {
      "tags": []
     },
     "output_type": "execute_result"
    }
   ],
   "source": [
    "translate(\"Дякую\")"
   ]
  },
  {
   "cell_type": "code",
   "execution_count": 76,
   "metadata": {
    "colab": {
     "base_uri": "https://localhost:8080/"
    },
    "executionInfo": {
     "elapsed": 225014,
     "status": "ok",
     "timestamp": 1617263164795,
     "user": {
      "displayName": "Alexey Tankov",
      "photoUrl": "",
      "userId": "01729535101672247421"
     },
     "user_tz": -180
    },
    "id": "PAVWK7mE4RYU",
    "outputId": "d548e13f-9236-47cf-8263-5c9514d4c577"
   },
   "outputs": [
    {
     "name": "stdout",
     "output_type": "stream",
     "text": [
      "src: лисичка - сестричка і вовк - панібрат\n",
      "dst: лисичка – сестричка и волк – панібрат\n",
      "\n",
      "src: як була собі лисичка , да й пішла раз до однії баби добувать огню ; ввійшла у хату да й каже : \" добрий день тобі , бабусю !\n",
      "dst: как была себе лисичка , че и пошла раз к однії бабы добувать огня ; вошла во избу че и говорит : \" хороший день тебе , бабушку !\n",
      "\n",
      "src: дай мені огня \" .\n",
      "dst: дай мне огня \" .\n",
      "\n",
      "src: а баба тільки що вийняла із печі пирожок із маком , солодкий , да й положила , щоб він прохолов ; а лисичка се і підгледала , да тілько що баба нахилилась у піч , щоб достать огня , то лисичка зараз ухватила пирожок да і драла з хати , да , біжучи , весь мак із його виїла , а туда сміття наклала .\n",
      "dst: а бабка только что вынула со печи пирожок со маком , сладкий , че и согнула , чтобы он прохолов ; а лисичка ой и підгледала , че токмо что бабка качнулась во печь , чтобы достать огня , то лисичка сейчас ухватила пирожок че и деру со хаты , че , пробежать , весь мак со его виїла , а туда мусора наложила .\n",
      "\n",
      "src: прибігла на поле , аж там пасуть хлопці бичків .\n",
      "dst: прибежала по поле , аж там пасут парни бычков .\n",
      "\n",
      "src: вона і каже їм : \" ей , хлопці !\n",
      "dst: она и говорит им : \" ой , парни !\n",
      "\n",
      "src: проміняйте мені бичка - третячка за маковий пирожок \" .\n",
      "dst: проміняйте мне бычка – третячка за маковый пирожок \" .\n",
      "\n",
      "src: тії согласились ; так вона їм говорить : \" смотріть же , ви не їжте зараз сього пирожка , а тоді уже розломите , як я заведу бичка за могилку ; а то ви його ні за що не розломите \" .\n",
      "dst: ишо поглумиться ; так она им говорит : \" смотріть то , мы не ешьте сейчас сего пирожка , а тогда уже розломите , как мной заведу бычка за могилу ; а то мы его ни за что не розломите \" .\n",
      "\n",
      "src: бачите вже - лисичка таки собі була розумна , що хоть кого да обманить .\n",
      "dst: вижу уже – лисичка таки себе была умная , что хоть кого че обманить .\n",
      "\n",
      "src: тії хлопці так і зробили , а лисичка як зайшла за могилу , да зараз у ліс і повернула , щоб на дорозі не догнали ; прийшла у ліс да і зробила собі санки да й їде .\n",
      "dst: ишо парни так и сделали , а лисичка как зашла за могилу , че сейчас во лес и вернула , чтобы по дороге не погнали ; пришла во лес че и сделала себе санки че и едет .\n",
      "\n",
      "src: коли йде вовчик : \" здорова була , лисичко - сестричко ! \"\n",
      "dst: когда идет вовчик : \" здоровая была , лисичко – сестричка ! \"\n",
      "\n",
      "src: - \" здоров , вовчику - братику ! \"\n",
      "dst: – \" здоровье , вовчику – братику ! \"\n",
      "\n",
      "src: - \" де се ти узяла собі і бичка і санки ? \"\n",
      "dst: – \" куда ой ты взяла себе и бычка и санки ? \"\n",
      "\n",
      "src: - \" е !\n",
      "dst: – \" ьн !\n",
      "\n",
      "src: зробила \" .\n",
      "dst: сделала \" .\n",
      "\n",
      "src: - \" підвези ж і мене \" .\n",
      "dst: – \" підвези же и меня \" .\n",
      "\n",
      "src: - \" е , вовчику !\n",
      "dst: – \" ьн , вовчику !\n",
      "\n",
      "src: не можна \" .\n",
      "dst: не можно \" .\n",
      "\n",
      "src: - \" мені хоть одну ніжку \" .\n",
      "dst: – \" мне хоть одну ножку \" .\n",
      "\n",
      "src: - \" одну можна \" .\n",
      "dst: – \" одну можно \" .\n",
      "\n",
      "src: він і положив , да од'їхавши немного і просить , щоби іще одну положить .\n",
      "dst: он и положил , че од'їхавши конешно и просит , чтобы еще одну возмет .\n",
      "\n",
      "src: \" не можна , братику !\n",
      "dst: \" не можно , братику !\n",
      "\n",
      "src: боюсь , щоб ти саней не зламав \" .\n",
      "dst: боюсь , чтобы ты саней не сломал \" .\n",
      "\n",
      "src: - \" ні , сестричко , не бійся ! \"\n",
      "dst: – \" ни , сестричка , не бойся ! \"\n",
      "\n",
      "src: - да і положив другую ніжку .\n",
      "dst: – че и положил одну ножку .\n",
      "\n",
      "src: тілько що од'їхали , як щось і тріснуло .\n",
      "dst: токмо что од'їхали , как что-то и треснуло .\n",
      "\n",
      "src: \" бачиш , вовчику , уже і ламаєш санки \" .\n",
      "dst: \" видишь , вовчику , уже и ламаєш санки \" .\n",
      "\n",
      "src: - \" ні , лисичко !\n",
      "dst: – \" ни , лисичко !\n",
      "\n",
      "src: се у мене був орішок , так я розкусив \" .\n",
      "dst: ой во меня был орішок , так мной розкусив \" .\n",
      "\n",
      "src: да просить оп'ять , щоб і третю ногу положить ; лисичка і ту пустила , да тілько що оп'ять од'їхали , аж щось уже дужче тріснуло .\n",
      "dst: че просит оп'ять , чтобы и третью ногу возмет ; лисичка и ту пустила , че токмо что оп'ять од'їхали , аж что-то уже сильней треснуло .\n",
      "\n",
      "src: лисичка закричала : \" ох , лишечко !\n",
      "dst: лисичка закричала : \" ой , лишечко !\n",
      "\n",
      "src: ти ж мені , братику , зовсім зламаєш санки \" .\n",
      "dst: ты же мне , братику , совсем зламаєш санки \" .\n",
      "\n",
      "src: - \" ні , лисичко , се я орішок розкусив \" .\n",
      "dst: – \" ни , лисичко , ой мной орішок розкусив \" .\n",
      "\n",
      "src: - \" дай же і мені , бачиш який , що сам їж , а мені і не даєш \" .\n",
      "dst: – \" дай то и мне , видишь который , что сам ел , а мне и не даешь \" .\n",
      "\n",
      "src: - \" нема уже більше , а я б дав \" .\n",
      "dst: – \" нету уже больше , а мной бы дал \" .\n",
      "\n",
      "src: да і просить оп'ять , щоб пустила положить і послідню ногу .\n",
      "dst: че и просит оп'ять , чтобы пустила возмет и послідню ногу .\n",
      "\n",
      "src: лисичка і согласилась .\n",
      "dst: лисичка и согласилась .\n",
      "\n",
      "src: так він тілько що положив ногу , як санки зовсім розламались .\n",
      "dst: так он токмо что положил ногу , как санки совсем розламались .\n",
      "\n",
      "src: тоді вже лисичка так на його розсердилась , що і сама не знала щоб робила !\n",
      "dst: тогда уже лисичка так по его розсердилась , что и сама не знала чтобы делала !\n",
      "\n",
      "src: а як отошло серце , вона і каже : \" іди ж , ледащо !\n",
      "dst: а как отошло сердце , она и говорит : \" иди же , лодырь !\n",
      "\n",
      "src: да нарубай дерева , щоб нам оп'ять ізробить санки ; тільки рубавши кажи так : \" рубайся ж , дерево , і криве і пряме \" .\n",
      "dst: че нарубай деревья , чтобы нам оп'ять ізробить санки ; только рубавши говори так : \" рубайся же , дерево , и кривое и прямое \" .\n",
      "\n",
      "src: він і пішов да й каже усе : \" рубайся ж , дерево , усе пряме да пряме ! \"\n",
      "dst: он и пошел че и говорит всё : \" рубайся же , дерево , всё прямое че прямое ! \"\n",
      "\n",
      "src: нарубавши і приносить ; лисичка увидала , що дерево не таке , як їй нужно , оп'ять розсердилась .\n",
      "dst: нарубавши и приносит ; лисичка увидала , что дерево не такое , как им надо , оп'ять розсердилась .\n",
      "\n",
      "src: \" ти , - говорить , - не казав , видно , так , як я тобі веліла ! \"\n",
      "dst: \" ты , – говорит , – не говорил , видно , так , как мной тебе велела ! \"\n",
      "\n",
      "src: - \" ні , я усе теє казав , що ти мені казала \" .\n",
      "dst: – \" ни , мной всё Эх говорил , что ты мне говорила \" .\n",
      "\n",
      "src: - \" да чомусь не таке рубалось ?\n",
      "dst: – \" че почему-то не такое рубалось ?\n",
      "\n",
      "src: ну , сиди ж ти тут , а я сама піду нарубаю \" , - да і пішла у ліс .\n",
      "dst: ну , сиди же ты здесь , а мной сама пойду нарубаю \" , – че и пошла во лес .\n",
      "\n",
      "src: а вовк дивиться , що він сам остався ; узяв да проїв у бичка дірку да виїв усе в середині , а напускав туда горобців да ще соломою заткнув , поставив бичка , а сам і втік .\n",
      "dst: а волк смотрит , что он сам остался ; взял че проїв во бычка дыру че виїв всё во середине , а напускав туда воробьёв че ещe соломой заткнул , поставил бычка , а сам и сбежал .\n",
      "\n",
      "src: аж лисичка приходить , зробила санки да й сіла і стала поганять : \" гей , бичок - третячок ! \"\n",
      "dst: аж лисичка приходит , сделала санки че и присела и стала поганять : \" гей , бычок – третячок ! \"\n",
      "\n",
      "src: тілько він не везе .\n",
      "dst: токмо он не увозит .\n",
      "\n",
      "src: от вона встала , щоб поправить : може , що не так запряжено ; да , не хотячи , одоткнула солому , а оттуда так і сипнули горобці летіти .\n",
      "dst: из она встала , чтобы поправит : может , что не так запряжено ; че , не вздумал , одоткнула солому , а туды так и сипнули воробьи лететь .\n",
      "\n",
      "src: вона уже тоді побачила , що бичок неживий ; покинула його да й пішла .\n",
      "dst: она уже тогда увидела , что бычок неживой ; покинула его че и пошла .\n",
      "\n",
      "src: легла на дорозі , аж дивиться - їде мужик з рибою ; вона і притворилась , що здохла .\n",
      "dst: легла по дороге , аж смотрит – едет мужик со рыбой ; она и притворилась , что сдохла .\n",
      "\n",
      "src: от мужик і говорить : \" возьму я оцю лисицю , обдеру да хоть шапку собі зошью \" .\n",
      "dst: из мужик и говорит : \" возьму мной ихнюю лисицу , обдеру че хоть шапку себе зошью \" .\n",
      "\n",
      "src: узяв да і положив ззаді у воза .\n",
      "dst: взял че и положил взади во телега .\n",
      "\n",
      "src: вона замітила , що мужик не смотрить , стала ногами викидувать рибу з воза , а когда побачила , що навикидала уже багато , тоди потихесеньку і сама злізла ; сіла біля риби да і їсть собі , - коли біжить оп'ять той самий вовчик .\n",
      "dst: она заметила , что мужик не смотрить , стала ногами викидувать рыбу со телега , а .когда увидела , что навикидала уже много , тоды потихесеньку и сама слезла ; присела возле рыбы че и ест себе , – когда бежит оп'ять тот самый вовчик .\n",
      "\n",
      "src: побачивши , що вона їсть рибу , прибіг до їй да й каже : \" здорово була , лисичко - сестричко !\n",
      "dst: увидев , что она ест рыбу , прибежал к им че и говорит : \" здорово была , лисичко – сестричка !\n",
      "\n",
      "src: де се ти набрала стільки риби ? \"\n",
      "dst: куда ой ты набрала столько рыбы ? \"\n",
      "\n",
      "src: вона каже : \" наловила , вовчику - братику ! \"\n",
      "dst: она говорит : \" наловила , вовчику – братику ! \"\n",
      "\n",
      "src: а собі на думці : \" подожди , і я зроблю з тобою таку штуку , як і ти зо мною \" .\n",
      "dst: а себе по мнении : \" подожди , и мной сделаю со тобой такую штуку , как и ты За мной \" .\n",
      "\n",
      "src: - \" як же ти ловила ? \"\n",
      "dst: – \" как то ты ловила ? \"\n",
      "\n",
      "src: - \" так , вовчику , уложила хвостик в ополонку , вожу тихенько да й кажу ; ловися , рибка , мала і велика !\n",
      "dst: – \" так , вовчику , уложила хвостик во прорубь , вожу тихонько че и говорю ; ловися , рыбка , имела и большая !\n",
      "\n",
      "src: коли хочеш , то і ти піди , налови собі \" .\n",
      "dst: когда хочешь , то и ты пойди , налови себе \" .\n",
      "\n",
      "src: він побіг да зробив так , як казала лисичка .\n",
      "dst: он побежал че сделал так , как говорила лисичка .\n",
      "\n",
      "src: а лисичка стала за деревом да й дивиться ; коли у вовчика зовсім хвостик примерз , вона тоді побігла в село да й кричить : \" ідіть , люди , вбивайте вовка ! \"\n",
      "dst: а лисичка стала за деревом че и смотрит ; когда во вовчика совсем хвостик примерз , она тогда побежала во село че и кричит : \" идите , люди , убивайте волка ! \"\n",
      "\n",
      "src: люди набігли з кольями да і убили його .\n",
      "dst: люди полезли со кольями че и убили его .\n",
      "\n",
      "src: \n",
      "dst: \n",
      "\n"
     ]
    }
   ],
   "source": [
    "for sentence in uk_sentences:\n",
    "    print(\"src: {}\\ndst: {}\\n\".format(sentence, translate(sentence)))"
   ]
  },
  {
   "cell_type": "markdown",
   "metadata": {
    "id": "_5GrChTeFqIg"
   },
   "source": [
    "# Дополнительные материалы"
   ]
  },
  {
   "cell_type": "markdown",
   "metadata": {
    "id": "HwffxpbmFwDh"
   },
   "source": [
    "## Почитать\n",
    "### База:  \n",
    "[On word embeddings - Part 1, Sebastian Ruder](http://ruder.io/word-embeddings-1/)  \n",
    "[Deep Learning, NLP, and Representations, Christopher Olah](http://colah.github.io/posts/2014-07-NLP-RNNs-Representations/)  \n",
    "\n",
    "### Как кластеризовать смыслы многозначных слов:  \n",
    "[Making Sense of Word Embeddings (2016), Pelevina et al](http://anthology.aclweb.org/W16-1620)    \n",
    "\n",
    "### Как оценивать эмбеддинги\n",
    "[Evaluation methods for unsupervised word embeddings (2015), T. Schnabel](http://www.aclweb.org/anthology/D15-1036)  \n",
    "[Intrinsic Evaluation of Word Vectors Fails to Predict Extrinsic Performance (2016), B. Chiu](https://www.aclweb.org/anthology/W/W16/W16-2501.pdf)  \n",
    "[Problems With Evaluation of Word Embeddings Using Word Similarity Tasks (2016), M. Faruqui](https://arxiv.org/pdf/1605.02276.pdf)  \n",
    "[Improving Reliability of Word Similarity Evaluation by Redesigning Annotation Task and Performance Measure (2016), Oded Avraham, Yoav Goldberg](https://arxiv.org/pdf/1611.03641.pdf)  \n",
    "[Evaluating Word Embeddings Using a Representative Suite of Practical Tasks (2016), N. Nayak](https://cs.stanford.edu/~angeli/papers/2016-acl-veceval.pdf)  \n",
    "\n",
    "\n",
    "## Посмотреть\n",
    "[Word Vector Representations: word2vec, Lecture 2, cs224n](https://www.youtube.com/watch?v=ERibwqs9p38)"
   ]
  }
 ],
 "metadata": {
  "colab": {
   "collapsed_sections": [],
   "name": "HW-3-colab.ipynb",
   "provenance": [
    {
     "file_id": "1o65wrq6RYgWyyMvNP8r9ZknXBniDoXrn",
     "timestamp": 1617176736329
    }
   ]
  },
  "kernelspec": {
   "display_name": "Python 3",
   "language": "python",
   "name": "python3"
  },
  "language_info": {
   "codemirror_mode": {
    "name": "ipython",
    "version": 3
   },
   "file_extension": ".py",
   "mimetype": "text/x-python",
   "name": "python",
   "nbconvert_exporter": "python",
   "pygments_lexer": "ipython3",
   "version": "3.8.8"
  }
 },
 "nbformat": 4,
 "nbformat_minor": 1
}
