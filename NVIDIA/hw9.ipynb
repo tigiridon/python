{
 "cells": [
  {
   "cell_type": "markdown",
   "metadata": {},
   "source": [
    "###### From SAV to LOVE"
   ]
  },
  {
   "cell_type": "markdown",
   "metadata": {},
   "source": [
    "# HW №9"
   ]
  },
  {
   "cell_type": "markdown",
   "metadata": {
    "id": "yhG7jEa5fyi0"
   },
   "source": [
    "## Введение в обработку естественного языка\n",
    "### Урок 9. Языковое моделирование\n",
    "### Практическое задание"
   ]
  },
  {
   "cell_type": "markdown",
   "metadata": {
    "id": "izCB0AnEfykY"
   },
   "source": [
    "**Взять набор данных на ваше усмотрение (стихи/прозу) или что-то ещё для примера можно так же использовать прикреплённый Евгений Онегин**\n",
    "<ol>\n",
    "<li>поэкспериментировать с посимвольным подходом</li>\n",
    "<li>проверить насколько изменится качество генерации текста при токенизации по словам</li>\n",
    "</ol>"
   ]
  },
  {
   "cell_type": "markdown",
   "metadata": {
    "id": "2J2k9rvmBEG8"
   },
   "source": [
    "### Import TensorFlow and other libraries"
   ]
  },
  {
   "cell_type": "code",
   "execution_count": 1,
   "metadata": {
    "executionInfo": {
     "elapsed": 6853,
     "status": "ok",
     "timestamp": 1620114915808,
     "user": {
      "displayName": "Alexey Tankov",
      "photoUrl": "",
      "userId": "01729535101672247421"
     },
     "user_tz": -180
    },
    "id": "yG_n40gFzf9s"
   },
   "outputs": [],
   "source": [
    "import tensorflow as tf\n",
    "\n",
    "import numpy as np\n",
    "\n",
    "import os\n",
    "import datetime\n",
    "\n",
    "import re\n",
    "import nltk\n",
    "from nltk import word_tokenize\n",
    "\n",
    "import matplotlib.pyplot as plt"
   ]
  },
  {
   "cell_type": "code",
   "execution_count": 2,
   "metadata": {
    "colab": {
     "base_uri": "https://localhost:8080/"
    },
    "executionInfo": {
     "elapsed": 6837,
     "status": "ok",
     "timestamp": 1620114915809,
     "user": {
      "displayName": "Alexey Tankov",
      "photoUrl": "",
      "userId": "01729535101672247421"
     },
     "user_tz": -180
    },
    "id": "tZBZ_RPxsXI7",
    "outputId": "4646b7f0-fdb2-41d7-b4bd-71f9c58c4a41"
   },
   "outputs": [
    {
     "name": "stdout",
     "output_type": "stream",
     "text": [
      "[nltk_data] Downloading package punkt to /root/nltk_data...\n",
      "[nltk_data]   Package punkt is already up-to-date!\n"
     ]
    },
    {
     "data": {
      "text/plain": [
       "True"
      ]
     },
     "execution_count": 2,
     "metadata": {
      "tags": []
     },
     "output_type": "execute_result"
    }
   ],
   "source": [
    "nltk.download('punkt')"
   ]
  },
  {
   "cell_type": "code",
   "execution_count": 3,
   "metadata": {
    "colab": {
     "base_uri": "https://localhost:8080/"
    },
    "executionInfo": {
     "elapsed": 7571,
     "status": "ok",
     "timestamp": 1620114916559,
     "user": {
      "displayName": "Alexey Tankov",
      "photoUrl": "",
      "userId": "01729535101672247421"
     },
     "user_tz": -180
    },
    "id": "-ZvRFfUZgPB7",
    "outputId": "f20c750c-dd34-4419-c473-50b7b49dc5d8"
   },
   "outputs": [
    {
     "name": "stdout",
     "output_type": "stream",
     "text": [
      "Found GPU at: /device:GPU:0\n"
     ]
    }
   ],
   "source": [
    "%tensorflow_version 2.x\n",
    "import tensorflow as tf\n",
    "device_name = tf.test.gpu_device_name()\n",
    "if device_name != '/device:GPU:0':\n",
    "  raise SystemError('GPU device not found')\n",
    "print('Found GPU at: {}'.format(device_name))"
   ]
  },
  {
   "cell_type": "markdown",
   "metadata": {
    "id": "ZbMne4SRAr_3"
   },
   "source": [
    "### Download the dataset"
   ]
  },
  {
   "cell_type": "code",
   "execution_count": 4,
   "metadata": {
    "colab": {
     "base_uri": "https://localhost:8080/"
    },
    "executionInfo": {
     "elapsed": 7558,
     "status": "ok",
     "timestamp": 1620114916562,
     "user": {
      "displayName": "Alexey Tankov",
      "photoUrl": "",
      "userId": "01729535101672247421"
     },
     "user_tz": -180
    },
    "id": "S-iABhnZndL0",
    "outputId": "9cfde664-4f3c-4617-ecf1-00fb3c9dda9e"
   },
   "outputs": [
    {
     "name": "stdout",
     "output_type": "stream",
     "text": [
      "Drive already mounted at /content/gdrive; to attempt to forcibly remount, call drive.mount(\"/content/gdrive\", force_remount=True).\n"
     ]
    }
   ],
   "source": [
    "from google.colab import drive\n",
    "drive.mount('/content/gdrive')"
   ]
  },
  {
   "cell_type": "markdown",
   "metadata": {
    "id": "7Trg_s25BdPn"
   },
   "source": [
    "### Read the data"
   ]
  },
  {
   "cell_type": "code",
   "execution_count": 5,
   "metadata": {
    "executionInfo": {
     "elapsed": 7393,
     "status": "ok",
     "timestamp": 1620114916563,
     "user": {
      "displayName": "Alexey Tankov",
      "photoUrl": "",
      "userId": "01729535101672247421"
     },
     "user_tz": -180
    },
    "id": "-an5tHuaRmqD"
   },
   "outputs": [],
   "source": [
    "path_to_file = '/content/gdrive/MyDrive/Colab Notebooks/my_projects/hagakure.txt'\n",
    "# path_to_file = 'hagakure.txt'"
   ]
  },
  {
   "cell_type": "code",
   "execution_count": 6,
   "metadata": {
    "colab": {
     "base_uri": "https://localhost:8080/"
    },
    "executionInfo": {
     "elapsed": 6738,
     "status": "ok",
     "timestamp": 1620114916564,
     "user": {
      "displayName": "Alexey Tankov",
      "photoUrl": "",
      "userId": "01729535101672247421"
     },
     "user_tz": -180
    },
    "id": "aavnuByVymwK",
    "outputId": "9b459266-9201-4d52-d1d5-967530faa7c2"
   },
   "outputs": [
    {
     "name": "stdout",
     "output_type": "stream",
     "text": [
      "Length of text: 227034 characters\n"
     ]
    }
   ],
   "source": [
    "text = open(path_to_file, 'rb').read().decode(encoding='Windows-1251')\n",
    "# length of text is the number of characters in it\n",
    "print('Length of text: {} characters'.format(len(text)))"
   ]
  },
  {
   "cell_type": "code",
   "execution_count": 7,
   "metadata": {
    "colab": {
     "base_uri": "https://localhost:8080/"
    },
    "executionInfo": {
     "elapsed": 6343,
     "status": "ok",
     "timestamp": 1620114916564,
     "user": {
      "displayName": "Alexey Tankov",
      "photoUrl": "",
      "userId": "01729535101672247421"
     },
     "user_tz": -180
    },
    "id": "Duhg9NrUymwO",
    "outputId": "f005b201-952a-40f7-931e-b94589545c95"
   },
   "outputs": [
    {
     "name": "stdout",
     "output_type": "stream",
     "text": [
      "Цунэтомо Ямамото\n",
      "\n",
      "Хагакурэ\n",
      "\n",
      "\n",
      "\n",
      "\n",
      "\n",
      "Из Книги Первой\n",
      "\n",
      "Хотя самурай должен прежде всего чтить Путь Самурая, не вызывает сомнений, что все мы небрежительны. Поэтому, если в наши дни спросить: «В чем подлинный смысл Пути Самурая?», лишь немногие ответят без \n"
     ]
    }
   ],
   "source": [
    "print(text[:250])"
   ]
  },
  {
   "cell_type": "markdown",
   "metadata": {
    "id": "wzgan0YqF97p"
   },
   "source": [
    "### Prepare the text"
   ]
  },
  {
   "cell_type": "markdown",
   "metadata": {
    "id": "JZgEX5nIrx_p"
   },
   "source": [
    "## 1. поэкспериментировать с посимвольным подходом"
   ]
  },
  {
   "cell_type": "code",
   "execution_count": 10,
   "metadata": {
    "executionInfo": {
     "elapsed": 451,
     "status": "ok",
     "timestamp": 1620114918121,
     "user": {
      "displayName": "Alexey Tankov",
      "photoUrl": "",
      "userId": "01729535101672247421"
     },
     "user_tz": -180
    },
    "id": "_fQRsWzCAL7u"
   },
   "outputs": [],
   "source": [
    "text = re.sub('[^А-Яа-я0-9,.\\t\\n]+', ' ', text)"
   ]
  },
  {
   "cell_type": "code",
   "execution_count": 11,
   "metadata": {
    "colab": {
     "base_uri": "https://localhost:8080/"
    },
    "executionInfo": {
     "elapsed": 821,
     "status": "ok",
     "timestamp": 1620114919032,
     "user": {
      "displayName": "Alexey Tankov",
      "photoUrl": "",
      "userId": "01729535101672247421"
     },
     "user_tz": -180
    },
    "id": "IlCgQBRVymwR",
    "outputId": "41b5d7f1-98a3-45a3-9208-8634454c0343"
   },
   "outputs": [
    {
     "name": "stdout",
     "output_type": "stream",
     "text": [
      "There are 74 unique characters\n"
     ]
    }
   ],
   "source": [
    "# Map unique characters to indices\n",
    "vocab = sorted(set(text))\n",
    "print ('There are {} unique characters'.format(len(vocab)))"
   ]
  },
  {
   "cell_type": "code",
   "execution_count": 12,
   "metadata": {
    "executionInfo": {
     "elapsed": 519,
     "status": "ok",
     "timestamp": 1620114920282,
     "user": {
      "displayName": "Alexey Tankov",
      "photoUrl": "",
      "userId": "01729535101672247421"
     },
     "user_tz": -180
    },
    "id": "oPBjHFrzXMwf"
   },
   "outputs": [],
   "source": [
    "char2idx = {c:i for i, c in enumerate(vocab)}\n",
    "idx2char = np.array(vocab)"
   ]
  },
  {
   "cell_type": "code",
   "execution_count": 13,
   "metadata": {
    "colab": {
     "base_uri": "https://localhost:8080/"
    },
    "executionInfo": {
     "elapsed": 789,
     "status": "ok",
     "timestamp": 1620114921643,
     "user": {
      "displayName": "Alexey Tankov",
      "photoUrl": "",
      "userId": "01729535101672247421"
     },
     "user_tz": -180
    },
    "id": "Ni46jp2p7YBW",
    "outputId": "6648a3ad-fc53-4dc5-953a-818c616f9aab"
   },
   "outputs": [
    {
     "name": "stdout",
     "output_type": "stream",
     "text": [
      "Vector:\n",
      "\n",
      " '\\t':   0,\n",
      " '\\n':   1,\n",
      " ' ' :   2,\n",
      " ',' :   3,\n",
      " '.' :   4,\n",
      " '0' :   5,\n",
      " '1' :   6,\n",
      " '2' :   7,\n",
      " '3' :   8,\n",
      " '4' :   9,\n",
      " '5' :  10,\n",
      " '6' :  11,\n",
      " '7' :  12,\n",
      " '8' :  13,\n",
      " '9' :  14,\n",
      " 'А' :  15,\n",
      " 'Б' :  16,\n",
      " 'В' :  17,\n",
      " 'Г' :  18,\n",
      " 'Д' :  19,\n",
      " 'Е' :  20,\n",
      " 'Ж' :  21,\n",
      " 'З' :  22,\n",
      " 'И' :  23,\n",
      " 'К' :  24,\n",
      " 'Л' :  25,\n",
      " 'М' :  26,\n",
      " 'Н' :  27,\n",
      " 'О' :  28,\n",
      " 'П' :  29,\n",
      " 'Р' :  30,\n",
      " 'С' :  31,\n",
      " 'Т' :  32,\n",
      " 'У' :  33,\n",
      " 'Ф' :  34,\n",
      " 'Х' :  35,\n",
      " 'Ц' :  36,\n",
      " 'Ч' :  37,\n",
      " 'Ш' :  38,\n",
      " 'Э' :  39,\n",
      " 'Ю' :  40,\n",
      " 'Я' :  41,\n",
      " 'а' :  42,\n",
      " 'б' :  43,\n",
      " 'в' :  44,\n",
      " 'г' :  45,\n",
      " 'д' :  46,\n",
      " 'е' :  47,\n",
      " 'ж' :  48,\n",
      " 'з' :  49,\n",
      " 'и' :  50,\n",
      " 'й' :  51,\n",
      " 'к' :  52,\n",
      " 'л' :  53,\n",
      " 'м' :  54,\n",
      " 'н' :  55,\n",
      " 'о' :  56,\n",
      " 'п' :  57,\n",
      " 'р' :  58,\n",
      " 'с' :  59,\n",
      " 'т' :  60,\n",
      " 'у' :  61,\n",
      " 'ф' :  62,\n",
      " 'х' :  63,\n",
      " 'ц' :  64,\n",
      " 'ч' :  65,\n",
      " 'ш' :  66,\n",
      " 'щ' :  67,\n",
      " 'ъ' :  68,\n",
      " 'ы' :  69,\n",
      " 'ь' :  70,\n",
      " 'э' :  71,\n",
      " 'ю' :  72,\n",
      " 'я' :  73,\n"
     ]
    }
   ],
   "source": [
    "print('Vector:\\n')\n",
    "for char,_ in zip(char2idx, range(len(vocab))):\n",
    "   print(' {:4s}: {:3d},'.format(repr(char), char2idx[char]))"
   ]
  },
  {
   "cell_type": "code",
   "execution_count": 14,
   "metadata": {
    "colab": {
     "base_uri": "https://localhost:8080/"
    },
    "executionInfo": {
     "elapsed": 595,
     "status": "ok",
     "timestamp": 1620114923021,
     "user": {
      "displayName": "Alexey Tankov",
      "photoUrl": "",
      "userId": "01729535101672247421"
     },
     "user_tz": -180
    },
    "id": "IalZLbvOzf-F",
    "outputId": "3ba31134-c58e-4f1f-80d7-0b3ac7e69c24"
   },
   "outputs": [
    {
     "name": "stdout",
     "output_type": "stream",
     "text": [
      "'Цунэтомо Ямамото\\n\\nХагакурэ\\n\\n\\n\\n\\n\\nИз Книги Первой\\n\\nХотя самурай должен прежде всего чтить Путь Самурая'\n",
      " mapped to integers:\n",
      " [36 61 55 71 60 56 54 56  2 41 54 42 54 56 60 56  1  1 35 42 45 42 52 61\n",
      " 58 71  1  1  1  1  1  1 23 49  2 24 55 50 45 50  2 29 47 58 44 56 51  1\n",
      "  1 35 56 60 73  2 59 42 54 61 58 42 51  2 46 56 53 48 47 55  2 57 58 47\n",
      " 48 46 47  2 44 59 47 45 56  2 65 60 50 60 70  2 29 61 60 70  2 31 42 54\n",
      " 61 58 42 73]\n"
     ]
    }
   ],
   "source": [
    "text_as_int = np.array([char2idx[c] for c in text])\n",
    "print ('{}\\n mapped to integers:\\n {}'.format(repr(text[:100]), text_as_int[:100]))"
   ]
  },
  {
   "cell_type": "code",
   "execution_count": 15,
   "metadata": {
    "colab": {
     "base_uri": "https://localhost:8080/"
    },
    "executionInfo": {
     "elapsed": 969,
     "status": "ok",
     "timestamp": 1620114923973,
     "user": {
      "displayName": "Alexey Tankov",
      "photoUrl": "",
      "userId": "01729535101672247421"
     },
     "user_tz": -180
    },
    "id": "l4hkDU3i7ozi",
    "outputId": "71449aa8-a518-4794-8088-c89fa01c5c90"
   },
   "outputs": [
    {
     "name": "stdout",
     "output_type": "stream",
     "text": [
      "(223835,)\n"
     ]
    }
   ],
   "source": [
    "# Comfirm the shapes are what we expect:\n",
    "print(text_as_int.shape)"
   ]
  },
  {
   "cell_type": "markdown",
   "metadata": {
    "id": "-SCzrorEGlL2"
   },
   "source": [
    "### Build the model"
   ]
  },
  {
   "cell_type": "code",
   "execution_count": 16,
   "metadata": {
    "executionInfo": {
     "elapsed": 390,
     "status": "ok",
     "timestamp": 1620114924289,
     "user": {
      "displayName": "Alexey Tankov",
      "photoUrl": "",
      "userId": "01729535101672247421"
     },
     "user_tz": -180
    },
    "id": "PGSmJ6sIeC64"
   },
   "outputs": [],
   "source": [
    "batch_size = 64\n",
    "buffer_size = 10000\n",
    "embedding_dim = 256\n",
    "seq_length = 100\n",
    "examples_per_epoch = len(text)//seq_length\n",
    "# lr = 0.001 # will use default for Adam optimizer\n",
    "rnn_units = 1024\n",
    "vocab_size = len(vocab)"
   ]
  },
  {
   "cell_type": "code",
   "execution_count": 17,
   "metadata": {
    "executionInfo": {
     "elapsed": 650,
     "status": "ok",
     "timestamp": 1620114925266,
     "user": {
      "displayName": "Alexey Tankov",
      "photoUrl": "",
      "userId": "01729535101672247421"
     },
     "user_tz": -180
    },
    "id": "UWJ_nPK4bfk_"
   },
   "outputs": [],
   "source": [
    "char_dataset = tf.data.Dataset.from_tensor_slices(text_as_int)\n",
    "sequences = char_dataset.batch(seq_length+1, drop_remainder=True)"
   ]
  },
  {
   "cell_type": "code",
   "execution_count": 18,
   "metadata": {
    "colab": {
     "base_uri": "https://localhost:8080/"
    },
    "executionInfo": {
     "elapsed": 650,
     "status": "ok",
     "timestamp": 1620114925850,
     "user": {
      "displayName": "Alexey Tankov",
      "photoUrl": "",
      "userId": "01729535101672247421"
     },
     "user_tz": -180
    },
    "id": "ozC3eeV1Gyj9",
    "outputId": "465721df-ac96-49bd-c252-e184029f6670"
   },
   "outputs": [
    {
     "name": "stdout",
     "output_type": "stream",
     "text": [
      "<MapDataset shapes: ((100,), (100,)), types: (tf.int64, tf.int64)>\n"
     ]
    }
   ],
   "source": [
    "def split_input_target(chunk):\n",
    "    input_text = chunk[:-1]\n",
    "    target_text = chunk[1:]\n",
    "    return input_text, target_text\n",
    "\n",
    "dataset = sequences.map(split_input_target)\n",
    "print(dataset)"
   ]
  },
  {
   "cell_type": "code",
   "execution_count": 19,
   "metadata": {
    "colab": {
     "base_uri": "https://localhost:8080/"
    },
    "executionInfo": {
     "elapsed": 531,
     "status": "ok",
     "timestamp": 1620114926224,
     "user": {
      "displayName": "Alexey Tankov",
      "photoUrl": "",
      "userId": "01729535101672247421"
     },
     "user_tz": -180
    },
    "id": "ReA2mZOse_l-",
    "outputId": "e288cf61-b820-4faa-e4c9-d8b60cfdec05"
   },
   "outputs": [
    {
     "name": "stdout",
     "output_type": "stream",
     "text": [
      "Input data:  'Цунэтомо Ямамото\\n\\nХагакурэ\\n\\n\\n\\n\\n\\nИз Книги Первой\\n\\nХотя самурай должен прежде всего чтить Путь Самурая'\n",
      "Target data: 'унэтомо Ямамото\\n\\nХагакурэ\\n\\n\\n\\n\\n\\nИз Книги Первой\\n\\nХотя самурай должен прежде всего чтить Путь Самурая,'\n"
     ]
    }
   ],
   "source": [
    "# Print the first example input and target values:\n",
    "for input_example, target_example in  dataset.take(1):\n",
    "    print('Input data: ', repr(''.join(idx2char[input_example.numpy()])))\n",
    "    print('Target data:', repr(''.join(idx2char[target_example.numpy()])))"
   ]
  },
  {
   "cell_type": "code",
   "execution_count": 20,
   "metadata": {
    "colab": {
     "base_uri": "https://localhost:8080/"
    },
    "executionInfo": {
     "elapsed": 703,
     "status": "ok",
     "timestamp": 1620114926851,
     "user": {
      "displayName": "Alexey Tankov",
      "photoUrl": "",
      "userId": "01729535101672247421"
     },
     "user_tz": -180
    },
    "id": "X4mWh_b7fXmZ",
    "outputId": "960cd73b-af43-4b8c-ba29-176ee09a83ac"
   },
   "outputs": [
    {
     "data": {
      "text/plain": [
       "<BatchDataset shapes: ((64, 100), (64, 100)), types: (tf.int64, tf.int64)>"
      ]
     },
     "execution_count": 20,
     "metadata": {
      "tags": []
     },
     "output_type": "execute_result"
    }
   ],
   "source": [
    "dataset = dataset.shuffle(buffer_size).batch(batch_size, drop_remainder=True)\n",
    "\n",
    "dataset"
   ]
  },
  {
   "cell_type": "code",
   "execution_count": 21,
   "metadata": {
    "executionInfo": {
     "elapsed": 899,
     "status": "ok",
     "timestamp": 1620114927607,
     "user": {
      "displayName": "Alexey Tankov",
      "photoUrl": "",
      "userId": "01729535101672247421"
     },
     "user_tz": -180
    },
    "id": "MtCrdfzEI2N0"
   },
   "outputs": [],
   "source": [
    "def build_model(vocab_size, embedding_dim, rnn_units, batch_size):\n",
    "    model = tf.keras.Sequential([\n",
    "        tf.keras.layers.Embedding(vocab_size, embedding_dim,\n",
    "                                  batch_input_shape=[batch_size, None]),\n",
    "        tf.keras.layers.GRU(rnn_units,\n",
    "                            return_sequences=True,\n",
    "                            stateful=True,\n",
    "                            recurrent_initializer='glorot_uniform'),\n",
    "        tf.keras.layers.GRU(rnn_units,\n",
    "                            return_sequences=True,\n",
    "                            stateful=True,\n",
    "                            recurrent_initializer='glorot_uniform'),\n",
    "        tf.keras.layers.Dropout(0.2),\n",
    "        tf.keras.layers.Dense(vocab_size)\n",
    "    ])\n",
    "    return model"
   ]
  },
  {
   "cell_type": "code",
   "execution_count": 22,
   "metadata": {
    "executionInfo": {
     "elapsed": 1235,
     "status": "ok",
     "timestamp": 1620114928516,
     "user": {
      "displayName": "Alexey Tankov",
      "photoUrl": "",
      "userId": "01729535101672247421"
     },
     "user_tz": -180
    },
    "id": "wwsrpOik5zhv"
   },
   "outputs": [],
   "source": [
    "model = build_model(\n",
    "    vocab_size = len(vocab),\n",
    "    embedding_dim=embedding_dim,\n",
    "    rnn_units=rnn_units,\n",
    "    batch_size=batch_size)"
   ]
  },
  {
   "cell_type": "markdown",
   "metadata": {
    "id": "MV1ygVhiHGjz"
   },
   "source": [
    "### Run the model"
   ]
  },
  {
   "cell_type": "code",
   "execution_count": 23,
   "metadata": {
    "colab": {
     "base_uri": "https://localhost:8080/"
    },
    "executionInfo": {
     "elapsed": 7921,
     "status": "ok",
     "timestamp": 1620114937111,
     "user": {
      "displayName": "Alexey Tankov",
      "photoUrl": "",
      "userId": "01729535101672247421"
     },
     "user_tz": -180
    },
    "id": "C-_70kKAPrPU",
    "outputId": "11a79f10-ba46-46f2-9509-b3840028470d"
   },
   "outputs": [
    {
     "name": "stdout",
     "output_type": "stream",
     "text": [
      "(64, 100, 74) # (batch_size, sequence_length, vocab_size)\n"
     ]
    }
   ],
   "source": [
    "# Check the output shape\n",
    "for input_example_batch, target_example_batch in dataset.take(1):\n",
    "    example_batch_predictions = model(input_example_batch)\n",
    "    print(example_batch_predictions.shape, \"# (batch_size, sequence_length, vocab_size)\")"
   ]
  },
  {
   "cell_type": "code",
   "execution_count": 24,
   "metadata": {
    "colab": {
     "base_uri": "https://localhost:8080/"
    },
    "executionInfo": {
     "elapsed": 6978,
     "status": "ok",
     "timestamp": 1620114937112,
     "user": {
      "displayName": "Alexey Tankov",
      "photoUrl": "",
      "userId": "01729535101672247421"
     },
     "user_tz": -180
    },
    "id": "vPGmAAXmVLGC",
    "outputId": "22517303-9270-4e49-e510-700d98b0777e"
   },
   "outputs": [
    {
     "name": "stdout",
     "output_type": "stream",
     "text": [
      "Model: \"sequential\"\n",
      "_________________________________________________________________\n",
      "Layer (type)                 Output Shape              Param #   \n",
      "=================================================================\n",
      "embedding (Embedding)        (64, None, 256)           18944     \n",
      "_________________________________________________________________\n",
      "gru (GRU)                    (64, None, 1024)          3938304   \n",
      "_________________________________________________________________\n",
      "gru_1 (GRU)                  (64, None, 1024)          6297600   \n",
      "_________________________________________________________________\n",
      "dropout (Dropout)            (64, None, 1024)          0         \n",
      "_________________________________________________________________\n",
      "dense (Dense)                (64, None, 74)            75850     \n",
      "=================================================================\n",
      "Total params: 10,330,698\n",
      "Trainable params: 10,330,698\n",
      "Non-trainable params: 0\n",
      "_________________________________________________________________\n"
     ]
    }
   ],
   "source": [
    "model.summary()"
   ]
  },
  {
   "cell_type": "code",
   "execution_count": 25,
   "metadata": {
    "executionInfo": {
     "elapsed": 6543,
     "status": "ok",
     "timestamp": 1620114937112,
     "user": {
      "displayName": "Alexey Tankov",
      "photoUrl": "",
      "userId": "01729535101672247421"
     },
     "user_tz": -180
    },
    "id": "sifBRRkIfoka"
   },
   "outputs": [],
   "source": [
    "sampled_indices = tf.random.categorical(example_batch_predictions[0], num_samples=1)\n",
    "sampled_indices = tf.squeeze(sampled_indices, axis=-1).numpy()"
   ]
  },
  {
   "cell_type": "markdown",
   "metadata": {
    "id": "LJL0Q0YPY6Ee"
   },
   "source": [
    "## Train the model"
   ]
  },
  {
   "cell_type": "code",
   "execution_count": 26,
   "metadata": {
    "colab": {
     "base_uri": "https://localhost:8080/"
    },
    "executionInfo": {
     "elapsed": 5574,
     "status": "ok",
     "timestamp": 1620114937113,
     "user": {
      "displayName": "Alexey Tankov",
      "photoUrl": "",
      "userId": "01729535101672247421"
     },
     "user_tz": -180
    },
    "id": "4HrXTACTdzY-",
    "outputId": "02fa9b09-7390-46b7-fb21-83e5b0a8eb32"
   },
   "outputs": [
    {
     "name": "stdout",
     "output_type": "stream",
     "text": [
      "Prediction shape:  (64, 100, 74)  # (batch_size, sequence_length, vocab_size)\n",
      "Loss:       4.305231\n"
     ]
    }
   ],
   "source": [
    "def loss(labels, logits):\n",
    "    return tf.keras.losses.sparse_categorical_crossentropy(labels, logits, from_logits=True)\n",
    "\n",
    "# def accuracy(labels, logits):\n",
    "#     return tf.keras.metrics.sparse_categorical_accuracy(labels, logits)\n",
    "\n",
    "example_batch_loss = loss(target_example_batch, example_batch_predictions)\n",
    "# example_batch_acc  = accuracy(target_example_batch, example_batch_predictions)\n",
    "print(\"Prediction shape: \", example_batch_predictions.shape, \" # (batch_size, sequence_length, vocab_size)\")\n",
    "print(\"Loss:      \", example_batch_loss.numpy().mean())\n",
    "# print(\"Accuracy:      \", example_batch_acc.numpy().mean())"
   ]
  },
  {
   "cell_type": "code",
   "execution_count": 27,
   "metadata": {
    "executionInfo": {
     "elapsed": 5216,
     "status": "ok",
     "timestamp": 1620114937114,
     "user": {
      "displayName": "Alexey Tankov",
      "photoUrl": "",
      "userId": "01729535101672247421"
     },
     "user_tz": -180
    },
    "id": "DDl1_Een6rL0"
   },
   "outputs": [],
   "source": [
    "optimizer = tf.keras.optimizers.Adam() \n",
    "model.compile(optimizer=optimizer, loss=loss)"
   ]
  },
  {
   "cell_type": "markdown",
   "metadata": {
    "id": "ieSJdchZggUj"
   },
   "source": [
    "### Configure checkpoints"
   ]
  },
  {
   "cell_type": "code",
   "execution_count": 28,
   "metadata": {
    "executionInfo": {
     "elapsed": 4226,
     "status": "ok",
     "timestamp": 1620114937114,
     "user": {
      "displayName": "Alexey Tankov",
      "photoUrl": "",
      "userId": "01729535101672247421"
     },
     "user_tz": -180
    },
    "id": "W6fWTriUZP-n"
   },
   "outputs": [],
   "source": [
    "checkpoint_dir = './checkpoints'+ datetime.datetime.now().strftime(\"_%Y.%m.%d-%H:%M:%S\")\n",
    "checkpoint_prefix = os.path.join(checkpoint_dir, \"ckpt_{epoch}\")\n",
    "\n",
    "checkpoint_callback=tf.keras.callbacks.ModelCheckpoint(\n",
    "    filepath=checkpoint_prefix,\n",
    "    save_weights_only=True)"
   ]
  },
  {
   "cell_type": "markdown",
   "metadata": {
    "id": "3Ky3F_BhgkTW"
   },
   "source": [
    "### Execute the training"
   ]
  },
  {
   "cell_type": "code",
   "execution_count": 29,
   "metadata": {
    "executionInfo": {
     "elapsed": 3217,
     "status": "ok",
     "timestamp": 1620114937115,
     "user": {
      "displayName": "Alexey Tankov",
      "photoUrl": "",
      "userId": "01729535101672247421"
     },
     "user_tz": -180
    },
    "id": "7yGBE2zxMMHs"
   },
   "outputs": [],
   "source": [
    "epochs = 100"
   ]
  },
  {
   "cell_type": "code",
   "execution_count": 30,
   "metadata": {
    "colab": {
     "base_uri": "https://localhost:8080/"
    },
    "executionInfo": {
     "elapsed": 514839,
     "status": "ok",
     "timestamp": 1620115449162,
     "user": {
      "displayName": "Alexey Tankov",
      "photoUrl": "",
      "userId": "01729535101672247421"
     },
     "user_tz": -180
    },
    "id": "UK-hmKjYVoll",
    "outputId": "409c1eaf-b840-4b3f-9ee6-efbbcf89dd7b"
   },
   "outputs": [
    {
     "name": "stdout",
     "output_type": "stream",
     "text": [
      "Epoch 1/100\n",
      "34/34 [==============================] - 7s 132ms/step - loss: 3.9561\n",
      "Epoch 2/100\n",
      "34/34 [==============================] - 5s 135ms/step - loss: 3.0538\n",
      "Epoch 3/100\n",
      "34/34 [==============================] - 5s 138ms/step - loss: 2.6199\n",
      "Epoch 4/100\n",
      "34/34 [==============================] - 5s 140ms/step - loss: 2.4133\n",
      "Epoch 5/100\n",
      "34/34 [==============================] - 5s 142ms/step - loss: 2.2703\n",
      "Epoch 6/100\n",
      "34/34 [==============================] - 5s 142ms/step - loss: 2.1335\n",
      "Epoch 7/100\n",
      "34/34 [==============================] - 5s 141ms/step - loss: 1.9960\n",
      "Epoch 8/100\n",
      "34/34 [==============================] - 5s 140ms/step - loss: 1.8773\n",
      "Epoch 9/100\n",
      "34/34 [==============================] - 5s 138ms/step - loss: 1.7687\n",
      "Epoch 10/100\n",
      "34/34 [==============================] - 5s 136ms/step - loss: 1.6726\n",
      "Epoch 11/100\n",
      "34/34 [==============================] - 5s 135ms/step - loss: 1.5805\n",
      "Epoch 12/100\n",
      "34/34 [==============================] - 5s 133ms/step - loss: 1.5034\n",
      "Epoch 13/100\n",
      "34/34 [==============================] - 5s 133ms/step - loss: 1.4251\n",
      "Epoch 14/100\n",
      "34/34 [==============================] - 5s 132ms/step - loss: 1.3528\n",
      "Epoch 15/100\n",
      "34/34 [==============================] - 5s 132ms/step - loss: 1.2793\n",
      "Epoch 16/100\n",
      "34/34 [==============================] - 5s 132ms/step - loss: 1.2059\n",
      "Epoch 17/100\n",
      "34/34 [==============================] - 5s 133ms/step - loss: 1.1400\n",
      "Epoch 18/100\n",
      "34/34 [==============================] - 5s 134ms/step - loss: 1.0687\n",
      "Epoch 19/100\n",
      "34/34 [==============================] - 5s 135ms/step - loss: 0.9910\n",
      "Epoch 20/100\n",
      "34/34 [==============================] - 5s 136ms/step - loss: 0.9128\n",
      "Epoch 21/100\n",
      "34/34 [==============================] - 5s 137ms/step - loss: 0.8342\n",
      "Epoch 22/100\n",
      "34/34 [==============================] - 5s 137ms/step - loss: 0.7621\n",
      "Epoch 23/100\n",
      "34/34 [==============================] - 5s 137ms/step - loss: 0.6960\n",
      "Epoch 24/100\n",
      "34/34 [==============================] - 5s 138ms/step - loss: 0.6222\n",
      "Epoch 25/100\n",
      "34/34 [==============================] - 5s 137ms/step - loss: 0.5677\n",
      "Epoch 26/100\n",
      "34/34 [==============================] - 5s 137ms/step - loss: 0.5175\n",
      "Epoch 27/100\n",
      "34/34 [==============================] - 5s 136ms/step - loss: 0.4704\n",
      "Epoch 28/100\n",
      "34/34 [==============================] - 5s 136ms/step - loss: 0.4318\n",
      "Epoch 29/100\n",
      "34/34 [==============================] - 5s 136ms/step - loss: 0.3960\n",
      "Epoch 30/100\n",
      "34/34 [==============================] - 5s 135ms/step - loss: 0.3708\n",
      "Epoch 31/100\n",
      "34/34 [==============================] - 5s 135ms/step - loss: 0.3492\n",
      "Epoch 32/100\n",
      "34/34 [==============================] - 5s 135ms/step - loss: 0.3329\n",
      "Epoch 33/100\n",
      "34/34 [==============================] - 5s 135ms/step - loss: 0.3144\n",
      "Epoch 34/100\n",
      "34/34 [==============================] - 5s 136ms/step - loss: 0.3005\n",
      "Epoch 35/100\n",
      "34/34 [==============================] - 5s 135ms/step - loss: 0.2895\n",
      "Epoch 36/100\n",
      "34/34 [==============================] - 5s 135ms/step - loss: 0.2829\n",
      "Epoch 37/100\n",
      "34/34 [==============================] - 5s 135ms/step - loss: 0.2735\n",
      "Epoch 38/100\n",
      "34/34 [==============================] - 5s 135ms/step - loss: 0.2682\n",
      "Epoch 39/100\n",
      "34/34 [==============================] - 5s 135ms/step - loss: 0.2589\n",
      "Epoch 40/100\n",
      "34/34 [==============================] - 5s 135ms/step - loss: 0.2497\n",
      "Epoch 41/100\n",
      "34/34 [==============================] - 5s 135ms/step - loss: 0.2458\n",
      "Epoch 42/100\n",
      "34/34 [==============================] - 5s 135ms/step - loss: 0.2371\n",
      "Epoch 43/100\n",
      "34/34 [==============================] - 5s 135ms/step - loss: 0.2361\n",
      "Epoch 44/100\n",
      "34/34 [==============================] - 5s 135ms/step - loss: 0.2269\n",
      "Epoch 45/100\n",
      "34/34 [==============================] - 5s 135ms/step - loss: 0.2261\n",
      "Epoch 46/100\n",
      "34/34 [==============================] - 5s 135ms/step - loss: 0.2195\n",
      "Epoch 47/100\n",
      "34/34 [==============================] - 5s 136ms/step - loss: 0.2162\n",
      "Epoch 48/100\n",
      "34/34 [==============================] - 5s 136ms/step - loss: 0.2122\n",
      "Epoch 49/100\n",
      "34/34 [==============================] - 5s 136ms/step - loss: 0.2128\n",
      "Epoch 50/100\n",
      "34/34 [==============================] - 5s 136ms/step - loss: 0.2100\n",
      "Epoch 51/100\n",
      "34/34 [==============================] - 5s 136ms/step - loss: 0.2059\n",
      "Epoch 52/100\n",
      "34/34 [==============================] - 5s 136ms/step - loss: 0.2055\n",
      "Epoch 53/100\n",
      "34/34 [==============================] - 5s 136ms/step - loss: 0.2016\n",
      "Epoch 54/100\n",
      "34/34 [==============================] - 5s 136ms/step - loss: 0.2005\n",
      "Epoch 55/100\n",
      "34/34 [==============================] - 5s 136ms/step - loss: 0.1972\n",
      "Epoch 56/100\n",
      "34/34 [==============================] - 5s 137ms/step - loss: 0.1967\n",
      "Epoch 57/100\n",
      "34/34 [==============================] - 5s 136ms/step - loss: 0.1921\n",
      "Epoch 58/100\n",
      "34/34 [==============================] - 5s 136ms/step - loss: 0.1917\n",
      "Epoch 59/100\n",
      "34/34 [==============================] - 5s 136ms/step - loss: 0.1892\n",
      "Epoch 60/100\n",
      "34/34 [==============================] - 5s 136ms/step - loss: 0.1901\n",
      "Epoch 61/100\n",
      "34/34 [==============================] - 5s 136ms/step - loss: 0.1874\n",
      "Epoch 62/100\n",
      "34/34 [==============================] - 5s 136ms/step - loss: 0.1878\n",
      "Epoch 63/100\n",
      "34/34 [==============================] - 5s 136ms/step - loss: 0.1866\n",
      "Epoch 64/100\n",
      "34/34 [==============================] - 5s 136ms/step - loss: 0.1841\n",
      "Epoch 65/100\n",
      "34/34 [==============================] - 5s 136ms/step - loss: 0.1841\n",
      "Epoch 66/100\n",
      "34/34 [==============================] - 5s 136ms/step - loss: 0.1813\n",
      "Epoch 67/100\n",
      "34/34 [==============================] - 5s 137ms/step - loss: 0.1798\n",
      "Epoch 68/100\n",
      "34/34 [==============================] - 5s 136ms/step - loss: 0.1810\n",
      "Epoch 69/100\n",
      "34/34 [==============================] - 5s 136ms/step - loss: 0.1772\n",
      "Epoch 70/100\n",
      "34/34 [==============================] - 5s 136ms/step - loss: 0.1781\n",
      "Epoch 71/100\n",
      "34/34 [==============================] - 5s 137ms/step - loss: 0.1772\n",
      "Epoch 72/100\n",
      "34/34 [==============================] - 5s 136ms/step - loss: 0.1718\n",
      "Epoch 73/100\n",
      "34/34 [==============================] - 5s 136ms/step - loss: 0.1714\n",
      "Epoch 74/100\n",
      "34/34 [==============================] - 5s 136ms/step - loss: 0.1753\n",
      "Epoch 75/100\n",
      "34/34 [==============================] - 5s 136ms/step - loss: 0.1728\n",
      "Epoch 76/100\n",
      "34/34 [==============================] - 5s 136ms/step - loss: 0.1722\n",
      "Epoch 77/100\n",
      "34/34 [==============================] - 5s 136ms/step - loss: 0.1701\n",
      "Epoch 78/100\n",
      "34/34 [==============================] - 5s 136ms/step - loss: 0.1673\n",
      "Epoch 79/100\n",
      "34/34 [==============================] - 5s 136ms/step - loss: 0.1667\n",
      "Epoch 80/100\n",
      "34/34 [==============================] - 5s 136ms/step - loss: 0.1661\n",
      "Epoch 81/100\n",
      "34/34 [==============================] - 5s 137ms/step - loss: 0.1675\n",
      "Epoch 82/100\n",
      "34/34 [==============================] - 5s 137ms/step - loss: 0.1696\n",
      "Epoch 83/100\n",
      "34/34 [==============================] - 5s 136ms/step - loss: 0.1651\n",
      "Epoch 84/100\n",
      "34/34 [==============================] - 5s 136ms/step - loss: 0.1650\n",
      "Epoch 85/100\n",
      "34/34 [==============================] - 5s 136ms/step - loss: 0.1630\n",
      "Epoch 86/100\n",
      "34/34 [==============================] - 5s 136ms/step - loss: 0.1655\n",
      "Epoch 87/100\n",
      "34/34 [==============================] - 5s 136ms/step - loss: 0.1641\n",
      "Epoch 88/100\n",
      "34/34 [==============================] - 5s 136ms/step - loss: 0.1648\n",
      "Epoch 89/100\n",
      "34/34 [==============================] - 5s 136ms/step - loss: 0.1609\n",
      "Epoch 90/100\n",
      "34/34 [==============================] - 5s 136ms/step - loss: 0.1608\n",
      "Epoch 91/100\n",
      "34/34 [==============================] - 5s 136ms/step - loss: 0.1613\n",
      "Epoch 92/100\n",
      "34/34 [==============================] - 5s 136ms/step - loss: 0.1615\n",
      "Epoch 93/100\n",
      "34/34 [==============================] - 5s 136ms/step - loss: 0.1628\n",
      "Epoch 94/100\n",
      "34/34 [==============================] - 5s 136ms/step - loss: 0.1613\n",
      "Epoch 95/100\n",
      "34/34 [==============================] - 5s 136ms/step - loss: 0.1627\n",
      "Epoch 96/100\n",
      "34/34 [==============================] - 5s 136ms/step - loss: 0.1615\n",
      "Epoch 97/100\n",
      "34/34 [==============================] - 5s 136ms/step - loss: 0.1590\n",
      "Epoch 98/100\n",
      "34/34 [==============================] - 5s 136ms/step - loss: 0.1593\n",
      "Epoch 99/100\n",
      "34/34 [==============================] - 5s 136ms/step - loss: 0.1594\n",
      "Epoch 100/100\n",
      "34/34 [==============================] - 5s 136ms/step - loss: 0.1578\n"
     ]
    }
   ],
   "source": [
    "history = model.fit(dataset, epochs=epochs, callbacks=[checkpoint_callback]) "
   ]
  },
  {
   "cell_type": "code",
   "execution_count": 31,
   "metadata": {
    "colab": {
     "base_uri": "https://localhost:8080/",
     "height": 567
    },
    "executionInfo": {
     "elapsed": 515202,
     "status": "ok",
     "timestamp": 1620115449935,
     "user": {
      "displayName": "Alexey Tankov",
      "photoUrl": "",
      "userId": "01729535101672247421"
     },
     "user_tz": -180
    },
    "id": "XZvCFrH9HiRV",
    "outputId": "f995bde8-d88b-4aff-cdf6-a877afeae781"
   },
   "outputs": [
    {
     "data": {
      "image/png": "[encoded data removed]",
      "text/plain": [
       "<Figure size 864x648 with 1 Axes>"
      ]
     },
     "metadata": {
      "needs_background": "light",
      "tags": []
     },
     "output_type": "display_data"
    }
   ],
   "source": [
    "plt.figure(figsize=(12, 9))\n",
    "plt.plot(history.history['loss'], 'g')\n",
    "plt.title('Model Loss')\n",
    "plt.ylabel('Loss')\n",
    "plt.xlabel('Epoch')\n",
    "plt.legend(['Train'], loc='upper right')\n",
    "plt.show()"
   ]
  },
  {
   "cell_type": "markdown",
   "metadata": {
    "id": "kKkD5M6eoSiN"
   },
   "source": [
    "## Generate text"
   ]
  },
  {
   "cell_type": "code",
   "execution_count": 32,
   "metadata": {
    "colab": {
     "base_uri": "https://localhost:8080/",
     "height": 35
    },
    "executionInfo": {
     "elapsed": 514148,
     "status": "ok",
     "timestamp": 1620115449936,
     "user": {
      "displayName": "Alexey Tankov",
      "photoUrl": "",
      "userId": "01729535101672247421"
     },
     "user_tz": -180
    },
    "id": "zk2WJ2-XjkGz",
    "outputId": "a04dbdd0-415f-462e-e0c1-480dd9ba64bf"
   },
   "outputs": [
    {
     "data": {
      "application/vnd.google.colaboratory.intrinsic+json": {
       "type": "string"
      },
      "text/plain": [
       "'./checkpoints_2021.05.04-07:55:38/ckpt_100'"
      ]
     },
     "execution_count": 32,
     "metadata": {
      "tags": []
     },
     "output_type": "execute_result"
    }
   ],
   "source": [
    "tf.train.latest_checkpoint(checkpoint_dir)"
   ]
  },
  {
   "cell_type": "code",
   "execution_count": 44,
   "metadata": {
    "executionInfo": {
     "elapsed": 717,
     "status": "ok",
     "timestamp": 1620117546653,
     "user": {
      "displayName": "Alexey Tankov",
      "photoUrl": "",
      "userId": "01729535101672247421"
     },
     "user_tz": -180
    },
    "id": "fmdXom_vn5ry"
   },
   "outputs": [],
   "source": [
    "# !rm -rf checkpoints_2021.05.04-07:55:38"
   ]
  },
  {
   "cell_type": "code",
   "execution_count": 34,
   "metadata": {
    "executionInfo": {
     "elapsed": 512585,
     "status": "ok",
     "timestamp": 1620115450279,
     "user": {
      "displayName": "Alexey Tankov",
      "photoUrl": "",
      "userId": "01729535101672247421"
     },
     "user_tz": -180
    },
    "id": "LycQ-ot_jjyu"
   },
   "outputs": [],
   "source": [
    "model = build_model(vocab_size, embedding_dim, rnn_units, batch_size=1)\n",
    "model.load_weights(tf.train.latest_checkpoint(checkpoint_dir))\n",
    "model.build(tf.TensorShape([1, None]))"
   ]
  },
  {
   "cell_type": "code",
   "execution_count": 35,
   "metadata": {
    "colab": {
     "base_uri": "https://localhost:8080/"
    },
    "executionInfo": {
     "elapsed": 510433,
     "status": "ok",
     "timestamp": 1620115450280,
     "user": {
      "displayName": "Alexey Tankov",
      "photoUrl": "",
      "userId": "01729535101672247421"
     },
     "user_tz": -180
    },
    "id": "71xa6jnYVrAN",
    "outputId": "010c00d5-84fe-4b6b-d93b-e43e1c8c258f"
   },
   "outputs": [
    {
     "name": "stdout",
     "output_type": "stream",
     "text": [
      "Model: \"sequential_1\"\n",
      "_________________________________________________________________\n",
      "Layer (type)                 Output Shape              Param #   \n",
      "=================================================================\n",
      "embedding_1 (Embedding)      (1, None, 256)            18944     \n",
      "_________________________________________________________________\n",
      "gru_2 (GRU)                  (1, None, 1024)           3938304   \n",
      "_________________________________________________________________\n",
      "gru_3 (GRU)                  (1, None, 1024)           6297600   \n",
      "_________________________________________________________________\n",
      "dropout_1 (Dropout)          (1, None, 1024)           0         \n",
      "_________________________________________________________________\n",
      "dense_1 (Dense)              (1, None, 74)             75850     \n",
      "=================================================================\n",
      "Total params: 10,330,698\n",
      "Trainable params: 10,330,698\n",
      "Non-trainable params: 0\n",
      "_________________________________________________________________\n"
     ]
    }
   ],
   "source": [
    "model.summary()"
   ]
  },
  {
   "cell_type": "code",
   "execution_count": 36,
   "metadata": {
    "executionInfo": {
     "elapsed": 509973,
     "status": "ok",
     "timestamp": 1620115450280,
     "user": {
      "displayName": "Alexey Tankov",
      "photoUrl": "",
      "userId": "01729535101672247421"
     },
     "user_tz": -180
    },
    "id": "WvuwZBX5Ogfd"
   },
   "outputs": [],
   "source": [
    "def generate_text(model, start_string):\n",
    "    \n",
    "    print('Generating with seed: \"' + start_string + '\"')\n",
    "    \n",
    "    num_generate = 350\n",
    "\n",
    "    input_eval = [char2idx[s] for s in start_string]\n",
    "    input_eval = tf.expand_dims(input_eval, 0)\n",
    "    \n",
    "    temperature = 0.1\n",
    "\n",
    "    text_generated = []\n",
    "\n",
    "    model.reset_states()\n",
    "    for i in range(num_generate):\n",
    "        predictions = model(input_eval)\n",
    "        predictions = tf.squeeze(predictions, 0)\n",
    "        predictions = predictions / temperature\n",
    "        predicted_id = tf.random.categorical(predictions, num_samples=1)[-1,0].numpy()\n",
    "        input_eval = tf.expand_dims([predicted_id], 0)\n",
    "        text_generated.append(idx2char[predicted_id])\n",
    "\n",
    "    return (start_string + ''.join(text_generated))"
   ]
  },
  {
   "cell_type": "code",
   "execution_count": 37,
   "metadata": {
    "colab": {
     "base_uri": "https://localhost:8080/"
    },
    "executionInfo": {
     "elapsed": 511175,
     "status": "ok",
     "timestamp": 1620115452692,
     "user": {
      "displayName": "Alexey Tankov",
      "photoUrl": "",
      "userId": "01729535101672247421"
     },
     "user_tz": -180
    },
    "id": "ktovv0RFhrkn",
    "outputId": "850c16c5-7d61-4231-a1b7-47e734529546"
   },
   "outputs": [
    {
     "name": "stdout",
     "output_type": "stream",
     "text": [
      "Generating with seed: \"Подлинный самурай никогда не должен расслабляться и падать духом.\"\n",
      "Подлинный самурай никогда не должен расслабляться и падать духом. Нужно стать безумным и одержимым. Ведь если на Пути Самурая ты будешь благоразумным, ты быстро одолел их. Хотя Канносукэ тогда исполнилось пятнадцать лет. Когда ему сообщили о своем клане, с ним нужно говорить очень строго, были справится со своей обязанностью .\n",
      "\n",
      "\n",
      " \n",
      "\n",
      "Во времена господина Кацусигэ были слуги, которые, будь они изучать и собраться с\n"
     ]
    }
   ],
   "source": [
    "print(generate_text(model, start_string=u\"Подлинный самурай никогда не должен расслабляться и падать духом.\"))"
   ]
  },
  {
   "cell_type": "markdown",
   "metadata": {
    "id": "EfSVAiy8r-ZN"
   },
   "source": [
    "## 2. проверить насколько изменится качество генерации текста при токенизации по словам"
   ]
  },
  {
   "cell_type": "markdown",
   "metadata": {
    "id": "17DnDtpuvT2k"
   },
   "source": [
    "### Prepare the text"
   ]
  },
  {
   "cell_type": "code",
   "execution_count": 78,
   "metadata": {
    "colab": {
     "base_uri": "https://localhost:8080/"
    },
    "executionInfo": {
     "elapsed": 754,
     "status": "ok",
     "timestamp": 1620118817450,
     "user": {
      "displayName": "Alexey Tankov",
      "photoUrl": "",
      "userId": "01729535101672247421"
     },
     "user_tz": -180
    },
    "id": "vML1pDFNPJxh",
    "outputId": "4a865656-8eeb-4df8-9393-ce3a8c4a843b"
   },
   "outputs": [
    {
     "name": "stdout",
     "output_type": "stream",
     "text": [
      "There are 9093 unique words\n"
     ]
    }
   ],
   "source": [
    "word_tokens = word_tokenize(text)\n",
    "word_vocab = sorted(set(word_tokens))\n",
    "print ('There are {} unique words'.format(len(word_vocab)))\n",
    "\n",
    "idx2word = np.array(word_vocab)\n",
    "word2idx = {w: i for i, w in enumerate(word_vocab)}"
   ]
  },
  {
   "cell_type": "code",
   "execution_count": 79,
   "metadata": {
    "executionInfo": {
     "elapsed": 459,
     "status": "ok",
     "timestamp": 1620118817451,
     "user": {
      "displayName": "Alexey Tankov",
      "photoUrl": "",
      "userId": "01729535101672247421"
     },
     "user_tz": -180
    },
    "id": "bGYJmGo3wBbJ"
   },
   "outputs": [],
   "source": [
    "text_as_int = np.array([word2idx[w] for w in word_tokens])"
   ]
  },
  {
   "cell_type": "code",
   "execution_count": 80,
   "metadata": {
    "colab": {
     "base_uri": "https://localhost:8080/"
    },
    "executionInfo": {
     "elapsed": 619,
     "status": "ok",
     "timestamp": 1620118817822,
     "user": {
      "displayName": "Alexey Tankov",
      "photoUrl": "",
      "userId": "01729535101672247421"
     },
     "user_tz": -180
    },
    "id": "3-j8Em18wBhL",
    "outputId": "75d15ead-d2c1-4499-a8ba-61359894dddc"
   },
   "outputs": [
    {
     "name": "stdout",
     "output_type": "stream",
     "text": [
      "Input data:  'Цунэтомо Ямамото Хагакурэ Из Книги Первой Хотя самурай должен прежде всего чтить Путь Самурая , не вызывает сомнений , что все мы небрежительны . Поэтому , если в наши дни спросить В чем подлинный смысл Пути Самурая , лишь немногие ответят без промедления . А все потому , что никто заранее не готовит себя к ответу на такие вопросы . Это свидетельствует о том , что люди забывают о Пути . Небрежение опасно . Я постиг , что Путь Самурая это смерть . В ситуации или или без колебаний выбирай смерть . Это нетрудно . Исполнись решимости и действуй .'\n",
      "Target data: 'Ямамото Хагакурэ Из Книги Первой Хотя самурай должен прежде всего чтить Путь Самурая , не вызывает сомнений , что все мы небрежительны . Поэтому , если в наши дни спросить В чем подлинный смысл Пути Самурая , лишь немногие ответят без промедления . А все потому , что никто заранее не готовит себя к ответу на такие вопросы . Это свидетельствует о том , что люди забывают о Пути . Небрежение опасно . Я постиг , что Путь Самурая это смерть . В ситуации или или без колебаний выбирай смерть . Это нетрудно . Исполнись решимости и действуй . Только'\n"
     ]
    }
   ],
   "source": [
    "word_dataset = tf.data.Dataset.from_tensor_slices(text_as_int)\n",
    "sequences = word_dataset.batch(seq_length+1, drop_remainder=True)\n",
    "dataset = sequences.map(split_input_target)\n",
    "\n",
    "for input_example, target_example in dataset.take(1):\n",
    "    print('Input data: ', repr(' '.join(idx2word[input_example.numpy()])))\n",
    "    print('Target data:', repr(' '.join(idx2word[target_example.numpy()])))"
   ]
  },
  {
   "cell_type": "code",
   "execution_count": 81,
   "metadata": {
    "colab": {
     "base_uri": "https://localhost:8080/"
    },
    "executionInfo": {
     "elapsed": 939,
     "status": "ok",
     "timestamp": 1620118818326,
     "user": {
      "displayName": "Alexey Tankov",
      "photoUrl": "",
      "userId": "01729535101672247421"
     },
     "user_tz": -180
    },
    "id": "hrpaKs2nAJD-",
    "outputId": "c212e3ad-bfc4-4026-abaf-56c3b78bbea7"
   },
   "outputs": [
    {
     "data": {
      "text/plain": [
       "<BatchDataset shapes: ((64, 100), (64, 100)), types: (tf.int64, tf.int64)>"
      ]
     },
     "execution_count": 81,
     "metadata": {
      "tags": []
     },
     "output_type": "execute_result"
    }
   ],
   "source": [
    "dataset = dataset.shuffle(buffer_size).batch(batch_size, drop_remainder=True)\n",
    "dataset"
   ]
  },
  {
   "cell_type": "markdown",
   "metadata": {
    "id": "1Tz44wDfyHdG"
   },
   "source": [
    "### Build The Model"
   ]
  },
  {
   "cell_type": "code",
   "execution_count": 82,
   "metadata": {
    "executionInfo": {
     "elapsed": 1313,
     "status": "ok",
     "timestamp": 1620118819239,
     "user": {
      "displayName": "Alexey Tankov",
      "photoUrl": "",
      "userId": "01729535101672247421"
     },
     "user_tz": -180
    },
    "id": "QZNA5DeowBoj"
   },
   "outputs": [],
   "source": [
    "model = build_model(\n",
    "    vocab_size = len(word_vocab),\n",
    "    embedding_dim=embedding_dim,\n",
    "    rnn_units=rnn_units,\n",
    "    batch_size=batch_size)"
   ]
  },
  {
   "cell_type": "markdown",
   "metadata": {
    "id": "tMP8PeOIyEB3"
   },
   "source": [
    "### Run the model"
   ]
  },
  {
   "cell_type": "code",
   "execution_count": 83,
   "metadata": {
    "colab": {
     "base_uri": "https://localhost:8080/"
    },
    "executionInfo": {
     "elapsed": 488,
     "status": "ok",
     "timestamp": 1620118819240,
     "user": {
      "displayName": "Alexey Tankov",
      "photoUrl": "",
      "userId": "01729535101672247421"
     },
     "user_tz": -180
    },
    "id": "0FANnG8dwBtW",
    "outputId": "81eacf19-3487-4028-fbdd-deca04bef363"
   },
   "outputs": [
    {
     "name": "stdout",
     "output_type": "stream",
     "text": [
      "Model: \"sequential_4\"\n",
      "_________________________________________________________________\n",
      "Layer (type)                 Output Shape              Param #   \n",
      "=================================================================\n",
      "embedding_4 (Embedding)      (64, None, 256)           2327808   \n",
      "_________________________________________________________________\n",
      "gru_8 (GRU)                  (64, None, 1024)          3938304   \n",
      "_________________________________________________________________\n",
      "gru_9 (GRU)                  (64, None, 1024)          6297600   \n",
      "_________________________________________________________________\n",
      "dropout_4 (Dropout)          (64, None, 1024)          0         \n",
      "_________________________________________________________________\n",
      "dense_4 (Dense)              (64, None, 9093)          9320325   \n",
      "=================================================================\n",
      "Total params: 21,884,037\n",
      "Trainable params: 21,884,037\n",
      "Non-trainable params: 0\n",
      "_________________________________________________________________\n"
     ]
    }
   ],
   "source": [
    "model.summary()"
   ]
  },
  {
   "cell_type": "markdown",
   "metadata": {
    "id": "u5bZewafwaIM"
   },
   "source": [
    "### Configure checkpoints"
   ]
  },
  {
   "cell_type": "code",
   "execution_count": 84,
   "metadata": {
    "executionInfo": {
     "elapsed": 369,
     "status": "ok",
     "timestamp": 1620118820640,
     "user": {
      "displayName": "Alexey Tankov",
      "photoUrl": "",
      "userId": "01729535101672247421"
     },
     "user_tz": -180
    },
    "id": "8s2_eO7EwaIM"
   },
   "outputs": [],
   "source": [
    "checkpoint_dir = './checkpoints'+ datetime.datetime.now().strftime(\"_%Y.%m.%d-%H:%M:%S\")\n",
    "checkpoint_prefix = os.path.join(checkpoint_dir, \"ckpt_{epoch}\")\n",
    "\n",
    "checkpoint_callback=tf.keras.callbacks.ModelCheckpoint(\n",
    "    filepath=checkpoint_prefix,\n",
    "    save_weights_only=True)"
   ]
  },
  {
   "cell_type": "markdown",
   "metadata": {
    "id": "SYtJfZ7CzfFd"
   },
   "source": [
    "## Train the model"
   ]
  },
  {
   "cell_type": "code",
   "execution_count": 85,
   "metadata": {
    "executionInfo": {
     "elapsed": 520,
     "status": "ok",
     "timestamp": 1620118821889,
     "user": {
      "displayName": "Alexey Tankov",
      "photoUrl": "",
      "userId": "01729535101672247421"
     },
     "user_tz": -180
    },
    "id": "_vzTO627y4p4"
   },
   "outputs": [],
   "source": [
    "optimizer = tf.keras.optimizers.Adam() \n",
    "model.compile(optimizer=optimizer, loss=loss)"
   ]
  },
  {
   "cell_type": "code",
   "execution_count": 95,
   "metadata": {
    "executionInfo": {
     "elapsed": 536,
     "status": "ok",
     "timestamp": 1620120481663,
     "user": {
      "displayName": "Alexey Tankov",
      "photoUrl": "",
      "userId": "01729535101672247421"
     },
     "user_tz": -180
    },
    "id": "ygh5_1kYDqze"
   },
   "outputs": [],
   "source": [
    "epochs = 110 # 350"
   ]
  },
  {
   "cell_type": "code",
   "execution_count": 96,
   "metadata": {
    "colab": {
     "base_uri": "https://localhost:8080/"
    },
    "executionInfo": {
     "elapsed": 692209,
     "status": "ok",
     "timestamp": 1620121174753,
     "user": {
      "displayName": "Alexey Tankov",
      "photoUrl": "",
      "userId": "01729535101672247421"
     },
     "user_tz": -180
    },
    "id": "5vhyuwJ_xM04",
    "outputId": "f0c04fea-cfcd-4d35-923c-416b8add5391"
   },
   "outputs": [
    {
     "name": "stdout",
     "output_type": "stream",
     "text": [
      "Epoch 1/110\n",
      "6/6 [==============================] - 2s 242ms/step - loss: 0.4956\n",
      "Epoch 2/110\n",
      "6/6 [==============================] - 2s 245ms/step - loss: 0.4699\n",
      "Epoch 3/110\n",
      "6/6 [==============================] - 2s 246ms/step - loss: 0.4620\n",
      "Epoch 4/110\n",
      "6/6 [==============================] - 2s 245ms/step - loss: 0.4398\n",
      "Epoch 5/110\n",
      "6/6 [==============================] - 2s 247ms/step - loss: 0.4280\n",
      "Epoch 6/110\n",
      "6/6 [==============================] - 2s 246ms/step - loss: 0.4161\n",
      "Epoch 7/110\n",
      "6/6 [==============================] - 2s 248ms/step - loss: 0.3960\n",
      "Epoch 8/110\n",
      "6/6 [==============================] - 2s 247ms/step - loss: 0.3861\n",
      "Epoch 9/110\n",
      "6/6 [==============================] - 2s 248ms/step - loss: 0.3729\n",
      "Epoch 10/110\n",
      "6/6 [==============================] - 2s 247ms/step - loss: 0.3615\n",
      "Epoch 11/110\n",
      "6/6 [==============================] - 2s 249ms/step - loss: 0.3508\n",
      "Epoch 12/110\n",
      "6/6 [==============================] - 2s 250ms/step - loss: 0.3352\n",
      "Epoch 13/110\n",
      "6/6 [==============================] - 2s 249ms/step - loss: 0.3266\n",
      "Epoch 14/110\n",
      "6/6 [==============================] - 2s 246ms/step - loss: 0.3126\n",
      "Epoch 15/110\n",
      "6/6 [==============================] - 2s 247ms/step - loss: 0.3070\n",
      "Epoch 16/110\n",
      "6/6 [==============================] - 2s 250ms/step - loss: 0.2925\n",
      "Epoch 17/110\n",
      "6/6 [==============================] - 2s 248ms/step - loss: 0.2872\n",
      "Epoch 18/110\n",
      "6/6 [==============================] - 2s 249ms/step - loss: 0.2797\n",
      "Epoch 19/110\n",
      "6/6 [==============================] - 2s 245ms/step - loss: 0.2727\n",
      "Epoch 20/110\n",
      "6/6 [==============================] - 2s 249ms/step - loss: 0.2667\n",
      "Epoch 21/110\n",
      "6/6 [==============================] - 2s 248ms/step - loss: 0.2536\n",
      "Epoch 22/110\n",
      "6/6 [==============================] - 2s 250ms/step - loss: 0.2486\n",
      "Epoch 23/110\n",
      "6/6 [==============================] - 2s 247ms/step - loss: 0.2399\n",
      "Epoch 24/110\n",
      "6/6 [==============================] - 2s 248ms/step - loss: 0.2341\n",
      "Epoch 25/110\n",
      "6/6 [==============================] - 2s 248ms/step - loss: 0.2303\n",
      "Epoch 26/110\n",
      "6/6 [==============================] - 2s 251ms/step - loss: 0.2219\n",
      "Epoch 27/110\n",
      "6/6 [==============================] - 2s 247ms/step - loss: 0.2180\n",
      "Epoch 28/110\n",
      "6/6 [==============================] - 2s 249ms/step - loss: 0.2106\n",
      "Epoch 29/110\n",
      "6/6 [==============================] - 2s 248ms/step - loss: 0.2115\n",
      "Epoch 30/110\n",
      "6/6 [==============================] - 2s 247ms/step - loss: 0.2039\n",
      "Epoch 31/110\n",
      "6/6 [==============================] - 2s 252ms/step - loss: 0.1985\n",
      "Epoch 32/110\n",
      "6/6 [==============================] - 2s 247ms/step - loss: 0.1933\n",
      "Epoch 33/110\n",
      "6/6 [==============================] - 2s 252ms/step - loss: 0.1913\n",
      "Epoch 34/110\n",
      "6/6 [==============================] - 2s 252ms/step - loss: 0.1836\n",
      "Epoch 35/110\n",
      "6/6 [==============================] - 2s 249ms/step - loss: 0.1808\n",
      "Epoch 36/110\n",
      "6/6 [==============================] - 2s 252ms/step - loss: 0.1793\n",
      "Epoch 37/110\n",
      "6/6 [==============================] - 2s 248ms/step - loss: 0.1744\n",
      "Epoch 38/110\n",
      "6/6 [==============================] - 2s 248ms/step - loss: 0.1701\n",
      "Epoch 39/110\n",
      "6/6 [==============================] - 2s 253ms/step - loss: 0.1639\n",
      "Epoch 40/110\n",
      "6/6 [==============================] - 2s 250ms/step - loss: 0.1639\n",
      "Epoch 41/110\n",
      "6/6 [==============================] - 2s 249ms/step - loss: 0.1572\n",
      "Epoch 42/110\n",
      "6/6 [==============================] - 2s 248ms/step - loss: 0.1557\n",
      "Epoch 43/110\n",
      "6/6 [==============================] - 2s 250ms/step - loss: 0.1504\n",
      "Epoch 44/110\n",
      "6/6 [==============================] - 2s 249ms/step - loss: 0.1517\n",
      "Epoch 45/110\n",
      "6/6 [==============================] - 2s 261ms/step - loss: 0.1493\n",
      "Epoch 46/110\n",
      "6/6 [==============================] - 2s 249ms/step - loss: 0.1450\n",
      "Epoch 47/110\n",
      "6/6 [==============================] - 2s 251ms/step - loss: 0.1429\n",
      "Epoch 48/110\n",
      "6/6 [==============================] - 2s 248ms/step - loss: 0.1408\n",
      "Epoch 49/110\n",
      "6/6 [==============================] - 2s 248ms/step - loss: 0.1371\n",
      "Epoch 50/110\n",
      "6/6 [==============================] - 2s 253ms/step - loss: 0.1349\n",
      "Epoch 51/110\n",
      "6/6 [==============================] - 2s 250ms/step - loss: 0.1305\n",
      "Epoch 52/110\n",
      "6/6 [==============================] - 2s 250ms/step - loss: 0.1265\n",
      "Epoch 53/110\n",
      "6/6 [==============================] - 2s 253ms/step - loss: 0.1254\n",
      "Epoch 54/110\n",
      "6/6 [==============================] - 2s 250ms/step - loss: 0.1278\n",
      "Epoch 55/110\n",
      "6/6 [==============================] - 2s 254ms/step - loss: 0.1254\n",
      "Epoch 56/110\n",
      "6/6 [==============================] - 2s 250ms/step - loss: 0.1221\n",
      "Epoch 57/110\n",
      "6/6 [==============================] - 2s 252ms/step - loss: 0.1195\n",
      "Epoch 58/110\n",
      "6/6 [==============================] - 2s 252ms/step - loss: 0.1175\n",
      "Epoch 59/110\n",
      "6/6 [==============================] - 2s 253ms/step - loss: 0.1167\n",
      "Epoch 60/110\n",
      "6/6 [==============================] - 2s 251ms/step - loss: 0.1144\n",
      "Epoch 61/110\n",
      "6/6 [==============================] - 2s 249ms/step - loss: 0.1117\n",
      "Epoch 62/110\n",
      "6/6 [==============================] - 2s 252ms/step - loss: 0.1080\n",
      "Epoch 63/110\n",
      "6/6 [==============================] - 2s 247ms/step - loss: 0.1084\n",
      "Epoch 64/110\n",
      "6/6 [==============================] - 2s 255ms/step - loss: 0.1052\n",
      "Epoch 65/110\n",
      "6/6 [==============================] - 2s 257ms/step - loss: 0.1056\n",
      "Epoch 66/110\n",
      "6/6 [==============================] - 2s 251ms/step - loss: 0.1023\n",
      "Epoch 67/110\n",
      "6/6 [==============================] - 2s 250ms/step - loss: 0.1014\n",
      "Epoch 68/110\n",
      "6/6 [==============================] - 2s 249ms/step - loss: 0.1016\n",
      "Epoch 69/110\n",
      "6/6 [==============================] - 2s 255ms/step - loss: 0.1002\n",
      "Epoch 70/110\n",
      "6/6 [==============================] - 2s 248ms/step - loss: 0.0985\n",
      "Epoch 71/110\n",
      "6/6 [==============================] - 2s 249ms/step - loss: 0.0968\n",
      "Epoch 72/110\n",
      "6/6 [==============================] - 2s 250ms/step - loss: 0.0959\n",
      "Epoch 73/110\n",
      "6/6 [==============================] - 2s 252ms/step - loss: 0.0932\n",
      "Epoch 74/110\n",
      "6/6 [==============================] - 2s 249ms/step - loss: 0.0933\n",
      "Epoch 75/110\n",
      "6/6 [==============================] - 2s 248ms/step - loss: 0.0920\n",
      "Epoch 76/110\n",
      "6/6 [==============================] - 2s 253ms/step - loss: 0.0900\n",
      "Epoch 77/110\n",
      "6/6 [==============================] - 2s 252ms/step - loss: 0.0891\n",
      "Epoch 78/110\n",
      "6/6 [==============================] - 2s 246ms/step - loss: 0.0882\n",
      "Epoch 79/110\n",
      "6/6 [==============================] - 2s 249ms/step - loss: 0.0864\n",
      "Epoch 80/110\n",
      "6/6 [==============================] - 2s 249ms/step - loss: 0.0868\n",
      "Epoch 81/110\n",
      "6/6 [==============================] - 2s 252ms/step - loss: 0.0838\n",
      "Epoch 82/110\n",
      "6/6 [==============================] - 2s 250ms/step - loss: 0.0846\n",
      "Epoch 83/110\n",
      "6/6 [==============================] - 2s 251ms/step - loss: 0.0817\n",
      "Epoch 84/110\n",
      "6/6 [==============================] - 2s 251ms/step - loss: 0.0806\n",
      "Epoch 85/110\n",
      "6/6 [==============================] - 2s 249ms/step - loss: 0.0811\n",
      "Epoch 86/110\n",
      "6/6 [==============================] - 2s 252ms/step - loss: 0.0798\n",
      "Epoch 87/110\n",
      "6/6 [==============================] - 2s 252ms/step - loss: 0.0789\n",
      "Epoch 88/110\n",
      "6/6 [==============================] - 2s 252ms/step - loss: 0.0798\n",
      "Epoch 89/110\n",
      "6/6 [==============================] - 2s 251ms/step - loss: 0.0783\n",
      "Epoch 90/110\n",
      "6/6 [==============================] - 2s 251ms/step - loss: 0.0757\n",
      "Epoch 91/110\n",
      "6/6 [==============================] - 2s 249ms/step - loss: 0.0765\n",
      "Epoch 92/110\n",
      "6/6 [==============================] - 2s 248ms/step - loss: 0.0754\n",
      "Epoch 93/110\n",
      "6/6 [==============================] - 2s 250ms/step - loss: 0.0739\n",
      "Epoch 94/110\n",
      "6/6 [==============================] - 2s 252ms/step - loss: 0.0743\n",
      "Epoch 95/110\n",
      "6/6 [==============================] - 2s 254ms/step - loss: 0.0728\n",
      "Epoch 96/110\n",
      "6/6 [==============================] - 2s 254ms/step - loss: 0.0735\n",
      "Epoch 97/110\n",
      "6/6 [==============================] - 2s 250ms/step - loss: 0.0720\n",
      "Epoch 98/110\n",
      "6/6 [==============================] - 2s 249ms/step - loss: 0.0712\n",
      "Epoch 99/110\n",
      "6/6 [==============================] - 2s 248ms/step - loss: 0.0685\n",
      "Epoch 100/110\n",
      "6/6 [==============================] - 2s 252ms/step - loss: 0.0685\n",
      "Epoch 101/110\n",
      "6/6 [==============================] - 2s 252ms/step - loss: 0.0691\n",
      "Epoch 102/110\n",
      "6/6 [==============================] - 2s 253ms/step - loss: 0.0655\n",
      "Epoch 103/110\n",
      "6/6 [==============================] - 2s 249ms/step - loss: 0.0681\n",
      "Epoch 104/110\n",
      "6/6 [==============================] - 2s 252ms/step - loss: 0.0669\n",
      "Epoch 105/110\n",
      "6/6 [==============================] - 2s 251ms/step - loss: 0.0656\n",
      "Epoch 106/110\n",
      "6/6 [==============================] - 2s 248ms/step - loss: 0.0644\n",
      "Epoch 107/110\n",
      "6/6 [==============================] - 2s 252ms/step - loss: 0.0648\n",
      "Epoch 108/110\n",
      "6/6 [==============================] - 2s 255ms/step - loss: 0.0639\n",
      "Epoch 109/110\n",
      "6/6 [==============================] - 2s 250ms/step - loss: 0.0626\n",
      "Epoch 110/110\n",
      "6/6 [==============================] - 2s 250ms/step - loss: 0.0624\n"
     ]
    }
   ],
   "source": [
    "history_word = model.fit(dataset, epochs=epochs, callbacks=[checkpoint_callback]) "
   ]
  },
  {
   "cell_type": "code",
   "execution_count": 88,
   "metadata": {
    "colab": {
     "base_uri": "https://localhost:8080/",
     "height": 567
    },
    "executionInfo": {
     "elapsed": 746,
     "status": "ok",
     "timestamp": 1620119592063,
     "user": {
      "displayName": "Alexey Tankov",
      "photoUrl": "",
      "userId": "01729535101672247421"
     },
     "user_tz": -180
    },
    "id": "YunI3dyXxM06",
    "outputId": "e2642870-07a0-4332-aea6-b2b519c1f347"
   },
   "outputs": [
    {
     "data": {
      "image/png": "[encoded data removed]",
      "text/plain": [
       "<Figure size 864x648 with 1 Axes>"
      ]
     },
     "metadata": {
      "needs_background": "light",
      "tags": []
     },
     "output_type": "display_data"
    }
   ],
   "source": [
    "plt.figure(figsize=(12, 9))\n",
    "plt.plot(history_word.history['loss'], 'g')\n",
    "plt.title('Model Loss')\n",
    "plt.ylabel('Loss')\n",
    "plt.xlabel('Epoch')\n",
    "plt.legend(['Train'], loc='upper right')\n",
    "plt.show()"
   ]
  },
  {
   "cell_type": "code",
   "execution_count": 92,
   "metadata": {
    "colab": {
     "base_uri": "https://localhost:8080/",
     "height": 567
    },
    "executionInfo": {
     "elapsed": 741,
     "status": "ok",
     "timestamp": 1620120430969,
     "user": {
      "displayName": "Alexey Tankov",
      "photoUrl": "",
      "userId": "01729535101672247421"
     },
     "user_tz": -180
    },
    "id": "kP0OzWmZmr3O",
    "outputId": "d3d841f7-2b0d-45a2-d2c2-1a15492a9e12"
   },
   "outputs": [
    {
     "data": {
      "image/png": "[encoded data removed]",
      "text/plain": [
       "<Figure size 864x648 with 1 Axes>"
      ]
     },
     "metadata": {
      "needs_background": "light",
      "tags": []
     },
     "output_type": "display_data"
    }
   ],
   "source": [
    "plt.figure(figsize=(12, 9))\n",
    "plt.plot(history_word.history['loss'], 'g')\n",
    "plt.title('Model Loss')\n",
    "plt.ylabel('Loss')\n",
    "plt.xlabel('Epoch')\n",
    "plt.legend(['Train'], loc='upper right')\n",
    "plt.show()"
   ]
  },
  {
   "cell_type": "code",
   "execution_count": 97,
   "metadata": {
    "colab": {
     "base_uri": "https://localhost:8080/",
     "height": 567
    },
    "executionInfo": {
     "elapsed": 625,
     "status": "ok",
     "timestamp": 1620121195567,
     "user": {
      "displayName": "Alexey Tankov",
      "photoUrl": "",
      "userId": "01729535101672247421"
     },
     "user_tz": -180
    },
    "id": "3xP7pLO9tNsS",
    "outputId": "a6039fd0-5bb1-4a3d-d2cc-b378fbb77794"
   },
   "outputs": [
    {
     "data": {
      "image/png": "[encoded data removed]",
      "text/plain": [
       "<Figure size 864x648 with 1 Axes>"
      ]
     },
     "metadata": {
      "needs_background": "light",
      "tags": []
     },
     "output_type": "display_data"
    }
   ],
   "source": [
    "plt.figure(figsize=(12, 9))\n",
    "plt.plot(history_word.history['loss'], 'g')\n",
    "plt.title('Model Loss')\n",
    "plt.ylabel('Loss')\n",
    "plt.xlabel('Epoch')\n",
    "plt.legend(['Train'], loc='upper right')\n",
    "plt.show()"
   ]
  },
  {
   "cell_type": "markdown",
   "metadata": {
    "id": "jqxRE7A3z5Sw"
   },
   "source": [
    "### Generate text"
   ]
  },
  {
   "cell_type": "code",
   "execution_count": 98,
   "metadata": {
    "colab": {
     "base_uri": "https://localhost:8080/",
     "height": 35
    },
    "executionInfo": {
     "elapsed": 961,
     "status": "ok",
     "timestamp": 1620121198311,
     "user": {
      "displayName": "Alexey Tankov",
      "photoUrl": "",
      "userId": "01729535101672247421"
     },
     "user_tz": -180
    },
    "id": "l3z18Bc6xiEl",
    "outputId": "9d5f1367-ec03-4289-b5fe-26151e4a6a47"
   },
   "outputs": [
    {
     "data": {
      "application/vnd.google.colaboratory.intrinsic+json": {
       "type": "string"
      },
      "text/plain": [
       "'./checkpoints_2021.05.04-09:00:21/ckpt_110'"
      ]
     },
     "execution_count": 98,
     "metadata": {
      "tags": []
     },
     "output_type": "execute_result"
    }
   ],
   "source": [
    "tf.train.latest_checkpoint(checkpoint_dir)"
   ]
  },
  {
   "cell_type": "code",
   "execution_count": 143,
   "metadata": {
    "executionInfo": {
     "elapsed": 1418,
     "status": "ok",
     "timestamp": 1620122371739,
     "user": {
      "displayName": "Alexey Tankov",
      "photoUrl": "",
      "userId": "01729535101672247421"
     },
     "user_tz": -180
    },
    "id": "cHQKXDgNxiEm"
   },
   "outputs": [],
   "source": [
    "# !rm -rf checkpoints_2021.05.04-09:00:21"
   ]
  },
  {
   "cell_type": "code",
   "execution_count": 100,
   "metadata": {
    "executionInfo": {
     "elapsed": 1114,
     "status": "ok",
     "timestamp": 1620121200427,
     "user": {
      "displayName": "Alexey Tankov",
      "photoUrl": "",
      "userId": "01729535101672247421"
     },
     "user_tz": -180
    },
    "id": "Geqb_PowzP0O"
   },
   "outputs": [],
   "source": [
    "model = build_model(\n",
    "    vocab_size=len(word_vocab),\n",
    "    embedding_dim=embedding_dim,\n",
    "    rnn_units=rnn_units,\n",
    "    batch_size=1)\n",
    "\n",
    "model.load_weights(tf.train.latest_checkpoint(checkpoint_dir))\n",
    "model.build(tf.TensorShape([1, None]))"
   ]
  },
  {
   "cell_type": "code",
   "execution_count": 119,
   "metadata": {
    "executionInfo": {
     "elapsed": 581,
     "status": "ok",
     "timestamp": 1620121438669,
     "user": {
      "displayName": "Alexey Tankov",
      "photoUrl": "",
      "userId": "01729535101672247421"
     },
     "user_tz": -180
    },
    "id": "f1-Jx3A7zP4O"
   },
   "outputs": [],
   "source": [
    "def generate_text(model, start_string):\n",
    "    \n",
    "    print('Generating with seed: \"' + start_string + '\"')   \n",
    "    \n",
    "    num_generate = 100\n",
    "\n",
    "    input_eval = [word2idx[s] for s in [start_string]]\n",
    "    input_eval = tf.expand_dims(input_eval, 0)\n",
    "    \n",
    "    temperature = 1.5\n",
    "\n",
    "    text_generated = []\n",
    "\n",
    "    model.reset_states()\n",
    "    for i in range(num_generate):\n",
    "        predictions = model(input_eval)\n",
    "        predictions = tf.squeeze(predictions, 0)\n",
    "        predictions = predictions / temperature\n",
    "\n",
    "        predicted_id = tf.random.categorical(predictions, num_samples=1)[-1, 0].numpy()\n",
    "\n",
    "        input_eval = tf.expand_dims([predicted_id], 0)\n",
    "\n",
    "        text_generated.append(idx2word[predicted_id])\n",
    "\n",
    "    return (start_string + ' '.join(text_generated))"
   ]
  },
  {
   "cell_type": "code",
   "execution_count": 120,
   "metadata": {
    "colab": {
     "base_uri": "https://localhost:8080/"
    },
    "executionInfo": {
     "elapsed": 1555,
     "status": "ok",
     "timestamp": 1620121439918,
     "user": {
      "displayName": "Alexey Tankov",
      "photoUrl": "",
      "userId": "01729535101672247421"
     },
     "user_tz": -180
    },
    "id": "0nWqVSGzzP7o",
    "outputId": "5e954610-567d-4bb1-df27-75b87ccad756"
   },
   "outputs": [
    {
     "name": "stdout",
     "output_type": "stream",
     "text": [
      "Generating with seed: \"Самурай\"\n",
      "Самурайбуддийского старшими вывод стужу получит Хамада видны общении году родительском мерам безгранична происшествии заложил тодомэ чрезмерно обесцениваются Оказалось выступлений чрезмерной всего чернил опрометчивые Сделать лидер Достаточно различие перекладине чернил секты проломил движение 24 Токаййо родительском оглянулся Правила чайной период процесс провинившемуся седьмого взрослого цвета преданным второго четырнадцатый последними ги сбил заменено покойником закрывали устойчиво стремлением перенимают азарт принятии годовщину Тодороки столицы этап охоту княжество разницу церемонии востоку Постепенное Кога принципы происходящем корейском сопровождал решено Эгути братьев вызову вдохновителем брат основывается Смысл Порой церемонии оставляет дни слабоумии пребывает встретила пятый реакцией отказу Тих Составитель добрых состоянием консерватизмом изречении Мидзуно шахматы отставка\n"
     ]
    }
   ],
   "source": [
    "print(generate_text(model, start_string=u\"Самурай\"))"
   ]
  },
  {
   "cell_type": "markdown",
   "metadata": {
    "id": "5fndplv4Gwo4"
   },
   "source": [
    "## Additionally"
   ]
  },
  {
   "cell_type": "markdown",
   "metadata": {
    "id": "8uZFDevBKGsH"
   },
   "source": [
    "### Reading data"
   ]
  },
  {
   "cell_type": "code",
   "execution_count": 121,
   "metadata": {
    "executionInfo": {
     "elapsed": 832,
     "status": "ok",
     "timestamp": 1620121450092,
     "user": {
      "displayName": "Alexey Tankov",
      "photoUrl": "",
      "userId": "01729535101672247421"
     },
     "user_tz": -180
    },
    "id": "_V4WMziFOtys"
   },
   "outputs": [],
   "source": [
    "import collections"
   ]
  },
  {
   "cell_type": "code",
   "execution_count": 128,
   "metadata": {
    "executionInfo": {
     "elapsed": 540,
     "status": "ok",
     "timestamp": 1620121571523,
     "user": {
      "displayName": "Alexey Tankov",
      "photoUrl": "",
      "userId": "01729535101672247421"
     },
     "user_tz": -180
    },
    "id": "GRx1pswNKd6x"
   },
   "outputs": [],
   "source": [
    "def preprocess_text(text):\n",
    "    text = text.replace('[',' ')\n",
    "    text = text.replace(']',' ')\n",
    "    text = text.replace('^',' ')\n",
    "    text = text.replace('_',' ')\n",
    "    text = text.replace('{',' ')\n",
    "    text = text.replace('\\xa0',' ')\n",
    "    text = text.replace('«',' ')\n",
    "    text = text.replace('»',' ')\n",
    "    text = text.replace('—',' ')\n",
    "    text = text.replace('“',' ')\n",
    "    text = text.replace('„',' ')\n",
    "    text = text.replace('…',' ')\n",
    "    text = text.replace('/',' ')\n",
    "    text = text.replace('?',' ')\n",
    "\n",
    "    return text"
   ]
  },
  {
   "cell_type": "code",
   "execution_count": 129,
   "metadata": {
    "executionInfo": {
     "elapsed": 530,
     "status": "ok",
     "timestamp": 1620121572766,
     "user": {
      "displayName": "Alexey Tankov",
      "photoUrl": "",
      "userId": "01729535101672247421"
     },
     "user_tz": -180
    },
    "id": "GSyFmM5QjeOy"
   },
   "outputs": [],
   "source": [
    "def read_data(filename):\n",
    "  # Extract the first file enclosed in a zip file as a list of words\n",
    "    with open(filename, 'rb') as f:\n",
    "        data = []\n",
    "        file_string = f.read().decode(encoding='Windows-1251')\n",
    "        file_string = preprocess_text(file_string)\n",
    "        file_string = file_string.split(' ')\n",
    "        data.extend(file_string)\n",
    "    return data"
   ]
  },
  {
   "cell_type": "code",
   "execution_count": 130,
   "metadata": {
    "executionInfo": {
     "elapsed": 458,
     "status": "ok",
     "timestamp": 1620121573863,
     "user": {
      "displayName": "Alexey Tankov",
      "photoUrl": "",
      "userId": "01729535101672247421"
     },
     "user_tz": -180
    },
    "id": "0Bg-VEBVKIf1"
   },
   "outputs": [],
   "source": [
    "# words = open(path_to_file, 'rb').read().decode(encoding='Windows-1251')\n",
    "words = read_data(path_to_file)"
   ]
  },
  {
   "cell_type": "code",
   "execution_count": 131,
   "metadata": {
    "colab": {
     "base_uri": "https://localhost:8080/"
    },
    "executionInfo": {
     "elapsed": 530,
     "status": "ok",
     "timestamp": 1620121575764,
     "user": {
      "displayName": "Alexey Tankov",
      "photoUrl": "",
      "userId": "01729535101672247421"
     },
     "user_tz": -180
    },
    "id": "YTLpW2mGNzC-",
    "outputId": "50675d0a-0f3d-4a7e-eda2-da548d292eba"
   },
   "outputs": [
    {
     "name": "stdout",
     "output_type": "stream",
     "text": [
      "Data size 34963\n",
      "Example words (start):  ['Цунэтомо', 'Ямамото\\n\\nХагакурэ\\n\\n\\n\\n\\n\\nИз', 'Книги', 'Первой\\n\\nХотя', 'самурай', 'должен', 'прежде', 'всего', 'чтить', 'Путь']\n",
      "Example words (end):  ['написания', 'книги', 'отошел', 'от', 'жизни', 'самурая', 'и', 'стал', 'буддистским', 'монахом.\\n\\n']\n"
     ]
    }
   ],
   "source": [
    "print('Data size %d' % len(words))\n",
    "print('Example words (start): ', words[:10])\n",
    "print('Example words (end): ', words[-10:])"
   ]
  },
  {
   "cell_type": "code",
   "execution_count": 132,
   "metadata": {
    "executionInfo": {
     "elapsed": 530,
     "status": "ok",
     "timestamp": 1620121577282,
     "user": {
      "displayName": "Alexey Tankov",
      "photoUrl": "",
      "userId": "01729535101672247421"
     },
     "user_tz": -180
    },
    "id": "dwWWCXvvN4XF"
   },
   "outputs": [],
   "source": [
    "vocabulary_size = 0\n",
    "def build_dataset(words):\n",
    "    global vocabulary_size\n",
    "\n",
    "    count = [['UNK', -1]]\n",
    "    # Gets words sorted by frequency\n",
    "    count.extend(collections.Counter(words).most_common())\n",
    "    dictionary = dict()\n",
    "\n",
    "    # Create an ID for each unique word\n",
    "    for word, c in count:\n",
    "        if c<10:\n",
    "            continue\n",
    "        dictionary[word] = len(dictionary)\n",
    "        vocabulary_size += 1\n",
    "    \n",
    "    data = list()\n",
    "    unk_count = 0\n",
    "  \n",
    "    for word in words:\n",
    "        if word in dictionary:\n",
    "            index = dictionary[word]\n",
    "        else:\n",
    "            index = 0  \n",
    "            unk_count = unk_count + 1\n",
    "        data.append(index)\n",
    "    \n",
    "    count[0][1] = unk_count\n",
    "  \n",
    "    reverse_dictionary = dict(zip(dictionary.values(), dictionary.keys())) \n",
    "    \n",
    "    return data, count, dictionary, reverse_dictionary"
   ]
  },
  {
   "cell_type": "code",
   "execution_count": 133,
   "metadata": {
    "colab": {
     "base_uri": "https://localhost:8080/"
    },
    "executionInfo": {
     "elapsed": 521,
     "status": "ok",
     "timestamp": 1620121579376,
     "user": {
      "displayName": "Alexey Tankov",
      "photoUrl": "",
      "userId": "01729535101672247421"
     },
     "user_tz": -180
    },
    "id": "VAzq2PX8Oosq",
    "outputId": "dc6e849f-86bc-469c-ac03-c244a7d267db"
   },
   "outputs": [
    {
     "name": "stdout",
     "output_type": "stream",
     "text": [
      "Most common words (+UNK) [['UNK', 17488], ('', 1354), ('и', 1004), ('в', 857), ('не', 661), ('что', 487), ('он', 386), ('на', 355), ('с', 280), ('*', 279), ('его', 242), ('к', 238), ('ты', 201), ('о', 185), ('человек', 170), ('если', 167), ('это', 163), ('был', 156), ('Если', 151), ('я', 150), ('из', 144), ('когда', 142), ('как', 124), ('или', 120), ('В', 118)]\n",
      "Sample data [271, 0, 292, 0, 202, 32, 340, 94, 0, 181]\n",
      "Vocabulary size:  375\n"
     ]
    }
   ],
   "source": [
    "data, count, dictionary, reverse_dictionary = build_dataset(words)\n",
    "print('Most common words (+UNK)', count[:25])\n",
    "print('Sample data', data[:10])\n",
    "print('Vocabulary size: ', vocabulary_size)"
   ]
  },
  {
   "cell_type": "markdown",
   "metadata": {
    "id": "-heGTXPsydnr"
   },
   "source": [
    "### Execute the training"
   ]
  },
  {
   "cell_type": "markdown",
   "metadata": {
    "id": "2gzPj0VcO6EM"
   },
   "source": [
    "### Generating data"
   ]
  },
  {
   "cell_type": "code",
   "execution_count": 134,
   "metadata": {
    "executionInfo": {
     "elapsed": 542,
     "status": "ok",
     "timestamp": 1620121583083,
     "user": {
      "displayName": "Alexey Tankov",
      "photoUrl": "",
      "userId": "01729535101672247421"
     },
     "user_tz": -180
    },
    "id": "1Mo0FlKDOpik"
   },
   "outputs": [],
   "source": [
    "data_index = 0\n",
    "\n",
    "def generate_batch(batch_size, window_size):\n",
    "    global data_index \n",
    "    \n",
    "    # two numpy arras to hold target words (batch)\n",
    "    # and context words (labels)\n",
    "    batch = np.ndarray(shape=(batch_size), dtype=np.int32)\n",
    "    labels = np.ndarray(shape=(batch_size, 1), dtype=np.int32)\n",
    "    \n",
    "    # span defines the total window size\n",
    "    span = 2 * window_size + 1 \n",
    "    \n",
    "    # The buffer holds the data contained within the span\n",
    "    queue = collections.deque(maxlen=span)\n",
    "  \n",
    "    # Fill the buffer and update the data_index\n",
    "    for _ in range(span):\n",
    "        queue.append(data[data_index])\n",
    "        data_index = (data_index + 1) % len(data)\n",
    "  \n",
    "\n",
    "    for i in range(batch_size // (2*window_size)):\n",
    "        k=0\n",
    "        # Avoid the target word itself as a prediction\n",
    "        for j in list(range(window_size))+list(range(window_size+1, 2*window_size+1)):\n",
    "            batch[i * (2*window_size) + k] = queue[window_size]\n",
    "            labels[i * (2*window_size) + k, 0] = queue[j]\n",
    "            k += 1 \n",
    "    \n",
    "        # Everytime we read num_samples data points, update the queue\n",
    "        queue.append(data[data_index])\n",
    "    \n",
    "        # If end is reached, circle back to the beginning\n",
    "        data_index = (data_index + np.random.randint(window_size)) % len(data)\n",
    "    \n",
    "    return batch, labels"
   ]
  },
  {
   "cell_type": "code",
   "execution_count": 135,
   "metadata": {
    "colab": {
     "base_uri": "https://localhost:8080/"
    },
    "executionInfo": {
     "elapsed": 758,
     "status": "ok",
     "timestamp": 1620121583896,
     "user": {
      "displayName": "Alexey Tankov",
      "photoUrl": "",
      "userId": "01729535101672247421"
     },
     "user_tz": -180
    },
    "id": "Hlr1teMlO96F",
    "outputId": "0fa1130d-21e0-43b5-d721-3693ba49cd0f"
   },
   "outputs": [
    {
     "name": "stdout",
     "output_type": "stream",
     "text": [
      "data: ['Цунэтомо', '', 'Книги', '', 'самурай', 'должен', 'прежде', 'всего']\n",
      "\n",
      "with window_size = 2:\n",
      "    batch: ['Книги', 'Книги', 'Книги', 'Книги', '', '', '', '']\n",
      "    labels: ['Цунэтомо', '', '', 'самурай', '', 'Книги', 'самурай', 'должен']\n"
     ]
    }
   ],
   "source": [
    "print('data:', [reverse_dictionary[di] for di in data[:8]])\n",
    "\n",
    "data_index = 0\n",
    "batch, labels = generate_batch(batch_size=8, window_size=2)\n",
    "print('\\nwith window_size = %d:' %2)\n",
    "print('    batch:', [reverse_dictionary[bi] for bi in batch])\n",
    "print('    labels:', [reverse_dictionary[li] for li in labels.reshape(8)])"
   ]
  },
  {
   "cell_type": "markdown",
   "metadata": {
    "id": "xW4pK-eUPa0n"
   },
   "source": [
    "### Defining the model"
   ]
  },
  {
   "cell_type": "code",
   "execution_count": 136,
   "metadata": {
    "executionInfo": {
     "elapsed": 524,
     "status": "ok",
     "timestamp": 1620121585537,
     "user": {
      "displayName": "Alexey Tankov",
      "photoUrl": "",
      "userId": "01729535101672247421"
     },
     "user_tz": -180
    },
    "id": "jOtt6LDtO-y9"
   },
   "outputs": [],
   "source": [
    "batch_size = 64 \n",
    "embedding_size = 256 \n",
    "window_size = 4 \n",
    "\n",
    "num_sampled = 32 # Number of negative examples to sample."
   ]
  },
  {
   "cell_type": "code",
   "execution_count": 137,
   "metadata": {
    "colab": {
     "base_uri": "https://localhost:8080/"
    },
    "executionInfo": {
     "elapsed": 954,
     "status": "ok",
     "timestamp": 1620121590550,
     "user": {
      "displayName": "Alexey Tankov",
      "photoUrl": "",
      "userId": "01729535101672247421"
     },
     "user_tz": -180
    },
    "id": "u9XjhgEydPXf",
    "outputId": "14463bab-a1ea-45d3-e391-6c6d56db3fa1"
   },
   "outputs": [
    {
     "name": "stdout",
     "output_type": "stream",
     "text": [
      "WARNING:tensorflow:From /usr/local/lib/python3.7/dist-packages/tensorflow/python/compat/v2_compat.py:96: disable_resource_variables (from tensorflow.python.ops.variable_scope) is deprecated and will be removed in a future version.\n",
      "Instructions for updating:\n",
      "non-resource variables are not supported in the long term\n"
     ]
    }
   ],
   "source": [
    "import math\n",
    "import tensorflow.compat.v1 as tf\n",
    "tf.disable_v2_behavior()\n",
    "\n",
    "tf.reset_default_graph()\n",
    "\n",
    "# Training input data (target word IDs).\n",
    "train_dataset = tf.placeholder(tf.int32, shape=[batch_size])\n",
    "# Training input label data (context word IDs)\n",
    "train_labels = tf.placeholder(tf.int32, shape=[batch_size, 1])\n",
    "\n",
    "################################################\n",
    "#            Model variables                   #\n",
    "################################################\n",
    "\n",
    "# Embedding layer\n",
    "embeddings = tf.Variable(tf.random_uniform([vocabulary_size, embedding_size], -1.0, 1.0))\n",
    "\n",
    "# Neural network weights and biases\n",
    "softmax_weights = tf.Variable(\n",
    "    tf.truncated_normal([vocabulary_size, embedding_size],\n",
    "                        stddev=0.1 / math.sqrt(embedding_size))\n",
    ")\n",
    "softmax_biases = tf.Variable(tf.random_uniform([vocabulary_size],-0.01,0.01))\n",
    "\n",
    "# Look up embeddings for a batch of inputs.\n",
    "embed = tf.nn.embedding_lookup(embeddings, train_dataset)\n",
    "#embed = tf.nn.dropout(embed, keep_prob=0.8)\n",
    "################################################\n",
    "#            Computes loss                     #\n",
    "################################################\n",
    "loss = tf.reduce_mean(\n",
    "    tf.nn.sampled_softmax_loss(\n",
    "        weights=softmax_weights, biases=softmax_biases, inputs=embed,\n",
    "        labels=train_labels, num_sampled=num_sampled, num_classes=vocabulary_size)\n",
    ")\n",
    "\n",
    "################################################\n",
    "#            Optimization                      #\n",
    "################################################\n",
    "optimizer = tf.train.AdamOptimizer(0.001).minimize(loss)\n",
    "\n",
    "################################################\n",
    "#            For evaluation                    #\n",
    "################################################\n",
    "norm = tf.sqrt(tf.reduce_sum(tf.square(embeddings), 1, keepdims=True))\n",
    "normalized_embeddings = embeddings / norm"
   ]
  },
  {
   "cell_type": "markdown",
   "metadata": {
    "id": "hrRL1mnydShr"
   },
   "source": [
    "### Running skip-gram"
   ]
  },
  {
   "cell_type": "code",
   "execution_count": 138,
   "metadata": {
    "colab": {
     "base_uri": "https://localhost:8080/"
    },
    "executionInfo": {
     "elapsed": 617510,
     "status": "ok",
     "timestamp": 1620122211357,
     "user": {
      "displayName": "Alexey Tankov",
      "photoUrl": "",
      "userId": "01729535101672247421"
     },
     "user_tz": -180
    },
    "id": "R2Uf6t9YdUvJ",
    "outputId": "e6913de5-ea0e-44ef-9baf-b8763c024e8e"
   },
   "outputs": [
    {
     "name": "stdout",
     "output_type": "stream",
     "text": [
      "Initialized\n",
      "Average loss at step 5000: 2.446091\n",
      "Average loss at step 10000: 2.227322\n",
      "Average loss at step 15000: 2.218727\n",
      "Average loss at step 20000: 2.203397\n",
      "Average loss at step 25000: 2.211762\n",
      "Average loss at step 30000: 2.190263\n",
      "Average loss at step 35000: 2.188664\n",
      "Average loss at step 40000: 2.183360\n",
      "Average loss at step 45000: 2.177798\n",
      "Average loss at step 50000: 2.185136\n",
      "Average loss at step 55000: 2.177565\n",
      "Average loss at step 60000: 2.179966\n",
      "Average loss at step 65000: 2.179588\n",
      "Average loss at step 70000: 2.175547\n",
      "Average loss at step 75000: 2.175637\n",
      "Average loss at step 80000: 2.169622\n",
      "Average loss at step 85000: 2.178236\n",
      "Average loss at step 90000: 2.164476\n",
      "Average loss at step 95000: 2.175676\n",
      "Average loss at step 100000: 2.170635\n",
      "Average loss at step 105000: 2.166788\n",
      "Average loss at step 110000: 2.162180\n",
      "Average loss at step 115000: 2.179966\n",
      "Average loss at step 120000: 2.165569\n",
      "Average loss at step 125000: 2.169197\n",
      "Average loss at step 130000: 2.169995\n",
      "Average loss at step 135000: 2.166345\n",
      "Average loss at step 140000: 2.166005\n",
      "Average loss at step 145000: 2.160749\n",
      "Average loss at step 150000: 2.160057\n",
      "Average loss at step 155000: 2.164788\n",
      "Average loss at step 160000: 2.169324\n",
      "Average loss at step 165000: 2.172893\n",
      "Average loss at step 170000: 2.163435\n",
      "Average loss at step 175000: 2.167137\n",
      "Average loss at step 180000: 2.161487\n",
      "Average loss at step 185000: 2.175838\n",
      "Average loss at step 190000: 2.161476\n",
      "Average loss at step 195000: 2.162237\n",
      "Average loss at step 200000: 2.153248\n",
      "Average loss at step 205000: 2.153190\n",
      "Average loss at step 210000: 2.161580\n",
      "Average loss at step 215000: 2.160320\n",
      "Average loss at step 220000: 2.159544\n",
      "Average loss at step 225000: 2.158171\n",
      "Average loss at step 230000: 2.163877\n",
      "Average loss at step 235000: 2.159246\n",
      "Average loss at step 240000: 2.163518\n",
      "Average loss at step 245000: 2.153671\n",
      "Average loss at step 250000: 2.157679\n"
     ]
    }
   ],
   "source": [
    "num_steps = 250001\n",
    "\n",
    "session = tf.InteractiveSession()\n",
    "\n",
    "# Initialize the variables in the graph\n",
    "tf.global_variables_initializer().run()\n",
    "print('Initialized')\n",
    "average_loss = 0\n",
    "\n",
    "for step in range(num_steps):\n",
    "\n",
    "    # Generate a single batch of data\n",
    "    batch_data, batch_labels = generate_batch(\n",
    "        batch_size, window_size)\n",
    "\n",
    "    # Optimize the embedding layer and neural network\n",
    "    # compute loss\n",
    "    feed_dict = {train_dataset : batch_data, train_labels : batch_labels}\n",
    "    _, l = session.run([optimizer, loss], feed_dict=feed_dict)\n",
    "\n",
    "    # Update the average loss variable\n",
    "    average_loss += l\n",
    "\n",
    "    if (step+1) % 5000 == 0:\n",
    "        if step > 0:\n",
    "            average_loss = average_loss / 5000\n",
    "\n",
    "        print('Average loss at step %d: %f' % (step+1, average_loss))\n",
    "        average_loss = 0\n",
    "\n",
    "sg_embeddings = normalized_embeddings.eval()\n",
    "session.close()"
   ]
  },
  {
   "cell_type": "markdown",
   "metadata": {
    "id": "Bswvnmn0dkO1"
   },
   "source": [
    "### Visualizing word vectors"
   ]
  },
  {
   "cell_type": "code",
   "execution_count": 139,
   "metadata": {
    "executionInfo": {
     "elapsed": 8076,
     "status": "ok",
     "timestamp": 1620122274534,
     "user": {
      "displayName": "Alexey Tankov",
      "photoUrl": "",
      "userId": "01729535101672247421"
     },
     "user_tz": -180
    },
    "id": "FfO3T2gydlO9"
   },
   "outputs": [],
   "source": [
    "from sklearn.manifold import TSNE\n",
    "\n",
    "tsne = TSNE(perplexity=5, n_components=2, init='pca', n_iter=5000)\n",
    "\n",
    "# get the T-SNE manifold\n",
    "two_d_embeddings = tsne.fit_transform(sg_embeddings)"
   ]
  },
  {
   "cell_type": "code",
   "execution_count": 142,
   "metadata": {
    "colab": {
     "base_uri": "https://localhost:8080/",
     "height": 863
    },
    "executionInfo": {
     "elapsed": 2043,
     "status": "ok",
     "timestamp": 1620122329596,
     "user": {
      "displayName": "Alexey Tankov",
      "photoUrl": "",
      "userId": "01729535101672247421"
     },
     "user_tz": -180
    },
    "id": "JJgpOVOKdpxM",
    "outputId": "e2a6920e-5d55-4e34-cd0e-f4c407e04952"
   },
   "outputs": [
    {
     "data": {
      "image/png": "[encoded data removed]",
      "text/plain": [
       "<Figure size 1080x1080 with 1 Axes>"
      ]
     },
     "metadata": {
      "needs_background": "light",
      "tags": []
     },
     "output_type": "display_data"
    }
   ],
   "source": [
    "from matplotlib import pylab\n",
    "\n",
    "selected_words = ['воин', 'был', 'его', 'и', 'путь', 'самурай', 'хагакурэ', 'традиции', 'человек', 'победа', 'меч', 'жизнь', 'время', 'смерть', 'сэппуку', 'преданность', 'сострадание']\n",
    "\n",
    "words = [reverse_dictionary[i] for i in np.arange(vocabulary_size)]\n",
    "\n",
    "pylab.figure(figsize=(15, 15))\n",
    "# plot all the embeddings and their corresponding words\n",
    "for i, label in enumerate(words):\n",
    "    x, y = two_d_embeddings[i,:]\n",
    "    pylab.scatter(x, y, c='darkgray')   \n",
    "    if label in selected_words:\n",
    "        pylab.annotate(label, xy=(x, y), xytext=(5, 2), textcoords='offset points',\n",
    "                       ha='right', va='bottom',fontsize=10)\n",
    "        \n",
    "pylab.show()"
   ]
  },
  {
   "cell_type": "code",
   "execution_count": null,
   "metadata": {
    "id": "BJA8fYBj0FZ6"
   },
   "outputs": [],
   "source": []
  }
 ],
 "metadata": {
  "accelerator": "GPU",
  "colab": {
   "collapsed_sections": [],
   "name": "hw_09.ipynb",
   "provenance": [
    {
     "file_id": "1VFT6p-jKlNryrmE0eDh5daxmfluQZooA",
     "timestamp": 1619609112884
    }
   ],
   "toc_visible": true
  },
  "kernelspec": {
   "display_name": "Python 3",
   "language": "python",
   "name": "python3"
  },
  "language_info": {
   "codemirror_mode": {
    "name": "ipython",
    "version": 3
   },
   "file_extension": ".py",
   "mimetype": "text/x-python",
   "name": "python",
   "nbconvert_exporter": "python",
   "pygments_lexer": "ipython3",
   "version": "3.8.8"
  }
 },
 "nbformat": 4,
 "nbformat_minor": 1
}
