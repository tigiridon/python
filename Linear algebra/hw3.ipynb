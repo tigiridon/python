{
 "cells": [
  {
   "cell_type": "code",
   "execution_count": 7,
   "metadata": {},
   "outputs": [],
   "source": [
    "#From SAV to LOVE"
   ]
  },
  {
   "cell_type": "markdown",
   "metadata": {
    "colab_type": "text",
    "id": "nhtP-GbXHwS8"
   },
   "source": [
    "# HW  3"
   ]
  },
  {
   "cell_type": "code",
   "execution_count": 8,
   "metadata": {},
   "outputs": [],
   "source": [
    "import numpy as np"
   ]
  },
  {
   "cell_type": "markdown",
   "metadata": {
    "colab_type": "text",
    "id": "_p6EJmAJHtpe"
   },
   "source": [
    "__1.__ Найти собственные векторы и собственные значения для линейного оператора, заданного матрицей\n",
    "\n",
    "$$A=\\begin{pmatrix}\n",
    "-1 & -6\\\\ \n",
    "2 & 6\n",
    "\\end{pmatrix}.$$\n",
    "\n"
   ]
  },
  {
   "cell_type": "markdown",
   "metadata": {
    "colab_type": "text",
    "id": "l2B8CwIAKcmz"
   },
   "source": [
    "### Решение\n",
    "\n",
    "Теперь найдем собственные значения линейного оператора, составив и решив характеристическое уравнение:\n",
    "\n",
    "$$\\begin{vmatrix}\n",
    "-1-\\lambda & -6\\\\ \n",
    "2 & 6-\\lambda\n",
    "\\end{vmatrix} = 0$$\n",
    "\n",
    "$(-1-\\lambda)(6-\\lambda)-2\\cdot(-6) =0,$\n",
    "\n",
    "$\\lambda^2 - 6 \\lambda + \\lambda - 6 + 12 = 0$\n",
    "\n",
    "$\\lambda^2 - 5 \\lambda + 6 = 0$\n",
    "\n",
    "$(\\lambda -2)(\\lambda -3) = 0$\n",
    "\n",
    "отсюда собственные значения:\n",
    "\n",
    "$\\lambda_1 = 2$\n",
    "\n",
    "$\\lambda_2 = 3$\n",
    "\n",
    "Теперь найдем собственные векторы вида $\\begin{pmatrix}\n",
    "x_{1}\\\\ \n",
    "x_{2}\n",
    "\\end{pmatrix}$, подставив полученное собственное значение в выражение $\\textbf{A}x=\\lambda x$:\n",
    "\n",
    "$$\\begin{pmatrix}\n",
    "-1 & -6\\\\ \n",
    "2 & 6\n",
    "\\end{pmatrix}\n",
    "\\begin{pmatrix}\n",
    "x_{1}\\\\ \n",
    "x_{2}\n",
    "\\end{pmatrix}=\n",
    "\\lambda\n",
    "\\begin{pmatrix}\n",
    "x_{1}\\\\ \n",
    "x_{2}\n",
    "\\end{pmatrix}.\n",
    "$$\n",
    "\n",
    "для \n",
    "$\\lambda_1 = 2$\n",
    "\n",
    "$\\begin{cases}\n",
    "-x_1-6x_2 = 2x_1 \\\\\n",
    "2x_1+6x_2= 2x_2\n",
    "\\end{cases}$\n",
    "\n",
    "$\\begin{cases}\n",
    "x_1 = -2 x_2 \\\\\n",
    "x_1 = - 2x_2\n",
    "\\end{cases}$\n",
    "\n",
    "Общее решение собственного вектора для $\\lambda_1 \\,\\,\\, : \\,\\,\\, x_2 \\cdot \\begin{pmatrix}\n",
    "-2\\\\ \n",
    "1\n",
    "\\end{pmatrix}$\n",
    "\n",
    "для $\\lambda_2 = 3$\n",
    "\n",
    "$\\begin{cases}\n",
    "-x_1-6x_2 = 3x_1 \\\\\n",
    "2x_1+6x_2= 3x_2\n",
    "\\end{cases}$\n",
    "\n",
    "$\\begin{cases}\n",
    "x_1 = - \\frac{3}{2} x_2 \\\\\n",
    "x_1 = - \\frac{3}{2}x_2\n",
    "\\end{cases}$\n",
    "\n",
    "Общее решение собственного вектора для $\\lambda_2 \\,\\,\\, : \\,\\,\\, x_2 \\cdot \\begin{pmatrix}\n",
    "{-\\frac{3}{2}}\\\\ \n",
    "1\n",
    "\\end{pmatrix}$\n",
    "\n"
   ]
  },
  {
   "cell_type": "code",
   "execution_count": 9,
   "metadata": {
    "colab": {
     "base_uri": "https://localhost:8080/",
     "height": 102
    },
    "colab_type": "code",
    "id": "98pLy_4UJ6B0",
    "outputId": "895e6a26-6527-464d-8550-e77c145191c4"
   },
   "outputs": [
    {
     "name": "stdout",
     "output_type": "stream",
     "text": [
      "Соб. знач.:\n",
      "[2. 3.]\n",
      "Соб. век.:\n",
      "[[-0.89442719  0.83205029]\n",
      " [ 0.4472136  -0.5547002 ]]\n"
     ]
    }
   ],
   "source": [
    "# проверим\n",
    "\n",
    "A = np.array([[-1, -6], [2, 6]])\n",
    "w,v = np.linalg.eig(A)\n",
    "print(f'Соб. знач.:\\n{w}')\n",
    "print(f'Соб. век.:\\n{v}')"
   ]
  },
  {
   "cell_type": "code",
   "execution_count": 10,
   "metadata": {
    "colab": {
     "base_uri": "https://localhost:8080/",
     "height": 34
    },
    "colab_type": "code",
    "id": "FhJPvxvdam_I",
    "outputId": "4b68846b-a383-4099-fe23-d284fc27a14d"
   },
   "outputs": [
    {
     "data": {
      "text/plain": [
       "-0.8944271909999159"
      ]
     },
     "execution_count": 10,
     "metadata": {},
     "output_type": "execute_result"
    }
   ],
   "source": [
    "# если x2 = 0.4472136 для первого собственного значения = 2, то x1 должен быть \n",
    "v[1,0]*(-2)\n",
    "# что соответствует "
   ]
  },
  {
   "cell_type": "markdown",
   "metadata": {
    "colab_type": "text",
    "id": "s8eK5EE8oee6"
   },
   "source": [
    "-----"
   ]
  },
  {
   "cell_type": "markdown",
   "metadata": {
    "colab_type": "text",
    "id": "vfkAWKlfH_I_"
   },
   "source": [
    "__2.__ Дан оператор поворота на 180 градусов, задаваемый матрицей\n",
    "\n",
    "$$A=\\begin{pmatrix}\n",
    "-1 & 0\\\\ \n",
    "0 & -1\n",
    "\\end{pmatrix}.$$\n",
    "\n",
    "Показать, что __любой__ вектор является для него собственным.\n",
    "\n"
   ]
  },
  {
   "cell_type": "markdown",
   "metadata": {
    "colab_type": "text",
    "id": "O_mIagVfbhgt"
   },
   "source": [
    "### Решение\n",
    "\n",
    "$A=\\begin{pmatrix}\n",
    "-1 & 0\\\\ \n",
    "0 & -1\n",
    "\\end{pmatrix} = -1\\cdot \\begin{pmatrix}\n",
    "1 & 0\\\\ \n",
    "0 & 1\n",
    "\\end{pmatrix} = - E$\n",
    "\n",
    "возьмем произвольный вектор $\\begin{pmatrix}\n",
    "a\\\\ \n",
    "b\n",
    "\\end{pmatrix}$ и проверим \n",
    "\n",
    "$A \\cdot \\begin{pmatrix}\n",
    "a\\\\ \n",
    "b\n",
    "\\end{pmatrix} = \\lambda \\cdot \\begin{pmatrix}\n",
    "a\\\\ \n",
    "b\n",
    "\\end{pmatrix}$\n",
    "\n",
    "$- E \\cdot \\begin{pmatrix}\n",
    "a\\\\ \n",
    "b\n",
    "\\end{pmatrix} = - \\begin{pmatrix}\n",
    "a\\\\ \n",
    "b\n",
    "\\end{pmatrix} = \\lambda \\begin{pmatrix}\n",
    "a\\\\ \n",
    "b\n",
    "\\end{pmatrix} \\,\\,\\, \\to  \\,\\,\\, \\lambda = -1$\n",
    "\n",
    "Следовательно для собственного значения $\\lambda = -1$ __любой__ вектор является для него собственным."
   ]
  },
  {
   "cell_type": "markdown",
   "metadata": {
    "colab_type": "text",
    "id": "qDJnoRpdohZ3"
   },
   "source": [
    "------"
   ]
  },
  {
   "cell_type": "markdown",
   "metadata": {
    "colab_type": "text",
    "id": "jk8bIX6iIBDD"
   },
   "source": [
    "__3.__ Пусть линейный оператор задан матрицей\n",
    "\n",
    "$$A=\\begin{pmatrix}\n",
    "1 & 1\\\\ \n",
    "-1 & 3\n",
    "\\end{pmatrix}.$$\n",
    "\n",
    "Установить, является ли вектор $x=(1,1)$ собственным вектором этого линейного оператора.\n",
    "\n"
   ]
  },
  {
   "cell_type": "markdown",
   "metadata": {
    "colab_type": "text",
    "id": "VOsBvLGbdk9S"
   },
   "source": [
    "### Решение \n",
    "\n",
    "Предположим, что вектор $x$ является собственным вектором заданного линейного оператора, тогда должно существовать некоторое вещественное число $\\lambda$, при котором \n",
    "\n",
    "$$\\begin{pmatrix}\n",
    "1 & 1\\\\ \n",
    "-1 & 3\n",
    "\\end{pmatrix}\n",
    "\\begin{pmatrix}\n",
    "1\\\\ \n",
    "1 \n",
    "\\end{pmatrix}=\n",
    "\\lambda\n",
    "\\begin{pmatrix}\n",
    "1\\\\ \n",
    "1\n",
    "\\end{pmatrix}.\n",
    "$$\n",
    "\n",
    "Из этого будет следовать, что \n",
    "\n",
    "$$\\begin{cases}\n",
    "1+1=1\\cdot\\lambda \\\\ \n",
    "-1 +3 = 1\\cdot \\lambda\n",
    "\\end{cases}\n",
    "\\Rightarrow\n",
    "\\begin{cases}\n",
    "\\lambda=2\\\\ \n",
    "\\lambda= 2\n",
    "\\end{cases}$$\n",
    "\n",
    "\n",
    "Следовательно вектор $x=(1,1)$ является собственным вектором этого линейного оператора при $\\lambda = 2$"
   ]
  },
  {
   "cell_type": "code",
   "execution_count": 11,
   "metadata": {
    "colab": {
     "base_uri": "https://localhost:8080/",
     "height": 102
    },
    "colab_type": "code",
    "id": "UFq8v8WaezgU",
    "outputId": "d9a65af3-c850-490f-9c18-20f935bf81c9"
   },
   "outputs": [
    {
     "name": "stdout",
     "output_type": "stream",
     "text": [
      "Соб. знач.:\n",
      "[2.00000002 1.99999998]\n",
      "Соб. век.:\n",
      "[[ 0.70710677 -0.70710679]\n",
      " [ 0.70710679 -0.70710677]]\n"
     ]
    }
   ],
   "source": [
    "# chek\n",
    "B = np.array([[1,1],[-1,3]])\n",
    "w1,v1 = np.linalg.eig(B)\n",
    "print(f'Соб. знач.:\\n{w1}')\n",
    "print(f'Соб. век.:\\n{v1}')\n"
   ]
  },
  {
   "cell_type": "markdown",
   "metadata": {
    "colab_type": "text",
    "id": "SNG7BmAlojeB"
   },
   "source": [
    "------"
   ]
  },
  {
   "cell_type": "markdown",
   "metadata": {
    "colab_type": "text",
    "id": "xXsnyUcRIC2N"
   },
   "source": [
    "__4.__ Пусть линейный оператор задан матрицей\n",
    "\n",
    "$$A=\\begin{pmatrix}\n",
    "0 & 3 & 0\\\\ \n",
    "3 & 0 & 0\\\\\n",
    "0 & 0 & 3\n",
    "\\end{pmatrix}.$$\n",
    "\n",
    "Установить, является ли вектор $x=(3, -3, -4)$ собственным вектором этого линейного оператора."
   ]
  },
  {
   "cell_type": "markdown",
   "metadata": {
    "colab_type": "text",
    "id": "gtkq-degfSSJ"
   },
   "source": [
    "### Решение\n",
    "\n",
    "$\\begin{pmatrix}\n",
    "0 & 3 & 0\\\\ \n",
    "3 & 0 & 0\\\\\n",
    "0 & 0 & 3\n",
    "\\end{pmatrix} \\begin{pmatrix}\n",
    "3 \\\\ \n",
    "-3 \\\\\n",
    "-4 \n",
    "\\end{pmatrix}  = \\lambda \\begin{pmatrix}\n",
    "3 \\\\ \n",
    "-3 \\\\\n",
    "-4 \n",
    "\\end{pmatrix} $\n",
    "\n",
    "$\\begin{cases}\n",
    "-9 =3 \\cdot\\lambda \\\\ \n",
    "9 = -3 \\cdot \\lambda \\\\\n",
    "-12 = -4 \\cdot \\lambda\n",
    "\\end{cases} \\Rightarrow\n",
    "\\begin{cases}\n",
    "\\lambda= -3\\\\ \n",
    "\\lambda= -3\\\\\n",
    "\\lambda = 3\n",
    "\\end{cases}$\n",
    "\n",
    "Cледовательно, вектор $x=(3,-3, -4)$ не является собственным вектором линейного оператора, заданного матрицей $A$"
   ]
  },
  {
   "cell_type": "code",
   "execution_count": 12,
   "metadata": {
    "colab": {
     "base_uri": "https://localhost:8080/",
     "height": 119
    },
    "colab_type": "code",
    "id": "4xcsfQJVHskM",
    "outputId": "a5924dfd-ef2b-4d0e-d8cd-99116f40e721"
   },
   "outputs": [
    {
     "name": "stdout",
     "output_type": "stream",
     "text": [
      "Собст. знач.:\n",
      "[ 3. -3.  3.]\n",
      "Собст. век.:\n",
      "[[ 0.70710678 -0.70710678  0.        ]\n",
      " [ 0.70710678  0.70710678  0.        ]\n",
      " [ 0.          0.          1.        ]]\n"
     ]
    }
   ],
   "source": [
    "# chek\n",
    "C = np.array([[0, 3,0],[3,0,0], [0, 0, 3]])\n",
    "w2,v2 = np.linalg.eig(C)\n",
    "print(f'Собст. знач.:\\n{w2}')\n",
    "print(f'Собст. век.:\\n{v2}')"
   ]
  }
 ],
 "metadata": {
  "colab": {
   "collapsed_sections": [],
   "name": "Lin_alg_3.ipynb",
   "provenance": []
  },
  "kernelspec": {
   "display_name": "Python 3",
   "language": "python",
   "name": "python3"
  },
  "language_info": {
   "codemirror_mode": {
    "name": "ipython",
    "version": 3
   },
   "file_extension": ".py",
   "mimetype": "text/x-python",
   "name": "python",
   "nbconvert_exporter": "python",
   "pygments_lexer": "ipython3",
   "version": "3.7.3"
  }
 },
 "nbformat": 4,
 "nbformat_minor": 1
}
