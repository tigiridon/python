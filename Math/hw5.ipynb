{
 "cells": [
  {
   "cell_type": "markdown",
   "metadata": {},
   "source": [
    "from SAV to LOVE"
   ]
  },
  {
   "cell_type": "markdown",
   "metadata": {},
   "source": [
    "1=-9/2"
   ]
  },
  {
   "cell_type": "markdown",
   "metadata": {},
   "source": [
    "2=-4/3"
   ]
  },
  {
   "cell_type": "markdown",
   "metadata": {},
   "source": [
    "3=-1/2"
   ]
  },
  {
   "cell_type": "markdown",
   "metadata": {},
   "source": [
    "4=12/11"
   ]
  },
  {
   "cell_type": "markdown",
   "metadata": {},
   "source": [
    "5=14"
   ]
  },
  {
   "cell_type": "markdown",
   "metadata": {},
   "source": [
    "6=112/27"
   ]
  },
  {
   "cell_type": "markdown",
   "metadata": {},
   "source": [
    "7=3/2"
   ]
  },
  {
   "cell_type": "markdown",
   "metadata": {},
   "source": [
    "8=2"
   ]
  },
  {
   "cell_type": "markdown",
   "metadata": {},
   "source": [
    "9=1/e^(15/28)"
   ]
  },
  {
   "cell_type": "markdown",
   "metadata": {},
   "source": [
    "10=1/5"
   ]
  },
  {
   "cell_type": "markdown",
   "metadata": {},
   "source": [
    "11=ln(5)"
   ]
  },
  {
   "cell_type": "code",
   "execution_count": null,
   "metadata": {},
   "outputs": [],
   "source": []
  }
 ],
 "metadata": {
  "kernelspec": {
   "display_name": "Python 3",
   "language": "python",
   "name": "python3"
  },
  "language_info": {
   "codemirror_mode": {
    "name": "ipython",
    "version": 3
   },
   "file_extension": ".py",
   "mimetype": "text/x-python",
   "name": "python",
   "nbconvert_exporter": "python",
   "pygments_lexer": "ipython3",
   "version": "3.7.3"
  }
 },
 "nbformat": 4,
 "nbformat_minor": 2
}
