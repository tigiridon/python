{
 "cells": [
  {
   "cell_type": "markdown",
   "metadata": {},
   "source": [
    "From SAV to LOVE\n",
    "\n"
   ]
  },
  {
   "cell_type": "markdown",
   "metadata": {},
   "source": [
    "Тема “Предел функции”"
   ]
  },
  {
   "cell_type": "markdown",
   "metadata": {},
   "source": [
    "1. при х->0 sin(x)=0, sin(1/x) э[-1;1]\n",
    "при х->00 sin(x)=[-1;1], sin(1/x) э0"
   ]
  },
  {
   "cell_type": "markdown",
   "metadata": {},
   "source": [
    "2. предел слева и справа не равны между собой"
   ]
  },
  {
   "cell_type": "markdown",
   "metadata": {},
   "source": [
    "3.\n",
    "d:\n",
    "    (-00;0 )= возрастающая\n",
    "    (0;2/3)= убывающая\n",
    "    (2/3;00 )= возрастающая\n",
    "e. нечетная\n",
    "d. не ограничена\n",
    "g. переодич"
   ]
  },
  {
   "cell_type": "markdown",
   "metadata": {},
   "source": [
    "4:\n",
    "    a =-1/2\n",
    "    b=3/2\n",
    "    c=e^12\n",
    "    \n",
    "\n",
    "    \n",
    "    \n"
   ]
  },
  {
   "cell_type": "markdown",
   "metadata": {},
   "source": [
    "Теоремы о пределах:\n"
   ]
  },
  {
   "cell_type": "markdown",
   "metadata": {},
   "source": [
    "   1.:\n",
    "    a=1/2\n",
    "    b=1\n",
    "    c=1\n",
    "    d=e^9\n",
    "    e=0\n",
    "    d=-00"
   ]
  },
  {
   "cell_type": "code",
   "execution_count": null,
   "metadata": {},
   "outputs": [],
   "source": []
  }
 ],
 "metadata": {
  "kernelspec": {
   "display_name": "Python 3",
   "language": "python",
   "name": "python3"
  },
  "language_info": {
   "codemirror_mode": {
    "name": "ipython",
    "version": 3
   },
   "file_extension": ".py",
   "mimetype": "text/x-python",
   "name": "python",
   "nbconvert_exporter": "python",
   "pygments_lexer": "ipython3",
   "version": "3.7.3"
  }
 },
 "nbformat": 4,
 "nbformat_minor": 2
}
