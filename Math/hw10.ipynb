{
 "cells": [
  {
   "cell_type": "markdown",
   "metadata": {
    "colab_type": "text",
    "id": "zz7SDkPIkVlM"
   },
   "source": [
    "# HW10\n",
    "\n"
   ]
  },
  {
   "cell_type": "markdown",
   "metadata": {
    "colab_type": "text",
    "id": "SmdURZ_OkVqQ"
   },
   "source": [
    "__1.__ Вычислить неопределенный интеграл\n",
    "\n",
    "### $$\\int \\frac{2x+3}{(x-2)(x+5)}\\,dx$$\n"
   ]
  },
  {
   "cell_type": "markdown",
   "metadata": {
    "colab_type": "text",
    "id": "aVoCn_jY9S-I"
   },
   "source": [
    "$$\\int \\frac{2x+3}{(x-2)(x+5)}dx = \\int \\frac{2x+3}{(x^2+3x-10)}dx = \\int \\frac{1}{(x^2+3x-10)}d(x^2+3x-10) = \\ln|(x^2+3x-10)| = $$\n",
    "\n",
    "$$ = \\ln|x-2| + \\ln|x+5|$$"
   ]
  },
  {
   "cell_type": "markdown",
   "metadata": {
    "colab_type": "text",
    "id": "cECfCSANkVqR"
   },
   "source": [
    "__2.__ Вычислить неопределенный интеграл\n",
    "\n",
    "### $$\\int e^{2x}\\cos 3x\\,dx$$"
   ]
  },
  {
   "cell_type": "markdown",
   "metadata": {
    "colab_type": "text",
    "id": "HE5uNufDmCS5"
   },
   "source": [
    "$$\\int U\\cdot dV=U\\cdot V-\\int V\\cdot dU$$\n",
    "\n",
    "$$U=e^{2x} \\to dU=2e^{2x}dx$$ \n",
    "\n",
    "$$dV=\\cos{3x}dx \\to V= \\frac{1}{3}\\sin{3x}$$ \n",
    "\n",
    "$$\\int e^{2x}\\cos 3x \\, dx = e^{2x}\\cdot \\frac{1}{3}\\sin{3x} - \\int \\frac{1}{3}\\sin{3x}\\cdot 2e^{2x}dx = \\frac{1}{3}e^{2x}\\sin{3x} - \\frac{2}{3}\\int e^{2x} \\sin{3x}\\,dx$$\n",
    "\n",
    "$$dV=\\sin{3x}\\,dx \\to V= -\\frac{1}{3}\\cos{3x}$$ \n",
    "\n",
    "тогда \n",
    "\n",
    "$$ \\int e^{2x} \\sin{3x}\\,dx = - e^{2x}\\cdot \\frac{1}{3}\\cos{3x} + \\frac{2}{3}\\int e^{2x}\\cos 3x \\, dx$$\n",
    "\n",
    "следовательно\n",
    "\n",
    "$$\\int e^{2x}\\cos 3x \\, dx = \\frac{1}{3}e^{2x}\\sin{3x} - \\frac{2}{3}\\cdot(- e^{2x}\\cdot \\frac{1}{3}\\cos{3x} + \\frac{2}{3}\\int e^{2x}\\cos 3x \\, dx) = \\frac{1}{3}e^{2x}\\sin{3x} + \\frac{2}{9}e^{2x}\\cos{3x} - \\frac{4}{9}\\int e^{2x}\\cos 3x \\, dx$$\n",
    "\n",
    "$$(1+\\frac{4}{9})\\int e^{2x}\\cos 3x \\, dx = \\frac{1}{3}e^{2x}\\sin{3x} + \\frac{2}{9}e^{2x}\\cos{3x}$$\n",
    "\n",
    "\n",
    "$$\\int e^{2x}\\cos 3x \\, dx = \\frac{1}{13}e^{2x}(3\\sin{3x} + 2\\cos{3x})$$"
   ]
  },
  {
   "cell_type": "markdown",
   "metadata": {
    "colab_type": "text",
    "id": "DFrjdtbHkVqS"
   },
   "source": [
    "__3.__ Вычислить определенный интеграл\n",
    "\n",
    "### $$\\int\\limits_0^{\\ln2} xe^{-x}\\,dx$$"
   ]
  },
  {
   "cell_type": "markdown",
   "metadata": {
    "colab_type": "text",
    "id": "AIl7A5-0sww1"
   },
   "source": [
    "$U=x \\to dU=dx$ \n",
    "\n",
    "$dV= e^{-x}dx \\to V=- e^{-x}$ \n",
    "\n",
    "$$\\int\\limits_0^{\\ln2} xe^{-x}\\,dx = (- xe^{-x})\\bigg|_0^{\\ln2} + \\int\\limits_0^{\\ln2}e^{-x}dx = (- xe^{-x})\\bigg|_0^{\\ln2} - e^{-x}\\bigg|_0^{\\ln2}\\ = $$\n",
    "\n",
    "$$ = -\\frac{\\ln2}{e^{\\ln2}} + 0 - \\frac{1}{e^{\\ln2}} + e^0 = -\\frac{\\ln2}{2} - \\frac{1}{2} + 1 = \\frac{1}{2}(1 - \\ln2)$$\n"
   ]
  },
  {
   "cell_type": "markdown",
   "metadata": {
    "colab_type": "text",
    "id": "UEr-MoA7xnxV"
   },
   "source": [
    "__4*.__ Вычислить несобственный интеграл\n",
    "\n",
    "### $$\\int\\limits_0^{1} \\ln x\\,dx$$"
   ]
  },
  {
   "cell_type": "markdown",
   "metadata": {
    "colab_type": "text",
    "id": "Wbs1jYplwPFL"
   },
   "source": [
    "$U=\\ln x \\to dU=\\frac{1}{x}dx$ \n",
    "\n",
    "$dV= dx \\to V = x$\n",
    "\n",
    "$$\\int\\limits_0^{1} \\ln x\\,dx = x\\ln x \\bigg|_{x\\to0^+}^1- \\int\\limits_0^{1} x \\cdot \\frac{1}{x}dx = x\\ln x \\bigg|_{x\\to0^+}^1 - x\\bigg|_0^1$$\n",
    "\n",
    "так как $ \\lim_{x \\to 0}(x\\ln x)  = 0$, то получаем\n",
    "\n",
    "$$\\int\\limits_0^{1} \\ln x\\,dx = 0 - 0 - 1 + 0 = -1 $$\n",
    "\n"
   ]
  }
 ],
 "metadata": {
  "colab": {
   "collapsed_sections": [],
   "name": "math_an_10.ipynb",
   "provenance": []
  },
  "kernelspec": {
   "display_name": "Python 3",
   "language": "python",
   "name": "python3"
  },
  "language_info": {
   "codemirror_mode": {
    "name": "ipython",
    "version": 3
   },
   "file_extension": ".py",
   "mimetype": "text/x-python",
   "name": "python",
   "nbconvert_exporter": "python",
   "pygments_lexer": "ipython3",
   "version": "3.7.3"
  }
 },
 "nbformat": 4,
 "nbformat_minor": 1
}
