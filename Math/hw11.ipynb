{
 "cells": [
  {
   "cell_type": "markdown",
   "metadata": {
    "colab_type": "text",
    "id": "aU5YNMH9kVqP"
   },
   "source": [
    "# HW  11"
   ]
  },
  {
   "cell_type": "code",
   "execution_count": 5,
   "metadata": {},
   "outputs": [],
   "source": [
    "import math\n",
    "import numpy as np\n",
    "import matplotlib.pyplot as plt\n",
    "%matplotlib inline\n",
    "from sympy import *"
   ]
  },
  {
   "cell_type": "markdown",
   "metadata": {
    "colab_type": "text",
    "id": "SmdURZ_OkVqQ"
   },
   "source": [
    "__1.__ Исследовать сходимость ряда. \n",
    "\n",
    "\n",
    "### $$\\frac{1}{2\\sqrt2}+\\frac{1}{3\\sqrt3}+\\,...\\,+\\frac{1}{(n+1)\\sqrt{n+1}}+\\,...\\,=\\sum\\limits_{n=1}^{+\\infty}\\frac{1}{(n+1)\\sqrt{n+1}}$$\n",
    "\n",
    "(*) Двумя различными признаками."
   ]
  },
  {
   "cell_type": "markdown",
   "metadata": {
    "colab_type": "text",
    "id": "OFVqyIa2TuBd"
   },
   "source": [
    "## Решение 1. \n",
    "### Второй признак сравнения\n",
    "\n",
    "$$ \\sum\\limits_{n=1}^{+\\infty}\\frac{1}{(n+1)\\sqrt{n+1}} \\sim O\\Bigr(\\frac{1}{n^{3/2}}\\Bigl)$$\n",
    "\n",
    "так как $\\frac {3}{2} > 1 $, то ряд сходится\n",
    "\n",
    "## Решение 2. \n",
    "### Интегральный признак Коши.\n",
    "\n",
    "$$\\int\\limits_{1}^{+\\infty}\\frac{dx}{(x+1)\\sqrt{x+1}} = \\int\\limits_{1}^{+\\infty} (x+1)^{-\\frac{3}{2}}d(x+1)  = -\\frac{2}{\\sqrt {x+1}} \\bigg|_1^\\infty =  0 - (-\\frac{2}{\\sqrt 2}) = \\sqrt 2$$\n",
    "\n",
    "Следовательно ряд сходится\n"
   ]
  },
  {
   "cell_type": "code",
   "execution_count": 6,
   "metadata": {
    "colab": {
     "base_uri": "https://localhost:8080/",
     "height": 39
    },
    "colab_type": "code",
    "id": "uzHdsjtoV0DR",
    "outputId": "062f535c-cf72-463f-89d6-d3b1d82205cc"
   },
   "outputs": [
    {
     "data": {
      "image/png": "[encoded data removed]",
      "text/latex": [
       "$$\\left(x + 1\\right)^{-1.5}$$"
      ],
      "text/plain": [
       "       -1.5\n",
       "(x + 1)    "
      ]
     },
     "execution_count": 6,
     "metadata": {},
     "output_type": "execute_result"
    }
   ],
   "source": [
    "init_printing()\n",
    "x=Symbol('x')\n",
    "f=1/(x+1)**(3/2)\n",
    "f"
   ]
  },
  {
   "cell_type": "code",
   "execution_count": 7,
   "metadata": {
    "colab": {
     "base_uri": "https://localhost:8080/",
     "height": 37
    },
    "colab_type": "code",
    "id": "ASZxjaK8WPfH",
    "outputId": "a22cce4a-9625-44c8-93b0-a5e500514afc"
   },
   "outputs": [
    {
     "data": {
      "image/png": "[encoded data removed]",
      "text/latex": [
       "$$1.41421356237309$$"
      ],
      "text/plain": [
       "1.41421356237309"
      ]
     },
     "execution_count": 7,
     "metadata": {},
     "output_type": "execute_result"
    }
   ],
   "source": [
    "integrate(f,(x, 1, +oo))"
   ]
  },
  {
   "cell_type": "markdown",
   "metadata": {
    "colab_type": "text",
    "id": "cECfCSANkVqR"
   },
   "source": [
    "__2.__ Исследовать сходимость ряда\n",
    "\n",
    "### $$\\frac{1000}{1!}+\\frac{1000^2}{2!}+\\,...\\,+\\frac{1000^n}{n!}+\\,...\\,=\\sum\\limits_{n=1}^{+\\infty}\\frac{1000^n}{n!}$$"
   ]
  },
  {
   "cell_type": "markdown",
   "metadata": {
    "colab_type": "text",
    "id": "vYyQvoHSZCfE"
   },
   "source": [
    "По признаку д'Аламбера рассмотрим предел:\n",
    "\n",
    "$$\\lim_{n\\to +\\infty}\\frac{a_{n+1}}{a_{n}}= \\lim_{n\\to +\\infty}\\frac{1000^{n+1}}{(n+1)!}: \\frac{1000^{n}}{n!} = \\lim_{n\\to +\\infty}\\frac{1000^{n+1}}{(n+1)!}\\cdot \\frac{n!}{1000^{n}} = \\lim_{n\\to +\\infty}\\frac{1000}{(n+1)} = 0$$\n",
    "\n",
    "Следовательно ряд сходится"
   ]
  },
  {
   "cell_type": "markdown",
   "metadata": {
    "colab_type": "text",
    "id": "DFrjdtbHkVqS"
   },
   "source": [
    "__3*.__ Исследовать сходимость ряда\n",
    "\n",
    "### $$\\frac{2\\cdot1!}{1}+\\frac{2^2\\cdot2!}{2^2}+\\,...\\,+\\frac{2^n\\cdot n!}{n^n}+\\,...\\,=\\sum\\limits_{n=1}^{+\\infty}\\frac{2^n\\cdot n!}{n^n}$$"
   ]
  },
  {
   "cell_type": "markdown",
   "metadata": {
    "colab_type": "text",
    "id": "UgB4ntc9fe4i"
   },
   "source": [
    "Учитывая неравенство из формулы Стирлинга\n",
    "$$  \\frac{\\sqrt{2\\pi}\\cdot \\sqrt n \\cdot n^{n}} {e^{n}} ≤ n! ≤ \\frac{e \\cdot \\sqrt n \\cdot n^{n}} {e^{n}}$$   \n",
    "\n",
    "тогда согласно первому признаку сравнения $a_n  =  \\frac{2^n\\cdot n!}{n^n} \\,\\, ≤ \\,\\,  b_n = \\frac{2^n}{n^n}\\cdot \\frac{e \\cdot \\sqrt n \\cdot n^{n}} {e^{n}}$ и нам достаточно доказать сходимость ряда :\n",
    "\n",
    "$$\\sum\\limits_{n=1}^{+\\infty}\\frac{2^n\\cdot e \\cdot \\sqrt n}{e^n}$$\n",
    "\n",
    "По признаку д'Аламбера рассмотрим предел:\n",
    "\n",
    "$$\\lim_{n\\to +\\infty}\\frac{a_{n+1}}{a_{n}}= \\lim_{n\\to +\\infty}\\frac{e\\cdot 2^{n+1}\\sqrt{n+1}}{e^{n+1}} \\cdot \\frac{e^n}{e \\cdot 2^{n}\\sqrt{n}} = \\lim_{n\\to +\\infty}\\frac{2\\sqrt{n+1}}{e\\sqrt n} = \\frac{2}{e} < 1$$\n",
    "\n",
    "Следовательно ряд сходится"
   ]
  },
  {
   "cell_type": "markdown",
   "metadata": {
    "colab_type": "text",
    "id": "oBv8u3606oeX"
   },
   "source": [
    "__4*.__ Исследовать сходимость ряда\n",
    "\n",
    "### $$\\frac{3\\cdot1!}{1}+\\frac{3^2\\cdot2!}{2^2}+\\,...\\,+\\frac{3^n\\cdot n!}{n^n}+\\,...\\,=\\sum\\limits_{n=1}^{+\\infty}\\frac{3^n\\cdot n!}{n^n}$$\n"
   ]
  },
  {
   "cell_type": "markdown",
   "metadata": {
    "colab_type": "text",
    "id": "V8RUJs-FnD3P"
   },
   "source": [
    "Учитывая неравенство из формулы Стирлинга\n",
    "$$  \\frac{\\sqrt{2\\pi}\\cdot \\sqrt n \\cdot n^{n}} {e^{n}} ≤ n! ≤ \\frac{e \\cdot \\sqrt n \\cdot n^{n}} {e^{n}}$$   \n",
    "\n",
    "тогда согласно первому признаку сравнения  если мы докажем раcходимость ряда \n",
    "\n",
    "$$\\sum\\limits_{n=1}^{+\\infty}\\frac{3^n\\cdot \\sqrt{2\\pi} \\cdot \\sqrt n}{e^n}$$\n",
    "\n",
    "это будет значить что исходный ряд также расходится.\n",
    "\n",
    "По признаку д'Аламбера рассмотрим предел:\n",
    "\n",
    "$$\\lim_{n\\to +\\infty}\\frac{a_{n+1}}{a_{n}}= \\lim_{n\\to +\\infty}\\frac{\\sqrt{2\\pi} \\cdot 3^{n+1}\\sqrt{n+1}}{e^{n+1}} \\cdot \\frac{e^n}{\\sqrt{2\\pi} \\cdot 3^{n}\\sqrt{n}} = \\lim_{n\\to +\\infty}\\frac{3\\sqrt{n+1}}{e\\sqrt n} = \\frac{3}{e} > 1$$\n",
    "\n",
    "Следовательно ряд расходится"
   ]
  },
  {
   "cell_type": "markdown",
   "metadata": {
    "colab_type": "text",
    "id": "Hk_ocTUI6oeY"
   },
   "source": [
    "__5.__ Исследовать сходимость ряда\n",
    "\n",
    "### $$-\\frac{\\sqrt1}{101}+\\frac{\\sqrt2}{102}-\\,...\\,+\\frac{(-1)^n\\sqrt n}{n+100}+\\,...\\,=\\sum\\limits_{n=1}^{+\\infty}\\frac{(-1)^n\\sqrt n}{n+100}$$"
   ]
  },
  {
   "cell_type": "markdown",
   "metadata": {
    "colab_type": "text",
    "id": "GHZo5ZUaqMDA"
   },
   "source": [
    "Согласно признака Лейбница для сходимости достаточно чтобы члены ряда $|a_n|$ убывали монотонно по модулю. \n",
    "\n",
    "$$\\lim_{n\\to +\\infty} |\\frac{(-1)^n\\sqrt n}{n+100}| = \\lim_{n\\to +\\infty} |\\frac{\\sqrt n}{n+100}| \\sim  \\lim_{n\\to +\\infty} \\frac{1}{\\sqrt n}$$\n",
    "\n",
    "то есть ряд сходится, но сходится слабо, \n",
    "\n",
    "так как $\\sum\\limits_{n=1}^{+\\infty}|\\frac{(-1)^n\\sqrt n}{n+100}| \\sim O\\Bigr(\\frac{1}{n^{1/2}}\\Bigl)$"
   ]
  },
  {
   "cell_type": "markdown",
   "metadata": {
    "colab_type": "text",
    "id": "COzDb4_L6oeZ"
   },
   "source": [
    "__6*.__ Разложить функцию $y=e^x$ в ряд Маклорена, а так же в ряд Фурье на отрезке $[-\\pi, \\pi]$. Построить график функции и разложений."
   ]
  },
  {
   "cell_type": "markdown",
   "metadata": {
    "colab_type": "text",
    "id": "3c3CnIXxsX6A"
   },
   "source": [
    "## Ряд Маклорена\n",
    "\n",
    "$$f(x)=\\sum\\limits_{n=0}^{+\\infty}\\frac{f^{(n)}(0)}{n!}x^n$$\n",
    "\n",
    "то есть\n",
    "\n",
    "$$ a_n = \\frac{e^0}{n!}$$\n",
    "\n",
    "так как $ {e^x}^{(n)} = e^x \\,\\,\\, \\forall n \\in N $\n",
    "\n",
    "тогда\n",
    "\n",
    "$$f_M(x) = \\sum\\limits_{n=0}^{+\\infty}\\frac{x^n}{n!} =1 + \\sum\\limits_{n=1}^{+\\infty}\\frac{x^n}{n!}$$\n"
   ]
  },
  {
   "cell_type": "markdown",
   "metadata": {
    "colab_type": "text",
    "id": "bn3cf3HfurJd"
   },
   "source": [
    "## Ряд Фурье\n",
    "\n",
    "На интервале $[-\\pi, \\pi]$:\n",
    "\n",
    "### $$f(x)=a_{0}+\\sum\\limits_{n=1}^{+\\infty}(a_n\\cos nx+b_n\\sin nx)$$\n",
    "\n",
    "где\n",
    "\n",
    "### $$a_0=\\frac{1}{2\\pi}\\int\\limits_{-\\pi}^\\pi f(x)\\,dx$$\n",
    "\n",
    "### $$a_n=\\frac{1}{\\pi}\\int\\limits_{-\\pi}^\\pi f(x)\\cos nx\\,dx$$\n",
    "\n",
    "### $$b_n=\\frac{1}{\\pi}\\int\\limits_{-\\pi}^\\pi f(x)\\sin nx\\,dx$$\n",
    "\n",
    "Вычислим \n",
    "\n",
    "$$a_0=\\frac{1}{2\\pi}\\int\\limits_{-\\pi}^\\pi e^x\\,dx = \\frac{1}{2\\pi} e^x\\bigg|_{-\\pi}^{\\pi} = \\frac{e^\\pi - e^{-\\pi}}{2\\pi}$$\n",
    "\n",
    "$$ a_n= \\frac{1}{\\pi}\\int\\limits_{-\\pi}^\\pi e^x \\cos nx\\,dx = \\frac{e^x (n\\cdot sin(n\\cdot x) + cos(n \\cdot x))}{(n^2 + 1)} \\bigg|_{-\\pi}^{\\pi} = (-1)^n\\cdot \n",
    "\\frac{e^\\pi - e^{-\\pi}}{\\pi (n^2 + 1)}$$\n",
    "\n",
    "$$b_n=\\frac{1}{\\pi}\\int\\limits_{-\\pi}^\\pi e^x\\sin nx\\,dx = \\frac{e^x (sin(n\\cdot x) - n\\cdot cos(n \\cdot x))}{(n^2 + 1)} \\bigg|_{-\\pi}^{\\pi} = \n",
    " (-1)^n\\cdot (-n)\\cdot\\frac{e^{\\pi} - e^{-\\pi}}{\\pi (n^2 + 1)}$$\n",
    "\n",
    " тогда\n",
    "\n",
    " $$f_F(x) = \\frac{e^\\pi - e^{-\\pi}}{\\pi}\\cdot(\\frac{1}{2}+ \\sum\\limits_{n=1}^{+\\infty}\\frac{(-1)^n}{(n^2 + 1)}\\cdot(\\cos (n\\cdot x) - n\\cdot \\sin (n\\cdot x)  )   $$ \n",
    "\n"
   ]
  },
  {
   "cell_type": "code",
   "execution_count": 8,
   "metadata": {
    "colab": {
     "base_uri": "https://localhost:8080/",
     "height": 265
    },
    "colab_type": "code",
    "id": "uwy-8pxgJ3Xk",
    "outputId": "22adf9cb-e56b-4e65-b062-354fd358376f"
   },
   "outputs": [
    {
     "data": {
      "image/png": "[encoded data removed]",
      "text/plain": [
       "<Figure size 432x288 with 1 Axes>"
      ]
     },
     "metadata": {
      "needs_background": "light"
     },
     "output_type": "display_data"
    }
   ],
   "source": [
    "st = 200\n",
    "x =  np.linspace(-math.pi, math.pi, st+1)\n",
    "k = 7\n",
    "\n",
    "f = math.e**x\n",
    "\n",
    "msin = np.vectorize(math.sin)\n",
    "mcos = np.vectorize(math.cos)\n",
    "\n",
    "fm = 1\n",
    "ff = 1/2\n",
    "for n in range(1,k+1):\n",
    "  fm += x**n/math.factorial(n) # определеям Ряд Маклорана как сумму  k членов\n",
    "  ff += (-1)**n/(n**2+1)*(mcos(n*x)-n*msin(n*x)) # определеям Ряд Фурье как сумму  k членов\n",
    "\n",
    "ff *=(math.e**math.pi-math.e**(-math.pi))/math.pi # доумножаем Ряд Фурье на коэффициент\n",
    "\n",
    "plt.plot(x,f, c='red', label=\"Функция e^x\")\n",
    "plt.plot(x,fm, c='green', label=\"Ряд Маклорана\")\n",
    "plt.plot(x,ff, c='blue', label=\"Ряд Фурье\")\n",
    "plt.grid()\n",
    "plt.legend()\n",
    "plt.show()"
   ]
  }
 ],
 "metadata": {
  "colab": {
   "collapsed_sections": [],
   "name": "math_an_11.ipynb",
   "provenance": []
  },
  "kernelspec": {
   "display_name": "Python 3",
   "language": "python",
   "name": "python3"
  },
  "language_info": {
   "codemirror_mode": {
    "name": "ipython",
    "version": 3
   },
   "file_extension": ".py",
   "mimetype": "text/x-python",
   "name": "python",
   "nbconvert_exporter": "python",
   "pygments_lexer": "ipython3",
   "version": "3.7.3"
  }
 },
 "nbformat": 4,
 "nbformat_minor": 1
}
