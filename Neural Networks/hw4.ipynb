{
  "nbformat": 4,
  "nbformat_minor": 0,
  "metadata": {
    "kernelspec": {
      "name": "python3",
      "display_name": "Python 3"
    },
    "language_info": {
      "codemirror_mode": {
        "name": "ipython",
        "version": 3
      },
      "file_extension": ".py",
      "mimetype": "text/x-python",
      "name": "python",
      "nbconvert_exporter": "python",
      "pygments_lexer": "ipython3",
      "version": "3.7.3"
    },
    "colab": {
      "name": "hw4.ipynb",
      "provenance": [],
      "collapsed_sections": []
    },
    "accelerator": "GPU"
  },
  "cells": [
    {
      "cell_type": "code",
      "metadata": {
        "id": "hKKxML1QUmnS"
      },
      "source": [
        "#From SAV to LOVE"
      ],
      "execution_count": 1,
      "outputs": []
    },
    {
      "cell_type": "markdown",
      "metadata": {
        "id": "-PLcPj7dUPBl"
      },
      "source": [
        "# HW№4"
      ]
    },
    {
      "cell_type": "markdown",
      "metadata": {
        "id": "GDmXFo6hNZNt"
      },
      "source": [
        "- обучить сверточную нейронную сеть в стиле AlexNet (с падением размера ядра свертки и последовательностью блоков свертка-пулинг  (conv-pool)-(conv-pool)-...) на датасете fashion-mnist\r\n",
        "- оценить рост точности при увеличении ширины сети (больше ядер)\r\n",
        "- оценить рост точности при увеличении глубины сети (больше слоев)\r\n",
        "- сравнить с точностью полносвязной сети для этой выборки\r\n",
        "    </li>"
      ]
    },
    {
      "cell_type": "code",
      "metadata": {
        "id": "OmJ8o0_tMnkp"
      },
      "source": [
        "from tensorflow.keras.models import Sequential\r\n",
        "from tensorflow.keras import models, layers\r\n",
        "import tensorflow.keras as keras\r\n",
        "from tensorflow.keras.datasets import fashion_mnist\r\n",
        "from tensorflow.keras.utils import to_categorical"
      ],
      "execution_count": 2,
      "outputs": []
    },
    {
      "cell_type": "code",
      "metadata": {
        "id": "PdX4riMptTXy"
      },
      "source": [
        "# загрузка тренировочных и тестовых данных\r\n",
        "(x_train, y_train), (x_test, y_test) = fashion_mnist.load_data()\r\n",
        "# конвертация чисел из uint8 в float32\r\n",
        "x_train = x_train.astype('float32')\r\n",
        "x_test = x_test.astype('float32')\r\n",
        "# нормализация данных [0, 1]\r\n",
        "x_train /= 255 \r\n",
        "x_test /= 255 \r\n",
        "# трансформация лейблов в one-hot encoding\r\n",
        "y_train = to_categorical(y_train, 10) \r\n",
        "y_test = to_categorical(y_test, 10) \r\n",
        "# изменение размерности массива в 4D массив\r\n",
        "x_train = x_train.reshape(x_train.shape[0], 28,28,1)\r\n",
        "x_test = x_test.reshape(x_test.shape[0], 28,28,1)"
      ],
      "execution_count": 3,
      "outputs": []
    },
    {
      "cell_type": "code",
      "metadata": {
        "id": "q_1hNBrl2enw",
        "colab": {
          "base_uri": "https://localhost:8080/"
        },
        "outputId": "0cf8b465-66ee-430d-d0f4-d491dc676c6e"
      },
      "source": [
        "from tensorflow.keras.models import Model \n",
        "# инициализация  модели\n",
        "input1= layers.Input(shape=(28,28,1))\n",
        "# первый сверточный слой\n",
        "x1 = layers.Conv2D(6, kernel_size=(7, 7), strides=(1, 1), activation='tanh',  padding=\"same\")(input1)\n",
        "# второй пуллинговый слой\n",
        "x2 = layers.AveragePooling2D(pool_size=(2, 2), strides=(2, 2), padding='valid')(x1)\n",
        "# третий сверточный слой\n",
        "x3 = layers.Conv2D(16, kernel_size=(7, 7), strides=(1, 1), activation='tanh', padding='valid')(x2)\n",
        "# четвертый пуллинговый слой\n",
        "x4 = layers.AveragePooling2D(pool_size=(2, 2), strides=(2, 2), padding='valid')(x3)\n",
        "# пятый  слой\n",
        "x5 = layers.Conv2D(120, kernel_size=(3, 3), strides=(1, 1), activation='tanh', padding='valid')(x4)\n",
        "# сглаживание CNN выхода чтобы можно было его присоединить к полносвязногому слою\n",
        "x6 = layers.Flatten()(x5)\n",
        "# шестой полносвязный слой\n",
        "x7 = layers.Dense(84, activation='tanh')(x6)\n",
        "# выходной слой с функцией активации softmax\n",
        "out_x = layers.Dense(10, activation='softmax')(x7)\n",
        "# Соберем полную модель сети от входа к выходу \n",
        "model1 = Model(inputs = input1, outputs = out_x) \n",
        "# компилияция модели\n",
        "model1.compile(loss=keras.losses.categorical_crossentropy, optimizer='SGD', metrics=[\"accuracy\"])\n",
        "# Обучаем модель\n",
        "hist = model1.fit(x=x_train,y=y_train, epochs=5, batch_size=128, validation_data=(x_test, y_test), verbose=1)\n",
        "test_score = model1.evaluate(x_test, y_test)\n",
        "print(\"Test loss {:.4f}, accuracy {:.2f}%\".format(test_score[0], test_score[1] * 100))"
      ],
      "execution_count": 4,
      "outputs": [
        {
          "output_type": "stream",
          "text": [
            "Epoch 1/5\n",
            "469/469 [==============================] - 4s 4ms/step - loss: 1.6596 - accuracy: 0.4521 - val_loss: 0.9092 - val_accuracy: 0.6852\n",
            "Epoch 2/5\n",
            "469/469 [==============================] - 2s 4ms/step - loss: 0.8348 - accuracy: 0.7053 - val_loss: 0.7359 - val_accuracy: 0.7311\n",
            "Epoch 3/5\n",
            "469/469 [==============================] - 2s 4ms/step - loss: 0.7023 - accuracy: 0.7399 - val_loss: 0.6689 - val_accuracy: 0.7529\n",
            "Epoch 4/5\n",
            "469/469 [==============================] - 2s 4ms/step - loss: 0.6352 - accuracy: 0.7671 - val_loss: 0.6286 - val_accuracy: 0.7651\n",
            "Epoch 5/5\n",
            "469/469 [==============================] - 2s 3ms/step - loss: 0.5985 - accuracy: 0.7817 - val_loss: 0.5981 - val_accuracy: 0.7830\n",
            "313/313 [==============================] - 1s 2ms/step - loss: 0.5981 - accuracy: 0.7830\n",
            "Test loss 0.5981, accuracy 78.30%\n"
          ],
          "name": "stdout"
        }
      ]
    },
    {
      "cell_type": "markdown",
      "metadata": {
        "id": "j9CNYPn4XJf4"
      },
      "source": [
        "accurcy - 78,3 для базового варианта\r\n",
        "\r\n"
      ]
    },
    {
      "cell_type": "code",
      "metadata": {
        "colab": {
          "base_uri": "https://localhost:8080/"
        },
        "id": "Wu6NeGboVULj",
        "outputId": "a031980a-19af-4100-accf-de1d7072a70c"
      },
      "source": [
        "from tensorflow.keras.models import Model \r\n",
        "# инициализация  модели\r\n",
        "input1= layers.Input(shape=(28,28,1))\r\n",
        "# первый сверточный слой\r\n",
        "x1 = layers.Conv2D(6, kernel_size=(7, 7), strides=(1, 1), activation='tanh',  padding=\"same\")(input1)\r\n",
        "# второй пуллинговый слой\r\n",
        "x2 = layers.AveragePooling2D(pool_size=(2, 2), strides=(2, 2), padding='valid')(x1)\r\n",
        "# третий сверточный слой\r\n",
        "x3 = layers.Conv2D(16, kernel_size=(7, 7), strides=(1, 1), activation='tanh', padding='valid')(x2)\r\n",
        "# четвертый пуллинговый слой\r\n",
        "x4 = layers.AveragePooling2D(pool_size=(2, 2), strides=(2, 2), padding='valid')(x3)\r\n",
        "# пятый  слой\r\n",
        "x5 = layers.Conv2D(120, kernel_size=(3, 3), strides=(1, 1), activation='tanh', padding='valid')(x4)\r\n",
        "# сглаживание CNN выхода чтобы можно было его присоединить к полносвязногому слою\r\n",
        "x6 = layers.Flatten()(x5)\r\n",
        "# шестой полносвязный слой\r\n",
        "x7 = layers.Dense(84, activation='tanh')(x6)\r\n",
        "# выходной слой с функцией активации softmax\r\n",
        "out_x = layers.Dense(10, activation='softmax')(x7)\r\n",
        "# Соберем полную модель сети от входа к выходу \r\n",
        "model1 = Model(inputs = input1, outputs = out_x) \r\n",
        "# компилияция модели\r\n",
        "model1.compile(loss=keras.losses.categorical_crossentropy, optimizer='SGD', metrics=[\"accuracy\"])\r\n",
        "# Обучаем модель\r\n",
        "hist = model1.fit(x=x_train,y=y_train, epochs=10, batch_size=128, validation_data=(x_test, y_test), verbose=1)\r\n",
        "test_score = model1.evaluate(x_test, y_test)\r\n",
        "print(\"Test loss {:.4f}, accuracy {:.2f}%\".format(test_score[0], test_score[1] * 100))"
      ],
      "execution_count": 7,
      "outputs": [
        {
          "output_type": "stream",
          "text": [
            "Epoch 1/10\n",
            "469/469 [==============================] - 2s 4ms/step - loss: 1.6944 - accuracy: 0.4762 - val_loss: 0.8591 - val_accuracy: 0.7034\n",
            "Epoch 2/10\n",
            "469/469 [==============================] - 2s 3ms/step - loss: 0.7820 - accuracy: 0.7237 - val_loss: 0.7121 - val_accuracy: 0.7329\n",
            "Epoch 3/10\n",
            "469/469 [==============================] - 2s 4ms/step - loss: 0.6700 - accuracy: 0.7493 - val_loss: 0.6555 - val_accuracy: 0.7538\n",
            "Epoch 4/10\n",
            "469/469 [==============================] - 2s 4ms/step - loss: 0.6204 - accuracy: 0.7715 - val_loss: 0.6179 - val_accuracy: 0.7738\n",
            "Epoch 5/10\n",
            "469/469 [==============================] - 2s 4ms/step - loss: 0.5773 - accuracy: 0.7874 - val_loss: 0.5869 - val_accuracy: 0.7819\n",
            "Epoch 6/10\n",
            "469/469 [==============================] - 2s 3ms/step - loss: 0.5531 - accuracy: 0.8005 - val_loss: 0.5604 - val_accuracy: 0.7936\n",
            "Epoch 7/10\n",
            "469/469 [==============================] - 2s 3ms/step - loss: 0.5242 - accuracy: 0.8119 - val_loss: 0.5414 - val_accuracy: 0.8040\n",
            "Epoch 8/10\n",
            "469/469 [==============================] - 2s 4ms/step - loss: 0.5056 - accuracy: 0.8180 - val_loss: 0.5211 - val_accuracy: 0.8149\n",
            "Epoch 9/10\n",
            "469/469 [==============================] - 2s 4ms/step - loss: 0.4876 - accuracy: 0.8246 - val_loss: 0.5052 - val_accuracy: 0.8183\n",
            "Epoch 10/10\n",
            "469/469 [==============================] - 2s 4ms/step - loss: 0.4693 - accuracy: 0.8330 - val_loss: 0.4934 - val_accuracy: 0.8221\n",
            "313/313 [==============================] - 1s 2ms/step - loss: 0.4934 - accuracy: 0.8221\n",
            "Test loss 0.4934, accuracy 82.21%\n"
          ],
          "name": "stdout"
        }
      ]
    },
    {
      "cell_type": "markdown",
      "metadata": {
        "id": "2agmf37jVpY7"
      },
      "source": [
        "## Вывод:\r\n",
        "\r\n",
        "Добавили еще эпох (в два раза до 10) и качество выросло, accuracy 82.21%\r\n"
      ]
    },
    {
      "cell_type": "code",
      "metadata": {
        "colab": {
          "base_uri": "https://localhost:8080/"
        },
        "id": "Sr6baNv_VtdA",
        "outputId": "48641a0c-a1e3-4409-cd35-7e1bcfc84aa7"
      },
      "source": [
        "from tensorflow.keras.models import Model \r\n",
        "# инициализация  модели\r\n",
        "input1= layers.Input(shape=(28,28,1))\r\n",
        "# первый сверточный слой\r\n",
        "x1 = layers.Conv2D(6, kernel_size=(7, 7), strides=(1, 1), activation='tanh',  padding=\"same\")(input1)\r\n",
        "# второй пуллинговый слой\r\n",
        "x2 = layers.AveragePooling2D(pool_size=(2, 2), strides=(2, 2), padding='valid')(x1)\r\n",
        "# третий сверточный слой\r\n",
        "x3 = layers.Conv2D(16, kernel_size=(7, 7), strides=(1, 1), activation='tanh', padding='valid')(x2)\r\n",
        "# четвертый пуллинговый слой\r\n",
        "x4 = layers.AveragePooling2D(pool_size=(2, 2), strides=(2, 2), padding='valid')(x3)\r\n",
        "# пятый  слой\r\n",
        "x5 = layers.Conv2D(120, kernel_size=(3, 3), strides=(1, 1), activation='tanh', padding='valid')(x4)\r\n",
        "# сглаживание CNN выхода чтобы можно было его присоединить к полносвязногому слою\r\n",
        "x6 = layers.Flatten()(x5)\r\n",
        "# шестой полносвязный слой\r\n",
        "x7= layers.Dense(84, activation='tanh')(x6)\r\n",
        "# выходной слой с функцией активации softmax\r\n",
        "out_x = layers.Dense(10, activation='softmax')(x7)\r\n",
        "# Соберем полную модель сети от входа к выходу \r\n",
        "model1 = Model(inputs = input1, outputs = out_x) \r\n",
        "# компилияция модели\r\n",
        "model1.compile(loss=keras.losses.categorical_crossentropy, optimizer='SGD', metrics=[\"accuracy\"])\r\n",
        "# Обучаем модель\r\n",
        "hist = model1.fit(x=x_train,y=y_train, epochs=15, batch_size=128, validation_data=(x_test, y_test), verbose=1)\r\n",
        "test_score = model1.evaluate(x_test, y_test)\r\n",
        "print(\"Test loss {:.4f}, accuracy {:.2f}%\".format(test_score[0], test_score[1] * 100))"
      ],
      "execution_count": 8,
      "outputs": [
        {
          "output_type": "stream",
          "text": [
            "Epoch 1/15\n",
            "469/469 [==============================] - 2s 4ms/step - loss: 1.7147 - accuracy: 0.4404 - val_loss: 0.8497 - val_accuracy: 0.7055\n",
            "Epoch 2/15\n",
            "469/469 [==============================] - 2s 4ms/step - loss: 0.7774 - accuracy: 0.7250 - val_loss: 0.7066 - val_accuracy: 0.7352\n",
            "Epoch 3/15\n",
            "469/469 [==============================] - 2s 4ms/step - loss: 0.6626 - accuracy: 0.7545 - val_loss: 0.6501 - val_accuracy: 0.7562\n",
            "Epoch 4/15\n",
            "469/469 [==============================] - 2s 3ms/step - loss: 0.6172 - accuracy: 0.7754 - val_loss: 0.6120 - val_accuracy: 0.7753\n",
            "Epoch 5/15\n",
            "469/469 [==============================] - 2s 3ms/step - loss: 0.5819 - accuracy: 0.7877 - val_loss: 0.5860 - val_accuracy: 0.7841\n",
            "Epoch 6/15\n",
            "469/469 [==============================] - 2s 3ms/step - loss: 0.5587 - accuracy: 0.7969 - val_loss: 0.5650 - val_accuracy: 0.7891\n",
            "Epoch 7/15\n",
            "469/469 [==============================] - 2s 4ms/step - loss: 0.5328 - accuracy: 0.8082 - val_loss: 0.5474 - val_accuracy: 0.8013\n",
            "Epoch 8/15\n",
            "469/469 [==============================] - 2s 4ms/step - loss: 0.5136 - accuracy: 0.8149 - val_loss: 0.5272 - val_accuracy: 0.8104\n",
            "Epoch 9/15\n",
            "469/469 [==============================] - 2s 4ms/step - loss: 0.4993 - accuracy: 0.8216 - val_loss: 0.5149 - val_accuracy: 0.8146\n",
            "Epoch 10/15\n",
            "469/469 [==============================] - 2s 4ms/step - loss: 0.4839 - accuracy: 0.8254 - val_loss: 0.5019 - val_accuracy: 0.8188\n",
            "Epoch 11/15\n",
            "469/469 [==============================] - 2s 4ms/step - loss: 0.4715 - accuracy: 0.8333 - val_loss: 0.4943 - val_accuracy: 0.8231\n",
            "Epoch 12/15\n",
            "469/469 [==============================] - 2s 4ms/step - loss: 0.4601 - accuracy: 0.8326 - val_loss: 0.4793 - val_accuracy: 0.8254\n",
            "Epoch 13/15\n",
            "469/469 [==============================] - 2s 4ms/step - loss: 0.4497 - accuracy: 0.8383 - val_loss: 0.4721 - val_accuracy: 0.8298\n",
            "Epoch 14/15\n",
            "469/469 [==============================] - 2s 4ms/step - loss: 0.4420 - accuracy: 0.8410 - val_loss: 0.4631 - val_accuracy: 0.8346\n",
            "Epoch 15/15\n",
            "469/469 [==============================] - 2s 4ms/step - loss: 0.4376 - accuracy: 0.8437 - val_loss: 0.4575 - val_accuracy: 0.8351\n",
            "313/313 [==============================] - 1s 2ms/step - loss: 0.4575 - accuracy: 0.8351\n",
            "Test loss 0.4575, accuracy 83.51%\n"
          ],
          "name": "stdout"
        }
      ]
    },
    {
      "cell_type": "markdown",
      "metadata": {
        "id": "LsCNzH7-WOYC"
      },
      "source": [
        "## Вывод:\r\n",
        "\r\n",
        "Добавили еще эпох ( до 15) и качество выросло, accuracy 83.51%"
      ]
    },
    {
      "cell_type": "code",
      "metadata": {
        "colab": {
          "base_uri": "https://localhost:8080/"
        },
        "id": "rA9NbxnNWrsU",
        "outputId": "e87bb781-a1bd-40f5-adeb-c82b69d8b838"
      },
      "source": [
        "from tensorflow.keras.models import Model \r\n",
        "# инициализация  модели\r\n",
        "input1= layers.Input(shape=(28,28,1))\r\n",
        "# первый сверточный слой\r\n",
        "x1 = layers.Conv2D(6, kernel_size=(7, 7), strides=(1, 1), activation='tanh',  padding=\"same\")(input1)\r\n",
        "# второй пуллинговый слой\r\n",
        "x2 = layers.AveragePooling2D(pool_size=(2, 2), strides=(2, 2), padding='valid')(x1)\r\n",
        "# третий сверточный слой\r\n",
        "x3 = layers.Conv2D(16, kernel_size=(7, 7), strides=(1, 1), activation='tanh', padding='valid')(x2)\r\n",
        "# сглаживание CNN выхода чтобы можно было его присоединить к полносвязногому слою\r\n",
        "x12 = layers.Flatten()(x3)\r\n",
        "# шестой полносвязный слой\r\n",
        "x13 = layers.Dense(84, activation='tanh')(x12)\r\n",
        "# выходной слой с функцией активации softmax\r\n",
        "out_x = layers.Dense(10, activation='softmax')(x13)\r\n",
        "# Соберем полную модель сети от входа к выходу \r\n",
        "model1 = Model(inputs = input1, outputs = out_x) \r\n",
        "# компилияция модели\r\n",
        "model1.compile(loss=keras.losses.categorical_crossentropy, optimizer='SGD', metrics=[\"accuracy\"])\r\n",
        "# Обучаем модель\r\n",
        "hist = model1.fit(x=x_train,y=y_train, epochs=15, batch_size=128, validation_data=(x_test, y_test), verbose=1)\r\n",
        "test_score = model1.evaluate(x_test, y_test)\r\n",
        "print(\"Test loss {:.4f}, accuracy {:.2f}%\".format(test_score[0], test_score[1] * 100))"
      ],
      "execution_count": 9,
      "outputs": [
        {
          "output_type": "stream",
          "text": [
            "Epoch 1/15\n",
            "469/469 [==============================] - 2s 4ms/step - loss: 1.3538 - accuracy: 0.5844 - val_loss: 0.6953 - val_accuracy: 0.7559\n",
            "Epoch 2/15\n",
            "469/469 [==============================] - 2s 3ms/step - loss: 0.6387 - accuracy: 0.7737 - val_loss: 0.5918 - val_accuracy: 0.7894\n",
            "Epoch 3/15\n",
            "469/469 [==============================] - 2s 3ms/step - loss: 0.5524 - accuracy: 0.8054 - val_loss: 0.5445 - val_accuracy: 0.8043\n",
            "Epoch 4/15\n",
            "469/469 [==============================] - 2s 3ms/step - loss: 0.5039 - accuracy: 0.8228 - val_loss: 0.5131 - val_accuracy: 0.8181\n",
            "Epoch 5/15\n",
            "469/469 [==============================] - 2s 3ms/step - loss: 0.4757 - accuracy: 0.8332 - val_loss: 0.4931 - val_accuracy: 0.8203\n",
            "Epoch 6/15\n",
            "469/469 [==============================] - 2s 3ms/step - loss: 0.4554 - accuracy: 0.8400 - val_loss: 0.4703 - val_accuracy: 0.8328\n",
            "Epoch 7/15\n",
            "469/469 [==============================] - 2s 3ms/step - loss: 0.4380 - accuracy: 0.8473 - val_loss: 0.4589 - val_accuracy: 0.8361\n",
            "Epoch 8/15\n",
            "469/469 [==============================] - 2s 3ms/step - loss: 0.4245 - accuracy: 0.8508 - val_loss: 0.4472 - val_accuracy: 0.8416\n",
            "Epoch 9/15\n",
            "469/469 [==============================] - 2s 3ms/step - loss: 0.4147 - accuracy: 0.8527 - val_loss: 0.4390 - val_accuracy: 0.8434\n",
            "Epoch 10/15\n",
            "469/469 [==============================] - 2s 3ms/step - loss: 0.4003 - accuracy: 0.8584 - val_loss: 0.4278 - val_accuracy: 0.8463\n",
            "Epoch 11/15\n",
            "469/469 [==============================] - 2s 3ms/step - loss: 0.3882 - accuracy: 0.8636 - val_loss: 0.4194 - val_accuracy: 0.8521\n",
            "Epoch 12/15\n",
            "469/469 [==============================] - 2s 3ms/step - loss: 0.3858 - accuracy: 0.8631 - val_loss: 0.4132 - val_accuracy: 0.8535\n",
            "Epoch 13/15\n",
            "469/469 [==============================] - 2s 3ms/step - loss: 0.3770 - accuracy: 0.8688 - val_loss: 0.4074 - val_accuracy: 0.8544\n",
            "Epoch 14/15\n",
            "469/469 [==============================] - 2s 3ms/step - loss: 0.3726 - accuracy: 0.8665 - val_loss: 0.4031 - val_accuracy: 0.8562\n",
            "Epoch 15/15\n",
            "469/469 [==============================] - 2s 3ms/step - loss: 0.3706 - accuracy: 0.8678 - val_loss: 0.3997 - val_accuracy: 0.8554\n",
            "313/313 [==============================] - 1s 2ms/step - loss: 0.3997 - accuracy: 0.8554\n",
            "Test loss 0.3997, accuracy 85.54%\n"
          ],
          "name": "stdout"
        }
      ]
    },
    {
      "cell_type": "markdown",
      "metadata": {
        "id": "p3M8uibyXyii"
      },
      "source": [
        "## Вывод:\r\n",
        "\r\n",
        "Уменьшили кол-во слоев, качество модели выросло, accuracy 85.54%"
      ]
    },
    {
      "cell_type": "markdown",
      "metadata": {
        "id": "gFvE0bA6X7gy"
      },
      "source": [
        "## **Итоговый вывод для этой модели характерно увеличение кол-во эпох и уменьше сложности сетки для роста качества**"
      ]
    }
  ]
}