{
  "nbformat": 4,
  "nbformat_minor": 0,
  "metadata": {
    "colab": {
      "name": "hw8.ipynb",
      "provenance": [],
      "collapsed_sections": []
    },
    "kernelspec": {
      "display_name": "Python 3",
      "language": "python",
      "name": "python3"
    },
    "language_info": {
      "codemirror_mode": {
        "name": "ipython",
        "version": 3
      },
      "file_extension": ".py",
      "mimetype": "text/x-python",
      "name": "python",
      "nbconvert_exporter": "python",
      "pygments_lexer": "ipython3",
      "version": "3.7.0"
    },
    "accelerator": "GPU"
  },
  "cells": [
    {
      "cell_type": "code",
      "metadata": {
        "id": "8S1pvB02yx0W"
      },
      "source": [
        "#From SAV to LOVE"
      ],
      "execution_count": 1,
      "outputs": []
    },
    {
      "cell_type": "markdown",
      "metadata": {
        "id": "yqNHWGYHrThO"
      },
      "source": [
        "# HW№7"
      ]
    },
    {
      "cell_type": "code",
      "metadata": {
        "id": "QPbdfnz4ItIO"
      },
      "source": [
        "import tensorflow as tf\n",
        "from tensorflow import keras\n",
        "from tensorflow.keras import layers\n",
        "import numpy as np\n",
        "from tensorflow.keras.datasets import mnist\n",
        "import matplotlib.pyplot as plt"
      ],
      "execution_count": 2,
      "outputs": []
    },
    {
      "cell_type": "markdown",
      "metadata": {
        "id": "5eL0jLVLItIV"
      },
      "source": [
        "## загрузка даты"
      ]
    },
    {
      "cell_type": "code",
      "metadata": {
        "id": "r_5cxeh_ItIW"
      },
      "source": [
        "# MNIST \n",
        "batch_size = 64\n",
        "(x_train, _), (x_test, _) = keras.datasets.fashion_mnist.load_data()\n",
        "all_digits = np.concatenate([x_train, x_test])\n",
        "all_digits = all_digits.astype(\"float32\") / 255\n",
        "all_digits = np.reshape(all_digits, (-1, 28, 28, 1))\n",
        "dataset = tf.data.Dataset.from_tensor_slices(all_digits)\n",
        "dataset = dataset.shuffle(buffer_size=1024).batch(batch_size).prefetch(32)"
      ],
      "execution_count": 3,
      "outputs": []
    },
    {
      "cell_type": "markdown",
      "metadata": {
        "id": "Z9GINZz5ItIb"
      },
      "source": [
        "## Строим discriminator (расширим кол-во слоев, чтобы поднять качество discriminator)\n",
        "\n",
        "размер карты 28x28 и бинарная классификация (настоящее изображение или генерировано)."
      ]
    },
    {
      "cell_type": "code",
      "metadata": {
        "id": "K99eZdkgItIc",
        "colab": {
          "base_uri": "https://localhost:8080/"
        },
        "outputId": "3a0abf97-ae7f-480e-fa69-de262491867c"
      },
      "source": [
        "discriminator = keras.Sequential(\n",
        "    [\n",
        "        keras.Input(shape=(28, 28, 1)),\n",
        "        layers.Conv2D(64, (3, 3), strides=(2, 2), padding=\"same\"),\n",
        "        layers.LeakyReLU(alpha=0.2),         \n",
        "        layers.Conv2D(128, (3, 3), strides=(2, 2), padding=\"same\"),\n",
        "        layers.LeakyReLU(alpha=0.2),\n",
        "        layers.Conv2D(128, (3, 3), strides=(2, 2), padding=\"same\"),\n",
        "        layers.LeakyReLU(alpha=0.2),\n",
        "        layers.GlobalMaxPooling2D(),\n",
        "        layers.Dense(1),\n",
        "    ],\n",
        "    name=\"discriminator\",\n",
        ")\n",
        "\n",
        "discriminator.summary()"
      ],
      "execution_count": 4,
      "outputs": [
        {
          "output_type": "stream",
          "text": [
            "Model: \"discriminator\"\n",
            "_________________________________________________________________\n",
            "Layer (type)                 Output Shape              Param #   \n",
            "=================================================================\n",
            "conv2d (Conv2D)              (None, 14, 14, 64)        640       \n",
            "_________________________________________________________________\n",
            "leaky_re_lu (LeakyReLU)      (None, 14, 14, 64)        0         \n",
            "_________________________________________________________________\n",
            "conv2d_1 (Conv2D)            (None, 7, 7, 128)         73856     \n",
            "_________________________________________________________________\n",
            "leaky_re_lu_1 (LeakyReLU)    (None, 7, 7, 128)         0         \n",
            "_________________________________________________________________\n",
            "conv2d_2 (Conv2D)            (None, 4, 4, 128)         147584    \n",
            "_________________________________________________________________\n",
            "leaky_re_lu_2 (LeakyReLU)    (None, 4, 4, 128)         0         \n",
            "_________________________________________________________________\n",
            "global_max_pooling2d (Global (None, 128)               0         \n",
            "_________________________________________________________________\n",
            "dense (Dense)                (None, 1)                 129       \n",
            "=================================================================\n",
            "Total params: 222,209\n",
            "Trainable params: 222,209\n",
            "Non-trainable params: 0\n",
            "_________________________________________________________________\n"
          ],
          "name": "stdout"
        }
      ]
    },
    {
      "cell_type": "markdown",
      "metadata": {
        "id": "eodbCQ1WItIh"
      },
      "source": [
        "## Строим generator (расширим кол-во слоев)\n",
        "\n",
        "обратное по отношению к дискриминатору преобразование, меняем `Conv2D` на `Conv2DTranspose` ."
      ]
    },
    {
      "cell_type": "code",
      "metadata": {
        "id": "PY5lCMxqItIi",
        "colab": {
          "base_uri": "https://localhost:8080/"
        },
        "outputId": "ffff1ef6-d9fb-4605-c73f-8c7cdbb47290"
      },
      "source": [
        "latent_dim = 128\n",
        "\n",
        "generator = keras.Sequential(\n",
        "    [\n",
        "        keras.Input(shape=(latent_dim,)),\n",
        "        # строим размер входного вектора 7x7x128 map\n",
        "        layers.Dense(7 * 7 * 128),\n",
        "        layers.LeakyReLU(alpha=0.2),\n",
        "        layers.Reshape((7, 7, 128)),\n",
        "        layers.Conv2DTranspose(128, (4, 4), strides=(2, 2), padding=\"same\"),\n",
        "        layers.LeakyReLU(alpha=0.2),\n",
        "        layers.Conv2DTranspose(256, (4, 4), strides=(2, 2), padding=\"same\"),\n",
        "        layers.LeakyReLU(alpha=0.2),\n",
        "        layers.Conv2D(1, (7, 7), padding=\"same\", activation=\"sigmoid\"),\n",
        "    ],\n",
        "    name=\"generator\",\n",
        ")\n",
        "\n",
        "generator.summary()"
      ],
      "execution_count": 5,
      "outputs": [
        {
          "output_type": "stream",
          "text": [
            "Model: \"generator\"\n",
            "_________________________________________________________________\n",
            "Layer (type)                 Output Shape              Param #   \n",
            "=================================================================\n",
            "dense_1 (Dense)              (None, 6272)              809088    \n",
            "_________________________________________________________________\n",
            "leaky_re_lu_3 (LeakyReLU)    (None, 6272)              0         \n",
            "_________________________________________________________________\n",
            "reshape (Reshape)            (None, 7, 7, 128)         0         \n",
            "_________________________________________________________________\n",
            "conv2d_transpose (Conv2DTran (None, 14, 14, 128)       262272    \n",
            "_________________________________________________________________\n",
            "leaky_re_lu_4 (LeakyReLU)    (None, 14, 14, 128)       0         \n",
            "_________________________________________________________________\n",
            "conv2d_transpose_1 (Conv2DTr (None, 28, 28, 256)       524544    \n",
            "_________________________________________________________________\n",
            "leaky_re_lu_5 (LeakyReLU)    (None, 28, 28, 256)       0         \n",
            "_________________________________________________________________\n",
            "conv2d_3 (Conv2D)            (None, 28, 28, 1)         12545     \n",
            "=================================================================\n",
            "Total params: 1,608,449\n",
            "Trainable params: 1,608,449\n",
            "Non-trainable params: 0\n",
            "_________________________________________________________________\n"
          ],
          "name": "stdout"
        }
      ]
    },
    {
      "cell_type": "markdown",
      "metadata": {
        "id": "kpX7dJvAItIn"
      },
      "source": [
        "## Класс со своим этапом обучения `train_step`"
      ]
    },
    {
      "cell_type": "code",
      "metadata": {
        "id": "oHP6aHUfItIo"
      },
      "source": [
        "\n",
        "class GAN(keras.Model):\n",
        "    def __init__(self, discriminator, generator, latent_dim):\n",
        "        super(GAN, self).__init__()\n",
        "        self.discriminator = discriminator\n",
        "        self.generator = generator\n",
        "        self.latent_dim = latent_dim\n",
        "\n",
        "    def compile(self, d_optimizer, g_optimizer, loss_fn):\n",
        "        super(GAN, self).compile()\n",
        "        self.d_optimizer = d_optimizer\n",
        "        self.g_optimizer = g_optimizer\n",
        "        self.loss_fn = loss_fn\n",
        "\n",
        "    def train_step(self, real_images):\n",
        "        if isinstance(real_images, tuple):\n",
        "            real_images = real_images[0]\n",
        "        # берем случайный пример из скрытого пространства\n",
        "        batch_size = tf.shape(real_images)[0]\n",
        "        random_latent_vectors = tf.random.normal(shape=(batch_size, self.latent_dim))\n",
        "\n",
        "        # Строим по нему фейковое изображение\n",
        "        generated_images = self.generator(random_latent_vectors)\n",
        "\n",
        "        # собрали с реальным в текзор\n",
        "        combined_images = tf.concat([generated_images, real_images], axis=0)\n",
        "\n",
        "        # задаем метки 1 и 0 соответственно\n",
        "        labels = tf.concat(\n",
        "            [tf.ones((batch_size, 1)), tf.zeros((batch_size, 1))], axis=0\n",
        "        )\n",
        "        # Добавляем шум !!!\n",
        "        labels += 0.05 * tf.random.uniform(tf.shape(labels))\n",
        "\n",
        "        # учим discriminator\n",
        "        with tf.GradientTape() as tape:\n",
        "            predictions = self.discriminator(combined_images)\n",
        "            d_loss = self.loss_fn(labels, predictions)\n",
        "        grads = tape.gradient(d_loss, self.discriminator.trainable_weights)\n",
        "        self.d_optimizer.apply_gradients(\n",
        "            zip(grads, self.discriminator.trainable_weights)\n",
        "        )\n",
        "\n",
        "        #Выбрали случайный пример в скрытом пространстве\n",
        "        random_latent_vectors = tf.random.normal(shape=(batch_size, self.latent_dim))\n",
        "\n",
        "        # собрали метки реальных изображений\n",
        "        misleading_labels = tf.zeros((batch_size, 1))\n",
        "\n",
        "        # Учим generator !\n",
        "        with tf.GradientTape() as tape:\n",
        "            predictions = self.discriminator(self.generator(random_latent_vectors))\n",
        "            g_loss = self.loss_fn(misleading_labels, predictions)\n",
        "        grads = tape.gradient(g_loss, self.generator.trainable_weights)\n",
        "        self.g_optimizer.apply_gradients(zip(grads, self.generator.trainable_weights))\n",
        "        return {\"d_loss\": d_loss, \"g_loss\": g_loss}\n"
      ],
      "execution_count": 6,
      "outputs": []
    },
    {
      "cell_type": "markdown",
      "metadata": {
        "id": "P4rYDb3qItIs"
      },
      "source": [
        "## Callback для сохранения изображений по ходу обучения"
      ]
    },
    {
      "cell_type": "code",
      "metadata": {
        "id": "QoLCvAe7ItIt"
      },
      "source": [
        "\n",
        "class GANMonitor(keras.callbacks.Callback):\n",
        "    def __init__(self, num_img=12, latent_dim=128):\n",
        "        self.num_img = num_img\n",
        "        self.latent_dim = latent_dim\n",
        "\n",
        "    def on_epoch_end(self, epoch, logs=None):\n",
        "        random_latent_vectors = tf.random.normal(shape=(self.num_img, self.latent_dim))\n",
        "        generated_images = self.model.generator(random_latent_vectors)\n",
        "        generated_images *= 255\n",
        "        generated_images.numpy()\n",
        "        for i in range(self.num_img):\n",
        "            img = keras.preprocessing.image.array_to_img(generated_images[i])\n",
        "            img.save(\"generated_img_{i}_{epoch}.png\".format(i=i, epoch=epoch))\n"
      ],
      "execution_count": 7,
      "outputs": []
    },
    {
      "cell_type": "markdown",
      "metadata": {
        "id": "YiMWOk1_ItIz"
      },
      "source": [
        "## Учим end-to-end модель, увеличим кол-во эпох, чтобы повысить ее качество"
      ]
    },
    {
      "cell_type": "code",
      "metadata": {
        "id": "HZSj0hUHItI0",
        "colab": {
          "base_uri": "https://localhost:8080/"
        },
        "outputId": "4b2aa347-66ee-4be4-c78e-d340db1c1dc9"
      },
      "source": [
        "epochs = 12\n",
        "\n",
        "gan = GAN(discriminator=discriminator, generator=generator, latent_dim=latent_dim)\n",
        "gan.compile(\n",
        "    d_optimizer=keras.optimizers.Adam(learning_rate=0.0003),\n",
        "    g_optimizer=keras.optimizers.Adam(learning_rate=0.0003),\n",
        "    loss_fn=keras.losses.BinaryCrossentropy(from_logits=True),\n",
        ")\n",
        "\n",
        "gan.fit(\n",
        "    dataset, epochs=epochs, callbacks=[GANMonitor(num_img=12, latent_dim=latent_dim)]\n",
        ")"
      ],
      "execution_count": 8,
      "outputs": [
        {
          "output_type": "stream",
          "text": [
            "Epoch 1/12\n",
            "1094/1094 [==============================] - 63s 55ms/step - d_loss: 0.3094 - g_loss: 8.4329\n",
            "Epoch 2/12\n",
            "1094/1094 [==============================] - 59s 54ms/step - d_loss: 0.2801 - g_loss: 3.6199\n",
            "Epoch 3/12\n",
            "1094/1094 [==============================] - 58s 53ms/step - d_loss: 0.6314 - g_loss: 1.1984\n",
            "Epoch 4/12\n",
            "1094/1094 [==============================] - 59s 54ms/step - d_loss: 0.5736 - g_loss: 1.2453\n",
            "Epoch 5/12\n",
            "1094/1094 [==============================] - 58s 53ms/step - d_loss: 0.5755 - g_loss: 1.2174\n",
            "Epoch 6/12\n",
            "1094/1094 [==============================] - 58s 53ms/step - d_loss: 0.5934 - g_loss: 1.1337\n",
            "Epoch 7/12\n",
            "1094/1094 [==============================] - 60s 55ms/step - d_loss: 0.6126 - g_loss: 1.1217\n",
            "Epoch 8/12\n",
            "1094/1094 [==============================] - 60s 55ms/step - d_loss: 0.6161 - g_loss: 1.0600\n",
            "Epoch 9/12\n",
            "1094/1094 [==============================] - 59s 54ms/step - d_loss: 0.6262 - g_loss: 1.0297\n",
            "Epoch 10/12\n",
            "1094/1094 [==============================] - 59s 54ms/step - d_loss: 0.6126 - g_loss: 1.0385\n",
            "Epoch 11/12\n",
            "1094/1094 [==============================] - 59s 54ms/step - d_loss: 0.6077 - g_loss: 1.0623\n",
            "Epoch 12/12\n",
            "1094/1094 [==============================] - 60s 55ms/step - d_loss: 0.5972 - g_loss: 1.0621\n"
          ],
          "name": "stdout"
        },
        {
          "output_type": "execute_result",
          "data": {
            "text/plain": [
              "<tensorflow.python.keras.callbacks.History at 0x7f0c94684b00>"
            ]
          },
          "metadata": {
            "tags": []
          },
          "execution_count": 8
        }
      ]
    },
    {
      "cell_type": "code",
      "metadata": {
        "id": "idate_fObUtI",
        "colab": {
          "base_uri": "https://localhost:8080/"
        },
        "outputId": "d13936c8-2e15-4c88-d955-b61892ef60f9"
      },
      "source": [
        "gan.fit(\n",
        "    dataset, epochs=epochs, callbacks=[GANMonitor(num_img=12, latent_dim=latent_dim)]\n",
        ")"
      ],
      "execution_count": 9,
      "outputs": [
        {
          "output_type": "stream",
          "text": [
            "Epoch 1/12\n",
            "1094/1094 [==============================] - 59s 54ms/step - d_loss: 0.5837 - g_loss: 1.1130\n",
            "Epoch 2/12\n",
            "1094/1094 [==============================] - 58s 53ms/step - d_loss: 0.5668 - g_loss: 1.1508\n",
            "Epoch 3/12\n",
            "1094/1094 [==============================] - 58s 53ms/step - d_loss: 0.5542 - g_loss: 1.2175\n",
            "Epoch 4/12\n",
            "1094/1094 [==============================] - 58s 53ms/step - d_loss: 0.5472 - g_loss: 1.1789\n",
            "Epoch 5/12\n",
            "1094/1094 [==============================] - 59s 54ms/step - d_loss: 0.5422 - g_loss: 1.2658\n",
            "Epoch 6/12\n",
            "1094/1094 [==============================] - 60s 55ms/step - d_loss: 0.5371 - g_loss: 1.2102\n",
            "Epoch 7/12\n",
            "1094/1094 [==============================] - 59s 54ms/step - d_loss: 0.5312 - g_loss: 1.2403\n",
            "Epoch 8/12\n",
            "1094/1094 [==============================] - 59s 54ms/step - d_loss: 0.5249 - g_loss: 1.3316\n",
            "Epoch 9/12\n",
            "1094/1094 [==============================] - 59s 54ms/step - d_loss: 0.5232 - g_loss: 1.3044\n",
            "Epoch 10/12\n",
            "1094/1094 [==============================] - 60s 55ms/step - d_loss: 0.5260 - g_loss: 1.2627\n",
            "Epoch 11/12\n",
            "1094/1094 [==============================] - 60s 55ms/step - d_loss: 0.5196 - g_loss: 1.2780\n",
            "Epoch 12/12\n",
            "1094/1094 [==============================] - 59s 54ms/step - d_loss: 0.5073 - g_loss: 1.4063\n"
          ],
          "name": "stdout"
        },
        {
          "output_type": "execute_result",
          "data": {
            "text/plain": [
              "<tensorflow.python.keras.callbacks.History at 0x7f0c946f7400>"
            ]
          },
          "metadata": {
            "tags": []
          },
          "execution_count": 9
        }
      ]
    },
    {
      "cell_type": "markdown",
      "metadata": {
        "id": "PN5-bjiVAKtA"
      },
      "source": [
        "**Посмотрим детальный переход**"
      ]
    },
    {
      "cell_type": "markdown",
      "metadata": {
        "id": "cKqdR6bOItI4"
      },
      "source": [
        "Display the last generated images:"
      ]
    },
    {
      "cell_type": "code",
      "metadata": {
        "id": "zZa20XZYItI5",
        "colab": {
          "base_uri": "https://localhost:8080/",
          "height": 353
        },
        "outputId": "172398e7-a00c-4b07-d4a7-0ae76ce600e4"
      },
      "source": [
        "from IPython.display import Image, display\n",
        "\n",
        "display(Image(\"generated_img_0_2.png\"))\n",
        "display(Image(\"generated_img_1_2.png\"))\n",
        "display(Image(\"generated_img_2_2.png\"))\n",
        "display(Image(\"generated_img_3_2.png\"))\n",
        "display(Image(\"generated_img_4_2.png\"))\n",
        "display(Image(\"generated_img_5_2.png\"))\n",
        "display(Image(\"generated_img_6_2.png\"))\n",
        "display(Image(\"generated_img_7_2.png\"))\n",
        "display(Image(\"generated_img_8_2.png\"))\n",
        "display(Image(\"generated_img_9_2.png\"))\n",
        "display(Image(\"generated_img_10_2.png\"))\n",
        "display(Image(\"generated_img_11_2.png\"))"
      ],
      "execution_count": 10,
      "outputs": [
        {
          "output_type": "display_data",
          "data": {
            "image/png": "[encoded data removed]",
            "text/plain": [
              "<IPython.core.display.Image object>"
            ]
          },
          "metadata": {
            "tags": []
          }
        },
        {
          "output_type": "display_data",
          "data": {
            "image/png": "[encoded data removed]",
            "text/plain": [
              "<IPython.core.display.Image object>"
            ]
          },
          "metadata": {
            "tags": []
          }
        },
        {
          "output_type": "display_data",
          "data": {
            "image/png": "[encoded data removed]",
            "text/plain": [
              "<IPython.core.display.Image object>"
            ]
          },
          "metadata": {
            "tags": []
          }
        },
        {
          "output_type": "display_data",
          "data": {
            "image/png": "[encoded data removed]",
            "text/plain": [
              "<IPython.core.display.Image object>"
            ]
          },
          "metadata": {
            "tags": []
          }
        },
        {
          "output_type": "display_data",
          "data": {
            "image/png": "[encoded data removed]",
            "text/plain": [
              "<IPython.core.display.Image object>"
            ]
          },
          "metadata": {
            "tags": []
          }
        },
        {
          "output_type": "display_data",
          "data": {
            "image/png": "[encoded data removed]",
            "text/plain": [
              "<IPython.core.display.Image object>"
            ]
          },
          "metadata": {
            "tags": []
          }
        },
        {
          "output_type": "display_data",
          "data": {
            "image/png": "[encoded data removed]",
            "text/plain": [
              "<IPython.core.display.Image object>"
            ]
          },
          "metadata": {
            "tags": []
          }
        },
        {
          "output_type": "display_data",
          "data": {
            "image/png": "[encoded data removed]",
            "text/plain": [
              "<IPython.core.display.Image object>"
            ]
          },
          "metadata": {
            "tags": []
          }
        },
        {
          "output_type": "display_data",
          "data": {
            "image/png": "[encoded data removed]",
            "text/plain": [
              "<IPython.core.display.Image object>"
            ]
          },
          "metadata": {
            "tags": []
          }
        },
        {
          "output_type": "display_data",
          "data": {
            "image/png": "[encoded data removed]",
            "text/plain": [
              "<IPython.core.display.Image object>"
            ]
          },
          "metadata": {
            "tags": []
          }
        },
        {
          "output_type": "display_data",
          "data": {
            "image/png": "[encoded data removed]",
            "text/plain": [
              "<IPython.core.display.Image object>"
            ]
          },
          "metadata": {
            "tags": []
          }
        },
        {
          "output_type": "display_data",
          "data": {
            "image/png": "[encoded data removed]",
            "text/plain": [
              "<IPython.core.display.Image object>"
            ]
          },
          "metadata": {
            "tags": []
          }
        }
      ]
    },
    {
      "cell_type": "code",
      "metadata": {
        "id": "WruOaC0ahMZr",
        "colab": {
          "base_uri": "https://localhost:8080/",
          "height": 353
        },
        "outputId": "15e9dfd9-f2c3-47ad-cef2-5e9bc78419d7"
      },
      "source": [
        "display(Image(\"generated_img_2_0.png\"))\n",
        "display(Image(\"generated_img_2_1.png\"))\n",
        "display(Image(\"generated_img_2_2.png\"))\n",
        "display(Image(\"generated_img_2_3.png\"))\n",
        "display(Image(\"generated_img_2_4.png\"))\n",
        "display(Image(\"generated_img_2_5.png\"))\n",
        "display(Image(\"generated_img_2_6.png\"))\n",
        "display(Image(\"generated_img_2_7.png\"))\n",
        "display(Image(\"generated_img_2_8.png\"))\n",
        "display(Image(\"generated_img_2_9.png\"))\n",
        "display(Image(\"generated_img_2_10.png\"))\n",
        "display(Image(\"generated_img_2_11.png\"))"
      ],
      "execution_count": 11,
      "outputs": [
        {
          "output_type": "display_data",
          "data": {
            "image/png": "[encoded data removed]",
            "text/plain": [
              "<IPython.core.display.Image object>"
            ]
          },
          "metadata": {
            "tags": []
          }
        },
        {
          "output_type": "display_data",
          "data": {
            "image/png": "[encoded data removed]",
            "text/plain": [
              "<IPython.core.display.Image object>"
            ]
          },
          "metadata": {
            "tags": []
          }
        },
        {
          "output_type": "display_data",
          "data": {
            "image/png": "[encoded data removed]",
            "text/plain": [
              "<IPython.core.display.Image object>"
            ]
          },
          "metadata": {
            "tags": []
          }
        },
        {
          "output_type": "display_data",
          "data": {
            "image/png": "[encoded data removed]",
            "text/plain": [
              "<IPython.core.display.Image object>"
            ]
          },
          "metadata": {
            "tags": []
          }
        },
        {
          "output_type": "display_data",
          "data": {
            "image/png": "[encoded data removed]",
            "text/plain": [
              "<IPython.core.display.Image object>"
            ]
          },
          "metadata": {
            "tags": []
          }
        },
        {
          "output_type": "display_data",
          "data": {
            "image/png": "[encoded data removed]",
            "text/plain": [
              "<IPython.core.display.Image object>"
            ]
          },
          "metadata": {
            "tags": []
          }
        },
        {
          "output_type": "display_data",
          "data": {
            "image/png": "[encoded data removed]",
            "text/plain": [
              "<IPython.core.display.Image object>"
            ]
          },
          "metadata": {
            "tags": []
          }
        },
        {
          "output_type": "display_data",
          "data": {
            "image/png": "[encoded data removed]",
            "text/plain": [
              "<IPython.core.display.Image object>"
            ]
          },
          "metadata": {
            "tags": []
          }
        },
        {
          "output_type": "display_data",
          "data": {
            "image/png": "[encoded data removed]",
            "text/plain": [
              "<IPython.core.display.Image object>"
            ]
          },
          "metadata": {
            "tags": []
          }
        },
        {
          "output_type": "display_data",
          "data": {
            "image/png": "[encoded data removed]",
            "text/plain": [
              "<IPython.core.display.Image object>"
            ]
          },
          "metadata": {
            "tags": []
          }
        },
        {
          "output_type": "display_data",
          "data": {
            "image/png": "[encoded data removed]",
            "text/plain": [
              "<IPython.core.display.Image object>"
            ]
          },
          "metadata": {
            "tags": []
          }
        },
        {
          "output_type": "display_data",
          "data": {
            "image/png": "[encoded data removed]",
            "text/plain": [
              "<IPython.core.display.Image object>"
            ]
          },
          "metadata": {
            "tags": []
          }
        }
      ]
    },
    {
      "cell_type": "markdown",
      "metadata": {
        "id": "AlnE814EE4eB"
      },
      "source": [
        "Наглядно видно как перетекают изображения и увеличивается качество."
      ]
    }
  ]
}