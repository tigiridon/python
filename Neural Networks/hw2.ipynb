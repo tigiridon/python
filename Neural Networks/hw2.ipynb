{
  "nbformat": 4,
  "nbformat_minor": 0,
  "metadata": {
    "colab": {
      "name": "hw2.ipynb",
      "provenance": [],
      "collapsed_sections": []
    },
    "kernelspec": {
      "name": "python3",
      "display_name": "Python 3"
    }
  },
  "cells": [
    {
      "cell_type": "code",
      "metadata": {
        "id": "qd3sajhZcRWn"
      },
      "source": [
        "####From SAV to LOVE"
      ],
      "execution_count": 3,
      "outputs": []
    },
    {
      "cell_type": "markdown",
      "metadata": {
        "id": "uw1k1zaUcM81"
      },
      "source": [
        "# HW №2"
      ]
    },
    {
      "cell_type": "markdown",
      "metadata": {
        "id": "iJSQM0qpcJNe"
      },
      "source": [
        "Используем набор примеров fashion-MNIST\r\n",
        "\r\n",
        "Опишите - какой результата получен в нейросети в зависимости от:\r\n",
        "\r\n",
        "числа нейронов в слое(для 2-хслойной сети),\r\n",
        "числа слоев (2, 3, 5, 10) при близких размерах сети (близкое число тренируемых парметров).\r\n",
        "фиксируйте для тренировочного и тестового набора метрики accuracy.\r\n",
        "Проверьте работу разных оптимизаторов (SGD, Adam, RMSProp) для одной из моделей п.1.Фиксируйте для тренировочного и тестового набора метрики accuracy.\r\n",
        "\r\n",
        "Сделайте вывод - что помогло вам улучшить качество классификации в нейросети на тестовом наборе?\r\n",
        "\r\n",
        "Для одного варианта сетей сформируйте матрицу ошибок по классам. Оцените качество модели по каждому классу отдельно (полнота , точность)"
      ]
    },
    {
      "cell_type": "code",
      "metadata": {
        "colab": {
          "base_uri": "https://localhost:8080/"
        },
        "id": "ggLINdy-Twi2",
        "outputId": "a748c250-4ebf-451d-aa6e-7a4067f373f0"
      },
      "source": [
        "import numpy as np\r\n",
        "import matplotlib.pyplot as plt\r\n",
        "import tensorflow as tf\r\n",
        "import matplotlib.pyplot as plt\r\n",
        "from tensorflow.keras.datasets import mnist\r\n",
        "from tensorflow.keras.models import Sequential\r\n",
        "from tensorflow.keras.layers import Dense\r\n",
        "from tensorflow.keras.utils import to_categorical\r\n",
        "from tensorflow.keras.layers import Concatenate \r\n",
        "from tensorflow.keras.optimizers import Adam, SGD, RMSprop, Adagrad\r\n",
        "from __future__ import absolute_import, division, print_function, unicode_literals\r\n",
        "from __future__ import absolute_import, division, print_function, unicode_literals\r\n",
        "from tensorflow.keras.utils import plot_model\r\n",
        "from tensorflow import keras\r\n",
        "from sklearn.metrics import confusion_matrix, ConfusionMatrixDisplay\r\n",
        "print(tf.__version__)"
      ],
      "execution_count": 4,
      "outputs": [
        {
          "output_type": "stream",
          "text": [
            "2.4.0\n"
          ],
          "name": "stdout"
        }
      ]
    },
    {
      "cell_type": "code",
      "metadata": {
        "colab": {
          "base_uri": "https://localhost:8080/"
        },
        "id": "zS6I1EgRZSmF",
        "outputId": "4fd7b13a-9e18-4b50-f622-a31e97863633"
      },
      "source": [
        "fashion_mnist = keras.datasets.fashion_mnist\r\n",
        "\r\n",
        "(train_images, train_labels), (test_images, test_labels) = fashion_mnist.load_data()"
      ],
      "execution_count": 5,
      "outputs": [
        {
          "output_type": "stream",
          "text": [
            "Downloading data from https://storage.googleapis.com/tensorflow/tf-keras-datasets/train-labels-idx1-ubyte.gz\n",
            "32768/29515 [=================================] - 0s 0us/step\n",
            "Downloading data from https://storage.googleapis.com/tensorflow/tf-keras-datasets/train-images-idx3-ubyte.gz\n",
            "26427392/26421880 [==============================] - 0s 0us/step\n",
            "Downloading data from https://storage.googleapis.com/tensorflow/tf-keras-datasets/t10k-labels-idx1-ubyte.gz\n",
            "8192/5148 [===============================================] - 0s 0us/step\n",
            "Downloading data from https://storage.googleapis.com/tensorflow/tf-keras-datasets/t10k-images-idx3-ubyte.gz\n",
            "4423680/4422102 [==============================] - 0s 0us/step\n"
          ],
          "name": "stdout"
        }
      ]
    },
    {
      "cell_type": "code",
      "metadata": {
        "id": "K1iZ5GvaTwnU"
      },
      "source": [
        "class_names = ['T-shirt/top', 'Trouser', 'Pullover', 'Dress', 'Coat',\r\n",
        "               'Sandal', 'Shirt', 'Sneaker', 'Bag', 'Ankle boot']"
      ],
      "execution_count": 6,
      "outputs": []
    },
    {
      "cell_type": "code",
      "metadata": {
        "colab": {
          "base_uri": "https://localhost:8080/",
          "height": 265
        },
        "id": "qh8o4LcrTwp3",
        "outputId": "123ec48f-a468-4b66-88ac-d32617cb8800"
      },
      "source": [
        "plt.imshow(train_images[0,:,:])\r\n",
        "plt.show()"
      ],
      "execution_count": 7,
      "outputs": [
        {
          "output_type": "display_data",
          "data": {
            "image/png": "[encoded data removed]",
            "text/plain": [
              "<Figure size 432x288 with 1 Axes>"
            ]
          },
          "metadata": {
            "tags": [],
            "needs_background": "light"
          }
        }
      ]
    },
    {
      "cell_type": "code",
      "metadata": {
        "colab": {
          "base_uri": "https://localhost:8080/",
          "height": 265
        },
        "id": "WnyHDBn-ZeB2",
        "outputId": "710e0886-87a0-430c-a231-8d7c2c15067f"
      },
      "source": [
        "plt.figure()\r\n",
        "plt.imshow(train_images[0])\r\n",
        "plt.colorbar()\r\n",
        "plt.grid(False)\r\n",
        "plt.show()"
      ],
      "execution_count": 8,
      "outputs": [
        {
          "output_type": "display_data",
          "data": {
            "image/png": "[encoded data removed]",
            "text/plain": [
              "<Figure size 432x288 with 2 Axes>"
            ]
          },
          "metadata": {
            "tags": [],
            "needs_background": "light"
          }
        }
      ]
    },
    {
      "cell_type": "code",
      "metadata": {
        "colab": {
          "base_uri": "https://localhost:8080/"
        },
        "id": "QNJNWHdyZeEm",
        "outputId": "0fed852e-9a04-450a-b06f-dece0ffb82d8"
      },
      "source": [
        "test_images.shape"
      ],
      "execution_count": 9,
      "outputs": [
        {
          "output_type": "execute_result",
          "data": {
            "text/plain": [
              "(10000, 28, 28)"
            ]
          },
          "metadata": {
            "tags": []
          },
          "execution_count": 9
        }
      ]
    },
    {
      "cell_type": "code",
      "metadata": {
        "colab": {
          "base_uri": "https://localhost:8080/"
        },
        "id": "qEn3XKySZeHc",
        "outputId": "61e78f71-d997-49d0-ac28-4f6e5b3f9647"
      },
      "source": [
        "len(test_labels)"
      ],
      "execution_count": 10,
      "outputs": [
        {
          "output_type": "execute_result",
          "data": {
            "text/plain": [
              "10000"
            ]
          },
          "metadata": {
            "tags": []
          },
          "execution_count": 10
        }
      ]
    },
    {
      "cell_type": "code",
      "metadata": {
        "colab": {
          "base_uri": "https://localhost:8080/"
        },
        "id": "ybfJ0R-zZnCd",
        "outputId": "40fb12d8-a10f-470e-a346-2b3d0ae25fbc"
      },
      "source": [
        "train_labels"
      ],
      "execution_count": 11,
      "outputs": [
        {
          "output_type": "execute_result",
          "data": {
            "text/plain": [
              "array([9, 0, 0, ..., 3, 0, 5], dtype=uint8)"
            ]
          },
          "metadata": {
            "tags": []
          },
          "execution_count": 11
        }
      ]
    },
    {
      "cell_type": "code",
      "metadata": {
        "id": "AgqTaCQ7ZnE-"
      },
      "source": [
        "y_train_labels = to_categorical(train_labels)\r\n",
        "y_test_labels = to_categorical(test_labels)"
      ],
      "execution_count": 12,
      "outputs": []
    },
    {
      "cell_type": "code",
      "metadata": {
        "id": "SLj0-8OXZnHb"
      },
      "source": [
        "train_images = train_images / 255.0\r\n",
        "\r\n",
        "test_images = test_images / 255.0"
      ],
      "execution_count": 13,
      "outputs": []
    },
    {
      "cell_type": "code",
      "metadata": {
        "colab": {
          "base_uri": "https://localhost:8080/",
          "height": 542
        },
        "id": "UxBjJE2vZnKG",
        "outputId": "4d19066e-fbd2-4d0b-83f8-656e471c4f0c"
      },
      "source": [
        "plt.figure(figsize=(10,10))\r\n",
        "for i in range(50):\r\n",
        "    plt.subplot(5,10,i+1)\r\n",
        "    plt.xticks([])\r\n",
        "    plt.yticks([])\r\n",
        "    plt.grid(False)\r\n",
        "    plt.imshow(train_images[i], cmap=plt.cm.binary)\r\n",
        "    plt.xlabel(class_names[train_labels[i]])\r\n",
        "plt.show()"
      ],
      "execution_count": 14,
      "outputs": [
        {
          "output_type": "display_data",
          "data": {
            "image/png": "[encoded data removed]",
            "text/plain": [
              "<Figure size 720x720 with 50 Axes>"
            ]
          },
          "metadata": {
            "tags": []
          }
        }
      ]
    },
    {
      "cell_type": "code",
      "metadata": {
        "id": "BzPlvO2yZzxN"
      },
      "source": [
        "model = keras.Sequential([\r\n",
        "    keras.layers.Flatten(input_shape=(28, 28)),\r\n",
        "    keras.layers.Dense(128, activation='relu'),\r\n",
        "    keras.layers.Dense(10)\r\n",
        "])"
      ],
      "execution_count": 15,
      "outputs": []
    },
    {
      "cell_type": "code",
      "metadata": {
        "id": "PH8CoqHCZzz-"
      },
      "source": [
        "from tensorflow.keras.layers import Input, Flatten\r\n",
        "from tensorflow.keras.models import Model\r\n",
        "import tensorflow"
      ],
      "execution_count": 16,
      "outputs": []
    },
    {
      "cell_type": "code",
      "metadata": {
        "colab": {
          "base_uri": "https://localhost:8080/"
        },
        "id": "LmLSEGJTZz2n",
        "outputId": "9ed65ea5-ca6a-4962-a1a9-5f23e01c0eba"
      },
      "source": [
        "model.summary()"
      ],
      "execution_count": 17,
      "outputs": [
        {
          "output_type": "stream",
          "text": [
            "Model: \"sequential\"\n",
            "_________________________________________________________________\n",
            "Layer (type)                 Output Shape              Param #   \n",
            "=================================================================\n",
            "flatten (Flatten)            (None, 784)               0         \n",
            "_________________________________________________________________\n",
            "dense (Dense)                (None, 128)               100480    \n",
            "_________________________________________________________________\n",
            "dense_1 (Dense)              (None, 10)                1290      \n",
            "=================================================================\n",
            "Total params: 101,770\n",
            "Trainable params: 101,770\n",
            "Non-trainable params: 0\n",
            "_________________________________________________________________\n"
          ],
          "name": "stdout"
        }
      ]
    },
    {
      "cell_type": "code",
      "metadata": {
        "id": "mMugTzqMZ0Es"
      },
      "source": [
        "inputs = Input(shape=(28, 28))\r\n",
        "x = keras.layers.Flatten()(inputs)\r\n",
        "x = keras.layers.Dense(128, activation='relu')(x)\r\n",
        "outputs = keras.layers.Dense(10)(x)\r\n",
        "\r\n",
        "model = keras.Model(inputs,outputs)"
      ],
      "execution_count": 18,
      "outputs": []
    },
    {
      "cell_type": "code",
      "metadata": {
        "colab": {
          "base_uri": "https://localhost:8080/"
        },
        "id": "hE62h-9hZ7GW",
        "outputId": "d34e0321-e816-45b0-ff4a-8833ad035a95"
      },
      "source": [
        "model.summary()"
      ],
      "execution_count": 19,
      "outputs": [
        {
          "output_type": "stream",
          "text": [
            "Model: \"model\"\n",
            "_________________________________________________________________\n",
            "Layer (type)                 Output Shape              Param #   \n",
            "=================================================================\n",
            "input_1 (InputLayer)         [(None, 28, 28)]          0         \n",
            "_________________________________________________________________\n",
            "flatten_1 (Flatten)          (None, 784)               0         \n",
            "_________________________________________________________________\n",
            "dense_2 (Dense)              (None, 128)               100480    \n",
            "_________________________________________________________________\n",
            "dense_3 (Dense)              (None, 10)                1290      \n",
            "=================================================================\n",
            "Total params: 101,770\n",
            "Trainable params: 101,770\n",
            "Non-trainable params: 0\n",
            "_________________________________________________________________\n"
          ],
          "name": "stdout"
        }
      ]
    },
    {
      "cell_type": "code",
      "metadata": {
        "id": "gGxE0QDQZ7Iv"
      },
      "source": [
        "model.compile(optimizer='adam',\r\n",
        "              loss=tf.keras.losses.CategoricalCrossentropy(from_logits=True),\r\n",
        "              metrics=['accuracy'])"
      ],
      "execution_count": 20,
      "outputs": []
    },
    {
      "cell_type": "code",
      "metadata": {
        "colab": {
          "base_uri": "https://localhost:8080/"
        },
        "id": "1SQlKUzvZ7LB",
        "outputId": "453ea3ef-bf6b-4c3c-a1d1-60f984e582c7"
      },
      "source": [
        "model.fit(train_images, y_train_labels, epochs=3, batch_size=100)"
      ],
      "execution_count": 21,
      "outputs": [
        {
          "output_type": "stream",
          "text": [
            "Epoch 1/3\n",
            "600/600 [==============================] - 3s 3ms/step - loss: 0.7209 - accuracy: 0.7546\n",
            "Epoch 2/3\n",
            "600/600 [==============================] - 2s 3ms/step - loss: 0.4113 - accuracy: 0.8556\n",
            "Epoch 3/3\n",
            "600/600 [==============================] - 2s 3ms/step - loss: 0.3735 - accuracy: 0.8680\n"
          ],
          "name": "stdout"
        },
        {
          "output_type": "execute_result",
          "data": {
            "text/plain": [
              "<tensorflow.python.keras.callbacks.History at 0x7fa2573fe438>"
            ]
          },
          "metadata": {
            "tags": []
          },
          "execution_count": 21
        }
      ]
    },
    {
      "cell_type": "code",
      "metadata": {
        "colab": {
          "base_uri": "https://localhost:8080/"
        },
        "id": "CB1QqbZPZ7NN",
        "outputId": "1864036d-9a80-4280-a4be-519ca893a914"
      },
      "source": [
        "test_loss, test_acc = model.evaluate(test_images,  y_test_labels, verbose=2)\r\n",
        "\r\n",
        "print('\\nTest accuracy:', test_acc)"
      ],
      "execution_count": 22,
      "outputs": [
        {
          "output_type": "stream",
          "text": [
            "313/313 - 0s - loss: 0.3860 - accuracy: 0.8632\n",
            "\n",
            "Test accuracy: 0.8632000088691711\n"
          ],
          "name": "stdout"
        }
      ]
    },
    {
      "cell_type": "markdown",
      "metadata": {
        "id": "gUVYtJMXadZl"
      },
      "source": [
        "## Результат когда 3 эпохи accuracy: 0.8503999710083008 и 100 батчей и 2 уровня\r\n",
        "\r\n",
        "\r\n"
      ]
    },
    {
      "cell_type": "code",
      "metadata": {
        "id": "d-tsdHSPaqAm"
      },
      "source": [
        "fashion_mnist = keras.datasets.fashion_mnist\r\n",
        "(train_images, train_labels), (test_images, test_labels) = fashion_mnist.load_data()\r\n",
        "class_names = ['T-shirt/top', 'Trouser', 'Pullover', 'Dress', 'Coat',\r\n",
        "               'Sandal', 'Shirt', 'Sneaker', 'Bag', 'Ankle boot']\r\n",
        "y_train_labels = to_categorical(train_labels)\r\n",
        "y_test_labels = to_categorical(test_labels)\r\n",
        "train_images = train_images / 255.0\r\n",
        "test_images = test_images / 255.0\r\n"
      ],
      "execution_count": 23,
      "outputs": []
    },
    {
      "cell_type": "code",
      "metadata": {
        "id": "CQXSTH37aqOW"
      },
      "source": [
        "model = keras.Sequential([\r\n",
        "    keras.layers.Flatten(input_shape=(28, 28)),\r\n",
        "    keras.layers.Dense(128, activation='relu'),\r\n",
        "    keras.layers.Dense(128, activation='softmax'),\r\n",
        "    keras.layers.Dense(10)\r\n",
        "])"
      ],
      "execution_count": 24,
      "outputs": []
    },
    {
      "cell_type": "code",
      "metadata": {
        "id": "HNxiPti0bfJV"
      },
      "source": [
        "inputs = Input(shape=(28, 28))\r\n",
        "x = keras.layers.Flatten()(inputs)\r\n",
        "x = keras.layers.Dense(128, activation='relu')(x)\r\n",
        "outputs = keras.layers.Dense(10)(x)\r\n",
        "\r\n",
        "model = keras.Model(inputs,outputs)"
      ],
      "execution_count": 25,
      "outputs": []
    },
    {
      "cell_type": "code",
      "metadata": {
        "colab": {
          "base_uri": "https://localhost:8080/"
        },
        "id": "2KMsIndZbfLv",
        "outputId": "c41ab177-4c0e-480c-e959-d1117a598969"
      },
      "source": [
        "model.summary()"
      ],
      "execution_count": 26,
      "outputs": [
        {
          "output_type": "stream",
          "text": [
            "Model: \"model_1\"\n",
            "_________________________________________________________________\n",
            "Layer (type)                 Output Shape              Param #   \n",
            "=================================================================\n",
            "input_2 (InputLayer)         [(None, 28, 28)]          0         \n",
            "_________________________________________________________________\n",
            "flatten_3 (Flatten)          (None, 784)               0         \n",
            "_________________________________________________________________\n",
            "dense_7 (Dense)              (None, 128)               100480    \n",
            "_________________________________________________________________\n",
            "dense_8 (Dense)              (None, 10)                1290      \n",
            "=================================================================\n",
            "Total params: 101,770\n",
            "Trainable params: 101,770\n",
            "Non-trainable params: 0\n",
            "_________________________________________________________________\n"
          ],
          "name": "stdout"
        }
      ]
    },
    {
      "cell_type": "code",
      "metadata": {
        "id": "nfnoePnwbfOV"
      },
      "source": [
        "model.compile(optimizer='adam',\r\n",
        "              loss=tf.keras.losses.CategoricalCrossentropy(from_logits=True),\r\n",
        "              metrics=['accuracy'])"
      ],
      "execution_count": 27,
      "outputs": []
    },
    {
      "cell_type": "code",
      "metadata": {
        "colab": {
          "base_uri": "https://localhost:8080/"
        },
        "id": "_Mk57B_DbwQG",
        "outputId": "65449bac-c567-4526-eb9d-f260386af1db"
      },
      "source": [
        "model.fit(train_images, y_train_labels, epochs=3, batch_size=100)"
      ],
      "execution_count": 28,
      "outputs": [
        {
          "output_type": "stream",
          "text": [
            "Epoch 1/3\n",
            "600/600 [==============================] - 2s 3ms/step - loss: 0.7381 - accuracy: 0.7507\n",
            "Epoch 2/3\n",
            "600/600 [==============================] - 2s 3ms/step - loss: 0.4092 - accuracy: 0.8551\n",
            "Epoch 3/3\n",
            "600/600 [==============================] - 2s 3ms/step - loss: 0.3642 - accuracy: 0.8687\n"
          ],
          "name": "stdout"
        },
        {
          "output_type": "execute_result",
          "data": {
            "text/plain": [
              "<tensorflow.python.keras.callbacks.History at 0x7fa2544c9710>"
            ]
          },
          "metadata": {
            "tags": []
          },
          "execution_count": 28
        }
      ]
    },
    {
      "cell_type": "code",
      "metadata": {
        "colab": {
          "base_uri": "https://localhost:8080/"
        },
        "id": "k1dmq4yYbwSv",
        "outputId": "a88a6b8c-9713-457a-f7ab-494e9c25358b"
      },
      "source": [
        "test_loss, test_acc = model.evaluate(test_images,  y_test_labels, verbose=2)\r\n",
        "\r\n",
        "print('\\nTest accuracy:', test_acc)"
      ],
      "execution_count": 29,
      "outputs": [
        {
          "output_type": "stream",
          "text": [
            "313/313 - 0s - loss: 0.3812 - accuracy: 0.8656\n",
            "\n",
            "Test accuracy: 0.8655999898910522\n"
          ],
          "name": "stdout"
        }
      ]
    },
    {
      "cell_type": "markdown",
      "metadata": {
        "id": "qeZ0oda_b9lN"
      },
      "source": [
        "## Результат когда 3 эпохи accuracy: 0.8626000285148621 и 100 батчей и 3 уровня= при увеличении кол-ва уровней качество предсказания растет"
      ]
    },
    {
      "cell_type": "code",
      "metadata": {
        "id": "v8QgwRkycDoP"
      },
      "source": [
        "fashion_mnist = keras.datasets.fashion_mnist\r\n",
        "(train_images, train_labels), (test_images, test_labels) = fashion_mnist.load_data()\r\n",
        "class_names = ['T-shirt/top', 'Trouser', 'Pullover', 'Dress', 'Coat',\r\n",
        "               'Sandal', 'Shirt', 'Sneaker', 'Bag', 'Ankle boot']\r\n",
        "y_train_labels = to_categorical(train_labels)\r\n",
        "y_test_labels = to_categorical(test_labels)\r\n",
        "train_images = train_images / 255.0\r\n",
        "test_images = test_images / 255.0\r\n",
        "model = keras.Sequential([\r\n",
        "    keras.layers.Flatten(input_shape=(28, 28)),\r\n",
        "    keras.layers.Dense(128, activation='relu'),\r\n",
        "    keras.layers.Dense(128, activation='softmax'),\r\n",
        "    keras.layers.Dense(10)\r\n",
        "])\r\n",
        "inputs = Input(shape=(28, 28))\r\n",
        "x = keras.layers.Flatten()(inputs)\r\n",
        "x = keras.layers.Dense(128, activation='relu')(x)\r\n",
        "outputs = keras.layers.Dense(10)(x)\r\n",
        "\r\n",
        "model = keras.Model(inputs,outputs)\r\n",
        "model.compile(optimizer='adam',\r\n",
        "              loss=tf.keras.losses.CategoricalCrossentropy(from_logits=True),\r\n",
        "              metrics=['accuracy'])"
      ],
      "execution_count": 30,
      "outputs": []
    },
    {
      "cell_type": "code",
      "metadata": {
        "colab": {
          "base_uri": "https://localhost:8080/"
        },
        "id": "zXKQeOhzcDrN",
        "outputId": "b14ec261-9577-4482-9220-6c9c25c2c892"
      },
      "source": [
        "model.fit(train_images, y_train_labels, epochs=20, batch_size=100)"
      ],
      "execution_count": 31,
      "outputs": [
        {
          "output_type": "stream",
          "text": [
            "Epoch 1/20\n",
            "600/600 [==============================] - 2s 3ms/step - loss: 0.7171 - accuracy: 0.7558\n",
            "Epoch 2/20\n",
            "600/600 [==============================] - 2s 3ms/step - loss: 0.4040 - accuracy: 0.8594\n",
            "Epoch 3/20\n",
            "600/600 [==============================] - 2s 3ms/step - loss: 0.3670 - accuracy: 0.8686\n",
            "Epoch 4/20\n",
            "600/600 [==============================] - 2s 3ms/step - loss: 0.3380 - accuracy: 0.8786\n",
            "Epoch 5/20\n",
            "600/600 [==============================] - 2s 3ms/step - loss: 0.3099 - accuracy: 0.8873\n",
            "Epoch 6/20\n",
            "600/600 [==============================] - 2s 3ms/step - loss: 0.2975 - accuracy: 0.8911\n",
            "Epoch 7/20\n",
            "600/600 [==============================] - 2s 3ms/step - loss: 0.2848 - accuracy: 0.8970\n",
            "Epoch 8/20\n",
            "600/600 [==============================] - 2s 3ms/step - loss: 0.2753 - accuracy: 0.8991\n",
            "Epoch 9/20\n",
            "600/600 [==============================] - 2s 3ms/step - loss: 0.2640 - accuracy: 0.9045\n",
            "Epoch 10/20\n",
            "600/600 [==============================] - 2s 3ms/step - loss: 0.2475 - accuracy: 0.9094\n",
            "Epoch 11/20\n",
            "600/600 [==============================] - 2s 3ms/step - loss: 0.2462 - accuracy: 0.9096\n",
            "Epoch 12/20\n",
            "600/600 [==============================] - 2s 3ms/step - loss: 0.2348 - accuracy: 0.9135\n",
            "Epoch 13/20\n",
            "600/600 [==============================] - 2s 3ms/step - loss: 0.2279 - accuracy: 0.9169\n",
            "Epoch 14/20\n",
            "600/600 [==============================] - 2s 3ms/step - loss: 0.2268 - accuracy: 0.9169\n",
            "Epoch 15/20\n",
            "600/600 [==============================] - 2s 3ms/step - loss: 0.2162 - accuracy: 0.9194\n",
            "Epoch 16/20\n",
            "600/600 [==============================] - 2s 3ms/step - loss: 0.2141 - accuracy: 0.9223\n",
            "Epoch 17/20\n",
            "600/600 [==============================] - 2s 3ms/step - loss: 0.2062 - accuracy: 0.9243\n",
            "Epoch 18/20\n",
            "600/600 [==============================] - 2s 3ms/step - loss: 0.1956 - accuracy: 0.9267\n",
            "Epoch 19/20\n",
            "600/600 [==============================] - 2s 3ms/step - loss: 0.1894 - accuracy: 0.9303\n",
            "Epoch 20/20\n",
            "600/600 [==============================] - 2s 3ms/step - loss: 0.1895 - accuracy: 0.9299\n"
          ],
          "name": "stdout"
        },
        {
          "output_type": "execute_result",
          "data": {
            "text/plain": [
              "<tensorflow.python.keras.callbacks.History at 0x7fa253beea90>"
            ]
          },
          "metadata": {
            "tags": []
          },
          "execution_count": 31
        }
      ]
    },
    {
      "cell_type": "code",
      "metadata": {
        "colab": {
          "base_uri": "https://localhost:8080/"
        },
        "id": "7BtJx0Pzcwu-",
        "outputId": "1f01fcbf-04fd-49db-ab88-6efb941669e3"
      },
      "source": [
        "test_loss, test_acc = model.evaluate(test_images,  y_test_labels, verbose=2)\r\n",
        "\r\n",
        "print('\\nTest accuracy:', test_acc)"
      ],
      "execution_count": 32,
      "outputs": [
        {
          "output_type": "stream",
          "text": [
            "313/313 - 0s - loss: 0.3336 - accuracy: 0.8899\n",
            "\n",
            "Test accuracy: 0.8899000287055969\n"
          ],
          "name": "stdout"
        }
      ]
    },
    {
      "cell_type": "markdown",
      "metadata": {
        "id": "pdbNi-dCc-4O"
      },
      "source": [
        "## Результат когда 20 эпох accuracy: 0.8894000053405762 и 100 батчей и 3 уровня\r\n"
      ]
    },
    {
      "cell_type": "code",
      "metadata": {
        "id": "4h4Mn0KyV7wJ"
      },
      "source": [
        "fashion_mnist = keras.datasets.fashion_mnist\r\n",
        "(train_images, train_labels), (test_images, test_labels) = fashion_mnist.load_data()\r\n",
        "class_names = ['T-shirt/top', 'Trouser', 'Pullover', 'Dress', 'Coat',\r\n",
        "               'Sandal', 'Shirt', 'Sneaker', 'Bag', 'Ankle boot']\r\n",
        "y_train_labels = to_categorical(train_labels)\r\n",
        "y_test_labels = to_categorical(test_labels)\r\n",
        "train_images = train_images / 255.0\r\n",
        "test_images = test_images / 255.0\r\n",
        "model = keras.Sequential([\r\n",
        "    keras.layers.Flatten(input_shape=(28, 28)),\r\n",
        "    keras.layers.Dense(128, activation='relu'),\r\n",
        "    keras.layers.Dense(128, activation='softmax'),\r\n",
        "    keras.layers.Dense(10)\r\n",
        "])\r\n",
        "inputs = Input(shape=(28, 28))\r\n",
        "x = keras.layers.Flatten()(inputs)\r\n",
        "x = keras.layers.Dense(128, activation='relu')(x)\r\n",
        "outputs = keras.layers.Dense(10)(x)\r\n",
        "\r\n",
        "model = keras.Model(inputs,outputs)\r\n",
        "model.compile(optimizer='adam',\r\n",
        "              loss=tf.keras.losses.CategoricalCrossentropy(from_logits=True),\r\n",
        "              metrics=['accuracy'])"
      ],
      "execution_count": 33,
      "outputs": []
    },
    {
      "cell_type": "code",
      "metadata": {
        "colab": {
          "base_uri": "https://localhost:8080/"
        },
        "id": "pzL84U1oV9QH",
        "outputId": "a40a9acd-4f7b-4fc0-8499-258ee57708d6"
      },
      "source": [
        "model.fit(train_images, y_train_labels, epochs=20, batch_size=1000)"
      ],
      "execution_count": 34,
      "outputs": [
        {
          "output_type": "stream",
          "text": [
            "Epoch 1/20\n",
            "60/60 [==============================] - 1s 12ms/step - loss: 1.2213 - accuracy: 0.5901\n",
            "Epoch 2/20\n",
            "60/60 [==============================] - 1s 12ms/step - loss: 0.5178 - accuracy: 0.8260\n",
            "Epoch 3/20\n",
            "60/60 [==============================] - 1s 12ms/step - loss: 0.4659 - accuracy: 0.8419\n",
            "Epoch 4/20\n",
            "60/60 [==============================] - 1s 12ms/step - loss: 0.4332 - accuracy: 0.8507\n",
            "Epoch 5/20\n",
            "60/60 [==============================] - 1s 12ms/step - loss: 0.4117 - accuracy: 0.8596\n",
            "Epoch 6/20\n",
            "60/60 [==============================] - 1s 12ms/step - loss: 0.3873 - accuracy: 0.8653\n",
            "Epoch 7/20\n",
            "60/60 [==============================] - 1s 12ms/step - loss: 0.3848 - accuracy: 0.8667\n",
            "Epoch 8/20\n",
            "60/60 [==============================] - 1s 13ms/step - loss: 0.3665 - accuracy: 0.8752\n",
            "Epoch 9/20\n",
            "60/60 [==============================] - 1s 12ms/step - loss: 0.3532 - accuracy: 0.8781\n",
            "Epoch 10/20\n",
            "60/60 [==============================] - 1s 12ms/step - loss: 0.3453 - accuracy: 0.8794\n",
            "Epoch 11/20\n",
            "60/60 [==============================] - 1s 12ms/step - loss: 0.3381 - accuracy: 0.8813\n",
            "Epoch 12/20\n",
            "60/60 [==============================] - 1s 13ms/step - loss: 0.3319 - accuracy: 0.8848\n",
            "Epoch 13/20\n",
            "60/60 [==============================] - 1s 12ms/step - loss: 0.3219 - accuracy: 0.8881\n",
            "Epoch 14/20\n",
            "60/60 [==============================] - 1s 12ms/step - loss: 0.3161 - accuracy: 0.8879\n",
            "Epoch 15/20\n",
            "60/60 [==============================] - 1s 12ms/step - loss: 0.3131 - accuracy: 0.8888\n",
            "Epoch 16/20\n",
            "60/60 [==============================] - 1s 12ms/step - loss: 0.3002 - accuracy: 0.8928\n",
            "Epoch 17/20\n",
            "60/60 [==============================] - 1s 12ms/step - loss: 0.2933 - accuracy: 0.8964\n",
            "Epoch 18/20\n",
            "60/60 [==============================] - 1s 12ms/step - loss: 0.2926 - accuracy: 0.8953\n",
            "Epoch 19/20\n",
            "60/60 [==============================] - 1s 12ms/step - loss: 0.2967 - accuracy: 0.8945\n",
            "Epoch 20/20\n",
            "60/60 [==============================] - 1s 12ms/step - loss: 0.2834 - accuracy: 0.8987\n"
          ],
          "name": "stdout"
        },
        {
          "output_type": "execute_result",
          "data": {
            "text/plain": [
              "<tensorflow.python.keras.callbacks.History at 0x7fa253bc4080>"
            ]
          },
          "metadata": {
            "tags": []
          },
          "execution_count": 34
        }
      ]
    },
    {
      "cell_type": "code",
      "metadata": {
        "colab": {
          "base_uri": "https://localhost:8080/"
        },
        "id": "cdyM6SxMV9TR",
        "outputId": "07c92add-e7ad-4a72-8b1f-c345e56fe83e"
      },
      "source": [
        "test_loss, test_acc = model.evaluate(test_images,  y_test_labels, verbose=2)\r\n",
        "\r\n",
        "print('\\nTest accuracy:', test_acc)"
      ],
      "execution_count": 35,
      "outputs": [
        {
          "output_type": "stream",
          "text": [
            "313/313 - 0s - loss: 0.3581 - accuracy: 0.8723\n",
            "\n",
            "Test accuracy: 0.8723000288009644\n"
          ],
          "name": "stdout"
        }
      ]
    },
    {
      "cell_type": "markdown",
      "metadata": {
        "id": "4K8zNYdQWn-5"
      },
      "source": [
        "## Результат когда 20 эпох accuracy: 0.8723000288009644 и 1000 батчей и 3 уровня = При увеличении батчей качество предсказания падает.\r\n"
      ]
    },
    {
      "cell_type": "code",
      "metadata": {
        "id": "4eoym067WrMZ"
      },
      "source": [
        "fashion_mnist = keras.datasets.fashion_mnist\r\n",
        "(train_images, train_labels), (test_images, test_labels) = fashion_mnist.load_data()\r\n",
        "class_names = ['T-shirt/top', 'Trouser', 'Pullover', 'Dress', 'Coat',\r\n",
        "               'Sandal', 'Shirt', 'Sneaker', 'Bag', 'Ankle boot']\r\n",
        "y_train_labels = to_categorical(train_labels)\r\n",
        "y_test_labels = to_categorical(test_labels)\r\n",
        "train_images = train_images / 255.0\r\n",
        "test_images = test_images / 255.0\r\n",
        "model = keras.Sequential([\r\n",
        "    keras.layers.Flatten(input_shape=(28, 28)),\r\n",
        "    keras.layers.Dense(128, activation='relu'),\r\n",
        "    keras.layers.Dense(128, activation='softmax'),\r\n",
        "    keras.layers.Dense(10)\r\n",
        "])\r\n",
        "inputs = Input(shape=(28, 28))\r\n",
        "x = keras.layers.Flatten()(inputs)\r\n",
        "x = keras.layers.Dense(128, activation='relu')(x)\r\n",
        "outputs = keras.layers.Dense(10)(x)\r\n",
        "\r\n",
        "model = keras.Model(inputs,outputs)\r\n",
        "model.compile(optimizer='adam',\r\n",
        "              loss=tf.keras.losses.CategoricalCrossentropy(from_logits=True),\r\n",
        "              metrics=['accuracy'])"
      ],
      "execution_count": 36,
      "outputs": []
    },
    {
      "cell_type": "code",
      "metadata": {
        "colab": {
          "base_uri": "https://localhost:8080/"
        },
        "id": "pfrVY4riWvrI",
        "outputId": "2511ddd5-c0a8-4d04-a5cb-4eec210c0d2a"
      },
      "source": [
        "model.fit(train_images, y_train_labels, epochs=20, batch_size=10)"
      ],
      "execution_count": 37,
      "outputs": [
        {
          "output_type": "stream",
          "text": [
            "Epoch 1/20\n",
            "6000/6000 [==============================] - 9s 1ms/step - loss: 0.5885 - accuracy: 0.7904\n",
            "Epoch 2/20\n",
            "6000/6000 [==============================] - 9s 1ms/step - loss: 0.3736 - accuracy: 0.8653\n",
            "Epoch 3/20\n",
            "6000/6000 [==============================] - 9s 1ms/step - loss: 0.3296 - accuracy: 0.8790\n",
            "Epoch 4/20\n",
            "6000/6000 [==============================] - 9s 1ms/step - loss: 0.3085 - accuracy: 0.8847\n",
            "Epoch 5/20\n",
            "6000/6000 [==============================] - 9s 1ms/step - loss: 0.2927 - accuracy: 0.8912\n",
            "Epoch 6/20\n",
            "6000/6000 [==============================] - 9s 1ms/step - loss: 0.2765 - accuracy: 0.8972\n",
            "Epoch 7/20\n",
            "6000/6000 [==============================] - 9s 1ms/step - loss: 0.2661 - accuracy: 0.8991\n",
            "Epoch 8/20\n",
            "6000/6000 [==============================] - 9s 1ms/step - loss: 0.2534 - accuracy: 0.9051\n",
            "Epoch 9/20\n",
            "6000/6000 [==============================] - 9s 1ms/step - loss: 0.2434 - accuracy: 0.9081\n",
            "Epoch 10/20\n",
            "6000/6000 [==============================] - 9s 1ms/step - loss: 0.2418 - accuracy: 0.9099\n",
            "Epoch 11/20\n",
            "6000/6000 [==============================] - 9s 1ms/step - loss: 0.2342 - accuracy: 0.9123\n",
            "Epoch 12/20\n",
            "6000/6000 [==============================] - 9s 1ms/step - loss: 0.2224 - accuracy: 0.9162\n",
            "Epoch 13/20\n",
            "6000/6000 [==============================] - 9s 1ms/step - loss: 0.2192 - accuracy: 0.9180\n",
            "Epoch 14/20\n",
            "6000/6000 [==============================] - 9s 1ms/step - loss: 0.2132 - accuracy: 0.9205\n",
            "Epoch 15/20\n",
            "6000/6000 [==============================] - 9s 1ms/step - loss: 0.2071 - accuracy: 0.9216\n",
            "Epoch 16/20\n",
            "6000/6000 [==============================] - 9s 1ms/step - loss: 0.1975 - accuracy: 0.9245\n",
            "Epoch 17/20\n",
            "6000/6000 [==============================] - 9s 2ms/step - loss: 0.1978 - accuracy: 0.9255\n",
            "Epoch 18/20\n",
            "6000/6000 [==============================] - 9s 1ms/step - loss: 0.1905 - accuracy: 0.9282\n",
            "Epoch 19/20\n",
            "6000/6000 [==============================] - 9s 1ms/step - loss: 0.1914 - accuracy: 0.9277\n",
            "Epoch 20/20\n",
            "6000/6000 [==============================] - 9s 1ms/step - loss: 0.1879 - accuracy: 0.9303\n"
          ],
          "name": "stdout"
        },
        {
          "output_type": "execute_result",
          "data": {
            "text/plain": [
              "<tensorflow.python.keras.callbacks.History at 0x7fa2510f5160>"
            ]
          },
          "metadata": {
            "tags": []
          },
          "execution_count": 37
        }
      ]
    },
    {
      "cell_type": "code",
      "metadata": {
        "colab": {
          "base_uri": "https://localhost:8080/"
        },
        "id": "RiTvD_d5Xg7E",
        "outputId": "8665bf59-37c4-428a-8643-8c97bad056b0"
      },
      "source": [
        "test_loss, test_acc = model.evaluate(test_images,  y_test_labels, verbose=2)\r\n",
        "\r\n",
        "print('\\nTest accuracy:', test_acc)\r\n"
      ],
      "execution_count": 38,
      "outputs": [
        {
          "output_type": "stream",
          "text": [
            "313/313 - 0s - loss: 0.3720 - accuracy: 0.8889\n",
            "\n",
            "Test accuracy: 0.8888999819755554\n"
          ],
          "name": "stdout"
        }
      ]
    },
    {
      "cell_type": "markdown",
      "metadata": {
        "id": "MgEk56vgXlzy"
      },
      "source": [
        "## Результат когда 20 эпох accuracy: 0.8723000288009644 и 10 батчей и 3 уровня = При уменьшении батчей качество предсказания растет."
      ]
    }
  ]
}