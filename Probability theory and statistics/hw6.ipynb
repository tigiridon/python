{
 "cells": [
  {
   "cell_type": "markdown",
   "metadata": {},
   "source": [
    "# HW 6"
   ]
  },
  {
   "cell_type": "code",
   "execution_count": 20,
   "metadata": {},
   "outputs": [],
   "source": [
    "from scipy import stats\n",
    "import numpy as np"
   ]
  },
  {
   "cell_type": "markdown",
   "metadata": {},
   "source": [
    "## Задание 1"
   ]
  },
  {
   "cell_type": "markdown",
   "metadata": {
    "colab_type": "text",
    "id": "Q9UtHQI9kJ82"
   },
   "source": [
    "Даны значения величины заработной платы заемщиков банка (salary) и значения их поведенческого кредитного скоринга (scoring):\n",
    "\n",
    "salary = [35, 45, 190, 200, 40, 70, 54, 150, 120, 110]\n",
    "scoring = [401, 574, 874, 919, 459, 739, 653, 902, 746, 832]\n",
    "\n",
    "Используя только встроенные питоновские функции и структуры данных (т.е. без библиотек numpy, pandas и др.) найдите:\n",
    "1. ковариацию (смещённую и несмещённую) этих двух величин,\n",
    "2. коэффициент корреляции Пирсона.\n",
    "\n",
    "Можно затем посчитать те же значения с использованием библиотек, чтобы проверить себя."
   ]
  },
  {
   "cell_type": "code",
   "execution_count": 7,
   "metadata": {
    "colab": {},
    "colab_type": "code",
    "id": "d5BI-wJ8kH1y"
   },
   "outputs": [],
   "source": [
    "cash = [35, 45, 190, 200, 40, 70, 54, 150, 120, 110]\n",
    "scor = [401, 574, 874, 919, 459, 739, 653, 902, 746, 832]"
   ]
  },
  {
   "cell_type": "code",
   "execution_count": 23,
   "metadata": {
    "colab": {},
    "colab_type": "code",
    "id": "3JHQZ418kgUL"
   },
   "outputs": [],
   "source": [
    "# расчетные функции\n",
    "def mean(arr):\n",
    "  sum = 0\n",
    "  for elem in arr:\n",
    "    sum += elem\n",
    "  return sum/len(arr)\n",
    "def fstd(arr, ddof=0):\n",
    "  ma = mean(arr)\n",
    "  sum = 0\n",
    "  for elem in arr:\n",
    "    sum += (elem-ma)**2\n",
    "  if ddof:\n",
    "    return (sum/(len(arr)-1))**(1/2)\n",
    "  else:\n",
    "    return (sum/len(arr))**(1/2)\n",
    "def fvar(arr1, arr2, ddof=0):\n",
    "  s1 = mean(arr1)\n",
    "  s2 = mean(arr2)\n",
    "  sum = 0\n",
    "  for i in range(len(arr1)):\n",
    "    sum += (arr1[i]-s1)*(arr2[i]-s2)\n",
    "  if ddof:\n",
    "    return sum/(len(arr1)-1)\n",
    "  else:\n",
    "    return sum/len(arr1)\n",
    "def Pirs(arr1, arr2):\n",
    "  cov = fvar(arr1, arr2, 1)\n",
    "  sq1 = fstd(arr1, 1)\n",
    "  sq2 = fstd(arr2, 1)\n",
    "  return cov/(sq1*sq2)"
   ]
  },
  {
   "cell_type": "code",
   "execution_count": 25,
   "metadata": {
    "colab": {
     "base_uri": "https://localhost:8080/",
     "height": 136
    },
    "colab_type": "code",
    "id": "cWXyHpQjm5FF",
    "outputId": "c176b2d7-04b5-4a66-fda9-54750395fb05"
   },
   "outputs": [
    {
     "name": "stdout",
     "output_type": "stream",
     "text": [
      "Смещ оценка:  9157.84\n",
      "Несмещ оценка:  10175.377777777778\n",
      "Смещценка дисперсии  62.31318747531162\n",
      "Смещ оценка дисперсии  183.99544076477068\n",
      "Несмещоценка дисперсии  59.115480206118605\n",
      "Несмещ оценка дисперсии  174.55340157098058\n",
      "Пирсон:  0.8874900920739162\n"
     ]
    }
   ],
   "source": [
    "print('Смещ оценка: ', fvar(cash, scor))\n",
    "print('Несмещ оценка: ', fvar(cash, scor, 1))\n",
    "print('Смещценка дисперсии ', fstd(cash, 1))\n",
    "print('Смещ оценка дисперсии ', fstd(scor, 1))\n",
    "print('Несмещоценка дисперсии ', fstd(cash, 0))\n",
    "print('Несмещ оценка дисперсии ', fstd(scor, 0))\n",
    "print('Пирсон: ', Pirs(cash, scor))\n"
   ]
  },
  {
   "cell_type": "markdown",
   "metadata": {
    "colab_type": "text",
    "id": "EfiWcO3uF_W8"
   },
   "source": [
    "## Задание 2\n",
    "\n",
    "Проведите тест на значимость коэффициента корреляции Пирсона, найденного в предыдущей задаче. Что для этого нужно знать:\n",
    "* Нулевая гипотеза: реальный коэффициент корреляции равен 0. Альтернативная гипотеза двухсторонняя.\n",
    "* Статистика: `t = r * sqrt(n - 2) / sqrt(1 - r ** 2)`, где `r` - коэффициент корреляции Пирсона, посчитанный по выборке.\n",
    "* В предположении верности нулевой гипотезы эта статистика имеет распределение Стьюдента с параметром `df = n - 2`."
   ]
  },
  {
   "cell_type": "code",
   "execution_count": 26,
   "metadata": {
    "colab": {
     "base_uri": "https://localhost:8080/",
     "height": 34
    },
    "colab_type": "code",
    "id": "Ws5A9MolIAfQ",
    "outputId": "8eda9840-0b11-460c-85fc-05709fda02ff"
   },
   "outputs": [
    {
     "data": {
      "text/plain": [
       "0.8874900920739162"
      ]
     },
     "execution_count": 26,
     "metadata": {},
     "output_type": "execute_result"
    }
   ],
   "source": [
    "r = Pirs(cash, scor)\n",
    "r"
   ]
  },
  {
   "cell_type": "code",
   "execution_count": 27,
   "metadata": {},
   "outputs": [
    {
     "data": {
      "text/plain": [
       "5.447168150485575"
      ]
     },
     "execution_count": 27,
     "metadata": {},
     "output_type": "execute_result"
    }
   ],
   "source": [
    "t = r*(8)**(1/2)/((1-r**2)**(1/2))\n",
    "t"
   ]
  },
  {
   "cell_type": "code",
   "execution_count": 28,
   "metadata": {
    "colab": {
     "base_uri": "https://localhost:8080/",
     "height": 34
    },
    "colab_type": "code",
    "id": "FPgKJoCsIqLI",
    "outputId": "9465545b-7e55-4101-b80d-fc8866174382"
   },
   "outputs": [
    {
     "name": "stdout",
     "output_type": "stream",
     "text": [
      "Уровень значимости:  0.0006107546587257318\n"
     ]
    }
   ],
   "source": [
    "p_left = stats.t.cdf(t, df=8)\n",
    "p_right = 1 - stats.t.cdf(t, df=8)\n",
    "\n",
    "lvlznach = 2 * min(p_left, p_right)\n",
    "\n",
    "print('Уровень значимости: ', lvlznach)"
   ]
  },
  {
   "cell_type": "markdown",
   "metadata": {
    "colab_type": "text",
    "id": "JzYnEx02L19A"
   },
   "source": [
    "## Задание 3\n",
    "\n",
    "Измерены значения IQ выборки студентов, обучающихся в местных технических вузах:\n",
    "\n",
    "131, 125, 115, 122, 131, 115, 107, 99, 125, 111\n",
    "\n",
    "Известно, что в генеральной совокупности IQ распределен нормально. Найдите доверительный интервал для математического ожидания с надежностью 0.95."
   ]
  },
  {
   "cell_type": "code",
   "execution_count": 18,
   "metadata": {
    "colab": {},
    "colab_type": "code",
    "id": "ZedMB8mMMmqs"
   },
   "outputs": [
    {
     "name": "stdout",
     "output_type": "stream",
     "text": [
      "-2.2621571627409915 2.2621571627409915\n",
      "(110.1480139537451, 126.05198604625488)\n"
     ]
    }
   ],
   "source": [
    "stud = np.array([131, 125, 115, 122, 131, 115, 107, 99, 125, 111])\n",
    "\n",
    "mean = stud.mean()\n",
    "std = stud.std(ddof=1)\n",
    "q = 0.95\n",
    "alpha = 1 - q\n",
    "\n",
    "D1 = stats.t.ppf(alpha / 2, df=9)\n",
    "D2 = stats.t.ppf(1 - alpha / 2, df=9)\n",
    "\n",
    "print(D1, D2)\n",
    "print((mean + D1 * std / np.sqrt(9), mean + D2 * std / np.sqrt(9)))"
   ]
  }
 ],
 "metadata": {
  "colab": {
   "name": "HW6.ipynb",
   "provenance": []
  },
  "kernelspec": {
   "display_name": "Python 3",
   "language": "python",
   "name": "python3"
  },
  "language_info": {
   "codemirror_mode": {
    "name": "ipython",
    "version": 3
   },
   "file_extension": ".py",
   "mimetype": "text/x-python",
   "name": "python",
   "nbconvert_exporter": "python",
   "pygments_lexer": "ipython3",
   "version": "3.7.3"
  }
 },
 "nbformat": 4,
 "nbformat_minor": 1
}
