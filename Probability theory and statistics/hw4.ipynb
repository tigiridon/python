{
 "cells": [
  {
   "cell_type": "markdown",
   "metadata": {
    "colab_type": "text",
    "id": "YbOeMHBuPVj2"
   },
   "source": [
    "\n",
    "\n",
    "# HW 3\n",
    "\n"
   ]
  },
  {
   "cell_type": "markdown",
   "metadata": {
    "colab_type": "text",
    "id": "tlukUuZqOdPn"
   },
   "source": [
    "__Задача 1__\n",
    "\n",
    "Даны значения зарплат из выборки выпускников: \n",
    "```\n",
    "100, 80, 75, 77, 89, 33, 45, 25, 65, 17, 30, 230, 24, 57, 55, 70, 75, 65, 84, 90, 150\n",
    "```\n",
    "Используя только встроенные питоновские функции и структуры данных (т.е. без библиотек `numpy`, `pandas` и др.) посчитать среднее арифметическое, смещённую и несмещённую оценки дисперсии, среднее квадратичное отклонение для данной выборки.\n",
    "\n",
    "Можно затем посчитать те же значения с использованием библиотек, чтобы проверить себя.\n",
    "\n"
   ]
  },
  {
   "cell_type": "code",
   "execution_count": 7,
   "metadata": {
    "colab": {},
    "colab_type": "code",
    "id": "Ch2Aow8xPPRV"
   },
   "outputs": [],
   "source": [
    "import numpy as np\n",
    "nabor = [100, 80, 75, 77, 89, 33, 45, 25, 65, 17, 30, 230, 24, 57, 55, 70, 75, 65, 84, 90, 150]\n"
   ]
  },
  {
   "cell_type": "code",
   "execution_count": 8,
   "metadata": {
    "colab": {
     "base_uri": "https://localhost:8080/",
     "height": 34
    },
    "colab_type": "code",
    "id": "3yY1ElUWP7P3",
    "outputId": "56a5852d-4599-4462-f829-2d0a5d949380"
   },
   "outputs": [
    {
     "name": "stdout",
     "output_type": "stream",
     "text": [
      "Среднее арифметическое = 73.14285714285714\n"
     ]
    }
   ],
   "source": [
    "# Среднее арифметическое\n",
    "sred_mean = sum(nabor)/len(nabor)\n",
    "print(f'Среднее арифметическое = {sred_mean}')\n"
   ]
  },
  {
   "cell_type": "code",
   "execution_count": 9,
   "metadata": {
    "colab": {
     "base_uri": "https://localhost:8080/",
     "height": 51
    },
    "colab_type": "code",
    "id": "8FSd-gePQobo",
    "outputId": "125f2d36-243c-4784-8751-05e84b6fbff0"
   },
   "outputs": [
    {
     "name": "stdout",
     "output_type": "stream",
     "text": [
      "Дисперсия смещенная \t= 2135.074829931973, Дисперсия несмещенная \t= 2241.8285714285716 \n"
     ]
    }
   ],
   "source": [
    "# Дисперсия смещенная\n",
    "ds = 0\n",
    "for i in nabor:\n",
    "  ds += (i - sred_mean)**2\n",
    "ds_1 = ds/len(nabor)\n",
    "# Дисперсия несмещенная\n",
    "ds_0 = ds/(len(nabor)-1)\n",
    "print(f'Дисперсия смещенная \\t= {ds_1}, Дисперсия несмещенная \\t= {ds_0} ')"
   ]
  },
  {
   "cell_type": "code",
   "execution_count": 10,
   "metadata": {
    "colab": {
     "base_uri": "https://localhost:8080/",
     "height": 51
    },
    "colab_type": "code",
    "id": "AdSOzLU2VOJU",
    "outputId": "74e4a243-bc61-445a-ace5-a97eb591fd5c"
   },
   "outputs": [
    {
     "name": "stdout",
     "output_type": "stream",
     "text": [
      "среднее квадратичное отклонение - несмещенная оценка \t= 47.34795213553139,\t среднее квадратичное отклонение -смещенная оценка \t= 46.20686994302874\n"
     ]
    }
   ],
   "source": [
    "# среднее квадратичное отклонение -несмещенная оценка\n",
    "sqa_0 = (ds_0)**(1/2)\n",
    "# среднее квадратичное отклонение -смещенная оценка\n",
    "sqa_1 = (ds_1)**(1/2)\n",
    "print(f'среднее квадратичное отклонение - несмещенная оценка \\t= {sqa_0},\\t среднее квадратичное отклонение -смещенная оценка \\t= {sqa_1}')\n"
   ]
  },
  {
   "cell_type": "markdown",
   "metadata": {
    "colab_type": "text",
    "id": "woirH-HVPmMu"
   },
   "source": [
    "__Задача 2__\n",
    "\n",
    "Для выборки из задачи 1 найти (также без использования библиотек):\n",
    "1. медиану, первый и третий квартили, интерквартильное расстояние,\n",
    "2. выборсы в выборке (используя для этого метод как при построении \"усов\" из `boxplot`). \n",
    "\n",
    "Возможные неоднозначности в вычислении квантилей можно разрешать любым способом.\n",
    "\n"
   ]
  },
  {
   "cell_type": "code",
   "execution_count": 20,
   "metadata": {
    "colab": {},
    "colab_type": "code",
    "id": "F7lufsxRPoSa"
   },
   "outputs": [
    {
     "name": "stdout",
     "output_type": "stream",
     "text": [
      "квантиль 0.25 :\t = 45\n",
      "медиана 0.5 :\t = 70\n",
      "квантиль 0.75 :\t = 84\n",
      "интерквартильное расстояние = 39\n",
      "усы из boxplot = (-13.5, 142.5)\n"
     ]
    }
   ],
   "source": [
    "# F квантиля\n",
    "def qua(m,q): \n",
    "  m_sorted = sorted(m)\n",
    "  n = len(m)\n",
    "  i = int(q*(n-1))\n",
    "  if i == q*(n-1): \n",
    "    m_q = m_sorted[i]\n",
    "  else: \n",
    "    m_q = m_sorted[i]+(m_sorted[i+1]-m_sorted[i])*(q*(n-1)-i)\n",
    "  return m_q      \n",
    "print(f'квантиль 0.25 :\\t = {qua(nabor, 0.25)}')\n",
    "print(f'медиана 0.5 :\\t = {qua(nabor, 0.5)}')\n",
    "print(f'квантиль 0.75 :\\t = {qua(nabor, 0.75)}')\n",
    "# интерквартильное расстояние\n",
    "intqr = qua(nabor, 0.75) - qua(nabor, 0.25)\n",
    "print(f'интерквартильное расстояние = {intqr}')\n",
    "boxplot_q = ((qua(nabor, 0.25) - 1.5 * intqr) , qua(nabor, 0.75) + 1.5 * intqr)\n",
    "boxplot_q\n",
    "print(f'усы из boxplot = {boxplot_q}')"
   ]
  }
 ],
 "metadata": {
  "colab": {
   "name": "MathStatistics_03.ipynb",
   "provenance": []
  },
  "kernelspec": {
   "display_name": "Python 3",
   "language": "python",
   "name": "python3"
  },
  "language_info": {
   "codemirror_mode": {
    "name": "ipython",
    "version": 3
   },
   "file_extension": ".py",
   "mimetype": "text/x-python",
   "name": "python",
   "nbconvert_exporter": "python",
   "pygments_lexer": "ipython3",
   "version": "3.7.3"
  }
 },
 "nbformat": 4,
 "nbformat_minor": 1
}
