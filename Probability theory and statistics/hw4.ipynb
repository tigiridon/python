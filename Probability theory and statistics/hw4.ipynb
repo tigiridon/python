{
 "cells": [
  {
   "cell_type": "markdown",
   "metadata": {},
   "source": [
    "# HW4"
   ]
  },
  {
   "cell_type": "markdown",
   "metadata": {
    "colab_type": "text",
    "id": "Vicw_mdGZsVp"
   },
   "source": [
    "1.О непрерывной равномерно распределённой случайной величине B известно, что её дисперсия равна 0.2. Можно ли найти правую границу величины B и её среднее значение зная, что левая граница равна 0.5? Если да, найдите их."
   ]
  },
  {
   "cell_type": "code",
   "execution_count": 2,
   "metadata": {},
   "outputs": [],
   "source": [
    "from scipy import stats\n",
    "import math"
   ]
  },
  {
   "cell_type": "code",
   "execution_count": 3,
   "metadata": {
    "colab": {
     "base_uri": "https://localhost:8080/",
     "height": 34
    },
    "colab_type": "code",
    "id": "pgQGsZurZmmK",
    "outputId": "ac0aa9ad-764d-479c-8a79-47e9ac2906cf"
   },
   "outputs": [
    {
     "name": "stdout",
     "output_type": "stream",
     "text": [
      "2.049193338482967 1.2745966692414834\n"
     ]
    }
   ],
   "source": [
    "L = 0.2\n",
    "a = 0.5\n",
    "b = a + (12*L)**(1/2)\n",
    "m = (b+a)/2\n",
    "print(b, m)"
   ]
  },
  {
   "cell_type": "markdown",
   "metadata": {
    "colab_type": "text",
    "id": "NK0rYauPZvP6"
   },
   "source": [
    "2.Коробки с шоколадом упаковываются автоматически. Их средняя масса равна 1.06 кг. Известно, что 5% коробок имеют массу, меньшую 1 кг. Найдите: а) среднее квадратическое отклонение массы коробки, б) процент коробок, имеющих массу больше 1.1 кг.\n",
    "\n",
    "Подсказка. Найдите такое значение scale, для которого значение cdf(x=1, loc=1.06, scale=scale) близко к 0.05. Точности 0.0001 будет достаточно."
   ]
  },
  {
   "cell_type": "code",
   "execution_count": 4,
   "metadata": {
    "colab": {
     "base_uri": "https://localhost:8080/",
     "height": 51
    },
    "colab_type": "code",
    "id": "ZYRIix8KbqNb",
    "outputId": "ce5a2bf4-5701-44cc-ef49-3e24ecbf83a8"
   },
   "outputs": [
    {
     "name": "stdout",
     "output_type": "stream",
     "text": [
      "0.050002744285571166\n",
      "Процент коробок, имеющих массу > 1.1 = f(inf) - f(x<1.1):  0.13641878306411004\n"
     ]
    }
   ],
   "source": [
    "m = 1.06\n",
    "\n",
    "ss = 0.036478\n",
    "print(stats.norm.cdf(1, loc=m, scale=ss))\n",
    "print('Процент коробок, имеющих массу > 1.1 = f(inf) - f(x<1.1): ', stats.norm.cdf(math.inf, loc=m, scale=ss)-stats.norm.cdf(1.1, loc=m, scale=ss))\n"
   ]
  },
  {
   "cell_type": "markdown",
   "metadata": {
    "colab_type": "text",
    "id": "3kYULMmHZxiJ"
   },
   "source": [
    "3.Коробка содержит 30 конфет. Известно, что масса каждой конфеты распределена равномерно в промежутке от 12 до 14 граммов. Используя центральную предельную теорему, найти вероятность, что масса всей коробки будет: а) меньше 390 граммов, б) больше 395 граммов, в) от 380 до 400 граммов.\n",
    "\n",
    "Массой самой коробки можно пренебречь.\n"
   ]
  },
  {
   "cell_type": "code",
   "execution_count": 5,
   "metadata": {
    "colab": {
     "base_uri": "https://localhost:8080/",
     "height": 102
    },
    "colab_type": "code",
    "id": "p_tedoMNZ0qR",
    "outputId": "0dfce870-6e73-4431-e076-112b22a8d8e8"
   },
   "outputs": [
    {
     "name": "stdout",
     "output_type": "stream",
     "text": [
      "а = Вер < 390 грамма:  0.5\n",
      "б = Вер > 395 грамма:  0.056923149003329065\n",
      "в = Вер от 380 до 400 грамм:  0.9984345977419975\n"
     ]
    }
   ],
   "source": [
    "m = (14+12)/2\n",
    "d = (14-12)**2/12\n",
    "n = 30\n",
    "print('а = Вер < 390 грамма: ', stats.norm.cdf(390, loc=n*m, scale=(n*d)**(1/2)) - stats.norm.cdf(-math.inf, loc=n*m, scale=(n*d)**(1/2)))\n",
    "print('б = Вер > 395 грамма: ', stats.norm.cdf(math.inf, loc=n*m, scale=(n*d)**(1/2)) - stats.norm.cdf(395, loc=n*m, scale=(n*d)**(1/2)))\n",
    "print('в = Вер от 380 до 400 грамм: ', stats.norm.cdf(400, loc=n*m, scale=(n*d)**(1/2)) - stats.norm.cdf(380, loc=n*m, scale=(n*d)**(1/2)))"
   ]
  },
  {
   "cell_type": "code",
   "execution_count": null,
   "metadata": {},
   "outputs": [],
   "source": []
  }
 ],
 "metadata": {
  "colab": {
   "name": "gbprob4.ipynb",
   "provenance": []
  },
  "kernelspec": {
   "display_name": "Python 3",
   "language": "python",
   "name": "python3"
  },
  "language_info": {
   "codemirror_mode": {
    "name": "ipython",
    "version": 3
   },
   "file_extension": ".py",
   "mimetype": "text/x-python",
   "name": "python",
   "nbconvert_exporter": "python",
   "pygments_lexer": "ipython3",
   "version": "3.7.3"
  }
 },
 "nbformat": 4,
 "nbformat_minor": 1
}
