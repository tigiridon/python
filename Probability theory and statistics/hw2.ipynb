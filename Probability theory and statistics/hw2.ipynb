{
 "cells": [
  {
   "cell_type": "markdown",
   "metadata": {},
   "source": [
    "# HW2"
   ]
  },
  {
   "cell_type": "code",
   "execution_count": 5,
   "metadata": {},
   "outputs": [],
   "source": [
    "import numpy as np"
   ]
  },
  {
   "cell_type": "markdown",
   "metadata": {},
   "source": [
    "# Задача 1\n",
    "\n",
    "Контрольная работа состоит из пяти вопросов. На каждый вопрос приведено четыре варианта ответа, один из которых правильный. Составьте закон распределения числа правильных ответов при простом угадывании. Найдите M(X), D(X)."
   ]
  },
  {
   "cell_type": "markdown",
   "metadata": {},
   "source": [
    "Математическое ожидание для биномиально распределенной дискретной величины можно вычислить по формуле:\n",
    "\n",
    "M(X)=np\n",
    "\n",
    "Дисперсия для биномиально распределенной дискретной величины вычисляется так:\n",
    "\n",
    "D(X)=npq"
   ]
  },
  {
   "cell_type": "code",
   "execution_count": 4,
   "metadata": {},
   "outputs": [
    {
     "name": "stdout",
     "output_type": "stream",
     "text": [
      "M(X)=np =1.25, D(X)=npq = 0.9375\n"
     ]
    }
   ],
   "source": [
    "n=1/4\n",
    "p=5\n",
    "q=1-n\n",
    "M =n*p\n",
    "D=n*p*q\n",
    "print(f'M(X)=np ={M}, D(X)=npq = {D}')"
   ]
  },
  {
   "cell_type": "markdown",
   "metadata": {},
   "source": [
    "# Задача 2\n",
    "\n",
    "Пользователь получает в среднем 10 писем со спамом на свой почтовый ящик за сутки. Найти число N, такое, что с вероятностью 0.95 пользователь получит не более N писем со спамом за текущий день."
   ]
  },
  {
   "cell_type": "code",
   "execution_count": 9,
   "metadata": {},
   "outputs": [
    {
     "name": "stdout",
     "output_type": "stream",
     "text": [
      "Ответ: N = 15\n"
     ]
    }
   ],
   "source": [
    "#ф Пуассона\n",
    "def puasson(k, l=10):\n",
    "  return (l**k) * (np.exp(-l))/np.math.factorial(k)\n",
    "m = []\n",
    "for j in range (0, 26):\n",
    "  if not j:\n",
    "    m.append(puasson(j))\n",
    "  else:\n",
    "    m.append(m[j-1]+puasson(j))\n",
    " #Отсечем границу по вероятности\n",
    "  if m[j] > 0.95:\n",
    "    print('Ответ: N =',j)\n",
    "    break\n",
    "\n"
   ]
  },
  {
   "cell_type": "markdown",
   "metadata": {},
   "source": [
    "# Задача 3\n",
    "\n",
    "Производятся выстрелы по мишени. Вероятность попадания в мишень при одном выстреле равна 0.01. Сколько выстрелов нужно сделать чтобы быть уверенным с вероятностью 0.9, что хотя бы 6 раз будет совершено попадание?\n",
    "\n",
    "Подсказка. 1) \"Вероятность попасть k раз при n выстрелах\" - на какое распределение это похоже? 2) А если нам нужна вероятность P(X >= k), а не P(X = k)? 3) Здесь предстоит немножко покодить."
   ]
  },
  {
   "cell_type": "code",
   "execution_count": 16,
   "metadata": {},
   "outputs": [
    {
     "name": "stdout",
     "output_type": "stream",
     "text": [
      "Чтобы попасть 6 раз  надо выстрелить 926 раз и вероятность этого будет 0.9\n"
     ]
    }
   ],
   "source": [
    "# q= искомая вероятность\n",
    "# p =вероятность попадания \n",
    "# k = количество попаданий\n",
    "q = 0.9 \n",
    "p = 0.01 \n",
    "k = 6 \n",
    "n = k-1\n",
    "pn = 1\n",
    "#ф вычисления числа комбинаций\n",
    "def combinations(n,k): \n",
    "  return int(np.math.factorial(n)/(np.math.factorial(k)*np.math.factorial(n-k)))\n",
    "# ф Бернулли  \n",
    "def bernuli(n,k,p): \n",
    "  return combinations(n,k)*p**k*(1-p)**(n-k)\n",
    "while (1-pn) < q:\n",
    "  n += 1\n",
    "  pn = sum(bernuli(n,i,p) for i in range(k))\n",
    "print(f'Чтобы попасть {k} раз  надо выстрелить {n} раз и вероятность этого будет {q}')"
   ]
  }
 ],
 "metadata": {
  "kernelspec": {
   "display_name": "Python 3",
   "language": "python",
   "name": "python3"
  },
  "language_info": {
   "codemirror_mode": {
    "name": "ipython",
    "version": 3
   },
   "file_extension": ".py",
   "mimetype": "text/x-python",
   "name": "python",
   "nbconvert_exporter": "python",
   "pygments_lexer": "ipython3",
   "version": "3.7.3"
  }
 },
 "nbformat": 4,
 "nbformat_minor": 2
}
