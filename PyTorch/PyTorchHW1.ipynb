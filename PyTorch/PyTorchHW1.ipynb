{
  "nbformat": 4,
  "nbformat_minor": 0,
  "metadata": {
    "colab": {
      "name": "PyTorchHW1.ipynb",
      "provenance": [],
      "collapsed_sections": [],
      "toc_visible": true
    },
    "kernelspec": {
      "name": "python3",
      "display_name": "Python 3"
    },
    "accelerator": "GPU"
  },
  "cells": [
    {
      "cell_type": "code",
      "metadata": {
        "id": "i7cVrURrxS0Q"
      },
      "source": [
        "#From SAV to LOVE"
      ],
      "execution_count": 1,
      "outputs": []
    },
    {
      "cell_type": "markdown",
      "metadata": {
        "id": "PvaJ1X7cxWMI"
      },
      "source": [
        "# HW №1\r\n"
      ]
    },
    {
      "cell_type": "markdown",
      "metadata": {
        "id": "eVIZlqT04KCP"
      },
      "source": [
        "## Path №1"
      ]
    },
    {
      "cell_type": "code",
      "metadata": {
        "colab": {
          "base_uri": "https://localhost:8080/"
        },
        "id": "o5JmkgqU1XaT",
        "outputId": "9379cb9e-6fb6-4f0b-fd7f-ae17fc0170db"
      },
      "source": [
        "!pip3 install torch torchvision"
      ],
      "execution_count": 2,
      "outputs": [
        {
          "output_type": "stream",
          "text": [
            "Requirement already satisfied: torch in /usr/local/lib/python3.7/dist-packages (1.7.0+cu101)\n",
            "Requirement already satisfied: torchvision in /usr/local/lib/python3.7/dist-packages (0.8.1+cu101)\n",
            "Requirement already satisfied: future in /usr/local/lib/python3.7/dist-packages (from torch) (0.16.0)\n",
            "Requirement already satisfied: typing-extensions in /usr/local/lib/python3.7/dist-packages (from torch) (3.7.4.3)\n",
            "Requirement already satisfied: numpy in /usr/local/lib/python3.7/dist-packages (from torch) (1.19.5)\n",
            "Requirement already satisfied: dataclasses in /usr/local/lib/python3.7/dist-packages (from torch) (0.6)\n",
            "Requirement already satisfied: pillow>=4.1.1 in /usr/local/lib/python3.7/dist-packages (from torchvision) (7.0.0)\n"
          ],
          "name": "stdout"
        }
      ]
    },
    {
      "cell_type": "code",
      "metadata": {
        "colab": {
          "base_uri": "https://localhost:8080/"
        },
        "id": "kknmTQpo1Y7h",
        "outputId": "fb5fb5be-fed3-4496-cf5d-26f70d364ed6"
      },
      "source": [
        "pip show torch"
      ],
      "execution_count": 3,
      "outputs": [
        {
          "output_type": "stream",
          "text": [
            "Name: torch\n",
            "Version: 1.7.0+cu101\n",
            "Summary: Tensors and Dynamic neural networks in Python with strong GPU acceleration\n",
            "Home-page: https://pytorch.org/\n",
            "Author: PyTorch Team\n",
            "Author-email: packages@pytorch.org\n",
            "License: BSD-3\n",
            "Location: /usr/local/lib/python3.7/dist-packages\n",
            "Requires: typing-extensions, future, numpy, dataclasses\n",
            "Required-by: torchvision, torchtext, fastai\n"
          ],
          "name": "stdout"
        }
      ]
    },
    {
      "cell_type": "code",
      "metadata": {
        "colab": {
          "base_uri": "https://localhost:8080/"
        },
        "id": "aCHMe9cv1ZDP",
        "outputId": "e701e45c-8a25-4843-a4d4-ee6f1d24d476"
      },
      "source": [
        "pip show torchvision"
      ],
      "execution_count": 4,
      "outputs": [
        {
          "output_type": "stream",
          "text": [
            "Name: torchvision\n",
            "Version: 0.8.1+cu101\n",
            "Summary: image and video datasets and models for torch deep learning\n",
            "Home-page: https://github.com/pytorch/vision\n",
            "Author: PyTorch Core Team\n",
            "Author-email: soumith@pytorch.org\n",
            "License: BSD\n",
            "Location: /usr/local/lib/python3.7/dist-packages\n",
            "Requires: torch, numpy, pillow\n",
            "Required-by: fastai\n"
          ],
          "name": "stdout"
        }
      ]
    },
    {
      "cell_type": "code",
      "metadata": {
        "colab": {
          "base_uri": "https://localhost:8080/"
        },
        "id": "RjIbLh-v1chw",
        "outputId": "aba66e22-e39a-4e67-b398-79d37ad29272"
      },
      "source": [
        "!nvcc --version"
      ],
      "execution_count": 5,
      "outputs": [
        {
          "output_type": "stream",
          "text": [
            "nvcc: NVIDIA (R) Cuda compiler driver\n",
            "Copyright (c) 2005-2019 NVIDIA Corporation\n",
            "Built on Sun_Jul_28_19:07:16_PDT_2019\n",
            "Cuda compilation tools, release 10.1, V10.1.243\n"
          ],
          "name": "stdout"
        }
      ]
    },
    {
      "cell_type": "code",
      "metadata": {
        "id": "uIuhws78wrZ9"
      },
      "source": [
        "import torch\r\n",
        "import torchvision\r\n",
        "import numpy as np\r\n",
        "from torch.autograd import Variable\r\n",
        "from torch import nn \r\n",
        "from torch import optim\r\n",
        "import torchvision.transforms as transforms\r\n",
        "import matplotlib.pyplot as plt ### воспользуемся для отображения изображения"
      ],
      "execution_count": 6,
      "outputs": []
    },
    {
      "cell_type": "code",
      "metadata": {
        "id": "swE9jnEVIG1J"
      },
      "source": [
        "transform_train = transforms.Compose([\r\n",
        "    transforms.RandomCrop(32, padding=4),\r\n",
        "    transforms.RandomHorizontalFlip(),\r\n",
        "    transforms.ToTensor(),\r\n",
        "    transforms.Normalize((0.4914, 0.4822, 0.4465), (0.2023, 0.1994, 0.2010)),\r\n",
        "])\r\n",
        "\r\n",
        "# Normalize the test set same as training set without augmentation\r\n",
        "transform_test = transforms.Compose([\r\n",
        "    transforms.ToTensor(),\r\n",
        "    transforms.Normalize((0.4914, 0.4822, 0.4465), (0.2023, 0.1994, 0.2010)),\r\n",
        "])"
      ],
      "execution_count": 7,
      "outputs": []
    },
    {
      "cell_type": "code",
      "metadata": {
        "colab": {
          "base_uri": "https://localhost:8080/"
        },
        "id": "FdI1Fhy5yn0o",
        "outputId": "6709b5e9-1f27-4128-d36d-9362ba48ec74"
      },
      "source": [
        "train_dataset = torchvision.datasets.CIFAR10(root='C:/Users/79811/Videos/datasciense/pyTorch/data/', # путь куда будут скачиваться наши данные(если download=true), \r\n",
        "                                                                 # или где лежат наши данные(dowload=False)\r\n",
        "                                             train=True, # говорим что используем датасет для обучения  \r\n",
        "                                             transform=transforms.ToTensor(), # важная строчка: здесь мы преобразуем данные\r\n",
        "                                                                                # из датасета в формат тензоров из торч\r\n",
        "                                             download=True)\r\n",
        "\r\n",
        "\r\n",
        "image, label = train_dataset[0]\r\n",
        "print (image.size())\r\n",
        "print (label)"
      ],
      "execution_count": 8,
      "outputs": [
        {
          "output_type": "stream",
          "text": [
            "Files already downloaded and verified\n",
            "torch.Size([3, 32, 32])\n",
            "6\n"
          ],
          "name": "stdout"
        }
      ]
    },
    {
      "cell_type": "code",
      "metadata": {
        "colab": {
          "base_uri": "https://localhost:8080/",
          "height": 283
        },
        "id": "heuvpt34yn3h",
        "outputId": "f318fbb2-3335-4777-98e9-3dd504ed129d"
      },
      "source": [
        "plt.imshow(image.permute(1, 2, 0).numpy())"
      ],
      "execution_count": 9,
      "outputs": [
        {
          "output_type": "execute_result",
          "data": {
            "text/plain": [
              "<matplotlib.image.AxesImage at 0x7f63b5f35c50>"
            ]
          },
          "metadata": {
            "tags": []
          },
          "execution_count": 9
        },
        {
          "output_type": "display_data",
          "data": {
            "image/png": "[encoded data removed]",
            "text/plain": [
              "<Figure size 432x288 with 1 Axes>"
            ]
          },
          "metadata": {
            "tags": [],
            "needs_background": "light"
          }
        }
      ]
    },
    {
      "cell_type": "markdown",
      "metadata": {
        "id": "KWlqkNG7APlk"
      },
      "source": [
        "## **USE GPU**"
      ]
    },
    {
      "cell_type": "code",
      "metadata": {
        "id": "tOyWbOZa_XeQ"
      },
      "source": [
        "device = torch.device('cuda:0' if torch.cuda.is_available() else 'cpu')"
      ],
      "execution_count": 10,
      "outputs": []
    },
    {
      "cell_type": "code",
      "metadata": {
        "id": "DeHWt2Ngyn6Q"
      },
      "source": [
        "train_loader = torch.utils.data.DataLoader(dataset=train_dataset,\r\n",
        "                                           batch_size=32, \r\n",
        "                                           shuffle=True)"
      ],
      "execution_count": 11,
      "outputs": []
    },
    {
      "cell_type": "code",
      "metadata": {
        "colab": {
          "base_uri": "https://localhost:8080/"
        },
        "id": "3sNJ0Np3yn8y",
        "outputId": "f0118a89-1bca-4f4c-bd70-396bc4c98531"
      },
      "source": [
        "test_dataset = torchvision.datasets.CIFAR10(root='C:/Users/79811/Videos/datasciense/pyTorch/data/', train=False,\r\n",
        "                                       download=True, transform=transforms.ToTensor())\r\n",
        "test_loader = torch.utils.data.DataLoader(test_dataset, batch_size=1,\r\n",
        "                                         shuffle=False)"
      ],
      "execution_count": 12,
      "outputs": [
        {
          "output_type": "stream",
          "text": [
            "Files already downloaded and verified\n"
          ],
          "name": "stdout"
        }
      ]
    },
    {
      "cell_type": "code",
      "metadata": {
        "id": "2_hVdd5zyn_X"
      },
      "source": [
        "classes = ('plane', 'car', 'bird', 'cat',\r\n",
        "           'deer', 'dog', 'frog', 'horse', 'ship', 'truck')"
      ],
      "execution_count": 13,
      "outputs": []
    },
    {
      "cell_type": "markdown",
      "metadata": {
        "id": "kpVe5wsr_jN2"
      },
      "source": [
        "## **create model**"
      ]
    },
    {
      "cell_type": "code",
      "metadata": {
        "id": "3ObPrLnZyoB7"
      },
      "source": [
        "import torch.nn.functional as F\r\n",
        "\r\n",
        "\r\n",
        "class Net(nn.Module):\r\n",
        "    def __init__(self):\r\n",
        "        super().__init__()\r\n",
        "        self.conv_layer = nn.Sequential(\r\n",
        "\r\n",
        "            # Conv Layer block 1\r\n",
        "            nn.Conv2d(in_channels=3, out_channels=32, kernel_size=3, padding=1),\r\n",
        "            nn.BatchNorm2d(32),\r\n",
        "            nn.ReLU(inplace=True),\r\n",
        "            nn.Conv2d(in_channels=32, out_channels=64, kernel_size=3, padding=1),\r\n",
        "            nn.ReLU(inplace=True),\r\n",
        "            nn.MaxPool2d(kernel_size=2, stride=2),\r\n",
        "\r\n",
        "            # Conv Layer block 2\r\n",
        "            nn.Conv2d(in_channels=64, out_channels=128, kernel_size=3, padding=1),\r\n",
        "            nn.BatchNorm2d(128),\r\n",
        "            nn.ReLU(inplace=True),\r\n",
        "            nn.Conv2d(in_channels=128, out_channels=128, kernel_size=3, padding=1),\r\n",
        "            nn.ReLU(inplace=True),\r\n",
        "            nn.MaxPool2d(kernel_size=2, stride=2),\r\n",
        "            nn.Dropout2d(p=0.05),\r\n",
        "\r\n",
        "            # Conv Layer block 3\r\n",
        "            nn.Conv2d(in_channels=128, out_channels=256, kernel_size=3, padding=1),\r\n",
        "            nn.BatchNorm2d(256),\r\n",
        "            nn.ReLU(inplace=True),\r\n",
        "            nn.Conv2d(in_channels=256, out_channels=256, kernel_size=3, padding=1),\r\n",
        "            nn.ReLU(inplace=True),\r\n",
        "            nn.MaxPool2d(kernel_size=2, stride=2),\r\n",
        "        )\r\n",
        "\r\n",
        "\r\n",
        "        self.fc_layer = nn.Sequential(\r\n",
        "            nn.Dropout(p=0.1),\r\n",
        "            nn.Linear(4096, 1024),\r\n",
        "            nn.ReLU(inplace=True),\r\n",
        "            nn.Linear(1024, 512),\r\n",
        "            nn.ReLU(inplace=True),\r\n",
        "            nn.Dropout(p=0.1),\r\n",
        "            nn.Linear(512, 10)\r\n",
        "        )\r\n",
        "\r\n",
        "    def forward(self, x):\r\n",
        "        # conv layers\r\n",
        "        x = self.conv_layer(x)\r\n",
        "        \r\n",
        "        # flatten\r\n",
        "        x = x.view(x.size(0), -1)\r\n",
        "        \r\n",
        "        # fc layer\r\n",
        "        x = self.fc_layer(x)\r\n",
        "        return x\r\n",
        "\r\n",
        "\r\n",
        "\r\n",
        "net = Net().to(device)"
      ],
      "execution_count": 14,
      "outputs": []
    },
    {
      "cell_type": "code",
      "metadata": {
        "colab": {
          "base_uri": "https://localhost:8080/"
        },
        "id": "Tbh7q5o9yoEp",
        "outputId": "e1abd3f1-f291-494e-ca63-b4331a51cdf2"
      },
      "source": [
        "net"
      ],
      "execution_count": 15,
      "outputs": [
        {
          "output_type": "execute_result",
          "data": {
            "text/plain": [
              "Net(\n",
              "  (conv_layer): Sequential(\n",
              "    (0): Conv2d(3, 32, kernel_size=(3, 3), stride=(1, 1), padding=(1, 1))\n",
              "    (1): BatchNorm2d(32, eps=1e-05, momentum=0.1, affine=True, track_running_stats=True)\n",
              "    (2): ReLU(inplace=True)\n",
              "    (3): Conv2d(32, 64, kernel_size=(3, 3), stride=(1, 1), padding=(1, 1))\n",
              "    (4): ReLU(inplace=True)\n",
              "    (5): MaxPool2d(kernel_size=2, stride=2, padding=0, dilation=1, ceil_mode=False)\n",
              "    (6): Conv2d(64, 128, kernel_size=(3, 3), stride=(1, 1), padding=(1, 1))\n",
              "    (7): BatchNorm2d(128, eps=1e-05, momentum=0.1, affine=True, track_running_stats=True)\n",
              "    (8): ReLU(inplace=True)\n",
              "    (9): Conv2d(128, 128, kernel_size=(3, 3), stride=(1, 1), padding=(1, 1))\n",
              "    (10): ReLU(inplace=True)\n",
              "    (11): MaxPool2d(kernel_size=2, stride=2, padding=0, dilation=1, ceil_mode=False)\n",
              "    (12): Dropout2d(p=0.05, inplace=False)\n",
              "    (13): Conv2d(128, 256, kernel_size=(3, 3), stride=(1, 1), padding=(1, 1))\n",
              "    (14): BatchNorm2d(256, eps=1e-05, momentum=0.1, affine=True, track_running_stats=True)\n",
              "    (15): ReLU(inplace=True)\n",
              "    (16): Conv2d(256, 256, kernel_size=(3, 3), stride=(1, 1), padding=(1, 1))\n",
              "    (17): ReLU(inplace=True)\n",
              "    (18): MaxPool2d(kernel_size=2, stride=2, padding=0, dilation=1, ceil_mode=False)\n",
              "  )\n",
              "  (fc_layer): Sequential(\n",
              "    (0): Dropout(p=0.1, inplace=False)\n",
              "    (1): Linear(in_features=4096, out_features=1024, bias=True)\n",
              "    (2): ReLU(inplace=True)\n",
              "    (3): Linear(in_features=1024, out_features=512, bias=True)\n",
              "    (4): ReLU(inplace=True)\n",
              "    (5): Dropout(p=0.1, inplace=False)\n",
              "    (6): Linear(in_features=512, out_features=10, bias=True)\n",
              "  )\n",
              ")"
            ]
          },
          "metadata": {
            "tags": []
          },
          "execution_count": 15
        }
      ]
    },
    {
      "cell_type": "code",
      "metadata": {
        "id": "oPnsQPg84D2B"
      },
      "source": [
        "criterion = nn.CrossEntropyLoss()\r\n",
        "optimizer = optim.Adam(net.parameters(), lr=0.001)"
      ],
      "execution_count": 16,
      "outputs": []
    },
    {
      "cell_type": "markdown",
      "metadata": {
        "id": "_IQZwKHs_m_i"
      },
      "source": [
        "## **teach model**"
      ]
    },
    {
      "cell_type": "code",
      "metadata": {
        "colab": {
          "base_uri": "https://localhost:8080/"
        },
        "id": "YXCebsbf4D44",
        "outputId": "5a80ed45-9f4d-411d-cbd2-07c06c77c62c"
      },
      "source": [
        "for epoch in range(16):  # 16 эпох \r\n",
        "    running_loss = 0.0 # Для вывода процесса обучения\r\n",
        "    for i, data in enumerate(train_loader, 0):\r\n",
        "        inputs, labels = data[0].to(device), data[1].to(device)\r\n",
        "\r\n",
        "        # Обнуляем градиент\r\n",
        "        optimizer.zero_grad()\r\n",
        "    \r\n",
        "        # Делаем предсказание\r\n",
        "        outputs = net(inputs)\r\n",
        "        # Рассчитываем лосс-функцию\r\n",
        "        loss = criterion(outputs, labels)\r\n",
        "        # Делаем шаг назад по лоссу\r\n",
        "        loss.backward()\r\n",
        "        # Делаем шаг нашего оптимайзера\r\n",
        "        optimizer.step()\r\n",
        "\r\n",
        "        # выводим статистику о процессе обучения\r\n",
        "        running_loss += loss.item()\r\n",
        "        m = 300\r\n",
        "        if i % m == 0:    # печатаем каждые 2000 mini-batches\r\n",
        "            print('[%d, %5d] loss: %.3f' %\r\n",
        "                  (epoch + 1, i + 1, running_loss / m))\r\n",
        "            running_loss = 0.0\r\n",
        "\r\n",
        "print('Training is finished!')"
      ],
      "execution_count": 17,
      "outputs": [
        {
          "output_type": "stream",
          "text": [
            "[1,     1] loss: 0.008\n",
            "[1,   301] loss: 1.828\n",
            "[1,   601] loss: 1.564\n",
            "[1,   901] loss: 1.432\n",
            "[1,  1201] loss: 1.298\n",
            "[1,  1501] loss: 1.227\n",
            "[2,     1] loss: 0.004\n",
            "[2,   301] loss: 1.126\n",
            "[2,   601] loss: 1.061\n",
            "[2,   901] loss: 1.037\n",
            "[2,  1201] loss: 0.980\n",
            "[2,  1501] loss: 0.936\n",
            "[3,     1] loss: 0.003\n",
            "[3,   301] loss: 0.879\n",
            "[3,   601] loss: 0.842\n",
            "[3,   901] loss: 0.840\n",
            "[3,  1201] loss: 0.833\n",
            "[3,  1501] loss: 0.818\n",
            "[4,     1] loss: 0.003\n",
            "[4,   301] loss: 0.742\n",
            "[4,   601] loss: 0.738\n",
            "[4,   901] loss: 0.723\n",
            "[4,  1201] loss: 0.716\n",
            "[4,  1501] loss: 0.731\n",
            "[5,     1] loss: 0.001\n",
            "[5,   301] loss: 0.639\n",
            "[5,   601] loss: 0.654\n",
            "[5,   901] loss: 0.643\n",
            "[5,  1201] loss: 0.651\n",
            "[5,  1501] loss: 0.647\n",
            "[6,     1] loss: 0.002\n",
            "[6,   301] loss: 0.558\n",
            "[6,   601] loss: 0.579\n",
            "[6,   901] loss: 0.595\n",
            "[6,  1201] loss: 0.571\n",
            "[6,  1501] loss: 0.578\n",
            "[7,     1] loss: 0.001\n",
            "[7,   301] loss: 0.518\n",
            "[7,   601] loss: 0.525\n",
            "[7,   901] loss: 0.528\n",
            "[7,  1201] loss: 0.544\n",
            "[7,  1501] loss: 0.532\n",
            "[8,     1] loss: 0.001\n",
            "[8,   301] loss: 0.455\n",
            "[8,   601] loss: 0.475\n",
            "[8,   901] loss: 0.472\n",
            "[8,  1201] loss: 0.482\n",
            "[8,  1501] loss: 0.490\n",
            "[9,     1] loss: 0.001\n",
            "[9,   301] loss: 0.400\n",
            "[9,   601] loss: 0.430\n",
            "[9,   901] loss: 0.431\n",
            "[9,  1201] loss: 0.435\n",
            "[9,  1501] loss: 0.442\n",
            "[10,     1] loss: 0.001\n",
            "[10,   301] loss: 0.380\n",
            "[10,   601] loss: 0.385\n",
            "[10,   901] loss: 0.394\n",
            "[10,  1201] loss: 0.406\n",
            "[10,  1501] loss: 0.409\n",
            "[11,     1] loss: 0.000\n",
            "[11,   301] loss: 0.334\n",
            "[11,   601] loss: 0.349\n",
            "[11,   901] loss: 0.358\n",
            "[11,  1201] loss: 0.372\n",
            "[11,  1501] loss: 0.377\n",
            "[12,     1] loss: 0.000\n",
            "[12,   301] loss: 0.327\n",
            "[12,   601] loss: 0.313\n",
            "[12,   901] loss: 0.334\n",
            "[12,  1201] loss: 0.344\n",
            "[12,  1501] loss: 0.358\n",
            "[13,     1] loss: 0.001\n",
            "[13,   301] loss: 0.277\n",
            "[13,   601] loss: 0.321\n",
            "[13,   901] loss: 0.313\n",
            "[13,  1201] loss: 0.310\n",
            "[13,  1501] loss: 0.324\n",
            "[14,     1] loss: 0.001\n",
            "[14,   301] loss: 0.258\n",
            "[14,   601] loss: 0.260\n",
            "[14,   901] loss: 0.297\n",
            "[14,  1201] loss: 0.287\n",
            "[14,  1501] loss: 0.289\n",
            "[15,     1] loss: 0.001\n",
            "[15,   301] loss: 0.230\n",
            "[15,   601] loss: 0.271\n",
            "[15,   901] loss: 0.276\n",
            "[15,  1201] loss: 0.269\n",
            "[15,  1501] loss: 0.283\n",
            "[16,     1] loss: 0.000\n",
            "[16,   301] loss: 0.208\n",
            "[16,   601] loss: 0.238\n",
            "[16,   901] loss: 0.244\n",
            "[16,  1201] loss: 0.269\n",
            "[16,  1501] loss: 0.272\n",
            "Training is finished!\n"
          ],
          "name": "stdout"
        }
      ]
    },
    {
      "cell_type": "markdown",
      "metadata": {
        "id": "sz5EGgrL6ujo"
      },
      "source": [
        "## **save model**"
      ]
    },
    {
      "cell_type": "code",
      "metadata": {
        "id": "euKMW2JN4D7g"
      },
      "source": [
        "PATH = './cifar_net_version_test_intro.pth'\r\n",
        "torch.save(net.state_dict(), PATH)"
      ],
      "execution_count": 18,
      "outputs": []
    },
    {
      "cell_type": "code",
      "metadata": {
        "colab": {
          "base_uri": "https://localhost:8080/"
        },
        "id": "rlU8ZdkN4D9v",
        "outputId": "1a97d536-89f7-4f0b-e16b-a20069d7220d"
      },
      "source": [
        "\r\n",
        "print(\"Model state_dict: \")\r\n",
        "for param in net.state_dict():\r\n",
        "    print(param,\" \\ \", net.state_dict()[param].size())"
      ],
      "execution_count": 19,
      "outputs": [
        {
          "output_type": "stream",
          "text": [
            "Model state_dict: \n",
            "conv_layer.0.weight  \\  torch.Size([32, 3, 3, 3])\n",
            "conv_layer.0.bias  \\  torch.Size([32])\n",
            "conv_layer.1.weight  \\  torch.Size([32])\n",
            "conv_layer.1.bias  \\  torch.Size([32])\n",
            "conv_layer.1.running_mean  \\  torch.Size([32])\n",
            "conv_layer.1.running_var  \\  torch.Size([32])\n",
            "conv_layer.1.num_batches_tracked  \\  torch.Size([])\n",
            "conv_layer.3.weight  \\  torch.Size([64, 32, 3, 3])\n",
            "conv_layer.3.bias  \\  torch.Size([64])\n",
            "conv_layer.6.weight  \\  torch.Size([128, 64, 3, 3])\n",
            "conv_layer.6.bias  \\  torch.Size([128])\n",
            "conv_layer.7.weight  \\  torch.Size([128])\n",
            "conv_layer.7.bias  \\  torch.Size([128])\n",
            "conv_layer.7.running_mean  \\  torch.Size([128])\n",
            "conv_layer.7.running_var  \\  torch.Size([128])\n",
            "conv_layer.7.num_batches_tracked  \\  torch.Size([])\n",
            "conv_layer.9.weight  \\  torch.Size([128, 128, 3, 3])\n",
            "conv_layer.9.bias  \\  torch.Size([128])\n",
            "conv_layer.13.weight  \\  torch.Size([256, 128, 3, 3])\n",
            "conv_layer.13.bias  \\  torch.Size([256])\n",
            "conv_layer.14.weight  \\  torch.Size([256])\n",
            "conv_layer.14.bias  \\  torch.Size([256])\n",
            "conv_layer.14.running_mean  \\  torch.Size([256])\n",
            "conv_layer.14.running_var  \\  torch.Size([256])\n",
            "conv_layer.14.num_batches_tracked  \\  torch.Size([])\n",
            "conv_layer.16.weight  \\  torch.Size([256, 256, 3, 3])\n",
            "conv_layer.16.bias  \\  torch.Size([256])\n",
            "fc_layer.1.weight  \\  torch.Size([1024, 4096])\n",
            "fc_layer.1.bias  \\  torch.Size([1024])\n",
            "fc_layer.3.weight  \\  torch.Size([512, 1024])\n",
            "fc_layer.3.bias  \\  torch.Size([512])\n",
            "fc_layer.6.weight  \\  torch.Size([10, 512])\n",
            "fc_layer.6.bias  \\  torch.Size([10])\n"
          ],
          "name": "stdout"
        }
      ]
    },
    {
      "cell_type": "markdown",
      "metadata": {
        "id": "gfjJDWkPAaI-"
      },
      "source": [
        "## **download model**"
      ]
    },
    {
      "cell_type": "code",
      "metadata": {
        "colab": {
          "base_uri": "https://localhost:8080/"
        },
        "id": "j09iV1jo4EAA",
        "outputId": "58b3a482-0ed0-4992-eff6-6853b2584bca"
      },
      "source": [
        "net = Net()\r\n",
        "net.load_state_dict(torch.load(PATH))"
      ],
      "execution_count": 30,
      "outputs": [
        {
          "output_type": "execute_result",
          "data": {
            "text/plain": [
              "<All keys matched successfully>"
            ]
          },
          "metadata": {
            "tags": []
          },
          "execution_count": 30
        }
      ]
    },
    {
      "cell_type": "markdown",
      "metadata": {
        "id": "v2sb2d-XAd55"
      },
      "source": [
        "## **Use model**"
      ]
    },
    {
      "cell_type": "code",
      "metadata": {
        "id": "ASbfzy-F4ECg"
      },
      "source": [
        "data_iter = iter(test_loader)\r\n",
        "images, labels = data_iter.next()"
      ],
      "execution_count": 31,
      "outputs": []
    },
    {
      "cell_type": "code",
      "metadata": {
        "colab": {
          "base_uri": "https://localhost:8080/",
          "height": 283
        },
        "id": "-N3onjPj-WGh",
        "outputId": "f82ab0c6-f53c-4108-91a7-fbf69b8f6755"
      },
      "source": [
        "outputs = net(images)\r\n",
        "imgs = torchvision.utils.make_grid(images)\r\n",
        "plt.imshow(imgs.permute(1, 2, 0).numpy())\r\n",
        "print('GroundTruth: ', ' '.join('%5s' % classes[labels[j]] for j in range(1)))"
      ],
      "execution_count": 32,
      "outputs": [
        {
          "output_type": "stream",
          "text": [
            "GroundTruth:    cat\n"
          ],
          "name": "stdout"
        },
        {
          "output_type": "display_data",
          "data": {
            "image/png": "[encoded data removed]",
            "text/plain": [
              "<Figure size 432x288 with 1 Axes>"
            ]
          },
          "metadata": {
            "tags": [],
            "needs_background": "light"
          }
        }
      ]
    },
    {
      "cell_type": "code",
      "metadata": {
        "colab": {
          "base_uri": "https://localhost:8080/"
        },
        "id": "o4SEsHaG4EE6",
        "outputId": "66af5416-52be-4ff9-9963-9bdee03b82b2"
      },
      "source": [
        "sum = 0\r\n",
        "max = 0\r\n",
        "for i, data in enumerate(test_loader, 0):\r\n",
        "    inputs, labels = data[0].to(device), data[1]\r\n",
        "    outputs = net(inputs)\r\n",
        "    _, predicted = torch.max(outputs, 1)\r\n",
        "    predicted = predicted.to('cpu')\r\n",
        "    if labels.numpy()[0] == predicted.numpy()[0]:\r\n",
        "      sum += 1\r\n",
        "    max += 1\r\n",
        "\r\n",
        "print(sum/max)"
      ],
      "execution_count": 29,
      "outputs": [
        {
          "output_type": "stream",
          "text": [
            "0.6868\n"
          ],
          "name": "stdout"
        }
      ]
    },
    {
      "cell_type": "markdown",
      "metadata": {
        "id": "nA20x_oe7jUH"
      },
      "source": [
        "## Path №2"
      ]
    },
    {
      "cell_type": "code",
      "metadata": {
        "id": "c5gGQ7gF7cr_"
      },
      "source": [
        "import tensorflow as tf "
      ],
      "execution_count": 33,
      "outputs": []
    },
    {
      "cell_type": "code",
      "metadata": {
        "colab": {
          "base_uri": "https://localhost:8080/"
        },
        "id": "9CsNlUGH7cov",
        "outputId": "a5fdafc4-8420-4326-8364-b473817e11f2"
      },
      "source": [
        "mnist = tf.keras.datasets.mnist\r\n",
        "\r\n",
        "(x_train, y_train), (x_test, y_test) = mnist.load_data()\r\n",
        "x_train, x_test = x_train / 255.0, x_test / 255.0"
      ],
      "execution_count": 34,
      "outputs": [
        {
          "output_type": "stream",
          "text": [
            "Downloading data from https://storage.googleapis.com/tensorflow/tf-keras-datasets/mnist.npz\n",
            "11493376/11490434 [==============================] - 0s 0us/step\n"
          ],
          "name": "stdout"
        }
      ]
    },
    {
      "cell_type": "code",
      "metadata": {
        "id": "iuaflLLd7cvC"
      },
      "source": [
        "model = tf.keras.models.Sequential([\r\n",
        "  tf.keras.layers.Flatten(input_shape=(28, 28)),\r\n",
        "  tf.keras.layers.Dense(128, activation='relu'),\r\n",
        "  tf.keras.layers.Dropout(0.2),\r\n",
        "  tf.keras.layers.Dense(10)\r\n",
        "])"
      ],
      "execution_count": 35,
      "outputs": []
    },
    {
      "cell_type": "code",
      "metadata": {
        "colab": {
          "base_uri": "https://localhost:8080/"
        },
        "id": "l_NYwde47cxp",
        "outputId": "034efd6b-b74d-4afb-ea48-6d040d60a09a"
      },
      "source": [
        "predictions = model(x_train[:1]).numpy()\r\n",
        "predictions"
      ],
      "execution_count": 36,
      "outputs": [
        {
          "output_type": "execute_result",
          "data": {
            "text/plain": [
              "array([[-0.09765229,  0.35217553,  0.23341143, -0.03815803, -0.24514356,\n",
              "         0.22035423, -0.47106296,  0.10108556, -0.19360109, -0.02632517]],\n",
              "      dtype=float32)"
            ]
          },
          "metadata": {
            "tags": []
          },
          "execution_count": 36
        }
      ]
    },
    {
      "cell_type": "code",
      "metadata": {
        "colab": {
          "base_uri": "https://localhost:8080/"
        },
        "id": "Rkj8FPEF7c0H",
        "outputId": "03f3d04e-2267-4cfc-b270-bd386e06f817"
      },
      "source": [
        "tf.nn.softmax(predictions).numpy()"
      ],
      "execution_count": 37,
      "outputs": [
        {
          "output_type": "execute_result",
          "data": {
            "text/plain": [
              "array([[0.08968824, 0.14063495, 0.12488626, 0.0951861 , 0.07738929,\n",
              "        0.12326619, 0.06173981, 0.10940728, 0.08148272, 0.09631912]],\n",
              "      dtype=float32)"
            ]
          },
          "metadata": {
            "tags": []
          },
          "execution_count": 37
        }
      ]
    },
    {
      "cell_type": "code",
      "metadata": {
        "id": "E_s5KKBo7c2n"
      },
      "source": [
        "loss_fn = tf.keras.losses.SparseCategoricalCrossentropy(from_logits=True)"
      ],
      "execution_count": 38,
      "outputs": []
    },
    {
      "cell_type": "code",
      "metadata": {
        "colab": {
          "base_uri": "https://localhost:8080/"
        },
        "id": "m0nRM6kK7c49",
        "outputId": "713e0579-de5e-46b0-9e54-e6cef5fa13a4"
      },
      "source": [
        "loss_fn(y_train[:1], predictions).numpy()"
      ],
      "execution_count": 39,
      "outputs": [
        {
          "output_type": "execute_result",
          "data": {
            "text/plain": [
              "2.093409"
            ]
          },
          "metadata": {
            "tags": []
          },
          "execution_count": 39
        }
      ]
    },
    {
      "cell_type": "code",
      "metadata": {
        "id": "AHdZm7TmAFgv"
      },
      "source": [
        "model.compile(optimizer='adam',\r\n",
        "              loss=loss_fn,\r\n",
        "              metrics=['accuracy'])"
      ],
      "execution_count": 40,
      "outputs": []
    },
    {
      "cell_type": "code",
      "metadata": {
        "colab": {
          "base_uri": "https://localhost:8080/"
        },
        "id": "HBRHTNXiAsED",
        "outputId": "fca2a5b3-25fa-4a5c-9dad-4314886b6e01"
      },
      "source": [
        "model.fit(x_train, y_train, epochs=5)"
      ],
      "execution_count": 41,
      "outputs": [
        {
          "output_type": "stream",
          "text": [
            "Epoch 1/5\n",
            "1875/1875 [==============================] - 3s 1ms/step - loss: 0.4751 - accuracy: 0.8620\n",
            "Epoch 2/5\n",
            "1875/1875 [==============================] - 3s 2ms/step - loss: 0.1445 - accuracy: 0.9559\n",
            "Epoch 3/5\n",
            "1875/1875 [==============================] - 3s 2ms/step - loss: 0.1088 - accuracy: 0.9676\n",
            "Epoch 4/5\n",
            "1875/1875 [==============================] - 3s 2ms/step - loss: 0.0863 - accuracy: 0.9734\n",
            "Epoch 5/5\n",
            "1875/1875 [==============================] - 3s 2ms/step - loss: 0.0716 - accuracy: 0.9771\n"
          ],
          "name": "stdout"
        },
        {
          "output_type": "execute_result",
          "data": {
            "text/plain": [
              "<tensorflow.python.keras.callbacks.History at 0x7f62d23c4950>"
            ]
          },
          "metadata": {
            "tags": []
          },
          "execution_count": 41
        }
      ]
    },
    {
      "cell_type": "code",
      "metadata": {
        "colab": {
          "base_uri": "https://localhost:8080/"
        },
        "id": "6W021tD-AsHc",
        "outputId": "a01364a8-f31d-4259-de77-1467e67b29a9"
      },
      "source": [
        "model.evaluate(x_test,  y_test, verbose=2)"
      ],
      "execution_count": 42,
      "outputs": [
        {
          "output_type": "stream",
          "text": [
            "313/313 - 1s - loss: 0.0739 - accuracy: 0.9785\n"
          ],
          "name": "stdout"
        },
        {
          "output_type": "execute_result",
          "data": {
            "text/plain": [
              "[0.07390621304512024, 0.9785000085830688]"
            ]
          },
          "metadata": {
            "tags": []
          },
          "execution_count": 42
        }
      ]
    },
    {
      "cell_type": "code",
      "metadata": {
        "id": "liPd-o8XAsKj"
      },
      "source": [
        "probability_model = tf.keras.Sequential([\r\n",
        "  model,\r\n",
        "  tf.keras.layers.Softmax()\r\n",
        "])"
      ],
      "execution_count": 43,
      "outputs": []
    },
    {
      "cell_type": "code",
      "metadata": {
        "colab": {
          "base_uri": "https://localhost:8080/"
        },
        "id": "iXpnRzi7Aw7f",
        "outputId": "7f978fb3-3a40-4ace-9d43-8682d78d9aef"
      },
      "source": [
        "probability_model(x_test[:5])"
      ],
      "execution_count": 44,
      "outputs": [
        {
          "output_type": "execute_result",
          "data": {
            "text/plain": [
              "<tf.Tensor: shape=(5, 10), dtype=float32, numpy=\n",
              "array([[6.0940128e-09, 2.5339421e-08, 2.8156780e-06, 3.3609197e-04,\n",
              "        1.2181645e-11, 9.2501431e-08, 4.2570127e-15, 9.9965417e-01,\n",
              "        1.5525622e-07, 6.6591092e-06],\n",
              "       [2.0200353e-09, 8.4793137e-06, 9.9998498e-01, 3.8268572e-06,\n",
              "        5.3247202e-14, 2.5979123e-06, 1.4471057e-09, 5.1860385e-14,\n",
              "        7.1056064e-08, 6.3181229e-15],\n",
              "       [6.8064949e-08, 9.9972755e-01, 2.2397720e-05, 2.9916890e-05,\n",
              "        4.0273128e-05, 4.8709976e-06, 3.2125328e-05, 9.9888020e-05,\n",
              "        4.2429660e-05, 4.0173700e-07],\n",
              "       [9.9977165e-01, 1.7517032e-09, 7.5281045e-05, 3.3078672e-06,\n",
              "        3.7213475e-05, 5.0360227e-06, 4.0624203e-05, 3.1523534e-05,\n",
              "        1.5656955e-08, 3.5371850e-05],\n",
              "       [3.1223947e-06, 1.4285429e-08, 4.6479752e-05, 2.1778357e-08,\n",
              "        9.9376351e-01, 3.6607488e-09, 8.5375319e-08, 5.9457354e-05,\n",
              "        1.1011344e-06, 6.1262157e-03]], dtype=float32)>"
            ]
          },
          "metadata": {
            "tags": []
          },
          "execution_count": 44
        }
      ]
    }
  ]
}