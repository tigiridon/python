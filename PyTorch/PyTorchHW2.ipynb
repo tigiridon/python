{
 "cells": [
  {
   "cell_type": "markdown",
   "metadata": {
    "id": "HPw_FfOvmkzG"
   },
   "source": [
    "# HW 2 Long Shot-Term Memory"
   ]
  },
  {
   "cell_type": "markdown",
   "metadata": {
    "id": "iENgooVumkzi"
   },
   "source": [
    "Дополнительные библиотеки по аугментации данных:\n",
    "- [albumentations](https://github.com/albumentations-team/albumentations_examples/blob/master/notebooks/example_bboxes.ipynb)\n",
    "- [scikit-image](https://scikit-image.org/)"
   ]
  },
  {
   "cell_type": "markdown",
   "metadata": {
    "id": "2gyvOTMymkzV"
   },
   "source": [
    "### All Datasets"
   ]
  },
  {
   "cell_type": "markdown",
   "metadata": {
    "id": "dWQafGjPmkzV"
   },
   "source": [
    "#### Path №1\n",
    "#### https://github.com/shahroudy/NTURGB-D"
   ]
  },
  {
   "cell_type": "markdown",
   "metadata": {
    "id": "eRrtscBimkzV"
   },
   "source": [
    "#### Path №2 \n",
    "#### * http://rose1.ntu.edu.sg/datasets/actionrecognition.asp\n",
    "#### * https://archive.ics.uci.edu/ml/datasets/human+activity+recognition+using+smartphones"
   ]
  },
  {
   "cell_type": "code",
   "execution_count": 5,
   "metadata": {
    "colab": {
     "base_uri": "https://localhost:8080/"
    },
    "executionInfo": {
     "elapsed": 706,
     "status": "ok",
     "timestamp": 1614448667411,
     "user": {
      "displayName": "Alexey Egorov",
      "photoUrl": "",
      "userId": "14409977618739719393"
     },
     "user_tz": -180
    },
    "id": "c5HJv4D1mkzO",
    "outputId": "05e390b2-7057-41a8-bdb9-25f1ded9ff2c",
    "scrolled": true
   },
   "outputs": [
    {
     "name": "stdout",
     "output_type": "stream",
     "text": [
      "cpu\n"
     ]
    }
   ],
   "source": [
    "import torch\n",
    "from torch import nn\n",
    "import numpy as np\n",
    "import matplotlib.pyplot as plt\n",
    "import os\n",
    "import numpy as np\n",
    "import pandas as pd\n",
    "from torch import optim\n",
    "import time\n",
    "import math\n",
    "import matplotlib.pyplot as plt\n",
    "import torchvision\n",
    "from torchvision import datasets, transforms\n",
    "from torch.utils.data import DataLoader, Dataset\n",
    "use_cuda = torch.cuda.is_available()\n",
    "# device = torch.device(\"cpu\")\n",
    "device = torch.device('cuda') if torch.cuda.is_available() else torch.device('cpu')\n",
    "print(device)\n",
    "\n",
    "device = torch.device('cpu')"
   ]
  },
  {
   "cell_type": "markdown",
   "metadata": {
    "id": "1ox1y7JxmkzS"
   },
   "source": [
    "##### [Original state](http://colah.github.io/posts/2015-08-Understanding-LSTMs/)  "
   ]
  },
  {
   "cell_type": "code",
   "execution_count": 6,
   "metadata": {
    "executionInfo": {
     "elapsed": 565,
     "status": "ok",
     "timestamp": 1614448670111,
     "user": {
      "displayName": "Alexey Egorov",
      "photoUrl": "",
      "userId": "14409977618739719393"
     },
     "user_tz": -180
    },
    "id": "-KlGKOi9mkzT"
   },
   "outputs": [],
   "source": [
    "class LSTM_net(nn.Module):\n",
    "    def __init__(self,input_dim,hidden_dim,output_dim,layer_num):\n",
    "        super().__init__()\n",
    "        self.hidden_dim = hidden_dim\n",
    "        self.output_dim = output_dim\n",
    "        self.lstm = torch.nn.LSTM(input_dim, hidden_dim,layer_num,batch_first=True)\n",
    "        self.dr = torch.nn.Dropout2d(0.1)\n",
    "        self.fc = torch.nn.Linear(hidden_dim,output_dim)\n",
    "        \n",
    "        \n",
    "    def forward(self,inputs):\n",
    "        x = inputs\n",
    "        lstm_out,(hn,cn) = self.lstm(x)\n",
    "        out = self.fc(lstm_out[:,-1,:])\n",
    "        return out"
   ]
  },
  {
   "cell_type": "markdown",
   "metadata": {
    "id": "mHEIxfMEmkzV"
   },
   "source": [
    "#### Classes:\n",
    "* sitting down\n",
    "* clapping\n",
    "* jump up\n",
    "* cheer up\n",
    "* hand waving"
   ]
  },
  {
   "cell_type": "code",
   "execution_count": 7,
   "metadata": {},
   "outputs": [],
   "source": [
    "class Skeleton_Dataset_Creator():\n",
    "    def __init__(self, data_path, broken_files_path, max_frame=300):\n",
    "        self.data_path = \"nturgb+d_skeletons/\"\n",
    "        self.broken_files_path = \"NTU_RGBD_samples_with_missing_skeletons.txt\"\n",
    "        self.training_subjects = list(range(0, 28)) #количество людей выполняющих действия\n",
    "        self.training_classes = [8, 10, 22, 23, 27] #классы которые будем использовать для обучения, полный список прдставлен тут https://github.com/shahroudy/NTURGB-D\n",
    "        self.training_cameras = [1, 2, 3] \n",
    "\n",
    "        self.max_body_true = 1\n",
    "        self.max_body_kinect = 1\n",
    "\n",
    "        self.num_joint = 25\n",
    "        self.max_frame = max_frame # Длина отрезка которую мы вычленяем из большого датасета\n",
    "        \n",
    "        \n",
    "        self.working_files_with_labels, self.action_classes = self.read_data(data_path, broken_files_path)\n",
    "        \n",
    "        LABELS = {v: k for k, v in self.action_classes.items()}\n",
    "        \n",
    "    def read_data(self, data_path, broken_files_path):\n",
    "        data_path = self.data_path\n",
    "        broken_files_path = self.broken_files_path\n",
    "        labels = []\n",
    "        files = []\n",
    "        action_classes = {}\n",
    "        counter = 0\n",
    "        files_counter = {}\n",
    "\n",
    "        with open(broken_files_path, 'r') as f:\n",
    "            broken_files = f.read().split(\"\\n\")\n",
    "\n",
    "        raw_files = os.listdir(data_path)\n",
    "        num_frames = 0\n",
    "\n",
    "        for filename in raw_files:\n",
    "            if filename not in broken_files:\n",
    "                action_class = int(filename[filename.find('A') + 1:filename.find('A') + 4])\n",
    "                subject_id = int(filename[filename.find('P') + 1:filename.find('P') + 4])\n",
    "                camera_id = int(filename[filename.find('C') + 1:filename.find('C') + 4])\n",
    "                if action_class in self.training_classes and camera_id in self.training_cameras:  #and subject_id in training_subjects:\n",
    "                    if action_class in action_classes:\n",
    "                        if files_counter[action_class] < 120:\n",
    "                            files.append([filename,action_classes[action_class]])\n",
    "                            files_counter[action_class] = files_counter[action_class] + 1\n",
    "                    else:\n",
    "                        action_classes.update({action_class : counter})\n",
    "                        files_counter.update({action_class : 1})\n",
    "                        counter+=1\n",
    "                        files.append([filename,action_classes[action_class]])\n",
    "    #                     labels.append([action_class])\n",
    "        print(\"action classes: \", action_classes)\n",
    "        print(\"action files: \", files_counter)\n",
    "\n",
    "        return files, action_classes\n",
    "    \n",
    "    def get_nonzero_std(s): \n",
    "        index = s.sum(-1).sum(-1) != 0  \n",
    "        s = s[index]\n",
    "        if len(s) != 0:\n",
    "            s = s[:, :, 0].std() + s[:, :, 1].std() + s[:, :, 2].std()  \n",
    "        else:\n",
    "            s = 0\n",
    "        return s\n",
    "\n",
    "# Функция фильтр для того, что бы найти только координаты x,y,z(т.к. в датасете\n",
    "# хранится на порядок больше информации, нежели только координаты x,y,z)\n",
    "# (Остальные данные нам и не нужны, т.к. у нас нет ик-камер)\n",
    "    def read_skeleton_filter(self, file):\n",
    "        with open(file, 'r') as f:\n",
    "            skeleton_sequence = {}\n",
    "            skeleton_sequence['numFrame'] = int(f.readline())\n",
    "            skeleton_sequence['frameInfo'] = []\n",
    "            for t in range(skeleton_sequence['numFrame']):\n",
    "                frame_info = {}\n",
    "                frame_info['numBody'] = int(f.readline())\n",
    "                frame_info['bodyInfo'] = []\n",
    "\n",
    "                for m in range(frame_info['numBody']):\n",
    "                    body_info = {}\n",
    "                    body_info_key = [\n",
    "                        'bodyID', 'clipedEdges', 'handLeftConfidence',\n",
    "                        'handLeftState', 'handRightConfidence', 'handRightState',\n",
    "                        'isResticted', 'leanX', 'leanY', 'trackingState'\n",
    "                    ]\n",
    "                    body_info = {\n",
    "                        k: float(v)\n",
    "                        for k, v in zip(body_info_key, f.readline().split())\n",
    "                    }\n",
    "                    body_info['numJoint'] = int(f.readline())\n",
    "                    body_info['jointInfo'] = []\n",
    "                    for v in range(body_info['numJoint']):\n",
    "                        joint_info_key = [\n",
    "                            'x', 'y', 'z', 'depthX', 'depthY', 'colorX', 'colorY',\n",
    "                            'orientationW', 'orientationX', 'orientationY',\n",
    "                            'orientationZ', 'trackingState'\n",
    "                        ]\n",
    "                        joint_info = {\n",
    "                            k: float(v)\n",
    "                            for k, v in zip(joint_info_key, f.readline().split())\n",
    "                        }\n",
    "                        body_info['jointInfo'].append(joint_info)\n",
    "                    frame_info['bodyInfo'].append(body_info)\n",
    "                skeleton_sequence['frameInfo'].append(frame_info)\n",
    "\n",
    "        return skeleton_sequence\n",
    "\n",
    "    def read_xyz(self, file, max_body=1, num_joint=25):\n",
    "        seq_info = self.read_skeleton_filter(file)\n",
    "        data = np.zeros((max_body, seq_info['numFrame'], num_joint, 3))\n",
    "        for n, f in enumerate(seq_info['frameInfo']):\n",
    "            for m, b in enumerate(f['bodyInfo']):\n",
    "                for j, v in enumerate(b['jointInfo']):\n",
    "                    if m < max_body and j < num_joint:\n",
    "                        data[m, n, j, :] = [v['x'], v['y'], v['z']]\n",
    "\n",
    "                    else:\n",
    "                        pass\n",
    "\n",
    "        return data\n",
    "    \n",
    "    def create_coords_blocks(self, test_file, chonk_len = 45):   \n",
    "        frame_counter = 0\n",
    "        new_labels = []\n",
    "        new_frames = []\n",
    "        blocks = []\n",
    "\n",
    "        test_frames = self.read_xyz(self.data_path + test_file[0])[0]\n",
    "        label = test_file[1]\n",
    "        slice_len = chonk_len * int(len(test_frames)/chonk_len)\n",
    "\n",
    "\n",
    "        for index in range(len(test_frames[:slice_len])):\n",
    "            frame_counter += 1\n",
    "            new_frames.append(test_frames[index].flatten())\n",
    "            if frame_counter == chonk_len:\n",
    "                frame_counter = 0\n",
    "                blocks.append(np.array(new_frames))\n",
    "                new_labels = new_labels + [label]\n",
    "                new_frames = []\n",
    "\n",
    "\n",
    "        return blocks, new_labels\n",
    "    \n",
    "    def creat_data(self, name):\n",
    "        data = []\n",
    "        labels = []\n",
    "        ##########################################################################\n",
    "        #numbers = {0: 0, 1 : 0, 2 : 0, 3 : 0, 4 :0, 5 :0} #####\n",
    "        ##################################################################\n",
    "        \n",
    "        numbers = {}\n",
    "        i = 0\n",
    "        for elem in self.training_classes:\n",
    "            numbers[i] = 0\n",
    "            i += 1\n",
    "        \n",
    "        for file in self.working_files_with_labels:\n",
    "            frames_blocks, label = self.create_coords_blocks(file)\n",
    "            #print(label, label[0], numbers)\n",
    "            if label != [] and numbers[label[0]] <= 150:\n",
    "                numbers[label[0]] = numbers[label[0]] + len(label)\n",
    "                data = data + frames_blocks\n",
    "                labels = labels + label\n",
    "        data_np = np.asarray(data)\n",
    "        labels_np = np.asarray(labels)\n",
    "\n",
    "        data_sq = data_np.reshape(len(data_np), -1)\n",
    "        test_data = pd.DataFrame(data_sq)\n",
    "        test_labels = pd.DataFrame(labels_np)\n",
    "        test_data['labels'] = test_labels\n",
    "        \n",
    "        test_data.to_csv(name, index = False)\n",
    "        return test_data"
   ]
  },
  {
   "cell_type": "code",
   "execution_count": 9,
   "metadata": {
    "executionInfo": {
     "elapsed": 614,
     "status": "ok",
     "timestamp": 1614448413136,
     "user": {
      "displayName": "Alexey Egorov",
      "photoUrl": "",
      "userId": "14409977618739719393"
     },
     "user_tz": -180
    },
    "id": "YRMcB8tAmkzY"
   },
   "outputs": [],
   "source": [
    "class Skeleton_Dataset(Dataset):\n",
    "    def __init__(self, mode=\"F\", data_path=None, broken_files_path=None, file_path=None,  transform=None, max_frame=300):\n",
    "        if mode==\"C\":\n",
    "            cr = Skeleton_Dataset_Creator(data_path=data_path, broken_files_path=broken_files_path, max_frame=max_frame)\n",
    "            self.data = cr.creat_data(\"test_cr.csv\")\n",
    "            self.transform = transform\n",
    "            self.labels = self.data.iloc[:,-1]\n",
    "        if mode==\"F\":\n",
    "            self.data = pd.read_csv(file_path)\n",
    "            self.transform = transform\n",
    "            self.labels = self.data.iloc[:,-1]\n",
    "\n",
    "\n",
    "    def __len__(self):\n",
    "        return len(self.data) \n",
    "    \n",
    "    \n",
    "    def __getitem__(self, idx):\n",
    "        item = np.asarray(self.data.iloc[idx,:-1]).reshape(45,25*3)\n",
    "        label = self.labels[idx]\n",
    "        if self.transform != None:\n",
    "            item = transform(item)\n",
    "            \n",
    "        \n",
    "\n",
    "        return (item, label) "
   ]
  },
  {
   "cell_type": "markdown",
   "metadata": {},
   "source": [
    "## Next"
   ]
  },
  {
   "cell_type": "code",
   "execution_count": 122,
   "metadata": {},
   "outputs": [
    {
     "name": "stdout",
     "output_type": "stream",
     "text": [
      "action classes:  {8: 0, 10: 1, 22: 2, 23: 3, 27: 4}\n",
      "action files:  {8: 120, 10: 120, 22: 120, 23: 120, 27: 120}\n"
     ]
    }
   ],
   "source": [
    "dataset = Skeleton_Dataset(mode=\"C\",max_frame=150, data_path = \"nturgb+d_skeletons/\", broken_files_path = \"NTU_RGBD_samples_with_missing_skeletons.txt\")"
   ]
  },
  {
   "cell_type": "code",
   "execution_count": 49,
   "metadata": {
    "executionInfo": {
     "elapsed": 1219,
     "status": "ok",
     "timestamp": 1614448593219,
     "user": {
      "displayName": "Alexey Egorov",
      "photoUrl": "",
      "userId": "14409977618739719393"
     },
     "user_tz": -180
    },
    "id": "ffC8bFdVmkzZ"
   },
   "outputs": [],
   "source": [
    "dataset = Skeleton_Dataset(file_path = \"skels.csv\", transform=None)"
   ]
  },
  {
   "cell_type": "code",
   "execution_count": 58,
   "metadata": {},
   "outputs": [],
   "source": [
    "dataset = Skeleton_Dataset(file_path = \"test_cr.csv\", transform=None)"
   ]
  },
  {
   "cell_type": "code",
   "execution_count": 61,
   "metadata": {
    "executionInfo": {
     "elapsed": 1248,
     "status": "ok",
     "timestamp": 1614448589288,
     "user": {
      "displayName": "Alexey Egorov",
      "photoUrl": "",
      "userId": "14409977618739719393"
     },
     "user_tz": -180
    },
    "id": "iL_t8In4mkzW"
   },
   "outputs": [],
   "source": [
    "import pandas as pd\n",
    "skeletons = pd.read_csv(\"test_cr.csv\")"
   ]
  },
  {
   "cell_type": "code",
   "execution_count": 100,
   "metadata": {
    "executionInfo": {
     "elapsed": 576,
     "status": "ok",
     "timestamp": 1614448647855,
     "user": {
      "displayName": "Alexey Egorov",
      "photoUrl": "",
      "userId": "14409977618739719393"
     },
     "user_tz": -180
    },
    "id": "WPwLwmLJmkzW"
   },
   "outputs": [],
   "source": [
    "LABELS = {0: \"cheer up\", 1: \"jump up\", 2:  \"hand waving\", 3: \"sitting down\", 4: \"clapping\", 5: \"Unknown\", 6: \"Unknown2\", 7: \"Unknown3\", 8: \"Unknown4\", 9: \"Unknown5\"}"
   ]
  },
  {
   "cell_type": "code",
   "execution_count": 64,
   "metadata": {
    "id": "q5fArZQVmkzW",
    "outputId": "7514686e-01cf-4074-cc6c-6d4066e07894",
    "scrolled": true
   },
   "outputs": [
    {
     "data": {
      "text/html": [
       "<div>\n",
       "<style scoped>\n",
       "    .dataframe tbody tr th:only-of-type {\n",
       "        vertical-align: middle;\n",
       "    }\n",
       "\n",
       "    .dataframe tbody tr th {\n",
       "        vertical-align: top;\n",
       "    }\n",
       "\n",
       "    .dataframe thead th {\n",
       "        text-align: right;\n",
       "    }\n",
       "</style>\n",
       "<table border=\"1\" class=\"dataframe\">\n",
       "  <thead>\n",
       "    <tr style=\"text-align: right;\">\n",
       "      <th></th>\n",
       "      <th>0</th>\n",
       "      <th>1</th>\n",
       "      <th>2</th>\n",
       "      <th>3</th>\n",
       "      <th>4</th>\n",
       "      <th>5</th>\n",
       "      <th>6</th>\n",
       "      <th>7</th>\n",
       "      <th>8</th>\n",
       "      <th>9</th>\n",
       "      <th>...</th>\n",
       "      <th>3366</th>\n",
       "      <th>3367</th>\n",
       "      <th>3368</th>\n",
       "      <th>3369</th>\n",
       "      <th>3370</th>\n",
       "      <th>3371</th>\n",
       "      <th>3372</th>\n",
       "      <th>3373</th>\n",
       "      <th>3374</th>\n",
       "      <th>labels</th>\n",
       "    </tr>\n",
       "  </thead>\n",
       "  <tbody>\n",
       "    <tr>\n",
       "      <td>0</td>\n",
       "      <td>-0.080141</td>\n",
       "      <td>0.135073</td>\n",
       "      <td>3.691227</td>\n",
       "      <td>-0.058513</td>\n",
       "      <td>0.396866</td>\n",
       "      <td>3.606265</td>\n",
       "      <td>-0.037811</td>\n",
       "      <td>0.652906</td>\n",
       "      <td>3.509790</td>\n",
       "      <td>-0.066903</td>\n",
       "      <td>...</td>\n",
       "      <td>-0.066586</td>\n",
       "      <td>-0.194186</td>\n",
       "      <td>3.880914</td>\n",
       "      <td>0.103227</td>\n",
       "      <td>-0.183070</td>\n",
       "      <td>3.717531</td>\n",
       "      <td>0.180819</td>\n",
       "      <td>-0.130425</td>\n",
       "      <td>3.724300</td>\n",
       "      <td>0</td>\n",
       "    </tr>\n",
       "    <tr>\n",
       "      <td>1</td>\n",
       "      <td>-0.035358</td>\n",
       "      <td>0.192430</td>\n",
       "      <td>3.681518</td>\n",
       "      <td>-0.021036</td>\n",
       "      <td>0.422171</td>\n",
       "      <td>3.606487</td>\n",
       "      <td>-0.007186</td>\n",
       "      <td>0.646429</td>\n",
       "      <td>3.520689</td>\n",
       "      <td>-0.042399</td>\n",
       "      <td>...</td>\n",
       "      <td>-0.247820</td>\n",
       "      <td>0.496548</td>\n",
       "      <td>3.406900</td>\n",
       "      <td>-0.056666</td>\n",
       "      <td>0.495373</td>\n",
       "      <td>3.269386</td>\n",
       "      <td>-0.050549</td>\n",
       "      <td>0.490788</td>\n",
       "      <td>3.258667</td>\n",
       "      <td>1</td>\n",
       "    </tr>\n",
       "    <tr>\n",
       "      <td>2</td>\n",
       "      <td>0.430001</td>\n",
       "      <td>0.024285</td>\n",
       "      <td>4.098490</td>\n",
       "      <td>0.424111</td>\n",
       "      <td>0.227365</td>\n",
       "      <td>4.005508</td>\n",
       "      <td>0.417157</td>\n",
       "      <td>0.427353</td>\n",
       "      <td>3.902021</td>\n",
       "      <td>0.395301</td>\n",
       "      <td>...</td>\n",
       "      <td>0.098534</td>\n",
       "      <td>0.515498</td>\n",
       "      <td>3.738000</td>\n",
       "      <td>0.243639</td>\n",
       "      <td>0.441711</td>\n",
       "      <td>3.635301</td>\n",
       "      <td>0.292146</td>\n",
       "      <td>0.468907</td>\n",
       "      <td>3.595111</td>\n",
       "      <td>2</td>\n",
       "    </tr>\n",
       "    <tr>\n",
       "      <td>3</td>\n",
       "      <td>0.399282</td>\n",
       "      <td>-0.026338</td>\n",
       "      <td>4.099298</td>\n",
       "      <td>0.382165</td>\n",
       "      <td>0.177244</td>\n",
       "      <td>4.002089</td>\n",
       "      <td>0.359935</td>\n",
       "      <td>0.376536</td>\n",
       "      <td>3.893836</td>\n",
       "      <td>0.338453</td>\n",
       "      <td>...</td>\n",
       "      <td>0.300487</td>\n",
       "      <td>0.700893</td>\n",
       "      <td>3.694455</td>\n",
       "      <td>0.535627</td>\n",
       "      <td>0.814146</td>\n",
       "      <td>3.868758</td>\n",
       "      <td>0.530421</td>\n",
       "      <td>0.797046</td>\n",
       "      <td>3.864750</td>\n",
       "      <td>3</td>\n",
       "    </tr>\n",
       "    <tr>\n",
       "      <td>4</td>\n",
       "      <td>0.449151</td>\n",
       "      <td>0.001842</td>\n",
       "      <td>4.170505</td>\n",
       "      <td>0.412885</td>\n",
       "      <td>0.192257</td>\n",
       "      <td>4.103466</td>\n",
       "      <td>0.375976</td>\n",
       "      <td>0.379683</td>\n",
       "      <td>4.026225</td>\n",
       "      <td>0.401664</td>\n",
       "      <td>...</td>\n",
       "      <td>0.723439</td>\n",
       "      <td>0.436599</td>\n",
       "      <td>4.077281</td>\n",
       "      <td>0.535588</td>\n",
       "      <td>0.585105</td>\n",
       "      <td>4.202623</td>\n",
       "      <td>0.536817</td>\n",
       "      <td>0.559229</td>\n",
       "      <td>4.186821</td>\n",
       "      <td>3</td>\n",
       "    </tr>\n",
       "  </tbody>\n",
       "</table>\n",
       "<p>5 rows × 3376 columns</p>\n",
       "</div>"
      ],
      "text/plain": [
       "          0         1         2         3         4         5         6  \\\n",
       "0 -0.080141  0.135073  3.691227 -0.058513  0.396866  3.606265 -0.037811   \n",
       "1 -0.035358  0.192430  3.681518 -0.021036  0.422171  3.606487 -0.007186   \n",
       "2  0.430001  0.024285  4.098490  0.424111  0.227365  4.005508  0.417157   \n",
       "3  0.399282 -0.026338  4.099298  0.382165  0.177244  4.002089  0.359935   \n",
       "4  0.449151  0.001842  4.170505  0.412885  0.192257  4.103466  0.375976   \n",
       "\n",
       "          7         8         9  ...      3366      3367      3368      3369  \\\n",
       "0  0.652906  3.509790 -0.066903  ... -0.066586 -0.194186  3.880914  0.103227   \n",
       "1  0.646429  3.520689 -0.042399  ... -0.247820  0.496548  3.406900 -0.056666   \n",
       "2  0.427353  3.902021  0.395301  ...  0.098534  0.515498  3.738000  0.243639   \n",
       "3  0.376536  3.893836  0.338453  ...  0.300487  0.700893  3.694455  0.535627   \n",
       "4  0.379683  4.026225  0.401664  ...  0.723439  0.436599  4.077281  0.535588   \n",
       "\n",
       "       3370      3371      3372      3373      3374  labels  \n",
       "0 -0.183070  3.717531  0.180819 -0.130425  3.724300       0  \n",
       "1  0.495373  3.269386 -0.050549  0.490788  3.258667       1  \n",
       "2  0.441711  3.635301  0.292146  0.468907  3.595111       2  \n",
       "3  0.814146  3.868758  0.530421  0.797046  3.864750       3  \n",
       "4  0.585105  4.202623  0.536817  0.559229  4.186821       3  \n",
       "\n",
       "[5 rows x 3376 columns]"
      ]
     },
     "execution_count": 64,
     "metadata": {},
     "output_type": "execute_result"
    }
   ],
   "source": [
    "skeletons.head()"
   ]
  },
  {
   "cell_type": "code",
   "execution_count": 63,
   "metadata": {
    "id": "bPODUieZmkzX",
    "outputId": "e2e975ae-eb3a-4f91-ce4a-44856f26799a"
   },
   "outputs": [
    {
     "data": {
      "text/plain": [
       "(809, 3376)"
      ]
     },
     "execution_count": 63,
     "metadata": {},
     "output_type": "execute_result"
    }
   ],
   "source": [
    "skeletons.shape"
   ]
  },
  {
   "cell_type": "markdown",
   "metadata": {
    "id": "Z7AqhqUbmkzX"
   },
   "source": [
    "## Dataloader"
   ]
  },
  {
   "cell_type": "code",
   "execution_count": 29,
   "metadata": {
    "executionInfo": {
     "elapsed": 606,
     "status": "ok",
     "timestamp": 1614448407673,
     "user": {
      "displayName": "Alexey Egorov",
      "photoUrl": "",
      "userId": "14409977618739719393"
     },
     "user_tz": -180
    },
    "id": "Qxm1rGlQmkzX"
   },
   "outputs": [],
   "source": [
    "from torch.utils.data import DataLoader, Dataset"
   ]
  },
  {
   "cell_type": "markdown",
   "metadata": {
    "id": "_Q_6CBI_mkzY"
   },
   "source": [
    "``` DataLoader(dataset, batch_size=1, shuffle=False, sampler=None,\n",
    "           batch_sampler=None, num_workers=0, collate_fn=None,\n",
    "           pin_memory=False, drop_last=False, timeout=0,\n",
    "           worker_init_fn=None) ```"
   ]
  },
  {
   "cell_type": "markdown",
   "metadata": {
    "id": "ZdFS6oIUmkzY"
   },
   "source": [
    "##### * Класс Dataset и класс Dataloader помогают передавать собственные обучающие данные в сеть. \n",
    "##### *Класс Dataset используется для обеспечения интерфейса для доступа ко всем обучающим или тестовым образцам в вашем наборе данных. Для этого необходимо реализовать как два обязательных метода, __getitem__ и __len_. "
   ]
  },
  {
   "cell_type": "code",
   "execution_count": 30,
   "metadata": {
    "executionInfo": {
     "elapsed": 629,
     "status": "ok",
     "timestamp": 1614448411370,
     "user": {
      "displayName": "Alexey Egorov",
      "photoUrl": "",
      "userId": "14409977618739719393"
     },
     "user_tz": -180
    },
    "id": "T6s734kAmkzY"
   },
   "outputs": [],
   "source": [
    "class Test_Dataset(Dataset):\n",
    "    def __init__(self):\n",
    "        self.samples = list(range(0, 100)) ##генерируем случайные данные\n",
    "        # Все подготовления данных происходят в инициализации:\n",
    "        # - разделение данных на train/test/ validate\n",
    "        # - аугментация (трансформация) данных \n",
    "        # - чтние аннотаций\n",
    "        # - считывание по индексу\n",
    "         # - Применяет выбранные трансформации к данным\n",
    "\n",
    "    def __len__(self):\n",
    "        # # Возвращает данные и лейблы\n",
    "       \n",
    "        # - отправление данных на гпу\n",
    "        # - лучше возвращать данные как тензор или словарь\n",
    "         # - Применяет выбранные трансформации к данным\n",
    "        return len(self.samples) #возвращаем данные\n",
    "\n",
    "    def __getitem__(self, idx):\n",
    "        return (self.samples[idx], label) \n",
    "    "
   ]
  },
  {
   "cell_type": "code",
   "execution_count": 32,
   "metadata": {
    "executionInfo": {
     "elapsed": 584,
     "status": "ok",
     "timestamp": 1614448618820,
     "user": {
      "displayName": "Alexey Egorov",
      "photoUrl": "",
      "userId": "14409977618739719393"
     },
     "user_tz": -180
    },
    "id": "RjHay-uImkzZ"
   },
   "outputs": [],
   "source": [
    "skel, lab = dataset.__getitem__(41)\n",
    "skel, lab = dataset[41]"
   ]
  },
  {
   "cell_type": "code",
   "execution_count": 29,
   "metadata": {
    "colab": {
     "base_uri": "https://localhost:8080/",
     "height": 35
    },
    "executionInfo": {
     "elapsed": 602,
     "status": "ok",
     "timestamp": 1614450416969,
     "user": {
      "displayName": "Alexey Egorov",
      "photoUrl": "",
      "userId": "14409977618739719393"
     },
     "user_tz": -180
    },
    "id": "d1SQ_KV5mkzZ",
    "outputId": "4bdd1215-41b7-4ce5-c1c8-5c205568d516"
   },
   "outputs": [
    {
     "data": {
      "application/vnd.google.colaboratory.intrinsic+json": {
       "type": "string"
      },
      "text/plain": [
       "'sitting down'"
      ]
     },
     "execution_count": 29,
     "metadata": {
      "tags": []
     },
     "output_type": "execute_result"
    }
   ],
   "source": [
    "LABELS[lab]"
   ]
  },
  {
   "cell_type": "code",
   "execution_count": 39,
   "metadata": {},
   "outputs": [
    {
     "data": {
      "text/plain": [
       "606"
      ]
     },
     "execution_count": 39,
     "metadata": {},
     "output_type": "execute_result"
    }
   ],
   "source": [
    "int(0.75*len(dataset))"
   ]
  },
  {
   "cell_type": "code",
   "execution_count": 40,
   "metadata": {},
   "outputs": [
    {
     "data": {
      "text/plain": [
       "202"
      ]
     },
     "execution_count": 40,
     "metadata": {},
     "output_type": "execute_result"
    }
   ],
   "source": [
    "int(0.25*len(dataset))"
   ]
  },
  {
   "cell_type": "code",
   "execution_count": 42,
   "metadata": {},
   "outputs": [
    {
     "data": {
      "text/plain": [
       "809"
      ]
     },
     "execution_count": 42,
     "metadata": {},
     "output_type": "execute_result"
    }
   ],
   "source": [
    "len(dataset)"
   ]
  },
  {
   "cell_type": "code",
   "execution_count": 101,
   "metadata": {
    "executionInfo": {
     "elapsed": 580,
     "status": "ok",
     "timestamp": 1614448633884,
     "user": {
      "displayName": "Alexey Egorov",
      "photoUrl": "",
      "userId": "14409977618739719393"
     },
     "user_tz": -180
    },
    "id": "o-SUdWNWmkzc"
   },
   "outputs": [],
   "source": [
    "train_dataset, test_dataset = torch.utils.data.random_split(dataset, [int(0.75*len(dataset)),len(dataset)-int(0.75*len(dataset))])\n",
    "train_loader = DataLoader(train_dataset, batch_size = 16, shuffle=True)\n",
    "test_loader = DataLoader(test_dataset, batch_size = 1, shuffle=True)"
   ]
  },
  {
   "cell_type": "code",
   "execution_count": 107,
   "metadata": {
    "colab": {
     "base_uri": "https://localhost:8080/"
    },
    "executionInfo": {
     "elapsed": 573,
     "status": "ok",
     "timestamp": 1614448676038,
     "user": {
      "displayName": "Alexey Egorov",
      "photoUrl": "",
      "userId": "14409977618739719393"
     },
     "user_tz": -180
    },
    "id": "CWZDbCk7mkzc",
    "outputId": "cfe1d157-abd4-4ee4-c5d0-4dca9896c176",
    "scrolled": true
   },
   "outputs": [
    {
     "data": {
      "text/plain": [
       "LSTM_net(\n",
       "  (lstm): LSTM(75, 128, num_layers=2, batch_first=True)\n",
       "  (lstm2): LSTM(75, 128, num_layers=2, batch_first=True)\n",
       "  (dr): Dropout2d(p=0.1, inplace=False)\n",
       "  (fc): Linear(in_features=128, out_features=10, bias=True)\n",
       ")"
      ]
     },
     "execution_count": 107,
     "metadata": {},
     "output_type": "execute_result"
    }
   ],
   "source": [
    "n_hidden = 128\n",
    "n_joints = 25*3\n",
    "n_categories = len(LABELS)\n",
    "n_layer = 2\n",
    "rnn = LSTM_net(n_joints,n_hidden,n_categories,n_layer)\n",
    "rnn.to(device)"
   ]
  },
  {
   "cell_type": "code",
   "execution_count": 68,
   "metadata": {
    "executionInfo": {
     "elapsed": 634,
     "status": "ok",
     "timestamp": 1614448679016,
     "user": {
      "displayName": "Alexey Egorov",
      "photoUrl": "",
      "userId": "14409977618739719393"
     },
     "user_tz": -180
    },
    "id": "VMgOHB_6mkzc"
   },
   "outputs": [],
   "source": [
    "def categoryFromOutput(output):\n",
    "    top_n, top_i = output.topk(1)\n",
    "    category_i = top_i[0].item()\n",
    "#     print(output.topk(5))\n",
    "    return LABELS[category_i], category_i\n",
    "\n",
    "def timeSince(since):\n",
    "    now = time.time()\n",
    "    s = now - since\n",
    "    m = math.floor(s / 60)\n",
    "    s -= m * 60\n",
    "    return '%dm %ds' % (m, s)"
   ]
  },
  {
   "cell_type": "code",
   "execution_count": 10,
   "metadata": {
    "colab": {
     "base_uri": "https://localhost:8080/"
    },
    "executionInfo": {
     "elapsed": 1653481,
     "status": "ok",
     "timestamp": 1614450333637,
     "user": {
      "displayName": "Alexey Egorov",
      "photoUrl": "",
      "userId": "14409977618739719393"
     },
     "user_tz": -180
    },
    "id": "hMFZH9HTmkzd",
    "outputId": "dcebdeed-1e1a-4377-bcf1-57c061e89823",
    "scrolled": true
   },
   "outputs": [],
   "source": [
    "criterion = nn.CrossEntropyLoss()\n",
    "learning_rate = 0.0007\n",
    "optimizer = optim.SGD(rnn.parameters(),lr=learning_rate,momentum=0.9)\n",
    "\n",
    "all_losses = []\n",
    "start = time.time()\n",
    "counter = 0\n",
    "for epoch in range(5):  \n",
    "    current_loss = 0\n",
    "    running_loss = 0.0\n",
    "    for i, data in enumerate(train_loader, 0):\n",
    "        \n",
    "        #print(device)\n",
    "        \n",
    "        inputs, labels = data[0].to(device), data[1].to(device)\n",
    "        optimizer.zero_grad()\n",
    "    \n",
    "        output = rnn(inputs.float())\n",
    "        #print(output)\n",
    "        #print(labels)\n",
    "        loss = criterion(output, labels.type(torch.LongTensor))\n",
    "        loss.backward()\n",
    "        optimizer.step() \n",
    "\n",
    "\n",
    "        current_loss += loss.item()\n",
    "        category = LABELS[int(labels[0])]\n",
    "\n",
    "        if counter % 500 == 0:\n",
    "            guess, guess_i = categoryFromOutput(output)\n",
    "            correct = '✓' if guess == category else '✗ (%s)' % category\n",
    "            print('epoch : %d iter : %d (%s) %.4f  / %s %s' % (epoch, i, timeSince(start), loss, guess, correct))\n",
    "\n",
    "        \n",
    "        counter = counter + 1\n",
    "    if counter % 1 == 0:\n",
    "        all_losses.append(current_loss / 25)\n",
    "        current_loss = 0\n",
    "    "
   ]
  },
  {
   "cell_type": "code",
   "execution_count": 85,
   "metadata": {
    "executionInfo": {
     "elapsed": 591,
     "status": "ok",
     "timestamp": 1614450359368,
     "user": {
      "displayName": "Alexey Egorov",
      "photoUrl": "",
      "userId": "14409977618739719393"
     },
     "user_tz": -180
    },
    "id": "aJ7Vqztsmkzd",
    "scrolled": true
   },
   "outputs": [
    {
     "data": {
      "image/png": "[encoded data removed]",
      "text/plain": [
       "<Figure size 432x288 with 1 Axes>"
      ]
     },
     "metadata": {
      "needs_background": "light"
     },
     "output_type": "display_data"
    }
   ],
   "source": [
    "#%matplotlib notebook\n",
    "plt.plot(list(range(0,len(all_losses))),all_losses)\n",
    "plt.show()"
   ]
  },
  {
   "cell_type": "code",
   "execution_count": 104,
   "metadata": {
    "colab": {
     "base_uri": "https://localhost:8080/"
    },
    "executionInfo": {
     "elapsed": 1907,
     "status": "ok",
     "timestamp": 1614450346718,
     "user": {
      "displayName": "Alexey Egorov",
      "photoUrl": "",
      "userId": "14409977618739719393"
     },
     "user_tz": -180
    },
    "id": "PywfCL-Kmkze",
    "outputId": "85755ec3-c200-4b79-9b3a-f1d484e76dae"
   },
   "outputs": [
    {
     "name": "stdout",
     "output_type": "stream",
     "text": [
      "Accuracy of the network:   9.734513274336283\n"
     ]
    }
   ],
   "source": [
    "total = 0\n",
    "right = 0\n",
    "counter = 0\n",
    "\n",
    "rnn.eval()\n",
    "with torch.no_grad():\n",
    "    for i, data in enumerate(test_loader, 0):\n",
    "        counter = counter + 1\n",
    "        inputs, labels = data[0].to(device), data[1].to(device)  \n",
    "        output = rnn(inputs.float())\n",
    "        guess, guess_i = categoryFromOutput(output)\n",
    "        category = LABELS[int(labels[0])]\n",
    "        \n",
    "        if guess == category:\n",
    "            right = right + 1\n",
    "\n",
    "\n",
    "print('Accuracy of the network:  ',  (100 * right / counter))"
   ]
  },
  {
   "cell_type": "markdown",
   "metadata": {},
   "source": [
    "# Итого \n",
    "1) Полноценное тестирование требует слишком много времени.\n",
    "\n",
    "2) Прямая зависимость кол-ва классов и времени на  обучение, больше классов -  дольше надо учить. "
   ]
  }
 ],
 "metadata": {
  "colab": {
   "name": "pytorch_lstm.ipynb",
   "provenance": [],
   "toc_visible": true
  },
  "kernelspec": {
   "display_name": "Python 3",
   "language": "python",
   "name": "python3"
  },
  "language_info": {
   "codemirror_mode": {
    "name": "ipython",
    "version": 3
   },
   "file_extension": ".py",
   "mimetype": "text/x-python",
   "name": "python",
   "nbconvert_exporter": "python",
   "pygments_lexer": "ipython3",
   "version": "3.8.5"
  }
 },
 "nbformat": 4,
 "nbformat_minor": 1
}
