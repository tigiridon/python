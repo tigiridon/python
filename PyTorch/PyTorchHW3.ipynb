{
  "nbformat": 4,
  "nbformat_minor": 0,
  "metadata": {
    "colab": {
      "name": "PyTorchHW3.ipynb",
      "provenance": [],
      "collapsed_sections": []
    },
    "kernelspec": {
      "name": "python3",
      "display_name": "Python 3"
    },
    "accelerator": "GPU"
  },
  "cells": [
    {
      "cell_type": "code",
      "metadata": {
        "id": "w4qXAABIke4d"
      },
      "source": [
        "#From SAV to LOVE"
      ],
      "execution_count": 1,
      "outputs": []
    },
    {
      "cell_type": "markdown",
      "metadata": {
        "id": "5ez0pNymkc8t"
      },
      "source": [
        "# Своя GAN сеть на PyTorch"
      ]
    },
    {
      "cell_type": "code",
      "metadata": {
        "id": "mOnPohAcq8d9"
      },
      "source": [
        "import torch\r\n",
        "import torch.nn as nn\r\n",
        "import torchvision.transforms as transforms\r\n",
        "import torch.optim as optim\r\n",
        "import torchvision.datasets as datasets\r\n",
        "import numpy as np\r\n",
        "import matplotlib\r\n",
        "\r\n",
        "from torch.utils.data import DataLoader\r\n",
        "from matplotlib import pyplot as plt\r\n",
        "from tqdm import tqdm\r\n",
        "matplotlib.style.use('ggplot')"
      ],
      "execution_count": 10,
      "outputs": []
    },
    {
      "cell_type": "markdown",
      "metadata": {
        "id": "5kN2lWwymOh3"
      },
      "source": [
        "## Создадим генератор"
      ]
    },
    {
      "cell_type": "code",
      "metadata": {
        "id": "d3lfRCxUqRIN"
      },
      "source": [
        "class Generator(nn.Module):\r\n",
        "    def __init__(self, nz):\r\n",
        "        super(Generator, self).__init__()\r\n",
        "        self.nz = nz\r\n",
        "        self.main = nn.Sequential(\r\n",
        "            # nz will be the input to the first convolution\r\n",
        "            nn.ConvTranspose2d(\r\n",
        "                nz, 512, kernel_size=4, \r\n",
        "                stride=1, padding=0, bias=False),\r\n",
        "            nn.BatchNorm2d(512),\r\n",
        "            nn.ReLU(True),\r\n",
        "            nn.ConvTranspose2d(\r\n",
        "                512, 256, kernel_size=4, \r\n",
        "                stride=2, padding=1, bias=False),\r\n",
        "            nn.BatchNorm2d(256),\r\n",
        "            nn.ReLU(True),\r\n",
        "            nn.ConvTranspose2d(\r\n",
        "                256, 128, kernel_size=4, \r\n",
        "                stride=2, padding=1, bias=False),\r\n",
        "            nn.BatchNorm2d(128),\r\n",
        "            nn.ReLU(True),\r\n",
        "            nn.ConvTranspose2d(\r\n",
        "                128, 64, kernel_size=4, \r\n",
        "                stride=2, padding=1, bias=False),\r\n",
        "            nn.BatchNorm2d(64),\r\n",
        "            nn.ReLU(True),\r\n",
        "            nn.ConvTranspose2d(\r\n",
        "                64, 3, kernel_size=4, \r\n",
        "                stride=2, padding=1, bias=False),\r\n",
        "            nn.Tanh()\r\n",
        "        )\r\n",
        "    def forward(self, input):\r\n",
        "        return self.main(input)"
      ],
      "execution_count": 3,
      "outputs": []
    },
    {
      "cell_type": "markdown",
      "metadata": {
        "id": "SNclpnLsmTW3"
      },
      "source": [
        "## Создадим дискриминатор"
      ]
    },
    {
      "cell_type": "code",
      "metadata": {
        "id": "vd0ejN9FqlHQ"
      },
      "source": [
        "class Discriminator(nn.Module):\r\n",
        "    def __init__(self):\r\n",
        "        super(Discriminator, self).__init__()\r\n",
        "        self.main = nn.Sequential(\r\n",
        "            nn.Conv2d(\r\n",
        "                3, 64, kernel_size=4, \r\n",
        "                stride=2, padding=1, bias=False),\r\n",
        "            nn.LeakyReLU(0.2, inplace=True),\r\n",
        "            nn.Conv2d(\r\n",
        "                64, 128, kernel_size=4, \r\n",
        "                stride=2, padding=1, bias=False),\r\n",
        "            nn.BatchNorm2d(128),\r\n",
        "            nn.LeakyReLU(0.2, inplace=True),\r\n",
        "            nn.Conv2d(\r\n",
        "                128, 256, kernel_size=4, \r\n",
        "                stride=2, padding=1, bias=False),\r\n",
        "            nn.BatchNorm2d(256),\r\n",
        "            nn.LeakyReLU(0.2, inplace=True),\r\n",
        "            nn.Conv2d(\r\n",
        "                256, 512, kernel_size=4, \r\n",
        "                stride=2, padding=1, bias=False),\r\n",
        "            nn.BatchNorm2d(512),\r\n",
        "            nn.LeakyReLU(0.2, inplace=True),\r\n",
        "            nn.Conv2d(\r\n",
        "                512, 1, kernel_size=4, \r\n",
        "                stride=1, padding=0, bias=False),\r\n",
        "            nn.Sigmoid()\r\n",
        "        )\r\n",
        "    def forward(self, input):\r\n",
        "        return self.main(input)"
      ],
      "execution_count": 4,
      "outputs": []
    },
    {
      "cell_type": "code",
      "metadata": {
        "id": "n-l31o6wqolY"
      },
      "source": [
        "import torch\r\n",
        "import torch.nn as nn\r\n",
        "from torchvision.utils import save_image\r\n",
        "# set the computation device\r\n",
        "device = torch.device('cuda' if torch.cuda.is_available() else 'cpu')"
      ],
      "execution_count": 5,
      "outputs": []
    },
    {
      "cell_type": "code",
      "metadata": {
        "id": "evtT9pYKqrrL"
      },
      "source": [
        "def label_real(size):\r\n",
        "    \"\"\"\r\n",
        "    Fucntion to create real labels (ones)\r\n",
        "    :param size: batch size\r\n",
        "    :return real label vector\r\n",
        "    \"\"\"\r\n",
        "    data = torch.ones(size, 1)\r\n",
        "    return data.to(device)\r\n",
        "def label_fake(size):\r\n",
        "    \"\"\"\r\n",
        "    Fucntion to create fake labels (zeros)\r\n",
        "    :param size: batch size\r\n",
        "    :returns fake label vector\r\n",
        "    \"\"\"\r\n",
        "    data = torch.zeros(size, 1)\r\n",
        "    return data.to(device)"
      ],
      "execution_count": 6,
      "outputs": []
    },
    {
      "cell_type": "code",
      "metadata": {
        "id": "691fDV8AquSv"
      },
      "source": [
        "def create_noise(sample_size, nz):\r\n",
        "    \"\"\"\r\n",
        "    Fucntion to create noise\r\n",
        "    :param sample_size: fixed sample size or batch size\r\n",
        "    :param nz: latent vector size\r\n",
        "    :returns random noise vector\r\n",
        "    \"\"\"\r\n",
        "    return torch.randn(sample_size, nz, 1, 1).to(device)"
      ],
      "execution_count": 7,
      "outputs": []
    },
    {
      "cell_type": "code",
      "metadata": {
        "id": "Nw0KQUosq3Va"
      },
      "source": [
        "def save_generator_image(image, path):\r\n",
        "    \"\"\"\r\n",
        "    Function to save torch image batches\r\n",
        "    :param image: image tensor batch\r\n",
        "    :param path: path name to save image\r\n",
        "    \"\"\"\r\n",
        "    save_image(image, path, normalize=True)"
      ],
      "execution_count": 8,
      "outputs": []
    },
    {
      "cell_type": "code",
      "metadata": {
        "id": "AThDJtulq5f0"
      },
      "source": [
        "def weights_init(m):\r\n",
        "    \"\"\"\r\n",
        "    This function initializes the model weights randomly from a \r\n",
        "    Normal distribution. This follows the specification from the DCGAN paper.\r\n",
        "    https://arxiv.org/pdf/1511.06434.pdf\r\n",
        "    Source: https://pytorch.org/tutorials/beginner/dcgan_faces_tutorial.html\r\n",
        "    \"\"\"\r\n",
        "    classname = m.__class__.__name__\r\n",
        "    if classname.find('Conv') != -1:\r\n",
        "        nn.init.normal_(m.weight.data, 0.0, 0.02)\r\n",
        "    elif classname.find('BatchNorm') != -1:\r\n",
        "        nn.init.normal_(m.weight.data, 1.0, 0.02)\r\n",
        "        nn.init.constant_(m.bias.data, 0)"
      ],
      "execution_count": 9,
      "outputs": []
    },
    {
      "cell_type": "markdown",
      "metadata": {
        "id": "oCYnS5evmHOo"
      },
      "source": [
        "## Регулируемые настройки нейронки"
      ]
    },
    {
      "cell_type": "code",
      "metadata": {
        "id": "NXJHHXYCrDQZ"
      },
      "source": [
        "image_size = 64 # we need to resize image to 64x64\r\n",
        "batch_size = 128\r\n",
        "nz = 100 # latent vector size\r\n",
        "beta1 = 0.5 # beta1 value for Adam optimizer\r\n",
        "lr = 0.0002 # learning rate according to paper\r\n",
        "sample_size = 64 # fixed sample size\r\n",
        "epochs = 25 # number of epoch to train\r\n",
        "# set the computation device\r\n",
        "device = torch.device('cuda' if torch.cuda.is_available() else 'cpu')"
      ],
      "execution_count": 11,
      "outputs": []
    },
    {
      "cell_type": "code",
      "metadata": {
        "id": "PZuIR7errGcp"
      },
      "source": [
        "transform = transforms.Compose([\r\n",
        "    transforms.Resize(image_size),\r\n",
        "    transforms.ToTensor(),\r\n",
        "    transforms.Normalize((0.5, 0.5, 0.5), \r\n",
        "    (0.5, 0.5, 0.5)),\r\n",
        "])"
      ],
      "execution_count": 12,
      "outputs": []
    },
    {
      "cell_type": "markdown",
      "metadata": {
        "id": "Ro5QsnE0mbn4"
      },
      "source": [
        "## подгрузим дату"
      ]
    },
    {
      "cell_type": "code",
      "metadata": {
        "colab": {
          "base_uri": "https://localhost:8080/"
        },
        "id": "I9gqDCfOradk",
        "outputId": "d21cf5a6-f76b-4334-f4ca-0bcafd885eef"
      },
      "source": [
        "train_data = datasets.CIFAR10(\r\n",
        "    root='../input/data',\r\n",
        "    train=True,\r\n",
        "    download=True,\r\n",
        "    transform=transform\r\n",
        ")\r\n",
        "train_loader = DataLoader(train_data, batch_size=batch_size, shuffle=True)"
      ],
      "execution_count": 13,
      "outputs": [
        {
          "output_type": "stream",
          "text": [
            "Files already downloaded and verified\n"
          ],
          "name": "stdout"
        }
      ]
    },
    {
      "cell_type": "code",
      "metadata": {
        "id": "LBPNmibyrdyB"
      },
      "source": [
        "generator = Generator(nz).to(device)\r\n",
        "discriminator = Discriminator().to(device) "
      ],
      "execution_count": 14,
      "outputs": []
    },
    {
      "cell_type": "code",
      "metadata": {
        "colab": {
          "base_uri": "https://localhost:8080/"
        },
        "id": "qbL0eIc7rgJT",
        "outputId": "0bd452e9-0651-4142-f009-fa7b34f0afff"
      },
      "source": [
        "# initialize generator weights\r\n",
        "generator.apply(weights_init)\r\n",
        "# initialize discriminator weights\r\n",
        "discriminator.apply(weights_init)"
      ],
      "execution_count": 15,
      "outputs": [
        {
          "output_type": "execute_result",
          "data": {
            "text/plain": [
              "Discriminator(\n",
              "  (main): Sequential(\n",
              "    (0): Conv2d(3, 64, kernel_size=(4, 4), stride=(2, 2), padding=(1, 1), bias=False)\n",
              "    (1): LeakyReLU(negative_slope=0.2, inplace=True)\n",
              "    (2): Conv2d(64, 128, kernel_size=(4, 4), stride=(2, 2), padding=(1, 1), bias=False)\n",
              "    (3): BatchNorm2d(128, eps=1e-05, momentum=0.1, affine=True, track_running_stats=True)\n",
              "    (4): LeakyReLU(negative_slope=0.2, inplace=True)\n",
              "    (5): Conv2d(128, 256, kernel_size=(4, 4), stride=(2, 2), padding=(1, 1), bias=False)\n",
              "    (6): BatchNorm2d(256, eps=1e-05, momentum=0.1, affine=True, track_running_stats=True)\n",
              "    (7): LeakyReLU(negative_slope=0.2, inplace=True)\n",
              "    (8): Conv2d(256, 512, kernel_size=(4, 4), stride=(2, 2), padding=(1, 1), bias=False)\n",
              "    (9): BatchNorm2d(512, eps=1e-05, momentum=0.1, affine=True, track_running_stats=True)\n",
              "    (10): LeakyReLU(negative_slope=0.2, inplace=True)\n",
              "    (11): Conv2d(512, 1, kernel_size=(4, 4), stride=(1, 1), bias=False)\n",
              "    (12): Sigmoid()\n",
              "  )\n",
              ")"
            ]
          },
          "metadata": {
            "tags": []
          },
          "execution_count": 15
        }
      ]
    },
    {
      "cell_type": "code",
      "metadata": {
        "id": "GGqK5ozJri7u"
      },
      "source": [
        "optim_g = optim.Adam(generator.parameters(), lr=lr, betas=(beta1, 0.999))\r\n",
        "optim_d = optim.Adam(discriminator.parameters(), lr=lr, betas=(beta1, 0.999))\r\n",
        "# loss function\r\n",
        "criterion = nn.BCELoss()"
      ],
      "execution_count": 16,
      "outputs": []
    },
    {
      "cell_type": "code",
      "metadata": {
        "id": "RcyczFGWrl91"
      },
      "source": [
        "losses_g = [] # to store generator loss after each epoch\r\n",
        "losses_d = [] # to store discriminator loss after each epoch"
      ],
      "execution_count": 17,
      "outputs": []
    },
    {
      "cell_type": "code",
      "metadata": {
        "id": "U29QIv0Rro_T"
      },
      "source": [
        "def train_discriminator(optimizer, data_real, data_fake):\r\n",
        "    b_size = data_real.size(0)\r\n",
        "    # get the real label vector\r\n",
        "    real_label = label_real(b_size)\r\n",
        "    # get the fake label vector\r\n",
        "    fake_label = label_fake(b_size)\r\n",
        "    optimizer.zero_grad()\r\n",
        "    # get the outputs by doing real data forward pass\r\n",
        "    output_real = discriminator(data_real).view(-1, 1)\r\n",
        "\r\n",
        "    loss_real = criterion(output_real, real_label.view(-1,1))\r\n",
        "    # get the outputs by doing fake data forward pass\r\n",
        "    output_fake = discriminator(data_fake)\r\n",
        "    loss_fake = criterion(output_fake.view(-1,1,1,1), fake_label.view(-1,1,1,1))\r\n",
        "    # compute gradients of real loss \r\n",
        "    loss_real.backward()\r\n",
        "    # compute gradients of fake loss\r\n",
        "    loss_fake.backward()\r\n",
        "    # update discriminator parameters\r\n",
        "    optimizer.step()\r\n",
        "    return loss_real + loss_fake"
      ],
      "execution_count": 18,
      "outputs": []
    },
    {
      "cell_type": "code",
      "metadata": {
        "id": "9BBvi2yrrsL_"
      },
      "source": [
        "def train_generator(optimizer, data_fake):\r\n",
        "    b_size = data_fake.size(0)\r\n",
        "    # get the real label vector\r\n",
        "    real_label = label_real(b_size)\r\n",
        "    optimizer.zero_grad()\r\n",
        "    # output by doing a forward pass of the fake data through discriminator\r\n",
        "    output = discriminator(data_fake)\r\n",
        "    loss = criterion(output.view(-1,1), real_label.view(-1,1))\r\n",
        "    # compute gradients of loss\r\n",
        "    loss.backward()\r\n",
        "    # update generator parameters\r\n",
        "    optimizer.step()\r\n",
        "    return loss "
      ],
      "execution_count": 19,
      "outputs": []
    },
    {
      "cell_type": "code",
      "metadata": {
        "id": "kuJHoLFYrugX"
      },
      "source": [
        "noise = create_noise(sample_size, nz)"
      ],
      "execution_count": 20,
      "outputs": []
    },
    {
      "cell_type": "code",
      "metadata": {
        "colab": {
          "base_uri": "https://localhost:8080/"
        },
        "id": "ebOGz-yArxZb",
        "outputId": "e95f9af9-5a54-49af-eb94-3194fc35fd6d"
      },
      "source": [
        "generator.train()\r\n",
        "discriminator.train()"
      ],
      "execution_count": 21,
      "outputs": [
        {
          "output_type": "execute_result",
          "data": {
            "text/plain": [
              "Discriminator(\n",
              "  (main): Sequential(\n",
              "    (0): Conv2d(3, 64, kernel_size=(4, 4), stride=(2, 2), padding=(1, 1), bias=False)\n",
              "    (1): LeakyReLU(negative_slope=0.2, inplace=True)\n",
              "    (2): Conv2d(64, 128, kernel_size=(4, 4), stride=(2, 2), padding=(1, 1), bias=False)\n",
              "    (3): BatchNorm2d(128, eps=1e-05, momentum=0.1, affine=True, track_running_stats=True)\n",
              "    (4): LeakyReLU(negative_slope=0.2, inplace=True)\n",
              "    (5): Conv2d(128, 256, kernel_size=(4, 4), stride=(2, 2), padding=(1, 1), bias=False)\n",
              "    (6): BatchNorm2d(256, eps=1e-05, momentum=0.1, affine=True, track_running_stats=True)\n",
              "    (7): LeakyReLU(negative_slope=0.2, inplace=True)\n",
              "    (8): Conv2d(256, 512, kernel_size=(4, 4), stride=(2, 2), padding=(1, 1), bias=False)\n",
              "    (9): BatchNorm2d(512, eps=1e-05, momentum=0.1, affine=True, track_running_stats=True)\n",
              "    (10): LeakyReLU(negative_slope=0.2, inplace=True)\n",
              "    (11): Conv2d(512, 1, kernel_size=(4, 4), stride=(1, 1), bias=False)\n",
              "    (12): Sigmoid()\n",
              "  )\n",
              ")"
            ]
          },
          "metadata": {
            "tags": []
          },
          "execution_count": 21
        }
      ]
    },
    {
      "cell_type": "code",
      "metadata": {
        "colab": {
          "base_uri": "https://localhost:8080/"
        },
        "id": "z9KLed2Erz5K",
        "outputId": "511a66c9-5d73-4315-fedf-f36e7af856fb"
      },
      "source": [
        "for epoch in range(22):\r\n",
        "    loss_g = 0.0\r\n",
        "    loss_d = 0.0\r\n",
        "    for bi, data in tqdm(enumerate(train_loader), total=int(len(train_data)/train_loader.batch_size)):\r\n",
        "        image, _ = data\r\n",
        "        image = image.to(device)\r\n",
        "        b_size = len(image)\r\n",
        "        # forward pass through generator to create fake data\r\n",
        "        data_fake = generator(create_noise(b_size, nz)).detach()\r\n",
        "        data_real = image\r\n",
        "        loss_d += train_discriminator(optim_d, data_real, data_fake)\r\n",
        "        data_fake = generator(create_noise(b_size, nz))\r\n",
        "        loss_g += train_generator(optim_g, data_fake)\r\n",
        "    # final forward pass through generator to create fake data...\r\n",
        "    # ...after training for current epoch\r\n",
        "    generated_img = generator(noise).cpu().detach()\r\n",
        "    # save the generated torch tensor models to disk\r\n",
        "    save_generator_image(generated_img, f\"gen_img{epoch}.png\")\r\n",
        "    epoch_loss_g = loss_g / bi # total generator loss for the epoch\r\n",
        "    epoch_loss_d = loss_d / bi # total discriminator loss for the epoch\r\n",
        "    losses_g.append(epoch_loss_g)\r\n",
        "    losses_d.append(epoch_loss_d)\r\n",
        "    print(f\"Epoch {epoch+1} of {epochs}\")\r\n",
        "    print(f\"Generator loss: {epoch_loss_g:.8f}, Discriminator loss: {epoch_loss_d:.8f}\")"
      ],
      "execution_count": 22,
      "outputs": [
        {
          "output_type": "stream",
          "text": [
            "391it [00:47,  8.20it/s]                         \n",
            "  0%|          | 1/390 [00:00<00:46,  8.40it/s]"
          ],
          "name": "stderr"
        },
        {
          "output_type": "stream",
          "text": [
            "Epoch 1 of 25\n",
            "Generator loss: 7.82813358, Discriminator loss: 0.50054818\n"
          ],
          "name": "stdout"
        },
        {
          "output_type": "stream",
          "text": [
            "391it [00:47,  8.18it/s]                         \n",
            "  0%|          | 1/390 [00:00<00:48,  8.05it/s]"
          ],
          "name": "stderr"
        },
        {
          "output_type": "stream",
          "text": [
            "Epoch 2 of 25\n",
            "Generator loss: 4.11883020, Discriminator loss: 0.65720296\n"
          ],
          "name": "stdout"
        },
        {
          "output_type": "stream",
          "text": [
            "391it [00:47,  8.22it/s]                         \n",
            "  0%|          | 1/390 [00:00<00:45,  8.54it/s]"
          ],
          "name": "stderr"
        },
        {
          "output_type": "stream",
          "text": [
            "Epoch 3 of 25\n",
            "Generator loss: 3.99797845, Discriminator loss: 0.63414508\n"
          ],
          "name": "stdout"
        },
        {
          "output_type": "stream",
          "text": [
            "391it [00:48,  8.12it/s]                         \n",
            "  0%|          | 1/390 [00:00<00:48,  8.05it/s]"
          ],
          "name": "stderr"
        },
        {
          "output_type": "stream",
          "text": [
            "Epoch 4 of 25\n",
            "Generator loss: 3.71734285, Discriminator loss: 0.62737536\n"
          ],
          "name": "stdout"
        },
        {
          "output_type": "stream",
          "text": [
            "391it [00:47,  8.28it/s]                         \n",
            "  0%|          | 1/390 [00:00<00:45,  8.52it/s]"
          ],
          "name": "stderr"
        },
        {
          "output_type": "stream",
          "text": [
            "Epoch 5 of 25\n",
            "Generator loss: 3.06585646, Discriminator loss: 0.71495467\n"
          ],
          "name": "stdout"
        },
        {
          "output_type": "stream",
          "text": [
            "391it [00:47,  8.20it/s]                         \n",
            "  0%|          | 1/390 [00:00<00:47,  8.15it/s]"
          ],
          "name": "stderr"
        },
        {
          "output_type": "stream",
          "text": [
            "Epoch 6 of 25\n",
            "Generator loss: 2.86944318, Discriminator loss: 0.73241597\n"
          ],
          "name": "stdout"
        },
        {
          "output_type": "stream",
          "text": [
            "391it [00:47,  8.21it/s]                         \n",
            "  0%|          | 1/390 [00:00<00:45,  8.59it/s]"
          ],
          "name": "stderr"
        },
        {
          "output_type": "stream",
          "text": [
            "Epoch 7 of 25\n",
            "Generator loss: 2.92512488, Discriminator loss: 0.80438703\n"
          ],
          "name": "stdout"
        },
        {
          "output_type": "stream",
          "text": [
            "391it [00:47,  8.16it/s]                         \n",
            "  0%|          | 1/390 [00:00<00:45,  8.49it/s]"
          ],
          "name": "stderr"
        },
        {
          "output_type": "stream",
          "text": [
            "Epoch 8 of 25\n",
            "Generator loss: 2.79891586, Discriminator loss: 0.74379343\n"
          ],
          "name": "stdout"
        },
        {
          "output_type": "stream",
          "text": [
            "391it [00:48,  8.12it/s]                         \n",
            "  0%|          | 1/390 [00:00<00:47,  8.18it/s]"
          ],
          "name": "stderr"
        },
        {
          "output_type": "stream",
          "text": [
            "Epoch 9 of 25\n",
            "Generator loss: 3.21711779, Discriminator loss: 0.65389174\n"
          ],
          "name": "stdout"
        },
        {
          "output_type": "stream",
          "text": [
            "391it [00:47,  8.31it/s]                         \n",
            "  0%|          | 1/390 [00:00<00:45,  8.52it/s]"
          ],
          "name": "stderr"
        },
        {
          "output_type": "stream",
          "text": [
            "Epoch 10 of 25\n",
            "Generator loss: 3.52089596, Discriminator loss: 0.60095429\n"
          ],
          "name": "stdout"
        },
        {
          "output_type": "stream",
          "text": [
            "391it [00:47,  8.18it/s]                         \n",
            "  0%|          | 1/390 [00:00<00:46,  8.43it/s]"
          ],
          "name": "stderr"
        },
        {
          "output_type": "stream",
          "text": [
            "Epoch 11 of 25\n",
            "Generator loss: 3.30000257, Discriminator loss: 0.67064899\n"
          ],
          "name": "stdout"
        },
        {
          "output_type": "stream",
          "text": [
            "391it [00:48,  8.12it/s]                         \n",
            "  0%|          | 1/390 [00:00<00:51,  7.54it/s]"
          ],
          "name": "stderr"
        },
        {
          "output_type": "stream",
          "text": [
            "Epoch 12 of 25\n",
            "Generator loss: 3.40122604, Discriminator loss: 0.66316813\n"
          ],
          "name": "stdout"
        },
        {
          "output_type": "stream",
          "text": [
            "391it [00:48,  8.01it/s]                         \n",
            "  0%|          | 1/390 [00:00<00:51,  7.52it/s]"
          ],
          "name": "stderr"
        },
        {
          "output_type": "stream",
          "text": [
            "Epoch 13 of 25\n",
            "Generator loss: 3.47379351, Discriminator loss: 0.55785030\n"
          ],
          "name": "stdout"
        },
        {
          "output_type": "stream",
          "text": [
            "391it [00:48,  8.01it/s]                         \n",
            "  0%|          | 1/390 [00:00<00:47,  8.27it/s]"
          ],
          "name": "stderr"
        },
        {
          "output_type": "stream",
          "text": [
            "Epoch 14 of 25\n",
            "Generator loss: 3.15569520, Discriminator loss: 0.68008012\n"
          ],
          "name": "stdout"
        },
        {
          "output_type": "stream",
          "text": [
            "391it [00:48,  8.08it/s]                         \n",
            "  0%|          | 1/390 [00:00<00:46,  8.29it/s]"
          ],
          "name": "stderr"
        },
        {
          "output_type": "stream",
          "text": [
            "Epoch 15 of 25\n",
            "Generator loss: 3.90320110, Discriminator loss: 0.48279926\n"
          ],
          "name": "stdout"
        },
        {
          "output_type": "stream",
          "text": [
            "391it [00:48,  8.00it/s]                         \n",
            "  0%|          | 1/390 [00:00<00:46,  8.30it/s]"
          ],
          "name": "stderr"
        },
        {
          "output_type": "stream",
          "text": [
            "Epoch 16 of 25\n",
            "Generator loss: 2.98352814, Discriminator loss: 0.68878472\n"
          ],
          "name": "stdout"
        },
        {
          "output_type": "stream",
          "text": [
            "391it [00:47,  8.17it/s]                         \n",
            "  0%|          | 1/390 [00:00<00:46,  8.36it/s]"
          ],
          "name": "stderr"
        },
        {
          "output_type": "stream",
          "text": [
            "Epoch 17 of 25\n",
            "Generator loss: 3.13412070, Discriminator loss: 0.65874863\n"
          ],
          "name": "stdout"
        },
        {
          "output_type": "stream",
          "text": [
            "391it [00:48,  8.15it/s]                         \n",
            "  0%|          | 1/390 [00:00<00:46,  8.44it/s]"
          ],
          "name": "stderr"
        },
        {
          "output_type": "stream",
          "text": [
            "Epoch 18 of 25\n",
            "Generator loss: 3.30296922, Discriminator loss: 0.61494929\n"
          ],
          "name": "stdout"
        },
        {
          "output_type": "stream",
          "text": [
            "391it [00:48,  8.06it/s]                         \n",
            "  0%|          | 1/390 [00:00<00:48,  7.99it/s]"
          ],
          "name": "stderr"
        },
        {
          "output_type": "stream",
          "text": [
            "Epoch 19 of 25\n",
            "Generator loss: 3.53474784, Discriminator loss: 0.57957840\n"
          ],
          "name": "stdout"
        },
        {
          "output_type": "stream",
          "text": [
            "391it [00:48,  8.12it/s]                         \n",
            "  0%|          | 1/390 [00:00<00:50,  7.68it/s]"
          ],
          "name": "stderr"
        },
        {
          "output_type": "stream",
          "text": [
            "Epoch 20 of 25\n",
            "Generator loss: 3.05528760, Discriminator loss: 0.63262308\n"
          ],
          "name": "stdout"
        },
        {
          "output_type": "stream",
          "text": [
            "391it [00:47,  8.18it/s]                         \n",
            "  0%|          | 1/390 [00:00<00:49,  7.88it/s]"
          ],
          "name": "stderr"
        },
        {
          "output_type": "stream",
          "text": [
            "Epoch 21 of 25\n",
            "Generator loss: 2.92559481, Discriminator loss: 0.70782107\n"
          ],
          "name": "stdout"
        },
        {
          "output_type": "stream",
          "text": [
            "391it [00:47,  8.20it/s]                         \n"
          ],
          "name": "stderr"
        },
        {
          "output_type": "stream",
          "text": [
            "Epoch 22 of 25\n",
            "Generator loss: 3.41726804, Discriminator loss: 0.56244922\n"
          ],
          "name": "stdout"
        }
      ]
    },
    {
      "cell_type": "code",
      "metadata": {
        "colab": {
          "base_uri": "https://localhost:8080/",
          "height": 282
        },
        "id": "iuAEin812msx",
        "outputId": "c21c119e-9b05-4a32-c6df-7da33ebd9bb5"
      },
      "source": [
        "plt.figure()\r\n",
        "plt.plot(losses_g, label='Generator', color='g')\r\n",
        "plt.plot(losses_d, label='Discriminator', color='r')\r\n",
        "plt.legend()"
      ],
      "execution_count": 23,
      "outputs": [
        {
          "output_type": "execute_result",
          "data": {
            "text/plain": [
              "<matplotlib.legend.Legend at 0x7f542d59f250>"
            ]
          },
          "metadata": {
            "tags": []
          },
          "execution_count": 23
        },
        {
          "output_type": "display_data",
          "data": {
            "image/png": "[encoded data removed]",
            "text/plain": [
              "<Figure size 432x288 with 1 Axes>"
            ]
          },
          "metadata": {
            "tags": []
          }
        }
      ]
    }
  ]
}